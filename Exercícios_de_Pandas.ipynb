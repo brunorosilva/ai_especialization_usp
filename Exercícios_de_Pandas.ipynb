{
  "nbformat": 4,
  "nbformat_minor": 0,
  "metadata": {
    "colab": {
      "name": "Exercícios de Pandas.ipynb",
      "provenance": [],
      "include_colab_link": true
    },
    "kernelspec": {
      "name": "python3",
      "display_name": "Python 3"
    }
  },
  "cells": [
    {
      "cell_type": "markdown",
      "metadata": {
        "id": "view-in-github",
        "colab_type": "text"
      },
      "source": [
        "<a href=\"https://colab.research.google.com/github/brunorosilva/ai_especialization_usp/blob/master/Exerc%C3%ADcios_de_Pandas.ipynb\" target=\"_parent\"><img src=\"https://colab.research.google.com/assets/colab-badge.svg\" alt=\"Open In Colab\"/></a>"
      ]
    },
    {
      "cell_type": "markdown",
      "metadata": {
        "id": "RYktZdsJGW7b",
        "colab_type": "text"
      },
      "source": [
        "# Exercícios de Python: Análise de dados\n",
        "\n",
        "Para estes exercícios vamos usar bibliotecas do pacote SciPy, especificamente a biblioteca Pandas.\n",
        "\n",
        "## 1. Preparando o Ambiente:\n",
        "\n",
        "Execute a célula abaixo para carregar os pacotes necessários para a execução do ambiente.\n",
        "Estes pacotes são a ```urllib.request``` (para recuperar recursos da internet via http), a ```io``` (para decodificar arquivos-texto via ```TextIOWrapper```), a bilioteca ```pandas``` e o pacote ```HTML```.\n",
        "\n"
      ]
    },
    {
      "cell_type": "code",
      "metadata": {
        "id": "S0daiL8s4S_m",
        "colab_type": "code",
        "colab": {}
      },
      "source": [
        "import urllib.request as request\n",
        "import io\n",
        "import pandas as pd\n",
        "from IPython.core.display import HTML"
      ],
      "execution_count": 0,
      "outputs": []
    },
    {
      "cell_type": "markdown",
      "metadata": {
        "id": "O95iEqUmHROo",
        "colab_type": "text"
      },
      "source": [
        "# 2. Dados de Fluxo Escolar da Secretaria Estadual de Educação.\n",
        "\n",
        "A célula abaixo recupera do portal de dados do Governo Estadual os dados de Fluxo Escolar (aprovação) das diretorias da Secretaria Estadual de Educação."
      ]
    },
    {
      "cell_type": "code",
      "metadata": {
        "id": "lJreq7eb4IIU",
        "colab_type": "code",
        "colab": {}
      },
      "source": [
        "aprovacao_2017=pd.read_csv(io.TextIOWrapper(request.urlopen(\"https://dados.educacao.sp.gov.br/sites/default/files/Fluxo_Escolar_por_DE_2017%20%284%29.csv\")\n",
        ", \"utf-8-sig\"))"
      ],
      "execution_count": 0,
      "outputs": []
    },
    {
      "cell_type": "markdown",
      "metadata": {
        "id": "WB9Y8cLTInuU",
        "colab_type": "text"
      },
      "source": [
        "Eis as primeiras 6 linhas da base de dados:"
      ]
    },
    {
      "cell_type": "code",
      "metadata": {
        "id": "r4_3a63CIrdS",
        "colab_type": "code",
        "outputId": "3e3399f6-0ab0-4c09-8d2a-95df198d29cc",
        "colab": {
          "base_uri": "https://localhost:8080/",
          "height": 235
        }
      },
      "source": [
        "aprovacao_2017.head(6)"
      ],
      "execution_count": 3,
      "outputs": [
        {
          "output_type": "execute_result",
          "data": {
            "text/html": [
              "<div>\n",
              "<style scoped>\n",
              "    .dataframe tbody tr th:only-of-type {\n",
              "        vertical-align: middle;\n",
              "    }\n",
              "\n",
              "    .dataframe tbody tr th {\n",
              "        vertical-align: top;\n",
              "    }\n",
              "\n",
              "    .dataframe thead th {\n",
              "        text-align: right;\n",
              "    }\n",
              "</style>\n",
              "<table border=\"1\" class=\"dataframe\">\n",
              "  <thead>\n",
              "    <tr style=\"text-align: right;\">\n",
              "      <th></th>\n",
              "      <th>Ano</th>\n",
              "      <th>CD_DIRETORIA</th>\n",
              "      <th>NM_DIRETORIA</th>\n",
              "      <th>APR_1</th>\n",
              "      <th>REP_1</th>\n",
              "      <th>ABA_1</th>\n",
              "      <th>APR_2</th>\n",
              "      <th>REP_2</th>\n",
              "      <th>ABA_2</th>\n",
              "      <th>APR_3</th>\n",
              "      <th>REP_3</th>\n",
              "      <th>ABA_3</th>\n",
              "    </tr>\n",
              "  </thead>\n",
              "  <tbody>\n",
              "    <tr>\n",
              "      <th>0</th>\n",
              "      <td>2017</td>\n",
              "      <td>10102</td>\n",
              "      <td>CENTRO</td>\n",
              "      <td>98.93</td>\n",
              "      <td>0.81</td>\n",
              "      <td>0.26</td>\n",
              "      <td>92.01</td>\n",
              "      <td>6.71</td>\n",
              "      <td>1.28</td>\n",
              "      <td>86.78</td>\n",
              "      <td>11.23</td>\n",
              "      <td>1.99</td>\n",
              "    </tr>\n",
              "    <tr>\n",
              "      <th>1</th>\n",
              "      <td>2017</td>\n",
              "      <td>20304</td>\n",
              "      <td>ITAPETININGA</td>\n",
              "      <td>98.86</td>\n",
              "      <td>1.14</td>\n",
              "      <td>0.00</td>\n",
              "      <td>96.81</td>\n",
              "      <td>2.65</td>\n",
              "      <td>0.54</td>\n",
              "      <td>92.54</td>\n",
              "      <td>6.02</td>\n",
              "      <td>1.44</td>\n",
              "    </tr>\n",
              "    <tr>\n",
              "      <th>2</th>\n",
              "      <td>2017</td>\n",
              "      <td>10703</td>\n",
              "      <td>ITAPEVI</td>\n",
              "      <td>0.00</td>\n",
              "      <td>0.00</td>\n",
              "      <td>0.00</td>\n",
              "      <td>91.47</td>\n",
              "      <td>6.92</td>\n",
              "      <td>1.61</td>\n",
              "      <td>87.79</td>\n",
              "      <td>8.57</td>\n",
              "      <td>3.64</td>\n",
              "    </tr>\n",
              "    <tr>\n",
              "      <th>3</th>\n",
              "      <td>2017</td>\n",
              "      <td>10503</td>\n",
              "      <td>ITAQUAQUECETUBA</td>\n",
              "      <td>97.99</td>\n",
              "      <td>1.77</td>\n",
              "      <td>0.24</td>\n",
              "      <td>93.72</td>\n",
              "      <td>5.46</td>\n",
              "      <td>0.82</td>\n",
              "      <td>86.63</td>\n",
              "      <td>11.46</td>\n",
              "      <td>1.91</td>\n",
              "    </tr>\n",
              "    <tr>\n",
              "      <th>4</th>\n",
              "      <td>2017</td>\n",
              "      <td>10603</td>\n",
              "      <td>SANTO ANDRE</td>\n",
              "      <td>98.48</td>\n",
              "      <td>1.44</td>\n",
              "      <td>0.08</td>\n",
              "      <td>93.35</td>\n",
              "      <td>6.14</td>\n",
              "      <td>0.51</td>\n",
              "      <td>84.97</td>\n",
              "      <td>13.64</td>\n",
              "      <td>1.39</td>\n",
              "    </tr>\n",
              "    <tr>\n",
              "      <th>5</th>\n",
              "      <td>2017</td>\n",
              "      <td>10208</td>\n",
              "      <td>LESTE 4</td>\n",
              "      <td>99.01</td>\n",
              "      <td>0.81</td>\n",
              "      <td>0.18</td>\n",
              "      <td>91.17</td>\n",
              "      <td>7.58</td>\n",
              "      <td>1.25</td>\n",
              "      <td>79.86</td>\n",
              "      <td>17.25</td>\n",
              "      <td>2.89</td>\n",
              "    </tr>\n",
              "  </tbody>\n",
              "</table>\n",
              "</div>"
            ],
            "text/plain": [
              "    Ano  CD_DIRETORIA     NM_DIRETORIA  APR_1  ...  ABA_2  APR_3  REP_3  ABA_3\n",
              "0  2017         10102           CENTRO  98.93  ...   1.28  86.78  11.23   1.99\n",
              "1  2017         20304     ITAPETININGA  98.86  ...   0.54  92.54   6.02   1.44\n",
              "2  2017         10703          ITAPEVI   0.00  ...   1.61  87.79   8.57   3.64\n",
              "3  2017         10503  ITAQUAQUECETUBA  97.99  ...   0.82  86.63  11.46   1.91\n",
              "4  2017         10603      SANTO ANDRE  98.48  ...   0.51  84.97  13.64   1.39\n",
              "5  2017         10208          LESTE 4  99.01  ...   1.25  79.86  17.25   2.89\n",
              "\n",
              "[6 rows x 12 columns]"
            ]
          },
          "metadata": {
            "tags": []
          },
          "execution_count": 3
        }
      ]
    },
    {
      "cell_type": "markdown",
      "metadata": {
        "id": "-iTH3z81IEj3",
        "colab_type": "text"
      },
      "source": [
        "A explicação para o significado destes dados está no próprio [dicionário de dados](https://dados.educacao.sp.gov.br/dicionario-fluxo-escolar) disponibilizado pela secretaria."
      ]
    },
    {
      "cell_type": "markdown",
      "metadata": {
        "id": "gyijF6KiKrgv",
        "colab_type": "text"
      },
      "source": [
        "## Conceito: Endereçando DataFrames\n",
        "\n",
        "Uma série pode ser obtida a partir da *coluna* um DataFrame usando o operador colchetes passando-se o *nome* da coluna.\n",
        "\n",
        "Exemplo:"
      ]
    },
    {
      "cell_type": "code",
      "metadata": {
        "id": "fOCD7TytLYs4",
        "colab_type": "code",
        "outputId": "d5c9a29e-0e6c-453a-ce0c-5688a5dcb12d",
        "colab": {
          "base_uri": "https://localhost:8080/",
          "height": 196
        }
      },
      "source": [
        "dataframe_exemplo_1 = pd.DataFrame([[1,2],[3,4]], index=[1,2], columns=[\"C1\", \"C2\"])\n",
        "display(HTML(\"<tt>dataframe_exemplo_1</tt>:\"))\n",
        "display(HTML(dataframe_exemplo_1.to_html()))\n",
        "display(HTML(\"<tt>dataframe_exemplo_1[\\\"C2\\\"]</tt>:\"))\n",
        "print(dataframe_exemplo_1[\"C2\"])"
      ],
      "execution_count": 4,
      "outputs": [
        {
          "output_type": "display_data",
          "data": {
            "text/html": [
              "<tt>dataframe_exemplo_1</tt>:"
            ],
            "text/plain": [
              "<IPython.core.display.HTML object>"
            ]
          },
          "metadata": {
            "tags": []
          }
        },
        {
          "output_type": "display_data",
          "data": {
            "text/html": [
              "<table border=\"1\" class=\"dataframe\">\n",
              "  <thead>\n",
              "    <tr style=\"text-align: right;\">\n",
              "      <th></th>\n",
              "      <th>C1</th>\n",
              "      <th>C2</th>\n",
              "    </tr>\n",
              "  </thead>\n",
              "  <tbody>\n",
              "    <tr>\n",
              "      <th>1</th>\n",
              "      <td>1</td>\n",
              "      <td>2</td>\n",
              "    </tr>\n",
              "    <tr>\n",
              "      <th>2</th>\n",
              "      <td>3</td>\n",
              "      <td>4</td>\n",
              "    </tr>\n",
              "  </tbody>\n",
              "</table>"
            ],
            "text/plain": [
              "<IPython.core.display.HTML object>"
            ]
          },
          "metadata": {
            "tags": []
          }
        },
        {
          "output_type": "display_data",
          "data": {
            "text/html": [
              "<tt>dataframe_exemplo_1[\"C2\"]</tt>:"
            ],
            "text/plain": [
              "<IPython.core.display.HTML object>"
            ]
          },
          "metadata": {
            "tags": []
          }
        },
        {
          "output_type": "stream",
          "text": [
            "1    2\n",
            "2    4\n",
            "Name: C2, dtype: int64\n"
          ],
          "name": "stdout"
        }
      ]
    },
    {
      "cell_type": "markdown",
      "metadata": {
        "id": "Mq6h87CTM1Ks",
        "colab_type": "text"
      },
      "source": [
        "É possível endereçar um Dataframe por linha e por coluna por meio do atributo ```loc``` e do operador colchetes.\n",
        "\n",
        "Exemplo:"
      ]
    },
    {
      "cell_type": "code",
      "metadata": {
        "id": "RI2aAYJLNEvl",
        "colab_type": "code",
        "outputId": "46b07047-f579-4afa-b0f5-a5a36c2ec88c",
        "colab": {
          "base_uri": "https://localhost:8080/",
          "height": 119
        }
      },
      "source": [
        "display(HTML(\"<tt>dataframe_exemplo_1.loc[2]</tt>:\"))\n",
        "print(dataframe_exemplo_1.loc[2])\n",
        "display(HTML(\"<tt>dataframe_exemplo_1.loc[2,\\\"C2\\\"]</tt>:\"))\n",
        "print(dataframe_exemplo_1.loc[2, \"C2\"])"
      ],
      "execution_count": 5,
      "outputs": [
        {
          "output_type": "display_data",
          "data": {
            "text/html": [
              "<tt>dataframe_exemplo_1.loc[2]</tt>:"
            ],
            "text/plain": [
              "<IPython.core.display.HTML object>"
            ]
          },
          "metadata": {
            "tags": []
          }
        },
        {
          "output_type": "stream",
          "text": [
            "C1    3\n",
            "C2    4\n",
            "Name: 2, dtype: int64\n"
          ],
          "name": "stdout"
        },
        {
          "output_type": "display_data",
          "data": {
            "text/html": [
              "<tt>dataframe_exemplo_1.loc[2,\"C2\"]</tt>:"
            ],
            "text/plain": [
              "<IPython.core.display.HTML object>"
            ]
          },
          "metadata": {
            "tags": []
          }
        },
        {
          "output_type": "stream",
          "text": [
            "4\n"
          ],
          "name": "stdout"
        }
      ]
    },
    {
      "cell_type": "markdown",
      "metadata": {
        "id": "mt3vLulaIz1W",
        "colab_type": "text"
      },
      "source": [
        "## *Questão 1*:\n",
        "\n",
        "O método ```idxmin()``` aplicado a uma *série* recupera o índice da entrada de *menor* valor. \n",
        "\n",
        "Escreva código em Python que imprime o *nome* da diretoria com a *menor* taxa de aprovação no ensino médio.\n",
        "\n",
        "*Lembrete*: Você precisa obter uma Série com a aprovação dos alunos no ensino médio.\n",
        "Use o dicionário de dados para determinar qual o nome da coluna apropriado e enderece a coluna no dataframe empregando o operador colchetes ```[]```."
      ]
    },
    {
      "cell_type": "code",
      "metadata": {
        "id": "pu4mNkc7KHyp",
        "colab_type": "code",
        "colab": {
          "base_uri": "https://localhost:8080/",
          "height": 34
        },
        "outputId": "212f1399-82ce-409d-dec5-1a534cbd8b6f"
      },
      "source": [
        "### Complete seu código\n",
        "ind = aprovacao_2017[['APR_3']].idxmin() # pegando o index de menor valor\n",
        "print(aprovacao_2017['NM_DIRETORIA'][ind].values[0])"
      ],
      "execution_count": 10,
      "outputs": [
        {
          "output_type": "stream",
          "text": [
            "SUL 3\n"
          ],
          "name": "stdout"
        }
      ]
    },
    {
      "cell_type": "markdown",
      "metadata": {
        "id": "TpNFl46eUcSm",
        "colab_type": "text"
      },
      "source": [
        "# 3. Dados de Total de Alunos Matriculados Escolar da Secretaria Estadual de Educação.\n",
        "\n",
        "\n",
        "A célula abaixo recupera do portal de dados do Governo Estadual os dados de Fluxo Escolar (aprovação) das diretorias da Secretaria Estadual de Educação.\n",
        "\n",
        "(Note que o csv original *não* tem nome das colunas, estas foram adicionadas posteriormente)."
      ]
    },
    {
      "cell_type": "code",
      "metadata": {
        "id": "HH7pMw3M9DG0",
        "colab_type": "code",
        "colab": {}
      },
      "source": [
        "alunos_matriculados=pd.read_csv(io.TextIOWrapper(request.urlopen(\"https://dados.educacao.sp.gov.br/sites/default/files/VW_ALUNOS_POR_ESCOLA_20190517_0.csv\")), header=None, delimiter=\";\").loc[:,0:24]\n",
        "alunos_matriculados.columns=[\"CDREDE\", \"DE\", \"CODMUN\", \"MUN\", \"CATEG\", \"COD_ESC\", \"TIPOESC\", \"CODVINC\", \"NOMESC\", \"ENDESC\", \"NUMESC\", \"BAIESC\", \"EMAIL\", \"FONE1\", \"ZONA\", \"ED_INFANTIL\", \"CLASSES ESPECIAIS\", \"SALA DE RECURSO\", \"ANOS INICIAIS\", \"ANOS FINAIS\", \"ENSINO MEDIO\", \"EJA FUNDAMENTAL_AI\", \"EJA ENSINO MÉDIO\", \"EJA FUNDAMENTAL_AF\", \"EJA FUNDAMENTAL_MULTI\"]"
      ],
      "execution_count": 0,
      "outputs": []
    },
    {
      "cell_type": "markdown",
      "metadata": {
        "id": "carUfD8yGykp",
        "colab_type": "text"
      },
      "source": [
        "Eis as primeiras 6 linhas desta base de dados."
      ]
    },
    {
      "cell_type": "code",
      "metadata": {
        "id": "V5ghwTdJWg4L",
        "colab_type": "code",
        "outputId": "f89af94a-4832-4ca4-c4d0-f69aa239f791",
        "colab": {
          "base_uri": "https://localhost:8080/",
          "height": 510
        }
      },
      "source": [
        "alunos_matriculados.head(6)"
      ],
      "execution_count": 12,
      "outputs": [
        {
          "output_type": "execute_result",
          "data": {
            "text/html": [
              "<div>\n",
              "<style scoped>\n",
              "    .dataframe tbody tr th:only-of-type {\n",
              "        vertical-align: middle;\n",
              "    }\n",
              "\n",
              "    .dataframe tbody tr th {\n",
              "        vertical-align: top;\n",
              "    }\n",
              "\n",
              "    .dataframe thead th {\n",
              "        text-align: right;\n",
              "    }\n",
              "</style>\n",
              "<table border=\"1\" class=\"dataframe\">\n",
              "  <thead>\n",
              "    <tr style=\"text-align: right;\">\n",
              "      <th></th>\n",
              "      <th>CDREDE</th>\n",
              "      <th>DE</th>\n",
              "      <th>CODMUN</th>\n",
              "      <th>MUN</th>\n",
              "      <th>CATEG</th>\n",
              "      <th>COD_ESC</th>\n",
              "      <th>TIPOESC</th>\n",
              "      <th>CODVINC</th>\n",
              "      <th>NOMESC</th>\n",
              "      <th>ENDESC</th>\n",
              "      <th>NUMESC</th>\n",
              "      <th>BAIESC</th>\n",
              "      <th>EMAIL</th>\n",
              "      <th>FONE1</th>\n",
              "      <th>ZONA</th>\n",
              "      <th>ED_INFANTIL</th>\n",
              "      <th>CLASSES ESPECIAIS</th>\n",
              "      <th>SALA DE RECURSO</th>\n",
              "      <th>ANOS INICIAIS</th>\n",
              "      <th>ANOS FINAIS</th>\n",
              "      <th>ENSINO MEDIO</th>\n",
              "      <th>EJA FUNDAMENTAL_AI</th>\n",
              "      <th>EJA ENSINO MÉDIO</th>\n",
              "      <th>EJA FUNDAMENTAL_AF</th>\n",
              "      <th>EJA FUNDAMENTAL_MULTI</th>\n",
              "    </tr>\n",
              "  </thead>\n",
              "  <tbody>\n",
              "    <tr>\n",
              "      <th>0</th>\n",
              "      <td>10101</td>\n",
              "      <td>NORTE 1</td>\n",
              "      <td>100</td>\n",
              "      <td>SAO PAULO</td>\n",
              "      <td>1</td>\n",
              "      <td>12</td>\n",
              "      <td>8</td>\n",
              "      <td>12</td>\n",
              "      <td>AYRES DE MOURA PROFESSOR</td>\n",
              "      <td>RUA ARTUR ORLANDO</td>\n",
              "      <td>907</td>\n",
              "      <td>VILA JAGUARA</td>\n",
              "      <td>E000012A@EDUCACAO.SP.GOV.BR</td>\n",
              "      <td>36251633.0</td>\n",
              "      <td>1</td>\n",
              "      <td>0</td>\n",
              "      <td>0</td>\n",
              "      <td>0</td>\n",
              "      <td>0</td>\n",
              "      <td>562</td>\n",
              "      <td>0</td>\n",
              "      <td>0</td>\n",
              "      <td>0</td>\n",
              "      <td>0</td>\n",
              "      <td>0</td>\n",
              "    </tr>\n",
              "    <tr>\n",
              "      <th>1</th>\n",
              "      <td>10101</td>\n",
              "      <td>NORTE 1</td>\n",
              "      <td>100</td>\n",
              "      <td>SAO PAULO</td>\n",
              "      <td>1</td>\n",
              "      <td>24</td>\n",
              "      <td>8</td>\n",
              "      <td>24</td>\n",
              "      <td>GAVIAO PEIXOTO BRIGADEIRO</td>\n",
              "      <td>MOGEIRO</td>\n",
              "      <td>710</td>\n",
              "      <td>VILA PERUS</td>\n",
              "      <td>E000024A@EDUCACAO.SP.GOV.BR</td>\n",
              "      <td>39156810.0</td>\n",
              "      <td>1</td>\n",
              "      <td>0</td>\n",
              "      <td>0</td>\n",
              "      <td>0</td>\n",
              "      <td>523</td>\n",
              "      <td>473</td>\n",
              "      <td>1073</td>\n",
              "      <td>0</td>\n",
              "      <td>0</td>\n",
              "      <td>687</td>\n",
              "      <td>0</td>\n",
              "    </tr>\n",
              "    <tr>\n",
              "      <th>2</th>\n",
              "      <td>10101</td>\n",
              "      <td>NORTE 1</td>\n",
              "      <td>100</td>\n",
              "      <td>SAO PAULO</td>\n",
              "      <td>1</td>\n",
              "      <td>36</td>\n",
              "      <td>8</td>\n",
              "      <td>36</td>\n",
              "      <td>JOAO SOLIMEO</td>\n",
              "      <td>DO SABAO</td>\n",
              "      <td>1497</td>\n",
              "      <td>JARDIM MARISTELA</td>\n",
              "      <td>E000036A@EDUCACAO.SP.GOV.BR</td>\n",
              "      <td>39228491.0</td>\n",
              "      <td>1</td>\n",
              "      <td>0</td>\n",
              "      <td>0</td>\n",
              "      <td>26</td>\n",
              "      <td>0</td>\n",
              "      <td>1204</td>\n",
              "      <td>932</td>\n",
              "      <td>0</td>\n",
              "      <td>0</td>\n",
              "      <td>0</td>\n",
              "      <td>0</td>\n",
              "    </tr>\n",
              "    <tr>\n",
              "      <th>3</th>\n",
              "      <td>10101</td>\n",
              "      <td>NORTE 1</td>\n",
              "      <td>100</td>\n",
              "      <td>SAO PAULO</td>\n",
              "      <td>1</td>\n",
              "      <td>48</td>\n",
              "      <td>8</td>\n",
              "      <td>48</td>\n",
              "      <td>WALFREDO ARANTES CALDAS PROFESSOR</td>\n",
              "      <td>DEPUTADO CANTIDIO SAMPAIO</td>\n",
              "      <td>1701</td>\n",
              "      <td>VILA SOUZA</td>\n",
              "      <td>E000048A@EDUCACAO.SP.GOV.BR</td>\n",
              "      <td>38513005.0</td>\n",
              "      <td>1</td>\n",
              "      <td>0</td>\n",
              "      <td>0</td>\n",
              "      <td>0</td>\n",
              "      <td>0</td>\n",
              "      <td>0</td>\n",
              "      <td>1140</td>\n",
              "      <td>0</td>\n",
              "      <td>0</td>\n",
              "      <td>0</td>\n",
              "      <td>0</td>\n",
              "    </tr>\n",
              "    <tr>\n",
              "      <th>4</th>\n",
              "      <td>10101</td>\n",
              "      <td>NORTE 1</td>\n",
              "      <td>100</td>\n",
              "      <td>SAO PAULO</td>\n",
              "      <td>1</td>\n",
              "      <td>59</td>\n",
              "      <td>8</td>\n",
              "      <td>59</td>\n",
              "      <td>SEBASTIAO DE OLIVEIRA GUSMAO PROFESSOR</td>\n",
              "      <td>RUA FRANCISCO GIRON</td>\n",
              "      <td>SN</td>\n",
              "      <td>MORRO DOCE</td>\n",
              "      <td>E000059A@EDUCACAO.SP.GOV.BR</td>\n",
              "      <td>39111913.0</td>\n",
              "      <td>1</td>\n",
              "      <td>0</td>\n",
              "      <td>0</td>\n",
              "      <td>0</td>\n",
              "      <td>0</td>\n",
              "      <td>0</td>\n",
              "      <td>1071</td>\n",
              "      <td>0</td>\n",
              "      <td>0</td>\n",
              "      <td>0</td>\n",
              "      <td>0</td>\n",
              "    </tr>\n",
              "    <tr>\n",
              "      <th>5</th>\n",
              "      <td>10101</td>\n",
              "      <td>NORTE 1</td>\n",
              "      <td>100</td>\n",
              "      <td>SAO PAULO</td>\n",
              "      <td>1</td>\n",
              "      <td>61</td>\n",
              "      <td>8</td>\n",
              "      <td>61</td>\n",
              "      <td>SUZANA DE CAMPOS DONA</td>\n",
              "      <td>ANTONIO MAIA</td>\n",
              "      <td>691</td>\n",
              "      <td>VILA PERUS</td>\n",
              "      <td>E000061A@EDUCACAO.SP.GOV.BR</td>\n",
              "      <td>39156049.0</td>\n",
              "      <td>1</td>\n",
              "      <td>0</td>\n",
              "      <td>0</td>\n",
              "      <td>11</td>\n",
              "      <td>896</td>\n",
              "      <td>0</td>\n",
              "      <td>0</td>\n",
              "      <td>0</td>\n",
              "      <td>0</td>\n",
              "      <td>0</td>\n",
              "      <td>0</td>\n",
              "    </tr>\n",
              "  </tbody>\n",
              "</table>\n",
              "</div>"
            ],
            "text/plain": [
              "   CDREDE       DE  ...  EJA FUNDAMENTAL_AF EJA FUNDAMENTAL_MULTI\n",
              "0   10101  NORTE 1  ...                   0                     0\n",
              "1   10101  NORTE 1  ...                 687                     0\n",
              "2   10101  NORTE 1  ...                   0                     0\n",
              "3   10101  NORTE 1  ...                   0                     0\n",
              "4   10101  NORTE 1  ...                   0                     0\n",
              "5   10101  NORTE 1  ...                   0                     0\n",
              "\n",
              "[6 rows x 25 columns]"
            ]
          },
          "metadata": {
            "tags": []
          },
          "execution_count": 12
        }
      ]
    },
    {
      "cell_type": "markdown",
      "metadata": {
        "id": "3kQK1oiLHPZP",
        "colab_type": "text"
      },
      "source": [
        "A explicação para o significado destes dados está no próprio [dicionário de dados](https://dados.educacao.sp.gov.br/dicion%C3%A1rio-de-dados-de-quantidade-de-alunos-por-tipo-de-ensino) disponibilizado pela secretaria.\n",
        "\n",
        "Nota-se que o campo ```CDREDE``` corresponde ao código do campo ```CD_DIRETORIA``` da base ```aprovacao_2017```.\n",
        "\n",
        "Os dados, no entanto, *não* estão agrupados por diretoria de ensino, mas por *escola*.\n"
      ]
    },
    {
      "cell_type": "markdown",
      "metadata": {
        "id": "H5Q220DNHszk",
        "colab_type": "text"
      },
      "source": [
        "## Conceito: Agrupando dados\n",
        "\n",
        "Em pandas é possível agrupar dados de um dataframe que tenham o mesmo valor em uma coluna através do método ```groupby()```, passando-se como parâmetro o *nome* da coluna que deve ser usada para agrupar.\n",
        "\n",
        "O resultado é um *grupo de dataframes*.\n",
        "Este grupo pode ser explorado elemento-a-elemento, ou *aglutinado*.\n",
        "\n",
        "A aglutinação vai produzir um novo DataFrame no qual os *índices* serão os valores dos campos da coluna escolhida para fazer o agrupamento e as colunas serão o resultado de alguma operação aglutinadora sobre as colunas de cada agrupamento (algumas colunas podem ser descartadas neste processo).\n",
        "\n",
        "O exemplo a seguir mostra o uso da operação aglutinadora ```sum``` sobre um dataframe de produtos para determinar a quantidade de produtos de cada cor."
      ]
    },
    {
      "cell_type": "code",
      "metadata": {
        "id": "7g3q-IGoIL1a",
        "colab_type": "code",
        "outputId": "8b8e9979-ad11-4148-e81f-cf0ebfc2c90b",
        "colab": {
          "base_uri": "https://localhost:8080/",
          "height": 722
        }
      },
      "source": [
        "dataframe_exemplo_2 = pd.DataFrame({\"Produto\": [\"bola\", \"bicicleta\", \"patinete\", \"pião\", \"bambolê\"], \"Cor\": [\"branco\", \"vermelho\", \"verde\", \"branco\", \"vermelho\"], \"Quantidade\": [10, 15, 10, 20,30]})\n",
        "display(HTML(\"<tt>dataframe_exemplo_2</tt>:\"))\n",
        "display(HTML(dataframe_exemplo_2.to_html()))\n",
        "dataframe_exemplo_2_por_cor = dataframe_exemplo_2.groupby(\"Cor\");\n",
        "print(\"Resultados de dataframe_exemplo_2.groupby('Cor'):\")\n",
        "for name, d in dataframe_exemplo_2_por_cor:\n",
        "  print(name + \":\")\n",
        "  display(HTML(d.to_html()))\n",
        "print(\"Resultados de dataframe_exemplo_2.groupby('Cor').sum():\")\n",
        "display(HTML(dataframe_exemplo_2_por_cor.sum().to_html()))"
      ],
      "execution_count": 0,
      "outputs": [
        {
          "output_type": "display_data",
          "data": {
            "text/html": [
              "<tt>dataframe_exemplo_2</tt>:"
            ],
            "text/plain": [
              "<IPython.core.display.HTML object>"
            ]
          },
          "metadata": {
            "tags": []
          }
        },
        {
          "output_type": "display_data",
          "data": {
            "text/html": [
              "<table border=\"1\" class=\"dataframe\">\n",
              "  <thead>\n",
              "    <tr style=\"text-align: right;\">\n",
              "      <th></th>\n",
              "      <th>Produto</th>\n",
              "      <th>Cor</th>\n",
              "      <th>Quantidade</th>\n",
              "    </tr>\n",
              "  </thead>\n",
              "  <tbody>\n",
              "    <tr>\n",
              "      <th>0</th>\n",
              "      <td>bola</td>\n",
              "      <td>branco</td>\n",
              "      <td>10</td>\n",
              "    </tr>\n",
              "    <tr>\n",
              "      <th>1</th>\n",
              "      <td>bicicleta</td>\n",
              "      <td>vermelho</td>\n",
              "      <td>15</td>\n",
              "    </tr>\n",
              "    <tr>\n",
              "      <th>2</th>\n",
              "      <td>patinete</td>\n",
              "      <td>verde</td>\n",
              "      <td>10</td>\n",
              "    </tr>\n",
              "    <tr>\n",
              "      <th>3</th>\n",
              "      <td>pião</td>\n",
              "      <td>branco</td>\n",
              "      <td>20</td>\n",
              "    </tr>\n",
              "    <tr>\n",
              "      <th>4</th>\n",
              "      <td>bambolê</td>\n",
              "      <td>vermelho</td>\n",
              "      <td>30</td>\n",
              "    </tr>\n",
              "  </tbody>\n",
              "</table>"
            ],
            "text/plain": [
              "<IPython.core.display.HTML object>"
            ]
          },
          "metadata": {
            "tags": []
          }
        },
        {
          "output_type": "stream",
          "text": [
            "Resultados de dataframe_exemplo_2.groupby('Cor'):\n",
            "branco:\n"
          ],
          "name": "stdout"
        },
        {
          "output_type": "display_data",
          "data": {
            "text/html": [
              "<table border=\"1\" class=\"dataframe\">\n",
              "  <thead>\n",
              "    <tr style=\"text-align: right;\">\n",
              "      <th></th>\n",
              "      <th>Produto</th>\n",
              "      <th>Cor</th>\n",
              "      <th>Quantidade</th>\n",
              "    </tr>\n",
              "  </thead>\n",
              "  <tbody>\n",
              "    <tr>\n",
              "      <th>0</th>\n",
              "      <td>bola</td>\n",
              "      <td>branco</td>\n",
              "      <td>10</td>\n",
              "    </tr>\n",
              "    <tr>\n",
              "      <th>3</th>\n",
              "      <td>pião</td>\n",
              "      <td>branco</td>\n",
              "      <td>20</td>\n",
              "    </tr>\n",
              "  </tbody>\n",
              "</table>"
            ],
            "text/plain": [
              "<IPython.core.display.HTML object>"
            ]
          },
          "metadata": {
            "tags": []
          }
        },
        {
          "output_type": "stream",
          "text": [
            "verde:\n"
          ],
          "name": "stdout"
        },
        {
          "output_type": "display_data",
          "data": {
            "text/html": [
              "<table border=\"1\" class=\"dataframe\">\n",
              "  <thead>\n",
              "    <tr style=\"text-align: right;\">\n",
              "      <th></th>\n",
              "      <th>Produto</th>\n",
              "      <th>Cor</th>\n",
              "      <th>Quantidade</th>\n",
              "    </tr>\n",
              "  </thead>\n",
              "  <tbody>\n",
              "    <tr>\n",
              "      <th>2</th>\n",
              "      <td>patinete</td>\n",
              "      <td>verde</td>\n",
              "      <td>10</td>\n",
              "    </tr>\n",
              "  </tbody>\n",
              "</table>"
            ],
            "text/plain": [
              "<IPython.core.display.HTML object>"
            ]
          },
          "metadata": {
            "tags": []
          }
        },
        {
          "output_type": "stream",
          "text": [
            "vermelho:\n"
          ],
          "name": "stdout"
        },
        {
          "output_type": "display_data",
          "data": {
            "text/html": [
              "<table border=\"1\" class=\"dataframe\">\n",
              "  <thead>\n",
              "    <tr style=\"text-align: right;\">\n",
              "      <th></th>\n",
              "      <th>Produto</th>\n",
              "      <th>Cor</th>\n",
              "      <th>Quantidade</th>\n",
              "    </tr>\n",
              "  </thead>\n",
              "  <tbody>\n",
              "    <tr>\n",
              "      <th>1</th>\n",
              "      <td>bicicleta</td>\n",
              "      <td>vermelho</td>\n",
              "      <td>15</td>\n",
              "    </tr>\n",
              "    <tr>\n",
              "      <th>4</th>\n",
              "      <td>bambolê</td>\n",
              "      <td>vermelho</td>\n",
              "      <td>30</td>\n",
              "    </tr>\n",
              "  </tbody>\n",
              "</table>"
            ],
            "text/plain": [
              "<IPython.core.display.HTML object>"
            ]
          },
          "metadata": {
            "tags": []
          }
        },
        {
          "output_type": "stream",
          "text": [
            "Resultados de dataframe_exemplo_2.groupby('Cor').sum():\n"
          ],
          "name": "stdout"
        },
        {
          "output_type": "display_data",
          "data": {
            "text/html": [
              "<table border=\"1\" class=\"dataframe\">\n",
              "  <thead>\n",
              "    <tr style=\"text-align: right;\">\n",
              "      <th></th>\n",
              "      <th>Quantidade</th>\n",
              "    </tr>\n",
              "    <tr>\n",
              "      <th>Cor</th>\n",
              "      <th></th>\n",
              "    </tr>\n",
              "  </thead>\n",
              "  <tbody>\n",
              "    <tr>\n",
              "      <th>branco</th>\n",
              "      <td>30</td>\n",
              "    </tr>\n",
              "    <tr>\n",
              "      <th>verde</th>\n",
              "      <td>10</td>\n",
              "    </tr>\n",
              "    <tr>\n",
              "      <th>vermelho</th>\n",
              "      <td>45</td>\n",
              "    </tr>\n",
              "  </tbody>\n",
              "</table>"
            ],
            "text/plain": [
              "<IPython.core.display.HTML object>"
            ]
          },
          "metadata": {
            "tags": []
          }
        }
      ]
    },
    {
      "cell_type": "markdown",
      "metadata": {
        "id": "lLEj9bCGLV-B",
        "colab_type": "text"
      },
      "source": [
        "## *Questão 2*:\n",
        "\n",
        "Crie a partir da base ```alunos_matriculados``` um novo dataframe chamado ```total_alunos_por_diretoria``` que contém o *total* de alunos em cada diretoria *indexado* pelo código de diretoria (o campo ```CDREDE```).\n",
        "\n",
        "Depois escreva um código em python que mostra o *código* da diretoria com o *maior* número de alunos *no ensino médio*."
      ]
    },
    {
      "cell_type": "code",
      "metadata": {
        "id": "2LdqQ8J-L9-8",
        "colab_type": "code",
        "colab": {
          "base_uri": "https://localhost:8080/",
          "height": 34
        },
        "outputId": "aa2d46ae-e169-43f6-f6ef-b929caa3dd8b"
      },
      "source": [
        "# Complete seu código\n",
        "# não foi descrito quais alunos devem estar nesse novo dataset, então só vou\n",
        "# adicionar os alunos de ensino médio\n",
        "total_alunos_por_diretoria = alunos_matriculados.groupby('CDREDE').agg({\n",
        "    'ENSINO MEDIO':'sum'\n",
        "})\n",
        "print(total_alunos_por_diretoria.idxmax()[0])"
      ],
      "execution_count": 20,
      "outputs": [
        {
          "output_type": "stream",
          "text": [
            "10101\n"
          ],
          "name": "stdout"
        }
      ]
    },
    {
      "cell_type": "markdown",
      "metadata": {
        "id": "RWNliEAJMWUq",
        "colab_type": "text"
      },
      "source": [
        "# 4 - Investigando relação entre dados\n",
        "\n",
        "Postula-se a seguinte hipótese: \"Quanto maior a quantidade de alunos gerenciada, pior o desempenho dos mesmos.\"\n",
        "\n",
        "Para investigá-la, vamos vincular a base ```aprovacao_2017``` e a ```total_alunos_por_diretoria``` criada na questão 2\n",
        "\n",
        "## Conceito: Mesclando bases de dados\n",
        "\n",
        "É possível vincular duas bases de dados que compartilhem de um mesmo campo (ou índice) através da função *pd.merge*.\n",
        "\n",
        "Exemplo:"
      ]
    },
    {
      "cell_type": "code",
      "metadata": {
        "id": "6eRcl8WqM8oW",
        "colab_type": "code",
        "outputId": "1b8bd736-1ede-4bf9-a051-4a0df34b550c",
        "colab": {
          "base_uri": "https://localhost:8080/",
          "height": 574
        }
      },
      "source": [
        "dataframe_exemplo_3 = pd.DataFrame({\"Produto\": [\"bola\", \"bicicleta\", \"patinete\", \"pião\", \"bambolê\"], \"COD_Cor\": [1, 2, 3, 1, 2], \"Quantidade\": [10, 15, 10, 20,30]})\n",
        "dataframe_exemplo_4 = pd.DataFrame({\"COD_Cor\": [1, 2, 3], \"Nome_Cor\": [\"branco\", \"vermelho\", \"azul\"]})\n",
        "display(HTML(\"<tt>dataframe_exemplo_3</tt>:\"))\n",
        "display(HTML(dataframe_exemplo_3.to_html()))\n",
        "display(HTML(\"<tt>dataframe_exemplo_4</tt>:\"))\n",
        "display(HTML(dataframe_exemplo_4.to_html()))\n",
        "print(\"Resultados de pd.merge(dataframe_exemplo_3, dataframe_exemplo_4):\")\n",
        "display(HTML(pd.merge(dataframe_exemplo_3, dataframe_exemplo_4).to_html()))"
      ],
      "execution_count": 0,
      "outputs": [
        {
          "output_type": "display_data",
          "data": {
            "text/html": [
              "<tt>dataframe_exemplo_3</tt>:"
            ],
            "text/plain": [
              "<IPython.core.display.HTML object>"
            ]
          },
          "metadata": {
            "tags": []
          }
        },
        {
          "output_type": "display_data",
          "data": {
            "text/html": [
              "<table border=\"1\" class=\"dataframe\">\n",
              "  <thead>\n",
              "    <tr style=\"text-align: right;\">\n",
              "      <th></th>\n",
              "      <th>Produto</th>\n",
              "      <th>COD_Cor</th>\n",
              "      <th>Quantidade</th>\n",
              "    </tr>\n",
              "  </thead>\n",
              "  <tbody>\n",
              "    <tr>\n",
              "      <th>0</th>\n",
              "      <td>bola</td>\n",
              "      <td>1</td>\n",
              "      <td>10</td>\n",
              "    </tr>\n",
              "    <tr>\n",
              "      <th>1</th>\n",
              "      <td>bicicleta</td>\n",
              "      <td>2</td>\n",
              "      <td>15</td>\n",
              "    </tr>\n",
              "    <tr>\n",
              "      <th>2</th>\n",
              "      <td>patinete</td>\n",
              "      <td>3</td>\n",
              "      <td>10</td>\n",
              "    </tr>\n",
              "    <tr>\n",
              "      <th>3</th>\n",
              "      <td>pião</td>\n",
              "      <td>1</td>\n",
              "      <td>20</td>\n",
              "    </tr>\n",
              "    <tr>\n",
              "      <th>4</th>\n",
              "      <td>bambolê</td>\n",
              "      <td>2</td>\n",
              "      <td>30</td>\n",
              "    </tr>\n",
              "  </tbody>\n",
              "</table>"
            ],
            "text/plain": [
              "<IPython.core.display.HTML object>"
            ]
          },
          "metadata": {
            "tags": []
          }
        },
        {
          "output_type": "display_data",
          "data": {
            "text/html": [
              "<tt>dataframe_exemplo_4</tt>:"
            ],
            "text/plain": [
              "<IPython.core.display.HTML object>"
            ]
          },
          "metadata": {
            "tags": []
          }
        },
        {
          "output_type": "display_data",
          "data": {
            "text/html": [
              "<table border=\"1\" class=\"dataframe\">\n",
              "  <thead>\n",
              "    <tr style=\"text-align: right;\">\n",
              "      <th></th>\n",
              "      <th>COD_Cor</th>\n",
              "      <th>Nome_Cor</th>\n",
              "    </tr>\n",
              "  </thead>\n",
              "  <tbody>\n",
              "    <tr>\n",
              "      <th>0</th>\n",
              "      <td>1</td>\n",
              "      <td>branco</td>\n",
              "    </tr>\n",
              "    <tr>\n",
              "      <th>1</th>\n",
              "      <td>2</td>\n",
              "      <td>vermelho</td>\n",
              "    </tr>\n",
              "    <tr>\n",
              "      <th>2</th>\n",
              "      <td>3</td>\n",
              "      <td>azul</td>\n",
              "    </tr>\n",
              "  </tbody>\n",
              "</table>"
            ],
            "text/plain": [
              "<IPython.core.display.HTML object>"
            ]
          },
          "metadata": {
            "tags": []
          }
        },
        {
          "output_type": "stream",
          "text": [
            "Resultados de pd.merge(dataframe_exemplo_3, dataframe_exemplo_4):\n"
          ],
          "name": "stdout"
        },
        {
          "output_type": "display_data",
          "data": {
            "text/html": [
              "<table border=\"1\" class=\"dataframe\">\n",
              "  <thead>\n",
              "    <tr style=\"text-align: right;\">\n",
              "      <th></th>\n",
              "      <th>Produto</th>\n",
              "      <th>COD_Cor</th>\n",
              "      <th>Quantidade</th>\n",
              "      <th>Nome_Cor</th>\n",
              "    </tr>\n",
              "  </thead>\n",
              "  <tbody>\n",
              "    <tr>\n",
              "      <th>0</th>\n",
              "      <td>bola</td>\n",
              "      <td>1</td>\n",
              "      <td>10</td>\n",
              "      <td>branco</td>\n",
              "    </tr>\n",
              "    <tr>\n",
              "      <th>1</th>\n",
              "      <td>pião</td>\n",
              "      <td>1</td>\n",
              "      <td>20</td>\n",
              "      <td>branco</td>\n",
              "    </tr>\n",
              "    <tr>\n",
              "      <th>2</th>\n",
              "      <td>bicicleta</td>\n",
              "      <td>2</td>\n",
              "      <td>15</td>\n",
              "      <td>vermelho</td>\n",
              "    </tr>\n",
              "    <tr>\n",
              "      <th>3</th>\n",
              "      <td>bambolê</td>\n",
              "      <td>2</td>\n",
              "      <td>30</td>\n",
              "      <td>vermelho</td>\n",
              "    </tr>\n",
              "    <tr>\n",
              "      <th>4</th>\n",
              "      <td>patinete</td>\n",
              "      <td>3</td>\n",
              "      <td>10</td>\n",
              "      <td>azul</td>\n",
              "    </tr>\n",
              "  </tbody>\n",
              "</table>"
            ],
            "text/plain": [
              "<IPython.core.display.HTML object>"
            ]
          },
          "metadata": {
            "tags": []
          }
        }
      ]
    },
    {
      "cell_type": "markdown",
      "metadata": {
        "id": "HHYuRdHZOOJ5",
        "colab_type": "text"
      },
      "source": [
        "Este exemplo é trivial por que existe apenas *uma* coluna com nome comum entre as duas bases de dados.\n",
        "\n",
        "Caso exista mais de uma coluna com o nome em comum, ou as colunas de interesse tenham nomes distintos nas duas bases de dados, é necessário passar parâmetros opcionais:\n",
        "\n",
        "- ```on```: Nome da coluna, presente em *ambas* as bases, que deve ser usada para fazer o casamento dos dados.\n",
        "\n",
        "- ```left_on```: Nome da coluna na primeira base de dados que é usada para fazer o casamento dos dados.\n",
        "\n",
        "- ```right_on```: Nome da coluna na segunda base de dados que é usada para fazer o casamento dos dados.\n",
        "\n",
        "- ```left_index```: ```True``` se o *índice* da primeira base (ou série) é o que deve ser usado para fazer o casamento. ```False``` caso contrário.\n",
        "\n",
        "- ```right_index```: ```True``` se o *índice* da segunda base (ou série) é o que deve ser usado para fazer o casamento. ```False``` caso contrário.\n",
        "\n",
        "Eis uma versão do exemplo acima com o casamento entre uma coluna e um índice:\n"
      ]
    },
    {
      "cell_type": "code",
      "metadata": {
        "id": "CJr8cg5rPP-f",
        "colab_type": "code",
        "outputId": "160c7ea5-35cc-4b5a-b58b-e29c2293b736",
        "colab": {
          "base_uri": "https://localhost:8080/",
          "height": 293
        }
      },
      "source": [
        "serie_exemplo_5 = pd.Series([\"branco\", \"vermelho\", \"azul\"], index=[1,2,3], name = \"Nome_Cor\")\n",
        "print(serie_exemplo_5)\n",
        "print(\"Resultados de pd.merge(dataframe_exemplo_3, serie_exemplo_5, left_on='COD_Cor', right_index=True):\")\n",
        "display(HTML(pd.merge(dataframe_exemplo_3, serie_exemplo_5, left_on='COD_Cor', right_index=True).to_html()))"
      ],
      "execution_count": 0,
      "outputs": [
        {
          "output_type": "stream",
          "text": [
            "1      branco\n",
            "2    vermelho\n",
            "3        azul\n",
            "Name: Nome_Cor, dtype: object\n",
            "Resultados de pd.merge(dataframe_exemplo_3, serie_exemplo_5, left_on='COD_Cor', right_index=True):\n"
          ],
          "name": "stdout"
        },
        {
          "output_type": "display_data",
          "data": {
            "text/html": [
              "<table border=\"1\" class=\"dataframe\">\n",
              "  <thead>\n",
              "    <tr style=\"text-align: right;\">\n",
              "      <th></th>\n",
              "      <th>Produto</th>\n",
              "      <th>COD_Cor</th>\n",
              "      <th>Quantidade</th>\n",
              "      <th>Nome_Cor</th>\n",
              "    </tr>\n",
              "  </thead>\n",
              "  <tbody>\n",
              "    <tr>\n",
              "      <th>0</th>\n",
              "      <td>bola</td>\n",
              "      <td>1</td>\n",
              "      <td>10</td>\n",
              "      <td>branco</td>\n",
              "    </tr>\n",
              "    <tr>\n",
              "      <th>3</th>\n",
              "      <td>pião</td>\n",
              "      <td>1</td>\n",
              "      <td>20</td>\n",
              "      <td>branco</td>\n",
              "    </tr>\n",
              "    <tr>\n",
              "      <th>1</th>\n",
              "      <td>bicicleta</td>\n",
              "      <td>2</td>\n",
              "      <td>15</td>\n",
              "      <td>vermelho</td>\n",
              "    </tr>\n",
              "    <tr>\n",
              "      <th>4</th>\n",
              "      <td>bambolê</td>\n",
              "      <td>2</td>\n",
              "      <td>30</td>\n",
              "      <td>vermelho</td>\n",
              "    </tr>\n",
              "    <tr>\n",
              "      <th>2</th>\n",
              "      <td>patinete</td>\n",
              "      <td>3</td>\n",
              "      <td>10</td>\n",
              "      <td>azul</td>\n",
              "    </tr>\n",
              "  </tbody>\n",
              "</table>"
            ],
            "text/plain": [
              "<IPython.core.display.HTML object>"
            ]
          },
          "metadata": {
            "tags": []
          }
        }
      ]
    },
    {
      "cell_type": "markdown",
      "metadata": {
        "id": "z6y0kd0ePuvY",
        "colab_type": "text"
      },
      "source": [
        "\n",
        "## *Questão 3*:\n",
        "\n",
        "Una as bases ```aprovacao_2017``` e ```total_alunos_por_diretoria``` que você criou na questão 2.\n",
        "Use o campo ```CD_DIRETORIA``` da base ```aprovacao_2017```.\n",
        "\n",
        "Atribua o resultado à base ```total_alunos_e_desempenho_por_diretoria```"
      ]
    },
    {
      "cell_type": "code",
      "metadata": {
        "id": "nFrhPImvQo6v",
        "colab_type": "code",
        "colab": {
          "base_uri": "https://localhost:8080/",
          "height": 419
        },
        "outputId": "33ac3be6-6126-450b-aa40-2b98b39ac136"
      },
      "source": [
        "total_alunos_e_desempenho_por_diretoria = pd.merge(aprovacao_2017, total_alunos_por_diretoria, left_on=\"CD_DIRETORIA\", right_index=True)\n",
        "total_alunos_e_desempenho_por_diretoria"
      ],
      "execution_count": 25,
      "outputs": [
        {
          "output_type": "execute_result",
          "data": {
            "text/html": [
              "<div>\n",
              "<style scoped>\n",
              "    .dataframe tbody tr th:only-of-type {\n",
              "        vertical-align: middle;\n",
              "    }\n",
              "\n",
              "    .dataframe tbody tr th {\n",
              "        vertical-align: top;\n",
              "    }\n",
              "\n",
              "    .dataframe thead th {\n",
              "        text-align: right;\n",
              "    }\n",
              "</style>\n",
              "<table border=\"1\" class=\"dataframe\">\n",
              "  <thead>\n",
              "    <tr style=\"text-align: right;\">\n",
              "      <th></th>\n",
              "      <th>Ano</th>\n",
              "      <th>CD_DIRETORIA</th>\n",
              "      <th>NM_DIRETORIA</th>\n",
              "      <th>APR_1</th>\n",
              "      <th>REP_1</th>\n",
              "      <th>ABA_1</th>\n",
              "      <th>APR_2</th>\n",
              "      <th>REP_2</th>\n",
              "      <th>ABA_2</th>\n",
              "      <th>APR_3</th>\n",
              "      <th>REP_3</th>\n",
              "      <th>ABA_3</th>\n",
              "      <th>ENSINO MEDIO</th>\n",
              "    </tr>\n",
              "  </thead>\n",
              "  <tbody>\n",
              "    <tr>\n",
              "      <th>0</th>\n",
              "      <td>2017</td>\n",
              "      <td>10102</td>\n",
              "      <td>CENTRO</td>\n",
              "      <td>98.93</td>\n",
              "      <td>0.81</td>\n",
              "      <td>0.26</td>\n",
              "      <td>92.01</td>\n",
              "      <td>6.71</td>\n",
              "      <td>1.28</td>\n",
              "      <td>86.78</td>\n",
              "      <td>11.23</td>\n",
              "      <td>1.99</td>\n",
              "      <td>13152</td>\n",
              "    </tr>\n",
              "    <tr>\n",
              "      <th>1</th>\n",
              "      <td>2017</td>\n",
              "      <td>20304</td>\n",
              "      <td>ITAPETININGA</td>\n",
              "      <td>98.86</td>\n",
              "      <td>1.14</td>\n",
              "      <td>0.00</td>\n",
              "      <td>96.81</td>\n",
              "      <td>2.65</td>\n",
              "      <td>0.54</td>\n",
              "      <td>92.54</td>\n",
              "      <td>6.02</td>\n",
              "      <td>1.44</td>\n",
              "      <td>12301</td>\n",
              "    </tr>\n",
              "    <tr>\n",
              "      <th>2</th>\n",
              "      <td>2017</td>\n",
              "      <td>10703</td>\n",
              "      <td>ITAPEVI</td>\n",
              "      <td>0.00</td>\n",
              "      <td>0.00</td>\n",
              "      <td>0.00</td>\n",
              "      <td>91.47</td>\n",
              "      <td>6.92</td>\n",
              "      <td>1.61</td>\n",
              "      <td>87.79</td>\n",
              "      <td>8.57</td>\n",
              "      <td>3.64</td>\n",
              "      <td>22721</td>\n",
              "    </tr>\n",
              "    <tr>\n",
              "      <th>3</th>\n",
              "      <td>2017</td>\n",
              "      <td>10503</td>\n",
              "      <td>ITAQUAQUECETUBA</td>\n",
              "      <td>97.99</td>\n",
              "      <td>1.77</td>\n",
              "      <td>0.24</td>\n",
              "      <td>93.72</td>\n",
              "      <td>5.46</td>\n",
              "      <td>0.82</td>\n",
              "      <td>86.63</td>\n",
              "      <td>11.46</td>\n",
              "      <td>1.91</td>\n",
              "      <td>18862</td>\n",
              "    </tr>\n",
              "    <tr>\n",
              "      <th>4</th>\n",
              "      <td>2017</td>\n",
              "      <td>10603</td>\n",
              "      <td>SANTO ANDRE</td>\n",
              "      <td>98.48</td>\n",
              "      <td>1.44</td>\n",
              "      <td>0.08</td>\n",
              "      <td>93.35</td>\n",
              "      <td>6.14</td>\n",
              "      <td>0.51</td>\n",
              "      <td>84.97</td>\n",
              "      <td>13.64</td>\n",
              "      <td>1.39</td>\n",
              "      <td>18516</td>\n",
              "    </tr>\n",
              "    <tr>\n",
              "      <th>...</th>\n",
              "      <td>...</td>\n",
              "      <td>...</td>\n",
              "      <td>...</td>\n",
              "      <td>...</td>\n",
              "      <td>...</td>\n",
              "      <td>...</td>\n",
              "      <td>...</td>\n",
              "      <td>...</td>\n",
              "      <td>...</td>\n",
              "      <td>...</td>\n",
              "      <td>...</td>\n",
              "      <td>...</td>\n",
              "      <td>...</td>\n",
              "    </tr>\n",
              "    <tr>\n",
              "      <th>86</th>\n",
              "      <td>2017</td>\n",
              "      <td>20701</td>\n",
              "      <td>CATANDUVA</td>\n",
              "      <td>0.00</td>\n",
              "      <td>0.00</td>\n",
              "      <td>0.00</td>\n",
              "      <td>97.23</td>\n",
              "      <td>2.28</td>\n",
              "      <td>0.49</td>\n",
              "      <td>93.66</td>\n",
              "      <td>4.48</td>\n",
              "      <td>1.86</td>\n",
              "      <td>6679</td>\n",
              "    </tr>\n",
              "    <tr>\n",
              "      <th>87</th>\n",
              "      <td>2017</td>\n",
              "      <td>20801</td>\n",
              "      <td>ANDRADINA</td>\n",
              "      <td>0.00</td>\n",
              "      <td>0.00</td>\n",
              "      <td>0.00</td>\n",
              "      <td>97.05</td>\n",
              "      <td>2.32</td>\n",
              "      <td>0.63</td>\n",
              "      <td>94.36</td>\n",
              "      <td>4.07</td>\n",
              "      <td>1.57</td>\n",
              "      <td>4594</td>\n",
              "    </tr>\n",
              "    <tr>\n",
              "      <th>88</th>\n",
              "      <td>2017</td>\n",
              "      <td>20901</td>\n",
              "      <td>ADAMANTINA</td>\n",
              "      <td>0.00</td>\n",
              "      <td>0.00</td>\n",
              "      <td>0.00</td>\n",
              "      <td>93.84</td>\n",
              "      <td>5.81</td>\n",
              "      <td>0.35</td>\n",
              "      <td>89.84</td>\n",
              "      <td>9.01</td>\n",
              "      <td>1.15</td>\n",
              "      <td>6414</td>\n",
              "    </tr>\n",
              "    <tr>\n",
              "      <th>89</th>\n",
              "      <td>2017</td>\n",
              "      <td>20409</td>\n",
              "      <td>MOGI MIRIM</td>\n",
              "      <td>98.34</td>\n",
              "      <td>1.45</td>\n",
              "      <td>0.21</td>\n",
              "      <td>93.47</td>\n",
              "      <td>4.51</td>\n",
              "      <td>2.02</td>\n",
              "      <td>88.00</td>\n",
              "      <td>6.50</td>\n",
              "      <td>5.50</td>\n",
              "      <td>15832</td>\n",
              "    </tr>\n",
              "    <tr>\n",
              "      <th>90</th>\n",
              "      <td>2017</td>\n",
              "      <td>20509</td>\n",
              "      <td>SAO CARLOS</td>\n",
              "      <td>99.71</td>\n",
              "      <td>0.29</td>\n",
              "      <td>0.00</td>\n",
              "      <td>98.33</td>\n",
              "      <td>1.26</td>\n",
              "      <td>0.41</td>\n",
              "      <td>93.54</td>\n",
              "      <td>5.98</td>\n",
              "      <td>0.48</td>\n",
              "      <td>9032</td>\n",
              "    </tr>\n",
              "  </tbody>\n",
              "</table>\n",
              "<p>91 rows × 13 columns</p>\n",
              "</div>"
            ],
            "text/plain": [
              "     Ano  CD_DIRETORIA     NM_DIRETORIA  ...  REP_3  ABA_3  ENSINO MEDIO\n",
              "0   2017         10102           CENTRO  ...  11.23   1.99         13152\n",
              "1   2017         20304     ITAPETININGA  ...   6.02   1.44         12301\n",
              "2   2017         10703          ITAPEVI  ...   8.57   3.64         22721\n",
              "3   2017         10503  ITAQUAQUECETUBA  ...  11.46   1.91         18862\n",
              "4   2017         10603      SANTO ANDRE  ...  13.64   1.39         18516\n",
              "..   ...           ...              ...  ...    ...    ...           ...\n",
              "86  2017         20701        CATANDUVA  ...   4.48   1.86          6679\n",
              "87  2017         20801        ANDRADINA  ...   4.07   1.57          4594\n",
              "88  2017         20901       ADAMANTINA  ...   9.01   1.15          6414\n",
              "89  2017         20409       MOGI MIRIM  ...   6.50   5.50         15832\n",
              "90  2017         20509       SAO CARLOS  ...   5.98   0.48          9032\n",
              "\n",
              "[91 rows x 13 columns]"
            ]
          },
          "metadata": {
            "tags": []
          },
          "execution_count": 25
        }
      ]
    },
    {
      "cell_type": "markdown",
      "metadata": {
        "id": "XY9ye5WuQpm3",
        "colab_type": "text"
      },
      "source": [
        "Se o seu código foi bem executado, a instrução a seguir deve mostrar um gráfico de pontos com total de alunos no ensino médio por diretoria e o índice de aprovação."
      ]
    },
    {
      "cell_type": "code",
      "metadata": {
        "id": "WWviZBBmQ1Ag",
        "colab_type": "code",
        "colab": {
          "base_uri": "https://localhost:8080/",
          "height": 296
        },
        "outputId": "54f767c8-1848-4a7d-ea26-8c894a431c5f"
      },
      "source": [
        "total_alunos_e_desempenho_por_diretoria.plot.scatter(x=\"ENSINO MEDIO\", y=\"APR_3\")"
      ],
      "execution_count": 26,
      "outputs": [
        {
          "output_type": "execute_result",
          "data": {
            "text/plain": [
              "<matplotlib.axes._subplots.AxesSubplot at 0x7f328d117940>"
            ]
          },
          "metadata": {
            "tags": []
          },
          "execution_count": 26
        },
        {
          "output_type": "display_data",
          "data": {
            "image/png": "[encoded data removed]",
            "text/plain": [
              "<Figure size 432x288 with 1 Axes>"
            ]
          },
          "metadata": {
            "tags": [],
            "needs_background": "light"
          }
        }
      ]
    }
  ]
}