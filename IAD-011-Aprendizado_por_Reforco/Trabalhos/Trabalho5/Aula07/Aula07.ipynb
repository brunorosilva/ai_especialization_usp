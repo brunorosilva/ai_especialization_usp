{
  "nbformat": 4,
  "nbformat_minor": 0,
  "metadata": {
    "coursera": {
      "course_slug": "sample-based-learning-methods",
      "launcher_item_id": "biN1L"
    },
    "kernelspec": {
      "display_name": "Python 3",
      "language": "python",
      "name": "python3"
    },
    "language_info": {
      "codemirror_mode": {
        "name": "ipython",
        "version": 3
      },
      "file_extension": ".py",
      "mimetype": "text/x-python",
      "name": "python",
      "nbconvert_exporter": "python",
      "pygments_lexer": "ipython3",
      "version": "3.7.1"
    },
    "colab": {
      "name": "Aula07.ipynb",
      "provenance": [],
      "collapsed_sections": []
    }
  },
  "cells": [
    {
      "cell_type": "markdown",
      "metadata": {
        "deletable": false,
        "editable": false,
        "nbgrader": {
          "cell_type": "markdown",
          "checksum": "e539f7fea2ba568c7a9a8292b0602a0a",
          "grade": false,
          "grade_id": "cell-4292e6ff11f3c291",
          "locked": true,
          "schema_version": 3,
          "solution": false
        },
        "id": "kYCOOIlBwAWz"
      },
      "source": [
        "# Aula07 - Q-Learning e Sarsa"
      ]
    },
    {
      "cell_type": "markdown",
      "metadata": {
        "deletable": false,
        "editable": false,
        "nbgrader": {
          "cell_type": "markdown",
          "checksum": "084c7b68a27987da29071541fb20358b",
          "grade": false,
          "grade_id": "cell-f4e1bfc6ad38ce3d",
          "locked": true,
          "schema_version": 3,
          "solution": false
        },
        "id": "jk_otv5kwAW2"
      },
      "source": [
        "Sejam bem vindos ao notebook de Q-Learning e Sarsa!\n",
        "\n",
        "Neste exercício vamos implementar os algoritmos Q-Learning e Sarsa com seleção de ação $\\epsilon$-greedy. \n",
        "\n",
        "Ao final vamos investigar o desempenho destes métodos para o problema de Caminhada no Penhasco, já introduzido na aula passada.\n",
        "\n",
        "Vamos fornecer o ambiente para execução dos experimentos (RL-Glue) e ao final visualizando a performance do aprendizado."
      ]
    },
    {
      "cell_type": "code",
      "metadata": {
        "id": "RQhOASQcwAW4"
      },
      "source": [
        "%matplotlib inline\n",
        "import numpy as np\n",
        "from scipy.stats import sem\n",
        "import matplotlib.pyplot as plt\n",
        "from rl_utils import BaseAgent\n",
        "from rl_utils import Environment\n",
        "from rl_utils import RLGlue\n",
        "from tqdm import tqdm\n",
        "import pickle"
      ],
      "execution_count": 2,
      "outputs": []
    },
    {
      "cell_type": "code",
      "metadata": {
        "deletable": false,
        "editable": false,
        "nbgrader": {
          "cell_type": "code",
          "checksum": "781be58c941d2ddc62052efda26ebd05",
          "grade": false,
          "grade_id": "cell-92144e79fff2c0ea",
          "locked": true,
          "schema_version": 3,
          "solution": false
        },
        "id": "XbXWo7kGwAW5"
      },
      "source": [
        "plt.rcParams.update({'font.size': 15})\n",
        "plt.rcParams.update({'figure.figsize': [10,5]})"
      ],
      "execution_count": 3,
      "outputs": []
    },
    {
      "cell_type": "markdown",
      "metadata": {
        "deletable": false,
        "editable": false,
        "nbgrader": {
          "cell_type": "markdown",
          "checksum": "f6c9d5996579dbe1b3ac25058a574409",
          "grade": false,
          "grade_id": "cell-148cfbbe73465cef",
          "locked": true,
          "schema_version": 3,
          "solution": false
        },
        "id": "HRyqyYigwAW6"
      },
      "source": [
        "## Q-Learning"
      ]
    },
    {
      "cell_type": "markdown",
      "metadata": {
        "deletable": false,
        "editable": false,
        "nbgrader": {
          "cell_type": "markdown",
          "checksum": "4869e937cb5c63d7046a204ebe15914c",
          "grade": false,
          "grade_id": "cell-0c942413e94d98db",
          "locked": true,
          "schema_version": 3,
          "solution": false
        },
        "id": "wd1lNTa6wAW6"
      },
      "source": [
        "Nesta seção vamos implementar e testar um agente Q-Learning com seleção de ação $\\epsilon$-greedy (seção 6.5 do livro)."
      ]
    },
    {
      "cell_type": "markdown",
      "metadata": {
        "deletable": false,
        "editable": false,
        "nbgrader": {
          "cell_type": "markdown",
          "checksum": "d6eff9064c79025d80bff9970686a5d3",
          "grade": false,
          "grade_id": "cell-11cf7ceec7f5b9fe",
          "locked": true,
          "schema_version": 3,
          "solution": false
        },
        "id": "9gZDwoA4wAW7"
      },
      "source": [
        "### Implementação"
      ]
    },
    {
      "cell_type": "markdown",
      "metadata": {
        "deletable": false,
        "editable": false,
        "nbgrader": {
          "cell_type": "markdown",
          "checksum": "d8a38e971b034abfdfc90ca66f3936b0",
          "grade": false,
          "grade_id": "cell-3417aeb44526bda3",
          "locked": true,
          "schema_version": 3,
          "solution": false
        },
        "id": "NjlMa56bwAW7"
      },
      "source": [
        "A primeira tarefa consiste em implementar a atualização do agente *agent_step*."
      ]
    },
    {
      "cell_type": "code",
      "metadata": {
        "deletable": false,
        "nbgrader": {
          "cell_type": "code",
          "checksum": "b523008e6f0bde39944117023b591333",
          "grade": false,
          "grade_id": "cell-e77107160ebd3c72",
          "locked": false,
          "schema_version": 3,
          "solution": true
        },
        "id": "eXqh-8lwwAW8"
      },
      "source": [
        "class QLearningAgent(BaseAgent):\n",
        "    def agent_init(self, agent_init_info):\n",
        "        \"\"\"Configuração do agente, chamado quando o experimento começa.\n",
        "        Args:\n",
        "        agent_init_info (dict), parâmetros utilizados para inicializar o agente.\n",
        "        O dicionário contém:\n",
        "        {\n",
        "            num_states (int): Número de estados,\n",
        "            num_actions (int): Número de ações,\n",
        "            epsilon (float): Parâmetro epsilon para exploration,\n",
        "            step_size (float): Learning-rate ou step-size,\n",
        "            discount (float): O fator de desconto,\n",
        "        }\n",
        "        \"\"\"\n",
        "        self.num_actions = agent_init_info[\"num_actions\"]\n",
        "        self.num_states = agent_init_info[\"num_states\"]\n",
        "        self.epsilon = agent_init_info[\"epsilon\"]\n",
        "        self.step_size = agent_init_info[\"step_size\"]\n",
        "        self.discount = agent_init_info[\"discount\"]\n",
        "        self.rand_generator = np.random.RandomState(agent_info[\"seed\"])\n",
        "        \n",
        "        # Inicialização de Q.\n",
        "        self.q = np.zeros((self.num_states, self.num_actions))\n",
        "\n",
        "    def agent_start(self, state):\n",
        "        \"\"\"Primeiro método chamado quando o episódio começa. \n",
        "           Chamado após o ambiente começar.\n",
        "        Args:\n",
        "            state (int): O estado do ambiente.\n",
        "        Returns:\n",
        "            action (int): Primeira ação que o agente executa.\n",
        "        \"\"\"        \n",
        "        # Escolhe ação seguindo epsilon greedy.\n",
        "        current_q = self.q[state,:]\n",
        "        if self.rand_generator.rand() < self.epsilon:\n",
        "            action = self.rand_generator.randint(self.num_actions)\n",
        "        else:\n",
        "            action = self.argmax(current_q)\n",
        "        self.prev_state = state\n",
        "        self.prev_action = action\n",
        "        return action\n",
        "    \n",
        "    def agent_step(self, reward, state):\n",
        "        \"\"\"Um passo executado pelo agente.\n",
        "        Args:\n",
        "            reward (float): A recompensa recebida por ter tomado a última ação.\n",
        "            state (int): Estado do ambiente.\n",
        "        Returns:\n",
        "            action (int): Ação que o agente irá tomar.\n",
        "        \"\"\"\n",
        "        \n",
        "        # Escolhe ação utilizando o epsilon greedy.\n",
        "        if self.rand_generator.rand() < self.epsilon:\n",
        "            action = self.rand_generator.randint(self.num_actions)\n",
        "        else:\n",
        "            action = self.argmax(self.q[state, :])\n",
        "\n",
        "        ### INÍCIO DO CÓDIGO.\n",
        "\n",
        "        ### FIM DO CÓDIGO.\n",
        "        \n",
        "        self.prev_state = state\n",
        "        self.prev_action = action\n",
        "        return action\n",
        "    \n",
        "    def agent_end(self, reward):\n",
        "        \"\"\"Final do agente.\n",
        "        Args:\n",
        "            reward (float): Recompensa que o agente recebe por entrar no estado terminal.\n",
        "        \"\"\"\n",
        "        # Última atualização no episódio.\n",
        "        self.q[self.prev_state, self.prev_action] += self.step_size * (reward- self.q[self.prev_state, self.prev_action])\n",
        "        \n",
        "    def argmax(self, q_values):\n",
        "        top = float(\"-inf\")\n",
        "        ties = []\n",
        "\n",
        "        for i in range(len(q_values)):\n",
        "            if q_values[i] > top:\n",
        "                top = q_values[i]\n",
        "                ties = []\n",
        "\n",
        "            if q_values[i] == top:\n",
        "                ties.append(i)\n",
        "\n",
        "        return self.rand_generator.choice(ties)"
      ],
      "execution_count": 4,
      "outputs": []
    },
    {
      "cell_type": "code",
      "metadata": {
        "deletable": false,
        "editable": false,
        "nbgrader": {
          "cell_type": "code",
          "checksum": "e31522059faa25ed475e25a6fbbc420c",
          "grade": false,
          "grade_id": "cell-1c160d79c07cac0b",
          "locked": true,
          "schema_version": 3,
          "solution": false
        },
        "colab": {
          "base_uri": "https://localhost:8080/"
        },
        "id": "cdPWrS06wAXB",
        "outputId": "f2b2bf9f-d993-48cf-9d66-906de665d276"
      },
      "source": [
        "# Célula de testes.\n",
        "agent_info = {\"num_actions\": 4, \"num_states\": 3, \"epsilon\": 0.1, \"step_size\": 0.1, \"discount\": 1.0, \"seed\": 0}\n",
        "current_agent = QLearningAgent()\n",
        "current_agent.agent_init(agent_info)\n",
        "action = current_agent.agent_start(0)\n",
        "print(\"Estimativas das action-values: \\n\", current_agent.q)\n",
        "print(\"Ação:\", action)"
      ],
      "execution_count": 5,
      "outputs": [
        {
          "output_type": "stream",
          "text": [
            "Estimativas das action-values: \n",
            " [[0. 0. 0. 0.]\n",
            " [0. 0. 0. 0.]\n",
            " [0. 0. 0. 0.]]\n",
            "Ação: 1\n"
          ],
          "name": "stdout"
        }
      ]
    },
    {
      "cell_type": "markdown",
      "metadata": {
        "deletable": false,
        "editable": false,
        "nbgrader": {
          "cell_type": "markdown",
          "checksum": "fbe3f4201266f67423b1ece02dbc0333",
          "grade": false,
          "grade_id": "cell-f1a6a8b66b6598e6",
          "locked": true,
          "schema_version": 3,
          "solution": false
        },
        "id": "VXqPr32ywAXC"
      },
      "source": [
        "**Output Esperado:**\n",
        "\n",
        "```\n",
        "Estimativas das action-values: \n",
        " [[0. 0. 0. 0.]\n",
        " [0. 0. 0. 0.]\n",
        " [0. 0. 0. 0.]]\n",
        "Ações: 1\n",
        "```"
      ]
    },
    {
      "cell_type": "code",
      "metadata": {
        "deletable": false,
        "editable": false,
        "nbgrader": {
          "cell_type": "code",
          "checksum": "b5d0abaed2b270d5a21f9503d8470e68",
          "grade": false,
          "grade_id": "cell-b63b908156924031",
          "locked": true,
          "schema_version": 3,
          "solution": false
        },
        "colab": {
          "base_uri": "https://localhost:8080/"
        },
        "id": "sQlYSdY-wAXC",
        "outputId": "c0265e65-4bbb-42e4-91dc-a5b7d3da6d3d"
      },
      "source": [
        "# Célula de teste para agent_step()\n",
        "actions = []\n",
        "agent_info = {\"num_actions\": 4, \"num_states\": 3, \"epsilon\": 0.1, \"step_size\": 0.1, \"discount\": 1.0, \"seed\": 0}\n",
        "current_agent = QLearningAgent()\n",
        "current_agent.agent_init(agent_info)\n",
        "actions.append(current_agent.agent_start(0))\n",
        "actions.append(current_agent.agent_step(2, 1))\n",
        "actions.append(current_agent.agent_step(0, 0))\n",
        "print(\"Estimativas das action-values: \\n\", current_agent.q)\n",
        "print(\"Ação:\", actions)"
      ],
      "execution_count": 6,
      "outputs": [
        {
          "output_type": "stream",
          "text": [
            "Estimativas das action-values: \n",
            " [[0. 0. 0. 0.]\n",
            " [0. 0. 0. 0.]\n",
            " [0. 0. 0. 0.]]\n",
            "Ação: [1, 3, 1]\n"
          ],
          "name": "stdout"
        }
      ]
    },
    {
      "cell_type": "markdown",
      "metadata": {
        "deletable": false,
        "editable": false,
        "nbgrader": {
          "cell_type": "markdown",
          "checksum": "ed1a688d14e6eb3961b32a8dbdbbb858",
          "grade": false,
          "grade_id": "cell-3b916a9081886d4d",
          "locked": true,
          "schema_version": 3,
          "solution": false
        },
        "id": "9sgkgJgKwAXC"
      },
      "source": [
        "**Output Esperado:**\n",
        "\n",
        "```\n",
        "Estimativas das action-values: \n",
        " [[ 0.   0.2  0.   0. ]\n",
        " [ 0.   0.   0.  0.02]\n",
        " [ 0.   0.   0.   0. ]]\n",
        "Ações: [1, 3, 1]\n",
        "```"
      ]
    },
    {
      "cell_type": "markdown",
      "metadata": {
        "deletable": false,
        "editable": false,
        "nbgrader": {
          "cell_type": "markdown",
          "checksum": "9a549cc5d3d6a35b2578be87a3ea288a",
          "grade": false,
          "grade_id": "cell-3ab82a89ea44f09e",
          "locked": true,
          "schema_version": 3,
          "solution": false
        },
        "id": "To8OijJVwAXD"
      },
      "source": [
        "## Sarsa"
      ]
    },
    {
      "cell_type": "markdown",
      "metadata": {
        "deletable": false,
        "editable": false,
        "nbgrader": {
          "cell_type": "markdown",
          "checksum": "e16e2e0918866de0908360b07d53b814",
          "grade": false,
          "grade_id": "cell-12980d9f811d7bb6",
          "locked": true,
          "schema_version": 3,
          "solution": false
        },
        "id": "AOvXtb45wAXD"
      },
      "source": [
        "Nesta seção vamos implementar o agente Sarsa com seleção de ação $\\epsilon$-greedy (Seção 6.6 do livro)."
      ]
    },
    {
      "cell_type": "markdown",
      "metadata": {
        "deletable": false,
        "editable": false,
        "nbgrader": {
          "cell_type": "markdown",
          "checksum": "f635cf2541375086474f964e9ebe31d8",
          "grade": false,
          "grade_id": "cell-09c8eef6bd8e9472",
          "locked": true,
          "schema_version": 3,
          "solution": false
        },
        "id": "tdfx8f6nwAXD"
      },
      "source": [
        "### Implementação"
      ]
    },
    {
      "cell_type": "markdown",
      "metadata": {
        "deletable": false,
        "editable": false,
        "nbgrader": {
          "cell_type": "markdown",
          "checksum": "401762021600e7176bb065754532c57b",
          "grade": false,
          "grade_id": "cell-27a67597b07f3d03",
          "locked": true,
          "schema_version": 3,
          "solution": false
        },
        "id": "-ZeIZvQKwAXE"
      },
      "source": [
        "Como na seção anterior, sua tarefa é implementar a atualização no método *agent_step*."
      ]
    },
    {
      "cell_type": "code",
      "metadata": {
        "deletable": false,
        "nbgrader": {
          "cell_type": "code",
          "checksum": "db1e0c043dcc4292dc81eb19e3e0debd",
          "grade": false,
          "grade_id": "cell-8d20990dcf9eeb6c",
          "locked": false,
          "schema_version": 3,
          "solution": true
        },
        "id": "qex7OHx_wAXE"
      },
      "source": [
        "class SarsaAgent(BaseAgent):\n",
        "    def agent_init(self, agent_init_info):\n",
        "        \"\"\"Configuração do agente, chamado quando o experimento começa.\n",
        "        \n",
        "        Args:\n",
        "        agent_init_info (dict), parâmetros utilizados para inicializar o agente.\n",
        "        O dicionário contém:\n",
        "        {\n",
        "            num_states (int): Número de estados,\n",
        "            num_actions (int): Número de ações,\n",
        "            epsilon (float): Parâmetro epsilon para exploração,\n",
        "            step_size (float): step-size,\n",
        "            discount (float): Fator de desconto,\n",
        "        }\n",
        "        \n",
        "        \"\"\"\n",
        "        self.num_actions = agent_init_info[\"num_actions\"]\n",
        "        self.num_states = agent_init_info[\"num_states\"]\n",
        "        self.epsilon = agent_init_info[\"epsilon\"]\n",
        "        self.step_size = agent_init_info[\"step_size\"]\n",
        "        self.discount = agent_init_info[\"discount\"]\n",
        "        self.rand_generator = np.random.RandomState(agent_info[\"seed\"])\n",
        "        \n",
        "        # Q\n",
        "        self.q = np.zeros((self.num_states, self.num_actions))\n",
        "        \n",
        "    def agent_start(self, state):\n",
        "        \"\"\"Primeiro método chamado quando o episódio começa. \n",
        "           Chamado após o ambiente começar.\n",
        "        Args:\n",
        "            state (int): O estado do ambiente.\n",
        "        Returns:\n",
        "            action (int): Primeira ação que o agente executa.\n",
        "        \"\"\"\n",
        "        current_q = self.q[state, :]\n",
        "        if self.rand_generator.rand() < self.epsilon:\n",
        "            action = self.rand_generator.randint(self.num_actions)\n",
        "        else:\n",
        "            action = self.argmax(current_q)\n",
        "        self.prev_state = state\n",
        "        self.prev_action = action\n",
        "        return action\n",
        "    \n",
        "    def agent_step(self, reward, state):\n",
        "        \"\"\"Um passo executado pelo agente.\n",
        "        Args:\n",
        "            reward (float):  A recompensa recebida por ter tomado a última ação.\n",
        "            state (int): Estado do ambiente.\n",
        "        Returns:\n",
        "            action (int): Ação que o agente irá tomar.\n",
        "        \"\"\"        \n",
        "        # Escolhe ação utilizando o epsilon greedy.\n",
        "        if self.rand_generator.rand() < self.epsilon:\n",
        "            action = self.rand_generator.randint(self.num_actions)\n",
        "        else:\n",
        "            action = self.argmax(self.q[state,:])\n",
        "\n",
        "        ### INÍCIO DO CÓDIGO.\n",
        "        \n",
        "        ### FIM DO CÓDIGO.\n",
        "        \n",
        "        self.prev_state = state\n",
        "        self.prev_action = action\n",
        "        return action\n",
        "    \n",
        "    def agent_end(self, reward):\n",
        "        \"\"\"Final do agente.\n",
        "        Args:\n",
        "            reward (float): Recompensa que o agente recebe por entrar no estado terminal.\n",
        "        \"\"\"\n",
        "        self.q[self.prev_state, self.prev_action] += self.step_size * (reward- self.q[self.prev_state, self.prev_action])\n",
        "\n",
        "    def argmax(self, q_values):\n",
        "        top = float(\"-inf\")\n",
        "        ties = []\n",
        "\n",
        "        for i in range(len(q_values)):\n",
        "            if q_values[i] > top:\n",
        "                top = q_values[i]\n",
        "                ties = []\n",
        "\n",
        "            if q_values[i] == top:\n",
        "                ties.append(i)\n",
        "\n",
        "        return self.rand_generator.choice(ties)"
      ],
      "execution_count": 7,
      "outputs": []
    },
    {
      "cell_type": "code",
      "metadata": {
        "deletable": false,
        "editable": false,
        "nbgrader": {
          "cell_type": "code",
          "checksum": "62db384f5fa66caae6a68a840cb56797",
          "grade": false,
          "grade_id": "cell-7d4f037d4106e8e2",
          "locked": true,
          "schema_version": 3,
          "solution": false
        },
        "colab": {
          "base_uri": "https://localhost:8080/"
        },
        "id": "WSTMBp9NwAXF",
        "outputId": "4d1f608a-8024-4b72-ebd2-2d65d6339d41"
      },
      "source": [
        "# Célula de teste.\n",
        "agent_info = {\"num_actions\": 4, \"num_states\": 3, \"epsilon\": 0.1, \"step_size\": 0.1, \"discount\": 1.0, \"seed\": 0}\n",
        "current_agent = SarsaAgent()\n",
        "current_agent.agent_init(agent_info)\n",
        "action = current_agent.agent_start(0)\n",
        "print(\"Estimativas das action-values: \\n\", current_agent.q)\n",
        "print(\"Ação:\", action)"
      ],
      "execution_count": 8,
      "outputs": [
        {
          "output_type": "stream",
          "text": [
            "Estimativas das action-values: \n",
            " [[0. 0. 0. 0.]\n",
            " [0. 0. 0. 0.]\n",
            " [0. 0. 0. 0.]]\n",
            "Ação: 1\n"
          ],
          "name": "stdout"
        }
      ]
    },
    {
      "cell_type": "markdown",
      "metadata": {
        "deletable": false,
        "editable": false,
        "nbgrader": {
          "cell_type": "markdown",
          "checksum": "2f5cc33e33a94e5123e0311be2208c2a",
          "grade": false,
          "grade_id": "cell-4d1ae44ff39f2ef6",
          "locked": true,
          "schema_version": 3,
          "solution": false
        },
        "id": "a3IeW-5YwAXG"
      },
      "source": [
        "**Output Esperado:**\n",
        "\n",
        "```\n",
        "Estimativas das action-values: \n",
        " [[0. 0. 0. 0.]\n",
        " [0. 0. 0. 0.]\n",
        " [0. 0. 0. 0.]]\n",
        "Ações: 1\n",
        "```"
      ]
    },
    {
      "cell_type": "code",
      "metadata": {
        "deletable": false,
        "editable": false,
        "nbgrader": {
          "cell_type": "code",
          "checksum": "5b40fa207655b4dd1028786e8d553a70",
          "grade": false,
          "grade_id": "cell-e77508d1e061c326",
          "locked": true,
          "schema_version": 3,
          "solution": false
        },
        "colab": {
          "base_uri": "https://localhost:8080/"
        },
        "id": "b2b6v9LQwAXG",
        "outputId": "22f208f6-e432-48cd-be69-8041805b7fd7"
      },
      "source": [
        "# Célula de testes para agent_step()\n",
        "actions = []\n",
        "agent_info = {\"num_actions\": 4, \"num_states\": 3, \"epsilon\": 0.1, \"step_size\": 0.1, \"discount\": 1.0, \"seed\": 0}\n",
        "current_agent = SarsaAgent()\n",
        "current_agent.agent_init(agent_info)\n",
        "actions.append(current_agent.agent_start(0))\n",
        "actions.append(current_agent.agent_step(2, 1))\n",
        "actions.append(current_agent.agent_step(0, 0))\n",
        "print(\"Estimativas das action-values: \\n\", current_agent.q)\n",
        "print(\"Ações:\", actions)"
      ],
      "execution_count": 9,
      "outputs": [
        {
          "output_type": "stream",
          "text": [
            "Estimativas das action-values: \n",
            " [[0. 0. 0. 0.]\n",
            " [0. 0. 0. 0.]\n",
            " [0. 0. 0. 0.]]\n",
            "Ações: [1, 3, 1]\n"
          ],
          "name": "stdout"
        }
      ]
    },
    {
      "cell_type": "markdown",
      "metadata": {
        "deletable": false,
        "editable": false,
        "nbgrader": {
          "cell_type": "markdown",
          "checksum": "e92c78b348a88e1db2e988fd442a1ae5",
          "grade": false,
          "grade_id": "cell-11bdb20cca21c6d6",
          "locked": true,
          "schema_version": 3,
          "solution": false
        },
        "id": "QhwLG99XwAXH"
      },
      "source": [
        "**Output Esperado:**\n",
        "\n",
        "```\n",
        "Estimativas das action-values: \n",
        " [[0.     0.2    0.     0.    ]\n",
        " [0.     0.     0.     0.02]\n",
        " [0.     0.     0.     0.    ]]\n",
        "Ações: [1, 3, 1]\n",
        "```"
      ]
    },
    {
      "cell_type": "markdown",
      "metadata": {
        "deletable": false,
        "editable": false,
        "nbgrader": {
          "cell_type": "markdown",
          "checksum": "95e2ea24f0de8c0a847e3f9b1719e8f1",
          "grade": false,
          "grade_id": "cell-2692792f654c792f",
          "locked": true,
          "schema_version": 3,
          "solution": false
        },
        "id": "1ufD8FB2wAXH"
      },
      "source": [
        "## Resolvendo Cliff World. "
      ]
    },
    {
      "cell_type": "markdown",
      "metadata": {
        "deletable": false,
        "editable": false,
        "nbgrader": {
          "cell_type": "markdown",
          "checksum": "5f6c1e54b358fabad02c9002f23a1087",
          "grade": false,
          "grade_id": "cell-6e7fbbaa12d4bf31",
          "locked": true,
          "schema_version": 3,
          "solution": false
        },
        "id": "xQY3HYTbwAXH"
      },
      "source": [
        "Para validar e entender o comportamento das duas implementações, vamos utilizar o ambiente que introduzimos na aula passada: Caminhada no Penhasco.\n",
        "\n",
        "**Relembrando**: esta é uma tarefa episódica sem desconto e, portanto, definimos $ \\ gamma $ = 1. O agente começa no canto inferior esquerdo do grid e executa ações que o movem nas quatro direções. Ações que levam o agente para o penhasco incorrem em uma recompensa $R=-100$ e enviam o agente de volta ao estado inicial. A recompensa para todas as outras transições é -1. \n",
        "\n",
        "Um episódio termina quando o agente chega ao canto inferior direito."
      ]
    },
    {
      "cell_type": "markdown",
      "metadata": {
        "deletable": false,
        "editable": false,
        "nbgrader": {
          "cell_type": "markdown",
          "checksum": "bac5c2eaf9d52fa5d29242db0de448f4",
          "grade": false,
          "grade_id": "cell-6aaddf82523ef2a5",
          "locked": true,
          "schema_version": 3,
          "solution": false
        },
        "id": "-6BZebZiwAXI"
      },
      "source": [
        "![cliffworld.png](data:image/png;base64,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)\n"
      ]
    },
    {
      "cell_type": "markdown",
      "metadata": {
        "deletable": false,
        "editable": false,
        "nbgrader": {
          "cell_type": "markdown",
          "checksum": "4215fbaa30c33d57f4351e501f0a6422",
          "grade": false,
          "grade_id": "cell-e55d077b9f8b6133",
          "locked": true,
          "schema_version": 3,
          "solution": false
        },
        "id": "bkS9dmpswAXI"
      },
      "source": [
        "Usando a célula abaixo, comparamos os agentes no ambiente de Caminhada no Penhasco e traçamos a soma das recompensas durante cada episódio para os dois agentes. "
      ]
    },
    {
      "cell_type": "code",
      "metadata": {
        "deletable": false,
        "editable": false,
        "nbgrader": {
          "cell_type": "code",
          "checksum": "343a62fbee9e83abdb3d4bd9a25c6283",
          "grade": false,
          "grade_id": "cell-6d11bb590ebfb0b2",
          "locked": true,
          "schema_version": 3,
          "solution": false
        },
        "colab": {
          "base_uri": "https://localhost:8080/",
          "height": 387
        },
        "id": "VQ38H-pbwAXI",
        "outputId": "e481a02a-8707-4076-eaed-10edf14873f9"
      },
      "source": [
        "agents = {\n",
        "    \"Q-learning\": QLearningAgent,\n",
        "    \"Sarsa\": SarsaAgent\n",
        "}\n",
        "env = Environment\n",
        "all_reward_sums = {}\n",
        "all_state_visits = {}\n",
        "agent_info = {\"num_actions\": 4, \"num_states\": 48, \"epsilon\": 0.1, \"step_size\": 0.5, \"discount\": 1.0}\n",
        "env_info = {}\n",
        "num_runs = 100\n",
        "num_episodes = 500\n",
        "\n",
        "for algorithm in [\"Q-learning\", \"Sarsa\"]:\n",
        "    all_reward_sums[algorithm] = []\n",
        "    all_state_visits[algorithm] = []\n",
        "    for run in tqdm(range(num_runs)):    \n",
        "        agent_info[\"seed\"] = run\n",
        "        rl_glue = RLGlue(env, agents[algorithm])\n",
        "        rl_glue.rl_init(agent_info, env_info)\n",
        "\n",
        "        reward_sums = []\n",
        "        state_visits = np.zeros(48)\n",
        "        for episode in range(num_episodes):\n",
        "            if episode < num_episodes - 10:                \n",
        "                rl_glue.rl_episode(0) \n",
        "            else:                 \n",
        "                state, action = rl_glue.rl_start()\n",
        "                state_visits[state] += 1\n",
        "                is_terminal = False\n",
        "                while not is_terminal:\n",
        "                    reward, state, action, is_terminal = rl_glue.rl_step()\n",
        "                    state_visits[state] += 1\n",
        "                \n",
        "            reward_sums.append(rl_glue.rl_return())\n",
        "            \n",
        "        all_reward_sums[algorithm].append(reward_sums)\n",
        "        all_state_visits[algorithm].append(state_visits)\n",
        "\n",
        "for algorithm in [\"Q-learning\", \"Sarsa\"]:\n",
        "    plt.plot(np.mean(all_reward_sums[algorithm], axis=0), label=algorithm)\n",
        "plt.xlabel(\"Episodes\")\n",
        "plt.ylabel(\"Soma das\\n recompensas\\n durante os \\n episódios\",rotation=0, labelpad=40)\n",
        "plt.xlim(0,500)\n",
        "plt.ylim(-100,0)\n",
        "plt.legend()\n",
        "plt.show()"
      ],
      "execution_count": 10,
      "outputs": [
        {
          "output_type": "stream",
          "text": [
            "\r  0%|          | 0/100 [00:00<?, ?it/s]"
          ],
          "name": "stderr"
        },
        {
          "output_type": "error",
          "ename": "KeyboardInterrupt",
          "evalue": "ignored",
          "traceback": [
            "\u001b[0;31m---------------------------------------------------------------------------\u001b[0m",
            "\u001b[0;31mKeyboardInterrupt\u001b[0m                         Traceback (most recent call last)",
            "\u001b[0;32m<ipython-input-10-833da75db908>\u001b[0m in \u001b[0;36m<module>\u001b[0;34m()\u001b[0m\n\u001b[1;32m     23\u001b[0m         \u001b[0;32mfor\u001b[0m \u001b[0mepisode\u001b[0m \u001b[0;32min\u001b[0m \u001b[0mrange\u001b[0m\u001b[0;34m(\u001b[0m\u001b[0mnum_episodes\u001b[0m\u001b[0;34m)\u001b[0m\u001b[0;34m:\u001b[0m\u001b[0;34m\u001b[0m\u001b[0;34m\u001b[0m\u001b[0m\n\u001b[1;32m     24\u001b[0m             \u001b[0;32mif\u001b[0m \u001b[0mepisode\u001b[0m \u001b[0;34m<\u001b[0m \u001b[0mnum_episodes\u001b[0m \u001b[0;34m-\u001b[0m \u001b[0;36m10\u001b[0m\u001b[0;34m:\u001b[0m\u001b[0;34m\u001b[0m\u001b[0;34m\u001b[0m\u001b[0m\n\u001b[0;32m---> 25\u001b[0;31m                 \u001b[0mrl_glue\u001b[0m\u001b[0;34m.\u001b[0m\u001b[0mrl_episode\u001b[0m\u001b[0;34m(\u001b[0m\u001b[0;36m0\u001b[0m\u001b[0;34m)\u001b[0m\u001b[0;34m\u001b[0m\u001b[0;34m\u001b[0m\u001b[0m\n\u001b[0m\u001b[1;32m     26\u001b[0m             \u001b[0;32melse\u001b[0m\u001b[0;34m:\u001b[0m\u001b[0;34m\u001b[0m\u001b[0;34m\u001b[0m\u001b[0m\n\u001b[1;32m     27\u001b[0m                 \u001b[0mstate\u001b[0m\u001b[0;34m,\u001b[0m \u001b[0maction\u001b[0m \u001b[0;34m=\u001b[0m \u001b[0mrl_glue\u001b[0m\u001b[0;34m.\u001b[0m\u001b[0mrl_start\u001b[0m\u001b[0;34m(\u001b[0m\u001b[0;34m)\u001b[0m\u001b[0;34m\u001b[0m\u001b[0;34m\u001b[0m\u001b[0m\n",
            "\u001b[0;32m/content/rl_utils.py\u001b[0m in \u001b[0;36mrl_episode\u001b[0;34m(self, max_steps_this_episode)\u001b[0m\n\u001b[1;32m    313\u001b[0m         while (not is_terminal) and ((max_steps_this_episode == 0) or\n\u001b[1;32m    314\u001b[0m                                      (self.num_steps < max_steps_this_episode)):\n\u001b[0;32m--> 315\u001b[0;31m             \u001b[0mrl_step_result\u001b[0m \u001b[0;34m=\u001b[0m \u001b[0mself\u001b[0m\u001b[0;34m.\u001b[0m\u001b[0mrl_step\u001b[0m\u001b[0;34m(\u001b[0m\u001b[0;34m)\u001b[0m\u001b[0;34m\u001b[0m\u001b[0;34m\u001b[0m\u001b[0m\n\u001b[0m\u001b[1;32m    316\u001b[0m             \u001b[0mis_terminal\u001b[0m \u001b[0;34m=\u001b[0m \u001b[0mrl_step_result\u001b[0m\u001b[0;34m[\u001b[0m\u001b[0;36m3\u001b[0m\u001b[0;34m]\u001b[0m\u001b[0;34m\u001b[0m\u001b[0;34m\u001b[0m\u001b[0m\n\u001b[1;32m    317\u001b[0m \u001b[0;34m\u001b[0m\u001b[0m\n",
            "\u001b[0;32m/content/rl_utils.py\u001b[0m in \u001b[0;36mrl_step\u001b[0;34m(self)\u001b[0m\n\u001b[1;32m    253\u001b[0m         \"\"\"\n\u001b[1;32m    254\u001b[0m \u001b[0;34m\u001b[0m\u001b[0m\n\u001b[0;32m--> 255\u001b[0;31m         \u001b[0;34m(\u001b[0m\u001b[0mreward\u001b[0m\u001b[0;34m,\u001b[0m \u001b[0mlast_state\u001b[0m\u001b[0;34m,\u001b[0m \u001b[0mterm\u001b[0m\u001b[0;34m)\u001b[0m \u001b[0;34m=\u001b[0m \u001b[0mself\u001b[0m\u001b[0;34m.\u001b[0m\u001b[0menvironment\u001b[0m\u001b[0;34m.\u001b[0m\u001b[0menv_step\u001b[0m\u001b[0;34m(\u001b[0m\u001b[0mself\u001b[0m\u001b[0;34m.\u001b[0m\u001b[0mlast_action\u001b[0m\u001b[0;34m)\u001b[0m\u001b[0;34m\u001b[0m\u001b[0;34m\u001b[0m\u001b[0m\n\u001b[0m\u001b[1;32m    256\u001b[0m \u001b[0;34m\u001b[0m\u001b[0m\n\u001b[1;32m    257\u001b[0m         \u001b[0mself\u001b[0m\u001b[0;34m.\u001b[0m\u001b[0mtotal_reward\u001b[0m \u001b[0;34m+=\u001b[0m \u001b[0mreward\u001b[0m\u001b[0;34m;\u001b[0m\u001b[0;34m\u001b[0m\u001b[0;34m\u001b[0m\u001b[0m\n",
            "\u001b[0;32m/content/rl_utils.py\u001b[0m in \u001b[0;36menv_step\u001b[0;34m(self, action)\u001b[0m\n\u001b[1;32m    414\u001b[0m             \u001b[0;32mif\u001b[0m \u001b[0mself\u001b[0m\u001b[0;34m.\u001b[0m\u001b[0mcurrent_state\u001b[0m\u001b[0;34m[\u001b[0m\u001b[0;36m1\u001b[0m\u001b[0;34m]\u001b[0m \u001b[0;34m<\u001b[0m \u001b[0mself\u001b[0m\u001b[0;34m.\u001b[0m\u001b[0mcols\u001b[0m \u001b[0;34m-\u001b[0m \u001b[0;36m1\u001b[0m\u001b[0;34m:\u001b[0m\u001b[0;34m\u001b[0m\u001b[0;34m\u001b[0m\u001b[0m\n\u001b[1;32m    415\u001b[0m                 \u001b[0mreward\u001b[0m \u001b[0;34m=\u001b[0m \u001b[0;34m-\u001b[0m\u001b[0;36m100.0\u001b[0m\u001b[0;34m\u001b[0m\u001b[0;34m\u001b[0m\u001b[0m\n\u001b[0;32m--> 416\u001b[0;31m                 \u001b[0mself\u001b[0m\u001b[0;34m.\u001b[0m\u001b[0mcurrent_state\u001b[0m \u001b[0;34m=\u001b[0m \u001b[0mdeepcopy\u001b[0m\u001b[0;34m(\u001b[0m\u001b[0mself\u001b[0m\u001b[0;34m.\u001b[0m\u001b[0mstart\u001b[0m\u001b[0;34m)\u001b[0m\u001b[0;34m\u001b[0m\u001b[0;34m\u001b[0m\u001b[0m\n\u001b[0m\u001b[1;32m    417\u001b[0m             \u001b[0;32melse\u001b[0m\u001b[0;34m:\u001b[0m\u001b[0;34m\u001b[0m\u001b[0;34m\u001b[0m\u001b[0m\n\u001b[1;32m    418\u001b[0m                 \u001b[0mis_terminal\u001b[0m \u001b[0;34m=\u001b[0m \u001b[0;32mTrue\u001b[0m\u001b[0;34m\u001b[0m\u001b[0;34m\u001b[0m\u001b[0m\n",
            "\u001b[0;32m/usr/lib/python3.7/copy.py\u001b[0m in \u001b[0;36mdeepcopy\u001b[0;34m(x, memo, _nil)\u001b[0m\n\u001b[1;32m    148\u001b[0m     \u001b[0mcopier\u001b[0m \u001b[0;34m=\u001b[0m \u001b[0m_deepcopy_dispatch\u001b[0m\u001b[0;34m.\u001b[0m\u001b[0mget\u001b[0m\u001b[0;34m(\u001b[0m\u001b[0mcls\u001b[0m\u001b[0;34m)\u001b[0m\u001b[0;34m\u001b[0m\u001b[0;34m\u001b[0m\u001b[0m\n\u001b[1;32m    149\u001b[0m     \u001b[0;32mif\u001b[0m \u001b[0mcopier\u001b[0m\u001b[0;34m:\u001b[0m\u001b[0;34m\u001b[0m\u001b[0;34m\u001b[0m\u001b[0m\n\u001b[0;32m--> 150\u001b[0;31m         \u001b[0my\u001b[0m \u001b[0;34m=\u001b[0m \u001b[0mcopier\u001b[0m\u001b[0;34m(\u001b[0m\u001b[0mx\u001b[0m\u001b[0;34m,\u001b[0m \u001b[0mmemo\u001b[0m\u001b[0;34m)\u001b[0m\u001b[0;34m\u001b[0m\u001b[0;34m\u001b[0m\u001b[0m\n\u001b[0m\u001b[1;32m    151\u001b[0m     \u001b[0;32melse\u001b[0m\u001b[0;34m:\u001b[0m\u001b[0;34m\u001b[0m\u001b[0;34m\u001b[0m\u001b[0m\n\u001b[1;32m    152\u001b[0m         \u001b[0;32mtry\u001b[0m\u001b[0;34m:\u001b[0m\u001b[0;34m\u001b[0m\u001b[0;34m\u001b[0m\u001b[0m\n",
            "\u001b[0;32m/usr/lib/python3.7/copy.py\u001b[0m in \u001b[0;36m_deepcopy_list\u001b[0;34m(x, memo, deepcopy)\u001b[0m\n\u001b[1;32m    214\u001b[0m     \u001b[0mappend\u001b[0m \u001b[0;34m=\u001b[0m \u001b[0my\u001b[0m\u001b[0;34m.\u001b[0m\u001b[0mappend\u001b[0m\u001b[0;34m\u001b[0m\u001b[0;34m\u001b[0m\u001b[0m\n\u001b[1;32m    215\u001b[0m     \u001b[0;32mfor\u001b[0m \u001b[0ma\u001b[0m \u001b[0;32min\u001b[0m \u001b[0mx\u001b[0m\u001b[0;34m:\u001b[0m\u001b[0;34m\u001b[0m\u001b[0;34m\u001b[0m\u001b[0m\n\u001b[0;32m--> 216\u001b[0;31m         \u001b[0mappend\u001b[0m\u001b[0;34m(\u001b[0m\u001b[0mdeepcopy\u001b[0m\u001b[0;34m(\u001b[0m\u001b[0ma\u001b[0m\u001b[0;34m,\u001b[0m \u001b[0mmemo\u001b[0m\u001b[0;34m)\u001b[0m\u001b[0;34m)\u001b[0m\u001b[0;34m\u001b[0m\u001b[0;34m\u001b[0m\u001b[0m\n\u001b[0m\u001b[1;32m    217\u001b[0m     \u001b[0;32mreturn\u001b[0m \u001b[0my\u001b[0m\u001b[0;34m\u001b[0m\u001b[0;34m\u001b[0m\u001b[0m\n\u001b[1;32m    218\u001b[0m \u001b[0md\u001b[0m\u001b[0;34m[\u001b[0m\u001b[0mlist\u001b[0m\u001b[0;34m]\u001b[0m \u001b[0;34m=\u001b[0m \u001b[0m_deepcopy_list\u001b[0m\u001b[0;34m\u001b[0m\u001b[0;34m\u001b[0m\u001b[0m\n",
            "\u001b[0;32m/usr/lib/python3.7/copy.py\u001b[0m in \u001b[0;36mdeepcopy\u001b[0;34m(x, memo, _nil)\u001b[0m\n\u001b[1;32m    140\u001b[0m \u001b[0;34m\u001b[0m\u001b[0m\n\u001b[1;32m    141\u001b[0m     \u001b[0md\u001b[0m \u001b[0;34m=\u001b[0m \u001b[0mid\u001b[0m\u001b[0;34m(\u001b[0m\u001b[0mx\u001b[0m\u001b[0;34m)\u001b[0m\u001b[0;34m\u001b[0m\u001b[0;34m\u001b[0m\u001b[0m\n\u001b[0;32m--> 142\u001b[0;31m     \u001b[0my\u001b[0m \u001b[0;34m=\u001b[0m \u001b[0mmemo\u001b[0m\u001b[0;34m.\u001b[0m\u001b[0mget\u001b[0m\u001b[0;34m(\u001b[0m\u001b[0md\u001b[0m\u001b[0;34m,\u001b[0m \u001b[0m_nil\u001b[0m\u001b[0;34m)\u001b[0m\u001b[0;34m\u001b[0m\u001b[0;34m\u001b[0m\u001b[0m\n\u001b[0m\u001b[1;32m    143\u001b[0m     \u001b[0;32mif\u001b[0m \u001b[0my\u001b[0m \u001b[0;32mis\u001b[0m \u001b[0;32mnot\u001b[0m \u001b[0m_nil\u001b[0m\u001b[0;34m:\u001b[0m\u001b[0;34m\u001b[0m\u001b[0;34m\u001b[0m\u001b[0m\n\u001b[1;32m    144\u001b[0m         \u001b[0;32mreturn\u001b[0m \u001b[0my\u001b[0m\u001b[0;34m\u001b[0m\u001b[0;34m\u001b[0m\u001b[0m\n",
            "\u001b[0;31mKeyboardInterrupt\u001b[0m: "
          ]
        }
      ]
    },
    {
      "cell_type": "markdown",
      "metadata": {
        "deletable": false,
        "editable": false,
        "nbgrader": {
          "cell_type": "markdown",
          "checksum": "1cbb34897b56a32ea1e378b95caa0842",
          "grade": false,
          "grade_id": "cell-c3967df7d24c7d02",
          "locked": true,
          "schema_version": 3,
          "solution": false
        },
        "id": "klDxR661wAXJ"
      },
      "source": [
        "Para visualizar o comportamento dos dois agentes, vamos inspecionar os estados que eles mais visitam.\n",
        "\n",
        "Execute a célula abaixo para mostrar o número de passos que cada agente expendeu em cada uma das células nos últimos 10 episódios."
      ]
    },
    {
      "cell_type": "code",
      "metadata": {
        "deletable": false,
        "editable": false,
        "nbgrader": {
          "cell_type": "code",
          "checksum": "a5d9243d4e90f82665bc9ca467e065ef",
          "grade": false,
          "grade_id": "cell-37a2b6675676da6f",
          "locked": true,
          "schema_version": 3,
          "solution": false
        },
        "id": "q-tppEOfwAXK"
      },
      "source": [
        "for algorithm, position in [(\"Q-learning\", 211), (\"Sarsa\", 212)]:\n",
        "    plt.subplot(position)\n",
        "    average_state_visits = np.array(all_state_visits[algorithm]).mean(axis=0)\n",
        "    grid_state_visits = average_state_visits.reshape((4,12))\n",
        "    grid_state_visits[0,1:-1] = np.nan\n",
        "    plt.pcolormesh(grid_state_visits, edgecolors='gray', linewidth=2)\n",
        "    plt.title(algorithm)\n",
        "    plt.axis('off')\n",
        "    cm = plt.get_cmap()\n",
        "    cm.set_bad('gray')\n",
        "\n",
        "    plt.subplots_adjust(bottom=0.0, right=0.7, top=1.0)\n",
        "    cax = plt.axes([0.85, 0.0, 0.075, 1.])\n",
        "cbar = plt.colorbar(cax=cax)\n",
        "cbar.ax.set_ylabel(\"Visitas durante\\n os últimos 10\\n episódios\", rotation=0, labelpad=70)\n",
        "plt.show()"
      ],
      "execution_count": null,
      "outputs": []
    },
    {
      "cell_type": "markdown",
      "metadata": {
        "deletable": false,
        "editable": false,
        "nbgrader": {
          "cell_type": "markdown",
          "checksum": "e20aaec2eb1806cda6de9f75002264d5",
          "grade": false,
          "grade_id": "cell-c7575e40e56f751c",
          "locked": true,
          "schema_version": 3,
          "solution": false
        },
        "id": "EUcv4i78wAXK"
      },
      "source": [
        "O agente **Q-learning** aprende a política ideal se movendo ao longo do penhasco e atinge a meta com o mínimo de passos possível. No entanto, como o agente não segue a política ótima e usa a exploração $\\epsilon$-greedy, ele ocasionalmente cai do penhasco. \n",
        "\n",
        "O agente **Sarsa** segue um caminho mais seguro.\n",
        "\n",
        "No experimento anterior usamos um time-step fixo de 0,5 para os agentes. Agora, qual seria o comportamento do algoritmo para outros time-steps? Como fica o desempenho dos agentes?\n",
        "\n",
        "No próximo experimento vamos realizar a execução para 10 time-steps diferentes (de 0,1 a 1,0) e vamos comparar a soma das recompensas por episódio em média durante os primeiros 100 episódios.\n",
        "\n",
        "Note que esta célula demora cerca de 10 minutos para executar."
      ]
    },
    {
      "cell_type": "code",
      "metadata": {
        "deletable": false,
        "editable": false,
        "nbgrader": {
          "cell_type": "code",
          "checksum": "96725dad62b0596792b4d5694f64637e",
          "grade": false,
          "grade_id": "cell-f079ef9418195c22",
          "locked": true,
          "schema_version": 3,
          "solution": false
        },
        "id": "SKyce0rdwAXK"
      },
      "source": [
        "agents = {\n",
        "    \"Q-learning\": QLearningAgent,\n",
        "    \"Sarsa\": SarsaAgent\n",
        "}\n",
        "env = Environment\n",
        "all_reward_sums = {}\n",
        "step_sizes = np.linspace(0.1,1.0,10)\n",
        "agent_info = {\"num_actions\": 4, \"num_states\": 48, \"epsilon\": 0.1, \"discount\": 1.0}\n",
        "env_info = {}\n",
        "num_runs = 100\n",
        "num_episodes = 100\n",
        "all_reward_sums = {}\n",
        "\n",
        "for algorithm in [\"Q-learning\", \"Sarsa\"]:\n",
        "    for step_size in step_sizes:\n",
        "        all_reward_sums[(algorithm, step_size)] = []\n",
        "        agent_info[\"step_size\"] = step_size\n",
        "        for run in tqdm(range(num_runs)):\n",
        "            agent_info[\"seed\"] = run\n",
        "            rl_glue = RLGlue(env, agents[algorithm])\n",
        "            rl_glue.rl_init(agent_info, env_info)\n",
        "\n",
        "            return_sum = 0\n",
        "            for episode in range(num_episodes):\n",
        "                rl_glue.rl_episode(0)\n",
        "                return_sum += rl_glue.rl_return()\n",
        "            all_reward_sums[(algorithm, step_size)].append(return_sum/num_episodes)\n",
        "        \n",
        "\n",
        "for algorithm in [\"Q-learning\", \"Sarsa\"]:\n",
        "    algorithm_means = np.array([np.mean(all_reward_sums[(algorithm, step_size)]) for step_size in step_sizes])\n",
        "    algorithm_stds = np.array([sem(all_reward_sums[(algorithm, step_size)]) for step_size in step_sizes])\n",
        "    plt.plot(step_sizes, algorithm_means, marker='o', linestyle='solid', label=algorithm)\n",
        "    plt.fill_between(step_sizes, algorithm_means + algorithm_stds, algorithm_means - algorithm_stds, alpha=0.2)\n",
        "\n",
        "plt.legend()\n",
        "plt.xlabel(\"Step-size\")\n",
        "plt.ylabel(\"Soma das\\n recompensas\\n por episódios.\",rotation=0, labelpad=50)\n",
        "plt.xticks(step_sizes)\n",
        "plt.show()"
      ],
      "execution_count": null,
      "outputs": []
    },
    {
      "cell_type": "markdown",
      "metadata": {
        "deletable": false,
        "editable": false,
        "nbgrader": {
          "cell_type": "markdown",
          "checksum": "6113751690c166257cd1ace47ef977b1",
          "grade": false,
          "grade_id": "cell-e2c9c37b494e40f1",
          "locked": true,
          "schema_version": 3,
          "solution": false
        },
        "id": "zW6ehuLPwAXL"
      },
      "source": [
        "Note que o Sarsa se mostra mais eficiente do que o Q-Learning neste problema para uma vasta gama de step-sizes."
      ]
    }
  ]
}