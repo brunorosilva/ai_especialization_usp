{
 "cells": [
  {
   "cell_type": "markdown",
   "metadata": {
    "colab_type": "text",
    "id": "0sxdL1QNNGTM"
   },
   "source": [
    "# Trabalho #1 - Biblioteca de dados e RNAs pré-treinadas\n",
    "\n",
    "Nesse trabalho você vai criar e treinar uma RNA, usando como base uma rede pré-treinada, para resolver um problema de classificação multiclasse.\n",
    "\n",
    "Para fazer isso você usará os vetores de características da RNA EfficientNet e um conjunto de dados de imagens de satélite para treinar uma nova RNA para classificar tipos de áreas a partir de imagens de satélites. \n"
   ]
  },
  {
   "cell_type": "markdown",
   "metadata": {
    "colab_type": "text",
    "id": "yappqATulmMA"
   },
   "source": [
    "## Coloque o seu nome aqui:\n",
    "\n",
    "Nome:"
   ]
  },
  {
   "cell_type": "markdown",
   "metadata": {
    "colab_type": "text",
    "id": "TfyjJeLcNGTN"
   },
   "source": [
    "## 1. Importar bibliotecas\n",
    "\n",
    "Execute a célula abaixo para importar as bilbiotecas necessárias."
   ]
  },
  {
   "cell_type": "code",
   "execution_count": null,
   "metadata": {
    "colab": {
     "base_uri": "https://localhost:8080/",
     "height": 34
    },
    "colab_type": "code",
    "id": "FC_vTa6sNGTO",
    "outputId": "bb5efd50-85b1-4a0a-ec26-d054732cee9f"
   },
   "outputs": [],
   "source": [
    "import tensorflow as tf\n",
    "print(\"Using TensorFlow Version:\", tf.__version__)\n",
    "\n",
    "import tensorflow_datasets as tfds\n",
    "import tensorflow_hub as hub\n",
    "import matplotlib.pyplot as plt\n",
    "import numpy as np"
   ]
  },
  {
   "cell_type": "markdown",
   "metadata": {
    "colab_type": "text",
    "id": "VERbdOr1lmMG"
   },
   "source": [
    "## 2. Carregar dados do TensorFlow Data Service (TFDS)\n",
    "\n",
    "O conjunto de dados EuroSAT é baseado nas imagens do satélite Sentinel-2 e consiste de 27.000 imagens coloridas de dimensão 64x64x3 com 10 classes.  \n",
    "\n",
    "Dois conjuntos de dados são disponibilizados: (1) eurosat/rgb que contém imagens no formato RGB, que é o que usaremos; e (2) eurosat/all com imagens de 13 canais diferentes.\n",
    "\n",
    "\n",
    "### Exercício #1: Carregar dados\n",
    "\n",
    "A primeira etapa é carregar as imagens. Esse conjunto de dados está disponível no TFDS com o nome `eurosat/rgb`. Os dados estão em um único conjunto de nome \"train\" e, portanto precisam ser divididos em pelo menos dois conjuntos: dados de treinamento e de validação.\n",
    "\n",
    "Na célula abaixo inclua o seu código para carregar esse conjunto de dados. Mais detalhes de como carregar esse dados podem ser vistos em https://www.tensorflow.org/datasets.\n",
    "\n",
    "Ao carregar os dados, use o argumento `split` com porcentagens para separar os dados em dois conjuntos: dados de treinamento (80% dos dados) e de validação (20% dos dados). Para obter maiores detalhes de como usar o  método `tfds.load` pode ser obtido em https://www.tensorflow.org/datasets/splits."
   ]
  },
  {
   "cell_type": "code",
   "execution_count": null,
   "metadata": {
    "colab": {
     "base_uri": "https://localhost:8080/",
     "height": 324,
     "referenced_widgets": [
      "92898a2cb3a14296aa53f51ce3393c03",
      "4b97ccd9a7a34fa081f0c9a167cb746d",
      "f95810d99e3d40dbb79eaa3e75117cd5",
      "c5a2214430c44fcabb1440d399e71c6f",
      "8018d65aa5a1478d96a850422938b48f",
      "2467ef72fa0a47ee85e67de2cb4a1faa",
      "2394c6ef16b14cffb6df336987dff642",
      "55e235c603584dbb8c0b751ccd9c2bd1",
      "8a47267a6b8444db8c5f054583354994",
      "8227033c54f0499286f77e0de3ab522b",
      "d5cadc9fffe9468ca34f5e35afb414e3",
      "ecc5712bd5d64e7da9406aacb35450e6",
      "ed3d889c58ff46f5b88282e53d706b65",
      "7f2d4c557e78496abcacd67cb02b7637",
      "c97ad6c70062435a8d17a8048050eca2",
      "ced76dc891dd4ee382d606839b43e65a",
      "9f025cee283b4e66a4720576af001aa9",
      "5f6b2cc503844f96b3ab1039e48d42bd",
      "ca76e533e0b7418383029c2e7e6a7ae5",
      "d4765361562c4591aefb2d7769e24c55",
      "787adfbea183436782bffb3f7baae0f1",
      "4097a97c208e42fea05c53eb9d5e8dfb",
      "5d8c05042a1644f8939695e7c76d3dcb",
      "387788f0e994494a9ccfd21451b2531f",
      "508e597df40149069c6921e2d3eb1feb",
      "43c004e1bdf746f7b782157802d1b83d",
      "4d0b45aa385249c285105a5ab6fc0575",
      "61f7827d8796460cb334c6518f66a2a2",
      "de06515d307345cd85fa5dd79b500427",
      "d8d38edf41ed44a6a19e0718e030d367",
      "860cb78100d545efbfd85f5729241584",
      "3ee26e7bfac94f70bf323ef33134a4f1",
      "9b6f69d167af4ac28ec559bca7b29143",
      "dbcc01dcc5b6445bb0953dbcae0a75d6",
      "3718fc754dce4ddeb4bea7e0356799b8",
      "bd903afe12c144a786744da8abfb1aa7",
      "88288ede6ee248a2b976eba2a052169b",
      "4c78a34a1b724000a609134a3e7f66a3",
      "96ef7f5fc6f5486aae26267ff54c350d",
      "fefecb5c33c54791897c572b2c3118ff"
     ]
    },
    "colab_type": "code",
    "id": "V48g9r6eNGTY",
    "outputId": "2dddfc95-9095-469a-b119-5e9bcbdc6521"
   },
   "outputs": [],
   "source": [
    "# Carrega dados do TFDS\n",
    "# Inclua seu código aqui\n",
    "train_data, info = \n",
    "val_data ="
   ]
  },
  {
   "cell_type": "markdown",
   "metadata": {
    "colab_type": "text",
    "id": "eRj1O_-W06Ni"
   },
   "source": [
    "Execute a célula abaixo para visualizar as informações sobre esse o conjunto de dados `eurosat/rgb`. "
   ]
  },
  {
   "cell_type": "code",
   "execution_count": null,
   "metadata": {
    "colab": {
     "base_uri": "https://localhost:8080/",
     "height": 621
    },
    "colab_type": "code",
    "id": "lgWNIRGsSeAO",
    "outputId": "7b864199-5cfd-4d28-9b8c-704375d4da16"
   },
   "outputs": [],
   "source": [
    "info"
   ]
  },
  {
   "cell_type": "markdown",
   "metadata": {
    "colab_type": "text",
    "id": "xBACDCNETFR5"
   },
   "source": [
    "Verifique o número de exemplos de treinamento e de validação executando a célula abaixo."
   ]
  },
  {
   "cell_type": "code",
   "execution_count": null,
   "metadata": {
    "colab": {
     "base_uri": "https://localhost:8080/",
     "height": 52
    },
    "colab_type": "code",
    "id": "uQ66BQRvTMPD",
    "outputId": "2add04e8-09c9-4768-e70f-9a674ea54a10"
   },
   "outputs": [],
   "source": [
    "print('Número exemplos de treinamento =', len(list(train_data)))\n",
    "print('Número exemplos de treinamento =', len(list(val_data)))"
   ]
  },
  {
   "cell_type": "markdown",
   "metadata": {},
   "source": [
    "**Saída esperada:**\n",
    "\n",
    "    Número exemplos de treinamento = 21600\n",
    "    Número exemplos de treinamento = 5400"
   ]
  },
  {
   "cell_type": "markdown",
   "metadata": {
    "colab_type": "text",
    "id": "jrIqghVrx6-d"
   },
   "source": [
    "Execute a célula abaixo para definir a lista com os nomes das classes existentes no conjutno de dados."
   ]
  },
  {
   "cell_type": "code",
   "execution_count": null,
   "metadata": {
    "colab": {
     "base_uri": "https://localhost:8080/",
     "height": 34
    },
    "colab_type": "code",
    "id": "by3KZfAMt8GL",
    "outputId": "f472760e-dbb9-4888-8edb-5548861958a2"
   },
   "outputs": [],
   "source": [
    "labels_list = ['AnnualCrop', 'Forest', 'HerbaceousVegetation', 'Highway', 'Industrial',\n",
    "               'Pasture', 'PermanentCrop', 'Residential', 'River', 'SeaLake']\n",
    "print(labels_list)"
   ]
  },
  {
   "cell_type": "markdown",
   "metadata": {
    "colab_type": "text",
    "id": "nkSvheoOxkWL"
   },
   "source": [
    "### Exercíco #2: Visualização dos dados\n",
    "\n",
    "Na célula abaixo escreva um código para obter 5 exemplos dos dados de treinamento e visualizá-los juntamento com os nomes (`labels_list`) e números das classes.\n",
    "\n",
    "Para fazer isso você vai precisar de um laço `for`, dos comandos `print`, `plt.imshow()`, `plt.show()`, e do método `take()`. "
   ]
  },
  {
   "cell_type": "code",
   "execution_count": null,
   "metadata": {
    "colab": {
     "base_uri": "https://localhost:8080/",
     "height": 823
    },
    "colab_type": "code",
    "id": "5JV0FnBwNGUH",
    "outputId": "1ecf12ff-a895-47bc-ba82-999dcb73d86c"
   },
   "outputs": [],
   "source": [
    "# Itera no conjunto de dados pegando exemplos\n",
    "for data in train_data.take(5):\n",
    "# Inclua seu código aqui"
   ]
  },
  {
   "cell_type": "markdown",
   "metadata": {},
   "source": [
    "**Exemplo de saída esperada (sem as figuras):**\n",
    "\n",
    "    Classe: Industrial - 4\n",
    "    Classe: River - 8\n",
    "    Classe: River - 8\n",
    "    \n"
   ]
  },
  {
   "cell_type": "markdown",
   "metadata": {
    "colab_type": "text",
    "id": "FEFFyMNn8Tn7"
   },
   "source": [
    "## 3. Processamento dos dados\n",
    "\n",
    "Após carregar os dados, você tem que processá-los para poderem ser usados pela RNA.\n",
    "\n",
    "O módulo de vetores de características da EfficientNet permite que as imagens tenham em princípio qualquer dimensão, assim, não é necessário redimensionar as imagens. Porém, os valores dos pixels devem estar entre 0 e 1, conforme mencionado nas instruções de uso desse módulo, que podem ser vistas em https://tfhub.dev/tensorflow/efficientnet/b0/feature-vector/1. "
   ]
  },
  {
   "cell_type": "markdown",
   "metadata": {
    "colab_type": "text",
    "id": "nf1BhVkMxkWO"
   },
   "source": [
    "### Exercício #3: Normalização das imagens\n",
    "\n",
    "Na célula abaixo escreva um código para normalizar um lote de imagens e depois crie os lotes de dados de treinamento e de validação. A normalização deve transformar os valores dos pixels das imagens para números reais entre 0 e 1.\n",
    "\n",
    "Conforme vimos na aula, ao importar os dados do TF Data Services, os dados são armazenados em objetos e para podermos usar esses dados de forma eficiente temos que usar os métodos fornecidos para esse tipo de objeto.\n",
    "\n",
    "Para normalizar as imagens crie uma função de nome `format_image` e a utilize chamando o método `map()`. Para normalizar os dados você vai precisar primeiramente transformá-los em `float32`, para isso use a função do TensorFlow `tf.cast()`. As instruções de uso dessa função podem ser vistas em https://www.tensorflow.org/api_docs/python/tf/cast."
   ]
  },
  {
   "cell_type": "code",
   "execution_count": null,
   "metadata": {
    "colab": {
     "base_uri": "https://localhost:8080/",
     "height": 34
    },
    "colab_type": "code",
    "id": "_xIxkGCXPQ61",
    "outputId": "6c7ca954-d269-46da-d83b-6f551a6b6069"
   },
   "outputs": [],
   "source": [
    "# Definição da dimensão das imagens para processamento e do tamanho dos lotes de dados\n",
    "# Inclua seu código aqui\n",
    "IMAGE_SIZE = \n",
    "BATCH_SIZE = \n",
    "\n",
    "# Função usada para redimensionar e normalizar as imagens\n",
    "def format_image(image, label):\n",
    "    # Inclua seu código aqui )\n",
    "    \n",
    "\n",
    "# Cria lotes de dados usando o método map() para chamar a função format_image()\n",
    "# Inclua seu código aqui\n",
    "train_batches = \n",
    "val_batches = \n",
    "\n",
    "train_batches"
   ]
  },
  {
   "cell_type": "markdown",
   "metadata": {},
   "source": [
    "**Saída espeada:**\n",
    "\n",
    "    <DatasetV1Adapter shapes: ((None, 64, 64, 3), (None,)), types: (tf.float32, tf.int64)>"
   ]
  },
  {
   "cell_type": "markdown",
   "metadata": {
    "colab_type": "text",
    "id": "nF9Ja2kYFtIj"
   },
   "source": [
    "## 4.  Criação da RNA\n",
    "\n",
    "Nesse trabalho você vai criar e treinar uma RNA para identificar tipos de áreas a partir de imagens do satélite Sentinel-2.\n",
    "\n",
    "Para isso você vai criar uma RNA usando como base o módulo de vetor de características da rede EfficientNet, que foi treinada com as imagens da ImageNet. \n",
    "\n",
    "As redes EfficientNets são utilizadas para classificar imagens e apresentam um desempenho similar a outras redes mais conhecidas, porém, possui um número muito menor de parâmetros e é muito mais rápida. O trabalho que originou essa RNA é \n",
    "Mingxing Tan and Quoc V. Le: EfficientNet: Rethinking Model Scaling for Convolutional Neural Networks, ICML 2019. "
   ]
  },
  {
   "cell_type": "markdown",
   "metadata": {
    "colab_type": "text",
    "id": "TxsRcq8exkWR"
   },
   "source": [
    "### Exercício #4: Carregar vetor de características do TF-Hub\n",
    "\n",
    "Na célula abaixo crie um código que importa o módulo de vetores de características da EfficientNet e o coloca no objeto `feature_extractor`. Essa rede estão no TF-Hub e as informações de como usá-la podem ser obtidas no link https://tfhub.dev/tensorflow/efficientnet/b0/feature-vector/1.\n",
    "\n",
    "Pra fazer isso você vai precisar definir a dimensão do tensor de entrada da rede usando o argumento `input_shape` e a função `hub.KerasLayer()`."
   ]
  },
  {
   "cell_type": "code",
   "execution_count": null,
   "metadata": {
    "colab": {
     "base_uri": "https://localhost:8080/",
     "height": 34
    },
    "colab_type": "code",
    "id": "X3CEa1hFxkWR",
    "outputId": "068943f4-0e52-445c-836b-44c1153615f4"
   },
   "outputs": [],
   "source": [
    "# Dimensão das imagens para argumento input_shape\n",
    "# Inclua seu código aqui \n",
    "IMAGE_DIM = \n",
    "\n",
    "# Carrega vetores de características com a URL do módulo\n",
    "# Inclua seu código aqui \n",
    "MODULE_HANDLE =\n",
    "feature_extractor = \n",
    "feature_extractor"
   ]
  },
  {
   "cell_type": "markdown",
   "metadata": {},
   "source": [
    "**Saída espeada:**\n",
    "\n",
    "    <tensorflow_hub.keras_layer.KerasLayer at 0x7ff58df7ae48>"
   ]
  },
  {
   "cell_type": "markdown",
   "metadata": {
    "colab_type": "text",
    "id": "5XOkuR2eFtIl"
   },
   "source": [
    "### Exercício #5: Criação da RNA como o Keras\n",
    "\n",
    "Na célula abaixo crie um código que incorpora o `feature_extractor`, criado no exercício #4, em uma rede sequencial do Keras para realizar a tarefa de classificação multiclasse com 10 classes.\n",
    "\n",
    "Após criar a RNA utilize o método `summary()` para apresentá-la."
   ]
  },
  {
   "cell_type": "code",
   "execution_count": null,
   "metadata": {
    "colab": {
     "base_uri": "https://localhost:8080/",
     "height": 230
    },
    "colab_type": "code",
    "id": "htICjW7lFtIm",
    "outputId": "2c4cf1fc-ea16-4dd7-c059-adf0be59d658"
   },
   "outputs": [],
   "source": [
    "# Número de classes da RNA\n",
    "# Inclua seu código aqui \n",
    "NUM_CLASSES \n",
    "\n",
    "# Cria modelo seguencial do Keras para problema de classificação com 10 classes\n",
    "# Inclua seu código aqui \n",
    "\n",
    "\n",
    "# Apresenta configuração da RNA\n",
    "# Inclua seu código aqui \n",
    "\n"
   ]
  },
  {
   "cell_type": "markdown",
   "metadata": {},
   "source": [
    "**Saída esperada:**\n",
    "\n",
    "    Model: \"sequential\"\n",
    "    _________________________________________________________________\n",
    "    Layer (type)                 Output Shape              Param #   \n",
    "    =================================================================\n",
    "    keras_layer (KerasLayer)     (None, 1280)              4049564   \n",
    "    _________________________________________________________________\n",
    "    dense (Dense)                (None, 10)                12810     \n",
    "    =================================================================\n",
    "    Total params: 4,062,374\n",
    "    Trainable params: 12,810\n",
    "    Non-trainable params: 4,049,564\n",
    "    _________________________________________________________________"
   ]
  },
  {
   "cell_type": "markdown",
   "metadata": {
    "colab_type": "text",
    "id": "9gazRM-q8ToB"
   },
   "source": [
    "## 5. Compilação e treinamento da RNA\n",
    "\n",
    "Como visto em aula, o treinamento da RNA deve ser realizado de forma que somente os parâmetros da camada densa, adicionada ao extrator de características, sejam alterados durante o treinamento. Isso é necessário para não destrui a parte da RNA que corresponde à EfficientNet, que já foi previamente treinada com um conjunto de centenas de milhares de imagens. Assim, você tem que \"congelar\" os parâmetros do extrator e características."
   ]
  },
  {
   "cell_type": "markdown",
   "metadata": {
    "colab_type": "text",
    "id": "jiqB1SV2xkWY"
   },
   "source": [
    "### Exercício #6: Compilação da RNA\n",
    "\n",
    "Na célula abaixo crie um código que congela os parâmetros do `feature_extractor` e compila a RNA usando os seguintes parâmetros:\n",
    "\n",
    "- Método de otimização: Adam;\n",
    "- Fução de custo: `sparse_categorical_crossentropy`;\n",
    "- Métrica: `accuracy`."
   ]
  },
  {
   "cell_type": "code",
   "execution_count": null,
   "metadata": {
    "colab": {},
    "colab_type": "code",
    "id": "JTusJhiV8ToB"
   },
   "outputs": [],
   "source": [
    "# Congela parâmetros da MobiliNet\n",
    "# Inclua seu código aqui \n",
    "\n",
    "\n",
    "# Define método de otimização\n",
    "# Inclua seu código aqui \n",
    "\n",
    "\n",
    "# Compila RNA\n",
    "# Inclua seu código aqui \n",
    "\n"
   ]
  },
  {
   "cell_type": "markdown",
   "metadata": {
    "colab_type": "text",
    "id": "Hepki4908ToE"
   },
   "source": [
    "### Exercício #7: Treinamento da RNA\n",
    "\n",
    "O treinamento da RNA deve ser realizado com o método `fit` e os dados de treinamento e validação são fornecidos por meio dos objetos `train_batches` e `val_batches`. \n",
    "\n",
    "Na célula abaixo crie um código que realiza o treinameto da RNA usando 10 épocas de treinamento. "
   ]
  },
  {
   "cell_type": "code",
   "execution_count": null,
   "metadata": {
    "colab": {
     "base_uri": "https://localhost:8080/",
     "height": 372
    },
    "colab_type": "code",
    "id": "DhPtITzqOKoH",
    "outputId": "129f45cb-997b-4b14-acd2-57e87aa8d439"
   },
   "outputs": [],
   "source": [
    "# Define número de épocas de treinamento\n",
    "# Inclua seu código aqui \n",
    "\n",
    "\n",
    "# Realiza o treinamento usando os dados de treinamento e validação\n",
    "# Inclua seu código aqui (~1 comando)\n",
    "\n"
   ]
  },
  {
   "cell_type": "markdown",
   "metadata": {},
   "source": [
    "**Saída esperada:**\n",
    "\n",
    "    Epoch 1/10\n",
    "    675/675 [==============================] - 13s 19ms/step - loss: 0.5030 - accuracy: 0.8542 - val_loss: 0.3120 - val_accuracy: 0.9002\n",
    "    .\n",
    "    .\n",
    "    .\n",
    "    Epoch 10/10\n",
    "    675/675 [==============================] - 12s 18ms/step - loss: 0.1355 - accuracy: 0.9574 - val_loss: 0.2189 - val_accuracy: 0.9244   "
   ]
  },
  {
   "cell_type": "markdown",
   "metadata": {
    "colab_type": "text",
    "id": "vpYapMtIxkWe"
   },
   "source": [
    "### Exercício #8: Resultados do treinamento\n",
    "\n",
    "Na célula abaixo crie um código que apresenta os resultados do treinamento em função das épocas. Você deve fazer dois gráficos:\n",
    "\n",
    "1. Valores da função de custo para os dados de treinamento e de validação;\n",
    "2. Valores da métrica para os dados de treinamento e de validação."
   ]
  },
  {
   "cell_type": "code",
   "execution_count": null,
   "metadata": {
    "colab": {
     "base_uri": "https://localhost:8080/",
     "height": 576
    },
    "colab_type": "code",
    "id": "Asbp6Xr_xkWe",
    "outputId": "41ba573a-d1e7-4c35-f5c7-75c8b0138994"
   },
   "outputs": [],
   "source": [
    "# Definir vetores com valores da função de custo e da métrica para os dados de treinamento e de validação\n",
    "# Inclua seu código aqui \n",
    "\n",
    "\n",
    "# Criar vetor de épocas\n",
    "# Inclua seu código aqui \n",
    "\n",
    "\n",
    "# Fazer o gráfico dos valores da função de custo\n",
    "# Inclua seu código aqui \n",
    "\n",
    "\n",
    "\n",
    "# Fazer o gráfico dos valores da métrica\n",
    "# Inclua seu código aqui \n",
    "\n"
   ]
  },
  {
   "cell_type": "markdown",
   "metadata": {
    "colab_type": "text",
    "id": "B8kOc2kq8ToI"
   },
   "source": [
    "## 6.4 Teste da RNA\n",
    "\n",
    "Após o treinamento é necessário verificar o desempenho da RNA. paar isso vamos calcular os valores da função de custo e da métrica para as imagens do conjunto de validação e depois vamos usar o método `predict` para prever as classes de algumas imagens.\n",
    "\n",
    "O código da célula abaixo calcula o resultado da função de custo e da exatidão para os exemplos validação usando o método `evaluate`."
   ]
  },
  {
   "cell_type": "markdown",
   "metadata": {
    "colab_type": "text",
    "id": "l6zgWaEOxkWh"
   },
   "source": [
    "### Exercício #9: Avaliação do desempenho da RNA\n",
    "\n",
    "Na célula abaixo determine o desemepnho da RNA usando o método `evaluate` para calcular o valor da função d ecusto e da métrica para os dados de validação."
   ]
  },
  {
   "cell_type": "code",
   "execution_count": null,
   "metadata": {
    "colab": {
     "base_uri": "https://localhost:8080/",
     "height": 52
    },
    "colab_type": "code",
    "id": "yoodW_pcVH9p",
    "outputId": "3fe6673d-5f04-4b91-9478-62aa1407c1b9"
   },
   "outputs": [],
   "source": [
    "# Avalia desempenho da RNA para os dados de validação\n",
    "# Inclua seu código aqui \n",
    "\n",
    "\n",
    "# Apresenta os resultados\n",
    "# Inclua seu código aqui\n"
   ]
  },
  {
   "cell_type": "markdown",
   "metadata": {},
   "source": [
    "**Saída esperada:**\n",
    "\n",
    "    loss: 0.2189\n",
    "    accuracy: 0.9244"
   ]
  },
  {
   "cell_type": "markdown",
   "metadata": {
    "colab_type": "text",
    "id": "awsX_uxi8ToL"
   },
   "source": [
    "### Exercício #10: Teste de classificação de imagens\n",
    "\n",
    "Para poder fornecer as imagens para a RNA usando o método `predict` você precisa extrai-las do objeto `val_data` e processá-las com a função `format_image`, que por sua vez é chamada pelo método `map()`. Além disso, você tem que incluir o eixo dos exemplos na imagem de acordo com o esperado por uma RNA do Keras.\n",
    "\n",
    "Na célula baixo crie um código que calcula as classes previstas para os 5 primeiros exemplos do conjunto de validação usando o método `predict` e apresenta os resultados junto com as imagens e as classes previstas e reais."
   ]
  },
  {
   "cell_type": "code",
   "execution_count": null,
   "metadata": {
    "colab": {
     "base_uri": "https://localhost:8080/",
     "height": 1000
    },
    "colab_type": "code",
    "id": "4Fc-NSx-Vy4a",
    "outputId": "ff3193a7-a82f-4c97-e50e-61539fec7e48"
   },
   "outputs": [],
   "source": [
    "# Itera no objeto val_data para pegar 5 imagens e aplica função format_image\n",
    "# Inclua seu código aqui (~1 linha)\n",
    "for data in val_data.map(format_image).take(5):\n",
    "    \n",
    "    # Extrai imagem e classe prevista\n",
    "    # Inclua seu código aqui \n",
    "\n",
    "    # Adiciona eixo dos exemplos\n",
    "    # Inclua seu código aqui \n",
    "\n",
    "\n",
    "    # Calcula probabilidades previstas pela RNA\n",
    "    # Inclua seu código aqui\n",
    "\n",
    "    \n",
    "    # Determina classe prevista\n",
    "    # Inclua seu código aqui \n",
    "\n",
    "\n",
    "    # Apresenta resultados das classes e mostra imagem\n",
    "    # Inclua seu código aqui\n"
   ]
  },
  {
   "cell_type": "markdown",
   "metadata": {},
   "source": [
    "**Saída esperada (sem incluir as imagens):**\n",
    "\n",
    "    Classe prevista = Industrial , Classe real = Industrial\n",
    "    Classe prevista = AnnualCrop , Classe real = AnnualCrop\n",
    "    Classe prevista = HerbaceousVegetation , Classe real = HerbaceousVegetation\n",
    "    Classe prevista = River , Classe real = River\n",
    "    Classe prevista = Residential , Classe real = Residential"
   ]
  }
 ],
 "metadata": {
  "accelerator": "GPU",
  "colab": {
   "name": "Trabalho2_1_Datasets_Modelos.ipynb",
   "provenance": []
  },
  "kernelspec": {
   "display_name": "Python 3",
   "language": "python",
   "name": "python3"
  },
  "language_info": {
   "codemirror_mode": {
    "name": "ipython",
    "version": 3
   },
   "file_extension": ".py",
   "mimetype": "text/x-python",
   "name": "python",
   "nbconvert_exporter": "python",
   "pygments_lexer": "ipython3",
   "version": "3.7.4"
  },
  "widgets": {
   "application/vnd.jupyter.widget-state+json": {
    "2394c6ef16b14cffb6df336987dff642": {
     "model_module": "@jupyter-widgets/controls",
     "model_name": "DescriptionStyleModel",
     "state": {
      "_model_module": "@jupyter-widgets/controls",
      "_model_module_version": "1.5.0",
      "_model_name": "DescriptionStyleModel",
      "_view_count": null,
      "_view_module": "@jupyter-widgets/base",
      "_view_module_version": "1.2.0",
      "_view_name": "StyleView",
      "description_width": ""
     }
    },
    "2467ef72fa0a47ee85e67de2cb4a1faa": {
     "model_module": "@jupyter-widgets/base",
     "model_name": "LayoutModel",
     "state": {
      "_model_module": "@jupyter-widgets/base",
      "_model_module_version": "1.2.0",
      "_model_name": "LayoutModel",
      "_view_count": null,
      "_view_module": "@jupyter-widgets/base",
      "_view_module_version": "1.2.0",
      "_view_name": "LayoutView",
      "align_content": null,
      "align_items": null,
      "align_self": null,
      "border": null,
      "bottom": null,
      "display": null,
      "flex": null,
      "flex_flow": null,
      "grid_area": null,
      "grid_auto_columns": null,
      "grid_auto_flow": null,
      "grid_auto_rows": null,
      "grid_column": null,
      "grid_gap": null,
      "grid_row": null,
      "grid_template_areas": null,
      "grid_template_columns": null,
      "grid_template_rows": null,
      "height": null,
      "justify_content": null,
      "justify_items": null,
      "left": null,
      "margin": null,
      "max_height": null,
      "max_width": null,
      "min_height": null,
      "min_width": null,
      "object_fit": null,
      "object_position": null,
      "order": null,
      "overflow": null,
      "overflow_x": null,
      "overflow_y": null,
      "padding": null,
      "right": null,
      "top": null,
      "visibility": null,
      "width": null
     }
    },
    "3718fc754dce4ddeb4bea7e0356799b8": {
     "model_module": "@jupyter-widgets/controls",
     "model_name": "FloatProgressModel",
     "state": {
      "_dom_classes": [],
      "_model_module": "@jupyter-widgets/controls",
      "_model_module_version": "1.5.0",
      "_model_name": "FloatProgressModel",
      "_view_count": null,
      "_view_module": "@jupyter-widgets/controls",
      "_view_module_version": "1.5.0",
      "_view_name": "ProgressView",
      "bar_style": "danger",
      "description": " 88%",
      "description_tooltip": null,
      "layout": "IPY_MODEL_4c78a34a1b724000a609134a3e7f66a3",
      "max": 27000,
      "min": 0,
      "orientation": "horizontal",
      "style": "IPY_MODEL_88288ede6ee248a2b976eba2a052169b",
      "value": 23857
     }
    },
    "387788f0e994494a9ccfd21451b2531f": {
     "model_module": "@jupyter-widgets/base",
     "model_name": "LayoutModel",
     "state": {
      "_model_module": "@jupyter-widgets/base",
      "_model_module_version": "1.2.0",
      "_model_name": "LayoutModel",
      "_view_count": null,
      "_view_module": "@jupyter-widgets/base",
      "_view_module_version": "1.2.0",
      "_view_name": "LayoutView",
      "align_content": null,
      "align_items": null,
      "align_self": null,
      "border": null,
      "bottom": null,
      "display": null,
      "flex": null,
      "flex_flow": null,
      "grid_area": null,
      "grid_auto_columns": null,
      "grid_auto_flow": null,
      "grid_auto_rows": null,
      "grid_column": null,
      "grid_gap": null,
      "grid_row": null,
      "grid_template_areas": null,
      "grid_template_columns": null,
      "grid_template_rows": null,
      "height": null,
      "justify_content": null,
      "justify_items": null,
      "left": null,
      "margin": null,
      "max_height": null,
      "max_width": null,
      "min_height": null,
      "min_width": null,
      "object_fit": null,
      "object_position": null,
      "order": null,
      "overflow": null,
      "overflow_x": null,
      "overflow_y": null,
      "padding": null,
      "right": null,
      "top": null,
      "visibility": null,
      "width": null
     }
    },
    "3ee26e7bfac94f70bf323ef33134a4f1": {
     "model_module": "@jupyter-widgets/base",
     "model_name": "LayoutModel",
     "state": {
      "_model_module": "@jupyter-widgets/base",
      "_model_module_version": "1.2.0",
      "_model_name": "LayoutModel",
      "_view_count": null,
      "_view_module": "@jupyter-widgets/base",
      "_view_module_version": "1.2.0",
      "_view_name": "LayoutView",
      "align_content": null,
      "align_items": null,
      "align_self": null,
      "border": null,
      "bottom": null,
      "display": null,
      "flex": null,
      "flex_flow": null,
      "grid_area": null,
      "grid_auto_columns": null,
      "grid_auto_flow": null,
      "grid_auto_rows": null,
      "grid_column": null,
      "grid_gap": null,
      "grid_row": null,
      "grid_template_areas": null,
      "grid_template_columns": null,
      "grid_template_rows": null,
      "height": null,
      "justify_content": null,
      "justify_items": null,
      "left": null,
      "margin": null,
      "max_height": null,
      "max_width": null,
      "min_height": null,
      "min_width": null,
      "object_fit": null,
      "object_position": null,
      "order": null,
      "overflow": null,
      "overflow_x": null,
      "overflow_y": null,
      "padding": null,
      "right": null,
      "top": null,
      "visibility": null,
      "width": null
     }
    },
    "4097a97c208e42fea05c53eb9d5e8dfb": {
     "model_module": "@jupyter-widgets/base",
     "model_name": "LayoutModel",
     "state": {
      "_model_module": "@jupyter-widgets/base",
      "_model_module_version": "1.2.0",
      "_model_name": "LayoutModel",
      "_view_count": null,
      "_view_module": "@jupyter-widgets/base",
      "_view_module_version": "1.2.0",
      "_view_name": "LayoutView",
      "align_content": null,
      "align_items": null,
      "align_self": null,
      "border": null,
      "bottom": null,
      "display": null,
      "flex": null,
      "flex_flow": null,
      "grid_area": null,
      "grid_auto_columns": null,
      "grid_auto_flow": null,
      "grid_auto_rows": null,
      "grid_column": null,
      "grid_gap": null,
      "grid_row": null,
      "grid_template_areas": null,
      "grid_template_columns": null,
      "grid_template_rows": null,
      "height": null,
      "justify_content": null,
      "justify_items": null,
      "left": null,
      "margin": null,
      "max_height": null,
      "max_width": null,
      "min_height": null,
      "min_width": null,
      "object_fit": null,
      "object_position": null,
      "order": null,
      "overflow": null,
      "overflow_x": null,
      "overflow_y": null,
      "padding": null,
      "right": null,
      "top": null,
      "visibility": null,
      "width": null
     }
    },
    "43c004e1bdf746f7b782157802d1b83d": {
     "model_module": "@jupyter-widgets/base",
     "model_name": "LayoutModel",
     "state": {
      "_model_module": "@jupyter-widgets/base",
      "_model_module_version": "1.2.0",
      "_model_name": "LayoutModel",
      "_view_count": null,
      "_view_module": "@jupyter-widgets/base",
      "_view_module_version": "1.2.0",
      "_view_name": "LayoutView",
      "align_content": null,
      "align_items": null,
      "align_self": null,
      "border": null,
      "bottom": null,
      "display": null,
      "flex": null,
      "flex_flow": null,
      "grid_area": null,
      "grid_auto_columns": null,
      "grid_auto_flow": null,
      "grid_auto_rows": null,
      "grid_column": null,
      "grid_gap": null,
      "grid_row": null,
      "grid_template_areas": null,
      "grid_template_columns": null,
      "grid_template_rows": null,
      "height": null,
      "justify_content": null,
      "justify_items": null,
      "left": null,
      "margin": null,
      "max_height": null,
      "max_width": null,
      "min_height": null,
      "min_width": null,
      "object_fit": null,
      "object_position": null,
      "order": null,
      "overflow": null,
      "overflow_x": null,
      "overflow_y": null,
      "padding": null,
      "right": null,
      "top": null,
      "visibility": null,
      "width": null
     }
    },
    "4b97ccd9a7a34fa081f0c9a167cb746d": {
     "model_module": "@jupyter-widgets/base",
     "model_name": "LayoutModel",
     "state": {
      "_model_module": "@jupyter-widgets/base",
      "_model_module_version": "1.2.0",
      "_model_name": "LayoutModel",
      "_view_count": null,
      "_view_module": "@jupyter-widgets/base",
      "_view_module_version": "1.2.0",
      "_view_name": "LayoutView",
      "align_content": null,
      "align_items": null,
      "align_self": null,
      "border": null,
      "bottom": null,
      "display": null,
      "flex": null,
      "flex_flow": null,
      "grid_area": null,
      "grid_auto_columns": null,
      "grid_auto_flow": null,
      "grid_auto_rows": null,
      "grid_column": null,
      "grid_gap": null,
      "grid_row": null,
      "grid_template_areas": null,
      "grid_template_columns": null,
      "grid_template_rows": null,
      "height": null,
      "justify_content": null,
      "justify_items": null,
      "left": null,
      "margin": null,
      "max_height": null,
      "max_width": null,
      "min_height": null,
      "min_width": null,
      "object_fit": null,
      "object_position": null,
      "order": null,
      "overflow": null,
      "overflow_x": null,
      "overflow_y": null,
      "padding": null,
      "right": null,
      "top": null,
      "visibility": null,
      "width": null
     }
    },
    "4c78a34a1b724000a609134a3e7f66a3": {
     "model_module": "@jupyter-widgets/base",
     "model_name": "LayoutModel",
     "state": {
      "_model_module": "@jupyter-widgets/base",
      "_model_module_version": "1.2.0",
      "_model_name": "LayoutModel",
      "_view_count": null,
      "_view_module": "@jupyter-widgets/base",
      "_view_module_version": "1.2.0",
      "_view_name": "LayoutView",
      "align_content": null,
      "align_items": null,
      "align_self": null,
      "border": null,
      "bottom": null,
      "display": null,
      "flex": null,
      "flex_flow": null,
      "grid_area": null,
      "grid_auto_columns": null,
      "grid_auto_flow": null,
      "grid_auto_rows": null,
      "grid_column": null,
      "grid_gap": null,
      "grid_row": null,
      "grid_template_areas": null,
      "grid_template_columns": null,
      "grid_template_rows": null,
      "height": null,
      "justify_content": null,
      "justify_items": null,
      "left": null,
      "margin": null,
      "max_height": null,
      "max_width": null,
      "min_height": null,
      "min_width": null,
      "object_fit": null,
      "object_position": null,
      "order": null,
      "overflow": null,
      "overflow_x": null,
      "overflow_y": null,
      "padding": null,
      "right": null,
      "top": null,
      "visibility": null,
      "width": null
     }
    },
    "4d0b45aa385249c285105a5ab6fc0575": {
     "model_module": "@jupyter-widgets/controls",
     "model_name": "FloatProgressModel",
     "state": {
      "_dom_classes": [],
      "_model_module": "@jupyter-widgets/controls",
      "_model_module_version": "1.5.0",
      "_model_name": "FloatProgressModel",
      "_view_count": null,
      "_view_module": "@jupyter-widgets/controls",
      "_view_module_version": "1.5.0",
      "_view_name": "ProgressView",
      "bar_style": "info",
      "description": "",
      "description_tooltip": null,
      "layout": "IPY_MODEL_d8d38edf41ed44a6a19e0718e030d367",
      "max": 1,
      "min": 0,
      "orientation": "horizontal",
      "style": "IPY_MODEL_de06515d307345cd85fa5dd79b500427",
      "value": 1
     }
    },
    "508e597df40149069c6921e2d3eb1feb": {
     "model_module": "@jupyter-widgets/controls",
     "model_name": "HBoxModel",
     "state": {
      "_dom_classes": [],
      "_model_module": "@jupyter-widgets/controls",
      "_model_module_version": "1.5.0",
      "_model_name": "HBoxModel",
      "_view_count": null,
      "_view_module": "@jupyter-widgets/controls",
      "_view_module_version": "1.5.0",
      "_view_name": "HBoxView",
      "box_style": "",
      "children": [
       "IPY_MODEL_4d0b45aa385249c285105a5ab6fc0575",
       "IPY_MODEL_61f7827d8796460cb334c6518f66a2a2"
      ],
      "layout": "IPY_MODEL_43c004e1bdf746f7b782157802d1b83d"
     }
    },
    "55e235c603584dbb8c0b751ccd9c2bd1": {
     "model_module": "@jupyter-widgets/base",
     "model_name": "LayoutModel",
     "state": {
      "_model_module": "@jupyter-widgets/base",
      "_model_module_version": "1.2.0",
      "_model_name": "LayoutModel",
      "_view_count": null,
      "_view_module": "@jupyter-widgets/base",
      "_view_module_version": "1.2.0",
      "_view_name": "LayoutView",
      "align_content": null,
      "align_items": null,
      "align_self": null,
      "border": null,
      "bottom": null,
      "display": null,
      "flex": null,
      "flex_flow": null,
      "grid_area": null,
      "grid_auto_columns": null,
      "grid_auto_flow": null,
      "grid_auto_rows": null,
      "grid_column": null,
      "grid_gap": null,
      "grid_row": null,
      "grid_template_areas": null,
      "grid_template_columns": null,
      "grid_template_rows": null,
      "height": null,
      "justify_content": null,
      "justify_items": null,
      "left": null,
      "margin": null,
      "max_height": null,
      "max_width": null,
      "min_height": null,
      "min_width": null,
      "object_fit": null,
      "object_position": null,
      "order": null,
      "overflow": null,
      "overflow_x": null,
      "overflow_y": null,
      "padding": null,
      "right": null,
      "top": null,
      "visibility": null,
      "width": null
     }
    },
    "5d8c05042a1644f8939695e7c76d3dcb": {
     "model_module": "@jupyter-widgets/controls",
     "model_name": "DescriptionStyleModel",
     "state": {
      "_model_module": "@jupyter-widgets/controls",
      "_model_module_version": "1.5.0",
      "_model_name": "DescriptionStyleModel",
      "_view_count": null,
      "_view_module": "@jupyter-widgets/base",
      "_view_module_version": "1.2.0",
      "_view_name": "StyleView",
      "description_width": ""
     }
    },
    "5f6b2cc503844f96b3ab1039e48d42bd": {
     "model_module": "@jupyter-widgets/base",
     "model_name": "LayoutModel",
     "state": {
      "_model_module": "@jupyter-widgets/base",
      "_model_module_version": "1.2.0",
      "_model_name": "LayoutModel",
      "_view_count": null,
      "_view_module": "@jupyter-widgets/base",
      "_view_module_version": "1.2.0",
      "_view_name": "LayoutView",
      "align_content": null,
      "align_items": null,
      "align_self": null,
      "border": null,
      "bottom": null,
      "display": null,
      "flex": null,
      "flex_flow": null,
      "grid_area": null,
      "grid_auto_columns": null,
      "grid_auto_flow": null,
      "grid_auto_rows": null,
      "grid_column": null,
      "grid_gap": null,
      "grid_row": null,
      "grid_template_areas": null,
      "grid_template_columns": null,
      "grid_template_rows": null,
      "height": null,
      "justify_content": null,
      "justify_items": null,
      "left": null,
      "margin": null,
      "max_height": null,
      "max_width": null,
      "min_height": null,
      "min_width": null,
      "object_fit": null,
      "object_position": null,
      "order": null,
      "overflow": null,
      "overflow_x": null,
      "overflow_y": null,
      "padding": null,
      "right": null,
      "top": null,
      "visibility": null,
      "width": null
     }
    },
    "61f7827d8796460cb334c6518f66a2a2": {
     "model_module": "@jupyter-widgets/controls",
     "model_name": "HTMLModel",
     "state": {
      "_dom_classes": [],
      "_model_module": "@jupyter-widgets/controls",
      "_model_module_version": "1.5.0",
      "_model_name": "HTMLModel",
      "_view_count": null,
      "_view_module": "@jupyter-widgets/controls",
      "_view_module_version": "1.5.0",
      "_view_name": "HTMLView",
      "description": "",
      "description_tooltip": null,
      "layout": "IPY_MODEL_3ee26e7bfac94f70bf323ef33134a4f1",
      "placeholder": "​",
      "style": "IPY_MODEL_860cb78100d545efbfd85f5729241584",
      "value": " 27000/0 [00:10&lt;00:00, 2652.83 examples/s]"
     }
    },
    "787adfbea183436782bffb3f7baae0f1": {
     "model_module": "@jupyter-widgets/controls",
     "model_name": "ProgressStyleModel",
     "state": {
      "_model_module": "@jupyter-widgets/controls",
      "_model_module_version": "1.5.0",
      "_model_name": "ProgressStyleModel",
      "_view_count": null,
      "_view_module": "@jupyter-widgets/base",
      "_view_module_version": "1.2.0",
      "_view_name": "StyleView",
      "bar_color": null,
      "description_width": "initial"
     }
    },
    "7f2d4c557e78496abcacd67cb02b7637": {
     "model_module": "@jupyter-widgets/base",
     "model_name": "LayoutModel",
     "state": {
      "_model_module": "@jupyter-widgets/base",
      "_model_module_version": "1.2.0",
      "_model_name": "LayoutModel",
      "_view_count": null,
      "_view_module": "@jupyter-widgets/base",
      "_view_module_version": "1.2.0",
      "_view_name": "LayoutView",
      "align_content": null,
      "align_items": null,
      "align_self": null,
      "border": null,
      "bottom": null,
      "display": null,
      "flex": null,
      "flex_flow": null,
      "grid_area": null,
      "grid_auto_columns": null,
      "grid_auto_flow": null,
      "grid_auto_rows": null,
      "grid_column": null,
      "grid_gap": null,
      "grid_row": null,
      "grid_template_areas": null,
      "grid_template_columns": null,
      "grid_template_rows": null,
      "height": null,
      "justify_content": null,
      "justify_items": null,
      "left": null,
      "margin": null,
      "max_height": null,
      "max_width": null,
      "min_height": null,
      "min_width": null,
      "object_fit": null,
      "object_position": null,
      "order": null,
      "overflow": null,
      "overflow_x": null,
      "overflow_y": null,
      "padding": null,
      "right": null,
      "top": null,
      "visibility": null,
      "width": null
     }
    },
    "8018d65aa5a1478d96a850422938b48f": {
     "model_module": "@jupyter-widgets/controls",
     "model_name": "ProgressStyleModel",
     "state": {
      "_model_module": "@jupyter-widgets/controls",
      "_model_module_version": "1.5.0",
      "_model_name": "ProgressStyleModel",
      "_view_count": null,
      "_view_module": "@jupyter-widgets/base",
      "_view_module_version": "1.2.0",
      "_view_name": "StyleView",
      "bar_color": null,
      "description_width": "initial"
     }
    },
    "8227033c54f0499286f77e0de3ab522b": {
     "model_module": "@jupyter-widgets/base",
     "model_name": "LayoutModel",
     "state": {
      "_model_module": "@jupyter-widgets/base",
      "_model_module_version": "1.2.0",
      "_model_name": "LayoutModel",
      "_view_count": null,
      "_view_module": "@jupyter-widgets/base",
      "_view_module_version": "1.2.0",
      "_view_name": "LayoutView",
      "align_content": null,
      "align_items": null,
      "align_self": null,
      "border": null,
      "bottom": null,
      "display": null,
      "flex": null,
      "flex_flow": null,
      "grid_area": null,
      "grid_auto_columns": null,
      "grid_auto_flow": null,
      "grid_auto_rows": null,
      "grid_column": null,
      "grid_gap": null,
      "grid_row": null,
      "grid_template_areas": null,
      "grid_template_columns": null,
      "grid_template_rows": null,
      "height": null,
      "justify_content": null,
      "justify_items": null,
      "left": null,
      "margin": null,
      "max_height": null,
      "max_width": null,
      "min_height": null,
      "min_width": null,
      "object_fit": null,
      "object_position": null,
      "order": null,
      "overflow": null,
      "overflow_x": null,
      "overflow_y": null,
      "padding": null,
      "right": null,
      "top": null,
      "visibility": null,
      "width": null
     }
    },
    "860cb78100d545efbfd85f5729241584": {
     "model_module": "@jupyter-widgets/controls",
     "model_name": "DescriptionStyleModel",
     "state": {
      "_model_module": "@jupyter-widgets/controls",
      "_model_module_version": "1.5.0",
      "_model_name": "DescriptionStyleModel",
      "_view_count": null,
      "_view_module": "@jupyter-widgets/base",
      "_view_module_version": "1.2.0",
      "_view_name": "StyleView",
      "description_width": ""
     }
    },
    "88288ede6ee248a2b976eba2a052169b": {
     "model_module": "@jupyter-widgets/controls",
     "model_name": "ProgressStyleModel",
     "state": {
      "_model_module": "@jupyter-widgets/controls",
      "_model_module_version": "1.5.0",
      "_model_name": "ProgressStyleModel",
      "_view_count": null,
      "_view_module": "@jupyter-widgets/base",
      "_view_module_version": "1.2.0",
      "_view_name": "StyleView",
      "bar_color": null,
      "description_width": "initial"
     }
    },
    "8a47267a6b8444db8c5f054583354994": {
     "model_module": "@jupyter-widgets/controls",
     "model_name": "HBoxModel",
     "state": {
      "_dom_classes": [],
      "_model_module": "@jupyter-widgets/controls",
      "_model_module_version": "1.5.0",
      "_model_name": "HBoxModel",
      "_view_count": null,
      "_view_module": "@jupyter-widgets/controls",
      "_view_module_version": "1.5.0",
      "_view_name": "HBoxView",
      "box_style": "",
      "children": [
       "IPY_MODEL_d5cadc9fffe9468ca34f5e35afb414e3",
       "IPY_MODEL_ecc5712bd5d64e7da9406aacb35450e6"
      ],
      "layout": "IPY_MODEL_8227033c54f0499286f77e0de3ab522b"
     }
    },
    "92898a2cb3a14296aa53f51ce3393c03": {
     "model_module": "@jupyter-widgets/controls",
     "model_name": "HBoxModel",
     "state": {
      "_dom_classes": [],
      "_model_module": "@jupyter-widgets/controls",
      "_model_module_version": "1.5.0",
      "_model_name": "HBoxModel",
      "_view_count": null,
      "_view_module": "@jupyter-widgets/controls",
      "_view_module_version": "1.5.0",
      "_view_name": "HBoxView",
      "box_style": "",
      "children": [
       "IPY_MODEL_f95810d99e3d40dbb79eaa3e75117cd5",
       "IPY_MODEL_c5a2214430c44fcabb1440d399e71c6f"
      ],
      "layout": "IPY_MODEL_4b97ccd9a7a34fa081f0c9a167cb746d"
     }
    },
    "96ef7f5fc6f5486aae26267ff54c350d": {
     "model_module": "@jupyter-widgets/controls",
     "model_name": "DescriptionStyleModel",
     "state": {
      "_model_module": "@jupyter-widgets/controls",
      "_model_module_version": "1.5.0",
      "_model_name": "DescriptionStyleModel",
      "_view_count": null,
      "_view_module": "@jupyter-widgets/base",
      "_view_module_version": "1.2.0",
      "_view_name": "StyleView",
      "description_width": ""
     }
    },
    "9b6f69d167af4ac28ec559bca7b29143": {
     "model_module": "@jupyter-widgets/controls",
     "model_name": "HBoxModel",
     "state": {
      "_dom_classes": [],
      "_model_module": "@jupyter-widgets/controls",
      "_model_module_version": "1.5.0",
      "_model_name": "HBoxModel",
      "_view_count": null,
      "_view_module": "@jupyter-widgets/controls",
      "_view_module_version": "1.5.0",
      "_view_name": "HBoxView",
      "box_style": "",
      "children": [
       "IPY_MODEL_3718fc754dce4ddeb4bea7e0356799b8",
       "IPY_MODEL_bd903afe12c144a786744da8abfb1aa7"
      ],
      "layout": "IPY_MODEL_dbcc01dcc5b6445bb0953dbcae0a75d6"
     }
    },
    "9f025cee283b4e66a4720576af001aa9": {
     "model_module": "@jupyter-widgets/controls",
     "model_name": "HBoxModel",
     "state": {
      "_dom_classes": [],
      "_model_module": "@jupyter-widgets/controls",
      "_model_module_version": "1.5.0",
      "_model_name": "HBoxModel",
      "_view_count": null,
      "_view_module": "@jupyter-widgets/controls",
      "_view_module_version": "1.5.0",
      "_view_name": "HBoxView",
      "box_style": "",
      "children": [
       "IPY_MODEL_ca76e533e0b7418383029c2e7e6a7ae5",
       "IPY_MODEL_d4765361562c4591aefb2d7769e24c55"
      ],
      "layout": "IPY_MODEL_5f6b2cc503844f96b3ab1039e48d42bd"
     }
    },
    "bd903afe12c144a786744da8abfb1aa7": {
     "model_module": "@jupyter-widgets/controls",
     "model_name": "HTMLModel",
     "state": {
      "_dom_classes": [],
      "_model_module": "@jupyter-widgets/controls",
      "_model_module_version": "1.5.0",
      "_model_name": "HTMLModel",
      "_view_count": null,
      "_view_module": "@jupyter-widgets/controls",
      "_view_module_version": "1.5.0",
      "_view_name": "HTMLView",
      "description": "",
      "description_tooltip": null,
      "layout": "IPY_MODEL_fefecb5c33c54791897c572b2c3118ff",
      "placeholder": "​",
      "style": "IPY_MODEL_96ef7f5fc6f5486aae26267ff54c350d",
      "value": " 23857/27000 [00:00&lt;00:00, 95437.04 examples/s]"
     }
    },
    "c5a2214430c44fcabb1440d399e71c6f": {
     "model_module": "@jupyter-widgets/controls",
     "model_name": "HTMLModel",
     "state": {
      "_dom_classes": [],
      "_model_module": "@jupyter-widgets/controls",
      "_model_module_version": "1.5.0",
      "_model_name": "HTMLModel",
      "_view_count": null,
      "_view_module": "@jupyter-widgets/controls",
      "_view_module_version": "1.5.0",
      "_view_name": "HTMLView",
      "description": "",
      "description_tooltip": null,
      "layout": "IPY_MODEL_55e235c603584dbb8c0b751ccd9c2bd1",
      "placeholder": "​",
      "style": "IPY_MODEL_2394c6ef16b14cffb6df336987dff642",
      "value": " 1/1 [00:19&lt;00:00, 19.00s/ url]"
     }
    },
    "c97ad6c70062435a8d17a8048050eca2": {
     "model_module": "@jupyter-widgets/controls",
     "model_name": "DescriptionStyleModel",
     "state": {
      "_model_module": "@jupyter-widgets/controls",
      "_model_module_version": "1.5.0",
      "_model_name": "DescriptionStyleModel",
      "_view_count": null,
      "_view_module": "@jupyter-widgets/base",
      "_view_module_version": "1.2.0",
      "_view_name": "StyleView",
      "description_width": ""
     }
    },
    "ca76e533e0b7418383029c2e7e6a7ae5": {
     "model_module": "@jupyter-widgets/controls",
     "model_name": "FloatProgressModel",
     "state": {
      "_dom_classes": [],
      "_model_module": "@jupyter-widgets/controls",
      "_model_module_version": "1.5.0",
      "_model_name": "FloatProgressModel",
      "_view_count": null,
      "_view_module": "@jupyter-widgets/controls",
      "_view_module_version": "1.5.0",
      "_view_name": "ProgressView",
      "bar_style": "success",
      "description": "Extraction completed...: 100%",
      "description_tooltip": null,
      "layout": "IPY_MODEL_4097a97c208e42fea05c53eb9d5e8dfb",
      "max": 1,
      "min": 0,
      "orientation": "horizontal",
      "style": "IPY_MODEL_787adfbea183436782bffb3f7baae0f1",
      "value": 1
     }
    },
    "ced76dc891dd4ee382d606839b43e65a": {
     "model_module": "@jupyter-widgets/base",
     "model_name": "LayoutModel",
     "state": {
      "_model_module": "@jupyter-widgets/base",
      "_model_module_version": "1.2.0",
      "_model_name": "LayoutModel",
      "_view_count": null,
      "_view_module": "@jupyter-widgets/base",
      "_view_module_version": "1.2.0",
      "_view_name": "LayoutView",
      "align_content": null,
      "align_items": null,
      "align_self": null,
      "border": null,
      "bottom": null,
      "display": null,
      "flex": null,
      "flex_flow": null,
      "grid_area": null,
      "grid_auto_columns": null,
      "grid_auto_flow": null,
      "grid_auto_rows": null,
      "grid_column": null,
      "grid_gap": null,
      "grid_row": null,
      "grid_template_areas": null,
      "grid_template_columns": null,
      "grid_template_rows": null,
      "height": null,
      "justify_content": null,
      "justify_items": null,
      "left": null,
      "margin": null,
      "max_height": null,
      "max_width": null,
      "min_height": null,
      "min_width": null,
      "object_fit": null,
      "object_position": null,
      "order": null,
      "overflow": null,
      "overflow_x": null,
      "overflow_y": null,
      "padding": null,
      "right": null,
      "top": null,
      "visibility": null,
      "width": null
     }
    },
    "d4765361562c4591aefb2d7769e24c55": {
     "model_module": "@jupyter-widgets/controls",
     "model_name": "HTMLModel",
     "state": {
      "_dom_classes": [],
      "_model_module": "@jupyter-widgets/controls",
      "_model_module_version": "1.5.0",
      "_model_name": "HTMLModel",
      "_view_count": null,
      "_view_module": "@jupyter-widgets/controls",
      "_view_module_version": "1.5.0",
      "_view_name": "HTMLView",
      "description": "",
      "description_tooltip": null,
      "layout": "IPY_MODEL_387788f0e994494a9ccfd21451b2531f",
      "placeholder": "​",
      "style": "IPY_MODEL_5d8c05042a1644f8939695e7c76d3dcb",
      "value": " 1/1 [00:18&lt;00:00, 18.94s/ file]"
     }
    },
    "d5cadc9fffe9468ca34f5e35afb414e3": {
     "model_module": "@jupyter-widgets/controls",
     "model_name": "FloatProgressModel",
     "state": {
      "_dom_classes": [],
      "_model_module": "@jupyter-widgets/controls",
      "_model_module_version": "1.5.0",
      "_model_name": "FloatProgressModel",
      "_view_count": null,
      "_view_module": "@jupyter-widgets/controls",
      "_view_module_version": "1.5.0",
      "_view_name": "ProgressView",
      "bar_style": "success",
      "description": "Dl Size...: 100%",
      "description_tooltip": null,
      "layout": "IPY_MODEL_7f2d4c557e78496abcacd67cb02b7637",
      "max": 1,
      "min": 0,
      "orientation": "horizontal",
      "style": "IPY_MODEL_ed3d889c58ff46f5b88282e53d706b65",
      "value": 1
     }
    },
    "d8d38edf41ed44a6a19e0718e030d367": {
     "model_module": "@jupyter-widgets/base",
     "model_name": "LayoutModel",
     "state": {
      "_model_module": "@jupyter-widgets/base",
      "_model_module_version": "1.2.0",
      "_model_name": "LayoutModel",
      "_view_count": null,
      "_view_module": "@jupyter-widgets/base",
      "_view_module_version": "1.2.0",
      "_view_name": "LayoutView",
      "align_content": null,
      "align_items": null,
      "align_self": null,
      "border": null,
      "bottom": null,
      "display": null,
      "flex": null,
      "flex_flow": null,
      "grid_area": null,
      "grid_auto_columns": null,
      "grid_auto_flow": null,
      "grid_auto_rows": null,
      "grid_column": null,
      "grid_gap": null,
      "grid_row": null,
      "grid_template_areas": null,
      "grid_template_columns": null,
      "grid_template_rows": null,
      "height": null,
      "justify_content": null,
      "justify_items": null,
      "left": null,
      "margin": null,
      "max_height": null,
      "max_width": null,
      "min_height": null,
      "min_width": null,
      "object_fit": null,
      "object_position": null,
      "order": null,
      "overflow": null,
      "overflow_x": null,
      "overflow_y": null,
      "padding": null,
      "right": null,
      "top": null,
      "visibility": null,
      "width": null
     }
    },
    "dbcc01dcc5b6445bb0953dbcae0a75d6": {
     "model_module": "@jupyter-widgets/base",
     "model_name": "LayoutModel",
     "state": {
      "_model_module": "@jupyter-widgets/base",
      "_model_module_version": "1.2.0",
      "_model_name": "LayoutModel",
      "_view_count": null,
      "_view_module": "@jupyter-widgets/base",
      "_view_module_version": "1.2.0",
      "_view_name": "LayoutView",
      "align_content": null,
      "align_items": null,
      "align_self": null,
      "border": null,
      "bottom": null,
      "display": null,
      "flex": null,
      "flex_flow": null,
      "grid_area": null,
      "grid_auto_columns": null,
      "grid_auto_flow": null,
      "grid_auto_rows": null,
      "grid_column": null,
      "grid_gap": null,
      "grid_row": null,
      "grid_template_areas": null,
      "grid_template_columns": null,
      "grid_template_rows": null,
      "height": null,
      "justify_content": null,
      "justify_items": null,
      "left": null,
      "margin": null,
      "max_height": null,
      "max_width": null,
      "min_height": null,
      "min_width": null,
      "object_fit": null,
      "object_position": null,
      "order": null,
      "overflow": null,
      "overflow_x": null,
      "overflow_y": null,
      "padding": null,
      "right": null,
      "top": null,
      "visibility": null,
      "width": null
     }
    },
    "de06515d307345cd85fa5dd79b500427": {
     "model_module": "@jupyter-widgets/controls",
     "model_name": "ProgressStyleModel",
     "state": {
      "_model_module": "@jupyter-widgets/controls",
      "_model_module_version": "1.5.0",
      "_model_name": "ProgressStyleModel",
      "_view_count": null,
      "_view_module": "@jupyter-widgets/base",
      "_view_module_version": "1.2.0",
      "_view_name": "StyleView",
      "bar_color": null,
      "description_width": "initial"
     }
    },
    "ecc5712bd5d64e7da9406aacb35450e6": {
     "model_module": "@jupyter-widgets/controls",
     "model_name": "HTMLModel",
     "state": {
      "_dom_classes": [],
      "_model_module": "@jupyter-widgets/controls",
      "_model_module_version": "1.5.0",
      "_model_name": "HTMLModel",
      "_view_count": null,
      "_view_module": "@jupyter-widgets/controls",
      "_view_module_version": "1.5.0",
      "_view_name": "HTMLView",
      "description": "",
      "description_tooltip": null,
      "layout": "IPY_MODEL_ced76dc891dd4ee382d606839b43e65a",
      "placeholder": "​",
      "style": "IPY_MODEL_c97ad6c70062435a8d17a8048050eca2",
      "value": " 89/89 [00:18&lt;00:00,  4.69 MiB/s]"
     }
    },
    "ed3d889c58ff46f5b88282e53d706b65": {
     "model_module": "@jupyter-widgets/controls",
     "model_name": "ProgressStyleModel",
     "state": {
      "_model_module": "@jupyter-widgets/controls",
      "_model_module_version": "1.5.0",
      "_model_name": "ProgressStyleModel",
      "_view_count": null,
      "_view_module": "@jupyter-widgets/base",
      "_view_module_version": "1.2.0",
      "_view_name": "StyleView",
      "bar_color": null,
      "description_width": "initial"
     }
    },
    "f95810d99e3d40dbb79eaa3e75117cd5": {
     "model_module": "@jupyter-widgets/controls",
     "model_name": "FloatProgressModel",
     "state": {
      "_dom_classes": [],
      "_model_module": "@jupyter-widgets/controls",
      "_model_module_version": "1.5.0",
      "_model_name": "FloatProgressModel",
      "_view_count": null,
      "_view_module": "@jupyter-widgets/controls",
      "_view_module_version": "1.5.0",
      "_view_name": "ProgressView",
      "bar_style": "success",
      "description": "Dl Completed...: 100%",
      "description_tooltip": null,
      "layout": "IPY_MODEL_2467ef72fa0a47ee85e67de2cb4a1faa",
      "max": 1,
      "min": 0,
      "orientation": "horizontal",
      "style": "IPY_MODEL_8018d65aa5a1478d96a850422938b48f",
      "value": 1
     }
    },
    "fefecb5c33c54791897c572b2c3118ff": {
     "model_module": "@jupyter-widgets/base",
     "model_name": "LayoutModel",
     "state": {
      "_model_module": "@jupyter-widgets/base",
      "_model_module_version": "1.2.0",
      "_model_name": "LayoutModel",
      "_view_count": null,
      "_view_module": "@jupyter-widgets/base",
      "_view_module_version": "1.2.0",
      "_view_name": "LayoutView",
      "align_content": null,
      "align_items": null,
      "align_self": null,
      "border": null,
      "bottom": null,
      "display": null,
      "flex": null,
      "flex_flow": null,
      "grid_area": null,
      "grid_auto_columns": null,
      "grid_auto_flow": null,
      "grid_auto_rows": null,
      "grid_column": null,
      "grid_gap": null,
      "grid_row": null,
      "grid_template_areas": null,
      "grid_template_columns": null,
      "grid_template_rows": null,
      "height": null,
      "justify_content": null,
      "justify_items": null,
      "left": null,
      "margin": null,
      "max_height": null,
      "max_width": null,
      "min_height": null,
      "min_width": null,
      "object_fit": null,
      "object_position": null,
      "order": null,
      "overflow": null,
      "overflow_x": null,
      "overflow_y": null,
      "padding": null,
      "right": null,
      "top": null,
      "visibility": null,
      "width": null
     }
    }
   }
  }
 },
 "nbformat": 4,
 "nbformat_minor": 1
}
