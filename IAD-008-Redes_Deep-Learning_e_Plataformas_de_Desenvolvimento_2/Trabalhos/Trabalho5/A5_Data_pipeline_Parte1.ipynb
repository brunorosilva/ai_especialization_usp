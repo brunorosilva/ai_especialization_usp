{
 "cells": [
  {
   "cell_type": "markdown",
   "metadata": {
    "colab_type": "text",
    "id": "8Byow2J6LaPl"
   },
   "source": [
    "# Aula 5\n",
    "\n",
    "# \"Data Pipelines\" - Parte 1\n",
    "\n",
    "# Extração e Transformação dos dados\n",
    "\n",
    "### Eduardo Lobo Lustosa Cabral"
   ]
  },
  {
   "cell_type": "markdown",
   "metadata": {},
   "source": [
    "## 1. Objetivos\n",
    "\n",
    "Apresentar o conceito de \"data pipelines\".\n",
    "\n",
    "Apresentar ferramentas do TensorFlow para criar \"data pipelines\" eficientes.\n",
    "\n",
    "Apresentar as etapas de extração e transformação de um \"data pipeline\". \n",
    "\n",
    "Apresentar exemplos das etapas de extração e transfromação de um \"pipelines\" para diferentes tipos de dados."
   ]
  },
  {
   "cell_type": "markdown",
   "metadata": {},
   "source": [
    "### Importa principais bibliotecas"
   ]
  },
  {
   "cell_type": "code",
   "execution_count": 1,
   "metadata": {},
   "outputs": [],
   "source": [
    "import tensorflow as tf\n",
    "import pathlib\n",
    "import matplotlib.pyplot as plt\n",
    "import pandas as pd\n",
    "import numpy as np\n",
    "\n",
    "np.set_printoptions(precision=4)"
   ]
  },
  {
   "cell_type": "markdown",
   "metadata": {},
   "source": [
    "## 2. Data Pipelines\n",
    "\n",
    "Com já vimos, existem muitos tipos de dados e problemas. Como por exemplo:\n",
    "\n",
    "-\tImagens $\\to$ classificação, detecção e localização de objetos, segmentação, geração de novas imagens.\n",
    "-\tTexto $\\to$  classificação, análise de sentimento, geração de novos textos, tradução de texto, chatbot.\n",
    "- Áudio $\\to$  reconhecimento de voz, música, geração de áudio (música e voz).\n",
    "- Vídeo $\\to$  classificação, reconhecimento de ação, rastreamento de objetos, entendimento de vídeo.\n",
    "- Séries temporais $\\to$  previsão, regressão (ajuste de função).\n",
    "- Dados estruturados $\\to$ regressão, sistemas de recomendação, classificação. \n",
    "\n",
    "<br>\n",
    "Para processar e carregar dados para treinar uma RNA de forma eficiente deve-se criar um \"data pipeline\". \n",
    "\n",
    "**Data pipelines** funcionam no princípio ETC (Extrair, Transformar e Carregar) que em inglês é ETL (Extraction, Tranformation and Load).\n",
    "\n",
    "- **Extrair** $\\to$ carrega dados originais do local onde se encontram e traz para o nosso ambiente de computação;\n",
    "- **Transformar** $\\to$ processa os dados para serem colocados em formatos adequados que podem ser usados por uma RNA;\n",
    "- **Carregar** $\\to$ alimenta a RNA com dados durante o seu treinamento ou para realizar previsões quando colocada em operação.\n",
    "\n",
    "\n",
    "**Nessa aula veremos as etapas de Extração e Transformação de um Pipeline.**\n",
    "\n",
    "<br>\n",
    "Cada tipo de dado exige um \"pipeline\" diferente. Por exemplo:\n",
    "\n",
    "- Imagens $\\to$ ler arquivos, aplicar transformações em cada imagem e juntar aletoriamente em lotes para treinamento.\n",
    "-\tTexto $\\to$ ler arquivos, pode envolver extrair palavras ou letras do texto, converter em vetores “one-hote” ou “embeding” e criar lotes de sequências que podem ter comprimentos diferentes.\n",
    "-\tVídeo $\\to$ ler arquivos, separar imagens dos vídeos, aplicar transformações em cada imagem e juntar em lotes de treinamento que podem ter comprimentos diferentes.\n",
    "- Áudio e séries temporais $\\to$ ler arquivos, criar janelas com dados temporais, aplicar transformações nos dados, juntar em lotes de treinamento.\n",
    "- Dados estruturados $\\to$ ler arquivos, transformar dados e juntar em lotes para treinamento. "
   ]
  },
  {
   "cell_type": "markdown",
   "metadata": {},
   "source": [
    "#### \"Data pipelines\" com TensorFlow\n",
    "\n",
    "O TensorFlow fornece ferramentas para realizar as 3 etapas de um \"data pipeline\" de forma eficiente para qualquer tipo de dado e problema.\n",
    "\n",
    "A grande vantagem de usar as ferramentas do TensorFlow é que elas são otimizadas para funcionar com os métodos de treinamento do Keras e, assim, o processo de treinamento é mais rápido.\n",
    "\n",
    "O módulo **`tf.data`** do TensorFlow disponibiliza ferramentas para criar \"data pipelines\" complexos de forma simples (https://www.tensorflow.org/api_docs/python/tf/data).\n",
    "\n",
    "Por exemplo, um pipeline para um problema de processamento de imagens pode agregar dados de vários arquivos, aplicar transformações aleatórias em cada imagem (\"data augmentation\") e juntar imagens selecionadas aleatoriamente em um lote para treinamento.\n",
    "\n",
    "O pipeline para um problema de processamento de texto pode envolver a extração de símbolos de dados de textos, convertê-los em vetores \"embedding\" e juntar sequências de comprimentos diferentes em lotes para treinamento. "
   ]
  },
  {
   "cell_type": "markdown",
   "metadata": {
    "colab_type": "text",
    "id": "9Qo3HgDjbDcI"
   },
   "source": [
    "## 3. Mecânica básica das etapas de extração e transformação\n",
    "\n",
    "O módulo `tf.data` possui a classe `tf.data.Dataset`, que armazena um conjunto de dados. \n",
    "\n",
    "Um objeto `Dataset` representa uma sequência de elementos, na qual cada elemento consiste em um ou mais componentes. Por exemplo, em um pipeline de imagem, um elemento pode ser um único exemplo de treinamento, com um par de tensores que representam a imagem e seu rótulo.\n",
    "\n",
    "Para criar um pipeline de entrada, deve-se começar com um conjunto de dados e criar um objeto **`Dataset`**. Um `Dataset` é um objeto iterável do Python. Isso torna possível utilizar seus elementos usando, por exemplo, um loop `for`.\n",
    "\n",
    "Tendo um objeto `Dataset`, é possível transformá-lo em um novo `Dataset` usando diversos métodos. Por exemplo, pode-se \n",
    "aplicar transformações em cada elemento com os métodos `map ()`, ou em vários elementos com o método `batch ()`. A lista completa de métodos disponíveis para os objetos `Dataset` pode ser vista na documentação https://www.tensorflow.org/api_docs/python/tf/data/Dataset."
   ]
  },
  {
   "cell_type": "markdown",
   "metadata": {},
   "source": [
    "### 3.1 Criar um `Dataset`\n",
    "\n",
    "Existem várias maneiras distintas de criar um conjunto de dados (`Dataset`):\n",
    "\n",
    "- Inserindo dados;\n",
    "- A partir de uma fonte de dados armazenada em memória ou a partir de um ou mais arquivos;\n",
    "- A partir de transformações de dados de um ou mais objetos `Dataset`.\n",
    "\n",
    "Os códigos das células baixo mostram exemplos de como criar objetos `Dataset`.\n",
    "\n",
    "Para criar um `Dataset` simples com  números inteiros, tem-se: "
   ]
  },
  {
   "cell_type": "code",
   "execution_count": 13,
   "metadata": {
    "colab": {},
    "colab_type": "code",
    "id": "0F-FDnjB6t6J"
   },
   "outputs": [
    {
     "data": {
      "text/plain": [
       "<TensorSliceDataset shapes: (), types: tf.float32>"
      ]
     },
     "execution_count": 13,
     "metadata": {},
     "output_type": "execute_result"
    }
   ],
   "source": [
    "# Cria um objeto dataset\n",
    "dataset = tf.data.Dataset.from_tensor_slices([0., 1., 2., 3., 4., 5., 6.])\n",
    "dataset"
   ]
  },
  {
   "cell_type": "markdown",
   "metadata": {},
   "source": [
    "- O método `tf.data.Dataset.from_tensor_slices()` transforma um tensor em um `Dataset`."
   ]
  },
  {
   "cell_type": "markdown",
   "metadata": {
    "colab_type": "text",
    "id": "m0yy80MobDcM"
   },
   "source": [
    "#### Carregar elementos de um `Dataset`\n",
    "\n",
    "Pode-se carregar os elementos de um `Dataset` de várias formas diferentes.\n",
    "\n",
    "Uma forma simples é iterando nos elementos do `Dataset`. "
   ]
  },
  {
   "cell_type": "code",
   "execution_count": 3,
   "metadata": {
    "colab": {},
    "colab_type": "code",
    "id": "pwJsRJ-FbDcJ"
   },
   "outputs": [
    {
     "name": "stdout",
     "output_type": "stream",
     "text": [
      "0.0\n",
      "1.0\n",
      "2.0\n",
      "3.0\n",
      "4.0\n",
      "5.0\n",
      "6.0\n"
     ]
    }
   ],
   "source": [
    "# Itera nos elementos do dataset e mostra cada um\n",
    "for elemento in dataset:\n",
    "    print(elemento.numpy())"
   ]
  },
  {
   "cell_type": "markdown",
   "metadata": {},
   "source": [
    "Pode-se também acessar os elementos de um objeto `Dataset` criando explicitamente um iterador Python, usando a classe `iter`, e carregar seus elementos usando a função `next`. \n",
    "\n",
    "O método `next()` carrega o próximo elemento do dataset usando o iterador `iter`."
   ]
  },
  {
   "cell_type": "code",
   "execution_count": 4,
   "metadata": {
    "colab": {},
    "colab_type": "code",
    "id": "03w9oxFfbDcM"
   },
   "outputs": [
    {
     "name": "stdout",
     "output_type": "stream",
     "text": [
      "tf.Tensor(0.0, shape=(), dtype=float32)\n",
      "1.0\n",
      "2.0\n"
     ]
    }
   ],
   "source": [
    "it = iter(dataset)\n",
    "\n",
    "print(next(it))\n",
    "print(next(it).numpy())\n",
    "print(next(it).numpy())"
   ]
  },
  {
   "cell_type": "markdown",
   "metadata": {},
   "source": [
    "Outra forma é usar o método `take`."
   ]
  },
  {
   "cell_type": "code",
   "execution_count": 5,
   "metadata": {},
   "outputs": [
    {
     "name": "stdout",
     "output_type": "stream",
     "text": [
      "Número = 0.0\n",
      "Número = 1.0\n",
      "Número = 2.0\n",
      "Número = 3.0\n",
      "Número = 4.0\n",
      "Número = 5.0\n"
     ]
    }
   ],
   "source": [
    "# Itera no dataset para pegar exemplos\n",
    "for num in dataset.take(6):\n",
    "    print('Número =', format(num))"
   ]
  },
  {
   "cell_type": "markdown",
   "metadata": {},
   "source": [
    "#### Criar um `Dataset` com dados já em tensores Numpy\n",
    "\n",
    "Para transformar dados que já estão em tensores Numpy em um `Dataset`, usa-se o método `tf.data.Dataset.from_tensor_slices()` da seguinte forma:"
   ]
  },
  {
   "cell_type": "code",
   "execution_count": 14,
   "metadata": {},
   "outputs": [
    {
     "name": "stdout",
     "output_type": "stream",
     "text": [
      "Dados de treinamento: (50000, 32, 32, 3) (50000, 1)\n",
      "Dados de validação: (10000, 32, 32, 3) (10000, 1)\n",
      "Classe: [6]\n"
     ]
    },
    {
     "data": {
      "image/png": "[encoded data removed]",
      "text/plain": [
       "<Figure size 432x288 with 1 Axes>"
      ]
     },
     "metadata": {
      "needs_background": "light"
     },
     "output_type": "display_data"
    },
    {
     "name": "stdout",
     "output_type": "stream",
     "text": [
      "Classe: [9]\n"
     ]
    },
    {
     "data": {
      "image/png": "[encoded data removed]",
      "text/plain": [
       "<Figure size 432x288 with 1 Axes>"
      ]
     },
     "metadata": {
      "needs_background": "light"
     },
     "output_type": "display_data"
    }
   ],
   "source": [
    "# Extrai conjunto de dados Cifar10 da coleção do Keras\n",
    "(x_train, y_train), (x_val, y_val) = tf.keras.datasets.cifar10.load_data()\n",
    "\n",
    "# Dimensão dos dados\n",
    "print('Dados de treinamento:', x_train.shape, y_train.shape)\n",
    "print('Dados de validação:', x_val.shape, y_val.shape)\n",
    "\n",
    "# Transforma tensores Numpy em Dataset\n",
    "data_ds = tf.data.Dataset.from_tensor_slices((x_train, y_train))\n",
    "\n",
    "# Mostra alguns exemplos do Dataset\n",
    "for image, label in data_ds.take(2):\n",
    "    print(\"Classe: {}\".format(label))\n",
    "    plt.imshow(image)\n",
    "    plt.show()"
   ]
  },
  {
   "cell_type": "markdown",
   "metadata": {
    "colab_type": "text",
    "id": "B2Fzwt2nbDcR"
   },
   "source": [
    "### 3.2 Estrutura dos objetos `Dataset`\n",
    "\n",
    "Um `Dataset` contém componentes dispostos em uma estrutura, sendo que os componentes podem ser de tipos diferentes. O tipo de elemento de cada componente pode ser: ` Tensor`, `SparseTensor`,` RaggedTensor`, `TensorArray` ou mesmo um `Dataset`.\n",
    "\n",
    "A propriedade `element_spec` permite inspecionar o tipo de cada elemento dos componentes de um `Dataset`. A propriedade retorna a estrutura dos elementos do `Dataset`.\n",
    "\n",
    "Seguem alguns exemplos."
   ]
  },
  {
   "cell_type": "code",
   "execution_count": 7,
   "metadata": {
    "colab": {},
    "colab_type": "code",
    "id": "Mg0m1beIhXGn"
   },
   "outputs": [
    {
     "data": {
      "text/plain": [
       "TensorSpec(shape=(10,), dtype=tf.float32, name=None)"
      ]
     },
     "execution_count": 7,
     "metadata": {},
     "output_type": "execute_result"
    }
   ],
   "source": [
    "# Cria dataset com um tensor de dimensão 4x10\n",
    "dataset1 = tf.data.Dataset.from_tensor_slices(tf.random.uniform([4, 10]))\n",
    "\n",
    "# Verifica tipo dos elementos\n",
    "dataset1.element_spec"
   ]
  },
  {
   "cell_type": "markdown",
   "metadata": {},
   "source": [
    "- Esse `Dataset`contém 4 linhas de dados, sendo cada linha um elemento de dimensão 1x10."
   ]
  },
  {
   "cell_type": "code",
   "execution_count": 8,
   "metadata": {
    "colab": {},
    "colab_type": "code",
    "id": "cwyemaghhXaG"
   },
   "outputs": [
    {
     "data": {
      "text/plain": [
       "(TensorSpec(shape=(), dtype=tf.float32, name=None),\n",
       " TensorSpec(shape=(100,), dtype=tf.int32, name=None))"
      ]
     },
     "execution_count": 8,
     "metadata": {},
     "output_type": "execute_result"
    }
   ],
   "source": [
    "# Cria dataset com dois tensores\n",
    "dataset2 = tf.data.Dataset.from_tensor_slices(\n",
    "    (tf.random.uniform([4]),\n",
    "    tf.random.uniform([4, 100], maxval=100, dtype=tf.int32)))\n",
    "\n",
    "# Verifica tipo dos elementos\n",
    "dataset2.element_spec"
   ]
  },
  {
   "cell_type": "markdown",
   "metadata": {},
   "source": [
    "- Esse `Dataset` possui dois componentes. O primeiro possui elementos escalar e o segundo possui elementos com dimensão 1x100.\n",
    "\n",
    "Pode-se criar um novo `Dataset` a partir de outros datasets usando o método `zip`."
   ]
  },
  {
   "cell_type": "code",
   "execution_count": 9,
   "metadata": {
    "colab": {},
    "colab_type": "code",
    "id": "1CL7aB0ahXn_"
   },
   "outputs": [
    {
     "data": {
      "text/plain": [
       "(TensorSpec(shape=(10,), dtype=tf.float32, name=None),\n",
       " (TensorSpec(shape=(), dtype=tf.float32, name=None),\n",
       "  TensorSpec(shape=(100,), dtype=tf.int32, name=None)))"
      ]
     },
     "execution_count": 9,
     "metadata": {},
     "output_type": "execute_result"
    }
   ],
   "source": [
    "# Cria um novo dataset com o dataset1 e dataset2\n",
    "dataset3 = tf.data.Dataset.zip((dataset1, dataset2))\n",
    "\n",
    "# Verifica tipo dos elementos\n",
    "dataset3.element_spec"
   ]
  },
  {
   "cell_type": "markdown",
   "metadata": {},
   "source": [
    "- O método `zip` une dois ou mais `Datasets`."
   ]
  },
  {
   "cell_type": "code",
   "execution_count": 10,
   "metadata": {},
   "outputs": [
    {
     "name": "stdout",
     "output_type": "stream",
     "text": [
      "tf.Tensor(0.7556642, shape=(), dtype=float32) \n",
      "\n",
      "tf.Tensor(0.19665337, shape=(), dtype=float32) \n",
      "\n"
     ]
    }
   ],
   "source": [
    "for elem in dataset3.take(2):\n",
    "    print(elem[1][0],'\\n')"
   ]
  },
  {
   "cell_type": "markdown",
   "metadata": {
    "colab_type": "text",
    "id": "r5xNsFFvhUnr"
   },
   "source": [
    "### 3.2 Transformação de dados\n",
    "\n",
    "Os dados de um `Dataset` podem ser transformados usando os métodos `map`, `apply` e `filter`. O método `map` aplica uma determinada função em cada elemento do `Dataset` e os métodos `apply` e `filter` aplicam uma função em todo o `Dataset`.\n",
    "\n",
    "Para usar esses métodos tem-se que criar uma função para ser aplicada pelos mesmos.\n",
    "\n",
    "O código abaixo apresenta um exemplo de uso do método `map` para transformar um `Dataset` com números inteiros em reais e depois calcular a raiz quadrada. O primeiro passo é criar um `Dataset`. "
   ]
  },
  {
   "cell_type": "code",
   "execution_count": 11,
   "metadata": {
    "colab": {},
    "colab_type": "code",
    "id": "2myAr3Pxd-zF"
   },
   "outputs": [
    {
     "name": "stdout",
     "output_type": "stream",
     "text": [
      "[3 1 9 1 8 4 8 6 9 1]\n",
      "[8 6 9 8 1 7 7 7 7 3]\n",
      "[2 3 7 2 5 1 9 8 7 7]\n",
      "[5 6 9 2 8 2 4 4 4 6]\n"
     ]
    }
   ],
   "source": [
    "# Cria dataset com números aleatórios inteiros\n",
    "dataset = tf.data.Dataset.from_tensor_slices(tf.random.uniform([4, 10], minval=1, maxval=10, dtype=tf.int32))\n",
    "\n",
    "# Apresenta dataset\n",
    "for x in dataset:\n",
    "    print(x.numpy())"
   ]
  },
  {
   "cell_type": "code",
   "execution_count": 12,
   "metadata": {
    "colab": {},
    "colab_type": "code",
    "id": "woPXMP14gUTg"
   },
   "outputs": [
    {
     "name": "stdout",
     "output_type": "stream",
     "text": [
      "[array([1.7321, 1.    , 3.    , 1.    , 2.8284, 2.    , 2.8284, 2.4495,\n",
      "       3.    , 1.    ], dtype=float32), array([2.8284, 2.4495, 3.    , 2.8284, 1.    , 2.6458, 2.6458, 2.6458,\n",
      "       2.6458, 1.7321], dtype=float32), array([1.4142, 1.7321, 2.6458, 1.4142, 2.2361, 1.    , 3.    , 2.8284,\n",
      "       2.6458, 2.6458], dtype=float32), array([2.2361, 2.4495, 3.    , 1.4142, 2.8284, 1.4142, 2.    , 2.    ,\n",
      "       2.    , 2.4495], dtype=float32)]\n",
      "[1.7321 1.     3.     1.     2.8284 2.     2.8284 2.4495 3.     1.    ]\n",
      "[2.8284 2.4495 3.     2.8284 1.     2.6458 2.6458 2.6458 2.6458 1.7321]\n",
      "[1.4142 1.7321 2.6458 1.4142 2.2361 1.     3.     2.8284 2.6458 2.6458]\n",
      "[2.2361 2.4495 3.     1.4142 2.8284 1.4142 2.     2.     2.     2.4495]\n"
     ]
    }
   ],
   "source": [
    "## Define função para transformar números inteiros em reais e calcular a raiz quadrada\n",
    "def raiz(x):\n",
    "    y = tf.cast(x, tf.float32)**0.5 \n",
    "    return y\n",
    "\n",
    "# Aplica função raiz\n",
    "dataset = dataset.map(raiz)\n",
    "\n",
    "# Apresenta resultados\n",
    "print(list(dataset.as_numpy_iterator()))\n",
    "\n",
    "# Apresenta dataset\n",
    "for x in dataset:\n",
    "    print(x.numpy())"
   ]
  },
  {
   "cell_type": "markdown",
   "metadata": {},
   "source": [
    "- A função `cast()` do TensorFlow serve para alterar tipo de dado. No caso foi feita uma alteração de inteiro (`int32`) pata real (`float32`).\n",
    "\n",
    "- O método `as_numpy_iterator()` do Numpy serve para iterar em um conjunto de tensores."
   ]
  },
  {
   "cell_type": "markdown",
   "metadata": {},
   "source": [
    "Mais detalhes de como usar os métodos `Dataset.apply()` e `Dataset.filter()` podem ser obtidos em https://www.tensorflow.org/api_docs/python/tf/data/Dataset"
   ]
  },
  {
   "cell_type": "markdown",
   "metadata": {
    "colab_type": "text",
    "id": "M1s2K0g-bDcT"
   },
   "source": [
    "## 4. Carregar dados em um `Dataset` (Etapa de extração)\n",
    "\n",
    "Dados podem ser de vários formatos e estarem em diversas formas. \n",
    "\n",
    "O módulo `tf.data` do TensorFlow fornece métodos para carregar praticamente qualquer tipo de dado. "
   ]
  },
  {
   "cell_type": "markdown",
   "metadata": {
    "colab_type": "text",
    "id": "F3JG2f0h2683"
   },
   "source": [
    "### 4.1 Tensores NumPy\n",
    "\n",
    "Se o conjunto de dados for pequeno e couber na memória do computador, então, a forma mais simples para criar um `Dataset` é converter os dados em tensores e carregá-los com o método `from_tensor_slices()`.\n",
    "\n",
    "Por exemplo, o conjunto de dados de dígitos MINIST pode ser importado da coleção de dados do Keras e transformado em um `Dataset` com o seguinte código."
   ]
  },
  {
   "cell_type": "code",
   "execution_count": 16,
   "metadata": {
    "colab": {},
    "colab_type": "code",
    "id": "NmaE6PjjhQ47"
   },
   "outputs": [
    {
     "data": {
      "text/plain": [
       "<TensorSliceDataset shapes: ((28, 28), ()), types: (tf.float64, tf.uint8)>"
      ]
     },
     "execution_count": 16,
     "metadata": {},
     "output_type": "execute_result"
    }
   ],
   "source": [
    "# Importa dados MNIST do Keras\n",
    "train, test = tf.keras.datasets.mnist.load_data()\n",
    "\n",
    "# Separa imagens e rótulos\n",
    "images_train, labels_train = train\n",
    "\n",
    "# Normaliza pixels da imagem \n",
    "images_train = images_train/255.\n",
    "\n",
    "# Cria dataset \n",
    "dataset = tf.data.Dataset.from_tensor_slices((images_train, labels_train))\n",
    "dataset"
   ]
  },
  {
   "cell_type": "markdown",
   "metadata": {},
   "source": [
    "Para visualizar um exemplo do `Dataset` pode-se usar o código a seguir."
   ]
  },
  {
   "cell_type": "code",
   "execution_count": 20,
   "metadata": {},
   "outputs": [
    {
     "name": "stdout",
     "output_type": "stream",
     "text": [
      "Dimensão das imagens =  (28, 28)\n",
      "Classe = 4\n"
     ]
    },
    {
     "data": {
      "image/png": "[encoded data removed]",
      "text/plain": [
       "<Figure size 432x288 with 1 Axes>"
      ]
     },
     "metadata": {
      "needs_background": "light"
     },
     "output_type": "display_data"
    }
   ],
   "source": [
    "# Obtém um elemento do Dataset\n",
    "it = iter(dataset)\n",
    "image, label = next(it)\n",
    "\n",
    "print('Dimensão das imagens = ', image.shape)\n",
    "print('Classe =', label.numpy())\n",
    "plt.imshow(image, cmap='gray')\n",
    "plt.show()"
   ]
  },
  {
   "cell_type": "markdown",
   "metadata": {
    "colab_type": "text",
    "id": "pO4ua2gEmIhR"
   },
   "source": [
    "### 4.2 Gerador de dados\n",
    "\n",
    "Outra forma muito utilizada para carregar dados é usar um gerador de dados. \n",
    "\n",
    "Como já visto, um gerador de dados é usado quando o conjunto de dados é muito grande e não cabe na memória, assim, tem-se que carregar os dados lote a lote. \n",
    "\n",
    "Geradores de dados são muito usados para imagens e o seu uso permite também realizar \"data augmentation\".\n",
    "\n",
    "No código abaixo é apresentado um gerador de dados que toda vez que é chamado retorna (`yield`) o próximo número de um sequencia de 1 a infinito."
   ]
  },
  {
   "cell_type": "code",
   "execution_count": 21,
   "metadata": {
    "colab": {},
    "colab_type": "code",
    "id": "9njpME-jmDza"
   },
   "outputs": [
    {
     "name": "stdout",
     "output_type": "stream",
     "text": [
      "0\n",
      "1\n",
      "2\n",
      "3\n",
      "4\n"
     ]
    }
   ],
   "source": [
    "# Define gerador de dados\n",
    "def seq(stop):\n",
    "    i = 0\n",
    "    while i<stop:\n",
    "        yield i\n",
    "        i += 1\n",
    "        \n",
    "# Chama gerador de dados 5 vezes\n",
    "for n in seq(5):\n",
    "    print(n)"
   ]
  },
  {
   "cell_type": "markdown",
   "metadata": {},
   "source": [
    "- Observe que um gerador de dados é diferente de uma função, pois ele retorna sempre o próximo elemento da sequência, ou seja, um gerador de dados \"possui\" memória."
   ]
  },
  {
   "cell_type": "markdown",
   "metadata": {
    "colab_type": "text",
    "id": "D_BB_PhxnVVx"
   },
   "source": [
    "O método `from_generator` converte um gerador de dados Python em um `Dataset`. Esse método recebe o gerador como entrada. \n",
    "\n",
    "No código abaixo é apresentado um exemplo de construção de um `Dataset` usando o gerador `seq` definido anteriormente."
   ]
  },
  {
   "cell_type": "code",
   "execution_count": 22,
   "metadata": {
    "colab": {},
    "colab_type": "code",
    "id": "GFga_OTwm0Je"
   },
   "outputs": [],
   "source": [
    "ds_counter = tf.data.Dataset.from_generator(seq, args=[25], output_types=tf.int32, output_shapes = (), )"
   ]
  },
  {
   "cell_type": "markdown",
   "metadata": {},
   "source": [
    "- Argumento `args` serve para passar valores para o gerador de dados. Nesse caso, esse argumento representa a variável `stop` do gerador `seq`.\n",
    " \n",
    "- Argumento `output_types` é obrigatório e define o tipo de dado do `Dataset`.\n",
    "\n",
    "- Argumento `output_shapes` é opcional e nesse caso é deixado como sendo indefinido para poder retornar sequências de comprimentos diferentes.\n",
    "\n",
    "O uso de gerador para obter dados pode ser realizado com o método `repeat()` de acordo com o código abaixo."
   ]
  },
  {
   "cell_type": "code",
   "execution_count": 24,
   "metadata": {
    "colab": {},
    "colab_type": "code",
    "id": "fel1SUuBnDUE"
   },
   "outputs": [
    {
     "name": "stdout",
     "output_type": "stream",
     "text": [
      "[0 1 2 3 4 5 6 7 8 9]\n",
      "[10 11 12 13 14 15 16 17 18 19]\n",
      "[20 21 22 23 24  0  1  2  3  4]\n",
      "[ 5  6  7  8  9 10 11 12 13 14]\n",
      "[15 16 17 18 19 20 21 22 23 24]\n"
     ]
    }
   ],
   "source": [
    "for count_batch in ds_counter.repeat().batch(10).take(5):\n",
    "    print(count_batch.numpy())"
   ]
  },
  {
   "cell_type": "markdown",
   "metadata": {},
   "source": [
    "- O método  `batch` define o número de elementos a ser gerado, ou o número de elementos por lote que será usado no treinamento.\n",
    "\n",
    "- O método `take` define o número de lotes que se deseja obter."
   ]
  },
  {
   "cell_type": "markdown",
   "metadata": {
    "colab_type": "text",
    "id": "wxy9hDMTq1zD"
   },
   "source": [
    "Outro exemplo de um gerador mais completo, que retorna uma tuple de dados, que representa, por exemplo, dados de entrada e das saídas desajadas, é definido no código abaixo.\n",
    "\n",
    "Nesse gerador o primeiro valor é um escalar e o segundo é um tensor de dimensão (1, 8)"
   ]
  },
  {
   "cell_type": "code",
   "execution_count": 27,
   "metadata": {
    "colab": {},
    "colab_type": "code",
    "id": "allFX1g8rGKe"
   },
   "outputs": [
    {
     "name": "stdout",
     "output_type": "stream",
     "text": [
      "0 : [[ 0.1942 -1.3291  1.4852 -0.2782 -0.4637  0.2184  0.8489 -2.541 ]]\n",
      "1 : [[ 0.0209 -0.3744 -0.2917  2.2301  0.6559 -0.5297 -0.6705  0.3739]]\n",
      "2 : [[-1.8184  0.6053  0.2946 -0.1622 -0.8219 -1.5316 -1.4855 -0.1868]]\n",
      "3 : [[ 0.0996 -1.1036 -0.0097 -0.2335 -0.4082 -1.0848  0.0943 -1.1571]]\n",
      "4 : [[ 1.3444  1.9321  0.6932  1.0667  0.2529 -0.3654  0.725  -0.2097]]\n",
      "5 : [[ 0.7588 -0.4698 -0.3919 -0.2332 -0.1466  0.5387  1.01   -1.0156]]\n",
      "6 : [[-1.2073 -0.1494 -1.5419 -0.0201  0.2946  0.8871  0.0075  0.4123]]\n"
     ]
    }
   ],
   "source": [
    "# Define gerador de dados\n",
    "def gen_series():\n",
    "    i = 0\n",
    "    while True:\n",
    "        # Gera vetor de números aleatórios\n",
    "        yield i, np.random.normal(size=(1,8))\n",
    "        i += 1\n",
    "\n",
    "# Chama o gerador 5 vezes        \n",
    "for i, series in gen_series():\n",
    "    print(i, \":\", str(series))\n",
    "    if i > 5:\n",
    "        break       "
   ]
  },
  {
   "cell_type": "markdown",
   "metadata": {
    "colab_type": "text",
    "id": "LmkynGilx0qf"
   },
   "source": [
    "- O gerador possui um loop infinito que somente é quebrado quando não é mais chamado.\n",
    "\n",
    "- A primeira saída é um número escalar inteiro (`int32`) e a segunda é um vetor de dimensão (1, 8) com números reais (`float32`) aleatórios com distribuição gaussiana.\n",
    "\n",
    "\n",
    "Para criar um `Dataset` com esse gerador usa-se o método `from_generator` como anteriormente. \n",
    "\n",
    "Nesse caso é necessário definir os tipos de dados e as dimensões dos dados para as duas saídas do gerador."
   ]
  },
  {
   "cell_type": "code",
   "execution_count": 29,
   "metadata": {
    "colab": {},
    "colab_type": "code",
    "id": "zDTfhEzhsliM"
   },
   "outputs": [
    {
     "data": {
      "text/plain": [
       "(TensorSpec(shape=(), dtype=tf.int32, name=None),\n",
       " TensorSpec(shape=(1, 8), dtype=tf.float32, name=None))"
      ]
     },
     "execution_count": 29,
     "metadata": {},
     "output_type": "execute_result"
    }
   ],
   "source": [
    "# Cria Dataset com o gerador gen_series\n",
    "ds_series = tf.data.Dataset.from_generator(\n",
    "    gen_series, \n",
    "    output_types=(tf.int32, tf.float32), \n",
    "    output_shapes=((), (1,8,)))\n",
    "\n",
    "# Apresenta carecterísticas gerais do dataset\n",
    "ds_series.element_spec"
   ]
  },
  {
   "cell_type": "markdown",
   "metadata": {
    "colab_type": "text",
    "id": "WWxvSyQiyN0o"
   },
   "source": [
    "Esse `Dataset` é usado da mesma forma que um `Dataset` regular. \n",
    "\n",
    "No código abaixo o `Dataset` `ds_series` é  inicializado para criar um lote com 10 exemplos (`batch(10)`) e os dados são embaralhados aleatóriamente usando o método `shuffle`."
   ]
  },
  {
   "cell_type": "code",
   "execution_count": 31,
   "metadata": {
    "colab": {},
    "colab_type": "code",
    "id": "A7jEpj3As1lO"
   },
   "outputs": [
    {
     "name": "stdout",
     "output_type": "stream",
     "text": [
      "[ 8  9 17 18  5 11 13 19 25 10]\n",
      "\n",
      "[[[-9.3381e-01 -6.6085e-01  1.0361e+00  5.9466e-01  1.6108e+00\n",
      "    7.2091e-01  5.2858e-01 -4.7579e-01]]\n",
      "\n",
      " [[-1.3630e-01 -1.1596e+00  9.2602e-02 -3.1721e+00  3.5043e-01\n",
      "   -6.0986e-01  2.7468e-01  1.0557e+00]]\n",
      "\n",
      " [[ 8.3798e-01 -3.4053e-01 -6.7402e-01 -2.1377e+00 -3.9926e-01\n",
      "    1.7170e-01  3.1832e-01 -1.9662e+00]]\n",
      "\n",
      " [[ 1.2399e-01  4.0987e-02 -6.6945e-04 -1.2864e+00  5.0362e-01\n",
      "    2.4113e-01 -7.2608e-02 -4.0769e-01]]\n",
      "\n",
      " [[-2.5102e-01 -9.1173e-01  4.5382e-01 -9.3285e-01  1.6502e-01\n",
      "    7.1094e-01  1.9080e+00 -8.1194e-01]]\n",
      "\n",
      " [[-1.0385e+00 -5.4038e-01  2.4193e-01 -9.9474e-01 -1.5751e+00\n",
      "   -8.0030e-01  5.0203e-02  1.4095e+00]]\n",
      "\n",
      " [[-4.2391e-01 -1.3038e+00 -2.8711e-01  2.9459e-01 -1.4727e+00\n",
      "    5.3105e-02 -2.3478e+00 -2.1367e-01]]\n",
      "\n",
      " [[-6.1630e-01 -1.6754e+00  3.9840e-01  3.4566e-01 -8.4234e-01\n",
      "   -5.3857e-01  1.1573e+00  1.0494e+00]]\n",
      "\n",
      " [[-4.7155e-01 -1.3367e+00  2.7148e+00 -8.3328e-01 -6.5898e-01\n",
      "    4.2841e-01  1.4855e+00  1.0608e+00]]\n",
      "\n",
      " [[ 5.1129e-01 -9.7484e-01 -4.0393e-01 -1.7166e+00  9.1730e-01\n",
      "   -1.7616e+00 -3.6787e-01 -7.7930e-01]]]\n"
     ]
    }
   ],
   "source": [
    "# Inicializa dataset para gerar lote com 10 exemplos\n",
    "ds_series_batch = ds_series.shuffle(20).batch(10)\n",
    "\n",
    "# Iterage um única vez no dataset para obter um lote\n",
    "ids, sequence_batch = next(iter(ds_series_batch))\n",
    "print(ids.numpy())\n",
    "print()\n",
    "print(sequence_batch.numpy())"
   ]
  },
  {
   "cell_type": "markdown",
   "metadata": {},
   "source": [
    "- No caso `shuffle(20)` representa que é formado um buffer de 20 exemplos de dados e o lote é sorteado aleatóriamente entre esses 20 exemplos. Observa-se que quanto maior o buffer, melhor é realizado o embaralhamento dos dados."
   ]
  },
  {
   "cell_type": "markdown",
   "metadata": {
    "colab_type": "text",
    "id": "ma4XoYzih2f4"
   },
   "source": [
    "### 4.3 TFRecord\n",
    "\n",
    "Quando o conjunto de dados for muito grande, uma opção para ler os dados de maneira eficiente é serializar os dados e armazená-los em um conjunto de arquivos binários com tamanho de, por exemplo, 100-200 MB cada, que podem ser lidos linearmente. \n",
    "\n",
    "O formato TFRecord é um formato simples para armazenar dados em uma sequência de registros binários. \n",
    "\n",
    "A classe `tf.data.TFRecordDataset` permite que os dados sejam carregados por meio de \"streaming\" a partir de um ou mais arquivos do tipo TFRecord e que sejam usados durante o treinamento de uma RNA em tempo real. \n",
    "\n",
    "Essa forma de armazenar dados é extremamente útil se os dados estiverem sendo transmitidos por uma rede.\n",
    "\n",
    "Observa-se que existem muitos conjuntos de dados nesse formato.\n",
    "\n",
    "Não veremos detalhes desse tipo de dado, assim, para obter mais informações sobre TFRecord ver [Loading TFRecords](https://www.tensorflow.org/tutorials/load_data/tfrecord).\n",
    "\n",
    "Segue um exemplo simples de código que mostra como usar esse tipo de formato de dados. Nesse exemplo, são usados os dados de teste do conjunto de dados de nomes de ruas da França (FSNS)."
   ]
  },
  {
   "cell_type": "code",
   "execution_count": 33,
   "metadata": {
    "colab": {},
    "colab_type": "code",
    "id": "jZo_4fzdbDcW"
   },
   "outputs": [
    {
     "name": "stdout",
     "output_type": "stream",
     "text": [
      "C:\\Users\\jklca\\.keras\\datasets\\fsns.tfrec\n"
     ]
    }
   ],
   "source": [
    "# Define arquivos com os dados (são usados 2 arquivos do conjunto)\n",
    "fsns_test_file = tf.keras.utils.get_file(\"fsns.tfrec\", \n",
    "                 \"https://storage.googleapis.com/download.tensorflow.org/data/fsns-20160927/testdata/fsns-00000-of-00001\")\n",
    "\n",
    "# Apresenta nome base do subdiretório onde estão os arquivos\n",
    "print(fsns_test_file)"
   ]
  },
  {
   "cell_type": "markdown",
   "metadata": {},
   "source": [
    "- A função `tf.keras.utils.get_file()` carrega um ou mais arquivos da URL fornecida e coloca-os no diretório (ou arquivo)  \"~./Keras/datsets/nome\", onde \"nome\" é o nome do subdiretório (ou arquivo). \n",
    "\n",
    "\n",
    "- \"fsns.tfrec\" é o nome do subdiretório onde vão ser colocados os arquivos lidos e o outro argumento é a URL onde se encontram os arquivos de origem. Essa função também pode descompactar arquivos ao carregá-los. Existem muitos argumentos que podem ser definidos para essa função, para obter mais detalhes ver https://www.tensorflow.org/api_docs/python/tf/keras/utils/get_file.\n",
    "\n",
    "\n",
    "- Observe que os arquivos já estão no formato TFRecords."
   ]
  },
  {
   "cell_type": "markdown",
   "metadata": {
    "colab_type": "text",
    "id": "seD5bOH3RhBP"
   },
   "source": [
    "Para criar um `Dataset` com os dados contidos nesses arquivos, os nomes deles são passados pelo argumento `filenames` na inicialização do objeto `TFRecordDataset`. O argumento `filenames` pode ser uma string ou uma lista de strings.\n",
    "\n",
    "O código a seguir apresenta como criar um `Dataset` usando os arquivos definidos na variável `fsns_test_file`."
   ]
  },
  {
   "cell_type": "code",
   "execution_count": 34,
   "metadata": {
    "colab": {},
    "colab_type": "code",
    "id": "e2WV5d7DRUA-"
   },
   "outputs": [
    {
     "data": {
      "text/plain": [
       "TensorSpec(shape=(), dtype=tf.string, name=None)"
      ]
     },
     "execution_count": 34,
     "metadata": {},
     "output_type": "execute_result"
    }
   ],
   "source": [
    "dataset = tf.data.TFRecordDataset(filenames = [fsns_test_file])\n",
    "dataset.element_spec"
   ]
  },
  {
   "cell_type": "markdown",
   "metadata": {
    "colab_type": "text",
    "id": "62NC3vz9U8ww"
   },
   "source": [
    "Para os dados poderem ser usados, os registros nos arquivos com os TFRecords precisam ser decodificados. O código a seguir realiza essa decodificação."
   ]
  },
  {
   "cell_type": "code",
   "execution_count": 36,
   "metadata": {
    "colab": {},
    "colab_type": "code",
    "id": "3tk29nlMl5P3"
   },
   "outputs": [
    {
     "data": {
      "text/plain": [
       "bytes_list {\n",
       "  value: \"Rue Perreyon\"\n",
       "}"
      ]
     },
     "execution_count": 36,
     "metadata": {},
     "output_type": "execute_result"
    }
   ],
   "source": [
    "# Pega primeiro exemplo de dado\n",
    "raw_example = next(iter(dataset))\n",
    "\n",
    "# Decodifica dado\n",
    "parsed = tf.train.Example.FromString(raw_example.numpy())\n",
    "\n",
    "# Apresenta um exemplo de dado\n",
    "parsed.features.feature['image/text']"
   ]
  },
  {
   "cell_type": "markdown",
   "metadata": {},
   "source": [
    "- O método `tf.train.Example.FromString()` realiza a transformação dos registros binários em string.\n",
    "\n",
    "\n",
    "- Para mais detalhes sobre TFRecods ver https://www.tensorflow.org/tutorials/load_data/tfrecord."
   ]
  },
  {
   "cell_type": "markdown",
   "metadata": {
    "colab_type": "text",
    "id": "qJAUib10bDcb"
   },
   "source": [
    "### 4.4 Texto\n",
    "\n",
    "Muitos conjuntos de dados de texto são distribuídos em vários arquivos. A classe `tf.data.TextLineDataset` fornece uma forma fácil de extrair linhas de texto de um ou mais arquivos. \n",
    "\n",
    "Dados os nomes dos arquivos em uma lista de strings, a classe `TextLineDataset` produz uma string para cada linha de texto desses arquivos.\n",
    "\n",
    "Para mais detalhes ver https://www.tensorflow.org/tutorials/load_data/text."
   ]
  },
  {
   "cell_type": "code",
   "execution_count": 37,
   "metadata": {
    "colab": {},
    "colab_type": "code",
    "id": "hQMoFu2TbDcc"
   },
   "outputs": [
    {
     "name": "stdout",
     "output_type": "stream",
     "text": [
      "['C:\\\\Users\\\\jklca\\\\.keras\\\\datasets\\\\cowper.txt', 'C:\\\\Users\\\\jklca\\\\.keras\\\\datasets\\\\derby.txt', 'C:\\\\Users\\\\jklca\\\\.keras\\\\datasets\\\\butler.txt']\n"
     ]
    }
   ],
   "source": [
    "# Define diretório onde estão os arquivos\n",
    "directory_url = 'https://storage.googleapis.com/download.tensorflow.org/data/illiad/'\n",
    "\n",
    "# Define nomes dos arquivos\n",
    "file_names = ['cowper.txt', 'derby.txt', 'butler.txt']\n",
    "\n",
    "# Cria os caminhos completos para todos os arquivos\n",
    "file_paths = [tf.keras.utils.get_file(file_name, directory_url + file_name)\n",
    "             for file_name in file_names]\n",
    "\n",
    "# Aperesenta os caminhos\n",
    "print(file_paths)"
   ]
  },
  {
   "cell_type": "markdown",
   "metadata": {},
   "source": [
    "Cria `Dataset` com as linhas de texto dos arquivos e apresenta as 10 primeiras linhas dos primeiro arquivo."
   ]
  },
  {
   "cell_type": "code",
   "execution_count": 40,
   "metadata": {
    "colab": {},
    "colab_type": "code",
    "id": "il4cOjiVwj95"
   },
   "outputs": [
    {
     "name": "stdout",
     "output_type": "stream",
     "text": [
      "b\"\\xef\\xbb\\xbfAchilles sing, O Goddess! Peleus' son;\"\n",
      "b'His wrath pernicious, who ten thousand woes'\n",
      "b\"Caused to Achaia's host, sent many a soul\"\n",
      "b'Illustrious into Ades premature,'\n",
      "b'And Heroes gave (so stood the will of Jove)'\n",
      "b'To dogs and to all ravening fowls a prey,'\n",
      "b'When fierce dispute had separated once'\n",
      "b'The noble Chief Achilles from the son'\n",
      "b'Of Atreus, Agamemnon, King of men.'\n",
      "b\"Who them to strife impell'd? What power divine?\"\n"
     ]
    }
   ],
   "source": [
    "# Cria dataset com linhas de texto\n",
    "dataset = tf.data.TextLineDataset(file_paths)\n",
    "\n",
    "# Apresenta 10 primeiras linhas\n",
    "for line in dataset.take(10):\n",
    "    print(line.numpy())"
   ]
  },
  {
   "cell_type": "markdown",
   "metadata": {
    "colab_type": "text",
    "id": "2F_pOIDubDce"
   },
   "source": [
    "A classe `TextLineDataset` retorna todas as linhas dos arquivos, o que pode não ser desejado, por exemplo, se a a primeira linha for um cabeçalho, ou conter comentários. \n",
    "\n",
    "Ao carregar um arquivo de texto, pode-se usar os métodos `skip()` ou `filter()`. Com esses métodos pode-se pular a primeira linha, ou quantas linhas for desejado e pegar as outras restantes.\n",
    "\n",
    "Um exemplo de fazer essa operação segue abaixo com o conjunto de dados de texto criado anteriormente. Nesse exemplo pulam-se as 2 primeiras linhas."
   ]
  },
  {
   "cell_type": "code",
   "execution_count": 39,
   "metadata": {},
   "outputs": [
    {
     "name": "stdout",
     "output_type": "stream",
     "text": [
      "b\"Caused to Achaia's host, sent many a soul\"\n",
      "b'Illustrious into Ades premature,'\n",
      "b'And Heroes gave (so stood the will of Jove)'\n",
      "b'To dogs and to all ravening fowls a prey,'\n",
      "b'When fierce dispute had separated once'\n",
      "b'The noble Chief Achilles from the son'\n",
      "b'Of Atreus, Agamemnon, King of men.'\n",
      "b\"Who them to strife impell'd? What power divine?\"\n",
      "b\"Latona's son and Jove's. For he, incensed\"\n",
      "b'Against the King, a foul contagion raised'\n"
     ]
    }
   ],
   "source": [
    "# Cria novo dataset sem as duas primeiras linhas\n",
    "linhas = dataset.skip(2)\n",
    "\n",
    "# Apresenta 10 primeiras linhas do novo dataset\n",
    "for line in linhas.take(10):\n",
    "    print(line.numpy())"
   ]
  },
  {
   "cell_type": "markdown",
   "metadata": {
    "colab_type": "text",
    "id": "x5z5B11UjDTd"
   },
   "source": [
    "### 4.5 Arquivos tipo CSV\n",
    "\n",
    "Arquivos no formato CSV podem ser carregados usando o Pandas e depois transformados em um objeto `Dataset`. Ou pode-se também carregá-los diretamente como um objeto `Dataset`.\n",
    "\n",
    "#### Carregando arquivo com o Pandas\n",
    "\n",
    "Se os dados couberem na memória, carregá-los com o Pandas é muito simples, como já vimos. \n",
    "\n",
    "Como exemplo vamos usar o conjunto de dados \"Titanic\"."
   ]
  },
  {
   "cell_type": "code",
   "execution_count": 42,
   "metadata": {
    "colab": {},
    "colab_type": "code",
    "id": "kj28j5u49Bjm"
   },
   "outputs": [
    {
     "data": {
      "text/html": [
       "<div>\n",
       "<style scoped>\n",
       "    .dataframe tbody tr th:only-of-type {\n",
       "        vertical-align: middle;\n",
       "    }\n",
       "\n",
       "    .dataframe tbody tr th {\n",
       "        vertical-align: top;\n",
       "    }\n",
       "\n",
       "    .dataframe thead th {\n",
       "        text-align: right;\n",
       "    }\n",
       "</style>\n",
       "<table border=\"1\" class=\"dataframe\">\n",
       "  <thead>\n",
       "    <tr style=\"text-align: right;\">\n",
       "      <th></th>\n",
       "      <th>survived</th>\n",
       "      <th>sex</th>\n",
       "      <th>age</th>\n",
       "      <th>n_siblings_spouses</th>\n",
       "      <th>parch</th>\n",
       "      <th>fare</th>\n",
       "      <th>class</th>\n",
       "      <th>deck</th>\n",
       "      <th>embark_town</th>\n",
       "      <th>alone</th>\n",
       "    </tr>\n",
       "  </thead>\n",
       "  <tbody>\n",
       "    <tr>\n",
       "      <td>0</td>\n",
       "      <td>0</td>\n",
       "      <td>male</td>\n",
       "      <td>22.0</td>\n",
       "      <td>1</td>\n",
       "      <td>0</td>\n",
       "      <td>7.2500</td>\n",
       "      <td>Third</td>\n",
       "      <td>unknown</td>\n",
       "      <td>Southampton</td>\n",
       "      <td>n</td>\n",
       "    </tr>\n",
       "    <tr>\n",
       "      <td>1</td>\n",
       "      <td>1</td>\n",
       "      <td>female</td>\n",
       "      <td>38.0</td>\n",
       "      <td>1</td>\n",
       "      <td>0</td>\n",
       "      <td>71.2833</td>\n",
       "      <td>First</td>\n",
       "      <td>C</td>\n",
       "      <td>Cherbourg</td>\n",
       "      <td>n</td>\n",
       "    </tr>\n",
       "    <tr>\n",
       "      <td>2</td>\n",
       "      <td>1</td>\n",
       "      <td>female</td>\n",
       "      <td>26.0</td>\n",
       "      <td>0</td>\n",
       "      <td>0</td>\n",
       "      <td>7.9250</td>\n",
       "      <td>Third</td>\n",
       "      <td>unknown</td>\n",
       "      <td>Southampton</td>\n",
       "      <td>y</td>\n",
       "    </tr>\n",
       "    <tr>\n",
       "      <td>3</td>\n",
       "      <td>1</td>\n",
       "      <td>female</td>\n",
       "      <td>35.0</td>\n",
       "      <td>1</td>\n",
       "      <td>0</td>\n",
       "      <td>53.1000</td>\n",
       "      <td>First</td>\n",
       "      <td>C</td>\n",
       "      <td>Southampton</td>\n",
       "      <td>n</td>\n",
       "    </tr>\n",
       "    <tr>\n",
       "      <td>4</td>\n",
       "      <td>0</td>\n",
       "      <td>male</td>\n",
       "      <td>28.0</td>\n",
       "      <td>0</td>\n",
       "      <td>0</td>\n",
       "      <td>8.4583</td>\n",
       "      <td>Third</td>\n",
       "      <td>unknown</td>\n",
       "      <td>Queenstown</td>\n",
       "      <td>y</td>\n",
       "    </tr>\n",
       "  </tbody>\n",
       "</table>\n",
       "</div>"
      ],
      "text/plain": [
       "   survived     sex   age  n_siblings_spouses  parch     fare  class     deck  \\\n",
       "0         0    male  22.0                   1      0   7.2500  Third  unknown   \n",
       "1         1  female  38.0                   1      0  71.2833  First        C   \n",
       "2         1  female  26.0                   0      0   7.9250  Third  unknown   \n",
       "3         1  female  35.0                   1      0  53.1000  First        C   \n",
       "4         0    male  28.0                   0      0   8.4583  Third  unknown   \n",
       "\n",
       "   embark_town alone  \n",
       "0  Southampton     n  \n",
       "1    Cherbourg     n  \n",
       "2  Southampton     y  \n",
       "3  Southampton     n  \n",
       "4   Queenstown     y  "
      ]
     },
     "execution_count": 42,
     "metadata": {},
     "output_type": "execute_result"
    }
   ],
   "source": [
    "# Define nome do arquivo e URL com o arquivo de dados\n",
    "titanic_file = tf.keras.utils.get_file(\"train.csv\", \"https://storage.googleapis.com/tf-datasets/titanic/train.csv\")\n",
    "\n",
    "# Carrega dados com o Pandas\n",
    "df = pd.read_csv(titanic_file, index_col=None)\n",
    "df.head()"
   ]
  },
  {
   "cell_type": "markdown",
   "metadata": {
    "colab_type": "text",
    "id": "J9uBqt5oGsR-"
   },
   "source": [
    "Para transformar um `DataFrame` do Pandas em um objeto `Dataset` é usado o método `from_tensor_slices`, que  é o mesmo usado quando os dados estão no formato de tensores Numpy."
   ]
  },
  {
   "cell_type": "code",
   "execution_count": 47,
   "metadata": {
    "colab": {},
    "colab_type": "code",
    "id": "JmAMCiPJA0qO"
   },
   "outputs": [
    {
     "name": "stdout",
     "output_type": "stream",
     "text": [
      "  survived: 0\n",
      "  sex: b'male'\n",
      "  age: 22.0\n",
      "  n_siblings_spouses: 1\n",
      "  parch: 0\n",
      "  fare: 7.25\n",
      "  class: b'Third'\n",
      "  deck: b'unknown'\n",
      "  embark_town: b'Southampton'\n",
      "  alone: b'n'\n",
      " \n",
      "  survived: 1\n",
      "  sex: b'female'\n",
      "  age: 38.0\n",
      "  n_siblings_spouses: 1\n",
      "  parch: 0\n",
      "  fare: 71.2833\n",
      "  class: b'First'\n",
      "  deck: b'C'\n",
      "  embark_town: b'Cherbourg'\n",
      "  alone: b'n'\n",
      " \n"
     ]
    }
   ],
   "source": [
    "# Cria dataset com o dataframe Pandas\n",
    "titanic_ds = tf.data.Dataset.from_tensor_slices(dict(df))\n",
    "\n",
    "# Apresenta as 2 primeiras linhas dos dados\n",
    "for feature_batch in titanic_ds.take(2):\n",
    "    for key, value in feature_batch.items():\n",
    "        print(\"  {}: {}\".format(key, value))\n",
    "    print(' ')"
   ]
  },
  {
   "cell_type": "markdown",
   "metadata": {
    "colab_type": "text",
    "id": "47yippqaHFk6"
   },
   "source": [
    "#### Carregando arquivo diretamente com `tf.data`\n",
    "\n",
    "Uma forma mais eficiente é carregar os dados diretamente com o módulo `tf.data`, que permite carregar os dados na medida em forem necessários. Isso é importante para conjunto de dados muito grande que não cabe na memória do computador. \n",
    "\n",
    "O método `experimental.make_csv_dataset` é capaz de carregar partes de um arquivo tipo CSV. Esse método fornece suporte para selecionar e transformar colunas, gerar lotes de dados etc.\n",
    "\n",
    "O código abaixo mostra um exemplo de como usar esse método para criar um `Dataset` a partir do arquivo de dados tipo CSV do conjunto de dados \"Titanic\"."
   ]
  },
  {
   "cell_type": "code",
   "execution_count": 48,
   "metadata": {
    "colab": {},
    "colab_type": "code",
    "id": "zHUDrM_s_brq"
   },
   "outputs": [],
   "source": [
    "# Define nome e URL com o arquivo de dados\n",
    "titanic_file = tf.keras.utils.get_file(\"train.csv\", \"https://storage.googleapis.com/tf-datasets/titanic/train.csv\")\n",
    "\n",
    "# Cria objeto Dataset a partir do arquivo de dados \n",
    "titanic_batches_ds = tf.data.experimental.make_csv_dataset(\n",
    "                  titanic_file, batch_size=4,\n",
    "                  label_name=\"survived\")"
   ]
  },
  {
   "cell_type": "markdown",
   "metadata": {},
   "source": [
    "- Nesse exemplo foi escolhido um lote de 4 exemplos, ou seja, 4 linhas. Assim, somente 4 linhas são carregas e somente quando necessárias.\n",
    "\n",
    "\n",
    "- A coluna com a saída desejada (\"survived\") já foi selecionada ao carregar os dados de forma a gerar automatiamente dados de entrada e de saída.\n",
    "\n",
    "Como exemplo, o código abaixo apresenta um lote de 4 exemplos de dados do \"titanic\", carregado do Dataset criado."
   ]
  },
  {
   "cell_type": "code",
   "execution_count": 49,
   "metadata": {
    "colab": {},
    "colab_type": "code",
    "id": "TsZfhz79_Wlg"
   },
   "outputs": [
    {
     "name": "stdout",
     "output_type": "stream",
     "text": [
      "survived: [0 0 0 0]\n",
      "features:\n",
      "  sex: [b'male' b'male' b'male' b'male']\n",
      "  age: [24. 28. 28. 33.]\n",
      "  n_siblings_spouses: [0 0 0 1]\n",
      "  parch: [1 0 0 1]\n",
      "  fare: [247.5208   8.4583  31.      20.525 ]\n",
      "  class: [b'First' b'Third' b'First' b'Third']\n",
      "  deck: [b'B' b'unknown' b'unknown' b'unknown']\n",
      "  embark_town: [b'Cherbourg' b'Queenstown' b'Southampton' b'Southampton']\n",
      "  alone: [b'n' b'y' b'y' b'n']\n"
     ]
    }
   ],
   "source": [
    "# Gera um lote de dados do dataset\n",
    "for feature_batch, label_batch in titanic_batches_ds.take(1):\n",
    "    print(\"survived: {}\".format(label_batch))\n",
    "    print(\"features:\")\n",
    "    for key, value in feature_batch.items():\n",
    "        print(\"  {}: {}\".format(key, value))"
   ]
  },
  {
   "cell_type": "markdown",
   "metadata": {
    "colab_type": "text",
    "id": "k_5N7CdNGYAa"
   },
   "source": [
    "Ao carregar os dados, é possível selecionar somente as colunas desejadas, conforme mostra o código a seguir, onde somente 3 colunas são selecionadas ('class', 'fare', 'survived')."
   ]
  },
  {
   "cell_type": "code",
   "execution_count": 50,
   "metadata": {
    "colab": {},
    "colab_type": "code",
    "id": "H9KNHyDwF2Sc"
   },
   "outputs": [
    {
     "name": "stdout",
     "output_type": "stream",
     "text": [
      "survived: [0 0 0 0]\n",
      "features:\n",
      "  fare: [29.125   7.8958  8.3     8.05  ]\n",
      "  class: [b'Third' b'Third' b'Third' b'Third']\n"
     ]
    }
   ],
   "source": [
    "# Cria objeto dataset a partir do arquivo de dados\n",
    "titanic_batches = tf.data.experimental.make_csv_dataset(\n",
    "    titanic_file, batch_size=4,\n",
    "    label_name=\"survived\", select_columns=['class', 'fare', 'survived'])\n",
    "\n",
    "# Gera um lote de dados do dataset\n",
    "for feature_batch, label_batch in titanic_batches.take(1):\n",
    "    print(\"survived: {}\".format(label_batch))\n",
    "    print(\"features:\")\n",
    "    for key, value in feature_batch.items():\n",
    "        print(\"  {}: {}\".format(key, value))"
   ]
  },
  {
   "cell_type": "markdown",
   "metadata": {},
   "source": [
    "**Importante:** \n",
    "\n",
    "Para poder usar o Dataset acima com uma RNA, todos os dados tem que serem transformados para números. Para isso, o tensorFlow fornece o módulo `tf.feature_columns`, que permite transformar colunas de um conjunto de dados estruturados $\\to$ isso será visto nas próximas aulas."
   ]
  },
  {
   "cell_type": "markdown",
   "metadata": {
    "colab_type": "text",
    "id": "-CJfhb03koVN"
   },
   "source": [
    "### 4.6 Conjuntos de arquivos\n",
    "\n",
    "Existem muitos conjuntos de dados compostos por vários arquivos, onde cada arquivo é um exemplo ou alguns exemplos.\n",
    "\n",
    "Nesse caso pode-se carregar todos os arquivos e colocá-los em um diretório temporário. "
   ]
  },
  {
   "cell_type": "code",
   "execution_count": 52,
   "metadata": {
    "colab": {},
    "colab_type": "code",
    "id": "1dZwN3CS-jV2"
   },
   "outputs": [
    {
     "name": "stdout",
     "output_type": "stream",
     "text": [
      "C:\\Users\\jklca\\.keras\\datasets\\flower_photos\n"
     ]
    }
   ],
   "source": [
    "# Define URL onde estão os arquivos e os carrega no diretório ~./keras/datasets/flower_photos\n",
    "flowers_root = tf.keras.utils.get_file(\n",
    "    'flower_photos',\n",
    "    'https://storage.googleapis.com/download.tensorflow.org/example_images/flower_photos.tgz',\n",
    "    untar=True)\n",
    "\n",
    "# Define caminho completo para colocar os arquivos\n",
    "flowers_root = pathlib.Path(flowers_root)\n",
    "\n",
    "print(flowers_root)"
   ]
  },
  {
   "cell_type": "markdown",
   "metadata": {},
   "source": [
    "- Nesse exemplo a função `pathlib.Path(dir)` cria o caminho para todos os subdiretórios onde foram copiados os arquivos.\n",
    "\n",
    "- O diretório onde são colocados os arquivos é um padrão do tf.keras."
   ]
  },
  {
   "cell_type": "markdown",
   "metadata": {
    "colab_type": "text",
    "id": "FCyTYpmDs_jE"
   },
   "source": [
    "O diretório \"flower_photos\" contém um subdiretório para cada tipo (classe) de flor.\n",
    "\n",
    "Para obter os nomes dos subdiretórios usa-se o método `glob()` $\\to$ o método `glob()` obtém os nomes dos subdiretórios e dos arquivos dentro de um diretório. \n",
    "\n",
    "Nesse exemplo, usa-se o argumento `\"*\"` no método `glob()` para selecionar tudo o que existe no diretório \"flower_photos\". "
   ]
  },
  {
   "cell_type": "code",
   "execution_count": 53,
   "metadata": {
    "colab": {},
    "colab_type": "code",
    "id": "_2iCXsHu6jJH"
   },
   "outputs": [
    {
     "name": "stdout",
     "output_type": "stream",
     "text": [
      "daisy\n",
      "dandelion\n",
      "LICENSE.txt\n",
      "roses\n",
      "sunflowers\n",
      "tulips\n"
     ]
    }
   ],
   "source": [
    "# Lista nomes dos subdireórios \n",
    "for item in flowers_root.glob(\"*\"):\n",
    "    print(item.name)"
   ]
  },
  {
   "cell_type": "markdown",
   "metadata": {
    "colab_type": "text",
    "id": "Ylj9fgkamgWZ"
   },
   "source": [
    "O código abaixo cria o `Dataset` de nome `list_ds`, que contém os caminhos e nomes de todos os arquivos de imagens do conjunto de dados. \n",
    "\n",
    "Após criar o `Dataset` são apresentados os primeiros 5 arquivos da lista."
   ]
  },
  {
   "cell_type": "code",
   "execution_count": 54,
   "metadata": {
    "colab": {},
    "colab_type": "code",
    "id": "lAkQp5uxoINu"
   },
   "outputs": [
    {
     "name": "stdout",
     "output_type": "stream",
     "text": [
      "b'C:\\\\Users\\\\jklca\\\\.keras\\\\datasets\\\\flower_photos\\\\dandelion\\\\18282528206_7fb3166041.jpg'\n",
      "b'C:\\\\Users\\\\jklca\\\\.keras\\\\datasets\\\\flower_photos\\\\daisy\\\\14569895116_32f0dcb0f9.jpg'\n",
      "b'C:\\\\Users\\\\jklca\\\\.keras\\\\datasets\\\\flower_photos\\\\daisy\\\\19813618946_93818db7aa_m.jpg'\n",
      "b'C:\\\\Users\\\\jklca\\\\.keras\\\\datasets\\\\flower_photos\\\\roses\\\\9355706808_a9a723a8e8_n.jpg'\n",
      "b'C:\\\\Users\\\\jklca\\\\.keras\\\\datasets\\\\flower_photos\\\\dandelion\\\\506659320_6fac46551e.jpg'\n"
     ]
    }
   ],
   "source": [
    "# Obtém lista de arquivos no diretório \"flowers_root\"\n",
    "list_ds = tf.data.Dataset.list_files(str(flowers_root/'*/*'))\n",
    "\n",
    "# Apresenta os primeiros 5 arquivos da lista\n",
    "for f in list_ds.take(5):\n",
    "    print(f.numpy())"
   ]
  },
  {
   "cell_type": "markdown",
   "metadata": {},
   "source": [
    "- O método `list_files()` serve para criar um Dataset a partir de uma lista de arquivos de um diretório cujos nomes seguem um padrão fornecido como argumento para o método. Nesse exemplo, se usa como argumento `'*/*'`, o que representa selecionar todos os arquivos de todos os subdiretórios.  "
   ]
  },
  {
   "cell_type": "markdown",
   "metadata": {
    "colab_type": "text",
    "id": "91CPfUUJ_8SZ"
   },
   "source": [
    "Tendo o Dataset `lista_ds`, que contém a lista dos caminhos e nomes dos arquivos das imagens pode-se criar o Dataset com os dados.\n",
    "\n",
    "No código abaixo é definida a função `process_path()`. Essa função realiza as seguintes tarefas:\n",
    "\n",
    "- recebe um caminho indicando um arquivo de imagem e carrega esse arquivo;\n",
    "- extrai a classe à qual pertence a flor, usando para isso a string com o caminho do arquivo. \n",
    "\n",
    "A função `process_path()` ao ser chamada com a lista de arquivos retorna o dataset com os pares `(image, label)`.\n",
    "\n",
    "Para ler os arquivos usa-se a função `tf.io.read_file(nome)` do TensorFlow, onde `nome` é o caminho com o nome do arquivo a ser lido.\n",
    "\n",
    "Para ler as classes usa-se a função `tf.strings.split(string, sep)`, que separa a string fornecida, usando como indicador para a separação o símbolo fornecido no argumento `sep`. No exemplo é selecionada a segunda string a partir do final após o símbolo \"\\\\\"."
   ]
  },
  {
   "cell_type": "code",
   "execution_count": 56,
   "metadata": {
    "colab": {},
    "colab_type": "code",
    "id": "-xhBRgvNqRRe"
   },
   "outputs": [
    {
     "data": {
      "text/plain": [
       "<MapDataset shapes: ((), ()), types: (tf.string, tf.string)>"
      ]
     },
     "execution_count": 56,
     "metadata": {},
     "output_type": "execute_result"
    }
   ],
   "source": [
    "# Função process_path que le arquivo de imagem e obtém a sua classe\n",
    "def process_path(file_path):\n",
    "    label = tf.strings.split(file_path, sep='\\\\')[-2]\n",
    "    return tf.io.read_file(file_path), label\n",
    "\n",
    "# Cria dataset com as imagens e as suas classes\n",
    "labeled_ds = list_ds.map(process_path)\n",
    "labeled_ds"
   ]
  },
  {
   "cell_type": "markdown",
   "metadata": {},
   "source": [
    "Para verificar se tudo foi realizado de forma correta, o código a seguir obtém uma imagem do Dataset juntamente com a sua classe usando o método `take()`. \n",
    "\n",
    "A imagem é retornada como uma lista de strings (codificação \"base64\"). Se quisermos visualizar a imagem devemos decodificá-la usando o método `tf.io.decode_image()`, conforme mostrado abaixo."
   ]
  },
  {
   "cell_type": "code",
   "execution_count": 60,
   "metadata": {
    "colab": {},
    "colab_type": "code",
    "id": "kxrl0lGdnpRz"
   },
   "outputs": [
    {
     "name": "stdout",
     "output_type": "stream",
     "text": [
      "b'\\xff\\xd8\\xff\\xe0\\x00\\x10JFIF\\x00\\x01\\x01\\x01\\x00\\xf0\\x00\\xf0\\x00\\x00\\xff\\xe2\\x02@ICC_PROFILE\\x00\\x01\\x01\\x00\\x00\\x020ADBE\\x02\\x10\\x00\\x00mntrRGB XYZ \\x07\\xcf\\x00\\x06\\x00\\x03\\x00\\x00\\x00\\x00\\x00\\x00acspAPPL\\x00\\x00\\x00\\x00none\\x00\\x00\\x00\\x00\\x00\\x00\\x00\\x00\\x00\\x00'\n",
      "\n",
      "b'sunflowers'\n"
     ]
    },
    {
     "data": {
      "image/png": "[encoded data removed]",
      "text/plain": [
       "<Figure size 432x288 with 1 Axes>"
      ]
     },
     "metadata": {
      "needs_background": "light"
     },
     "output_type": "display_data"
    }
   ],
   "source": [
    "# Seleciona primeiro exemplo e par imagem-classe do dataset\n",
    "for image_raw, label_text in labeled_ds.take(1):\n",
    "    print(repr(image_raw.numpy()[:100]))\n",
    "    print()\n",
    "    print(label_text.numpy())\n",
    "\n",
    "# Decodificação da imagem para poder ser visualizada\n",
    "image = tf.io.decode_image(image_raw)\n",
    "\n",
    "# Mostra imagem \n",
    "plt.imshow(image)\n",
    "plt.show()"
   ]
  },
  {
   "cell_type": "markdown",
   "metadata": {
    "colab_type": "text",
    "id": "yEh46Ee0oSH5"
   },
   "source": [
    "## 5. Criar lotes de exemplos para treinamento\n",
    "\n",
    "Para dividir os exemplos em lotes para serem usados no treinamento da RNA, o módulo `tf.data` fornece meios de criar lotes de exemplos de um objeto `Dataset`."
   ]
  },
  {
   "cell_type": "markdown",
   "metadata": {
    "colab_type": "text",
    "id": "gR-2xY-8oSH4"
   },
   "source": [
    "### 5.1 Lotes simples\n",
    "\n",
    "Para criar um lote de n exemplos de dados de um objeto `Dataset` usa-se o método `batch()`. Com esse método todos os exemplos devem ter a mesma dimensão.\n",
    "\n",
    "O código abaixo apresenta um exemplo de definir lotes de um objeto `Dataset`. Nesse exemplo, primeiramente é criado um conjunto de dados com duas sequência de números e depois são defindos os lotes."
   ]
  },
  {
   "cell_type": "code",
   "execution_count": 63,
   "metadata": {
    "colab": {},
    "colab_type": "code",
    "id": "xB7KeceLoSH0"
   },
   "outputs": [
    {
     "name": "stdout",
     "output_type": "stream",
     "text": [
      "[array([0, 1, 2], dtype=int64), array([ 0, -1, -2], dtype=int64)]\n",
      "[array([3, 4, 5], dtype=int64), array([-3, -4, -5], dtype=int64)]\n",
      "[array([6, 7, 8], dtype=int64), array([-6, -7, -8], dtype=int64)]\n",
      "[array([ 9, 10, 11], dtype=int64), array([ -9, -10, -11], dtype=int64)]\n",
      "[array([12, 13, 14], dtype=int64), array([-12, -13, -14], dtype=int64)]\n"
     ]
    }
   ],
   "source": [
    "# Cria série de números crescentes de 0 a 100\n",
    "inc_dataset = tf.data.Dataset.range(100)\n",
    "\n",
    "# Cria série de números decrescentes de 0 a -100\n",
    "dec_dataset = tf.data.Dataset.range(0, -100, -1)\n",
    "\n",
    "# Cria dataset com as duas séries\n",
    "dataset = tf.data.Dataset.zip((inc_dataset, dec_dataset))\n",
    "\n",
    "# Cria novo dataset com lotes de 3 exemplos \n",
    "batched_dataset = dataset.batch(3)\n",
    "\n",
    "# Mostra 5 lotes\n",
    "for batch in batched_dataset.take(5):\n",
    "    print([arr.numpy() for arr in batch])"
   ]
  },
  {
   "cell_type": "markdown",
   "metadata": {},
   "source": [
    "- Observa-se que cada exemplo de treinamento é composto por dois números, sendo um da série crescente e outro da série descrescente.\n",
    "\n",
    "Para vermos como o Dataset ficou após a divisão em lotes podemos fazer:"
   ]
  },
  {
   "cell_type": "code",
   "execution_count": 64,
   "metadata": {},
   "outputs": [
    {
     "data": {
      "text/plain": [
       "(TensorSpec(shape=(None,), dtype=tf.int64, name=None),\n",
       " TensorSpec(shape=(None,), dtype=tf.int64, name=None))"
      ]
     },
     "execution_count": 64,
     "metadata": {},
     "output_type": "execute_result"
    }
   ],
   "source": [
    "batched_dataset.element_spec"
   ]
  },
  {
   "cell_type": "markdown",
   "metadata": {
    "colab_type": "text",
    "id": "LlV1tpFdoSH0"
   },
   "source": [
    "- Observe que o padrão do método `batch()` é retornar lotes de tamanho `None` (desconhecido), porque o último lote pode não estar completo. Como, ocorre no exemplo acima, pois com lotes de 3 elementos em um conjunto de 100 elementos resulta em 33 lotes de 3 elementos e um lote de 1 único elemento."
   ]
  },
  {
   "cell_type": "markdown",
   "metadata": {
    "colab_type": "text",
    "id": "It1fPA3NoSHw"
   },
   "source": [
    "Se for desejado, isso pode ser corrigido usando o argumento `drop_remainder` para ignorar o último lote e, assim, obter todos os lotes de mesmo tamanho. Abaixo segue um exemplo."
   ]
  },
  {
   "cell_type": "code",
   "execution_count": 66,
   "metadata": {
    "colab": {},
    "colab_type": "code",
    "id": "BycWC7WCoSHt"
   },
   "outputs": [
    {
     "data": {
      "text/plain": [
       "(TensorSpec(shape=(3,), dtype=tf.int64, name=None),\n",
       " TensorSpec(shape=(3,), dtype=tf.int64, name=None))"
      ]
     },
     "execution_count": 66,
     "metadata": {},
     "output_type": "execute_result"
    }
   ],
   "source": [
    "# Cria novo dataset com lotes de 3 exemplos descartando o último lote\n",
    "batched_dataset = dataset.batch(3, drop_remainder=True)\n",
    "batched_dataset.element_spec"
   ]
  },
  {
   "cell_type": "markdown",
   "metadata": {
    "colab_type": "text",
    "id": "mj9nRxFZoSHs"
   },
   "source": [
    "### 5.2 Criando lotes com \"padding\"\n",
    "\n",
    "A forma de gerar lotes vista no item anterior funciona quando todos os exemplos tem a mesma dimensão. Contudo, em muitos problemas (como por exemplo, processamento de texto e processamento de séries temporais) é comum trabalhar com exemplos de comprimento diferentes. \n",
    "\n",
    "Para lidar com esses casos, completam-se os exemplos de menor comprimento com algum número de forma que todos os exemplos fiquem com o comprimento do maior exemplo. \n",
    "\n",
    "O método `padded_batch()` permite criar lotes de exemplos de dimensões diferentes especificando um ou mais eixos nos quais devem ser adiconados algum valor.\n",
    "\n",
    "O código abaixo cria um `Dataset` com exemplos de comprimento variável usando o método `range`. Esse método cria uma sequencia de números da mesma forma que a função `range()` da biblioteca Numpy."
   ]
  },
  {
   "cell_type": "code",
   "execution_count": 75,
   "metadata": {
    "colab": {},
    "colab_type": "code",
    "id": "kycwO0JooSHn"
   },
   "outputs": [
    {
     "name": "stdout",
     "output_type": "stream",
     "text": [
      "[]\n",
      "[1]\n",
      "[2 2]\n",
      "[3 3 3]\n",
      "[4 4 4 4]\n"
     ]
    }
   ],
   "source": [
    "# Cria dataset com exemplos de comprimentos variáveis de 0 a 100\n",
    "dataset = tf.data.Dataset.range(100)\n",
    "dataset = dataset.map(lambda x: tf.fill([tf.cast(x, tf.int32)], x))\n",
    "\n",
    "# Apresenta os 5 primeiros exemplos\n",
    "for batch in dataset.take(5):\n",
    "    print(batch.numpy())"
   ]
  },
  {
   "cell_type": "markdown",
   "metadata": {},
   "source": [
    "- A função `tf.fill(dim, valor)` usada acima, cria um tensor de dimensão `dim` com valores iguais a `valor`.\n",
    "\n",
    "Se quisermos criar lotes de exemplos desse `Dataset` para ser udado por uma RNA, devemos completar os exemplos menores com algum valor para termos todos os exemplos do lote com o mesmo comprimento. Isso é feito com o método `padded_batch()`, conforme mostra o código abaixo."
   ]
  },
  {
   "cell_type": "code",
   "execution_count": 76,
   "metadata": {},
   "outputs": [
    {
     "name": "stdout",
     "output_type": "stream",
     "text": [
      "[[0 0 0]\n",
      " [1 0 0]\n",
      " [2 2 0]\n",
      " [3 3 3]]\n",
      "[[4 4 4 4 0 0 0]\n",
      " [5 5 5 5 5 0 0]\n",
      " [6 6 6 6 6 6 0]\n",
      " [7 7 7 7 7 7 7]]\n",
      "[[ 8  8  8  8  8  8  8  8  0  0  0]\n",
      " [ 9  9  9  9  9  9  9  9  9  0  0]\n",
      " [10 10 10 10 10 10 10 10 10 10  0]\n",
      " [11 11 11 11 11 11 11 11 11 11 11]]\n"
     ]
    }
   ],
   "source": [
    "# Cria datase com lotes que possuem exemplos de mesma dimensão\n",
    "v = tf.constant(0, dtype=tf.int64)\n",
    "dataset = dataset.padded_batch(4, padded_shapes=(None,), padding_values=v)\n",
    "\n",
    "# Apresenta 4 primeiros exemplos\n",
    "for batch in dataset.take(3):\n",
    "    print(batch.numpy())"
   ]
  },
  {
   "cell_type": "markdown",
   "metadata": {},
   "source": [
    "- O primeiro argumento definido o tamanho dos lotes, que no caso é 4.\n",
    "- O valor padrão para preencher os exemplos menores é zero. Portanto, nesse exemplos não precisaria ser definido.\n",
    "- Se `padded_shapes` for uma constante, todos os exemplos serão preenchidos até o comprimento definido.\n",
    "- Se `padded_shapes` for `None`, os exemplos terão a dimensão do maior exemplo."
   ]
  },
  {
   "cell_type": "markdown",
   "metadata": {},
   "source": [
    "### 5.3 Gerando lotes para várias épocas\n",
    "\n",
    "O módulo `tf.data` oferece duas maneiras principais de utilizar lotes de dados.\n",
    "\n",
    "A maneira mais simples de iterar em um conjunto de dados em várias épocas é usar o método `repeat`. \n",
    "\n",
    "Para exemplificar, vamos usar o conjunto de dados Titanic lendo as suas linhas e não carregando-o como um arquivo CSV."
   ]
  },
  {
   "cell_type": "code",
   "execution_count": 77,
   "metadata": {},
   "outputs": [],
   "source": [
    "# Define nome e URL do arquivo de dados\n",
    "titanic_file = tf.keras.utils.get_file(\"train.csv\", \"https://storage.googleapis.com/tf-datasets/titanic/train.csv\")\n",
    "\n",
    "# Cria Dataset a partir do arquivo de dados\n",
    "titanic_lines = tf.data.TextLineDataset(titanic_file)"
   ]
  },
  {
   "cell_type": "markdown",
   "metadata": {},
   "source": [
    "A função `plot_batch_sizes()`, definida abaixo, mostra um gráfico do número de elementos dos lotes gerados de um Dataset. "
   ]
  },
  {
   "cell_type": "code",
   "execution_count": 78,
   "metadata": {},
   "outputs": [],
   "source": [
    "def plot_batch_sizes(ds):\n",
    "    batch_sizes = [batch.shape[0] for batch in ds]\n",
    "    plt.bar(range(len(batch_sizes)), batch_sizes)\n",
    "    plt.xlabel('Batch number')\n",
    "    plt.ylabel('Batch size')"
   ]
  },
  {
   "cell_type": "markdown",
   "metadata": {},
   "source": [
    "Aplicar o método `repeat` antes de definir o tamanho do lote repete os dados indefinidamente. Assim, um comando `batch` aplicado após o comando `repeat` irá produzir lotes que ultrapassam os limites da época, como no exemplo a seguir."
   ]
  },
  {
   "cell_type": "code",
   "execution_count": 80,
   "metadata": {},
   "outputs": [
    {
     "data": {
      "image/png": "[encoded data removed]",
      "text/plain": [
       "<Figure size 432x288 with 1 Axes>"
      ]
     },
     "metadata": {
      "needs_background": "light"
     },
     "output_type": "display_data"
    }
   ],
   "source": [
    "# Gera lotes\n",
    "titanic_batches = titanic_lines.repeat(3).batch(128)\n",
    "\n",
    "# Mostra tamanho dos lotes gerados\n",
    "plot_batch_sizes(titanic_batches)"
   ]
  },
  {
   "cell_type": "markdown",
   "metadata": {},
   "source": [
    "Esse conjunto de dados Titanic possui 630 exemplos (linhas de dados). Assim, com lotes de 128 exemplos cada, tem-se no máximo 4,9 lotes possíveis com dados diferentes e no caso foram gerados 14 lotes."
   ]
  },
  {
   "cell_type": "markdown",
   "metadata": {},
   "source": [
    "Se for necessário uma separação de época clara, deve-se colocar o método `batch` antes do método `repeat`, como mostrado a seguir."
   ]
  },
  {
   "cell_type": "code",
   "execution_count": 81,
   "metadata": {},
   "outputs": [
    {
     "data": {
      "image/png": "[encoded data removed]",
      "text/plain": [
       "<Figure size 432x288 with 1 Axes>"
      ]
     },
     "metadata": {
      "needs_background": "light"
     },
     "output_type": "display_data"
    }
   ],
   "source": [
    "# Gera lote de dados\n",
    "titanic_batches = titanic_lines.batch(128).repeat(3)\n",
    "\n",
    "# Mostra tamanho dos lotes gerados\n",
    "plot_batch_sizes(titanic_batches)"
   ]
  },
  {
   "cell_type": "markdown",
   "metadata": {},
   "source": [
    "Nesse caso, observa-se que são gerados 4,9 lotes sem repetição dos dados 3 vezes."
   ]
  },
  {
   "cell_type": "markdown",
   "metadata": {
    "colab_type": "text",
    "id": "_Bci79WCoSHN"
   },
   "source": [
    "### 5.4 Embaralhamento aleatório dos dados\n",
    "\n",
    "O método `shuffle(n)` mantém \"n\" exemplos em um \"buffer\" e seleciona os exemplos de forma aleatória entre os elementos desse \"buffer\". \n",
    "\n",
    "Observa-se que quanto maior o tamanho do \"buffer\" melhor a seleção aleatória, mas pode ocupar muita memória e um grande tempo para ser preenchido.\n",
    "\n",
    "O código abaixo carrega os dados na forma de linhas de texto do conjunto de dados \"Titanic\". \n",
    "\n",
    "Para facilitar a visualização de como funciona esse método, é adicionado um índice aos exemplos do `Dataset`.. "
   ]
  },
  {
   "cell_type": "code",
   "execution_count": 83,
   "metadata": {
    "colab": {},
    "colab_type": "code",
    "id": "Io4iJH1toSHI"
   },
   "outputs": [
    {
     "data": {
      "text/plain": [
       "(TensorSpec(shape=(None,), dtype=tf.int64, name=None),\n",
       " TensorSpec(shape=(None,), dtype=tf.string, name=None))"
      ]
     },
     "execution_count": 83,
     "metadata": {},
     "output_type": "execute_result"
    }
   ],
   "source": [
    "# Carrega arquivo de dados \n",
    "titanic_file = tf.keras.utils.get_file(\"train.csv\", \"https://storage.googleapis.com/tf-datasets/titanic/train.csv\")\n",
    "\n",
    "# Cria dataset com as linhas na forma de texto\n",
    "lines_ds = tf.data.TextLineDataset(titanic_file)\n",
    "\n",
    "# Cria dataset com índices \n",
    "indice_ds = tf.data.experimental.Counter()\n",
    "\n",
    "# Cria dataset com índices e as linhas de texto\n",
    "dataset = tf.data.Dataset.zip((indice_ds, lines_ds))\n",
    "\n",
    "# Embaralha dados e cria lote de 10 exemplos \n",
    "dataset = dataset.shuffle(buffer_size=100)\n",
    "dataset = dataset.batch(10)\n",
    "dataset.element_spec"
   ]
  },
  {
   "cell_type": "markdown",
   "metadata": {
    "colab_type": "text",
    "id": "T6tNYRcsoSHH"
   },
   "source": [
    "Na medida em que `buffer_size` é de 100 linhas, e o tamanho do lote é 10, o primeiro lote contém elementos de índices no máximo até 110.\n",
    "\n",
    "O código abaixo mostra os exemplos (linhas do Datset) selecionados no lote."
   ]
  },
  {
   "cell_type": "code",
   "execution_count": 85,
   "metadata": {
    "colab": {},
    "colab_type": "code",
    "id": "ayM3FFFAoSHC"
   },
   "outputs": [
    {
     "name": "stdout",
     "output_type": "stream",
     "text": [
      "Índices das linhas do conjunto de dados selecionadas no lote: [12 47 96  4 55 43 80 25 88 89]\n",
      "\n",
      "Linhas:\n",
      " tf.Tensor(\n",
      "[b'0,female,14.0,0,0,7.8542,Third,unknown,Southampton,y'\n",
      " b'0,male,11.0,5,2,46.9,Third,unknown,Southampton,n'\n",
      " b'0,male,32.5,1,0,30.0708,Second,unknown,Cherbourg,n'\n",
      " b'1,female,35.0,1,0,53.1,First,C,Southampton,n'\n",
      " b'0,male,26.0,2,0,8.6625,Third,unknown,Southampton,n'\n",
      " b'0,male,65.0,0,1,61.9792,First,B,Cherbourg,n'\n",
      " b'0,male,28.0,0,0,7.8958,Third,unknown,Southampton,y'\n",
      " b'1,female,28.0,1,0,146.5208,First,B,Cherbourg,n'\n",
      " b'0,female,14.5,1,0,14.4542,Third,unknown,Cherbourg,n'\n",
      " b'0,male,22.0,0,0,8.05,Third,unknown,Southampton,y'], shape=(10,), dtype=string)\n"
     ]
    }
   ],
   "source": [
    "# Instancia o Dataset com um gerador e executa o mesmo \n",
    "n, line_batch = next(iter(dataset))\n",
    "\n",
    "# Mostra resultados\n",
    "print('Índices das linhas do conjunto de dados selecionadas no lote:', n.numpy())\n",
    "print('\\nLinhas:\\n', line_batch)"
   ]
  },
  {
   "cell_type": "markdown",
   "metadata": {
    "colab_type": "text",
    "id": "ianlfbrxbDco"
   },
   "source": [
    "## 6. Transformação dos dados\n",
    "\n",
    "Existem diversos métodos para transformar (processar) os dados de um objeto `Dataset`. Os métodos a serem utilizados dependem do tipo de dados. \n",
    "\n",
    "Para dados estruturados, do tipo encontrado em arquivos tipo CSV, já vimos como utilizar o Pandas e também existe o módulo `tf.feature_column` do TensorFlow.\n",
    "\n",
    "O método `map(f)` pode ser usado para qualquer tipo de dado. Esse método transforma os dados de um Dataset aplicando a função `f` em cada elemento do Dataset.\n",
    "\n",
    "A função `f`,  aplica pelo método `map(f)`, deve receber um tensor que representa um único elemento do Dataset e retorna outro tensor que representa também um único elemento. Essa função deve usar operações do TensorFlow para realizar as transformações desejadas."
   ]
  },
  {
   "cell_type": "markdown",
   "metadata": {
    "colab_type": "text",
    "id": "UXw1IZVdbDcq"
   },
   "source": [
    "### 6.1 Decodificação e redimensionamento de imagens\n",
    "\n",
    "Quando se usa imagens reais para treinar uma RNA, geralmente é necessário redimensionar as imagens e normalizar os seus pixels.\n",
    "\n",
    "Como exemplo de transformação de imagens vamos usar o conjunto de dados \"flowers\" usando o método `map`. \n",
    "\n",
    "O código abaixo constrói esse conjunto de dados usando a lista dos arquivos no Dataset `list_ds`, como já visto."
   ]
  },
  {
   "cell_type": "code",
   "execution_count": 86,
   "metadata": {
    "colab": {},
    "colab_type": "code",
    "id": "rMGlj8V-u-NH"
   },
   "outputs": [],
   "source": [
    "list_ds = tf.data.Dataset.list_files(str(flowers_root/'*/*'))"
   ]
  },
  {
   "cell_type": "markdown",
   "metadata": {
    "colab_type": "text",
    "id": "GyhZLB8N5jBm"
   },
   "source": [
    "- Observe que o caminho `flowres_root` já foi definido no item 4.6.\n",
    "\n",
    "Para transformar os dados, a primeira etapa é criar uma função que manipula os elementos do Dataset. \n",
    "\n",
    "Para exemplificar, é criada a função `transform_image`, que recebe o caminho com o nome do arquivo da imagem e realiza as seguintes operações:\n",
    "\n",
    "- Cria as classes das flores a partir do nome dos subdiretórios onde estão os arquivo com as imagens;\n",
    "- Carrega o arquivo da imagem em memória;\n",
    "- Decodifica os dados recriando a imagem original;\n",
    "- Converte a imagem para números do tipo float32;\n",
    "- Redimension a imagem;\n",
    "- Retorna a imagem e a classe."
   ]
  },
  {
   "cell_type": "code",
   "execution_count": 87,
   "metadata": {
    "colab": {},
    "colab_type": "code",
    "id": "fZObC0debDcr"
   },
   "outputs": [],
   "source": [
    "# Define função transform_image\n",
    "def transform_image(filename):\n",
    "    # Cria a classe dos dados\n",
    "    label = tf.strings.split(filename, '\\\\')[-2]\n",
    "    \n",
    "    # Carrega dados do arquivo em formato base 64 \n",
    "    image = tf.io.read_file(filename)\n",
    "    \n",
    "    # Decodifica imagem para formato jpg\n",
    "    image = tf.image.decode_jpeg(image)\n",
    "    \n",
    "    # Converte imagem para tipo float32\n",
    "    image = tf.image.convert_image_dtype(image, tf.float32)\n",
    "    \n",
    "    # Redimensiona imagem\n",
    "    image = tf.image.resize(image, [128, 128])\n",
    "    \n",
    "    # Normaliza os pixles\n",
    "    image = image/255.\n",
    "    \n",
    "    return image, label"
   ]
  },
  {
   "cell_type": "markdown",
   "metadata": {
    "colab_type": "text",
    "id": "e0dVJlCA5qHA"
   },
   "source": [
    "A função `transform_imagem` é testada na célula abaixo."
   ]
  },
  {
   "cell_type": "code",
   "execution_count": 89,
   "metadata": {
    "colab": {},
    "colab_type": "code",
    "id": "y8xuN_HBzGup"
   },
   "outputs": [
    {
     "data": {
      "image/png": "[encoded data removed]",
      "text/plain": [
       "<Figure size 432x288 with 1 Axes>"
      ]
     },
     "metadata": {
      "needs_background": "light"
     },
     "output_type": "display_data"
    }
   ],
   "source": [
    "# Define caminho e nome da imagem pegando primeiro elemento do Dataset list_ds\n",
    "file_path = next(iter(list_ds))\n",
    "\n",
    "# Processa imagem com a função transform_imagem\n",
    "image, label = transform_image(file_path)\n",
    "\n",
    "# Define função para mostrar imagem\n",
    "def show(image, label):\n",
    "    plt.figure()\n",
    "    plt.imshow(image*255)\n",
    "    plt.title(label.numpy().decode('utf-8'))\n",
    "\n",
    "# Mostra imagem usando a função show\n",
    "show(image, label)"
   ]
  },
  {
   "cell_type": "markdown",
   "metadata": {
    "colab_type": "text",
    "id": "d3P8N-S55vDu"
   },
   "source": [
    "Usando a função `transform_image`, aplicada com o método `map()`, cria-se um novo Dataset com as imagens transformadas prontas para serem usadas pela RNA. Essa operação é realizada no código abaixo. "
   ]
  },
  {
   "cell_type": "code",
   "execution_count": 90,
   "metadata": {
    "colab": {},
    "colab_type": "code",
    "id": "SzO8LI_H5Sk_"
   },
   "outputs": [
    {
     "data": {
      "image/png": "[encoded data removed]",
      "text/plain": [
       "<Figure size 432x288 with 1 Axes>"
      ]
     },
     "metadata": {
      "needs_background": "light"
     },
     "output_type": "display_data"
    },
    {
     "data": {
      "image/png": "[encoded data removed]",
      "text/plain": [
       "<Figure size 432x288 with 1 Axes>"
      ]
     },
     "metadata": {
      "needs_background": "light"
     },
     "output_type": "display_data"
    }
   ],
   "source": [
    "# Transforma imagens com função parse_images\n",
    "images_ds = list_ds.map(transform_image)\n",
    "\n",
    "# Apresenta os dois primeiros exemplos\n",
    "for imagei, labeli in images_ds.take(2):\n",
    "    show(imagei, labeli)"
   ]
  },
  {
   "cell_type": "markdown",
   "metadata": {
    "colab_type": "text",
    "id": "3Ff7IqB9bDcs"
   },
   "source": [
    "### 6.2 Aplicação de funções arbritárias\n",
    "\n",
    "Por motivos de desempenho, é melhor usar as operações do TensorFlow para pré-processar os dados sempre que possível. No entanto, às vezes é necessário usar bibliotecas Python externas para transformar os dados. \n",
    "\n",
    "A função `tf.py_function()` aplica uma função qualquer para transformar os dados de um Dataset usando o método `map`.\n",
    "\n",
    "Por exemplo, se for desejado aplicar uma rotação aleatória em uma imagem usando a função `scipy.ndimage.rotate` da biblioteca ScikitLearn no conjunto de dados \"flowers\", tem-se:"
   ]
  },
  {
   "cell_type": "code",
   "execution_count": 91,
   "metadata": {
    "colab": {},
    "colab_type": "code",
    "id": "tBUmbERt7Czz"
   },
   "outputs": [],
   "source": [
    "# Importa classe de funções para transformar imagens\n",
    "import scipy.ndimage as ndimage\n",
    "\n",
    "# Define função para rotacionar imagem  \n",
    "def random_rotate_image(image):\n",
    "    image = ndimage.rotate(image, np.random.uniform(-30, 30), reshape=False)\n",
    "    return image"
   ]
  },
  {
   "cell_type": "markdown",
   "metadata": {},
   "source": [
    "Teste da função `random_rotate_image()`. "
   ]
  },
  {
   "cell_type": "code",
   "execution_count": 92,
   "metadata": {
    "colab": {},
    "colab_type": "code",
    "id": "_wEyL7bS9S6t"
   },
   "outputs": [
    {
     "name": "stderr",
     "output_type": "stream",
     "text": [
      "Clipping input data to the valid range for imshow with RGB data ([0..1] for floats or [0..255] for integers).\n"
     ]
    },
    {
     "data": {
      "image/png": "[encoded data removed]",
      "text/plain": [
       "<Figure size 432x288 with 1 Axes>"
      ]
     },
     "metadata": {
      "needs_background": "light"
     },
     "output_type": "display_data"
    }
   ],
   "source": [
    "# carrega uma exemplos do Dataset\n",
    "image, label = next(iter(images_ds))\n",
    "\n",
    "# Testa função para rotacionar imagem\n",
    "image = random_rotate_image(image)\n",
    "show(image, label)"
   ]
  },
  {
   "cell_type": "markdown",
   "metadata": {
    "colab_type": "text",
    "id": "KxVx7z-ABNyq"
   },
   "source": [
    "A função `random_rotate_image()` não pode ser usada diretamente para transformar lotes durante o treinamento de uma RNA. \n",
    "\n",
    "Para usar a função `tf.py_function` com o método `Dataset.map`, é necessário definir a dimensão e o tipo de dado. Mas para isso deve-se criar uma nova função que chama a função `random_rotate_image(image)`, da seguinte forma:"
   ]
  },
  {
   "cell_type": "code",
   "execution_count": 93,
   "metadata": {
    "colab": {},
    "colab_type": "code",
    "id": "Cn2nIu92BMp0"
   },
   "outputs": [],
   "source": [
    "# Define função que chama função para rotacionar imagem \n",
    "def tf_random_rotate_image(image, label):\n",
    "    im_shape = image.shape\n",
    "    [image,] = tf.py_function(random_rotate_image, [image], [tf.float32])\n",
    "    image.set_shape(im_shape)\n",
    "    return image, label"
   ]
  },
  {
   "cell_type": "markdown",
   "metadata": {},
   "source": [
    "Para aplicar essa transformação nos exemplos do Dataset faz-se:"
   ]
  },
  {
   "cell_type": "code",
   "execution_count": 94,
   "metadata": {
    "colab": {},
    "colab_type": "code",
    "id": "bWPqKbTnbDct"
   },
   "outputs": [
    {
     "name": "stderr",
     "output_type": "stream",
     "text": [
      "Clipping input data to the valid range for imshow with RGB data ([0..1] for floats or [0..255] for integers).\n",
      "Clipping input data to the valid range for imshow with RGB data ([0..1] for floats or [0..255] for integers).\n"
     ]
    },
    {
     "data": {
      "image/png": "[encoded data removed]",
      "text/plain": [
       "<Figure size 432x288 with 1 Axes>"
      ]
     },
     "metadata": {
      "needs_background": "light"
     },
     "output_type": "display_data"
    },
    {
     "data": {
      "image/png": "[encoded data removed]",
      "text/plain": [
       "<Figure size 432x288 with 1 Axes>"
      ]
     },
     "metadata": {
      "needs_background": "light"
     },
     "output_type": "display_data"
    }
   ],
   "source": [
    "# Cria Dataset com a transformação de rotação desejada\n",
    "rot_ds = images_ds.map(tf_random_rotate_image)\n",
    "\n",
    "# Mostra 2 exemplos do novo Dataset\n",
    "for image, label in rot_ds.take(2):\n",
    "    show(image, label)"
   ]
  },
  {
   "cell_type": "markdown",
   "metadata": {
    "colab_type": "text",
    "id": "ry1n0UBeczit"
   },
   "source": [
    "### 6.3 Janelamento de séries temporais\n",
    "\n",
    "Dados de séries temporais devem manter a sequência no tempo inalterada, assim, eles não devem ser embaralhados antes de gerar os lotes de exemplos de treinamento.\n",
    "\n",
    "Um exemplo de treinamento de uma série temporal para ser usado por uma rede neural, consiste de algumas amostras da sequência adquiridas em um determinado intervalo de tempo. \n",
    "\n",
    "Observa-se que uma série temporal pode ser analisada com uma rede neural com camadas recorrentes ou com uma rede neural com camadas convolucionais de 1D.\n",
    "\n",
    "Vamos usar uma série temporal simples como exemplo de criar um `Dataset`."
   ]
  },
  {
   "cell_type": "code",
   "execution_count": 95,
   "metadata": {
    "colab": {},
    "colab_type": "code",
    "id": "kTQgo49skjuY"
   },
   "outputs": [],
   "source": [
    "# Cria uma série temporal simples\n",
    "serie_ds = tf.data.Dataset.range(100000)"
   ]
  },
  {
   "cell_type": "markdown",
   "metadata": {
    "colab_type": "text",
    "id": "o6GLGhxgpazJ"
   },
   "source": [
    "#### Janelas de dados com uso do método `batch`\n",
    "\n",
    "A abordagem mais simples para criar exemplos de treinamento de uma série temporal é agrupar os dados em lotes para isso, usa-se o método `batch` escolhendo o número de amostras da série em cada exemplo de treinamento. "
   ]
  },
  {
   "cell_type": "code",
   "execution_count": 97,
   "metadata": {
    "colab": {},
    "colab_type": "code",
    "id": "pSs9XqwQpvIN"
   },
   "outputs": [
    {
     "name": "stdout",
     "output_type": "stream",
     "text": [
      "[0 1 2 3 4 5 6 7 8 9]\n",
      "[10 11 12 13 14 15 16 17 18 19]\n",
      "[20 21 22 23 24 25 26 27 28 29]\n",
      "[30 31 32 33 34 35 36 37 38 39]\n",
      "[40 41 42 43 44 45 46 47 48 49]\n"
     ]
    }
   ],
   "source": [
    "# Cria Datset com lotes de 10 elementos\n",
    "batches_ds = serie_ds.batch(10, drop_remainder=True)\n",
    "\n",
    "# Mostra 5 primerios lotes \n",
    "for batch in batches_ds.take(5):\n",
    "    print(batch.numpy())"
   ]
  },
  {
   "cell_type": "markdown",
   "metadata": {},
   "source": [
    "Ressalta-se que essa forma de organizar dados de séries temporais não é muito útil porque em geral deseja-se treinar uma RNA para fazer previsões. Assim, os dados de treinamento devem possuir entradas e saídas. "
   ]
  },
  {
   "cell_type": "markdown",
   "metadata": {
    "colab_type": "text",
    "id": "mgb2qikEtk5W"
   },
   "source": [
    "#### Janela de dados para realizar previsão de alguns passos no futuro\n",
    "\n",
    "Em geral deseja-se realizar previsões da série para alguns instantes de tempo no futuro, assim, a saída desejada deve conter amostras da série alguns instantes de tempo no futuro em relação às amostras contidas na entrada correspondente.\n",
    "\n",
    "Para treinar uma RNA para realizar previsões $k$ instantes de tempo no futuro, baseado em uma série temporal, um exemplo de treinamento deve ser composto por:\n",
    "\n",
    "- **Entrada**: conjunto de amostras da série no intervalo de tempo de $(n-m)T$ até $nT$, onde $m$ é o comprimento da janela no passado, $T$ é o intervalo de tempo entre cada amostra e $nT$ é o tempo \"presente\".\n",
    "- **Saída desejada**: elementos da série nos instantes de tempo $(n+1)T$ até $(n+k)T$, onde $k$ é o números de instantes no futuro para os quais deseja-se realizar previsões. \n",
    "\n",
    "Na célula abaixo é apresentado como criar esse tipo de exemplo de treinamento. Define-se uma função que recebe como entrada lotes do Dataset `series_ds`, criados definindo o tamanho da janela desejada, $m$, e quantos passos no futuro deseja-se prever."
   ]
  },
  {
   "cell_type": "code",
   "execution_count": 99,
   "metadata": {
    "colab": {},
    "colab_type": "code",
    "id": "11dF3wyFjk2J"
   },
   "outputs": [
    {
     "name": "stdout",
     "output_type": "stream",
     "text": [
      "[0 1 2 3 4 5 6 7]  =>  [8 9]\n",
      "[ 8  9 10 11 12 13 14 15]  =>  [16 17]\n",
      "[16 17 18 19 20 21 22 23]  =>  [24 25]\n"
     ]
    }
   ],
   "source": [
    "# Define comprimento da janela e quantas previsões deseja-se fazer no futuro\n",
    "feature_length = 8 # m da fórmula acima\n",
    "label_length = 2 # k da fórmula acima\n",
    "\n",
    "# Cria Dataset com lotes de tamanho \"m\" (entradas)\n",
    "features_ds = serie_ds.batch(feature_length, drop_remainder=True)\n",
    "\n",
    "# Cria Dataset com o número de saídas futuras desejadas (\"k\")\n",
    "labels_ds = serie_ds.batch(feature_length).skip(1).map(lambda labels: labels[:-(feature_length-label_length)])\n",
    "\n",
    "# Cria Daset final unindo os dois Dataset criados com as entradas e as saídas desejadas\n",
    "predict_k_steps_ds = tf.data.Dataset.zip((features_ds, labels_ds))\n",
    "\n",
    "# Mostra 3 exemplos de treinamento\n",
    "for features, label in predict_k_steps_ds.take(3):\n",
    "    print(features.numpy(), \" => \", label.numpy())"
   ]
  },
  {
   "cell_type": "markdown",
   "metadata": {},
   "source": [
    "- O método `skip` aqui define o número de `feature_lengths` em que a janela é deslocada para cada exemplo."
   ]
  },
  {
   "cell_type": "markdown",
   "metadata": {
    "colab_type": "text",
    "id": "adew3o2mCURC"
   },
   "source": [
    "#### Janela de dados com uso do método `window`\n",
    "\n",
    "A forma anterior usando o método `batch` funciona, mas o método `window` é feito especialmente para gerar janelas de dados. \n",
    "\n",
    "O método `window` permite um controle melhor de como criar as janelas de dados. Porém, tem que se tomar cuidado porque ele retorna um `Datset` de `Datasets`."
   ]
  },
  {
   "cell_type": "code",
   "execution_count": 100,
   "metadata": {
    "colab": {},
    "colab_type": "code",
    "id": "ZEI2W_EBw2OX"
   },
   "outputs": [
    {
     "name": "stdout",
     "output_type": "stream",
     "text": [
      "<_VariantDataset shapes: (), types: tf.int64>\n",
      "<_VariantDataset shapes: (), types: tf.int64>\n",
      "<_VariantDataset shapes: (), types: tf.int64>\n",
      "<_VariantDataset shapes: (), types: tf.int64>\n",
      "<_VariantDataset shapes: (), types: tf.int64>\n",
      "<_VariantDataset shapes: (), types: tf.int64>\n"
     ]
    }
   ],
   "source": [
    "# Define tamanho da janela de dados\n",
    "window_size = 5\n",
    "\n",
    "# Define passo de deslocamento da janela \n",
    "d = 1\n",
    "\n",
    "# Cria objeto para gerar as janelas \n",
    "windows_ds = serie_ds.window(window_size, shift=d)\n",
    "for sub_ds in windows_ds.take(6):\n",
    "    print(sub_ds)"
   ]
  },
  {
   "cell_type": "markdown",
   "metadata": {
    "colab_type": "text",
    "id": "r82hWdk4x-46"
   },
   "source": [
    "Observe que foram criados 6 Datasets de dados e não é isso que queremos. \n",
    "\n",
    "O método `flat_map` pode ser usado para transformar um Dataset de Datasets em um único Dataset. Porém ao fazer isso todos os elementos do Dataset são unidos em um único elemento. \n",
    "\n",
    "Para separar cada exemplo de treinamento pode-se usar o método `batch` nesse novo conjunto de dados. Essas operações podem ser realizadas de acordo com o código da célula a seguir."
   ]
  },
  {
   "cell_type": "code",
   "execution_count": 101,
   "metadata": {
    "colab": {},
    "colab_type": "code",
    "id": "5j_y84rmyVQa"
   },
   "outputs": [
    {
     "name": "stdout",
     "output_type": "stream",
     "text": [
      "[0 1 2 3 4]\n",
      "[1 2 3 4 5]\n",
      "[2 3 4 5 6]\n",
      "[3 4 5 6 7]\n",
      "[4 5 6 7 8]\n",
      "[5 6 7 8 9]\n",
      "[ 6  7  8  9 10]\n",
      "[ 7  8  9 10 11]\n",
      "[ 8  9 10 11 12]\n",
      "[ 9 10 11 12 13]\n"
     ]
    }
   ],
   "source": [
    "# Define função para separar os exemplos de treinamento gerados\n",
    "def sub_to_batch(sub):\n",
    "    return sub.batch(window_size, drop_remainder=True)\n",
    "\n",
    "# Une todos os elementos do Datset e gera exemplos de treinamento com o método window e a função sub_to_batch\n",
    "for example in windows_ds.flat_map(sub_to_batch).take(10):\n",
    "    print(example.numpy())"
   ]
  },
  {
   "cell_type": "markdown",
   "metadata": {
    "colab_type": "text",
    "id": "hVugrmND3Grp"
   },
   "source": [
    "Além do argumento `shift`, o método `window` possui o argumento `stride`. Para entender o que fazem esses argumentos vamos criar exemplos de treinamento com alguns valores de `shift` e `stride`.\n",
    "\n",
    "A função `make_window_dataset` agrupa todas as operações para criar lotes de janelas de uma série temporal."
   ]
  },
  {
   "cell_type": "code",
   "execution_count": 103,
   "metadata": {
    "colab": {},
    "colab_type": "code",
    "id": "LdFRv_0D4FqW"
   },
   "outputs": [],
   "source": [
    "# Função para criar lotes de janelas de uma série temporal\n",
    "def make_window_dataset(ds, window_size=5, shift=1, stride=1):\n",
    "    windows = ds.window(window_size, shift=shift, stride=stride)\n",
    "\n",
    "    def sub_to_batch(sub):\n",
    "        return sub.batch(window_size, drop_remainder=True)\n",
    "\n",
    "    windows = windows.flat_map(sub_to_batch)\n",
    "    return windows"
   ]
  },
  {
   "cell_type": "code",
   "execution_count": 108,
   "metadata": {
    "colab": {},
    "colab_type": "code",
    "id": "-iVxcVfEdf5b"
   },
   "outputs": [
    {
     "name": "stdout",
     "output_type": "stream",
     "text": [
      "[0 1 2 3 4]\n",
      "[1 2 3 4 5]\n",
      "[2 3 4 5 6]\n",
      "[3 4 5 6 7]\n",
      "[4 5 6 7 8]\n",
      "[5 6 7 8 9]\n",
      "[ 6  7  8  9 10]\n",
      "[ 7  8  9 10 11]\n",
      "[ 8  9 10 11 12]\n",
      "[ 9 10 11 12 13]\n"
     ]
    }
   ],
   "source": [
    "# Instancia objeto Dataset com função make_window_dataset\n",
    "ds = make_window_dataset(serie_ds, window_size=5, shift=1, stride=1)\n",
    "\n",
    "# Gera exemplos de treinamento\n",
    "for example in ds.take(10):\n",
    "    print(example.numpy())"
   ]
  },
  {
   "cell_type": "markdown",
   "metadata": {
    "colab_type": "text",
    "id": "fMGMTPQ4w8pr"
   },
   "source": [
    "Para finalizar, falta criar as saídas dos exemplos de treinamento. Para isso podemos criar uma função que separa as saídas das entradas dos exemplos de treinamento criados com a função `make_window_dataset`. "
   ]
  },
  {
   "cell_type": "code",
   "execution_count": 109,
   "metadata": {
    "colab": {},
    "colab_type": "code",
    "id": "F0fPfZkZw6j_"
   },
   "outputs": [
    {
     "name": "stdout",
     "output_type": "stream",
     "text": [
      "[0 1 2 3 4] => [5]\n",
      "[1 2 3 4 5] => [6]\n",
      "[2 3 4 5 6] => [7]\n"
     ]
    }
   ],
   "source": [
    "# Define tamanho da janela (m) e numero de previsões no futuro (k)\n",
    "feature_length = 5 # m da fórmula acima\n",
    "label_length = 1 # k da fórmula acima\n",
    "\n",
    "# Deve-se inicialmente criar janelas com a quantidade de amostras iguais ao m+k\n",
    "total_length = feature_length + label_length\n",
    "\n",
    "# Cria exemplos de treinamento que contém as entradas e as saídas\n",
    "ds = make_window_dataset(serie_ds, window_size=total_length, shift=1, stride=1)\n",
    "\n",
    "# Define função para separar entradas das saídas\n",
    "def labels(ds):\n",
    "    saida = ds[-label_length:] \n",
    "    entrada = ds[:feature_length]\n",
    "    return entrada, saida\n",
    "\n",
    "# Executa função para separar entradas das saídas\n",
    "dense_labels_ds = ds.map(labels)\n",
    "\n",
    "# Mostra 3 exemplos de treinamento\n",
    "for inputs, labels in dense_labels_ds.take(3):\n",
    "    print(inputs.numpy(), \"=>\", labels.numpy())"
   ]
  },
  {
   "cell_type": "markdown",
   "metadata": {
    "colab_type": "text",
    "id": "vyi_-ft0kvy4"
   },
   "source": [
    "### 6.5 Conjunto de dados com classes desbalanceadas\n",
    "\n",
    "Vimos em uma aula da disciplina \"Ferramentas de Desenvolvimento 1\" um método para treinar uma RNA com um conjunto de dados desbalanceado usando pesos para as classes. \n",
    "\n",
    "Existem outras formar de lidar com esse tipo de dados sem a necessidade de usar pesos para as classes. Essas formas são baseadas em criar lotes de dados com as classes balanceadas $\\to$ o módulo `tf.data` fornece métodos para fazer isso.\n",
    "\n",
    "Para exemplicar essas formas vamos utilizar o conjunto de dados \"The credit card fraud\". Esse conjunto de dados pode ser carregado diretamente do TensorFlow. Uma descrição desses dados pode ser vista em https://www.kaggle.com/mlg-ulb/creditcardfraud.\n",
    "\n",
    "Vamos inicialmente carregar esse conjunto de dados em um DataFrame Pandas para poder visualizá-lo e entender melhor os dados."
   ]
  },
  {
   "cell_type": "code",
   "execution_count": 110,
   "metadata": {},
   "outputs": [
    {
     "data": {
      "text/html": [
       "<div>\n",
       "<style scoped>\n",
       "    .dataframe tbody tr th:only-of-type {\n",
       "        vertical-align: middle;\n",
       "    }\n",
       "\n",
       "    .dataframe tbody tr th {\n",
       "        vertical-align: top;\n",
       "    }\n",
       "\n",
       "    .dataframe thead th {\n",
       "        text-align: right;\n",
       "    }\n",
       "</style>\n",
       "<table border=\"1\" class=\"dataframe\">\n",
       "  <thead>\n",
       "    <tr style=\"text-align: right;\">\n",
       "      <th></th>\n",
       "      <th>Time</th>\n",
       "      <th>V1</th>\n",
       "      <th>V2</th>\n",
       "      <th>V3</th>\n",
       "      <th>V4</th>\n",
       "      <th>V5</th>\n",
       "      <th>V6</th>\n",
       "      <th>V7</th>\n",
       "      <th>V8</th>\n",
       "      <th>V9</th>\n",
       "      <th>...</th>\n",
       "      <th>V21</th>\n",
       "      <th>V22</th>\n",
       "      <th>V23</th>\n",
       "      <th>V24</th>\n",
       "      <th>V25</th>\n",
       "      <th>V26</th>\n",
       "      <th>V27</th>\n",
       "      <th>V28</th>\n",
       "      <th>Amount</th>\n",
       "      <th>Class</th>\n",
       "    </tr>\n",
       "  </thead>\n",
       "  <tbody>\n",
       "    <tr>\n",
       "      <td>0</td>\n",
       "      <td>0.0</td>\n",
       "      <td>-1.359807</td>\n",
       "      <td>-0.072781</td>\n",
       "      <td>2.536347</td>\n",
       "      <td>1.378155</td>\n",
       "      <td>-0.338321</td>\n",
       "      <td>0.462388</td>\n",
       "      <td>0.239599</td>\n",
       "      <td>0.098698</td>\n",
       "      <td>0.363787</td>\n",
       "      <td>...</td>\n",
       "      <td>-0.018307</td>\n",
       "      <td>0.277838</td>\n",
       "      <td>-0.110474</td>\n",
       "      <td>0.066928</td>\n",
       "      <td>0.128539</td>\n",
       "      <td>-0.189115</td>\n",
       "      <td>0.133558</td>\n",
       "      <td>-0.021053</td>\n",
       "      <td>149.62</td>\n",
       "      <td>0</td>\n",
       "    </tr>\n",
       "    <tr>\n",
       "      <td>1</td>\n",
       "      <td>0.0</td>\n",
       "      <td>1.191857</td>\n",
       "      <td>0.266151</td>\n",
       "      <td>0.166480</td>\n",
       "      <td>0.448154</td>\n",
       "      <td>0.060018</td>\n",
       "      <td>-0.082361</td>\n",
       "      <td>-0.078803</td>\n",
       "      <td>0.085102</td>\n",
       "      <td>-0.255425</td>\n",
       "      <td>...</td>\n",
       "      <td>-0.225775</td>\n",
       "      <td>-0.638672</td>\n",
       "      <td>0.101288</td>\n",
       "      <td>-0.339846</td>\n",
       "      <td>0.167170</td>\n",
       "      <td>0.125895</td>\n",
       "      <td>-0.008983</td>\n",
       "      <td>0.014724</td>\n",
       "      <td>2.69</td>\n",
       "      <td>0</td>\n",
       "    </tr>\n",
       "    <tr>\n",
       "      <td>2</td>\n",
       "      <td>1.0</td>\n",
       "      <td>-1.358354</td>\n",
       "      <td>-1.340163</td>\n",
       "      <td>1.773209</td>\n",
       "      <td>0.379780</td>\n",
       "      <td>-0.503198</td>\n",
       "      <td>1.800499</td>\n",
       "      <td>0.791461</td>\n",
       "      <td>0.247676</td>\n",
       "      <td>-1.514654</td>\n",
       "      <td>...</td>\n",
       "      <td>0.247998</td>\n",
       "      <td>0.771679</td>\n",
       "      <td>0.909412</td>\n",
       "      <td>-0.689281</td>\n",
       "      <td>-0.327642</td>\n",
       "      <td>-0.139097</td>\n",
       "      <td>-0.055353</td>\n",
       "      <td>-0.059752</td>\n",
       "      <td>378.66</td>\n",
       "      <td>0</td>\n",
       "    </tr>\n",
       "    <tr>\n",
       "      <td>3</td>\n",
       "      <td>1.0</td>\n",
       "      <td>-0.966272</td>\n",
       "      <td>-0.185226</td>\n",
       "      <td>1.792993</td>\n",
       "      <td>-0.863291</td>\n",
       "      <td>-0.010309</td>\n",
       "      <td>1.247203</td>\n",
       "      <td>0.237609</td>\n",
       "      <td>0.377436</td>\n",
       "      <td>-1.387024</td>\n",
       "      <td>...</td>\n",
       "      <td>-0.108300</td>\n",
       "      <td>0.005274</td>\n",
       "      <td>-0.190321</td>\n",
       "      <td>-1.175575</td>\n",
       "      <td>0.647376</td>\n",
       "      <td>-0.221929</td>\n",
       "      <td>0.062723</td>\n",
       "      <td>0.061458</td>\n",
       "      <td>123.50</td>\n",
       "      <td>0</td>\n",
       "    </tr>\n",
       "    <tr>\n",
       "      <td>4</td>\n",
       "      <td>2.0</td>\n",
       "      <td>-1.158233</td>\n",
       "      <td>0.877737</td>\n",
       "      <td>1.548718</td>\n",
       "      <td>0.403034</td>\n",
       "      <td>-0.407193</td>\n",
       "      <td>0.095921</td>\n",
       "      <td>0.592941</td>\n",
       "      <td>-0.270533</td>\n",
       "      <td>0.817739</td>\n",
       "      <td>...</td>\n",
       "      <td>-0.009431</td>\n",
       "      <td>0.798278</td>\n",
       "      <td>-0.137458</td>\n",
       "      <td>0.141267</td>\n",
       "      <td>-0.206010</td>\n",
       "      <td>0.502292</td>\n",
       "      <td>0.219422</td>\n",
       "      <td>0.215153</td>\n",
       "      <td>69.99</td>\n",
       "      <td>0</td>\n",
       "    </tr>\n",
       "  </tbody>\n",
       "</table>\n",
       "<p>5 rows × 31 columns</p>\n",
       "</div>"
      ],
      "text/plain": [
       "   Time        V1        V2        V3        V4        V5        V6        V7  \\\n",
       "0   0.0 -1.359807 -0.072781  2.536347  1.378155 -0.338321  0.462388  0.239599   \n",
       "1   0.0  1.191857  0.266151  0.166480  0.448154  0.060018 -0.082361 -0.078803   \n",
       "2   1.0 -1.358354 -1.340163  1.773209  0.379780 -0.503198  1.800499  0.791461   \n",
       "3   1.0 -0.966272 -0.185226  1.792993 -0.863291 -0.010309  1.247203  0.237609   \n",
       "4   2.0 -1.158233  0.877737  1.548718  0.403034 -0.407193  0.095921  0.592941   \n",
       "\n",
       "         V8        V9  ...       V21       V22       V23       V24       V25  \\\n",
       "0  0.098698  0.363787  ... -0.018307  0.277838 -0.110474  0.066928  0.128539   \n",
       "1  0.085102 -0.255425  ... -0.225775 -0.638672  0.101288 -0.339846  0.167170   \n",
       "2  0.247676 -1.514654  ...  0.247998  0.771679  0.909412 -0.689281 -0.327642   \n",
       "3  0.377436 -1.387024  ... -0.108300  0.005274 -0.190321 -1.175575  0.647376   \n",
       "4 -0.270533  0.817739  ... -0.009431  0.798278 -0.137458  0.141267 -0.206010   \n",
       "\n",
       "        V26       V27       V28  Amount  Class  \n",
       "0 -0.189115  0.133558 -0.021053  149.62      0  \n",
       "1  0.125895 -0.008983  0.014724    2.69      0  \n",
       "2 -0.139097 -0.055353 -0.059752  378.66      0  \n",
       "3 -0.221929  0.062723  0.061458  123.50      0  \n",
       "4  0.502292  0.219422  0.215153   69.99      0  \n",
       "\n",
       "[5 rows x 31 columns]"
      ]
     },
     "execution_count": 110,
     "metadata": {},
     "output_type": "execute_result"
    }
   ],
   "source": [
    "df = pd.read_csv('https://storage.googleapis.com/download.tensorflow.org/data/creditcard.csv')\n",
    "df.head()"
   ]
  },
  {
   "cell_type": "code",
   "execution_count": 112,
   "metadata": {},
   "outputs": [
    {
     "name": "stdout",
     "output_type": "stream",
     "text": [
      "Dimensão do cojunto de dados: (284807, 31)\n"
     ]
    }
   ],
   "source": [
    "print('Dimensão do cojunto de dados:', df.shape)"
   ]
  },
  {
   "cell_type": "markdown",
   "metadata": {},
   "source": [
    "Esse conjunto de dados possui 284.807 exemplos, sendo que cada exemplo possui 30 características e uma saída que representa as duas classes: dados sem fraude (classe = 0) e dados com fraude (classe = 1).\n",
    "\n",
    "Vamos calcular as estatísticas básicas de cada coluna (característica) do conjunto de dados."
   ]
  },
  {
   "cell_type": "code",
   "execution_count": 113,
   "metadata": {},
   "outputs": [
    {
     "data": {
      "text/html": [
       "<div>\n",
       "<style scoped>\n",
       "    .dataframe tbody tr th:only-of-type {\n",
       "        vertical-align: middle;\n",
       "    }\n",
       "\n",
       "    .dataframe tbody tr th {\n",
       "        vertical-align: top;\n",
       "    }\n",
       "\n",
       "    .dataframe thead th {\n",
       "        text-align: right;\n",
       "    }\n",
       "</style>\n",
       "<table border=\"1\" class=\"dataframe\">\n",
       "  <thead>\n",
       "    <tr style=\"text-align: right;\">\n",
       "      <th></th>\n",
       "      <th>Time</th>\n",
       "      <th>V1</th>\n",
       "      <th>V2</th>\n",
       "      <th>V3</th>\n",
       "      <th>V4</th>\n",
       "      <th>V5</th>\n",
       "      <th>V6</th>\n",
       "      <th>V7</th>\n",
       "      <th>V8</th>\n",
       "      <th>V9</th>\n",
       "      <th>...</th>\n",
       "      <th>V21</th>\n",
       "      <th>V22</th>\n",
       "      <th>V23</th>\n",
       "      <th>V24</th>\n",
       "      <th>V25</th>\n",
       "      <th>V26</th>\n",
       "      <th>V27</th>\n",
       "      <th>V28</th>\n",
       "      <th>Amount</th>\n",
       "      <th>Class</th>\n",
       "    </tr>\n",
       "  </thead>\n",
       "  <tbody>\n",
       "    <tr>\n",
       "      <td>count</td>\n",
       "      <td>284807.000000</td>\n",
       "      <td>2.848070e+05</td>\n",
       "      <td>2.848070e+05</td>\n",
       "      <td>2.848070e+05</td>\n",
       "      <td>2.848070e+05</td>\n",
       "      <td>2.848070e+05</td>\n",
       "      <td>2.848070e+05</td>\n",
       "      <td>2.848070e+05</td>\n",
       "      <td>2.848070e+05</td>\n",
       "      <td>2.848070e+05</td>\n",
       "      <td>...</td>\n",
       "      <td>2.848070e+05</td>\n",
       "      <td>2.848070e+05</td>\n",
       "      <td>2.848070e+05</td>\n",
       "      <td>2.848070e+05</td>\n",
       "      <td>2.848070e+05</td>\n",
       "      <td>2.848070e+05</td>\n",
       "      <td>2.848070e+05</td>\n",
       "      <td>2.848070e+05</td>\n",
       "      <td>284807.000000</td>\n",
       "      <td>284807.000000</td>\n",
       "    </tr>\n",
       "    <tr>\n",
       "      <td>mean</td>\n",
       "      <td>94813.859575</td>\n",
       "      <td>3.919560e-15</td>\n",
       "      <td>5.688174e-16</td>\n",
       "      <td>-8.769071e-15</td>\n",
       "      <td>2.782312e-15</td>\n",
       "      <td>-1.552563e-15</td>\n",
       "      <td>2.010663e-15</td>\n",
       "      <td>-1.694249e-15</td>\n",
       "      <td>-1.927028e-16</td>\n",
       "      <td>-3.137024e-15</td>\n",
       "      <td>...</td>\n",
       "      <td>1.537294e-16</td>\n",
       "      <td>7.959909e-16</td>\n",
       "      <td>5.367590e-16</td>\n",
       "      <td>4.458112e-15</td>\n",
       "      <td>1.453003e-15</td>\n",
       "      <td>1.699104e-15</td>\n",
       "      <td>-3.660161e-16</td>\n",
       "      <td>-1.206049e-16</td>\n",
       "      <td>88.349619</td>\n",
       "      <td>0.001727</td>\n",
       "    </tr>\n",
       "    <tr>\n",
       "      <td>std</td>\n",
       "      <td>47488.145955</td>\n",
       "      <td>1.958696e+00</td>\n",
       "      <td>1.651309e+00</td>\n",
       "      <td>1.516255e+00</td>\n",
       "      <td>1.415869e+00</td>\n",
       "      <td>1.380247e+00</td>\n",
       "      <td>1.332271e+00</td>\n",
       "      <td>1.237094e+00</td>\n",
       "      <td>1.194353e+00</td>\n",
       "      <td>1.098632e+00</td>\n",
       "      <td>...</td>\n",
       "      <td>7.345240e-01</td>\n",
       "      <td>7.257016e-01</td>\n",
       "      <td>6.244603e-01</td>\n",
       "      <td>6.056471e-01</td>\n",
       "      <td>5.212781e-01</td>\n",
       "      <td>4.822270e-01</td>\n",
       "      <td>4.036325e-01</td>\n",
       "      <td>3.300833e-01</td>\n",
       "      <td>250.120109</td>\n",
       "      <td>0.041527</td>\n",
       "    </tr>\n",
       "    <tr>\n",
       "      <td>min</td>\n",
       "      <td>0.000000</td>\n",
       "      <td>-5.640751e+01</td>\n",
       "      <td>-7.271573e+01</td>\n",
       "      <td>-4.832559e+01</td>\n",
       "      <td>-5.683171e+00</td>\n",
       "      <td>-1.137433e+02</td>\n",
       "      <td>-2.616051e+01</td>\n",
       "      <td>-4.355724e+01</td>\n",
       "      <td>-7.321672e+01</td>\n",
       "      <td>-1.343407e+01</td>\n",
       "      <td>...</td>\n",
       "      <td>-3.483038e+01</td>\n",
       "      <td>-1.093314e+01</td>\n",
       "      <td>-4.480774e+01</td>\n",
       "      <td>-2.836627e+00</td>\n",
       "      <td>-1.029540e+01</td>\n",
       "      <td>-2.604551e+00</td>\n",
       "      <td>-2.256568e+01</td>\n",
       "      <td>-1.543008e+01</td>\n",
       "      <td>0.000000</td>\n",
       "      <td>0.000000</td>\n",
       "    </tr>\n",
       "    <tr>\n",
       "      <td>25%</td>\n",
       "      <td>54201.500000</td>\n",
       "      <td>-9.203734e-01</td>\n",
       "      <td>-5.985499e-01</td>\n",
       "      <td>-8.903648e-01</td>\n",
       "      <td>-8.486401e-01</td>\n",
       "      <td>-6.915971e-01</td>\n",
       "      <td>-7.682956e-01</td>\n",
       "      <td>-5.540759e-01</td>\n",
       "      <td>-2.086297e-01</td>\n",
       "      <td>-6.430976e-01</td>\n",
       "      <td>...</td>\n",
       "      <td>-2.283949e-01</td>\n",
       "      <td>-5.423504e-01</td>\n",
       "      <td>-1.618463e-01</td>\n",
       "      <td>-3.545861e-01</td>\n",
       "      <td>-3.171451e-01</td>\n",
       "      <td>-3.269839e-01</td>\n",
       "      <td>-7.083953e-02</td>\n",
       "      <td>-5.295979e-02</td>\n",
       "      <td>5.600000</td>\n",
       "      <td>0.000000</td>\n",
       "    </tr>\n",
       "    <tr>\n",
       "      <td>50%</td>\n",
       "      <td>84692.000000</td>\n",
       "      <td>1.810880e-02</td>\n",
       "      <td>6.548556e-02</td>\n",
       "      <td>1.798463e-01</td>\n",
       "      <td>-1.984653e-02</td>\n",
       "      <td>-5.433583e-02</td>\n",
       "      <td>-2.741871e-01</td>\n",
       "      <td>4.010308e-02</td>\n",
       "      <td>2.235804e-02</td>\n",
       "      <td>-5.142873e-02</td>\n",
       "      <td>...</td>\n",
       "      <td>-2.945017e-02</td>\n",
       "      <td>6.781943e-03</td>\n",
       "      <td>-1.119293e-02</td>\n",
       "      <td>4.097606e-02</td>\n",
       "      <td>1.659350e-02</td>\n",
       "      <td>-5.213911e-02</td>\n",
       "      <td>1.342146e-03</td>\n",
       "      <td>1.124383e-02</td>\n",
       "      <td>22.000000</td>\n",
       "      <td>0.000000</td>\n",
       "    </tr>\n",
       "    <tr>\n",
       "      <td>75%</td>\n",
       "      <td>139320.500000</td>\n",
       "      <td>1.315642e+00</td>\n",
       "      <td>8.037239e-01</td>\n",
       "      <td>1.027196e+00</td>\n",
       "      <td>7.433413e-01</td>\n",
       "      <td>6.119264e-01</td>\n",
       "      <td>3.985649e-01</td>\n",
       "      <td>5.704361e-01</td>\n",
       "      <td>3.273459e-01</td>\n",
       "      <td>5.971390e-01</td>\n",
       "      <td>...</td>\n",
       "      <td>1.863772e-01</td>\n",
       "      <td>5.285536e-01</td>\n",
       "      <td>1.476421e-01</td>\n",
       "      <td>4.395266e-01</td>\n",
       "      <td>3.507156e-01</td>\n",
       "      <td>2.409522e-01</td>\n",
       "      <td>9.104512e-02</td>\n",
       "      <td>7.827995e-02</td>\n",
       "      <td>77.165000</td>\n",
       "      <td>0.000000</td>\n",
       "    </tr>\n",
       "    <tr>\n",
       "      <td>max</td>\n",
       "      <td>172792.000000</td>\n",
       "      <td>2.454930e+00</td>\n",
       "      <td>2.205773e+01</td>\n",
       "      <td>9.382558e+00</td>\n",
       "      <td>1.687534e+01</td>\n",
       "      <td>3.480167e+01</td>\n",
       "      <td>7.330163e+01</td>\n",
       "      <td>1.205895e+02</td>\n",
       "      <td>2.000721e+01</td>\n",
       "      <td>1.559499e+01</td>\n",
       "      <td>...</td>\n",
       "      <td>2.720284e+01</td>\n",
       "      <td>1.050309e+01</td>\n",
       "      <td>2.252841e+01</td>\n",
       "      <td>4.584549e+00</td>\n",
       "      <td>7.519589e+00</td>\n",
       "      <td>3.517346e+00</td>\n",
       "      <td>3.161220e+01</td>\n",
       "      <td>3.384781e+01</td>\n",
       "      <td>25691.160000</td>\n",
       "      <td>1.000000</td>\n",
       "    </tr>\n",
       "  </tbody>\n",
       "</table>\n",
       "<p>8 rows × 31 columns</p>\n",
       "</div>"
      ],
      "text/plain": [
       "                Time            V1            V2            V3            V4  \\\n",
       "count  284807.000000  2.848070e+05  2.848070e+05  2.848070e+05  2.848070e+05   \n",
       "mean    94813.859575  3.919560e-15  5.688174e-16 -8.769071e-15  2.782312e-15   \n",
       "std     47488.145955  1.958696e+00  1.651309e+00  1.516255e+00  1.415869e+00   \n",
       "min         0.000000 -5.640751e+01 -7.271573e+01 -4.832559e+01 -5.683171e+00   \n",
       "25%     54201.500000 -9.203734e-01 -5.985499e-01 -8.903648e-01 -8.486401e-01   \n",
       "50%     84692.000000  1.810880e-02  6.548556e-02  1.798463e-01 -1.984653e-02   \n",
       "75%    139320.500000  1.315642e+00  8.037239e-01  1.027196e+00  7.433413e-01   \n",
       "max    172792.000000  2.454930e+00  2.205773e+01  9.382558e+00  1.687534e+01   \n",
       "\n",
       "                 V5            V6            V7            V8            V9  \\\n",
       "count  2.848070e+05  2.848070e+05  2.848070e+05  2.848070e+05  2.848070e+05   \n",
       "mean  -1.552563e-15  2.010663e-15 -1.694249e-15 -1.927028e-16 -3.137024e-15   \n",
       "std    1.380247e+00  1.332271e+00  1.237094e+00  1.194353e+00  1.098632e+00   \n",
       "min   -1.137433e+02 -2.616051e+01 -4.355724e+01 -7.321672e+01 -1.343407e+01   \n",
       "25%   -6.915971e-01 -7.682956e-01 -5.540759e-01 -2.086297e-01 -6.430976e-01   \n",
       "50%   -5.433583e-02 -2.741871e-01  4.010308e-02  2.235804e-02 -5.142873e-02   \n",
       "75%    6.119264e-01  3.985649e-01  5.704361e-01  3.273459e-01  5.971390e-01   \n",
       "max    3.480167e+01  7.330163e+01  1.205895e+02  2.000721e+01  1.559499e+01   \n",
       "\n",
       "       ...           V21           V22           V23           V24  \\\n",
       "count  ...  2.848070e+05  2.848070e+05  2.848070e+05  2.848070e+05   \n",
       "mean   ...  1.537294e-16  7.959909e-16  5.367590e-16  4.458112e-15   \n",
       "std    ...  7.345240e-01  7.257016e-01  6.244603e-01  6.056471e-01   \n",
       "min    ... -3.483038e+01 -1.093314e+01 -4.480774e+01 -2.836627e+00   \n",
       "25%    ... -2.283949e-01 -5.423504e-01 -1.618463e-01 -3.545861e-01   \n",
       "50%    ... -2.945017e-02  6.781943e-03 -1.119293e-02  4.097606e-02   \n",
       "75%    ...  1.863772e-01  5.285536e-01  1.476421e-01  4.395266e-01   \n",
       "max    ...  2.720284e+01  1.050309e+01  2.252841e+01  4.584549e+00   \n",
       "\n",
       "                V25           V26           V27           V28         Amount  \\\n",
       "count  2.848070e+05  2.848070e+05  2.848070e+05  2.848070e+05  284807.000000   \n",
       "mean   1.453003e-15  1.699104e-15 -3.660161e-16 -1.206049e-16      88.349619   \n",
       "std    5.212781e-01  4.822270e-01  4.036325e-01  3.300833e-01     250.120109   \n",
       "min   -1.029540e+01 -2.604551e+00 -2.256568e+01 -1.543008e+01       0.000000   \n",
       "25%   -3.171451e-01 -3.269839e-01 -7.083953e-02 -5.295979e-02       5.600000   \n",
       "50%    1.659350e-02 -5.213911e-02  1.342146e-03  1.124383e-02      22.000000   \n",
       "75%    3.507156e-01  2.409522e-01  9.104512e-02  7.827995e-02      77.165000   \n",
       "max    7.519589e+00  3.517346e+00  3.161220e+01  3.384781e+01   25691.160000   \n",
       "\n",
       "               Class  \n",
       "count  284807.000000  \n",
       "mean        0.001727  \n",
       "std         0.041527  \n",
       "min         0.000000  \n",
       "25%         0.000000  \n",
       "50%         0.000000  \n",
       "75%         0.000000  \n",
       "max         1.000000  \n",
       "\n",
       "[8 rows x 31 columns]"
      ]
     },
     "execution_count": 113,
     "metadata": {},
     "output_type": "execute_result"
    }
   ],
   "source": [
    "df.describe()"
   ]
  },
  {
   "cell_type": "markdown",
   "metadata": {},
   "source": [
    "#### Carregar conjunto de dados para permitir criar lotes com classes balanceadas\n",
    "\n",
    "Vamos carregar esse conjunto de dados de forma a carregar os dados lote por lote.\n",
    "\n",
    "Na célula abaixo é definido o local onde se encontra os dados e depois os dados são carregados e descompactados. "
   ]
  },
  {
   "cell_type": "code",
   "execution_count": 114,
   "metadata": {
    "colab": {},
    "colab_type": "code",
    "id": "U2e8dxVUlFHO"
   },
   "outputs": [],
   "source": [
    "# Define local do conjunto de dados\n",
    "zip_path = tf.keras.utils.get_file(\n",
    "    origin='https://storage.googleapis.com/download.tensorflow.org/data/creditcard.zip',\n",
    "    fname='creditcard.zip',\n",
    "    extract=True)\n",
    "\n",
    "# Carrega conjunto de dados e descompacta arquivo\n",
    "csv_path = zip_path.replace('.zip', '.csv')"
   ]
  },
  {
   "cell_type": "markdown",
   "metadata": {},
   "source": [
    "#### Criar objeto Dataset a partir do conjunto de dados\n",
    "\n",
    "Esse Dataset é criado e no mesmo comando são realizadas as seguintes definições:\n",
    "\n",
    "- Definição do tamanho dos lotes;\n",
    "- Indicada a coluna onde se encontram as saídas desejadas;\n",
    "- Transforma os tipos de dados em reais (entradas) e inteiro (saída)."
   ]
  },
  {
   "cell_type": "code",
   "execution_count": 119,
   "metadata": {},
   "outputs": [],
   "source": [
    "creditcard_ds = tf.data.experimental.make_csv_dataset(\n",
    "    csv_path, batch_size=1024, label_name=\"Class\",\n",
    "    shuffle = False, # Embaralhamento de dados não funciona com esse tipo de processo\n",
    "    column_defaults=[float()]*30+[int()]) # Define os tipos de dados das colunas (30 reais e 1 inteira)"
   ]
  },
  {
   "cell_type": "markdown",
   "metadata": {},
   "source": [
    "Para verificar o conteúdo de um lote de dados, tem-se:"
   ]
  },
  {
   "cell_type": "code",
   "execution_count": 120,
   "metadata": {},
   "outputs": [
    {
     "data": {
      "text/plain": [
       "(OrderedDict([('Time', TensorSpec(shape=(1024,), dtype=tf.float32, name=None)),\n",
       "              ('V1', TensorSpec(shape=(1024,), dtype=tf.float32, name=None)),\n",
       "              ('V2', TensorSpec(shape=(1024,), dtype=tf.float32, name=None)),\n",
       "              ('V3', TensorSpec(shape=(1024,), dtype=tf.float32, name=None)),\n",
       "              ('V4', TensorSpec(shape=(1024,), dtype=tf.float32, name=None)),\n",
       "              ('V5', TensorSpec(shape=(1024,), dtype=tf.float32, name=None)),\n",
       "              ('V6', TensorSpec(shape=(1024,), dtype=tf.float32, name=None)),\n",
       "              ('V7', TensorSpec(shape=(1024,), dtype=tf.float32, name=None)),\n",
       "              ('V8', TensorSpec(shape=(1024,), dtype=tf.float32, name=None)),\n",
       "              ('V9', TensorSpec(shape=(1024,), dtype=tf.float32, name=None)),\n",
       "              ('V10', TensorSpec(shape=(1024,), dtype=tf.float32, name=None)),\n",
       "              ('V11', TensorSpec(shape=(1024,), dtype=tf.float32, name=None)),\n",
       "              ('V12', TensorSpec(shape=(1024,), dtype=tf.float32, name=None)),\n",
       "              ('V13', TensorSpec(shape=(1024,), dtype=tf.float32, name=None)),\n",
       "              ('V14', TensorSpec(shape=(1024,), dtype=tf.float32, name=None)),\n",
       "              ('V15', TensorSpec(shape=(1024,), dtype=tf.float32, name=None)),\n",
       "              ('V16', TensorSpec(shape=(1024,), dtype=tf.float32, name=None)),\n",
       "              ('V17', TensorSpec(shape=(1024,), dtype=tf.float32, name=None)),\n",
       "              ('V18', TensorSpec(shape=(1024,), dtype=tf.float32, name=None)),\n",
       "              ('V19', TensorSpec(shape=(1024,), dtype=tf.float32, name=None)),\n",
       "              ('V20', TensorSpec(shape=(1024,), dtype=tf.float32, name=None)),\n",
       "              ('V21', TensorSpec(shape=(1024,), dtype=tf.float32, name=None)),\n",
       "              ('V22', TensorSpec(shape=(1024,), dtype=tf.float32, name=None)),\n",
       "              ('V23', TensorSpec(shape=(1024,), dtype=tf.float32, name=None)),\n",
       "              ('V24', TensorSpec(shape=(1024,), dtype=tf.float32, name=None)),\n",
       "              ('V25', TensorSpec(shape=(1024,), dtype=tf.float32, name=None)),\n",
       "              ('V26', TensorSpec(shape=(1024,), dtype=tf.float32, name=None)),\n",
       "              ('V27', TensorSpec(shape=(1024,), dtype=tf.float32, name=None)),\n",
       "              ('V28', TensorSpec(shape=(1024,), dtype=tf.float32, name=None)),\n",
       "              ('Amount',\n",
       "               TensorSpec(shape=(1024,), dtype=tf.float32, name=None))]),\n",
       " TensorSpec(shape=(1024,), dtype=tf.int32, name=None))"
      ]
     },
     "execution_count": 120,
     "metadata": {},
     "output_type": "execute_result"
    }
   ],
   "source": [
    "# Verifica tipo dos elementos\n",
    "creditcard_ds.element_spec"
   ]
  },
  {
   "cell_type": "code",
   "execution_count": 121,
   "metadata": {},
   "outputs": [
    {
     "name": "stdout",
     "output_type": "stream",
     "text": [
      "Estrutura de um lote de dados:\n",
      " <PrefetchDataset shapes: (OrderedDict([(Time, (1024,)), (V1, (1024,)), (V2, (1024,)), (V3, (1024,)), (V4, (1024,)), (V5, (1024,)), (V6, (1024,)), (V7, (1024,)), (V8, (1024,)), (V9, (1024,)), (V10, (1024,)), (V11, (1024,)), (V12, (1024,)), (V13, (1024,)), (V14, (1024,)), (V15, (1024,)), (V16, (1024,)), (V17, (1024,)), (V18, (1024,)), (V19, (1024,)), (V20, (1024,)), (V21, (1024,)), (V22, (1024,)), (V23, (1024,)), (V24, (1024,)), (V25, (1024,)), (V26, (1024,)), (V27, (1024,)), (V28, (1024,)), (Amount, (1024,))]), (1024,)), types: (OrderedDict([(Time, tf.float32), (V1, tf.float32), (V2, tf.float32), (V3, tf.float32), (V4, tf.float32), (V5, tf.float32), (V6, tf.float32), (V7, tf.float32), (V8, tf.float32), (V9, tf.float32), (V10, tf.float32), (V11, tf.float32), (V12, tf.float32), (V13, tf.float32), (V14, tf.float32), (V15, tf.float32), (V16, tf.float32), (V17, tf.float32), (V18, tf.float32), (V19, tf.float32), (V20, tf.float32), (V21, tf.float32), (V22, tf.float32), (V23, tf.float32), (V24, tf.float32), (V25, tf.float32), (V26, tf.float32), (V27, tf.float32), (V28, tf.float32), (Amount, tf.float32)]), tf.int32)>\n",
      "\n",
      "Exemplo de um lote:\n",
      "(OrderedDict([('Time', <tf.Tensor: shape=(1024,), dtype=float32, numpy=array([  0.,   0.,   1., ..., 770., 770., 772.], dtype=float32)>), ('V1', <tf.Tensor: shape=(1024,), dtype=float32, numpy=\n",
      "array([-1.3598,  1.1919, -1.3584, ...,  1.021 , -3.8406, -0.3535],\n",
      "      dtype=float32)>), ('V2', <tf.Tensor: shape=(1024,), dtype=float32, numpy=\n",
      "array([-0.0728,  0.2662, -1.3402, ...,  0.0084, -3.5993,  1.1407],\n",
      "      dtype=float32)>), ('V3', <tf.Tensor: shape=(1024,), dtype=float32, numpy=\n",
      "array([ 2.5363,  0.1665,  1.7732, ..., -0.0933,  1.7944,  1.1941],\n",
      "      dtype=float32)>), ('V4', <tf.Tensor: shape=(1024,), dtype=float32, numpy=\n",
      "array([ 1.3782,  0.4482,  0.3798, ...,  0.7497,  0.4723, -0.1422],\n",
      "      dtype=float32)>), ('V5', <tf.Tensor: shape=(1024,), dtype=float32, numpy=\n",
      "array([-0.3383,  0.06  , -0.5032, ..., -0.1363,  4.6154,  0.3192],\n",
      "      dtype=float32)>), ('V6', <tf.Tensor: shape=(1024,), dtype=float32, numpy=\n",
      "array([ 0.4624, -0.0824,  1.8005, ..., -0.9169, -2.8666, -0.4476],\n",
      "      dtype=float32)>), ('V7', <tf.Tensor: shape=(1024,), dtype=float32, numpy=\n",
      "array([ 0.2396, -0.0788,  0.7915, ...,  0.5612, -2.3537,  0.656 ],\n",
      "      dtype=float32)>), ('V8', <tf.Tensor: shape=(1024,), dtype=float32, numpy=\n",
      "array([ 0.0987,  0.0851,  0.2477, ..., -0.3148,  0.643 ,  0.0492],\n",
      "      dtype=float32)>), ('V9', <tf.Tensor: shape=(1024,), dtype=float32, numpy=\n",
      "array([ 0.3638, -0.2554, -1.5147, ..., -0.3469, -0.3609, -0.7541],\n",
      "      dtype=float32)>), ('V10', <tf.Tensor: shape=(1024,), dtype=float32, numpy=\n",
      "array([ 0.0908, -0.167 ,  0.2076, ..., -0.118 , -0.5119, -0.3652],\n",
      "      dtype=float32)>), ('V11', <tf.Tensor: shape=(1024,), dtype=float32, numpy=\n",
      "array([-0.5516,  1.6127,  0.6245, ...,  0.3255,  1.0996,  1.3267],\n",
      "      dtype=float32)>), ('V12', <tf.Tensor: shape=(1024,), dtype=float32, numpy=\n",
      "array([-0.6178,  1.0652,  0.0661, ...,  0.8057,  0.2896,  0.9286],\n",
      "      dtype=float32)>), ('V13', <tf.Tensor: shape=(1024,), dtype=float32, numpy=\n",
      "array([-0.9914,  0.4891,  0.7173, ...,  0.7788, -0.983 ,  0.8983],\n",
      "      dtype=float32)>), ('V14', <tf.Tensor: shape=(1024,), dtype=float32, numpy=\n",
      "array([-0.3112, -0.1438, -0.1659, ...,  0.3824,  0.1933, -0.4138],\n",
      "      dtype=float32)>), ('V15', <tf.Tensor: shape=(1024,), dtype=float32, numpy=array([1.4682, 0.6356, 2.3459, ..., 0.8557, 0.3785, 0.1289], dtype=float32)>), ('V16', <tf.Tensor: shape=(1024,), dtype=float32, numpy=\n",
      "array([-0.4704,  0.4639, -2.8901, ..., -0.5289,  0.576 ,  0.6381],\n",
      "      dtype=float32)>), ('V17', <tf.Tensor: shape=(1024,), dtype=float32, numpy=\n",
      "array([ 0.208 , -0.1148,  1.11  , ...,  0.1084, -0.1638, -0.4096],\n",
      "      dtype=float32)>), ('V18', <tf.Tensor: shape=(1024,), dtype=float32, numpy=\n",
      "array([ 0.0258, -0.1834, -0.1214, ..., -1.1062,  0.2171,  0.3657],\n",
      "      dtype=float32)>), ('V19', <tf.Tensor: shape=(1024,), dtype=float32, numpy=\n",
      "array([ 0.404 , -0.1458, -2.2619, ..., -0.6364, -0.5919,  0.319 ],\n",
      "      dtype=float32)>), ('V20', <tf.Tensor: shape=(1024,), dtype=float32, numpy=\n",
      "array([ 0.2514, -0.0691,  0.525 , ...,  0.1156,  0.9929,  0.1827],\n",
      "      dtype=float32)>), ('V21', <tf.Tensor: shape=(1024,), dtype=float32, numpy=\n",
      "array([-0.0183, -0.2258,  0.248 , ...,  0.1469,  0.1671, -0.226 ],\n",
      "      dtype=float32)>), ('V22', <tf.Tensor: shape=(1024,), dtype=float32, numpy=\n",
      "array([ 0.2778, -0.6387,  0.7717, ...,  0.3042, -0.9827, -0.5716],\n",
      "      dtype=float32)>), ('V23', <tf.Tensor: shape=(1024,), dtype=float32, numpy=\n",
      "array([-0.1105,  0.1013,  0.9094, ..., -0.1725,  0.6369, -0.0827],\n",
      "      dtype=float32)>), ('V24', <tf.Tensor: shape=(1024,), dtype=float32, numpy=\n",
      "array([ 0.0669, -0.3398, -0.6893, ...,  0.4824, -0.4069, -0.0313],\n",
      "      dtype=float32)>), ('V25', <tf.Tensor: shape=(1024,), dtype=float32, numpy=\n",
      "array([ 0.1285,  0.1672, -0.3276, ...,  0.583 ,  0.3162, -0.1198],\n",
      "      dtype=float32)>), ('V26', <tf.Tensor: shape=(1024,), dtype=float32, numpy=\n",
      "array([-0.1891,  0.1259, -0.1391, ...,  0.4702,  0.0475,  0.0724],\n",
      "      dtype=float32)>), ('V27', <tf.Tensor: shape=(1024,), dtype=float32, numpy=\n",
      "array([ 0.1336, -0.009 , -0.0554, ..., -0.0585, -0.159 ,  0.2474],\n",
      "      dtype=float32)>), ('V28', <tf.Tensor: shape=(1024,), dtype=float32, numpy=\n",
      "array([-0.0211,  0.0147, -0.0598, ...,  0.0212,  0.1406,  0.0862],\n",
      "      dtype=float32)>), ('Amount', <tf.Tensor: shape=(1024,), dtype=float32, numpy=array([149.62,   2.69, 378.66, ..., 112.38,   1.98,   1.78], dtype=float32)>)]), <tf.Tensor: shape=(1024,), dtype=int32, numpy=array([0, 0, 0, ..., 0, 0, 0])>)\n"
     ]
    }
   ],
   "source": [
    "print('Estrutura de um lote de dados:\\n', creditcard_ds)\n",
    "print('\\nExemplo de um lote:')\n",
    "for lote in creditcard_ds.take(1):\n",
    "    print(format(lote))"
   ]
  },
  {
   "cell_type": "markdown",
   "metadata": {
    "colab_type": "text",
    "id": "A8O47EmHlxYX"
   },
   "source": [
    "#### Cálculo do número de exemplos de cada classe\n",
    "\n",
    "A função `count()` definida abaixo conta o número de exemplos de cada classe."
   ]
  },
  {
   "cell_type": "code",
   "execution_count": 122,
   "metadata": {
    "colab": {},
    "colab_type": "code",
    "id": "a8-Ss69XlzXD"
   },
   "outputs": [],
   "source": [
    "def count(counts, batch):\n",
    "    features, labels = batch\n",
    "    class_1 = labels == 1\n",
    "    class_1 = tf.cast(class_1, tf.int32)\n",
    "\n",
    "    class_0 = labels == 0\n",
    "    class_0 = tf.cast(class_0, tf.int32)\n",
    "\n",
    "    counts['class_0'] += tf.reduce_sum(class_0)\n",
    "    counts['class_1'] += tf.reduce_sum(class_1)\n",
    "\n",
    "    return counts"
   ]
  },
  {
   "cell_type": "markdown",
   "metadata": {},
   "source": [
    "Executa função `count()` para calcular o número de exemplos de cada classe. Para isso é utilizado o método `reduce` que aplica a função `count()` no Dataset."
   ]
  },
  {
   "cell_type": "code",
   "execution_count": 123,
   "metadata": {
    "colab": {},
    "colab_type": "code",
    "id": "O1a3t_B4l_f6"
   },
   "outputs": [
    {
     "name": "stdout",
     "output_type": "stream",
     "text": [
      "Fração de dados sem fraude: 0.9961914\n",
      "Fração de dados com fraude: 0.0038085938\n"
     ]
    }
   ],
   "source": [
    "counts = creditcard_ds.take(10).reduce(initial_state={'class_0': 0, 'class_1': 0}, reduce_func = count)\n",
    "\n",
    "counts = np.array([counts['class_0'].numpy(), counts['class_1'].numpy()]).astype(np.float32)\n",
    "\n",
    "fractions = counts/counts.sum()\n",
    "print('Fração de dados sem fraude:', fractions[0])\n",
    "print('Fração de dados com fraude:', fractions[1])"
   ]
  },
  {
   "cell_type": "markdown",
   "metadata": {},
   "source": [
    "- O método `reduce` chama a função `count()` sucessivamente para cada elemento do conjunto de dados de entrada até que o conjunto de dados se esgote, agregando informações em seu estado interno. O argumento `initial_state` é usado para definir o estado inicial da variável desejada e o estado final é retornado como resultado\n",
    "\n",
    "\n",
    "- Observe como as duas classes de dados são altamente desbalanceadas."
   ]
  },
  {
   "cell_type": "markdown",
   "metadata": {
    "colab_type": "text",
    "id": "y8jQWsgMnjQG"
   },
   "source": [
    "#### Balanceamento das classes nos lotes de exemplos de treinamento\n",
    "\n",
    "O módulo `tf.data` fornece duas abordagens para criar lotes com exemplos das classes balanceadas:\n",
    "\n",
    "- Re-amostragem do Dataset\n",
    "- Rejeição de amostras"
   ]
  },
  {
   "cell_type": "markdown",
   "metadata": {
    "colab_type": "text",
    "id": "ov14SRrQyQE3"
   },
   "source": [
    "#### Abordagem #1: Amostragem do Dataset\n",
    "\n",
    "Nessa forma, cada lote de dados criado é amostrado do Dataset usando o método `sample_from_datasets`. \n",
    "\n",
    "Essa forma somente pode ser utilzada quando se tem dois Datasets separados, sendo um para cada classe. Assim, deve-se primeiramente criar os dois Datastes a partir do Dataset original. Para isso usa-se o método `filter`, da seguinte forma:"
   ]
  },
  {
   "cell_type": "code",
   "execution_count": 124,
   "metadata": {
    "colab": {},
    "colab_type": "code",
    "id": "6YKfCPa-nioA"
   },
   "outputs": [],
   "source": [
    "# Cria Dataset com os dados sem fraude (negativo, classe = 0)\n",
    "negativos_ds = creditcard_ds.unbatch().filter(lambda features, label: label==0).repeat()\n",
    "\n",
    "# Cria Dataset com os dados com fraude (positivo, classe = 1)\n",
    "positivos_ds = creditcard_ds.unbatch().filter(lambda features, label: label==1).repeat()"
   ]
  },
  {
   "cell_type": "markdown",
   "metadata": {},
   "source": [
    "- O método `unbatch` une todos os elementos de um Dataset em um único elemento.\n",
    "\n",
    "- O método `filter` aplica uma função especificada no Dataset. Essa função deve representar uma condição e os elementos que satisfazem essa condição são slecionados.\n",
    "\n",
    "Vamos verificar o resultado dessas operações visualizando as classes dos exemplos em cada um desses dois Datasets criados."
   ]
  },
  {
   "cell_type": "code",
   "execution_count": 125,
   "metadata": {
    "colab": {},
    "colab_type": "code",
    "id": "8FNd3sQjzl9-"
   },
   "outputs": [
    {
     "name": "stdout",
     "output_type": "stream",
     "text": [
      "Classes dos exemplos do Dataset sem fraude: [0 0 0 0 0 0 0 0 0 0]\n",
      "Classes dos exemplos do Dataset com fraude: [1 1 1 1 1 1 1 1 1 1]\n"
     ]
    }
   ],
   "source": [
    "# Mostra um lote com 10 exemplos sem fraude\n",
    "for features, label in negativos_ds.batch(10).take(1):\n",
    "    print('Classes dos exemplos do Dataset sem fraude:', label.numpy())\n",
    "    \n",
    "# Mostra um lote com 10 exemplos com fraude\n",
    "for features, label in positivos_ds.batch(10).take(1):\n",
    "    print('Classes dos exemplos do Dataset com fraude:', label.numpy())"
   ]
  },
  {
   "cell_type": "markdown",
   "metadata": {
    "colab_type": "text",
    "id": "GxLAr-7p0ATX"
   },
   "source": [
    "Para criar lotes com exemplos das duas classes usa-se o método `sample_from_datasets`, passando a fração do número de exemplos desejados de cada clase, da seguinte forma:"
   ]
  },
  {
   "cell_type": "code",
   "execution_count": 126,
   "metadata": {
    "colab": {},
    "colab_type": "code",
    "id": "vjdPVIFCngOb"
   },
   "outputs": [],
   "source": [
    "# Dataset que cria lotes de elementos com as classes desbalanceadas\n",
    "balanced_ds = tf.data.experimental.sample_from_datasets(\n",
    "              [negativos_ds, positivos_ds], [0.5, 0.5]).shuffle(100).batch(10)"
   ]
  },
  {
   "cell_type": "markdown",
   "metadata": {},
   "source": [
    "- Cada lote contém 10 elementos.\n",
    "- Nesse caso foi escolhido ter metade dos exemplos do lote de cada classe.\n",
    "\n",
    "Para verificar o resultado, vamos mostrar as classes de 8 lotes com exemplos cada.  "
   ]
  },
  {
   "cell_type": "code",
   "execution_count": 127,
   "metadata": {
    "colab": {},
    "colab_type": "code",
    "id": "Myvkw21Rz-fH"
   },
   "outputs": [
    {
     "name": "stdout",
     "output_type": "stream",
     "text": [
      "[1 0 1 0 1 1 1 0 0 1]\n",
      "[1 1 1 1 0 0 0 1 1 1]\n",
      "[0 1 1 0 1 0 0 1 0 1]\n",
      "[0 0 0 1 0 0 1 1 1 0]\n",
      "[1 0 0 1 1 0 0 1 1 0]\n",
      "[1 0 0 0 1 1 0 0 1 0]\n",
      "[1 0 0 0 1 0 1 0 0 1]\n",
      "[0 0 1 1 0 1 0 1 0 0]\n"
     ]
    }
   ],
   "source": [
    "# Mostra 8 primeiros lotes do Dataset balanced\n",
    "for features, labels in balanced_ds.take(8):\n",
    "    print(labels.numpy())"
   ]
  },
  {
   "cell_type": "markdown",
   "metadata": {
    "colab_type": "text",
    "id": "kZ9ezkK6irMD"
   },
   "source": [
    "#### Abordagem #2: Rejeição de amostras\n",
    "\n",
    "Um problema com a abordagem anterior, usando os métodos `experimental.sample_from_datasets` e `filter`, é que precisa de um Dataset separado para cada classe, resultando na necessidade de replicar os dados e, assim, ocupa mais memória.\n",
    "\n",
    "O método `experimental.rejection_resample` pode ser aplicado em um Dataset para balancear as classes ao mesmo tempo em que carrega os lotes de dados durante o treinamento. Nessa abordagem elementos são eliminados do lote até obter o número de classes balanceado.\n",
    "\n",
    "Nessa abordagem, o método `experimental.rejection_resample` recebe a função `class_func` como argumento. Essa função `class_func` é aplicada em cada elemento do lote para determinar de qual classe aquele elemento pertence para poder realizar o balanceamento.\n",
    "\n",
    "Observa-se que essa abordagem somente funciona se os lotes forem os mesmos em cada época. Assim, nessa abordagem não se pode usar o método `shuffle` para embaralhar os exemplos.\n",
    "\n",
    "O Dataset `creditcard` já está preparado para retornar lotes com pares de entradas e saídas `(features, label)`, assim, a função `class_func` deve ser definida para retornar somente as saídas. Essa função é bem simples e está definida na célula a seguir."
   ]
  },
  {
   "cell_type": "code",
   "execution_count": 128,
   "metadata": {
    "colab": {},
    "colab_type": "code",
    "id": "zC_Cuzw8lhI5"
   },
   "outputs": [],
   "source": [
    "# Função que retorna classe dos exemplos de treinamento\n",
    "def class_func(features, label):\n",
    "    return label"
   ]
  },
  {
   "cell_type": "markdown",
   "metadata": {
    "colab_type": "text",
    "id": "DdKmE8Jumlp0"
   },
   "source": [
    "O amostrador de elementos do lote é um objeto da classe `rejection_resample`. Esse objeto precisa de um objetivo para a distribuição de cada classe nos lotes e a forma como essa distribuição é descrita. \n",
    "\n",
    "Um exemplo de como instanciar um objeto `rejection_resample` é definida na célula abaixo."
   ]
  },
  {
   "cell_type": "code",
   "execution_count": 129,
   "metadata": {
    "colab": {},
    "colab_type": "code",
    "id": "9tv0tWNxmkzM"
   },
   "outputs": [],
   "source": [
    "# Instancia objeto rejection_resample para balancear lote\n",
    "resampler = tf.data.experimental.rejection_resample(\n",
    "            class_func, target_dist=[0.5, 0.5], initial_dist=fractions)"
   ]
  },
  {
   "cell_type": "markdown",
   "metadata": {},
   "source": [
    "- No caso tem-se cada classe com 50% dos elementos em cada lote."
   ]
  },
  {
   "cell_type": "markdown",
   "metadata": {
    "colab_type": "text",
    "id": "YxJrOZVToGuE"
   },
   "source": [
    "O objeto `resampler` analisa cada exemplo de treinamento individualmente, assim, para poder ser utilizado é necessário `unbatch` o Dataset antes de aplicá-lo. Na célula a seguir é criado o Dataset para gerar os lotes com o `resampler`."
   ]
  },
  {
   "cell_type": "code",
   "execution_count": 130,
   "metadata": {
    "colab": {},
    "colab_type": "code",
    "id": "fY6VIhr3oGHG"
   },
   "outputs": [
    {
     "name": "stdout",
     "output_type": "stream",
     "text": [
      "WARNING:tensorflow:From C:\\Users\\jklca\\Anaconda3\\lib\\site-packages\\tensorflow\\python\\data\\experimental\\ops\\resampling.py:156: Print (from tensorflow.python.ops.logging_ops) is deprecated and will be removed after 2018-08-20.\n",
      "Instructions for updating:\n",
      "Use tf.print instead of tf.Print. Note that tf.print returns a no-output operator that directly prints the output. Outside of defuns or eager mode, this operator will not be executed unless it is directly specified in session.run or used as a control dependency for other operators. This is only a concern in graph mode. Below is an example of how to ensure tf.print executes in graph mode:\n",
      "\n"
     ]
    }
   ],
   "source": [
    "# Cria Dataset que gera lotes com classes balanceadas usando a abordagem de re-amostragem\n",
    "resample_ds = creditcard_ds.unbatch().apply(resampler).shuffle(100).batch(10)"
   ]
  },
  {
   "cell_type": "markdown",
   "metadata": {
    "colab_type": "text",
    "id": "L-HnC1s8idqV"
   },
   "source": [
    "O `resampler` criado, retorna um par classe-exemplo (`class, example`), porém a função `class_func` já retorna as saídas (`labels`). Nesse caso cada exemplo de treinamento já possui a sua saída associada, assim, esse processo resulta em que cada elemento do lote tenha uma entrada e duas saídas. Portanto, deve-se eliminar uma das saídas e para isso pode-se usar o método `map` como mostrado a seguir."
   ]
  },
  {
   "cell_type": "code",
   "execution_count": 131,
   "metadata": {
    "colab": {},
    "colab_type": "code",
    "id": "KpfCGU6BiaZq"
   },
   "outputs": [
    {
     "name": "stdout",
     "output_type": "stream",
     "text": [
      "[1 1 0 0 1 1 0 0 1 0]\n",
      "[1 0 0 1 1 1 0 1 1 1]\n",
      "[1 0 0 0 1 0 1 1 1 0]\n",
      "[1 1 1 0 1 0 1 0 0 0]\n",
      "[1 1 1 0 0 1 1 1 0 0]\n",
      "[0 1 0 0 0 1 0 0 0 1]\n",
      "[1 0 1 0 0 1 1 0 0 1]\n",
      "[0 1 0 0 0 1 0 0 1 0]\n"
     ]
    }
   ],
   "source": [
    "# Elimina a saída repetida em cada exemplo de treinamento\n",
    "balanced_ds = resample_ds.map(lambda extra_label, features_and_label: features_and_label)\n",
    "\n",
    "# Mostar exemplos de lotes gerados pelo Dataset \n",
    "for features, labels in balanced_ds.take(8):\n",
    "    print(labels.numpy())"
   ]
  },
  {
   "cell_type": "markdown",
   "metadata": {},
   "source": [
    "## 7. Divisão de Datasets em dados de treinamento, validação e teste\n",
    "\n",
    "Existem algumas formas de dividir um Dataset em Datasets de treinamento, validação e teste. Vamos ver duas dessas formas.\n",
    "\n",
    "Outra forma de dividir os dados em vários conjuntos é realizar essa divisão antes de criar o Dataset usando, por exemplo, a função `train_test_split` da biblioteca ScikitLearn."
   ]
  },
  {
   "cell_type": "markdown",
   "metadata": {},
   "source": [
    "### 7.2 Forma simples\n",
    "\n",
    "Uma forma bem simples de realizar uma divisão de dados de um Dataset é simplesmente usar o método `take` para pegar um número de exemplos (lotes) determinados de um Dataset.\n",
    "\n",
    "Observa-se que esse método é determinístico, ou seja, sempre divide os dados da mesma forma e sempre seleciona os exemplos na mesma sequência em que estão no Dataset original."
   ]
  },
  {
   "cell_type": "markdown",
   "metadata": {},
   "source": [
    "Para exemplificar o uso dessa forma de dividir um Dataset, vamos usar o exemplo do Dataset `titanic` e dividí-lo nos conjuntos de treinamemto, validação e teste."
   ]
  },
  {
   "cell_type": "code",
   "execution_count": 132,
   "metadata": {},
   "outputs": [],
   "source": [
    "# Define nome do arquivo e URL com o arquivo de dados\n",
    "titanic_file = tf.keras.utils.get_file(\"train.csv\", \"https://storage.googleapis.com/tf-datasets/titanic/train.csv\")\n",
    "\n",
    "# Carrega dados com o Pandas\n",
    "df = pd.read_csv(titanic_file, index_col=None)\n",
    "\n",
    "# Cria dataset com o dataframe Pandas com lote de 1 exemplo\n",
    "titanic_ds = tf.data.Dataset.from_tensor_slices(dict(df)).batch(1)"
   ]
  },
  {
   "cell_type": "code",
   "execution_count": 133,
   "metadata": {},
   "outputs": [],
   "source": [
    "# Determina número de lotes nos Datasets de validação e teste\n",
    "num_elements = 100\n",
    "\n",
    "# Divide Dataset em 3\n",
    "val_ds = titanic_ds.take(num_elements)\n",
    "test_ds = titanic_ds.take(num_elements)\n",
    "train_ds = titanic_ds.skip(2*num_elements)"
   ]
  },
  {
   "cell_type": "code",
   "execution_count": 134,
   "metadata": {},
   "outputs": [
    {
     "name": "stdout",
     "output_type": "stream",
     "text": [
      "Número de lotes de treinamento: 427\n",
      "Número de lotes de validação: 100\n",
      "Número de lotes de teste: 100\n"
     ]
    }
   ],
   "source": [
    "# Itera nos Datasets para calcular número de lotes\n",
    "test_ds_length = [i for i,_ in enumerate(test_ds)][-1] + 1\n",
    "val_ds_length = [i for i,_ in enumerate(val_ds)][-1] + 1\n",
    "train_ds_length = [i for i,_ in enumerate(train_ds)][-1] + 1\n",
    "\n",
    "print('Número de lotes de treinamento:', train_ds_length)\n",
    "print('Número de lotes de validação:', val_ds_length)\n",
    "print('Número de lotes de teste:', test_ds_length)"
   ]
  },
  {
   "cell_type": "markdown",
   "metadata": {},
   "source": [
    "- Observe que no caso os lotes são de um único exemplo, então, o número de lotes é igual ao número de exemplos dos Datasets.\n",
    "\n",
    "\n",
    "- Note que nesse caso temos que conhecer o número de lotes (ou exemplos) do Dataset se quisermos ter uma fração definida para os três conjuntos de dados."
   ]
  },
  {
   "cell_type": "markdown",
   "metadata": {},
   "source": [
    "### 7.2 Forma geral\n",
    "\n",
    "Vamos ver uma forma mais geral de dividir um Dataset em conjuntos de treinamento e teste, que funciona para qualquer tipo de Dataset. \n",
    "\n",
    "A primeira etapa é criar duas funções que selecionam os exemplos para serem do conjunto de treinamento ou do conjunto de teste. \n",
    "\n",
    "Nesse exemplo, vamos agora dividir os dados nos conjuntos de treinamento e teste, sendo 80% dos dados para treinamento e 20% para teste.\n",
    "\n",
    "Na célula abaixo são criados duas funções:\n",
    "\n",
    "- Função `is_test()`, que seleciona 1 em cada 5 exemplos como sendo de teste;\n",
    "- Função `is_train()`, que seleciona 4 em cada 5 exemplos com sendo de treinamento.\n",
    "\n",
    "Essas funções selecionam os exemplos tendo como base um índice, que é incluído pelo método enumerate.\n",
    "\n",
    "A função `recover` elimina o índice incluído pelo método `enumerate` e, assim, recuperr os exemplos originais.\n",
    "\n",
    "Após criar essas funções o Dataset é dividido usando os métodos: `enumerate`, `filter` e a função `recover()`.\n",
    "\n",
    "- O método `enumerate` introduz indices numéricos nos exemplos para permitir que sejam selecionados pelas funções `is_test()` e `is_train()`;\n",
    "- O método `filter`, chama as funções `is_test()` e `is_trains`, que selecionam os exemplos com base nos seus índices;\n",
    "- O método `map` chama a função  `recover` para eliminar o índice incluído pelo método `enumerate`.\n",
    "\n",
    "Obviamente que se for desejado divir os dados em três conjuntos (treinamento, validação e teste), temos que definir 3 funções para selecionar os exemplos, ou seja, temos que definir outra função, `is_val(),` do mesmo tipo que as funções `is_train()` e `is_test()`. Além disso, temos que fazer algumas alterações nessas funções.\n",
    "\n",
    "Na célula a seguir são defindas as funções `is_test()`, `is_train()` e `recover()`. "
   ]
  },
  {
   "cell_type": "code",
   "execution_count": 135,
   "metadata": {},
   "outputs": [],
   "source": [
    "# Define função que seleciona exemplos de teste\n",
    "def is_test(x, y):\n",
    "    return x % 4 == 0\n",
    "\n",
    "# Define função que seleciiona exemplos de treinamento\n",
    "def is_train(x, y):\n",
    "    return not is_test(x, y)\n",
    "\n",
    "# Define função que elimina índice usado para selecionar exemplos incluidos com o método enumerate\n",
    "recover = lambda x,y: y"
   ]
  },
  {
   "cell_type": "markdown",
   "metadata": {},
   "source": [
    "Para exemplificar o uso dessa forma de dividir um Dataset, vamos usar novamente o Dataset `titanic` e dividí-lo nos conjuntos de treinamemto e teste."
   ]
  },
  {
   "cell_type": "code",
   "execution_count": 136,
   "metadata": {},
   "outputs": [],
   "source": [
    "# Cria Dataset de teste\n",
    "test_ds = titanic_ds.enumerate().filter(is_test).map(recover)\n",
    "\n",
    "# Cria Dataset de treinamento\n",
    "train_ds = titanic_ds.enumerate().filter(is_train).map(recover)"
   ]
  },
  {
   "cell_type": "markdown",
   "metadata": {},
   "source": [
    "Para verificar o conteúdo de um lote de dados, pode-se fazer:"
   ]
  },
  {
   "cell_type": "code",
   "execution_count": 137,
   "metadata": {},
   "outputs": [
    {
     "data": {
      "text/plain": [
       "{'survived': TensorSpec(shape=(None,), dtype=tf.int64, name=None),\n",
       " 'sex': TensorSpec(shape=(None,), dtype=tf.string, name=None),\n",
       " 'age': TensorSpec(shape=(None,), dtype=tf.float64, name=None),\n",
       " 'n_siblings_spouses': TensorSpec(shape=(None,), dtype=tf.int64, name=None),\n",
       " 'parch': TensorSpec(shape=(None,), dtype=tf.int64, name=None),\n",
       " 'fare': TensorSpec(shape=(None,), dtype=tf.float64, name=None),\n",
       " 'class': TensorSpec(shape=(None,), dtype=tf.string, name=None),\n",
       " 'deck': TensorSpec(shape=(None,), dtype=tf.string, name=None),\n",
       " 'embark_town': TensorSpec(shape=(None,), dtype=tf.string, name=None),\n",
       " 'alone': TensorSpec(shape=(None,), dtype=tf.string, name=None)}"
      ]
     },
     "execution_count": 137,
     "metadata": {},
     "output_type": "execute_result"
    }
   ],
   "source": [
    "# verifica o conteúdo de um lote do Dataset\n",
    "test_ds.element_spec"
   ]
  },
  {
   "cell_type": "markdown",
   "metadata": {},
   "source": [
    "Para verificar número de lotes do Dataset."
   ]
  },
  {
   "cell_type": "code",
   "execution_count": 138,
   "metadata": {},
   "outputs": [
    {
     "name": "stdout",
     "output_type": "stream",
     "text": [
      "Número de lotes de treinamento: 470\n",
      "Número de lotes de teste: 157\n"
     ]
    }
   ],
   "source": [
    "# Itera nos Datasets para calcular número de lotes\n",
    "test_ds_length = [i for i,_ in enumerate(test_ds)][-1] + 1\n",
    "train_ds_length = [i for i,_ in enumerate(train_ds)][-1] + 1\n",
    "\n",
    "print('Número de lotes de treinamento:', train_ds_length)\n",
    "print('Número de lotes de teste:', test_ds_length)"
   ]
  },
  {
   "cell_type": "markdown",
   "metadata": {},
   "source": [
    "- Observe novamente que no caso os lotes são de um único exemplo, então, o número de lotes é igual ao número de exemplos dos Datasets."
   ]
  }
 ],
 "metadata": {
  "colab": {
   "collapsed_sections": [],
   "name": "data.ipynb",
   "private_outputs": true,
   "provenance": [],
   "toc_visible": true
  },
  "kernelspec": {
   "display_name": "Python 3",
   "language": "python",
   "name": "python3"
  },
  "language_info": {
   "codemirror_mode": {
    "name": "ipython",
    "version": 3
   },
   "file_extension": ".py",
   "mimetype": "text/x-python",
   "name": "python",
   "nbconvert_exporter": "python",
   "pygments_lexer": "ipython3",
   "version": "3.8.5"
  }
 },
 "nbformat": 4,
 "nbformat_minor": 1
}
