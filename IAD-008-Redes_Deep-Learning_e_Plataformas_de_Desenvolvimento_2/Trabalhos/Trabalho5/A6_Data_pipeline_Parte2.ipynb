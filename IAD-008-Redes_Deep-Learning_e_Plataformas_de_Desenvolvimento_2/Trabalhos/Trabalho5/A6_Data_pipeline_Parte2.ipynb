{
 "cells": [
  {
   "cell_type": "markdown",
   "metadata": {
    "id": "8Byow2J6LaPl"
   },
   "source": [
    "# Aula 6\n",
    "\n",
    "# \"Data Pipelines\" - Parte 2\n",
    "\n",
    "# Etapa de treinamento\n",
    "\n",
    "### Eduardo Lobo Lustosa Cabral"
   ]
  },
  {
   "cell_type": "markdown",
   "metadata": {
    "id": "ALO-NQoggU4A"
   },
   "source": [
    "## 1. Objetivos\n",
    "\n",
    "Apresentar ferramentas do TensorFlow para criar \"data pipelines\" eficientes.\n",
    "\n",
    "Apresentar formas de treinar RNAs usando ferramentas de \"data pipelines\" do TensorFlow. \n",
    "\n",
    "Exemplos de treinamento de RNAs usando \"data pipelines\"."
   ]
  },
  {
   "cell_type": "markdown",
   "metadata": {
    "id": "E7q7_sCBgU4B"
   },
   "source": [
    "### Importa principais bibliotecas"
   ]
  },
  {
   "cell_type": "code",
   "execution_count": 1,
   "metadata": {
    "id": "OFcpn1-0gU4B"
   },
   "outputs": [],
   "source": [
    "import tensorflow as tf\n",
    "import pathlib\n",
    "import matplotlib.pyplot as plt\n",
    "import pandas as pd\n",
    "import numpy as np\n",
    "\n",
    "np.set_printoptions(precision=4)"
   ]
  },
  {
   "cell_type": "markdown",
   "metadata": {
    "id": "cPZeN3bkgU4C"
   },
   "source": [
    "## 2. Data Pipelines\n",
    "\n",
    "Com já vimos, existem muitos tipos de dados e problemas. Como por exemplo:\n",
    "\n",
    "-\tImagens $\\to$ classificação, detecção e localização de objetos, segmentação, geração de novas imagens.\n",
    "-\tTexto $\\to$  classificação, análise de sentimento, geração de novos textos, tradução de texto, chatbot.\n",
    "- Áudio $\\to$  reconhecimento de voz, música, geração de áudio (música e voz).\n",
    "- Vídeo $\\to$  classificação, reconhecimento de ação, rastreamento de objetos, entendimento de vídeo.\n",
    "- Séries temporais $\\to$  previsão, regressão (ajuste de função).\n",
    "- Dados estruturados $\\to$ regressão, sistemas de recomendação, classificação. \n",
    "\n",
    "<br>\n",
    "Para processar e carregar dados para treinar uma RNA de forma eficiente deve-se criar um \"data pipeline\". \n",
    "\n",
    "**Data pipelines** funcionam no princípio ETC (Extrair, Transformar e Carregar) que em inglês é ETL (Extraction, Tranformation and Load).\n",
    "\n",
    "- **Extrair** $\\to$ carrega dados originais do local onde se encontram e traz para o nosso ambiente de computação;\n",
    "- **Transformar** $\\to$ processa os dados para serem colocados em formatos adequados que possam ser usados por uma RNA;\n",
    "- **Carregar** $\\to$ alimenta a RNA com dados durante o seu treinamento ou para realizar previsões quando colocada em operação.\n",
    "\n",
    "<br>\n",
    "Cada tipo de dado exige um \"data pipeline\" diferente. Por exemplo:\n",
    "\n",
    "- Imagens $\\to$ ler arquivos, aplicar transformações em cada imagem e juntar aletoriamente em lotes para treinamento.\n",
    "-\tTexto $\\to$ ler arquivos, pode envolver extrair palavras ou letras do texto, converter em vetores “one-hote” ou “embeding” e criar lotes de sequências que podem ter comprimentos diferentes.\n",
    "-\tVídeo $\\to$ ler arquivos, separar imagens dos vídeos, aplicar transformações em cada imagem e juntar em lotes de treinamento que podem ter comprimentos diferentes.\n",
    "- Áudio e séries temporais $\\to$ ler arquivos, criar janelas com dados temporais, aplicar transformações nos dados, juntar em lotes de treinamento.\n",
    "- Dados estruturados $\\to$ ler arquivos, transformar dados e juntar em lotes para treinamento. "
   ]
  },
  {
   "cell_type": "markdown",
   "metadata": {
    "id": "0aSErreGgU4D"
   },
   "source": [
    "#### \"Data pipelines\" com TensorFlow\n",
    "\n",
    "O TensorFlow fornece ferramentas para realizar as três etapas de um \"data pipeline\" de forma eficiente para qualquer tipo de dado e problema.\n",
    "\n",
    "A grande vantagem de usar as ferramentas do TensorFlow é que elas são otimizadas para funcionar com os métodos de treinamento do Keras e, assim, o processo de treinamento é mais rápido.\n",
    "\n",
    "O módulo **`tf.data`** do TensorFlow disponibiliza ferramentas para criar \"data pipelines\" complexos de forma simples (https://www.tensorflow.org/api_docs/python/tf/data).\n",
    "\n",
    "Na Aula 4 vimos as etapas de \"extração\" e \"transformação\" dos dados **$\\to$ nessa aula veremos a etapa de carregar os dados no treinamento de uma RNA.**"
   ]
  },
  {
   "cell_type": "markdown",
   "metadata": {
    "id": "uLRdedPpbDdD"
   },
   "source": [
    "## 3. Treinamento\n",
    "\n",
    "A última etapa de um \"data pipeline\" de dados para desenvolver uma RNA é carregar os dados durante o processo de treinamento.\n",
    "\n",
    "Com os dados em um objeto Dataset, eles são fornecidos para o treinamento da RNA de forma otimizada utilizando da melhor forma possível todos os recursos de CPU/GPU e memória disponíveis.\n",
    "\n",
    "Com um Dataset é possível utilizar os métodos `fit()`, `evaluate()` e `predict()` do Keras."
   ]
  },
  {
   "cell_type": "markdown",
   "metadata": {
    "id": "JTQe8daMcgFz"
   },
   "source": [
    "Como exemplos de usar um conjunto de dados no formato Dataset no treinamento de uma RNA, vamos mostrar dois casos:\n",
    "\n",
    "1. Dados na forma de imagens em tensores para classificação multiclasse;\n",
    "2. Dados estruturados em arquivo CSV para classificaçao binária com classes desbalanceadas. "
   ]
  },
  {
   "cell_type": "markdown",
   "metadata": {
    "id": "CaXRpL_vgU4E"
   },
   "source": [
    "## 4. Classificação  multiclasse com dados em imagens\n",
    "\n",
    "Nesse exemplos vamos utilizar os dados do conjunto Fashion-MNIST. \n",
    "\n",
    "Como já vimos o conjunto de dados Fashion-MNIST consiste de imagens de artigos de vesturário divididas em 10 classes."
   ]
  },
  {
   "cell_type": "markdown",
   "metadata": {
    "id": "hv0t9KuRgU4E"
   },
   "source": [
    "### 4.1 Carregar dados\n",
    "\n",
    "O código abaixo carrega os dados da Fashion-MNIST da coleção do Keras e separa as imagens de entrada e as classes."
   ]
  },
  {
   "cell_type": "code",
   "execution_count": 3,
   "metadata": {
    "id": "-bfjqm0hOfES"
   },
   "outputs": [
    {
     "name": "stdout",
     "output_type": "stream",
     "text": [
      "Dimensão do tensor de imagens de treinamento: (60000, 28, 28)\n",
      "Dimensão do tensor de imagens de teste: (10000, 28, 28)\n"
     ]
    }
   ],
   "source": [
    "# Carrega conjunto de dados do keras\n",
    "train, test = tf.keras.datasets.fashion_mnist.load_data()\n",
    "\n",
    "# Separa imagens e classes\n",
    "images_train, labels_train = train\n",
    "images_test, labels_test = test\n",
    "\n",
    "# Mostra dimensões dos dados\n",
    "print('Dimensão do tensor de imagens de treinamento:', images_train.shape)\n",
    "print('Dimensão do tensor de imagens de teste:', images_test.shape)"
   ]
  },
  {
   "cell_type": "markdown",
   "metadata": {
    "id": "yWuncBcPgU4F"
   },
   "source": [
    "Pode-se ver que esse conjunto de dados possui 60.000 exemplos de treinamento e 10.000 exemplos de teste. Além disso, as imagens tem 28x28 pixels e são em tons de cinza."
   ]
  },
  {
   "cell_type": "markdown",
   "metadata": {
    "id": "rlR9ctOIgU4F"
   },
   "source": [
    "### 4.2 Criar Datasets de treinamento e teste\n",
    "\n",
    "Na célula abaixo são criados os Datasets de treinamento e teste. "
   ]
  },
  {
   "cell_type": "code",
   "execution_count": 4,
   "metadata": {
    "id": "2962GYZ--gVL"
   },
   "outputs": [],
   "source": [
    "# Cria datasets de treinameto e teste\n",
    "fmnist_train_ds = tf.data.Dataset.from_tensor_slices((images_train, labels_train))\n",
    "fmnist_test_ds = tf.data.Dataset.from_tensor_slices((images_test, labels_test))"
   ]
  },
  {
   "cell_type": "markdown",
   "metadata": {
    "id": "7i_guYCb-gVL"
   },
   "source": [
    "Para transformar os dados de forma a que possam ser usados por uma RNA, vamos definir a função `transform()`, que realiza as seguintes operações ao carregar os lotes de dados:\n",
    "\n",
    "1. Redefine o tipo dos dados das imagens para serem reais;\n",
    "2. Normaliza as imagens para os pixels terem valores entre 0 e 1;\n",
    "3. Codifica as classes das imagens para vetores one-hot."
   ]
  },
  {
   "cell_type": "code",
   "execution_count": 5,
   "metadata": {
    "id": "8G2sZ9aUgU4F"
   },
   "outputs": [],
   "source": [
    "## Define função para normalizar as imagens codificar saída\n",
    "def transform(x, y):\n",
    "    x_norm = tf.cast(x, dtype=tf.float32)/255.\n",
    "    y_int = tf.cast(y, dtype=tf.int32)\n",
    "    y_hot = tf.one_hot(y_int, 10)\n",
    "    return x_norm, y_hot"
   ]
  },
  {
   "cell_type": "markdown",
   "metadata": {
    "id": "-gfi2dk-gU4F"
   },
   "source": [
    "- Observe que essa função recebe tanto as entradas como as saídas dos exemplos de treinamento em razão dos Datasets retornarem pares imagem-classe.\n",
    "\n",
    "Agora vamos introduzir a transformação dos dados nos Datasets de treinamento e teste criados anteriormente. Para isso usamos o método `map` e a função `transform()`."
   ]
  },
  {
   "cell_type": "code",
   "execution_count": 6,
   "metadata": {
    "id": "wDhF3rGnbDdD"
   },
   "outputs": [],
   "source": [
    "# Define tamanho do lote\n",
    "batch_size = 32\n",
    "\n",
    "# Cria Dataset com a transformação que normaliza as imagens e codifica saída\n",
    "fmnist_train_ds = fmnist_train_ds.map(transform)\n",
    "fmnist_test_ds = fmnist_test_ds.map(transform)\n",
    "\n",
    "# Define tamanho de lotes e embaralha dados\n",
    "fmnist_train_ds = fmnist_train_ds.shuffle(1000).batch(batch_size)\n",
    "fmnist_test_ds = fmnist_test_ds.shuffle(1000).batch(batch_size)"
   ]
  },
  {
   "cell_type": "markdown",
   "metadata": {
    "id": "CvNjH9BAgU4G"
   },
   "source": [
    "- Observe que esses Datasets retornam um lote de imagens normalizadas e saídas em vetores one-hot. Para realizar essas transfromações é usado o método `map` que chama a função `transform()`."
   ]
  },
  {
   "cell_type": "markdown",
   "metadata": {
    "id": "qWYDWx2UgU4G"
   },
   "source": [
    "Para verificar se os Datasets estão funcionando corretamente, vamos criar um lote e apresentar alguns exemplos"
   ]
  },
  {
   "cell_type": "code",
   "execution_count": 10,
   "metadata": {
    "id": "F6z-Z-4wgU4G"
   },
   "outputs": [
    {
     "name": "stdout",
     "output_type": "stream",
     "text": [
      "Classe: tf.Tensor([1. 0. 0. 0. 0. 0. 0. 0. 0. 0.], shape=(10,), dtype=float32)\n"
     ]
    },
    {
     "data": {
      "image/png": "[encoded data removed]",
      "text/plain": [
       "<Figure size 432x288 with 1 Axes>"
      ]
     },
     "metadata": {
      "needs_background": "light"
     },
     "output_type": "display_data"
    },
    {
     "name": "stdout",
     "output_type": "stream",
     "text": [
      "Dimensão do lote: (32, 28, 28)\n",
      "Valores de alguns pixels: [0.8039 0.8078 0.8    0.7922 0.7882]\n"
     ]
    }
   ],
   "source": [
    "# Gera um lote de treinamento\n",
    "img, y = next(iter(fmnist_train_ds))\n",
    "\n",
    "# Mostra primeiro exemplo do lote\n",
    "print('Classe:', y[0])\n",
    "plt.imshow(img[0], cmap='gray')\n",
    "plt.show()\n",
    "\n",
    "# Apresenta dimensão do lote de imagens e alguns pixels da primeira imagem\n",
    "print('Dimensão do lote:', img.shape)\n",
    "print('Valores de alguns pixels:', img[0,14,10:15].numpy())"
   ]
  },
  {
   "cell_type": "markdown",
   "metadata": {
    "id": "FDJrasjZgU4H"
   },
   "source": [
    "### 4.3 Configuração e compilação da RNA\n",
    "\n",
    "Como as imagens tem dimensão pequena (28x28) e são em tons de cinza, vamos usar uma RNA simples com duas camadas densas para resolver esse problema.\n",
    "\n",
    "A RNA é compilada com os seguintes parâmetros:\n",
    "\n",
    "- Método de otimização: Adam com a sua taxa de aprendizado padrão (`lr=0.001`);\n",
    "- Função de custo: `CategoricalCrossentropy`;\n",
    "- Métrica: `accuracy`."
   ]
  },
  {
   "cell_type": "code",
   "execution_count": 11,
   "metadata": {
    "id": "E8jpkHAMgU4H"
   },
   "outputs": [
    {
     "name": "stdout",
     "output_type": "stream",
     "text": [
      "Model: \"sequential\"\n",
      "_________________________________________________________________\n",
      "Layer (type)                 Output Shape              Param #   \n",
      "=================================================================\n",
      "flatten (Flatten)            (None, 784)               0         \n",
      "_________________________________________________________________\n",
      "dense (Dense)                (None, 32)                25120     \n",
      "_________________________________________________________________\n",
      "dense_1 (Dense)              (None, 10)                330       \n",
      "=================================================================\n",
      "Total params: 25,450\n",
      "Trainable params: 25,450\n",
      "Non-trainable params: 0\n",
      "_________________________________________________________________\n"
     ]
    }
   ],
   "source": [
    "# Define dimensão das imagens\n",
    "img_size = (28, 28)\n",
    "\n",
    "# Cria RNA \n",
    "rna = tf.keras.Sequential([\n",
    "      tf.keras.layers.Flatten(input_shape=img_size),\n",
    "      tf.keras.layers.Dense(32, activation='relu'),                    \n",
    "      tf.keras.layers.Dense(10, activation='softmax')])\n",
    "\n",
    "# Apresenta sumário da RNA\n",
    "rna.summary()\n",
    "\n",
    "# Compila RNA\n",
    "rna.compile(optimizer='adam',\n",
    "            loss= tf.keras.losses.CategoricalCrossentropy(), \n",
    "            metrics=['accuracy'])"
   ]
  },
  {
   "cell_type": "markdown",
   "metadata": {
    "id": "yrFhoRV5gU4I"
   },
   "source": [
    "- A primeira camada da RNA é uma camada tipo `Flatten` para redimensionar as imagens e transformá-las em um vetor para poderem ser processadas por uma camada densa. Observe que o redimensionamento das imagens foi incluído dentro da RNA."
   ]
  },
  {
   "cell_type": "markdown",
   "metadata": {
    "id": "Rdogg8CfHs-G"
   },
   "source": [
    "### 4.4 Treinamento da RNA\n",
    " \n",
    "Para treinar a RNA basta passar os Datasets de treinamento e teste da mesma forma como se estivessem em tensores.\n",
    " \n",
    "Somente para exemplificar, vamos usar poucas épocas de treinamento."
   ]
  },
  {
   "cell_type": "code",
   "execution_count": 12,
   "metadata": {
    "id": "9cu4kPzOHnlt"
   },
   "outputs": [
    {
     "name": "stdout",
     "output_type": "stream",
     "text": [
      "Epoch 1/10\n",
      "1875/1875 [==============================] - 11s 4ms/step - loss: 0.7219 - accuracy: 0.7536 - val_loss: 0.4784 - val_accuracy: 0.8302\n",
      "Epoch 2/10\n",
      "1875/1875 [==============================] - 7s 4ms/step - loss: 0.4201 - accuracy: 0.8530 - val_loss: 0.4513 - val_accuracy: 0.8456\n",
      "Epoch 3/10\n",
      "1875/1875 [==============================] - 7s 4ms/step - loss: 0.3823 - accuracy: 0.8656 - val_loss: 0.4023 - val_accuracy: 0.8593\n",
      "Epoch 4/10\n",
      "1875/1875 [==============================] - 7s 4ms/step - loss: 0.3606 - accuracy: 0.8713 - val_loss: 0.3968 - val_accuracy: 0.8584\n",
      "Epoch 5/10\n",
      "1875/1875 [==============================] - 7s 4ms/step - loss: 0.3452 - accuracy: 0.8761 - val_loss: 0.3984 - val_accuracy: 0.8614\n",
      "Epoch 6/10\n",
      "1875/1875 [==============================] - 8s 4ms/step - loss: 0.3342 - accuracy: 0.8789 - val_loss: 0.3717 - val_accuracy: 0.8654\n",
      "Epoch 7/10\n",
      "1875/1875 [==============================] - 8s 4ms/step - loss: 0.3224 - accuracy: 0.8834 - val_loss: 0.3836 - val_accuracy: 0.8617\n",
      "Epoch 8/10\n",
      "1875/1875 [==============================] - 8s 4ms/step - loss: 0.3157 - accuracy: 0.8851 - val_loss: 0.3712 - val_accuracy: 0.8673\n",
      "Epoch 9/10\n",
      "1875/1875 [==============================] - 8s 4ms/step - loss: 0.3047 - accuracy: 0.8886 - val_loss: 0.3724 - val_accuracy: 0.8664\n",
      "Epoch 10/10\n",
      "1875/1875 [==============================] - 8s 4ms/step - loss: 0.2964 - accuracy: 0.8914 - val_loss: 0.3833 - val_accuracy: 0.8655\n"
     ]
    },
    {
     "data": {
      "text/plain": [
       "<tensorflow.python.keras.callbacks.History at 0x21ca212e3c8>"
      ]
     },
     "execution_count": 12,
     "metadata": {},
     "output_type": "execute_result"
    }
   ],
   "source": [
    "rna.fit(fmnist_train_ds, epochs=10, validation_data=fmnist_test_ds)"
   ]
  },
  {
   "cell_type": "markdown",
   "metadata": {
    "id": "FzpAQfJMJF41"
   },
   "source": [
    "**Importante:**\n",
    "\n",
    "Como visto, um Dataset criado usando o método `repeat` gera infinitos exemplos de treinamento. Nesses casos, no treinamento deve-se usar o argumento `steps_per_epoch` para definir quantos lotes por época são desejados."
   ]
  },
  {
   "cell_type": "markdown",
   "metadata": {
    "id": "iTLsw_nqJpTw"
   },
   "source": [
    "### 4.5 Avaliação da RNA\n",
    "\n",
    "O método `evaluate` pode ser usado com os dados em um Dataset. \n",
    "\n",
    "Nesse caso pode-se se quiser, ou se for necessário, definir o número de lotes usados no treinamento com o argumento `steps`."
   ]
  },
  {
   "cell_type": "code",
   "execution_count": 15,
   "metadata": {
    "id": "TnlRHlaL-XUI"
   },
   "outputs": [
    {
     "name": "stdout",
     "output_type": "stream",
     "text": [
      "313/313 [==============================] - 1s 3ms/step - loss: 0.3833 - accuracy: 0.8655\n",
      "Função de custo: 0.38332098722457886\n",
      "Exatidão: 0.8654999732971191\n"
     ]
    }
   ],
   "source": [
    "# Calcula função de custo e exatidão para todos os dados de teste \n",
    "loss, accuracy = rna.evaluate(fmnist_test_ds)\n",
    "\n",
    "print(\"Função de custo:\", loss)\n",
    "print(\"Exatidão:\", accuracy)"
   ]
  },
  {
   "cell_type": "code",
   "execution_count": 16,
   "metadata": {
    "id": "uVgamf9HKDon"
   },
   "outputs": [
    {
     "name": "stdout",
     "output_type": "stream",
     "text": [
      "10/10 [==============================] - 0s 5ms/step - loss: 0.2676 - accuracy: 0.8906\n",
      "Função de custo: 0.26759713888168335\n",
      "Exatidão: 0.890625\n"
     ]
    }
   ],
   "source": [
    "# Calcula função de custo e exatidão para 10 lotes dos dados de teste \n",
    "loss, accuracy = rna.evaluate(fmnist_train_ds.repeat(), steps=10)\n",
    "\n",
    "print(\"Função de custo:\", loss)\n",
    "print(\"Exatidão:\", accuracy)"
   ]
  },
  {
   "cell_type": "markdown",
   "metadata": {
    "id": "aZYhJ_YSIl6w"
   },
   "source": [
    "### 4.6 Realização de previsões\n",
    "\n",
    "Para usar o método `predict` para fazer previsões com a RNA as saídas não são necessárias. Assim, pode-se fazer o seguinte:\n",
    "\n",
    "1. Criar um novo Dataset com somente as imagens de teste;\n",
    "2. Usar o Dataset criado anteriormente como os dados de teste, que gera tanto as imagens como as classes, nesse caso as sáidas são ignoradas pelo método `predict`."
   ]
  },
  {
   "cell_type": "code",
   "execution_count": 18,
   "metadata": {
    "id": "343lXJ-pIqWD"
   },
   "outputs": [
    {
     "name": "stdout",
     "output_type": "stream",
     "text": [
      "Dimensão do tensor de previsões: (320, 10)\n",
      "Probabilidades das classes do primeiro exemplo: [8.2854e-07 2.1298e-09 6.0267e-06 1.9959e-06 6.3607e-07 6.4042e-03\n",
      " 1.8002e-07 1.5173e-01 2.3801e-04 8.4162e-01]\n"
     ]
    }
   ],
   "source": [
    "# Define função para somente normalizar imagens\n",
    "def img_norm(x):\n",
    "    x = tf.cast(x, dtype=tf.float32)/255.\n",
    "    return x\n",
    "\n",
    "# Cria novo Dataset somente com as imagens de teste sem as classes\n",
    "predict_ds = tf.data.Dataset.from_tensor_slices(images_test)\n",
    "predict_ds = predict_ds.map(img_norm).batch(batch_size)\n",
    "\n",
    "# Realiza previsões \n",
    "result = rna.predict(predict_ds, steps=10)\n",
    "                       \n",
    "# Mostra dimensão dos resultados\n",
    "print('Dimensão do tensor de previsões:', result.shape)\n",
    "print('Probabilidades das classes do primeiro exemplo:', result[0])"
   ]
  },
  {
   "cell_type": "markdown",
   "metadata": {
    "id": "YfzZORwLI202"
   },
   "source": [
    "- Observe que as saídas da RNA são vetores, cujos elementos representam as probabilidades da imagem ser uma das classes.\n",
    "\n",
    "Se quisermos verificar os resultados comparando com as classes reais, é mais fácil criar um lote de imagens e classes e depois usar a RNA com o método `predict` passando somente as imagens do lote."
   ]
  },
  {
   "cell_type": "code",
   "execution_count": 19,
   "metadata": {
    "id": "8sJVFLar-gVQ"
   },
   "outputs": [],
   "source": [
    "# Gera lote de imagens e saídas reais \n",
    "img, y_real = next(iter(fmnist_test_ds))\n",
    "                        \n",
    "# Determina categoria da classe real\n",
    "classe_real = np.argmax(y_real, axis=1)\n",
    "\n",
    "# Calcula previsão da RNA para um lote de imagens\n",
    "y_prev = rna.predict(img)\n",
    "classe_prev = np.argmax(y_prev, axis=1)"
   ]
  },
  {
   "cell_type": "code",
   "execution_count": 23,
   "metadata": {
    "id": "mgQJTPrT-2WF"
   },
   "outputs": [
    {
     "name": "stdout",
     "output_type": "stream",
     "text": [
      "Classe real: 6\n",
      "Classe prevista: 6\n",
      "Probabilidades das classe: [6.2678e-02 1.1513e-07 1.4786e-01 1.2641e-03 4.0749e-02 7.9797e-09\n",
      " 7.3924e-01 1.0645e-10 8.2010e-03 2.0731e-09]\n"
     ]
    },
    {
     "data": {
      "image/png": "[encoded data removed]",
      "text/plain": [
       "<Figure size 432x288 with 1 Axes>"
      ]
     },
     "metadata": {
      "needs_background": "light"
     },
     "output_type": "display_data"
    }
   ],
   "source": [
    "# Seleciona exemplo para mostrar resultado\n",
    "index = 31\n",
    "\n",
    "# Mostra um exemplo do lote\n",
    "print('Classe real:', classe_real[index])\n",
    "print('Classe prevista:', classe_prev[index])\n",
    "print('Probabilidades das classe:' , y_prev[index])\n",
    "plt.imshow(img[index], cmap='gray')\n",
    "plt.show()"
   ]
  },
  {
   "cell_type": "markdown",
   "metadata": {
    "id": "g8sK_z_ngU4M"
   },
   "source": [
    "## 5.  Classificação binária com classes desbalanceadas - dados estruturados\n",
    "\n",
    "Nesse exemplo vamos utilizar os dados do conjunto \"The credit card fraud\".\n",
    "\n",
    "Como já vimos na aula passada, esse conjunto de dados consiste de um problema de classificação binária com dados desbalanceados, onde os dados sem fraude (classe = 0) representam 99,6% do total e os dados com fraude (classe=1) representam 0,4%."
   ]
  },
  {
   "cell_type": "markdown",
   "metadata": {
    "id": "zKmtvukMgU4M"
   },
   "source": [
    "### 5.1 Carregar os dados\n",
    "\n",
    "Vamos carregar os dados para podermos visualizá-los diretamente do arquivo onde se encontram.\n",
    "\n",
    "Nas céulas abaixo é definido o local onde se encontra os dados e depois os dados são carregados e descompactados."
   ]
  },
  {
   "cell_type": "code",
   "execution_count": 2,
   "metadata": {
    "colab": {
     "base_uri": "https://localhost:8080/",
     "height": 426
    },
    "id": "CSse_O_6gU4N",
    "outputId": "9d7a4c33-ec59-40ef-f843-6ee7827ea260"
   },
   "outputs": [
    {
     "data": {
      "text/html": [
       "<div>\n",
       "<style scoped>\n",
       "    .dataframe tbody tr th:only-of-type {\n",
       "        vertical-align: middle;\n",
       "    }\n",
       "\n",
       "    .dataframe tbody tr th {\n",
       "        vertical-align: top;\n",
       "    }\n",
       "\n",
       "    .dataframe thead th {\n",
       "        text-align: right;\n",
       "    }\n",
       "</style>\n",
       "<table border=\"1\" class=\"dataframe\">\n",
       "  <thead>\n",
       "    <tr style=\"text-align: right;\">\n",
       "      <th></th>\n",
       "      <th>Time</th>\n",
       "      <th>V1</th>\n",
       "      <th>V2</th>\n",
       "      <th>V3</th>\n",
       "      <th>V4</th>\n",
       "      <th>V5</th>\n",
       "      <th>V6</th>\n",
       "      <th>V7</th>\n",
       "      <th>V8</th>\n",
       "      <th>V9</th>\n",
       "      <th>...</th>\n",
       "      <th>V21</th>\n",
       "      <th>V22</th>\n",
       "      <th>V23</th>\n",
       "      <th>V24</th>\n",
       "      <th>V25</th>\n",
       "      <th>V26</th>\n",
       "      <th>V27</th>\n",
       "      <th>V28</th>\n",
       "      <th>Amount</th>\n",
       "      <th>Class</th>\n",
       "    </tr>\n",
       "  </thead>\n",
       "  <tbody>\n",
       "    <tr>\n",
       "      <td>0</td>\n",
       "      <td>0.0</td>\n",
       "      <td>-1.359807</td>\n",
       "      <td>-0.072781</td>\n",
       "      <td>2.536347</td>\n",
       "      <td>1.378155</td>\n",
       "      <td>-0.338321</td>\n",
       "      <td>0.462388</td>\n",
       "      <td>0.239599</td>\n",
       "      <td>0.098698</td>\n",
       "      <td>0.363787</td>\n",
       "      <td>...</td>\n",
       "      <td>-0.018307</td>\n",
       "      <td>0.277838</td>\n",
       "      <td>-0.110474</td>\n",
       "      <td>0.066928</td>\n",
       "      <td>0.128539</td>\n",
       "      <td>-0.189115</td>\n",
       "      <td>0.133558</td>\n",
       "      <td>-0.021053</td>\n",
       "      <td>149.62</td>\n",
       "      <td>0</td>\n",
       "    </tr>\n",
       "    <tr>\n",
       "      <td>1</td>\n",
       "      <td>0.0</td>\n",
       "      <td>1.191857</td>\n",
       "      <td>0.266151</td>\n",
       "      <td>0.166480</td>\n",
       "      <td>0.448154</td>\n",
       "      <td>0.060018</td>\n",
       "      <td>-0.082361</td>\n",
       "      <td>-0.078803</td>\n",
       "      <td>0.085102</td>\n",
       "      <td>-0.255425</td>\n",
       "      <td>...</td>\n",
       "      <td>-0.225775</td>\n",
       "      <td>-0.638672</td>\n",
       "      <td>0.101288</td>\n",
       "      <td>-0.339846</td>\n",
       "      <td>0.167170</td>\n",
       "      <td>0.125895</td>\n",
       "      <td>-0.008983</td>\n",
       "      <td>0.014724</td>\n",
       "      <td>2.69</td>\n",
       "      <td>0</td>\n",
       "    </tr>\n",
       "    <tr>\n",
       "      <td>2</td>\n",
       "      <td>1.0</td>\n",
       "      <td>-1.358354</td>\n",
       "      <td>-1.340163</td>\n",
       "      <td>1.773209</td>\n",
       "      <td>0.379780</td>\n",
       "      <td>-0.503198</td>\n",
       "      <td>1.800499</td>\n",
       "      <td>0.791461</td>\n",
       "      <td>0.247676</td>\n",
       "      <td>-1.514654</td>\n",
       "      <td>...</td>\n",
       "      <td>0.247998</td>\n",
       "      <td>0.771679</td>\n",
       "      <td>0.909412</td>\n",
       "      <td>-0.689281</td>\n",
       "      <td>-0.327642</td>\n",
       "      <td>-0.139097</td>\n",
       "      <td>-0.055353</td>\n",
       "      <td>-0.059752</td>\n",
       "      <td>378.66</td>\n",
       "      <td>0</td>\n",
       "    </tr>\n",
       "    <tr>\n",
       "      <td>3</td>\n",
       "      <td>1.0</td>\n",
       "      <td>-0.966272</td>\n",
       "      <td>-0.185226</td>\n",
       "      <td>1.792993</td>\n",
       "      <td>-0.863291</td>\n",
       "      <td>-0.010309</td>\n",
       "      <td>1.247203</td>\n",
       "      <td>0.237609</td>\n",
       "      <td>0.377436</td>\n",
       "      <td>-1.387024</td>\n",
       "      <td>...</td>\n",
       "      <td>-0.108300</td>\n",
       "      <td>0.005274</td>\n",
       "      <td>-0.190321</td>\n",
       "      <td>-1.175575</td>\n",
       "      <td>0.647376</td>\n",
       "      <td>-0.221929</td>\n",
       "      <td>0.062723</td>\n",
       "      <td>0.061458</td>\n",
       "      <td>123.50</td>\n",
       "      <td>0</td>\n",
       "    </tr>\n",
       "    <tr>\n",
       "      <td>4</td>\n",
       "      <td>2.0</td>\n",
       "      <td>-1.158233</td>\n",
       "      <td>0.877737</td>\n",
       "      <td>1.548718</td>\n",
       "      <td>0.403034</td>\n",
       "      <td>-0.407193</td>\n",
       "      <td>0.095921</td>\n",
       "      <td>0.592941</td>\n",
       "      <td>-0.270533</td>\n",
       "      <td>0.817739</td>\n",
       "      <td>...</td>\n",
       "      <td>-0.009431</td>\n",
       "      <td>0.798278</td>\n",
       "      <td>-0.137458</td>\n",
       "      <td>0.141267</td>\n",
       "      <td>-0.206010</td>\n",
       "      <td>0.502292</td>\n",
       "      <td>0.219422</td>\n",
       "      <td>0.215153</td>\n",
       "      <td>69.99</td>\n",
       "      <td>0</td>\n",
       "    </tr>\n",
       "    <tr>\n",
       "      <td>...</td>\n",
       "      <td>...</td>\n",
       "      <td>...</td>\n",
       "      <td>...</td>\n",
       "      <td>...</td>\n",
       "      <td>...</td>\n",
       "      <td>...</td>\n",
       "      <td>...</td>\n",
       "      <td>...</td>\n",
       "      <td>...</td>\n",
       "      <td>...</td>\n",
       "      <td>...</td>\n",
       "      <td>...</td>\n",
       "      <td>...</td>\n",
       "      <td>...</td>\n",
       "      <td>...</td>\n",
       "      <td>...</td>\n",
       "      <td>...</td>\n",
       "      <td>...</td>\n",
       "      <td>...</td>\n",
       "      <td>...</td>\n",
       "      <td>...</td>\n",
       "    </tr>\n",
       "    <tr>\n",
       "      <td>284802</td>\n",
       "      <td>172786.0</td>\n",
       "      <td>-11.881118</td>\n",
       "      <td>10.071785</td>\n",
       "      <td>-9.834783</td>\n",
       "      <td>-2.066656</td>\n",
       "      <td>-5.364473</td>\n",
       "      <td>-2.606837</td>\n",
       "      <td>-4.918215</td>\n",
       "      <td>7.305334</td>\n",
       "      <td>1.914428</td>\n",
       "      <td>...</td>\n",
       "      <td>0.213454</td>\n",
       "      <td>0.111864</td>\n",
       "      <td>1.014480</td>\n",
       "      <td>-0.509348</td>\n",
       "      <td>1.436807</td>\n",
       "      <td>0.250034</td>\n",
       "      <td>0.943651</td>\n",
       "      <td>0.823731</td>\n",
       "      <td>0.77</td>\n",
       "      <td>0</td>\n",
       "    </tr>\n",
       "    <tr>\n",
       "      <td>284803</td>\n",
       "      <td>172787.0</td>\n",
       "      <td>-0.732789</td>\n",
       "      <td>-0.055080</td>\n",
       "      <td>2.035030</td>\n",
       "      <td>-0.738589</td>\n",
       "      <td>0.868229</td>\n",
       "      <td>1.058415</td>\n",
       "      <td>0.024330</td>\n",
       "      <td>0.294869</td>\n",
       "      <td>0.584800</td>\n",
       "      <td>...</td>\n",
       "      <td>0.214205</td>\n",
       "      <td>0.924384</td>\n",
       "      <td>0.012463</td>\n",
       "      <td>-1.016226</td>\n",
       "      <td>-0.606624</td>\n",
       "      <td>-0.395255</td>\n",
       "      <td>0.068472</td>\n",
       "      <td>-0.053527</td>\n",
       "      <td>24.79</td>\n",
       "      <td>0</td>\n",
       "    </tr>\n",
       "    <tr>\n",
       "      <td>284804</td>\n",
       "      <td>172788.0</td>\n",
       "      <td>1.919565</td>\n",
       "      <td>-0.301254</td>\n",
       "      <td>-3.249640</td>\n",
       "      <td>-0.557828</td>\n",
       "      <td>2.630515</td>\n",
       "      <td>3.031260</td>\n",
       "      <td>-0.296827</td>\n",
       "      <td>0.708417</td>\n",
       "      <td>0.432454</td>\n",
       "      <td>...</td>\n",
       "      <td>0.232045</td>\n",
       "      <td>0.578229</td>\n",
       "      <td>-0.037501</td>\n",
       "      <td>0.640134</td>\n",
       "      <td>0.265745</td>\n",
       "      <td>-0.087371</td>\n",
       "      <td>0.004455</td>\n",
       "      <td>-0.026561</td>\n",
       "      <td>67.88</td>\n",
       "      <td>0</td>\n",
       "    </tr>\n",
       "    <tr>\n",
       "      <td>284805</td>\n",
       "      <td>172788.0</td>\n",
       "      <td>-0.240440</td>\n",
       "      <td>0.530483</td>\n",
       "      <td>0.702510</td>\n",
       "      <td>0.689799</td>\n",
       "      <td>-0.377961</td>\n",
       "      <td>0.623708</td>\n",
       "      <td>-0.686180</td>\n",
       "      <td>0.679145</td>\n",
       "      <td>0.392087</td>\n",
       "      <td>...</td>\n",
       "      <td>0.265245</td>\n",
       "      <td>0.800049</td>\n",
       "      <td>-0.163298</td>\n",
       "      <td>0.123205</td>\n",
       "      <td>-0.569159</td>\n",
       "      <td>0.546668</td>\n",
       "      <td>0.108821</td>\n",
       "      <td>0.104533</td>\n",
       "      <td>10.00</td>\n",
       "      <td>0</td>\n",
       "    </tr>\n",
       "    <tr>\n",
       "      <td>284806</td>\n",
       "      <td>172792.0</td>\n",
       "      <td>-0.533413</td>\n",
       "      <td>-0.189733</td>\n",
       "      <td>0.703337</td>\n",
       "      <td>-0.506271</td>\n",
       "      <td>-0.012546</td>\n",
       "      <td>-0.649617</td>\n",
       "      <td>1.577006</td>\n",
       "      <td>-0.414650</td>\n",
       "      <td>0.486180</td>\n",
       "      <td>...</td>\n",
       "      <td>0.261057</td>\n",
       "      <td>0.643078</td>\n",
       "      <td>0.376777</td>\n",
       "      <td>0.008797</td>\n",
       "      <td>-0.473649</td>\n",
       "      <td>-0.818267</td>\n",
       "      <td>-0.002415</td>\n",
       "      <td>0.013649</td>\n",
       "      <td>217.00</td>\n",
       "      <td>0</td>\n",
       "    </tr>\n",
       "  </tbody>\n",
       "</table>\n",
       "<p>284807 rows × 31 columns</p>\n",
       "</div>"
      ],
      "text/plain": [
       "            Time         V1         V2        V3        V4        V5  \\\n",
       "0            0.0  -1.359807  -0.072781  2.536347  1.378155 -0.338321   \n",
       "1            0.0   1.191857   0.266151  0.166480  0.448154  0.060018   \n",
       "2            1.0  -1.358354  -1.340163  1.773209  0.379780 -0.503198   \n",
       "3            1.0  -0.966272  -0.185226  1.792993 -0.863291 -0.010309   \n",
       "4            2.0  -1.158233   0.877737  1.548718  0.403034 -0.407193   \n",
       "...          ...        ...        ...       ...       ...       ...   \n",
       "284802  172786.0 -11.881118  10.071785 -9.834783 -2.066656 -5.364473   \n",
       "284803  172787.0  -0.732789  -0.055080  2.035030 -0.738589  0.868229   \n",
       "284804  172788.0   1.919565  -0.301254 -3.249640 -0.557828  2.630515   \n",
       "284805  172788.0  -0.240440   0.530483  0.702510  0.689799 -0.377961   \n",
       "284806  172792.0  -0.533413  -0.189733  0.703337 -0.506271 -0.012546   \n",
       "\n",
       "              V6        V7        V8        V9  ...       V21       V22  \\\n",
       "0       0.462388  0.239599  0.098698  0.363787  ... -0.018307  0.277838   \n",
       "1      -0.082361 -0.078803  0.085102 -0.255425  ... -0.225775 -0.638672   \n",
       "2       1.800499  0.791461  0.247676 -1.514654  ...  0.247998  0.771679   \n",
       "3       1.247203  0.237609  0.377436 -1.387024  ... -0.108300  0.005274   \n",
       "4       0.095921  0.592941 -0.270533  0.817739  ... -0.009431  0.798278   \n",
       "...          ...       ...       ...       ...  ...       ...       ...   \n",
       "284802 -2.606837 -4.918215  7.305334  1.914428  ...  0.213454  0.111864   \n",
       "284803  1.058415  0.024330  0.294869  0.584800  ...  0.214205  0.924384   \n",
       "284804  3.031260 -0.296827  0.708417  0.432454  ...  0.232045  0.578229   \n",
       "284805  0.623708 -0.686180  0.679145  0.392087  ...  0.265245  0.800049   \n",
       "284806 -0.649617  1.577006 -0.414650  0.486180  ...  0.261057  0.643078   \n",
       "\n",
       "             V23       V24       V25       V26       V27       V28  Amount  \\\n",
       "0      -0.110474  0.066928  0.128539 -0.189115  0.133558 -0.021053  149.62   \n",
       "1       0.101288 -0.339846  0.167170  0.125895 -0.008983  0.014724    2.69   \n",
       "2       0.909412 -0.689281 -0.327642 -0.139097 -0.055353 -0.059752  378.66   \n",
       "3      -0.190321 -1.175575  0.647376 -0.221929  0.062723  0.061458  123.50   \n",
       "4      -0.137458  0.141267 -0.206010  0.502292  0.219422  0.215153   69.99   \n",
       "...          ...       ...       ...       ...       ...       ...     ...   \n",
       "284802  1.014480 -0.509348  1.436807  0.250034  0.943651  0.823731    0.77   \n",
       "284803  0.012463 -1.016226 -0.606624 -0.395255  0.068472 -0.053527   24.79   \n",
       "284804 -0.037501  0.640134  0.265745 -0.087371  0.004455 -0.026561   67.88   \n",
       "284805 -0.163298  0.123205 -0.569159  0.546668  0.108821  0.104533   10.00   \n",
       "284806  0.376777  0.008797 -0.473649 -0.818267 -0.002415  0.013649  217.00   \n",
       "\n",
       "        Class  \n",
       "0           0  \n",
       "1           0  \n",
       "2           0  \n",
       "3           0  \n",
       "4           0  \n",
       "...       ...  \n",
       "284802      0  \n",
       "284803      0  \n",
       "284804      0  \n",
       "284805      0  \n",
       "284806      0  \n",
       "\n",
       "[284807 rows x 31 columns]"
      ]
     },
     "execution_count": 2,
     "metadata": {},
     "output_type": "execute_result"
    }
   ],
   "source": [
    "df = pd.read_csv('https://storage.googleapis.com/download.tensorflow.org/data/creditcard.csv')\n",
    "df"
   ]
  },
  {
   "cell_type": "markdown",
   "metadata": {
    "id": "UcZMXBBYgU4N"
   },
   "source": [
    "#### Características dos dados:\n",
    "\n",
    "- Existem 284.807 exemplos de treinamento (cada linha é um exemplo);\n",
    "- Cada exemplo é composto por um vetor de entrada com 30 características e uma saída;\n",
    "- As 30 características são as primeiras 30 colunas dos dados;\n",
    "- As saídas estão na última coluna, de nome \"Class\".\n",
    "\n",
    "Vamos verificar os tipos de dados de cada coluna. Isso é importante porque se existir algum dado na forma de string ele tem que ser transformado para real."
   ]
  },
  {
   "cell_type": "code",
   "execution_count": 25,
   "metadata": {
    "colab": {
     "base_uri": "https://localhost:8080/"
    },
    "id": "BqMtaJSBgU4N",
    "outputId": "be07f79e-60cc-4cd1-f44d-7c30f0dfbf3a"
   },
   "outputs": [
    {
     "data": {
      "text/plain": [
       "Time      float64\n",
       "V1        float64\n",
       "V2        float64\n",
       "V3        float64\n",
       "V4        float64\n",
       "V5        float64\n",
       "V6        float64\n",
       "V7        float64\n",
       "V8        float64\n",
       "V9        float64\n",
       "V10       float64\n",
       "V11       float64\n",
       "V12       float64\n",
       "V13       float64\n",
       "V14       float64\n",
       "V15       float64\n",
       "V16       float64\n",
       "V17       float64\n",
       "V18       float64\n",
       "V19       float64\n",
       "V20       float64\n",
       "V21       float64\n",
       "V22       float64\n",
       "V23       float64\n",
       "V24       float64\n",
       "V25       float64\n",
       "V26       float64\n",
       "V27       float64\n",
       "V28       float64\n",
       "Amount    float64\n",
       "Class       int64\n",
       "dtype: object"
      ]
     },
     "execution_count": 25,
     "metadata": {},
     "output_type": "execute_result"
    }
   ],
   "source": [
    "df.dtypes"
   ]
  },
  {
   "cell_type": "markdown",
   "metadata": {
    "id": "sKEAtKhvgU4N"
   },
   "source": [
    "Vamos calcular a estatísticas das colunas para verificar como devemos pré-processar cada elemento dos exemplos de treinamento."
   ]
  },
  {
   "cell_type": "code",
   "execution_count": 27,
   "metadata": {
    "colab": {
     "base_uri": "https://localhost:8080/",
     "height": 307
    },
    "id": "hAVCXTpIgU4O",
    "outputId": "a64740a9-d0c9-465e-e5f7-5f407bceee6b"
   },
   "outputs": [
    {
     "data": {
      "text/html": [
       "<div>\n",
       "<style scoped>\n",
       "    .dataframe tbody tr th:only-of-type {\n",
       "        vertical-align: middle;\n",
       "    }\n",
       "\n",
       "    .dataframe tbody tr th {\n",
       "        vertical-align: top;\n",
       "    }\n",
       "\n",
       "    .dataframe thead th {\n",
       "        text-align: right;\n",
       "    }\n",
       "</style>\n",
       "<table border=\"1\" class=\"dataframe\">\n",
       "  <thead>\n",
       "    <tr style=\"text-align: right;\">\n",
       "      <th></th>\n",
       "      <th>Time</th>\n",
       "      <th>V1</th>\n",
       "      <th>V2</th>\n",
       "      <th>V3</th>\n",
       "      <th>V4</th>\n",
       "      <th>V5</th>\n",
       "      <th>V6</th>\n",
       "      <th>V7</th>\n",
       "      <th>V8</th>\n",
       "      <th>V9</th>\n",
       "      <th>...</th>\n",
       "      <th>V21</th>\n",
       "      <th>V22</th>\n",
       "      <th>V23</th>\n",
       "      <th>V24</th>\n",
       "      <th>V25</th>\n",
       "      <th>V26</th>\n",
       "      <th>V27</th>\n",
       "      <th>V28</th>\n",
       "      <th>Amount</th>\n",
       "      <th>Class</th>\n",
       "    </tr>\n",
       "  </thead>\n",
       "  <tbody>\n",
       "    <tr>\n",
       "      <td>count</td>\n",
       "      <td>284807.000000</td>\n",
       "      <td>2.848070e+05</td>\n",
       "      <td>2.848070e+05</td>\n",
       "      <td>2.848070e+05</td>\n",
       "      <td>2.848070e+05</td>\n",
       "      <td>2.848070e+05</td>\n",
       "      <td>2.848070e+05</td>\n",
       "      <td>2.848070e+05</td>\n",
       "      <td>2.848070e+05</td>\n",
       "      <td>2.848070e+05</td>\n",
       "      <td>...</td>\n",
       "      <td>2.848070e+05</td>\n",
       "      <td>2.848070e+05</td>\n",
       "      <td>2.848070e+05</td>\n",
       "      <td>2.848070e+05</td>\n",
       "      <td>2.848070e+05</td>\n",
       "      <td>2.848070e+05</td>\n",
       "      <td>2.848070e+05</td>\n",
       "      <td>2.848070e+05</td>\n",
       "      <td>284807.000000</td>\n",
       "      <td>284807.000000</td>\n",
       "    </tr>\n",
       "    <tr>\n",
       "      <td>mean</td>\n",
       "      <td>94813.859575</td>\n",
       "      <td>3.919560e-15</td>\n",
       "      <td>5.688174e-16</td>\n",
       "      <td>-8.769071e-15</td>\n",
       "      <td>2.782312e-15</td>\n",
       "      <td>-1.552563e-15</td>\n",
       "      <td>2.010663e-15</td>\n",
       "      <td>-1.694249e-15</td>\n",
       "      <td>-1.927028e-16</td>\n",
       "      <td>-3.137024e-15</td>\n",
       "      <td>...</td>\n",
       "      <td>1.537294e-16</td>\n",
       "      <td>7.959909e-16</td>\n",
       "      <td>5.367590e-16</td>\n",
       "      <td>4.458112e-15</td>\n",
       "      <td>1.453003e-15</td>\n",
       "      <td>1.699104e-15</td>\n",
       "      <td>-3.660161e-16</td>\n",
       "      <td>-1.206049e-16</td>\n",
       "      <td>88.349619</td>\n",
       "      <td>0.001727</td>\n",
       "    </tr>\n",
       "    <tr>\n",
       "      <td>std</td>\n",
       "      <td>47488.145955</td>\n",
       "      <td>1.958696e+00</td>\n",
       "      <td>1.651309e+00</td>\n",
       "      <td>1.516255e+00</td>\n",
       "      <td>1.415869e+00</td>\n",
       "      <td>1.380247e+00</td>\n",
       "      <td>1.332271e+00</td>\n",
       "      <td>1.237094e+00</td>\n",
       "      <td>1.194353e+00</td>\n",
       "      <td>1.098632e+00</td>\n",
       "      <td>...</td>\n",
       "      <td>7.345240e-01</td>\n",
       "      <td>7.257016e-01</td>\n",
       "      <td>6.244603e-01</td>\n",
       "      <td>6.056471e-01</td>\n",
       "      <td>5.212781e-01</td>\n",
       "      <td>4.822270e-01</td>\n",
       "      <td>4.036325e-01</td>\n",
       "      <td>3.300833e-01</td>\n",
       "      <td>250.120109</td>\n",
       "      <td>0.041527</td>\n",
       "    </tr>\n",
       "    <tr>\n",
       "      <td>min</td>\n",
       "      <td>0.000000</td>\n",
       "      <td>-5.640751e+01</td>\n",
       "      <td>-7.271573e+01</td>\n",
       "      <td>-4.832559e+01</td>\n",
       "      <td>-5.683171e+00</td>\n",
       "      <td>-1.137433e+02</td>\n",
       "      <td>-2.616051e+01</td>\n",
       "      <td>-4.355724e+01</td>\n",
       "      <td>-7.321672e+01</td>\n",
       "      <td>-1.343407e+01</td>\n",
       "      <td>...</td>\n",
       "      <td>-3.483038e+01</td>\n",
       "      <td>-1.093314e+01</td>\n",
       "      <td>-4.480774e+01</td>\n",
       "      <td>-2.836627e+00</td>\n",
       "      <td>-1.029540e+01</td>\n",
       "      <td>-2.604551e+00</td>\n",
       "      <td>-2.256568e+01</td>\n",
       "      <td>-1.543008e+01</td>\n",
       "      <td>0.000000</td>\n",
       "      <td>0.000000</td>\n",
       "    </tr>\n",
       "    <tr>\n",
       "      <td>25%</td>\n",
       "      <td>54201.500000</td>\n",
       "      <td>-9.203734e-01</td>\n",
       "      <td>-5.985499e-01</td>\n",
       "      <td>-8.903648e-01</td>\n",
       "      <td>-8.486401e-01</td>\n",
       "      <td>-6.915971e-01</td>\n",
       "      <td>-7.682956e-01</td>\n",
       "      <td>-5.540759e-01</td>\n",
       "      <td>-2.086297e-01</td>\n",
       "      <td>-6.430976e-01</td>\n",
       "      <td>...</td>\n",
       "      <td>-2.283949e-01</td>\n",
       "      <td>-5.423504e-01</td>\n",
       "      <td>-1.618463e-01</td>\n",
       "      <td>-3.545861e-01</td>\n",
       "      <td>-3.171451e-01</td>\n",
       "      <td>-3.269839e-01</td>\n",
       "      <td>-7.083953e-02</td>\n",
       "      <td>-5.295979e-02</td>\n",
       "      <td>5.600000</td>\n",
       "      <td>0.000000</td>\n",
       "    </tr>\n",
       "    <tr>\n",
       "      <td>50%</td>\n",
       "      <td>84692.000000</td>\n",
       "      <td>1.810880e-02</td>\n",
       "      <td>6.548556e-02</td>\n",
       "      <td>1.798463e-01</td>\n",
       "      <td>-1.984653e-02</td>\n",
       "      <td>-5.433583e-02</td>\n",
       "      <td>-2.741871e-01</td>\n",
       "      <td>4.010308e-02</td>\n",
       "      <td>2.235804e-02</td>\n",
       "      <td>-5.142873e-02</td>\n",
       "      <td>...</td>\n",
       "      <td>-2.945017e-02</td>\n",
       "      <td>6.781943e-03</td>\n",
       "      <td>-1.119293e-02</td>\n",
       "      <td>4.097606e-02</td>\n",
       "      <td>1.659350e-02</td>\n",
       "      <td>-5.213911e-02</td>\n",
       "      <td>1.342146e-03</td>\n",
       "      <td>1.124383e-02</td>\n",
       "      <td>22.000000</td>\n",
       "      <td>0.000000</td>\n",
       "    </tr>\n",
       "    <tr>\n",
       "      <td>75%</td>\n",
       "      <td>139320.500000</td>\n",
       "      <td>1.315642e+00</td>\n",
       "      <td>8.037239e-01</td>\n",
       "      <td>1.027196e+00</td>\n",
       "      <td>7.433413e-01</td>\n",
       "      <td>6.119264e-01</td>\n",
       "      <td>3.985649e-01</td>\n",
       "      <td>5.704361e-01</td>\n",
       "      <td>3.273459e-01</td>\n",
       "      <td>5.971390e-01</td>\n",
       "      <td>...</td>\n",
       "      <td>1.863772e-01</td>\n",
       "      <td>5.285536e-01</td>\n",
       "      <td>1.476421e-01</td>\n",
       "      <td>4.395266e-01</td>\n",
       "      <td>3.507156e-01</td>\n",
       "      <td>2.409522e-01</td>\n",
       "      <td>9.104512e-02</td>\n",
       "      <td>7.827995e-02</td>\n",
       "      <td>77.165000</td>\n",
       "      <td>0.000000</td>\n",
       "    </tr>\n",
       "    <tr>\n",
       "      <td>max</td>\n",
       "      <td>172792.000000</td>\n",
       "      <td>2.454930e+00</td>\n",
       "      <td>2.205773e+01</td>\n",
       "      <td>9.382558e+00</td>\n",
       "      <td>1.687534e+01</td>\n",
       "      <td>3.480167e+01</td>\n",
       "      <td>7.330163e+01</td>\n",
       "      <td>1.205895e+02</td>\n",
       "      <td>2.000721e+01</td>\n",
       "      <td>1.559499e+01</td>\n",
       "      <td>...</td>\n",
       "      <td>2.720284e+01</td>\n",
       "      <td>1.050309e+01</td>\n",
       "      <td>2.252841e+01</td>\n",
       "      <td>4.584549e+00</td>\n",
       "      <td>7.519589e+00</td>\n",
       "      <td>3.517346e+00</td>\n",
       "      <td>3.161220e+01</td>\n",
       "      <td>3.384781e+01</td>\n",
       "      <td>25691.160000</td>\n",
       "      <td>1.000000</td>\n",
       "    </tr>\n",
       "  </tbody>\n",
       "</table>\n",
       "<p>8 rows × 31 columns</p>\n",
       "</div>"
      ],
      "text/plain": [
       "                Time            V1            V2            V3            V4  \\\n",
       "count  284807.000000  2.848070e+05  2.848070e+05  2.848070e+05  2.848070e+05   \n",
       "mean    94813.859575  3.919560e-15  5.688174e-16 -8.769071e-15  2.782312e-15   \n",
       "std     47488.145955  1.958696e+00  1.651309e+00  1.516255e+00  1.415869e+00   \n",
       "min         0.000000 -5.640751e+01 -7.271573e+01 -4.832559e+01 -5.683171e+00   \n",
       "25%     54201.500000 -9.203734e-01 -5.985499e-01 -8.903648e-01 -8.486401e-01   \n",
       "50%     84692.000000  1.810880e-02  6.548556e-02  1.798463e-01 -1.984653e-02   \n",
       "75%    139320.500000  1.315642e+00  8.037239e-01  1.027196e+00  7.433413e-01   \n",
       "max    172792.000000  2.454930e+00  2.205773e+01  9.382558e+00  1.687534e+01   \n",
       "\n",
       "                 V5            V6            V7            V8            V9  \\\n",
       "count  2.848070e+05  2.848070e+05  2.848070e+05  2.848070e+05  2.848070e+05   \n",
       "mean  -1.552563e-15  2.010663e-15 -1.694249e-15 -1.927028e-16 -3.137024e-15   \n",
       "std    1.380247e+00  1.332271e+00  1.237094e+00  1.194353e+00  1.098632e+00   \n",
       "min   -1.137433e+02 -2.616051e+01 -4.355724e+01 -7.321672e+01 -1.343407e+01   \n",
       "25%   -6.915971e-01 -7.682956e-01 -5.540759e-01 -2.086297e-01 -6.430976e-01   \n",
       "50%   -5.433583e-02 -2.741871e-01  4.010308e-02  2.235804e-02 -5.142873e-02   \n",
       "75%    6.119264e-01  3.985649e-01  5.704361e-01  3.273459e-01  5.971390e-01   \n",
       "max    3.480167e+01  7.330163e+01  1.205895e+02  2.000721e+01  1.559499e+01   \n",
       "\n",
       "       ...           V21           V22           V23           V24  \\\n",
       "count  ...  2.848070e+05  2.848070e+05  2.848070e+05  2.848070e+05   \n",
       "mean   ...  1.537294e-16  7.959909e-16  5.367590e-16  4.458112e-15   \n",
       "std    ...  7.345240e-01  7.257016e-01  6.244603e-01  6.056471e-01   \n",
       "min    ... -3.483038e+01 -1.093314e+01 -4.480774e+01 -2.836627e+00   \n",
       "25%    ... -2.283949e-01 -5.423504e-01 -1.618463e-01 -3.545861e-01   \n",
       "50%    ... -2.945017e-02  6.781943e-03 -1.119293e-02  4.097606e-02   \n",
       "75%    ...  1.863772e-01  5.285536e-01  1.476421e-01  4.395266e-01   \n",
       "max    ...  2.720284e+01  1.050309e+01  2.252841e+01  4.584549e+00   \n",
       "\n",
       "                V25           V26           V27           V28         Amount  \\\n",
       "count  2.848070e+05  2.848070e+05  2.848070e+05  2.848070e+05  284807.000000   \n",
       "mean   1.453003e-15  1.699104e-15 -3.660161e-16 -1.206049e-16      88.349619   \n",
       "std    5.212781e-01  4.822270e-01  4.036325e-01  3.300833e-01     250.120109   \n",
       "min   -1.029540e+01 -2.604551e+00 -2.256568e+01 -1.543008e+01       0.000000   \n",
       "25%   -3.171451e-01 -3.269839e-01 -7.083953e-02 -5.295979e-02       5.600000   \n",
       "50%    1.659350e-02 -5.213911e-02  1.342146e-03  1.124383e-02      22.000000   \n",
       "75%    3.507156e-01  2.409522e-01  9.104512e-02  7.827995e-02      77.165000   \n",
       "max    7.519589e+00  3.517346e+00  3.161220e+01  3.384781e+01   25691.160000   \n",
       "\n",
       "               Class  \n",
       "count  284807.000000  \n",
       "mean        0.001727  \n",
       "std         0.041527  \n",
       "min         0.000000  \n",
       "25%         0.000000  \n",
       "50%         0.000000  \n",
       "75%         0.000000  \n",
       "max         1.000000  \n",
       "\n",
       "[8 rows x 31 columns]"
      ]
     },
     "execution_count": 27,
     "metadata": {},
     "output_type": "execute_result"
    }
   ],
   "source": [
    "df.describe()"
   ]
  },
  {
   "cell_type": "markdown",
   "metadata": {
    "id": "HwjTdMuJgU4O"
   },
   "source": [
    "### 5.2 Pré-processamento dos dados\n",
    "\n",
    "Para pré-processador os dados temos que fazer uma análise cuidadosa de cada característica (coluna) individualmente. Contudo, vamos realizar uma análise bastante simplificada, pois analisar dados não é o objetivo dessa aula.\n",
    "\n",
    "Analisando cada uma das colunas de características temos que:\n",
    "\n",
    "1. A primeira coluna, de nome \"Time\", não parece ter nenhuma informação relevante, assim, podemos tirá-la dos dados;\n",
    "\n",
    "\n",
    "2. As colunas de nomes \"V1\" a \"V28\" são valores reais que variam de negativo a positivo e todas possuem média praticamente igual a 0 e desvio padrão igual a 1. Então vamos deixá-las como estão mesmo que alguns valores sejam da ordem de $10^1$.\n",
    "\n",
    "\n",
    "3. A coluna \"Amount\" possui somente valores positivos, então podemos simplesmente dividi-la pelo seu valor máximo ou pelo seu desvio padrão.\n",
    "\n",
    "Podemos realizar o pré-processamento dos dados previamente, ou podemos realizar esse processsamento ao obter os lotes de dados durante o treinamento $\\to$ nesse exemplo vamos realizar o pré-processamento com o Pandas."
   ]
  },
  {
   "cell_type": "markdown",
   "metadata": {
    "id": "wVozDnfSgU4O"
   },
   "source": [
    "#### Embaralhamento aleatório dos dados\n",
    "\n",
    "Para evitar qualquer tendência existente nos dados vamos embaralhá-los aleatóriamente."
   ]
  },
  {
   "cell_type": "code",
   "execution_count": 28,
   "metadata": {
    "colab": {
     "base_uri": "https://localhost:8080/",
     "height": 426
    },
    "id": "CN5RZwc7gU4O",
    "outputId": "11936b6f-f304-4099-b7a2-d92444d0239f"
   },
   "outputs": [
    {
     "data": {
      "text/html": [
       "<div>\n",
       "<style scoped>\n",
       "    .dataframe tbody tr th:only-of-type {\n",
       "        vertical-align: middle;\n",
       "    }\n",
       "\n",
       "    .dataframe tbody tr th {\n",
       "        vertical-align: top;\n",
       "    }\n",
       "\n",
       "    .dataframe thead th {\n",
       "        text-align: right;\n",
       "    }\n",
       "</style>\n",
       "<table border=\"1\" class=\"dataframe\">\n",
       "  <thead>\n",
       "    <tr style=\"text-align: right;\">\n",
       "      <th></th>\n",
       "      <th>Time</th>\n",
       "      <th>V1</th>\n",
       "      <th>V2</th>\n",
       "      <th>V3</th>\n",
       "      <th>V4</th>\n",
       "      <th>V5</th>\n",
       "      <th>V6</th>\n",
       "      <th>V7</th>\n",
       "      <th>V8</th>\n",
       "      <th>V9</th>\n",
       "      <th>...</th>\n",
       "      <th>V21</th>\n",
       "      <th>V22</th>\n",
       "      <th>V23</th>\n",
       "      <th>V24</th>\n",
       "      <th>V25</th>\n",
       "      <th>V26</th>\n",
       "      <th>V27</th>\n",
       "      <th>V28</th>\n",
       "      <th>Amount</th>\n",
       "      <th>Class</th>\n",
       "    </tr>\n",
       "  </thead>\n",
       "  <tbody>\n",
       "    <tr>\n",
       "      <td>85129</td>\n",
       "      <td>60619.0</td>\n",
       "      <td>-4.263879</td>\n",
       "      <td>1.531533</td>\n",
       "      <td>-0.881850</td>\n",
       "      <td>0.369056</td>\n",
       "      <td>-0.514140</td>\n",
       "      <td>-1.594743</td>\n",
       "      <td>-0.101346</td>\n",
       "      <td>1.193836</td>\n",
       "      <td>-0.849638</td>\n",
       "      <td>...</td>\n",
       "      <td>0.108703</td>\n",
       "      <td>-0.079921</td>\n",
       "      <td>-1.095747</td>\n",
       "      <td>0.480455</td>\n",
       "      <td>0.808549</td>\n",
       "      <td>-0.496222</td>\n",
       "      <td>-1.095475</td>\n",
       "      <td>-0.877064</td>\n",
       "      <td>2.69</td>\n",
       "      <td>0</td>\n",
       "    </tr>\n",
       "    <tr>\n",
       "      <td>252207</td>\n",
       "      <td>155697.0</td>\n",
       "      <td>1.969242</td>\n",
       "      <td>0.678002</td>\n",
       "      <td>-1.014505</td>\n",
       "      <td>3.566441</td>\n",
       "      <td>0.837346</td>\n",
       "      <td>0.035869</td>\n",
       "      <td>0.326780</td>\n",
       "      <td>-0.163696</td>\n",
       "      <td>-1.227127</td>\n",
       "      <td>...</td>\n",
       "      <td>0.218127</td>\n",
       "      <td>0.626940</td>\n",
       "      <td>0.062197</td>\n",
       "      <td>0.581720</td>\n",
       "      <td>0.192720</td>\n",
       "      <td>0.106373</td>\n",
       "      <td>-0.047759</td>\n",
       "      <td>-0.045136</td>\n",
       "      <td>7.53</td>\n",
       "      <td>0</td>\n",
       "    </tr>\n",
       "    <tr>\n",
       "      <td>115023</td>\n",
       "      <td>73720.0</td>\n",
       "      <td>-1.369214</td>\n",
       "      <td>1.433765</td>\n",
       "      <td>1.251207</td>\n",
       "      <td>-0.486622</td>\n",
       "      <td>0.260683</td>\n",
       "      <td>0.321789</td>\n",
       "      <td>0.582015</td>\n",
       "      <td>0.210786</td>\n",
       "      <td>0.333815</td>\n",
       "      <td>...</td>\n",
       "      <td>-0.301539</td>\n",
       "      <td>-0.359479</td>\n",
       "      <td>0.041979</td>\n",
       "      <td>-0.337050</td>\n",
       "      <td>-0.208764</td>\n",
       "      <td>0.104767</td>\n",
       "      <td>0.541115</td>\n",
       "      <td>0.149693</td>\n",
       "      <td>8.98</td>\n",
       "      <td>0</td>\n",
       "    </tr>\n",
       "    <tr>\n",
       "      <td>51618</td>\n",
       "      <td>45040.0</td>\n",
       "      <td>-0.844695</td>\n",
       "      <td>1.118401</td>\n",
       "      <td>1.017805</td>\n",
       "      <td>-0.155149</td>\n",
       "      <td>0.267244</td>\n",
       "      <td>-0.550155</td>\n",
       "      <td>0.537968</td>\n",
       "      <td>0.072987</td>\n",
       "      <td>-0.334224</td>\n",
       "      <td>...</td>\n",
       "      <td>-0.272191</td>\n",
       "      <td>-0.658426</td>\n",
       "      <td>0.062159</td>\n",
       "      <td>-0.056504</td>\n",
       "      <td>-0.081114</td>\n",
       "      <td>0.074103</td>\n",
       "      <td>0.244079</td>\n",
       "      <td>0.128198</td>\n",
       "      <td>4.49</td>\n",
       "      <td>0</td>\n",
       "    </tr>\n",
       "    <tr>\n",
       "      <td>261545</td>\n",
       "      <td>160067.0</td>\n",
       "      <td>1.993847</td>\n",
       "      <td>-0.055200</td>\n",
       "      <td>-0.419167</td>\n",
       "      <td>1.162541</td>\n",
       "      <td>-0.156547</td>\n",
       "      <td>-0.006745</td>\n",
       "      <td>-0.477176</td>\n",
       "      <td>-0.008400</td>\n",
       "      <td>0.769874</td>\n",
       "      <td>...</td>\n",
       "      <td>0.212646</td>\n",
       "      <td>0.789730</td>\n",
       "      <td>0.142122</td>\n",
       "      <td>0.584253</td>\n",
       "      <td>-0.009863</td>\n",
       "      <td>-0.587657</td>\n",
       "      <td>0.058732</td>\n",
       "      <td>-0.023721</td>\n",
       "      <td>1.00</td>\n",
       "      <td>0</td>\n",
       "    </tr>\n",
       "    <tr>\n",
       "      <td>...</td>\n",
       "      <td>...</td>\n",
       "      <td>...</td>\n",
       "      <td>...</td>\n",
       "      <td>...</td>\n",
       "      <td>...</td>\n",
       "      <td>...</td>\n",
       "      <td>...</td>\n",
       "      <td>...</td>\n",
       "      <td>...</td>\n",
       "      <td>...</td>\n",
       "      <td>...</td>\n",
       "      <td>...</td>\n",
       "      <td>...</td>\n",
       "      <td>...</td>\n",
       "      <td>...</td>\n",
       "      <td>...</td>\n",
       "      <td>...</td>\n",
       "      <td>...</td>\n",
       "      <td>...</td>\n",
       "      <td>...</td>\n",
       "      <td>...</td>\n",
       "    </tr>\n",
       "    <tr>\n",
       "      <td>1214</td>\n",
       "      <td>939.0</td>\n",
       "      <td>-0.334479</td>\n",
       "      <td>0.226390</td>\n",
       "      <td>1.970052</td>\n",
       "      <td>1.813235</td>\n",
       "      <td>-0.308007</td>\n",
       "      <td>-0.046253</td>\n",
       "      <td>0.126702</td>\n",
       "      <td>-0.203989</td>\n",
       "      <td>0.316727</td>\n",
       "      <td>...</td>\n",
       "      <td>0.146153</td>\n",
       "      <td>0.900969</td>\n",
       "      <td>-0.210252</td>\n",
       "      <td>0.460403</td>\n",
       "      <td>-0.305401</td>\n",
       "      <td>-0.091483</td>\n",
       "      <td>-0.050375</td>\n",
       "      <td>-0.150339</td>\n",
       "      <td>64.50</td>\n",
       "      <td>0</td>\n",
       "    </tr>\n",
       "    <tr>\n",
       "      <td>32063</td>\n",
       "      <td>36623.0</td>\n",
       "      <td>1.323817</td>\n",
       "      <td>-0.859510</td>\n",
       "      <td>1.198582</td>\n",
       "      <td>-0.346080</td>\n",
       "      <td>-1.783544</td>\n",
       "      <td>-0.399575</td>\n",
       "      <td>-1.168795</td>\n",
       "      <td>0.093311</td>\n",
       "      <td>0.122400</td>\n",
       "      <td>...</td>\n",
       "      <td>-0.491773</td>\n",
       "      <td>-0.805212</td>\n",
       "      <td>0.156814</td>\n",
       "      <td>0.398901</td>\n",
       "      <td>-0.028284</td>\n",
       "      <td>0.963086</td>\n",
       "      <td>-0.012312</td>\n",
       "      <td>0.019683</td>\n",
       "      <td>7.55</td>\n",
       "      <td>0</td>\n",
       "    </tr>\n",
       "    <tr>\n",
       "      <td>39650</td>\n",
       "      <td>39913.0</td>\n",
       "      <td>-1.356966</td>\n",
       "      <td>-4.949006</td>\n",
       "      <td>-0.577724</td>\n",
       "      <td>-0.226900</td>\n",
       "      <td>-2.865498</td>\n",
       "      <td>-0.277220</td>\n",
       "      <td>0.872936</td>\n",
       "      <td>-0.162877</td>\n",
       "      <td>1.795679</td>\n",
       "      <td>...</td>\n",
       "      <td>0.963005</td>\n",
       "      <td>-0.109074</td>\n",
       "      <td>-1.241825</td>\n",
       "      <td>0.639999</td>\n",
       "      <td>-0.123270</td>\n",
       "      <td>-0.051770</td>\n",
       "      <td>-0.221688</td>\n",
       "      <td>0.242943</td>\n",
       "      <td>1334.00</td>\n",
       "      <td>0</td>\n",
       "    </tr>\n",
       "    <tr>\n",
       "      <td>142035</td>\n",
       "      <td>84556.0</td>\n",
       "      <td>-1.193074</td>\n",
       "      <td>1.788381</td>\n",
       "      <td>1.263928</td>\n",
       "      <td>2.175369</td>\n",
       "      <td>-0.444923</td>\n",
       "      <td>-0.075733</td>\n",
       "      <td>0.003887</td>\n",
       "      <td>0.802215</td>\n",
       "      <td>-1.274251</td>\n",
       "      <td>...</td>\n",
       "      <td>0.117001</td>\n",
       "      <td>0.243881</td>\n",
       "      <td>-0.146728</td>\n",
       "      <td>0.424643</td>\n",
       "      <td>0.242298</td>\n",
       "      <td>0.023849</td>\n",
       "      <td>-0.313478</td>\n",
       "      <td>-0.065787</td>\n",
       "      <td>11.35</td>\n",
       "      <td>0</td>\n",
       "    </tr>\n",
       "    <tr>\n",
       "      <td>28740</td>\n",
       "      <td>35135.0</td>\n",
       "      <td>-0.563180</td>\n",
       "      <td>1.131079</td>\n",
       "      <td>1.240222</td>\n",
       "      <td>0.006803</td>\n",
       "      <td>0.317145</td>\n",
       "      <td>-0.511428</td>\n",
       "      <td>0.680701</td>\n",
       "      <td>-0.023212</td>\n",
       "      <td>-0.463070</td>\n",
       "      <td>...</td>\n",
       "      <td>-0.213678</td>\n",
       "      <td>-0.494878</td>\n",
       "      <td>0.077872</td>\n",
       "      <td>0.045508</td>\n",
       "      <td>-0.197608</td>\n",
       "      <td>0.088561</td>\n",
       "      <td>0.142364</td>\n",
       "      <td>0.086743</td>\n",
       "      <td>4.99</td>\n",
       "      <td>0</td>\n",
       "    </tr>\n",
       "  </tbody>\n",
       "</table>\n",
       "<p>284807 rows × 31 columns</p>\n",
       "</div>"
      ],
      "text/plain": [
       "            Time        V1        V2        V3        V4        V5        V6  \\\n",
       "85129    60619.0 -4.263879  1.531533 -0.881850  0.369056 -0.514140 -1.594743   \n",
       "252207  155697.0  1.969242  0.678002 -1.014505  3.566441  0.837346  0.035869   \n",
       "115023   73720.0 -1.369214  1.433765  1.251207 -0.486622  0.260683  0.321789   \n",
       "51618    45040.0 -0.844695  1.118401  1.017805 -0.155149  0.267244 -0.550155   \n",
       "261545  160067.0  1.993847 -0.055200 -0.419167  1.162541 -0.156547 -0.006745   \n",
       "...          ...       ...       ...       ...       ...       ...       ...   \n",
       "1214       939.0 -0.334479  0.226390  1.970052  1.813235 -0.308007 -0.046253   \n",
       "32063    36623.0  1.323817 -0.859510  1.198582 -0.346080 -1.783544 -0.399575   \n",
       "39650    39913.0 -1.356966 -4.949006 -0.577724 -0.226900 -2.865498 -0.277220   \n",
       "142035   84556.0 -1.193074  1.788381  1.263928  2.175369 -0.444923 -0.075733   \n",
       "28740    35135.0 -0.563180  1.131079  1.240222  0.006803  0.317145 -0.511428   \n",
       "\n",
       "              V7        V8        V9  ...       V21       V22       V23  \\\n",
       "85129  -0.101346  1.193836 -0.849638  ...  0.108703 -0.079921 -1.095747   \n",
       "252207  0.326780 -0.163696 -1.227127  ...  0.218127  0.626940  0.062197   \n",
       "115023  0.582015  0.210786  0.333815  ... -0.301539 -0.359479  0.041979   \n",
       "51618   0.537968  0.072987 -0.334224  ... -0.272191 -0.658426  0.062159   \n",
       "261545 -0.477176 -0.008400  0.769874  ...  0.212646  0.789730  0.142122   \n",
       "...          ...       ...       ...  ...       ...       ...       ...   \n",
       "1214    0.126702 -0.203989  0.316727  ...  0.146153  0.900969 -0.210252   \n",
       "32063  -1.168795  0.093311  0.122400  ... -0.491773 -0.805212  0.156814   \n",
       "39650   0.872936 -0.162877  1.795679  ...  0.963005 -0.109074 -1.241825   \n",
       "142035  0.003887  0.802215 -1.274251  ...  0.117001  0.243881 -0.146728   \n",
       "28740   0.680701 -0.023212 -0.463070  ... -0.213678 -0.494878  0.077872   \n",
       "\n",
       "             V24       V25       V26       V27       V28   Amount  Class  \n",
       "85129   0.480455  0.808549 -0.496222 -1.095475 -0.877064     2.69      0  \n",
       "252207  0.581720  0.192720  0.106373 -0.047759 -0.045136     7.53      0  \n",
       "115023 -0.337050 -0.208764  0.104767  0.541115  0.149693     8.98      0  \n",
       "51618  -0.056504 -0.081114  0.074103  0.244079  0.128198     4.49      0  \n",
       "261545  0.584253 -0.009863 -0.587657  0.058732 -0.023721     1.00      0  \n",
       "...          ...       ...       ...       ...       ...      ...    ...  \n",
       "1214    0.460403 -0.305401 -0.091483 -0.050375 -0.150339    64.50      0  \n",
       "32063   0.398901 -0.028284  0.963086 -0.012312  0.019683     7.55      0  \n",
       "39650   0.639999 -0.123270 -0.051770 -0.221688  0.242943  1334.00      0  \n",
       "142035  0.424643  0.242298  0.023849 -0.313478 -0.065787    11.35      0  \n",
       "28740   0.045508 -0.197608  0.088561  0.142364  0.086743     4.99      0  \n",
       "\n",
       "[284807 rows x 31 columns]"
      ]
     },
     "execution_count": 28,
     "metadata": {},
     "output_type": "execute_result"
    }
   ],
   "source": [
    "df_shuffled=df.sample(frac=1)\n",
    "df_shuffled"
   ]
  },
  {
   "cell_type": "markdown",
   "metadata": {
    "id": "y348_AbBgU4O"
   },
   "source": [
    "#### Separar as saídas desejadas\n",
    "\n",
    "Se vamos criar um Dataset a partir de um DataFrame Pandas devemos separar as entradas das saídas."
   ]
  },
  {
   "cell_type": "code",
   "execution_count": 29,
   "metadata": {
    "colab": {
     "base_uri": "https://localhost:8080/"
    },
    "id": "NKlc8P-cgU4O",
    "outputId": "48a5664b-a978-4f3b-896e-7b12250efa2d"
   },
   "outputs": [
    {
     "data": {
      "text/plain": [
       "85129     0\n",
       "252207    0\n",
       "115023    0\n",
       "51618     0\n",
       "261545    0\n",
       "         ..\n",
       "1214      0\n",
       "32063     0\n",
       "39650     0\n",
       "142035    0\n",
       "28740     0\n",
       "Name: Class, Length: 284807, dtype: int64"
      ]
     },
     "execution_count": 29,
     "metadata": {},
     "output_type": "execute_result"
    }
   ],
   "source": [
    "# Separa o vetor de saídas desejadas\n",
    "y = df_shuffled.Class\n",
    "y"
   ]
  },
  {
   "cell_type": "markdown",
   "metadata": {
    "id": "mf9mvgDegU4P"
   },
   "source": [
    "#### Remover as colunas desnecessárias\n",
    "\n",
    "Tendo o vetor de saídas desejadas, agora devemos remover as colunas \"Time\", que não tem informação nenhuma, e a coluna das saídas (\"Class\")."
   ]
  },
  {
   "cell_type": "code",
   "execution_count": 30,
   "metadata": {
    "colab": {
     "base_uri": "https://localhost:8080/",
     "height": 426
    },
    "id": "xpnra0sygU4P",
    "outputId": "df195e4f-aa86-4914-fe73-08212c3607ee"
   },
   "outputs": [
    {
     "data": {
      "text/html": [
       "<div>\n",
       "<style scoped>\n",
       "    .dataframe tbody tr th:only-of-type {\n",
       "        vertical-align: middle;\n",
       "    }\n",
       "\n",
       "    .dataframe tbody tr th {\n",
       "        vertical-align: top;\n",
       "    }\n",
       "\n",
       "    .dataframe thead th {\n",
       "        text-align: right;\n",
       "    }\n",
       "</style>\n",
       "<table border=\"1\" class=\"dataframe\">\n",
       "  <thead>\n",
       "    <tr style=\"text-align: right;\">\n",
       "      <th></th>\n",
       "      <th>V1</th>\n",
       "      <th>V2</th>\n",
       "      <th>V3</th>\n",
       "      <th>V4</th>\n",
       "      <th>V5</th>\n",
       "      <th>V6</th>\n",
       "      <th>V7</th>\n",
       "      <th>V8</th>\n",
       "      <th>V9</th>\n",
       "      <th>V10</th>\n",
       "      <th>...</th>\n",
       "      <th>V20</th>\n",
       "      <th>V21</th>\n",
       "      <th>V22</th>\n",
       "      <th>V23</th>\n",
       "      <th>V24</th>\n",
       "      <th>V25</th>\n",
       "      <th>V26</th>\n",
       "      <th>V27</th>\n",
       "      <th>V28</th>\n",
       "      <th>Amount</th>\n",
       "    </tr>\n",
       "  </thead>\n",
       "  <tbody>\n",
       "    <tr>\n",
       "      <td>85129</td>\n",
       "      <td>-4.263879</td>\n",
       "      <td>1.531533</td>\n",
       "      <td>-0.881850</td>\n",
       "      <td>0.369056</td>\n",
       "      <td>-0.514140</td>\n",
       "      <td>-1.594743</td>\n",
       "      <td>-0.101346</td>\n",
       "      <td>1.193836</td>\n",
       "      <td>-0.849638</td>\n",
       "      <td>-0.380547</td>\n",
       "      <td>...</td>\n",
       "      <td>-0.446457</td>\n",
       "      <td>0.108703</td>\n",
       "      <td>-0.079921</td>\n",
       "      <td>-1.095747</td>\n",
       "      <td>0.480455</td>\n",
       "      <td>0.808549</td>\n",
       "      <td>-0.496222</td>\n",
       "      <td>-1.095475</td>\n",
       "      <td>-0.877064</td>\n",
       "      <td>2.69</td>\n",
       "    </tr>\n",
       "    <tr>\n",
       "      <td>252207</td>\n",
       "      <td>1.969242</td>\n",
       "      <td>0.678002</td>\n",
       "      <td>-1.014505</td>\n",
       "      <td>3.566441</td>\n",
       "      <td>0.837346</td>\n",
       "      <td>0.035869</td>\n",
       "      <td>0.326780</td>\n",
       "      <td>-0.163696</td>\n",
       "      <td>-1.227127</td>\n",
       "      <td>1.522018</td>\n",
       "      <td>...</td>\n",
       "      <td>-0.207333</td>\n",
       "      <td>0.218127</td>\n",
       "      <td>0.626940</td>\n",
       "      <td>0.062197</td>\n",
       "      <td>0.581720</td>\n",
       "      <td>0.192720</td>\n",
       "      <td>0.106373</td>\n",
       "      <td>-0.047759</td>\n",
       "      <td>-0.045136</td>\n",
       "      <td>7.53</td>\n",
       "    </tr>\n",
       "    <tr>\n",
       "      <td>115023</td>\n",
       "      <td>-1.369214</td>\n",
       "      <td>1.433765</td>\n",
       "      <td>1.251207</td>\n",
       "      <td>-0.486622</td>\n",
       "      <td>0.260683</td>\n",
       "      <td>0.321789</td>\n",
       "      <td>0.582015</td>\n",
       "      <td>0.210786</td>\n",
       "      <td>0.333815</td>\n",
       "      <td>1.228397</td>\n",
       "      <td>...</td>\n",
       "      <td>0.585544</td>\n",
       "      <td>-0.301539</td>\n",
       "      <td>-0.359479</td>\n",
       "      <td>0.041979</td>\n",
       "      <td>-0.337050</td>\n",
       "      <td>-0.208764</td>\n",
       "      <td>0.104767</td>\n",
       "      <td>0.541115</td>\n",
       "      <td>0.149693</td>\n",
       "      <td>8.98</td>\n",
       "    </tr>\n",
       "    <tr>\n",
       "      <td>51618</td>\n",
       "      <td>-0.844695</td>\n",
       "      <td>1.118401</td>\n",
       "      <td>1.017805</td>\n",
       "      <td>-0.155149</td>\n",
       "      <td>0.267244</td>\n",
       "      <td>-0.550155</td>\n",
       "      <td>0.537968</td>\n",
       "      <td>0.072987</td>\n",
       "      <td>-0.334224</td>\n",
       "      <td>0.093294</td>\n",
       "      <td>...</td>\n",
       "      <td>0.176013</td>\n",
       "      <td>-0.272191</td>\n",
       "      <td>-0.658426</td>\n",
       "      <td>0.062159</td>\n",
       "      <td>-0.056504</td>\n",
       "      <td>-0.081114</td>\n",
       "      <td>0.074103</td>\n",
       "      <td>0.244079</td>\n",
       "      <td>0.128198</td>\n",
       "      <td>4.49</td>\n",
       "    </tr>\n",
       "    <tr>\n",
       "      <td>261545</td>\n",
       "      <td>1.993847</td>\n",
       "      <td>-0.055200</td>\n",
       "      <td>-0.419167</td>\n",
       "      <td>1.162541</td>\n",
       "      <td>-0.156547</td>\n",
       "      <td>-0.006745</td>\n",
       "      <td>-0.477176</td>\n",
       "      <td>-0.008400</td>\n",
       "      <td>0.769874</td>\n",
       "      <td>0.193681</td>\n",
       "      <td>...</td>\n",
       "      <td>-0.165150</td>\n",
       "      <td>0.212646</td>\n",
       "      <td>0.789730</td>\n",
       "      <td>0.142122</td>\n",
       "      <td>0.584253</td>\n",
       "      <td>-0.009863</td>\n",
       "      <td>-0.587657</td>\n",
       "      <td>0.058732</td>\n",
       "      <td>-0.023721</td>\n",
       "      <td>1.00</td>\n",
       "    </tr>\n",
       "    <tr>\n",
       "      <td>...</td>\n",
       "      <td>...</td>\n",
       "      <td>...</td>\n",
       "      <td>...</td>\n",
       "      <td>...</td>\n",
       "      <td>...</td>\n",
       "      <td>...</td>\n",
       "      <td>...</td>\n",
       "      <td>...</td>\n",
       "      <td>...</td>\n",
       "      <td>...</td>\n",
       "      <td>...</td>\n",
       "      <td>...</td>\n",
       "      <td>...</td>\n",
       "      <td>...</td>\n",
       "      <td>...</td>\n",
       "      <td>...</td>\n",
       "      <td>...</td>\n",
       "      <td>...</td>\n",
       "      <td>...</td>\n",
       "      <td>...</td>\n",
       "      <td>...</td>\n",
       "    </tr>\n",
       "    <tr>\n",
       "      <td>1214</td>\n",
       "      <td>-0.334479</td>\n",
       "      <td>0.226390</td>\n",
       "      <td>1.970052</td>\n",
       "      <td>1.813235</td>\n",
       "      <td>-0.308007</td>\n",
       "      <td>-0.046253</td>\n",
       "      <td>0.126702</td>\n",
       "      <td>-0.203989</td>\n",
       "      <td>0.316727</td>\n",
       "      <td>0.242608</td>\n",
       "      <td>...</td>\n",
       "      <td>0.133574</td>\n",
       "      <td>0.146153</td>\n",
       "      <td>0.900969</td>\n",
       "      <td>-0.210252</td>\n",
       "      <td>0.460403</td>\n",
       "      <td>-0.305401</td>\n",
       "      <td>-0.091483</td>\n",
       "      <td>-0.050375</td>\n",
       "      <td>-0.150339</td>\n",
       "      <td>64.50</td>\n",
       "    </tr>\n",
       "    <tr>\n",
       "      <td>32063</td>\n",
       "      <td>1.323817</td>\n",
       "      <td>-0.859510</td>\n",
       "      <td>1.198582</td>\n",
       "      <td>-0.346080</td>\n",
       "      <td>-1.783544</td>\n",
       "      <td>-0.399575</td>\n",
       "      <td>-1.168795</td>\n",
       "      <td>0.093311</td>\n",
       "      <td>0.122400</td>\n",
       "      <td>0.513097</td>\n",
       "      <td>...</td>\n",
       "      <td>-0.541264</td>\n",
       "      <td>-0.491773</td>\n",
       "      <td>-0.805212</td>\n",
       "      <td>0.156814</td>\n",
       "      <td>0.398901</td>\n",
       "      <td>-0.028284</td>\n",
       "      <td>0.963086</td>\n",
       "      <td>-0.012312</td>\n",
       "      <td>0.019683</td>\n",
       "      <td>7.55</td>\n",
       "    </tr>\n",
       "    <tr>\n",
       "      <td>39650</td>\n",
       "      <td>-1.356966</td>\n",
       "      <td>-4.949006</td>\n",
       "      <td>-0.577724</td>\n",
       "      <td>-0.226900</td>\n",
       "      <td>-2.865498</td>\n",
       "      <td>-0.277220</td>\n",
       "      <td>0.872936</td>\n",
       "      <td>-0.162877</td>\n",
       "      <td>1.795679</td>\n",
       "      <td>-1.554730</td>\n",
       "      <td>...</td>\n",
       "      <td>2.511559</td>\n",
       "      <td>0.963005</td>\n",
       "      <td>-0.109074</td>\n",
       "      <td>-1.241825</td>\n",
       "      <td>0.639999</td>\n",
       "      <td>-0.123270</td>\n",
       "      <td>-0.051770</td>\n",
       "      <td>-0.221688</td>\n",
       "      <td>0.242943</td>\n",
       "      <td>1334.00</td>\n",
       "    </tr>\n",
       "    <tr>\n",
       "      <td>142035</td>\n",
       "      <td>-1.193074</td>\n",
       "      <td>1.788381</td>\n",
       "      <td>1.263928</td>\n",
       "      <td>2.175369</td>\n",
       "      <td>-0.444923</td>\n",
       "      <td>-0.075733</td>\n",
       "      <td>0.003887</td>\n",
       "      <td>0.802215</td>\n",
       "      <td>-1.274251</td>\n",
       "      <td>-0.314212</td>\n",
       "      <td>...</td>\n",
       "      <td>-0.262530</td>\n",
       "      <td>0.117001</td>\n",
       "      <td>0.243881</td>\n",
       "      <td>-0.146728</td>\n",
       "      <td>0.424643</td>\n",
       "      <td>0.242298</td>\n",
       "      <td>0.023849</td>\n",
       "      <td>-0.313478</td>\n",
       "      <td>-0.065787</td>\n",
       "      <td>11.35</td>\n",
       "    </tr>\n",
       "    <tr>\n",
       "      <td>28740</td>\n",
       "      <td>-0.563180</td>\n",
       "      <td>1.131079</td>\n",
       "      <td>1.240222</td>\n",
       "      <td>0.006803</td>\n",
       "      <td>0.317145</td>\n",
       "      <td>-0.511428</td>\n",
       "      <td>0.680701</td>\n",
       "      <td>-0.023212</td>\n",
       "      <td>-0.463070</td>\n",
       "      <td>-0.470285</td>\n",
       "      <td>...</td>\n",
       "      <td>0.113191</td>\n",
       "      <td>-0.213678</td>\n",
       "      <td>-0.494878</td>\n",
       "      <td>0.077872</td>\n",
       "      <td>0.045508</td>\n",
       "      <td>-0.197608</td>\n",
       "      <td>0.088561</td>\n",
       "      <td>0.142364</td>\n",
       "      <td>0.086743</td>\n",
       "      <td>4.99</td>\n",
       "    </tr>\n",
       "  </tbody>\n",
       "</table>\n",
       "<p>284807 rows × 29 columns</p>\n",
       "</div>"
      ],
      "text/plain": [
       "              V1        V2        V3        V4        V5        V6        V7  \\\n",
       "85129  -4.263879  1.531533 -0.881850  0.369056 -0.514140 -1.594743 -0.101346   \n",
       "252207  1.969242  0.678002 -1.014505  3.566441  0.837346  0.035869  0.326780   \n",
       "115023 -1.369214  1.433765  1.251207 -0.486622  0.260683  0.321789  0.582015   \n",
       "51618  -0.844695  1.118401  1.017805 -0.155149  0.267244 -0.550155  0.537968   \n",
       "261545  1.993847 -0.055200 -0.419167  1.162541 -0.156547 -0.006745 -0.477176   \n",
       "...          ...       ...       ...       ...       ...       ...       ...   \n",
       "1214   -0.334479  0.226390  1.970052  1.813235 -0.308007 -0.046253  0.126702   \n",
       "32063   1.323817 -0.859510  1.198582 -0.346080 -1.783544 -0.399575 -1.168795   \n",
       "39650  -1.356966 -4.949006 -0.577724 -0.226900 -2.865498 -0.277220  0.872936   \n",
       "142035 -1.193074  1.788381  1.263928  2.175369 -0.444923 -0.075733  0.003887   \n",
       "28740  -0.563180  1.131079  1.240222  0.006803  0.317145 -0.511428  0.680701   \n",
       "\n",
       "              V8        V9       V10  ...       V20       V21       V22  \\\n",
       "85129   1.193836 -0.849638 -0.380547  ... -0.446457  0.108703 -0.079921   \n",
       "252207 -0.163696 -1.227127  1.522018  ... -0.207333  0.218127  0.626940   \n",
       "115023  0.210786  0.333815  1.228397  ...  0.585544 -0.301539 -0.359479   \n",
       "51618   0.072987 -0.334224  0.093294  ...  0.176013 -0.272191 -0.658426   \n",
       "261545 -0.008400  0.769874  0.193681  ... -0.165150  0.212646  0.789730   \n",
       "...          ...       ...       ...  ...       ...       ...       ...   \n",
       "1214   -0.203989  0.316727  0.242608  ...  0.133574  0.146153  0.900969   \n",
       "32063   0.093311  0.122400  0.513097  ... -0.541264 -0.491773 -0.805212   \n",
       "39650  -0.162877  1.795679 -1.554730  ...  2.511559  0.963005 -0.109074   \n",
       "142035  0.802215 -1.274251 -0.314212  ... -0.262530  0.117001  0.243881   \n",
       "28740  -0.023212 -0.463070 -0.470285  ...  0.113191 -0.213678 -0.494878   \n",
       "\n",
       "             V23       V24       V25       V26       V27       V28   Amount  \n",
       "85129  -1.095747  0.480455  0.808549 -0.496222 -1.095475 -0.877064     2.69  \n",
       "252207  0.062197  0.581720  0.192720  0.106373 -0.047759 -0.045136     7.53  \n",
       "115023  0.041979 -0.337050 -0.208764  0.104767  0.541115  0.149693     8.98  \n",
       "51618   0.062159 -0.056504 -0.081114  0.074103  0.244079  0.128198     4.49  \n",
       "261545  0.142122  0.584253 -0.009863 -0.587657  0.058732 -0.023721     1.00  \n",
       "...          ...       ...       ...       ...       ...       ...      ...  \n",
       "1214   -0.210252  0.460403 -0.305401 -0.091483 -0.050375 -0.150339    64.50  \n",
       "32063   0.156814  0.398901 -0.028284  0.963086 -0.012312  0.019683     7.55  \n",
       "39650  -1.241825  0.639999 -0.123270 -0.051770 -0.221688  0.242943  1334.00  \n",
       "142035 -0.146728  0.424643  0.242298  0.023849 -0.313478 -0.065787    11.35  \n",
       "28740   0.077872  0.045508 -0.197608  0.088561  0.142364  0.086743     4.99  \n",
       "\n",
       "[284807 rows x 29 columns]"
      ]
     },
     "execution_count": 30,
     "metadata": {},
     "output_type": "execute_result"
    }
   ],
   "source": [
    "# remoção da coluna \"Time\" e da saída \n",
    "df_shuffled.drop(['Time', 'Class'], axis=1, inplace=True)\n",
    "df_shuffled"
   ]
  },
  {
   "cell_type": "markdown",
   "metadata": {
    "id": "GZmQ_TLGgU4P"
   },
   "source": [
    "#### Normalizar a coluna \"Amount\""
   ]
  },
  {
   "cell_type": "code",
   "execution_count": 33,
   "metadata": {
    "colab": {
     "base_uri": "https://localhost:8080/",
     "height": 307
    },
    "id": "6kL6MFyLgU4P",
    "outputId": "41cb5692-d6f4-4e90-dd0a-24ec99df3ae6"
   },
   "outputs": [
    {
     "data": {
      "text/html": [
       "<div>\n",
       "<style scoped>\n",
       "    .dataframe tbody tr th:only-of-type {\n",
       "        vertical-align: middle;\n",
       "    }\n",
       "\n",
       "    .dataframe tbody tr th {\n",
       "        vertical-align: top;\n",
       "    }\n",
       "\n",
       "    .dataframe thead th {\n",
       "        text-align: right;\n",
       "    }\n",
       "</style>\n",
       "<table border=\"1\" class=\"dataframe\">\n",
       "  <thead>\n",
       "    <tr style=\"text-align: right;\">\n",
       "      <th></th>\n",
       "      <th>V1</th>\n",
       "      <th>V2</th>\n",
       "      <th>V3</th>\n",
       "      <th>V4</th>\n",
       "      <th>V5</th>\n",
       "      <th>V6</th>\n",
       "      <th>V7</th>\n",
       "      <th>V8</th>\n",
       "      <th>V9</th>\n",
       "      <th>V10</th>\n",
       "      <th>...</th>\n",
       "      <th>V20</th>\n",
       "      <th>V21</th>\n",
       "      <th>V22</th>\n",
       "      <th>V23</th>\n",
       "      <th>V24</th>\n",
       "      <th>V25</th>\n",
       "      <th>V26</th>\n",
       "      <th>V27</th>\n",
       "      <th>V28</th>\n",
       "      <th>Amount</th>\n",
       "    </tr>\n",
       "  </thead>\n",
       "  <tbody>\n",
       "    <tr>\n",
       "      <td>count</td>\n",
       "      <td>2.848070e+05</td>\n",
       "      <td>2.848070e+05</td>\n",
       "      <td>2.848070e+05</td>\n",
       "      <td>2.848070e+05</td>\n",
       "      <td>2.848070e+05</td>\n",
       "      <td>2.848070e+05</td>\n",
       "      <td>2.848070e+05</td>\n",
       "      <td>2.848070e+05</td>\n",
       "      <td>2.848070e+05</td>\n",
       "      <td>2.848070e+05</td>\n",
       "      <td>...</td>\n",
       "      <td>2.848070e+05</td>\n",
       "      <td>2.848070e+05</td>\n",
       "      <td>2.848070e+05</td>\n",
       "      <td>2.848070e+05</td>\n",
       "      <td>2.848070e+05</td>\n",
       "      <td>2.848070e+05</td>\n",
       "      <td>2.848070e+05</td>\n",
       "      <td>2.848070e+05</td>\n",
       "      <td>2.848070e+05</td>\n",
       "      <td>284807.000000</td>\n",
       "    </tr>\n",
       "    <tr>\n",
       "      <td>mean</td>\n",
       "      <td>1.171056e-15</td>\n",
       "      <td>3.044930e-16</td>\n",
       "      <td>-1.412964e-15</td>\n",
       "      <td>2.100790e-15</td>\n",
       "      <td>9.964609e-16</td>\n",
       "      <td>1.495077e-15</td>\n",
       "      <td>-6.116418e-16</td>\n",
       "      <td>1.279507e-16</td>\n",
       "      <td>-2.435559e-15</td>\n",
       "      <td>2.229535e-15</td>\n",
       "      <td>...</td>\n",
       "      <td>6.458078e-16</td>\n",
       "      <td>1.524623e-16</td>\n",
       "      <td>-3.402380e-16</td>\n",
       "      <td>2.593103e-16</td>\n",
       "      <td>4.468456e-15</td>\n",
       "      <td>5.280639e-16</td>\n",
       "      <td>1.669484e-15</td>\n",
       "      <td>-3.610374e-16</td>\n",
       "      <td>-1.212174e-16</td>\n",
       "      <td>0.003439</td>\n",
       "    </tr>\n",
       "    <tr>\n",
       "      <td>std</td>\n",
       "      <td>1.958696e+00</td>\n",
       "      <td>1.651309e+00</td>\n",
       "      <td>1.516255e+00</td>\n",
       "      <td>1.415869e+00</td>\n",
       "      <td>1.380247e+00</td>\n",
       "      <td>1.332271e+00</td>\n",
       "      <td>1.237094e+00</td>\n",
       "      <td>1.194353e+00</td>\n",
       "      <td>1.098632e+00</td>\n",
       "      <td>1.088850e+00</td>\n",
       "      <td>...</td>\n",
       "      <td>7.709250e-01</td>\n",
       "      <td>7.345240e-01</td>\n",
       "      <td>7.257016e-01</td>\n",
       "      <td>6.244603e-01</td>\n",
       "      <td>6.056471e-01</td>\n",
       "      <td>5.212781e-01</td>\n",
       "      <td>4.822270e-01</td>\n",
       "      <td>4.036325e-01</td>\n",
       "      <td>3.300833e-01</td>\n",
       "      <td>0.009736</td>\n",
       "    </tr>\n",
       "    <tr>\n",
       "      <td>min</td>\n",
       "      <td>-5.640751e+01</td>\n",
       "      <td>-7.271573e+01</td>\n",
       "      <td>-4.832559e+01</td>\n",
       "      <td>-5.683171e+00</td>\n",
       "      <td>-1.137433e+02</td>\n",
       "      <td>-2.616051e+01</td>\n",
       "      <td>-4.355724e+01</td>\n",
       "      <td>-7.321672e+01</td>\n",
       "      <td>-1.343407e+01</td>\n",
       "      <td>-2.458826e+01</td>\n",
       "      <td>...</td>\n",
       "      <td>-5.449772e+01</td>\n",
       "      <td>-3.483038e+01</td>\n",
       "      <td>-1.093314e+01</td>\n",
       "      <td>-4.480774e+01</td>\n",
       "      <td>-2.836627e+00</td>\n",
       "      <td>-1.029540e+01</td>\n",
       "      <td>-2.604551e+00</td>\n",
       "      <td>-2.256568e+01</td>\n",
       "      <td>-1.543008e+01</td>\n",
       "      <td>0.000000</td>\n",
       "    </tr>\n",
       "    <tr>\n",
       "      <td>25%</td>\n",
       "      <td>-9.203734e-01</td>\n",
       "      <td>-5.985499e-01</td>\n",
       "      <td>-8.903648e-01</td>\n",
       "      <td>-8.486401e-01</td>\n",
       "      <td>-6.915971e-01</td>\n",
       "      <td>-7.682956e-01</td>\n",
       "      <td>-5.540759e-01</td>\n",
       "      <td>-2.086297e-01</td>\n",
       "      <td>-6.430976e-01</td>\n",
       "      <td>-5.354257e-01</td>\n",
       "      <td>...</td>\n",
       "      <td>-2.117214e-01</td>\n",
       "      <td>-2.283949e-01</td>\n",
       "      <td>-5.423504e-01</td>\n",
       "      <td>-1.618463e-01</td>\n",
       "      <td>-3.545861e-01</td>\n",
       "      <td>-3.171451e-01</td>\n",
       "      <td>-3.269839e-01</td>\n",
       "      <td>-7.083953e-02</td>\n",
       "      <td>-5.295979e-02</td>\n",
       "      <td>0.000218</td>\n",
       "    </tr>\n",
       "    <tr>\n",
       "      <td>50%</td>\n",
       "      <td>1.810880e-02</td>\n",
       "      <td>6.548556e-02</td>\n",
       "      <td>1.798463e-01</td>\n",
       "      <td>-1.984653e-02</td>\n",
       "      <td>-5.433583e-02</td>\n",
       "      <td>-2.741871e-01</td>\n",
       "      <td>4.010308e-02</td>\n",
       "      <td>2.235804e-02</td>\n",
       "      <td>-5.142873e-02</td>\n",
       "      <td>-9.291738e-02</td>\n",
       "      <td>...</td>\n",
       "      <td>-6.248109e-02</td>\n",
       "      <td>-2.945017e-02</td>\n",
       "      <td>6.781943e-03</td>\n",
       "      <td>-1.119293e-02</td>\n",
       "      <td>4.097606e-02</td>\n",
       "      <td>1.659350e-02</td>\n",
       "      <td>-5.213911e-02</td>\n",
       "      <td>1.342146e-03</td>\n",
       "      <td>1.124383e-02</td>\n",
       "      <td>0.000856</td>\n",
       "    </tr>\n",
       "    <tr>\n",
       "      <td>75%</td>\n",
       "      <td>1.315642e+00</td>\n",
       "      <td>8.037239e-01</td>\n",
       "      <td>1.027196e+00</td>\n",
       "      <td>7.433413e-01</td>\n",
       "      <td>6.119264e-01</td>\n",
       "      <td>3.985649e-01</td>\n",
       "      <td>5.704361e-01</td>\n",
       "      <td>3.273459e-01</td>\n",
       "      <td>5.971390e-01</td>\n",
       "      <td>4.539234e-01</td>\n",
       "      <td>...</td>\n",
       "      <td>1.330408e-01</td>\n",
       "      <td>1.863772e-01</td>\n",
       "      <td>5.285536e-01</td>\n",
       "      <td>1.476421e-01</td>\n",
       "      <td>4.395266e-01</td>\n",
       "      <td>3.507156e-01</td>\n",
       "      <td>2.409522e-01</td>\n",
       "      <td>9.104512e-02</td>\n",
       "      <td>7.827995e-02</td>\n",
       "      <td>0.003004</td>\n",
       "    </tr>\n",
       "    <tr>\n",
       "      <td>max</td>\n",
       "      <td>2.454930e+00</td>\n",
       "      <td>2.205773e+01</td>\n",
       "      <td>9.382558e+00</td>\n",
       "      <td>1.687534e+01</td>\n",
       "      <td>3.480167e+01</td>\n",
       "      <td>7.330163e+01</td>\n",
       "      <td>1.205895e+02</td>\n",
       "      <td>2.000721e+01</td>\n",
       "      <td>1.559499e+01</td>\n",
       "      <td>2.374514e+01</td>\n",
       "      <td>...</td>\n",
       "      <td>3.942090e+01</td>\n",
       "      <td>2.720284e+01</td>\n",
       "      <td>1.050309e+01</td>\n",
       "      <td>2.252841e+01</td>\n",
       "      <td>4.584549e+00</td>\n",
       "      <td>7.519589e+00</td>\n",
       "      <td>3.517346e+00</td>\n",
       "      <td>3.161220e+01</td>\n",
       "      <td>3.384781e+01</td>\n",
       "      <td>1.000000</td>\n",
       "    </tr>\n",
       "  </tbody>\n",
       "</table>\n",
       "<p>8 rows × 29 columns</p>\n",
       "</div>"
      ],
      "text/plain": [
       "                 V1            V2            V3            V4            V5  \\\n",
       "count  2.848070e+05  2.848070e+05  2.848070e+05  2.848070e+05  2.848070e+05   \n",
       "mean   1.171056e-15  3.044930e-16 -1.412964e-15  2.100790e-15  9.964609e-16   \n",
       "std    1.958696e+00  1.651309e+00  1.516255e+00  1.415869e+00  1.380247e+00   \n",
       "min   -5.640751e+01 -7.271573e+01 -4.832559e+01 -5.683171e+00 -1.137433e+02   \n",
       "25%   -9.203734e-01 -5.985499e-01 -8.903648e-01 -8.486401e-01 -6.915971e-01   \n",
       "50%    1.810880e-02  6.548556e-02  1.798463e-01 -1.984653e-02 -5.433583e-02   \n",
       "75%    1.315642e+00  8.037239e-01  1.027196e+00  7.433413e-01  6.119264e-01   \n",
       "max    2.454930e+00  2.205773e+01  9.382558e+00  1.687534e+01  3.480167e+01   \n",
       "\n",
       "                 V6            V7            V8            V9           V10  \\\n",
       "count  2.848070e+05  2.848070e+05  2.848070e+05  2.848070e+05  2.848070e+05   \n",
       "mean   1.495077e-15 -6.116418e-16  1.279507e-16 -2.435559e-15  2.229535e-15   \n",
       "std    1.332271e+00  1.237094e+00  1.194353e+00  1.098632e+00  1.088850e+00   \n",
       "min   -2.616051e+01 -4.355724e+01 -7.321672e+01 -1.343407e+01 -2.458826e+01   \n",
       "25%   -7.682956e-01 -5.540759e-01 -2.086297e-01 -6.430976e-01 -5.354257e-01   \n",
       "50%   -2.741871e-01  4.010308e-02  2.235804e-02 -5.142873e-02 -9.291738e-02   \n",
       "75%    3.985649e-01  5.704361e-01  3.273459e-01  5.971390e-01  4.539234e-01   \n",
       "max    7.330163e+01  1.205895e+02  2.000721e+01  1.559499e+01  2.374514e+01   \n",
       "\n",
       "       ...           V20           V21           V22           V23  \\\n",
       "count  ...  2.848070e+05  2.848070e+05  2.848070e+05  2.848070e+05   \n",
       "mean   ...  6.458078e-16  1.524623e-16 -3.402380e-16  2.593103e-16   \n",
       "std    ...  7.709250e-01  7.345240e-01  7.257016e-01  6.244603e-01   \n",
       "min    ... -5.449772e+01 -3.483038e+01 -1.093314e+01 -4.480774e+01   \n",
       "25%    ... -2.117214e-01 -2.283949e-01 -5.423504e-01 -1.618463e-01   \n",
       "50%    ... -6.248109e-02 -2.945017e-02  6.781943e-03 -1.119293e-02   \n",
       "75%    ...  1.330408e-01  1.863772e-01  5.285536e-01  1.476421e-01   \n",
       "max    ...  3.942090e+01  2.720284e+01  1.050309e+01  2.252841e+01   \n",
       "\n",
       "                V24           V25           V26           V27           V28  \\\n",
       "count  2.848070e+05  2.848070e+05  2.848070e+05  2.848070e+05  2.848070e+05   \n",
       "mean   4.468456e-15  5.280639e-16  1.669484e-15 -3.610374e-16 -1.212174e-16   \n",
       "std    6.056471e-01  5.212781e-01  4.822270e-01  4.036325e-01  3.300833e-01   \n",
       "min   -2.836627e+00 -1.029540e+01 -2.604551e+00 -2.256568e+01 -1.543008e+01   \n",
       "25%   -3.545861e-01 -3.171451e-01 -3.269839e-01 -7.083953e-02 -5.295979e-02   \n",
       "50%    4.097606e-02  1.659350e-02 -5.213911e-02  1.342146e-03  1.124383e-02   \n",
       "75%    4.395266e-01  3.507156e-01  2.409522e-01  9.104512e-02  7.827995e-02   \n",
       "max    4.584549e+00  7.519589e+00  3.517346e+00  3.161220e+01  3.384781e+01   \n",
       "\n",
       "              Amount  \n",
       "count  284807.000000  \n",
       "mean        0.003439  \n",
       "std         0.009736  \n",
       "min         0.000000  \n",
       "25%         0.000218  \n",
       "50%         0.000856  \n",
       "75%         0.003004  \n",
       "max         1.000000  \n",
       "\n",
       "[8 rows x 29 columns]"
      ]
     },
     "execution_count": 33,
     "metadata": {},
     "output_type": "execute_result"
    }
   ],
   "source": [
    "x = df_shuffled.copy()\n",
    "x[\"Amount\"] = x[\"Amount\"]/x.Amount.max()\n",
    "\n",
    "x.describe()"
   ]
  },
  {
   "cell_type": "markdown",
   "metadata": {
    "id": "IpZy-7csgU4P"
   },
   "source": [
    "### 5.3 Criar objeto Dataset\n",
    "\n",
    "Tendo os dados de entrada e de saída em um DataFrame Pandas, usamos o método `from_tensor_slices` para criar o Dataset. \n",
    "\n",
    "Para poder usar os dados do Dataframe, devemos tirar os nomes das colunas e passar somente os valores numéricos dos dados. Isso é feito usando a propriedade `values`, da forma apresentada na célula a seguir."
   ]
  },
  {
   "cell_type": "code",
   "execution_count": 38,
   "metadata": {
    "id": "83ERXcwigU4P"
   },
   "outputs": [],
   "source": [
    "# Define tamanho do lote\n",
    "batch_size = 1024\n",
    "\n",
    "# Cria Dataset\n",
    "creditcard_ds = tf.data.Dataset.from_tensor_slices((x.values, y.values)).batch(batch_size)"
   ]
  },
  {
   "cell_type": "markdown",
   "metadata": {
    "id": "hoeEYxW1gU4P"
   },
   "source": [
    "- Observe que os valores numéricos do Dataframe são passados para o Dataset usando `x.values` e `y.values`."
   ]
  },
  {
   "cell_type": "markdown",
   "metadata": {
    "id": "oAvPUCq5gU4Q"
   },
   "source": [
    "Vamos gerar um elemento do Dataset para verificar o resultado."
   ]
  },
  {
   "cell_type": "code",
   "execution_count": 39,
   "metadata": {
    "colab": {
     "base_uri": "https://localhost:8080/"
    },
    "id": "KPvbTwG_gU4Q",
    "outputId": "e616e3a3-60e4-4eb3-c5bd-7c29f3d244ac"
   },
   "outputs": [
    {
     "name": "stdout",
     "output_type": "stream",
     "text": [
      "(<tf.Tensor: shape=(1024, 29), dtype=float64, numpy=\n",
      "array([[-4.2639e+00,  1.5315e+00, -8.8185e-01, ..., -1.0955e+00,\n",
      "        -8.7706e-01,  1.0471e-04],\n",
      "       [ 1.9692e+00,  6.7800e-01, -1.0145e+00, ..., -4.7759e-02,\n",
      "        -4.5136e-02,  2.9310e-04],\n",
      "       [-1.3692e+00,  1.4338e+00,  1.2512e+00, ...,  5.4112e-01,\n",
      "         1.4969e-01,  3.4954e-04],\n",
      "       ...,\n",
      "       [-4.2397e+00,  2.7200e+00,  8.0646e-02, ..., -3.9757e+00,\n",
      "        -1.7962e+00,  5.4182e-04],\n",
      "       [-6.9893e-01,  1.0205e+00, -1.7921e-01, ..., -2.2792e-01,\n",
      "         1.9903e-01,  1.9423e-04],\n",
      "       [-5.6410e+00,  5.1650e+00, -1.4642e+00, ...,  2.1088e+00,\n",
      "         1.1237e+00,  3.4876e-04]])>, <tf.Tensor: shape=(1024,), dtype=int64, numpy=array([0, 0, 0, ..., 0, 0, 0], dtype=int64)>)\n"
     ]
    }
   ],
   "source": [
    "for element in creditcard_ds.take(1):\n",
    "    print(format(element))"
   ]
  },
  {
   "cell_type": "markdown",
   "metadata": {
    "id": "Lx9qmBRogU4Q"
   },
   "source": [
    "#### Divisão dos dados nos conjuntos de treinamento e teste\n",
    "\n",
    "Vamos dividir os dados nos conjuntos de treinamento e teste, de forma a ter 80% dos dados no conjunto de treinamento e 20% no conjunto de teste."
   ]
  },
  {
   "cell_type": "code",
   "execution_count": 40,
   "metadata": {
    "id": "GXd4ryMlgU4Q"
   },
   "outputs": [],
   "source": [
    "# Define função que seleciona exemplos de teste\n",
    "def is_test(x, y):\n",
    "    return x % 5 == 0\n",
    "\n",
    "# Define função que seleciiona exemplos de treinamento\n",
    "def is_train(x, y):\n",
    "    return not is_test(x, y)\n",
    "\n",
    "# Define função que elimina índice usado para selecionar exemplos incluidos com o método enumerate\n",
    "recover = lambda x,y: y\n",
    "\n",
    "# Cria Dataset de teste\n",
    "test_ds = creditcard_ds.enumerate().filter(is_test).map(recover)\n",
    "\n",
    "# Cria Dataset de treinamento\n",
    "train_ds = creditcard_ds.enumerate().filter(is_train).map(recover)"
   ]
  },
  {
   "cell_type": "markdown",
   "metadata": {
    "id": "1TmrQtymgU4Q"
   },
   "source": [
    "Vamos gerar um exemplo de treinamento e um de teste para verificar se os Datasets estão corretos."
   ]
  },
  {
   "cell_type": "code",
   "execution_count": 41,
   "metadata": {
    "colab": {
     "base_uri": "https://localhost:8080/"
    },
    "id": "89J8nLOrgU4Q",
    "outputId": "8a62900e-214b-497d-861c-b95e10862973"
   },
   "outputs": [
    {
     "name": "stdout",
     "output_type": "stream",
     "text": [
      "Exemplo de treinamento:\\m (<tf.Tensor: shape=(1024, 29), dtype=float64, numpy=\n",
      "array([[-2.4543e-01,  1.3559e+00, -8.1479e-01, ..., -7.6784e-01,\n",
      "        -2.5735e-01,  1.1677e-04],\n",
      "       [ 4.4691e-01, -7.3020e-01,  3.1706e-01, ...,  5.5528e-02,\n",
      "        -8.1472e-03,  6.4614e-04],\n",
      "       [ 2.1377e+00, -8.0085e-01, -1.3817e+00, ...,  1.3391e-02,\n",
      "        -6.8732e-03,  1.3619e-03],\n",
      "       ...,\n",
      "       [-7.3781e-01,  2.0804e-01,  1.1668e+00, ..., -9.5773e-02,\n",
      "         4.1535e-02,  3.0353e-03],\n",
      "       [-7.1756e-02,  3.8175e-01,  1.2229e+00, ...,  1.9076e-01,\n",
      "         1.7579e-01,  5.8386e-04],\n",
      "       [-1.7032e+00,  2.5884e-01,  1.8866e-01, ..., -2.1116e-01,\n",
      "        -3.6240e-01,  7.0063e-04]])>, <tf.Tensor: shape=(1024,), dtype=int64, numpy=array([0, 0, 0, ..., 0, 0, 0], dtype=int64)>)\n",
      " \n",
      "Exemplo de teste:\n",
      " (<tf.Tensor: shape=(1024, 29), dtype=float64, numpy=\n",
      "array([[-4.2639e+00,  1.5315e+00, -8.8185e-01, ..., -1.0955e+00,\n",
      "        -8.7706e-01,  1.0471e-04],\n",
      "       [ 1.9692e+00,  6.7800e-01, -1.0145e+00, ..., -4.7759e-02,\n",
      "        -4.5136e-02,  2.9310e-04],\n",
      "       [-1.3692e+00,  1.4338e+00,  1.2512e+00, ...,  5.4112e-01,\n",
      "         1.4969e-01,  3.4954e-04],\n",
      "       ...,\n",
      "       [-4.2397e+00,  2.7200e+00,  8.0646e-02, ..., -3.9757e+00,\n",
      "        -1.7962e+00,  5.4182e-04],\n",
      "       [-6.9893e-01,  1.0205e+00, -1.7921e-01, ..., -2.2792e-01,\n",
      "         1.9903e-01,  1.9423e-04],\n",
      "       [-5.6410e+00,  5.1650e+00, -1.4642e+00, ...,  2.1088e+00,\n",
      "         1.1237e+00,  3.4876e-04]])>, <tf.Tensor: shape=(1024,), dtype=int64, numpy=array([0, 0, 0, ..., 0, 0, 0], dtype=int64)>)\n"
     ]
    }
   ],
   "source": [
    "# Verifica Dataset de treinamento \n",
    "for element in train_ds.take(1):\n",
    "    print('Exemplo de treinamento:\\m', format(element))\n",
    "\n",
    "print(' ')\n",
    "\n",
    "# Verifica Dataset de teste \n",
    "for element in test_ds.take(1):\n",
    "    print('Exemplo de teste:\\n', format(element))"
   ]
  },
  {
   "cell_type": "markdown",
   "metadata": {
    "id": "ov14SRrQyQE3"
   },
   "source": [
    "#### Criar Dataset que gera lotes com número de classes balanceadas\n",
    "\n",
    "Para criar lotes com número de exemplos balanceados entre as duas classes vamos utilizar a abordagem de amostragem do Dataset. Assim, primeiramente vamos criar os dois Datasets, uma para cada classe, para depois criar o Dataset que gera lotes balanceados.\n",
    "\n",
    "O ideal é fazer esse balanceamento para os conjuntos de treinamento e teste se formos usar os dados de teste para validação."
   ]
  },
  {
   "cell_type": "code",
   "execution_count": 42,
   "metadata": {
    "id": "6YKfCPa-nioA"
   },
   "outputs": [],
   "source": [
    "# Cria Datasets com os dados sem fraude (negativo, classe = 0)\n",
    "negativos_ds_train = train_ds.unbatch().filter(lambda features, label: label==0).repeat()\n",
    "negativos_ds_test = test_ds.unbatch().filter(lambda features, label: label==0).repeat()\n",
    "\n",
    "# Cria Datasets com os dados com fraude (positivo, classe = 1)\n",
    "positivos_ds_train = train_ds.unbatch().filter(lambda features, label: label==1).repeat()\n",
    "positivos_ds_test = test_ds.unbatch().filter(lambda features, label: label==1).repeat()\n",
    "\n",
    "# Cria Datasets que gera lotes de elementos com as classes balanceadas\n",
    "balanced_ds_train = tf.data.experimental.sample_from_datasets(\n",
    "                    [negativos_ds_train, positivos_ds_train], [0.5, 0.5]).batch(batch_size)\n",
    "\n",
    "balanced_ds_test = tf.data.experimental.sample_from_datasets(\n",
    "                    [negativos_ds_test, positivos_ds_test], [0.5, 0.5]).batch(batch_size)"
   ]
  },
  {
   "cell_type": "markdown",
   "metadata": {
    "id": "sxjw1vq0gU4R"
   },
   "source": [
    "Geração de um lote para verificação."
   ]
  },
  {
   "cell_type": "code",
   "execution_count": 44,
   "metadata": {
    "colab": {
     "base_uri": "https://localhost:8080/"
    },
    "id": "-oJL7r0RgU4R",
    "outputId": "c2f7134a-9e5b-4c04-f82f-777899a527fa"
   },
   "outputs": [
    {
     "name": "stdout",
     "output_type": "stream",
     "text": [
      "tf.Tensor(\n",
      "[[ 3.1460e-01  2.6607e+00 -5.9200e+00 ...  6.2087e-01  1.8503e-01\n",
      "   3.8924e-05]\n",
      " [-1.0301e+01  6.4831e+00 -1.5076e+01 ... -4.6889e-01  1.0592e-01\n",
      "   3.8924e-05]\n",
      " [-8.4268e+00  6.2417e+00 -9.9465e+00 ...  1.1957e+00  1.9829e-01\n",
      "   3.4343e-03]\n",
      " ...\n",
      " [ 1.3164e+00  6.0456e-02 -1.2039e+00 ... -6.7411e-02 -2.4594e-03\n",
      "   4.5619e-04]\n",
      " [ 1.1708e+00  2.5010e+00 -4.9862e+00 ...  4.8159e-01  2.6823e-01\n",
      "   1.9345e-04]\n",
      " [-2.8800e+00  5.2254e+00 -1.1063e+01 ...  1.4277e+00  5.8317e-01\n",
      "   3.8924e-05]], shape=(1024, 29), dtype=float64)\n",
      "tf.Tensor([1 1 1 ... 0 1 1], shape=(1024,), dtype=int64)\n"
     ]
    }
   ],
   "source": [
    "for features, labels in balanced_ds_train.take(1):\n",
    "    print(features)\n",
    "    print(labels)"
   ]
  },
  {
   "cell_type": "markdown",
   "metadata": {
    "id": "J-ZI6SdpgU4R"
   },
   "source": [
    "Vamos verificar o resultado dessas operações verificando o número de exemplos de cada classe de um lote."
   ]
  },
  {
   "cell_type": "code",
   "execution_count": 46,
   "metadata": {
    "colab": {
     "base_uri": "https://localhost:8080/"
    },
    "id": "Myvkw21Rz-fH",
    "outputId": "28110a54-ea99-4aa5-ad7b-be9fe6839dc8"
   },
   "outputs": [
    {
     "name": "stdout",
     "output_type": "stream",
     "text": [
      "Número de exemplo com fraude (classe=1): 524\n",
      "Número de exemplo sem fraude (classe=0): 500\n",
      " \n",
      "Número de exemplo com fraude (classe=1): 481\n",
      "Número de exemplo sem fraude (classe=0): 543\n",
      " \n",
      "Número de exemplo com fraude (classe=1): 527\n",
      "Número de exemplo sem fraude (classe=0): 497\n",
      " \n",
      "Número de exemplo com fraude (classe=1): 488\n",
      "Número de exemplo sem fraude (classe=0): 536\n",
      " \n",
      "Número de exemplo com fraude (classe=1): 498\n",
      "Número de exemplo sem fraude (classe=0): 526\n",
      " \n"
     ]
    }
   ],
   "source": [
    "# Gera 1 lote do Dataset balanced_ds\n",
    "for features, labels in balanced_ds_train.take(5):\n",
    "    n1 = tf.reduce_sum(labels)\n",
    "    print('Número de exemplo com fraude (classe=1):', n1.numpy())\n",
    "    print('Número de exemplo sem fraude (classe=0):', (batch_size - n1).numpy())\n",
    "    print(' ')"
   ]
  },
  {
   "cell_type": "markdown",
   "metadata": {
    "id": "xh0hbKtEgU4R"
   },
   "source": [
    "-  Pode-se ver que o número de exemplos de cada classe é quase o mesmo em todos os lotes gerados, girando em torno de 512, que é metade do tamanho do lote de 1024 exemplos."
   ]
  },
  {
   "cell_type": "markdown",
   "metadata": {
    "id": "Q8_JRTB_gU4R"
   },
   "source": [
    "### 5.4 Configuração e compilação da RNA\n",
    "\n",
    "Para resolver esse problema vamos utilizar uma RNA com duas camadas densas, com a configuração a seguir."
   ]
  },
  {
   "cell_type": "code",
   "execution_count": 47,
   "metadata": {
    "colab": {
     "base_uri": "https://localhost:8080/"
    },
    "id": "N9kJU6KngU4S",
    "outputId": "efa89437-ce9f-4aff-d821-5836ba66a976"
   },
   "outputs": [
    {
     "name": "stdout",
     "output_type": "stream",
     "text": [
      "Model: \"sequential_1\"\n",
      "_________________________________________________________________\n",
      "Layer (type)                 Output Shape              Param #   \n",
      "=================================================================\n",
      "dense_2 (Dense)              (None, 128)               3840      \n",
      "_________________________________________________________________\n",
      "dense_3 (Dense)              (None, 64)                8256      \n",
      "_________________________________________________________________\n",
      "dense_4 (Dense)              (None, 1)                 65        \n",
      "=================================================================\n",
      "Total params: 12,161\n",
      "Trainable params: 12,161\n",
      "Non-trainable params: 0\n",
      "_________________________________________________________________\n"
     ]
    }
   ],
   "source": [
    "# Importa classes\n",
    "from tensorflow.keras.layers import Dense\n",
    "from tensorflow.keras.models import Sequential\n",
    "\n",
    "# Configura RNA\n",
    "rna = Sequential()\n",
    "rna.add(Dense(128, activation='relu', input_shape=(29,)))\n",
    "rna.add(Dense(64, activation='relu'))\n",
    "rna.add(Dense(1, activation='sigmoid'))\n",
    "\n",
    "# Apresenta sumário da RNA\n",
    "rna.summary()"
   ]
  },
  {
   "cell_type": "markdown",
   "metadata": {
    "id": "W5_uTT9SCOq6"
   },
   "source": [
    "Para compilar a RNA usaremos os seguintes parâmetros:\n",
    "\n",
    "- Método de otimização: Adam\n",
    "- Taxa de aprendizado: 0.001\n",
    "- Métrica: exatidão\n"
   ]
  },
  {
   "cell_type": "code",
   "execution_count": 48,
   "metadata": {
    "id": "kBo1iCMOgU4S"
   },
   "outputs": [],
   "source": [
    "# Compila RNA\n",
    "rna.compile(optimizer=tf.keras.optimizers.Adam(0.001),\n",
    "            loss='binary_crossentropy',\n",
    "            metrics=['accuracy'])"
   ]
  },
  {
   "cell_type": "markdown",
   "metadata": {
    "id": "bvr5QddOgU4S"
   },
   "source": [
    "### 5.5 Treinamento da RNA\n",
    " \n",
    "Para treinar a RNA basta passar os Datasets de treinamento e teste.  \n",
    "\n",
    "Somente para exemplificar, vamos usar poucas épocas de treinamento."
   ]
  },
  {
   "cell_type": "code",
   "execution_count": 50,
   "metadata": {
    "colab": {
     "base_uri": "https://localhost:8080/"
    },
    "id": "9EM_XQIzgU4S",
    "outputId": "9e9dcfd1-66d7-40ef-ca9b-75d41cf6283a"
   },
   "outputs": [
    {
     "name": "stdout",
     "output_type": "stream",
     "text": [
      "20/20 [==============================] - 233s 12s/step - loss: 0.0886 - accuracy: 0.9621 - val_loss: 0.1595 - val_accuracy: 0.9482\n"
     ]
    }
   ],
   "source": [
    "results = rna.fit(balanced_ds_train.repeat(),\n",
    "                  steps_per_epoch=20,\n",
    "                  epochs=10,\n",
    "                  validation_data=balanced_ds_test.repeat(),\n",
    "                  validation_steps=1,\n",
    "                  verbose=1)"
   ]
  },
  {
   "cell_type": "markdown",
   "metadata": {
    "id": "RWvUCPUHgU4S"
   },
   "source": [
    "**Importante:**\n",
    "\n",
    "Usar um Dataset com o método `repeat` gera infinitos exemplos de treinamento. Nesse caso, no treinamento deve-se usar o argumento `steps_per_epoch` e `validation_steps` para definir quantos lotes por época são desejados."
   ]
  },
  {
   "cell_type": "code",
   "execution_count": 51,
   "metadata": {
    "colab": {
     "base_uri": "https://localhost:8080/",
     "height": 576
    },
    "id": "fRGaQFSY3d8g",
    "outputId": "3d0b13a5-bde4-4923-8a86-e25addf5d808"
   },
   "outputs": [
    {
     "data": {
      "image/png": "[encoded data removed]",
      "text/plain": [
       "<Figure size 432x288 with 1 Axes>"
      ]
     },
     "metadata": {
      "needs_background": "light"
     },
     "output_type": "display_data"
    },
    {
     "data": {
      "image/png": "[encoded data removed]",
      "text/plain": [
       "<Figure size 432x288 with 1 Axes>"
      ]
     },
     "metadata": {
      "needs_background": "light"
     },
     "output_type": "display_data"
    }
   ],
   "source": [
    "# Salva treinamento na variável history para visualização\n",
    "resultado = results.history\n",
    "\n",
    "# Salva custos, métricas e epocas em vetores \n",
    "custo = resultado['loss']\n",
    "acc = resultado['accuracy']\n",
    "val_custo = resultado['val_loss']\n",
    "val_acc = resultado['val_accuracy']\n",
    "\n",
    "# Cria vetor de épocas\n",
    "epocas = range(1, len(custo) + 1)\n",
    "\n",
    "# Gráfico dos valores de custo\n",
    "plt.plot(epocas, custo, 'bo', label='Custo - treinamento')\n",
    "plt.plot(epocas, val_custo, 'b', label='Custo - validação')\n",
    "plt.title('Valor da função de custo – treinamento e validação')\n",
    "plt.xlabel('Épocas')\n",
    "plt.ylabel('Custo')\n",
    "plt.legend()\n",
    "plt.show()\n",
    "\n",
    "# Gráfico dos valores da métrica\n",
    "plt.plot(epocas, acc, 'bo', label='exatidao- treinamento')\n",
    "plt.plot(epocas, val_acc, 'b', label='exatidao - validação')\n",
    "plt.title('Valor da métrica – treinamento e validação')\n",
    "plt.xlabel('Épocas')\n",
    "plt.ylabel('Exatidao')\n",
    "plt.legend()\n",
    "plt.show()"
   ]
  },
  {
   "cell_type": "markdown",
   "metadata": {
    "id": "cCtnEwu8gU4S"
   },
   "source": [
    "### 5.7 Avaliação e teste da RNA\n",
    "\n",
    "Vamos avaliar o desemepnho da RNA usando o método `evaluate`com os dados de teste."
   ]
  },
  {
   "cell_type": "code",
   "execution_count": 53,
   "metadata": {
    "colab": {
     "base_uri": "https://localhost:8080/"
    },
    "id": "iDuvPruhgU4S",
    "outputId": "271675f8-a941-4ab9-bb01-9340215638f0"
   },
   "outputs": [
    {
     "name": "stdout",
     "output_type": "stream",
     "text": [
      "\r",
      " 1/10 [==>...........................] - ETA: 1:48 - loss: 0.1619 - accuracy: 0.9482"
     ]
    },
    {
     "ename": "KeyboardInterrupt",
     "evalue": "",
     "output_type": "error",
     "traceback": [
      "\u001b[1;31m---------------------------------------------------------------------------\u001b[0m",
      "\u001b[1;31mKeyboardInterrupt\u001b[0m                         Traceback (most recent call last)",
      "\u001b[1;32m<ipython-input-53-9b1e28c98822>\u001b[0m in \u001b[0;36m<module>\u001b[1;34m\u001b[0m\n\u001b[0;32m      1\u001b[0m \u001b[1;31m# Calcula função de custo e exatidão para os dados de teste\u001b[0m\u001b[1;33m\u001b[0m\u001b[1;33m\u001b[0m\u001b[1;33m\u001b[0m\u001b[0m\n\u001b[1;32m----> 2\u001b[1;33m \u001b[0mloss\u001b[0m\u001b[1;33m,\u001b[0m \u001b[0maccuracy\u001b[0m \u001b[1;33m=\u001b[0m \u001b[0mrna\u001b[0m\u001b[1;33m.\u001b[0m\u001b[0mevaluate\u001b[0m\u001b[1;33m(\u001b[0m\u001b[0mbalanced_ds_test\u001b[0m\u001b[1;33m,\u001b[0m \u001b[0msteps\u001b[0m\u001b[1;33m=\u001b[0m\u001b[1;36m10\u001b[0m\u001b[1;33m)\u001b[0m\u001b[1;33m\u001b[0m\u001b[1;33m\u001b[0m\u001b[0m\n\u001b[0m\u001b[0;32m      3\u001b[0m \u001b[1;33m\u001b[0m\u001b[0m\n\u001b[0;32m      4\u001b[0m \u001b[0mprint\u001b[0m\u001b[1;33m(\u001b[0m\u001b[1;34m' '\u001b[0m\u001b[1;33m)\u001b[0m\u001b[1;33m\u001b[0m\u001b[1;33m\u001b[0m\u001b[0m\n\u001b[0;32m      5\u001b[0m \u001b[0mprint\u001b[0m\u001b[1;33m(\u001b[0m\u001b[1;34m\"Função de custo:\"\u001b[0m\u001b[1;33m,\u001b[0m \u001b[0mloss\u001b[0m\u001b[1;33m)\u001b[0m\u001b[1;33m\u001b[0m\u001b[1;33m\u001b[0m\u001b[0m\n",
      "\u001b[1;32m~\\Anaconda3\\lib\\site-packages\\tensorflow\\python\\keras\\engine\\training.py\u001b[0m in \u001b[0;36mevaluate\u001b[1;34m(self, x, y, batch_size, verbose, sample_weight, steps, callbacks, max_queue_size, workers, use_multiprocessing, return_dict)\u001b[0m\n\u001b[0;32m   1387\u001b[0m             \u001b[1;32mwith\u001b[0m \u001b[0mtrace\u001b[0m\u001b[1;33m.\u001b[0m\u001b[0mTrace\u001b[0m\u001b[1;33m(\u001b[0m\u001b[1;34m'test'\u001b[0m\u001b[1;33m,\u001b[0m \u001b[0mstep_num\u001b[0m\u001b[1;33m=\u001b[0m\u001b[0mstep\u001b[0m\u001b[1;33m,\u001b[0m \u001b[0m_r\u001b[0m\u001b[1;33m=\u001b[0m\u001b[1;36m1\u001b[0m\u001b[1;33m)\u001b[0m\u001b[1;33m:\u001b[0m\u001b[1;33m\u001b[0m\u001b[1;33m\u001b[0m\u001b[0m\n\u001b[0;32m   1388\u001b[0m               \u001b[0mcallbacks\u001b[0m\u001b[1;33m.\u001b[0m\u001b[0mon_test_batch_begin\u001b[0m\u001b[1;33m(\u001b[0m\u001b[0mstep\u001b[0m\u001b[1;33m)\u001b[0m\u001b[1;33m\u001b[0m\u001b[1;33m\u001b[0m\u001b[0m\n\u001b[1;32m-> 1389\u001b[1;33m               \u001b[0mtmp_logs\u001b[0m \u001b[1;33m=\u001b[0m \u001b[0mself\u001b[0m\u001b[1;33m.\u001b[0m\u001b[0mtest_function\u001b[0m\u001b[1;33m(\u001b[0m\u001b[0miterator\u001b[0m\u001b[1;33m)\u001b[0m\u001b[1;33m\u001b[0m\u001b[1;33m\u001b[0m\u001b[0m\n\u001b[0m\u001b[0;32m   1390\u001b[0m               \u001b[1;32mif\u001b[0m \u001b[0mdata_handler\u001b[0m\u001b[1;33m.\u001b[0m\u001b[0mshould_sync\u001b[0m\u001b[1;33m:\u001b[0m\u001b[1;33m\u001b[0m\u001b[1;33m\u001b[0m\u001b[0m\n\u001b[0;32m   1391\u001b[0m                 \u001b[0mcontext\u001b[0m\u001b[1;33m.\u001b[0m\u001b[0masync_wait\u001b[0m\u001b[1;33m(\u001b[0m\u001b[1;33m)\u001b[0m\u001b[1;33m\u001b[0m\u001b[1;33m\u001b[0m\u001b[0m\n",
      "\u001b[1;32m~\\Anaconda3\\lib\\site-packages\\tensorflow\\python\\eager\\def_function.py\u001b[0m in \u001b[0;36m__call__\u001b[1;34m(self, *args, **kwds)\u001b[0m\n\u001b[0;32m    826\u001b[0m     \u001b[0mtracing_count\u001b[0m \u001b[1;33m=\u001b[0m \u001b[0mself\u001b[0m\u001b[1;33m.\u001b[0m\u001b[0mexperimental_get_tracing_count\u001b[0m\u001b[1;33m(\u001b[0m\u001b[1;33m)\u001b[0m\u001b[1;33m\u001b[0m\u001b[1;33m\u001b[0m\u001b[0m\n\u001b[0;32m    827\u001b[0m     \u001b[1;32mwith\u001b[0m \u001b[0mtrace\u001b[0m\u001b[1;33m.\u001b[0m\u001b[0mTrace\u001b[0m\u001b[1;33m(\u001b[0m\u001b[0mself\u001b[0m\u001b[1;33m.\u001b[0m\u001b[0m_name\u001b[0m\u001b[1;33m)\u001b[0m \u001b[1;32mas\u001b[0m \u001b[0mtm\u001b[0m\u001b[1;33m:\u001b[0m\u001b[1;33m\u001b[0m\u001b[1;33m\u001b[0m\u001b[0m\n\u001b[1;32m--> 828\u001b[1;33m       \u001b[0mresult\u001b[0m \u001b[1;33m=\u001b[0m \u001b[0mself\u001b[0m\u001b[1;33m.\u001b[0m\u001b[0m_call\u001b[0m\u001b[1;33m(\u001b[0m\u001b[1;33m*\u001b[0m\u001b[0margs\u001b[0m\u001b[1;33m,\u001b[0m \u001b[1;33m**\u001b[0m\u001b[0mkwds\u001b[0m\u001b[1;33m)\u001b[0m\u001b[1;33m\u001b[0m\u001b[1;33m\u001b[0m\u001b[0m\n\u001b[0m\u001b[0;32m    829\u001b[0m       \u001b[0mcompiler\u001b[0m \u001b[1;33m=\u001b[0m \u001b[1;34m\"xla\"\u001b[0m \u001b[1;32mif\u001b[0m \u001b[0mself\u001b[0m\u001b[1;33m.\u001b[0m\u001b[0m_experimental_compile\u001b[0m \u001b[1;32melse\u001b[0m \u001b[1;34m\"nonXla\"\u001b[0m\u001b[1;33m\u001b[0m\u001b[1;33m\u001b[0m\u001b[0m\n\u001b[0;32m    830\u001b[0m       \u001b[0mnew_tracing_count\u001b[0m \u001b[1;33m=\u001b[0m \u001b[0mself\u001b[0m\u001b[1;33m.\u001b[0m\u001b[0mexperimental_get_tracing_count\u001b[0m\u001b[1;33m(\u001b[0m\u001b[1;33m)\u001b[0m\u001b[1;33m\u001b[0m\u001b[1;33m\u001b[0m\u001b[0m\n",
      "\u001b[1;32m~\\Anaconda3\\lib\\site-packages\\tensorflow\\python\\eager\\def_function.py\u001b[0m in \u001b[0;36m_call\u001b[1;34m(self, *args, **kwds)\u001b[0m\n\u001b[0;32m    860\u001b[0m       \u001b[1;31m# In this case we have not created variables on the first call. So we can\u001b[0m\u001b[1;33m\u001b[0m\u001b[1;33m\u001b[0m\u001b[1;33m\u001b[0m\u001b[0m\n\u001b[0;32m    861\u001b[0m       \u001b[1;31m# run the first trace but we should fail if variables are created.\u001b[0m\u001b[1;33m\u001b[0m\u001b[1;33m\u001b[0m\u001b[1;33m\u001b[0m\u001b[0m\n\u001b[1;32m--> 862\u001b[1;33m       \u001b[0mresults\u001b[0m \u001b[1;33m=\u001b[0m \u001b[0mself\u001b[0m\u001b[1;33m.\u001b[0m\u001b[0m_stateful_fn\u001b[0m\u001b[1;33m(\u001b[0m\u001b[1;33m*\u001b[0m\u001b[0margs\u001b[0m\u001b[1;33m,\u001b[0m \u001b[1;33m**\u001b[0m\u001b[0mkwds\u001b[0m\u001b[1;33m)\u001b[0m\u001b[1;33m\u001b[0m\u001b[1;33m\u001b[0m\u001b[0m\n\u001b[0m\u001b[0;32m    863\u001b[0m       \u001b[1;32mif\u001b[0m \u001b[0mself\u001b[0m\u001b[1;33m.\u001b[0m\u001b[0m_created_variables\u001b[0m\u001b[1;33m:\u001b[0m\u001b[1;33m\u001b[0m\u001b[1;33m\u001b[0m\u001b[0m\n\u001b[0;32m    864\u001b[0m         raise ValueError(\"Creating variables on a non-first call to a function\"\n",
      "\u001b[1;32m~\\Anaconda3\\lib\\site-packages\\tensorflow\\python\\eager\\function.py\u001b[0m in \u001b[0;36m__call__\u001b[1;34m(self, *args, **kwargs)\u001b[0m\n\u001b[0;32m   2941\u001b[0m        filtered_flat_args) = self._maybe_define_function(args, kwargs)\n\u001b[0;32m   2942\u001b[0m     return graph_function._call_flat(\n\u001b[1;32m-> 2943\u001b[1;33m         filtered_flat_args, captured_inputs=graph_function.captured_inputs)  # pylint: disable=protected-access\n\u001b[0m\u001b[0;32m   2944\u001b[0m \u001b[1;33m\u001b[0m\u001b[0m\n\u001b[0;32m   2945\u001b[0m   \u001b[1;33m@\u001b[0m\u001b[0mproperty\u001b[0m\u001b[1;33m\u001b[0m\u001b[1;33m\u001b[0m\u001b[0m\n",
      "\u001b[1;32m~\\Anaconda3\\lib\\site-packages\\tensorflow\\python\\eager\\function.py\u001b[0m in \u001b[0;36m_call_flat\u001b[1;34m(self, args, captured_inputs, cancellation_manager)\u001b[0m\n\u001b[0;32m   1917\u001b[0m       \u001b[1;31m# No tape is watching; skip to running the function.\u001b[0m\u001b[1;33m\u001b[0m\u001b[1;33m\u001b[0m\u001b[1;33m\u001b[0m\u001b[0m\n\u001b[0;32m   1918\u001b[0m       return self._build_call_outputs(self._inference_function.call(\n\u001b[1;32m-> 1919\u001b[1;33m           ctx, args, cancellation_manager=cancellation_manager))\n\u001b[0m\u001b[0;32m   1920\u001b[0m     forward_backward = self._select_forward_and_backward_functions(\n\u001b[0;32m   1921\u001b[0m         \u001b[0margs\u001b[0m\u001b[1;33m,\u001b[0m\u001b[1;33m\u001b[0m\u001b[1;33m\u001b[0m\u001b[0m\n",
      "\u001b[1;32m~\\Anaconda3\\lib\\site-packages\\tensorflow\\python\\eager\\function.py\u001b[0m in \u001b[0;36mcall\u001b[1;34m(self, ctx, args, cancellation_manager)\u001b[0m\n\u001b[0;32m    558\u001b[0m               \u001b[0minputs\u001b[0m\u001b[1;33m=\u001b[0m\u001b[0margs\u001b[0m\u001b[1;33m,\u001b[0m\u001b[1;33m\u001b[0m\u001b[1;33m\u001b[0m\u001b[0m\n\u001b[0;32m    559\u001b[0m               \u001b[0mattrs\u001b[0m\u001b[1;33m=\u001b[0m\u001b[0mattrs\u001b[0m\u001b[1;33m,\u001b[0m\u001b[1;33m\u001b[0m\u001b[1;33m\u001b[0m\u001b[0m\n\u001b[1;32m--> 560\u001b[1;33m               ctx=ctx)\n\u001b[0m\u001b[0;32m    561\u001b[0m         \u001b[1;32melse\u001b[0m\u001b[1;33m:\u001b[0m\u001b[1;33m\u001b[0m\u001b[1;33m\u001b[0m\u001b[0m\n\u001b[0;32m    562\u001b[0m           outputs = execute.execute_with_cancellation(\n",
      "\u001b[1;32m~\\Anaconda3\\lib\\site-packages\\tensorflow\\python\\eager\\execute.py\u001b[0m in \u001b[0;36mquick_execute\u001b[1;34m(op_name, num_outputs, inputs, attrs, ctx, name)\u001b[0m\n\u001b[0;32m     58\u001b[0m     \u001b[0mctx\u001b[0m\u001b[1;33m.\u001b[0m\u001b[0mensure_initialized\u001b[0m\u001b[1;33m(\u001b[0m\u001b[1;33m)\u001b[0m\u001b[1;33m\u001b[0m\u001b[1;33m\u001b[0m\u001b[0m\n\u001b[0;32m     59\u001b[0m     tensors = pywrap_tfe.TFE_Py_Execute(ctx._handle, device_name, op_name,\n\u001b[1;32m---> 60\u001b[1;33m                                         inputs, attrs, num_outputs)\n\u001b[0m\u001b[0;32m     61\u001b[0m   \u001b[1;32mexcept\u001b[0m \u001b[0mcore\u001b[0m\u001b[1;33m.\u001b[0m\u001b[0m_NotOkStatusException\u001b[0m \u001b[1;32mas\u001b[0m \u001b[0me\u001b[0m\u001b[1;33m:\u001b[0m\u001b[1;33m\u001b[0m\u001b[1;33m\u001b[0m\u001b[0m\n\u001b[0;32m     62\u001b[0m     \u001b[1;32mif\u001b[0m \u001b[0mname\u001b[0m \u001b[1;32mis\u001b[0m \u001b[1;32mnot\u001b[0m \u001b[1;32mNone\u001b[0m\u001b[1;33m:\u001b[0m\u001b[1;33m\u001b[0m\u001b[1;33m\u001b[0m\u001b[0m\n",
      "\u001b[1;31mKeyboardInterrupt\u001b[0m: "
     ]
    }
   ],
   "source": [
    "# Calcula função de custo e exatidão para os dados de teste \n",
    "loss, accuracy = rna.evaluate(balanced_ds_test, steps=10)\n",
    "\n",
    "print(' ')\n",
    "print(\"Função de custo:\", loss)\n",
    "print(\"Exatidão:\", accuracy)"
   ]
  },
  {
   "cell_type": "markdown",
   "metadata": {
    "id": "waRgvMCjgU4T"
   },
   "source": [
    "#### Realizar previsões\n",
    "\n",
    "Vamos verificar os resultados da RNA com detalhe usando o método predict e depois verificar o acerto para cada uma das classes."
   ]
  },
  {
   "cell_type": "code",
   "execution_count": 55,
   "metadata": {
    "id": "u_EUqslagU4T"
   },
   "outputs": [],
   "source": [
    "# Gera lote de dados \n",
    "x, y_real = next(iter(balanced_ds_test))"
   ]
  },
  {
   "cell_type": "code",
   "execution_count": 56,
   "metadata": {
    "colab": {
     "base_uri": "https://localhost:8080/",
     "height": 282
    },
    "id": "-HDw4y5G41j0",
    "outputId": "7bacc2a8-3397-42b8-f12d-6846bb1fb404"
   },
   "outputs": [
    {
     "name": "stdout",
     "output_type": "stream",
     "text": [
      "Exatidão = 0.9501953125\n"
     ]
    },
    {
     "data": {
      "image/png": "[encoded data removed]",
      "text/plain": [
       "<Figure size 1152x288 with 1 Axes>"
      ]
     },
     "metadata": {
      "needs_background": "light"
     },
     "output_type": "display_data"
    }
   ],
   "source": [
    "# Calcula previsão da RNA para um lote de imagens\n",
    "y_prev = rna.predict(x)\n",
    "classe_prev = np.round(y_prev)\n",
    "\n",
    "# Redimensiona vetor de classes reais\n",
    "classe_real = np.reshape(y_real, (1024, 1))\n",
    "\n",
    "# Exatidão obtida\n",
    "print('Exatidão =', 1.0 - np.mean(np.abs(classe_real-classe_prev)))\n",
    "\n",
    "# Mostra primeiro exemplo do lote\n",
    "plt.figure(figsize=(16,4))\n",
    "plt.plot(y_real[:250], 'bo')\n",
    "plt.plot(classe_prev[:250], 'ro')\n",
    "plt.show()"
   ]
  },
  {
   "cell_type": "code",
   "execution_count": null,
   "metadata": {
    "id": "AHdVHbG36WTi"
   },
   "outputs": [],
   "source": [
    "rna.save('rna.h5')"
   ]
  }
 ],
 "metadata": {
  "accelerator": "GPU",
  "colab": {
   "collapsed_sections": [],
   "name": "A5_Data_pipeline_Parte2.ipynb",
   "provenance": []
  },
  "kernelspec": {
   "display_name": "Python 3",
   "language": "python",
   "name": "python3"
  },
  "language_info": {
   "codemirror_mode": {
    "name": "ipython",
    "version": 3
   },
   "file_extension": ".py",
   "mimetype": "text/x-python",
   "name": "python",
   "nbconvert_exporter": "python",
   "pygments_lexer": "ipython3",
   "version": "3.8.5"
  }
 },
 "nbformat": 4,
 "nbformat_minor": 1
}
