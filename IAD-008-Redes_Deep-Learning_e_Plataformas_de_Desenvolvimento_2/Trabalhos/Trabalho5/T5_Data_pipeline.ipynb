{
 "cells": [
  {
   "cell_type": "markdown",
   "metadata": {
    "cellView": "form",
    "execution": {
     "iopub.execute_input": "2020-09-17T01:32:20.138023Z",
     "iopub.status.busy": "2020-09-17T01:32:20.137369Z",
     "iopub.status.idle": "2020-09-17T01:32:20.139719Z",
     "shell.execute_reply": "2020-09-17T01:32:20.139219Z"
    },
    "id": "I1dUQ0GejU8N"
   },
   "source": [
    "# Trabalho #4 - Data pipeline \n",
    "\n",
    "\n",
    "Nesse trabalho você vai utilizar um conjunto de dados estruturados para realizar uma tarefa de classificação multiclasse. Para isso, você vai utilizar o  módulo `feature_columns` para criar um pipeline de entrada para a RNA. \n",
    "\n",
    "As etapas que você vai realizar para finalizar esse trabalho são as seguintes:\n",
    "\n",
    "1. Carregar um arquivo CSV usando Pandas;\n",
    "2. Construir um pipeline de entrada;\n",
    "3. Transformar as colunas de dados usando o módulo `feature_columns`;\n",
    "4. Construir, treinar e avaliar uma RNA.\n",
    "\n",
    "O conjunto de dados utilizado nesse trabalho consiste de uma versão simplificada do conjunto \"PetFinder.my Adoption Prediction\", que está disponível no Kaggle em https://www.kaggle.com/c/petfinder-adoption-prediction."
   ]
  },
  {
   "cell_type": "markdown",
   "metadata": {},
   "source": [
    "## Coloque seu nome aqui:\n",
    "\n",
    "Nome: "
   ]
  },
  {
   "cell_type": "markdown",
   "metadata": {},
   "source": [
    "## Importar principais bibliotecas e funções"
   ]
  },
  {
   "cell_type": "code",
   "execution_count": null,
   "metadata": {},
   "outputs": [],
   "source": [
    "import numpy as np\n",
    "import pandas as pd\n",
    "import matplotlib.pyplot as plt\n",
    "import tensorflow as tf\n",
    "from tensorflow import feature_column\n",
    "from tensorflow.keras.models import Sequential\n",
    "from tensorflow.keras import layers\n",
    "from sklearn.model_selection import train_test_split"
   ]
  },
  {
   "cell_type": "markdown",
   "metadata": {},
   "source": [
    "## 1. Objetivo do trabalho\n",
    "\n",
    "As instruções dadas ao longo do enunciado desse trabalho consistem apenas de indicações para facilitar o desenvolvimento do seu trabalho e não precisam ser seguidas exatamente como são fornecidas. \n",
    "\n",
    "Você vai verificar que se seguir exatamente as instruções para realizar esse trabalho os resultados obtidos serão insatisfatórios.\n",
    "\n",
    "O que é esperado de você nesse trabalho é implementar um pipeline de dados e uma RNA que apresenta um desempenho nos resultados de teste melhor do que o obtido simplesmente seguindo as instruções dadas. Assim, você deve tentar realizar modificações no que é sugerido para atingir resultados satisfatórios."
   ]
  },
  {
   "cell_type": "markdown",
   "metadata": {
    "id": "K1y4OHpGgss7"
   },
   "source": [
    "## 2. Conjunto de dados\n",
    "\n",
    "### 2.1 Descrição dos dados\n",
    "\n",
    "Existem mais de 11.000 de exemplos (linhas) nesse conjunto de dados, que está na forma de um arquivo tipo CSV. Cada linha descreve um animal de estimação e cada coluna descreve uma característica do animal. Usaremos essas informações para prever a velocidade de adoção de um animal em função de suas características.\n",
    "\n",
    "A seguir está uma descrição deste conjunto de dados. Observe que existem colunas numéricas e categóricas. Existe também uma coluna de texto livre que não será usada nesse trabalho.\n",
    "\n",
    "**Entradas:**\n",
    "\n",
    "- Type - Type of animal (1 = Dog, 2 = Cat)\n",
    "- Age - Age of pet when listed, in months\n",
    "- Breed1 - Primary breed of pet (307 valores - Refer to BreedLabels dictionary)\n",
    "- Gender - Gender of pet (1 = Male, 2 = Female, 3 = Mixed, if profile represents group of pets)\n",
    "- Color1 - Color 1 of pet (7 values - Refer to ColorLabels dictionary)\n",
    "- Color2 - Color 2 of pet (7 values - Refer to ColorLabels dictionary)\n",
    "- MaturitySize - Size at maturity (1 = Small, 2 = Medium, 3 = Large, 4 = Extra Large, 0 = Not Specified)\n",
    "- FurLength - Fur length (1 = Short, 2 = Medium, 3 = Long, 0 = Not Specified)\n",
    "- Vaccinated - Pet has been vaccinated (1 = Yes, 2 = No, 3 = Not Sure)\n",
    "- Sterilized - Pet has been spayed / neutered (1 = Yes, 2 = No, 3 = Not Sure)\n",
    "- Health - Health Condition (1 = Healthy, 2 = Minor Injury, 3 = Serious Injury, 0 = Not Specified)\n",
    "- Fee - Adoption fee (0 = Free)\n",
    "- Description - Profile write-up for this pet. The primary language used is English, with some in Malay or Chinese\n",
    "- PhotoAmt - Total uploaded photos for this pet\n",
    "\n",
    "**Saída:**\n",
    "\n",
    "- AdoptionSpeed\n",
    "   - 0 - Pet was adopted on the same day as it was listed.\n",
    "   - 1 - Pet was adopted between 1 and 7 days (1st week) after being listed.\n",
    "   - 2 - Pet was adopted between 8 and 30 days (1st month) after being listed.\n",
    "   - 3 - Pet was adopted between 31 and 90 days (2nd & 3rd month) after being listed.\n",
    "   - 4 - No adoption after 100 days of being listed. (There are no pets in this dataset that waited between 90 and 100 days)."
   ]
  },
  {
   "cell_type": "markdown",
   "metadata": {
    "id": "KCEhSZcULZ9n"
   },
   "source": [
    "### 2.2 Carregar dados\n",
    "\n",
    "Esse conjunto de dados está disponível no TensorFlow Dataset e são carregados de uma URL. Usaremos o Pandas para carregar o arquivo CSV em um DataFrame. Execute a célula abaixo para carregar os dados."
   ]
  },
  {
   "cell_type": "code",
   "execution_count": null,
   "metadata": {
    "execution": {
     "iopub.execute_input": "2020-09-17T01:32:27.933335Z",
     "iopub.status.busy": "2020-09-17T01:32:27.932590Z",
     "iopub.status.idle": "2020-09-17T01:32:28.241312Z",
     "shell.execute_reply": "2020-09-17T01:32:28.240493Z"
    },
    "id": "REZ57BXCLdfG"
   },
   "outputs": [],
   "source": [
    "# URL dos dados\n",
    "dataset_url = 'http://storage.googleapis.com/download.tensorflow.org/data/petfinder-mini.zip'\n",
    "\n",
    "# Nome do arquivo de dados\n",
    "csv_file = 'datasets/petfinder-mini/petfinder-mini.csv'\n",
    "\n",
    "# Carrega arquivo de dados\n",
    "dataframe = pd.read_csv(csv_file)\n",
    "\n",
    "# Dimensão dos dados\n",
    "print('Dimensão dos dados:', dataframe.shape)\n",
    "dataframe"
   ]
  },
  {
   "cell_type": "markdown",
   "metadata": {},
   "source": [
    "- Observe que os dados consitem de 11.537 exemplos (linhas) e 15 características (colunas)."
   ]
  },
  {
   "cell_type": "markdown",
   "metadata": {},
   "source": [
    "## 3. Pré-processamento dos dados\n",
    "\n",
    "Antes de criar o pipeline de entrada dados, devemos verificar se as classes são balanceadas, remover a coluna de texto (\"Description\") que não vamos utilizar e dividir os dados nos conjuntos de treinamento, validação e teste.\n",
    "\n",
    "\n",
    "### 3.1 Analisar saídas\n",
    "\n",
    "Para verificar se as saídas são balanceadas temos que contar o número de exemplos de cada classe. Execute a célula abaixo para realizar essa contagem."
   ]
  },
  {
   "cell_type": "code",
   "execution_count": null,
   "metadata": {},
   "outputs": [],
   "source": [
    "print('Classes existentes nas saídas:', dataframe.AdoptionSpeed.unique())\n",
    "print('Número de exemplos de cada classe:\\n', dataframe.AdoptionSpeed.value_counts())"
   ]
  },
  {
   "cell_type": "markdown",
   "metadata": {},
   "source": [
    "### Exercício #1: \n",
    "\n",
    "O número de exemplos da classe 0 é muito pequeno em relação às outras classes, assim, vamos unir os exemplos da classe 0 com os da classe 1. Fazendo isso, teremos as seguintes saídas possíveis:\n",
    "\n",
    "    0 - Animal foi adotado entre o dia em que foi listado e 7 dias (1ª semana) após ser listado.\n",
    "    1 - Animal foi adotado entre 8 e 30 dias (1º mês) após ser listado.\n",
    "    2 - O animal foi adotado entre 31 e 90 dias (2º e 3º mês) após ser listado.\n",
    "    3 - Sem adoção após 100 dias de listagem.\n",
    "\n",
    "Na célula abaixo modifique a coluna \"AdoptionSpeed\" do DataFrame de forma a alterar os índices das classes de acordo com o definido acima. Para isso use o método `replace` do Pandas com o argumento `inplace-=True`."
   ]
  },
  {
   "cell_type": "code",
   "execution_count": null,
   "metadata": {},
   "outputs": [],
   "source": [
    "# Para você fazer: Alterar classes\n",
    "\n",
    "# Modifique a coluna AdoptionSpeed\n",
    "\n",
    "\n",
    "# Mostra novas classes e contagem de exemplos de cada classe\n",
    "print('Classes existentes nas saídas:', dataframe.AdoptionSpeed.unique())\n",
    "print('Número de exemplos de cada classe:\\n', dataframe.AdoptionSpeed.value_counts())"
   ]
  },
  {
   "cell_type": "markdown",
   "metadata": {},
   "source": [
    "**Saída esperada:**\n",
    "\n",
    "    Classes existentes nas saídas: [1 0 2 3]\n",
    "    Número de exemplos de cada classe:\n",
    "    1    3153\n",
    "    3    3080\n",
    "    0    2761\n",
    "    2    2543\n",
    "    Name: AdoptionSpeed, dtype: int64\n",
    "\n",
    "- Observe que agora o número de exemplos das classes está mais balanceado."
   ]
  },
  {
   "cell_type": "markdown",
   "metadata": {},
   "source": [
    "### Exercício #2: Remover coluna de texto e dividir dados \n",
    "\n",
    "Na célula abaixo crie um código que realiza duas operações:\n",
    "\n",
    "1. Remoção da coluna \"Description\"\n",
    "2. Divisão do conjunto de dados em treinamento, validação e teste.\n",
    "\n",
    "Nessa divisão usaremos 70% dos dados para treinamento, 15% para validação e 15% para teste."
   ]
  },
  {
   "cell_type": "code",
   "execution_count": null,
   "metadata": {
    "execution": {
     "iopub.execute_input": "2020-09-17T01:32:28.281280Z",
     "iopub.status.busy": "2020-09-17T01:32:28.280548Z",
     "iopub.status.idle": "2020-09-17T01:32:28.288552Z",
     "shell.execute_reply": "2020-09-17T01:32:28.287606Z"
    },
    "id": "xcbTpEXWbMDz"
   },
   "outputs": [],
   "source": [
    "# Para você fazer: \n",
    "\n",
    "# Remoção da coluna \"Description\n",
    "\n",
    "\n",
    "# Divisão dos dados\n",
    "\n",
    "\n",
    "\n",
    "print('Numéro de exemplos de treinamento:', len(train))\n",
    "print('Numéro de exemplos de validação:', len(val))\n",
    "print('Numéro de exemplos de teste:', len(test))"
   ]
  },
  {
   "cell_type": "markdown",
   "metadata": {},
   "source": [
    "**Saída esperada:**\n",
    "\n",
    "    Numéro de exemplos de treinamento: 8075\n",
    "    Numéro de exemplos de validação: 1731\n",
    "    Numéro de exemplos de teste: 1731"
   ]
  },
  {
   "cell_type": "markdown",
   "metadata": {},
   "source": [
    "Execute a célula abaixo para calcular as estatísticas dos dados numéricos."
   ]
  },
  {
   "cell_type": "code",
   "execution_count": null,
   "metadata": {},
   "outputs": [],
   "source": [
    "dataframe.describe().transpose()"
   ]
  },
  {
   "cell_type": "markdown",
   "metadata": {
    "id": "84ef46LXMfvu"
   },
   "source": [
    "## 4. Criar pipeline de entrada de dados\n",
    "\n",
    "Para criar um pipeline de entradas de dados usando as ferramentas do tensorFlow deve-se realizar as seguintes etapas:\n",
    "\n",
    "1. Criar objeto dataset\n",
    "2. Aplicar transformações desejadas nas colunas de dados\n",
    "3. Escolher quais colunas serão usadas como entrada da RNA\n",
    "\n",
    "\n",
    "### 4.1 Criar objetos dataset\n",
    "\n",
    "Para utilizar o módulo `feature_columns` para transformar os dados de entrada enquanto são carregados na RNA durante o treinamento, eles devem estar em um objeto dataset do TensorFlow. \n",
    "\n",
    "\n",
    "### Exercício #3: Criar dataset para pipeline de entrada\n",
    "\n",
    "Na célula abaixo crie uma função que realiza as seguintes operações:\n",
    "\n",
    "1. Copia dataframe para um novo dataframe sem vínculo com o anterior usando o método copy()\n",
    "2. Separa a coluna de saídas do dataframe\n",
    "3. Cria dataset com método `tf.data.Dataset.from_tensor_slices()` usando as entradas e as saídas do DataFrame copiad\n",
    "4. Embaralha dados se for desejado\n",
    "\n",
    "Após criar essa função crie os datasets com os dados de treinamento, validação e teste. Use `shuffle=True` para os dados de treinamento e `shuffle=False` para os dados de validação e teste."
   ]
  },
  {
   "cell_type": "code",
   "execution_count": null,
   "metadata": {
    "execution": {
     "iopub.execute_input": "2020-09-17T01:32:28.309624Z",
     "iopub.status.busy": "2020-09-17T01:32:28.308981Z",
     "iopub.status.idle": "2020-09-17T01:32:28.311606Z",
     "shell.execute_reply": "2020-09-17T01:32:28.311000Z"
    },
    "id": "NkcaMYP-MsRe"
   },
   "outputs": [],
   "source": [
    "# Para você fazer: Função para criar objeto dataset do TensorFlow\n",
    "\n",
    "# Define função usando o método tf.data.Dataset.from_tensor_slices\n",
    "def df_to_dataset(dataframe, shuffle=True, batch_size=32):\n",
    "    # Copia dataframe sem vínculo com o anterior usando método copy()\n",
    "\n",
    "    \n",
    "    # Separa saídas do dataframe\n",
    "\n",
    "    \n",
    "    # Cria dataset com método tf.data.Dataset.from_tensor_slices usando o DataFrame com as entradas e as saídas\n",
    "\n",
    "    \n",
    "    # verifica se deve embaralhar dados\n",
    "    if shuffle:\n",
    "\n",
    "    \n",
    "    # Cria lote de dados usando variável batch_size\n",
    "    \n",
    "    \n",
    "    # Retorna dataset\n",
    "    return ds\n",
    "\n",
    "# Define o tamanho do lote de exemplos\n",
    "batch_size = 32\n",
    "\n",
    "# Cria dataset de treinamento, validação e teste, para isso use:\n",
    "# shuffle=True para os dados de treinamento e shuffle=Flase para os dados de validação e teste\n"
   ]
  },
  {
   "cell_type": "markdown",
   "metadata": {},
   "source": [
    "Execute a célula abaixo para criar um lote de dados e verificar se o seu código está correto. Note que somente os 5 primeiros exemplos são mostrados."
   ]
  },
  {
   "cell_type": "code",
   "execution_count": null,
   "metadata": {},
   "outputs": [],
   "source": [
    "for feature_batch, label_batch in train_ds.take(1):\n",
    "    print('Lista das características:', list(feature_batch.keys()))\n",
    "    print('Um lote de tipo:', format(feature_batch['Type'][:5]))\n",
    "    print('Um lote de idade:', format(feature_batch['Age'][:5]))\n",
    "    print('Um lote de Breed1:', format(feature_batch['Breed1'][:5]))\n",
    "    print('Um lote de Gender:', format(feature_batch['Gender'][:5]))\n",
    "    print('Um lote de Color1:', format(feature_batch['Color1'][:5]))\n",
    "    print('Um lote de Color2:', format(feature_batch['Color2'][:5]))\n",
    "    print('Um lote de MaturitySize:', format(feature_batch['MaturitySize'][:5]))\n",
    "    print('Um lote de FurLength:', format(feature_batch['FurLength'][:5]))  \n",
    "    print('Um lote de Vaccinated:', format(feature_batch['Vaccinated'][:5]))   \n",
    "    print('Um lote de Sterilized:', format(feature_batch['Sterilized'][:5]))\n",
    "    print('Um lote de Health:', format(feature_batch['Health'][:5]))\n",
    "    print('Um lote de Fee:', format(feature_batch['Fee'][:5]))  \n",
    "    print('Um lote de PhotoAmt:', format(feature_batch['PhotoAmt'][:5]))   \n",
    "    print('Um lote de saída:', format(label_batch[:5]))"
   ]
  },
  {
   "cell_type": "markdown",
   "metadata": {},
   "source": [
    "**Saída desejada:**\n",
    "\n",
    "    Lista das características: ['Type', 'Age', 'Breed1', 'Gender', 'Color1', 'Color2', 'MaturitySize', 'FurLength', 'Vaccinated', 'Sterilized', 'Health', 'Fee', 'PhotoAmt']\n",
    "    Um lote de idade: [ 1  3 36  4 36]\n",
    "    Um lote de Breed1: [b'Mixed Breed' b'Rottweiler' b'Mixed Breed' b'Mixed Breed' b'Mixed Breed']\n",
    "    Um lote de Gender: [b'Female' b'Male' b'Male' b'Female' b'Male']\n",
    "    Um lote de Color1: [b'Black' b'Black' b'Brown' b'Brown' b'Brown']\n",
    "    Um lote de Color2: [b'No Color' b'Yellow' b'No Color' b'No Color' b'No Color']\n",
    "    Um lote de MaturitySize: [b'Medium' b'Medium' b'Medium' b'Medium' b'Medium']\n",
    "    Um lote de FurLength: [b'Long' b'Medium' b'Medium' b'Medium' b'Short']\n",
    "    Um lote de Vaccinated: [b'Yes' b'Yes' b'Not Sure' b'No' b'Yes']\n",
    "    Um lote de Sterilized: [b'No' b'No' b'Yes' b'No' b'Yes']\n",
    "    Um lote de Health: [b'Healthy' b'Healthy' b'Minor Injury' b'Healthy' b'Minor Injury']\n",
    "    Um lote de Fee: [0 0 0 0 0]\n",
    "    Um lote de PhotoAmt: [3 4 1 3 2]\n",
    "    Um lote de saída: [3 3 4 4 4]"
   ]
  },
  {
   "cell_type": "markdown",
   "metadata": {
    "id": "OT5N6Se-NQsC"
   },
   "source": [
    "- Pode-se ver que o dataset retorna um dicionário de nomes das colunas de dados e um lote de cada característica.\n",
    "\n",
    "- Observa-se que nesse conjunto de dados a maioria das caracteríticas são do tipo categóricas."
   ]
  },
  {
   "cell_type": "markdown",
   "metadata": {
    "id": "ttIvgLRaNoOQ"
   },
   "source": [
    "### 4.2 Função auxílar para verificar os resultados\n",
    "\n",
    "Para verificar se as transfromações que estamos implementando estão corretas temos que criar uma função para isso, como visto em aula.\n",
    "\n",
    "Execute a célula abaixo para criar um lote para ser usado como exemplo e criar a função para visualizar o resultado de uma transformação. Note que somente os 5 primeiros exemplos do lote serão mostrados."
   ]
  },
  {
   "cell_type": "code",
   "execution_count": null,
   "metadata": {
    "execution": {
     "iopub.execute_input": "2020-09-17T01:32:33.797019Z",
     "iopub.status.busy": "2020-09-17T01:32:33.796403Z",
     "iopub.status.idle": "2020-09-17T01:32:33.850798Z",
     "shell.execute_reply": "2020-09-17T01:32:33.851251Z"
    },
    "id": "mxwiHFHuNhmf"
   },
   "outputs": [],
   "source": [
    "# Lote para ser usado como exemplo\n",
    "example_batch = next(iter(train_ds))[0]\n",
    "\n",
    "# Função auxiliar para visualizar resulatdos de transfromações\n",
    "def demo(feature_column):\n",
    "    feature_layer = layers.DenseFeatures(feature_column)\n",
    "    print(feature_layer(example_batch).numpy()[:5])"
   ]
  },
  {
   "cell_type": "markdown",
   "metadata": {},
   "source": [
    "### 4.3 Transformação e inclusão das colunas\n",
    "\n",
    "Para os dados poderem ser usados por uma RNA eles devem ser transformados. \n",
    "\n",
    "Após definir cada uma das transformações temos que incluir as colunas que serão usadas pela RNA em uma lista.\n",
    "\n",
    "Execute a célula abaixo para inciar a lista de colunas que serão usadas pela RNA e o numéro de entradas total de cada exemplo, que é a soma das entradas de cada dado transformado."
   ]
  },
  {
   "cell_type": "code",
   "execution_count": null,
   "metadata": {},
   "outputs": [],
   "source": [
    "# Incializa lista de características desejadas\n",
    "columns_list = []\n",
    "\n",
    "# Inicializa número de entradas de cada exemplo\n",
    "num_input = 0"
   ]
  },
  {
   "cell_type": "markdown",
   "metadata": {
    "id": "Q7OEKe82N-Qb"
   },
   "source": [
    "### 4.4 Transformação das colunas \"Age\" e \"PhotoAmt\"\n",
    " \n",
    "A coluna \"Age\" representa a idade dos animais em meses. Essa coluna é de dados numéricos, que variam de 0 a 255 meses. \n",
    "\n",
    "A coluna \"PhotoAmt\" representa o número de fotos de cada animal. Essa coluna é de dados numéricos, que variam de 0 a 30.\n",
    "\n",
    "Tanto a idade como o número de fotos exatos de um animal não são muito importantes. Dessa forma, para utilizar essas duas colunas vamos segmentá-las em intervalos.\n",
    "\n",
    "Para a idade vamos utilizar em 6 intervalos:\n",
    "\n",
    "    idade < 3\n",
    "    3 <= idade < 6\n",
    "    6 <= idade < 12\n",
    "    12 <= idade < 60\n",
    "    60 <= idade < 120\n",
    "    idade >= 120\n",
    "    \n",
    "Para o número de fotos vamos utilizar 4 intervalos:\n",
    "\n",
    "    fotos < 1\n",
    "    1 <= fotos < 3\n",
    "    3 <= fotos < 5\n",
    "    fotos >= 5\n",
    "\n",
    "\n",
    "### Exercício #4: Segmentação das colunas \"Age\" e \"PhotoAmt\"\n",
    "\n",
    "Para segmentar uma coluna numérica usando o módulo `feature_column`, é necessário primeiramente definir a coluna como sendo numérica usando o método `feature_column.numeric_column`, para depois segmentá-la usando o método `feature_column.bucketized_column`. \n",
    "\n",
    "Na célula abaixo crie um código que segmenta a coluna \"Age\" nos 6 intervalos definidos acima."
   ]
  },
  {
   "cell_type": "code",
   "execution_count": null,
   "metadata": {
    "execution": {
     "iopub.execute_input": "2020-09-17T01:32:33.862157Z",
     "iopub.status.busy": "2020-09-17T01:32:33.861529Z",
     "iopub.status.idle": "2020-09-17T01:32:34.167801Z",
     "shell.execute_reply": "2020-09-17T01:32:34.167202Z"
    },
    "id": "QZTZ0HnHOCxC"
   },
   "outputs": [],
   "source": [
    "# Para você fazer: Segmentação da coluna Age\n",
    "\n",
    "# Define coluna como sendo de dados numéricos\n",
    "\n",
    "\n",
    "# Segmenta coluna\n",
    "\n",
    "\n",
    "# Mostra resultado\n",
    "demo(animal_age_segs)\n",
    "\n",
    "# Inclui coluna na lista de características desejadas\n",
    "\n",
    "\n",
    "# Atualiza número de entradas\n",
    "num_input += "
   ]
  },
  {
   "cell_type": "markdown",
   "metadata": {
    "id": "7a6ddSyzOKpq"
   },
   "source": [
    "**Saída esperada:** \n",
    "\n",
    "    [[1. 0. 0. 0. 0. 0.]\n",
    "     [0. 1. 0. 0. 0. 0.]\n",
    "     [0. 0. 0. 1. 0. 0.]\n",
    "     [0. 1. 0. 0. 0. 0.]\n",
    "     [0. 0. 0. 1. 0. 0.]]"
   ]
  },
  {
   "cell_type": "markdown",
   "metadata": {},
   "source": [
    "Na célula abaixo crie um código que segmenta a coluna \"PhotoAmt\" nos 4 intervalos definidos acima."
   ]
  },
  {
   "cell_type": "code",
   "execution_count": null,
   "metadata": {
    "execution": {
     "iopub.execute_input": "2020-09-17T01:32:33.862157Z",
     "iopub.status.busy": "2020-09-17T01:32:33.861529Z",
     "iopub.status.idle": "2020-09-17T01:32:34.167801Z",
     "shell.execute_reply": "2020-09-17T01:32:34.167202Z"
    },
    "id": "QZTZ0HnHOCxC"
   },
   "outputs": [],
   "source": [
    "# Para você fazer: Segmentação da coluna PhotoAmt\n",
    "\n",
    "# Define coluna como sendo de dados numéricos\n",
    "\n",
    "\n",
    "# Segmenat coluna\n",
    "\n",
    "\n",
    "# Mostra resultado\n",
    "demo(animal_photo_segs)\n",
    "\n",
    "# Inclui coluna na lista de características desejadas\n",
    "\n",
    "\n",
    "# Atualiza número de entradas\n",
    "num_input +="
   ]
  },
  {
   "cell_type": "markdown",
   "metadata": {
    "id": "7a6ddSyzOKpq"
   },
   "source": [
    "**Saída esperada:** \n",
    "\n",
    "    [[0. 0. 1. 0.]\n",
    "     [0. 0. 0. 1.]\n",
    "     [0. 0. 0. 1.]\n",
    "     [0. 1. 0. 0.]\n",
    "     [0. 0. 1. 0.]]"
   ]
  },
  {
   "cell_type": "markdown",
   "metadata": {},
   "source": [
    "### 4.5 Transformação da coluna \"Fee\"\n",
    "\n",
    "A coluna \"Fee\" representa a taxa paga para adotar um determinado animal. Essa coluna é de dados numéricos, sendo que seus valores de variam de 0 a 2000. Para poder ser usado pela RNA esses dados devem ser normalizados. A normalização que iremos utilizar para essa  coluna é transformar os dados para valores reais no intervalo de 0 a 1.\n",
    "\n",
    "### Exercício #5: Normalização da coluna \"Fee\"\n",
    "\n",
    "Para normalizar a coluna \"Fee\", ao transformá-la em uma coluna numérica selecionamos uma função para aplicar a normalização desejada.\n",
    "\n",
    "Na célula abaixo crie um código para fazer essas operações."
   ]
  },
  {
   "cell_type": "code",
   "execution_count": null,
   "metadata": {},
   "outputs": [],
   "source": [
    "# Para você fazer: Normalização da coluna Fee\n",
    "\n",
    "# Calcula valor máximo da coluna\n",
    "\n",
    "print('Fee máxima =', max_fee, '\\n')\n",
    "\n",
    "# Cria função para normalização\n",
    "def norm_max_fee(x):\n",
    "\n",
    "    \n",
    "# Aplica método tf.feature_column.numeric_column usando função norm_max_fee\n",
    "\n",
    "\n",
    "# Mostra resultado\n",
    "demo(animal_fee_norm)\n",
    "\n",
    "# Inclui coluna na lista de características desejadas\n",
    "\n",
    "\n",
    "# Atualiza número de entradas\n",
    "num_input += "
   ]
  },
  {
   "cell_type": "markdown",
   "metadata": {},
   "source": [
    "**Saída esperada:**\n",
    "\n",
    "    Fee máxima = 2000 \n",
    "\n",
    "    [[0. ]\n",
    "     [0. ]\n",
    "     [0. ]\n",
    "     [0. ]\n",
    "     [0.1]]"
   ]
  },
  {
   "cell_type": "markdown",
   "metadata": {
    "id": "r1tArzewPb-b"
   },
   "source": [
    "### 4.6 Transformação das colunas de dados categóricos\n",
    "\n",
    "As colunas de dados categóricos desse conjunto de dados são as seguintes:\n",
    "\n",
    "1. Type;\n",
    "2. Color1;\n",
    "3. Color2;\n",
    "4. Gender;\n",
    "5. MaturitySize;\n",
    "6. Furlength;\n",
    "7. vaccinated;\n",
    "8. Sterilized;\n",
    "9. Health.\n",
    "\n",
    "### Exercício #6: Transformação das colunas de dados categóricos\n",
    "\n",
    "Transforme todas essas colunas em dados categóricos e depois em vetores one-hot.\n",
    "\n",
    "- Para transformar as colunas em dados categóricos use o método `feature_column.categorical_column_with_vocabulary_list`. Para passar a lista de termos pode usar por exemplo, para a coluna \"Type\" `dataframe.Type.unique()`;\n",
    "\n",
    "\n",
    "- Para codificar as categorias em vetores one-hot use o método `feature_column.indicator_column`.\n"
   ]
  },
  {
   "cell_type": "code",
   "execution_count": null,
   "metadata": {
    "execution": {
     "iopub.execute_input": "2020-09-17T01:32:34.189142Z",
     "iopub.status.busy": "2020-09-17T01:32:34.188512Z",
     "iopub.status.idle": "2020-09-17T01:32:34.198389Z",
     "shell.execute_reply": "2020-09-17T01:32:34.197862Z"
    },
    "id": "DJ6QnSHkPtOC"
   },
   "outputs": [],
   "source": [
    "# Para você fazer: Coluna Type\n",
    "\n",
    "# Coluna Type\n",
    "\n",
    "\n",
    "# Mostra resultado\n",
    "demo(animal_type_one_hot)\n",
    "\n",
    "# Inclui coluna na lista de características desejadas\n",
    "\n",
    "\n",
    "# Atualiza número de entradas\n",
    "num_input += "
   ]
  },
  {
   "cell_type": "markdown",
   "metadata": {},
   "source": [
    "**saída esperada:**\n",
    "\n",
    "    [[1. 0.]\n",
    "     [1. 0.]\n",
    "     [1. 0.]\n",
    "     [0. 1.]\n",
    "     [0. 1.]]"
   ]
  },
  {
   "cell_type": "code",
   "execution_count": null,
   "metadata": {},
   "outputs": [],
   "source": [
    "# Para você fazer: Coluna Color1\n",
    "    \n",
    "# Coluna Color1\n",
    "\n",
    "\n",
    "# Mostra resultado\n",
    "demo(animal_color1_one_hot)\n",
    "\n",
    "# Inclui coluna na lista de características desejadas\n",
    "\n",
    "\n",
    "# Atualiza número de entradas\n",
    "num_input += "
   ]
  },
  {
   "cell_type": "markdown",
   "metadata": {},
   "source": [
    "**Saída esperada:**\n",
    "\n",
    "    [[1. 0. 0. 0. 0. 0. 0.]\n",
    "     [0. 0. 0. 1. 0. 0. 0.]\n",
    "     [0. 0. 0. 0. 0. 0. 1.]\n",
    "     [0. 0. 0. 0. 0. 1. 0.]\n",
    "     [0. 0. 0. 0. 1. 0. 0.]]"
   ]
  },
  {
   "cell_type": "code",
   "execution_count": null,
   "metadata": {},
   "outputs": [],
   "source": [
    "# Para você fazer: Coluna Color2\n",
    "    \n",
    "# Coluna Color2\n",
    "\n",
    "\n",
    "# Mostra resultado\n",
    "demo(animal_color2_one_hot)\n",
    "\n",
    "# Inclui coluna na lista de características desejadas\n",
    "\n",
    "\n",
    "# Atualiza número de entradas\n",
    "num_input += "
   ]
  },
  {
   "cell_type": "markdown",
   "metadata": {},
   "source": [
    "**Saída esperada:**\n",
    "\n",
    "    [[1. 0. 0. 0. 0. 0. 0.]\n",
    "     [1. 0. 0. 0. 0. 0. 0.]\n",
    "     [1. 0. 0. 0. 0. 0. 0.]\n",
    "     [0. 0. 1. 0. 0. 0. 0.]\n",
    "     [0. 0. 1. 0. 0. 0. 0.]]"
   ]
  },
  {
   "cell_type": "code",
   "execution_count": null,
   "metadata": {},
   "outputs": [],
   "source": [
    "# Para você fazer: Coluna Gender\n",
    "    \n",
    "# Coluna Gender\n",
    "\n",
    "\n",
    "# Mostra resultado\n",
    "demo(animal_gender_one_hot)\n",
    "\n",
    "# Inclui coluna na lista de características desejadas\n",
    "\n",
    "\n",
    "# Atualiza número de entradas\n",
    "num_input += "
   ]
  },
  {
   "cell_type": "markdown",
   "metadata": {},
   "source": [
    "**Saída esperada:**\n",
    "\n",
    "    [[0. 1.]\n",
    "     [0. 1.]\n",
    "     [1. 0.]\n",
    "     [1. 0.]\n",
    "     [1. 0.]]"
   ]
  },
  {
   "cell_type": "code",
   "execution_count": null,
   "metadata": {},
   "outputs": [],
   "source": [
    "# Para você fazer: Coluna MaturitySize\n",
    "    \n",
    "# Coluna MaturitySize\n",
    "\n",
    "\n",
    "# Mostra resultado\n",
    "demo(animal_MaturitySize_one_hot)\n",
    "\n",
    "# Inclui coluna na lista de características desejadas\n",
    "\n",
    "\n",
    "# Atualiza número de entradas\n",
    "num_input += "
   ]
  },
  {
   "cell_type": "markdown",
   "metadata": {},
   "source": [
    "**Saída esperada:**\n",
    "\n",
    "    [[0. 1. 0.]\n",
    "     [1. 0. 0.]\n",
    "     [0. 0. 1.]\n",
    "     [0. 1. 0.]\n",
    "     [0. 0. 1.]]"
   ]
  },
  {
   "cell_type": "code",
   "execution_count": null,
   "metadata": {},
   "outputs": [],
   "source": [
    "# Para você fazer: Coluna FurLength\n",
    "    \n",
    "# Coluna FurLength\n",
    "\n",
    "\n",
    "# Mostra resultado\n",
    "demo(animal_FurLength_one_hot)\n",
    "\n",
    "# Inclui coluna na lista de características desejadas\n",
    "\n",
    "\n",
    "# Atualiza número de entradas\n",
    "num_input += "
   ]
  },
  {
   "cell_type": "markdown",
   "metadata": {},
   "source": [
    "**Saída esperada:**\n",
    "\n",
    "    [[1. 0. 0.]\n",
    "     [0. 0. 1.]\n",
    "     [0. 1. 0.]\n",
    "     [0. 1. 0.]\n",
    "     [1. 0. 0.]]"
   ]
  },
  {
   "cell_type": "code",
   "execution_count": null,
   "metadata": {},
   "outputs": [],
   "source": [
    "# Para você fazer: Coluna Vaccinated\n",
    "    \n",
    "# Coluna Vaccinated\n",
    "\n",
    "\n",
    "# Mostra resultado\n",
    "demo(animal_Vaccinated_one_hot)\n",
    "\n",
    "# Inclui coluna na lista de características desejadas\n",
    "\n",
    "\n",
    "# Atualiza número de entradas\n",
    "num_input += "
   ]
  },
  {
   "cell_type": "markdown",
   "metadata": {},
   "source": [
    "**Saída esperada:**\n",
    "\n",
    "    [[1. 0. 0.]\n",
    "     [0. 0. 1.]\n",
    "     [0. 0. 1.]\n",
    "     [1. 0. 0.]\n",
    "     [0. 0. 1.]]"
   ]
  },
  {
   "cell_type": "code",
   "execution_count": null,
   "metadata": {},
   "outputs": [],
   "source": [
    "# Para você fazer: Coluna Sterilized\n",
    "    \n",
    "# Coluna Sterilized\n",
    "\n",
    "\n",
    "# Mostra resultados\n",
    "demo(animal_Sterilized_one_hot)\n",
    "\n",
    "# Inclui coluna na lista de características desejadas\n",
    "\n",
    "\n",
    "# Atualiza número de entradas\n",
    "num_input += "
   ]
  },
  {
   "cell_type": "markdown",
   "metadata": {},
   "source": [
    "**Saída esperada:**\n",
    "\n",
    "    [[1. 0. 0.]\n",
    "     [0. 0. 1.]\n",
    "     [0. 1. 0.]\n",
    "     [1. 0. 0.]\n",
    "     [1. 0. 0.]]"
   ]
  },
  {
   "cell_type": "code",
   "execution_count": null,
   "metadata": {},
   "outputs": [],
   "source": [
    "# Para você fazer: Coluna Health\n",
    "    \n",
    "# Coluna Health\n",
    "\n",
    "\n",
    "# Mostra resultados\n",
    "demo(animal_Health_one_hot)\n",
    "\n",
    "# Inclui coluna na lista de características desejadas\n",
    "\n",
    "\n",
    "# Atualiza número de entradas\n",
    "num_input += "
   ]
  },
  {
   "cell_type": "markdown",
   "metadata": {},
   "source": [
    "**Saída esperada:**\n",
    "\n",
    "    [[1. 0. 0.]\n",
    "     [1. 0. 0.]\n",
    "     [1. 0. 0.]\n",
    "     [1. 0. 0.]\n",
    "     [1. 0. 0.]]"
   ]
  },
  {
   "cell_type": "markdown",
   "metadata": {
    "id": "LEFPjUr6QmwS"
   },
   "source": [
    "### 4.7 Transformação da coluna \"Breed1\"\n",
    "\n",
    "A coluna que fornece a raça (\"Breed1\") do animal possui 307 termos diferentes. Transformar essa coluna em vetores one-hot criaria colunas com muitos zeros, o que seria inconveniente. Portanto, nesse caso é melhor utilizar a codificação \"embedding\" para descrever esses 307 termos diferentes que representam as possíveis raças dos animais. \n",
    "\n",
    "Ressalta-se que usar uma codificação \"embedding\" é melhor para representar dados categóricos quando se tem muitas categorias possíveis. \n",
    "\n",
    "\n",
    "### Exercício #7: Transformação da coluna \"Breed1\"\n",
    "\n",
    "Na célula abaixo crie um código que realiza a codificação \"embedding\" da  coluna \"Breed'\". Observa-se que o tamanho dos vetores \"embedding\" é um parâmetro que deve ser ajustado. Nesse trabalho tentaremos usar vetores com 8 elementos.\n",
    "\n",
    "Para fazer essa transformação você deve primeiramente transformar os dados em categorias, usando o método `feature_column.categorical_column_with_vocabulary_list`, para depois realizar a codificação \"embeding\" usando o método `feature_column.embedding_column`. "
   ]
  },
  {
   "cell_type": "code",
   "execution_count": null,
   "metadata": {
    "execution": {
     "iopub.execute_input": "2020-09-17T01:32:34.204173Z",
     "iopub.status.busy": "2020-09-17T01:32:34.203546Z",
     "iopub.status.idle": "2020-09-17T01:32:34.227773Z",
     "shell.execute_reply": "2020-09-17T01:32:34.226988Z"
    },
    "id": "hSlohmr2Q_UU"
   },
   "outputs": [],
   "source": [
    "# Para você fazer:\n",
    "\n",
    "# Transformação da coluna Breed1 em categórica\n",
    "\n",
    "\n",
    "# Transfromação em vetores \"embedding\"\n",
    "\n",
    "\n",
    "# Mostra resultados\n",
    "demo(breed1_embedding)\n",
    "\n",
    "# Inclui coluna na lista de características desejadas\n",
    "\n",
    "\n",
    "# Atualiza número de entradas\n",
    "num_input += "
   ]
  },
  {
   "cell_type": "markdown",
   "metadata": {},
   "source": [
    "**Saída esperada:**\n",
    "\n",
    "    [[-0.42777395  0.27999237  0.24018171  0.07493864  0.2034157  -0.09776279\n",
    "       0.18314685  0.04246866]\n",
    "     [ 0.22655667  0.16137254  0.33353806  0.21287134  0.27651897 -0.16279218\n",
    "      -0.25303188 -0.33496138]\n",
    "     [-0.07981153  0.10738403 -0.27436027 -0.1045252   0.11560448 -0.37660906\n",
    "      -0.13173237 -0.29564175]\n",
    "     [-0.3764975  -0.2668523  -0.11631445 -0.15872143  0.23671539 -0.12712602\n",
    "      -0.2112993   0.30894685]\n",
    "     [-0.25282273  0.52100515  0.03996713 -0.5479238   0.5706844  -0.25294143\n",
    "       0.5259882  -0.42650932]]\n",
    "       \n",
    "- Observe que os valores dos elementos dos vetores \"embedding\" são aprendidos durante o treinamento do RNA. Esses valores nesse momento são números aleatórios utilizados para incializar os vetores."
   ]
  },
  {
   "cell_type": "markdown",
   "metadata": {},
   "source": [
    "### 4.8 Verificação da lista de colunas\n",
    "\n",
    "Execute a célula abaixo para verificar se a lista de características usadas pela RNA está correta e o número de entradas de cada exemplo."
   ]
  },
  {
   "cell_type": "code",
   "execution_count": null,
   "metadata": {},
   "outputs": [],
   "source": [
    "print('Número de entradas =', num_input)\n",
    "print('\\nLista de colunas de características:')\n",
    "for i in range(13):\n",
    "    print(i+1, '-', columns_list[i])"
   ]
  },
  {
   "cell_type": "markdown",
   "metadata": {},
   "source": [
    "**Saída esperada:**\n",
    "\n",
    "    Número de entradas = 52\n",
    "\n",
    "    Lista de colunas de características:\n",
    "    1 - BucketizedColumn(source_column=NumericColumn(key='Age', shape=(1,), default_value=None, dtype=tf.float32, normalizer_fn=None), boundaries=(3, 6, 12, 60, 120)) \n",
    "    2 - BucketizedColumn(source_column=NumericColumn(key='PhotoAmt', shape=(1,), default_value=None, dtype=tf.float32, normalizer_fn=None), boundaries=(1, 3, 5)) \n",
    "    .\n",
    "    .\n",
    "    .\n",
    "    12 - IndicatorColumn(categorical_column=VocabularyListCategoricalColumn(key='Health', vocabulary_list=('Healthy', 'Minor Injury', 'Serious Injury'), dtype=tf.string, default_value=-1, num_oov_buckets=0)) \n",
    "    13 - EmbeddingColumn(categorical_column=VocabularyListCategoricalColumn(key='Breed1', vocabulary_list=('Tabby', 'Domestic Medium Hair', 'Mixed Breed', 'Domestic Short Hair', 'Domestic Long Hair', 'Terrier', 'Persian', 'Rottweiler', 'Jack Russell Terrie ... "
   ]
  },
  {
   "cell_type": "markdown",
   "metadata": {
    "id": "M-nDp8krS_ts"
   },
   "source": [
    "## 5. Criar e compilar a RNA\n",
    "\n",
    "Após definir as tranformações desejadas nos dados, vamos criar a RNA para realizar a tarefa de classificação multiclasse para prever a velocidade de adoção dos animais.\n",
    "\n",
    "\n",
    "### Exercício #8: Configurar RNA\n",
    "\n",
    "Para configurar a RNA, a primeira etapa é definir uma camada tipo `DenseFeatures` para inserir as colunas de características selecionadas na variável `columns_list`.\n",
    "\n",
    "A RNA que iremos usar incicialmente tem a seguinte arquitetura:\n",
    "\n",
    "1. Uma camada tipo `DenseFeatures`;\n",
    "2. Uma camada intermediária tipo `Dense`, com 128 neurônios e função de ativação ReLu;\n",
    "3. Uma camada intermediária tipo `Dense`, com 128 neurônios e função de ativação ReLu;\n",
    "4. Uma camada de saída tipo `Dense`, com 5 neurônios e função de ativação softmax.\n",
    "\n",
    "Observe que temos 4 classes de velocidade de adoção, cujos índices variam de 0 a 3.\n",
    "\n",
    "Realize essas operações na célula abaixo."
   ]
  },
  {
   "cell_type": "code",
   "execution_count": null,
   "metadata": {
    "execution": {
     "iopub.execute_input": "2020-09-17T01:32:34.313386Z",
     "iopub.status.busy": "2020-09-17T01:32:34.312680Z",
     "iopub.status.idle": "2020-09-17T01:32:34.315677Z",
     "shell.execute_reply": "2020-09-17T01:32:34.315152Z"
    },
    "id": "6o-El1R2TGQP"
   },
   "outputs": [],
   "source": [
    "# Para você fazer: Configurar a RNA\n",
    "\n",
    "# Cria camada DenseFeatures\n",
    "\n",
    "\n",
    "# Configura RNA\n",
    "\n",
    "\n",
    "# Sumário da rede\n",
    "rna.summary"
   ]
  },
  {
   "cell_type": "markdown",
   "metadata": {},
   "source": [
    "**Saída esperada:**\n",
    "\n",
    "    <bound method Model.summary of <tensorflow.python.keras.engine.sequential.Sequential object at 0x00000200A691F9C8>>"
   ]
  },
  {
   "cell_type": "markdown",
   "metadata": {},
   "source": [
    "### Exercício #9: Compilar RNA\n",
    "\n",
    "Para treinar a RNA tente usar inicialmente os seguintes parâmetros:\n",
    "\n",
    "- Otimizador: SGD\n",
    "- Taxa de aprendizado: 0.01\n",
    "- Função de custo: SparseCategoricalCrossentropy\n",
    "- Métrica: Accuracy\n",
    "\n",
    "Na célula abaixo compile a sua RNA com esses parâmetros."
   ]
  },
  {
   "cell_type": "code",
   "execution_count": null,
   "metadata": {},
   "outputs": [],
   "source": [
    "# Para você fazer: Compilar RNA\n",
    "\n",
    "# Compila RNA\n"
   ]
  },
  {
   "cell_type": "markdown",
   "metadata": {},
   "source": [
    "## 6. Treinar e avaliar a RNA\n",
    "\n",
    "### Exercício #10: Treinar a RNA\n",
    "\n",
    "Na célula abaixo treine a sua RNA usando 50 épocas. Use os dados de validação para verificar se está ocorrendo problemas de overfitting."
   ]
  },
  {
   "cell_type": "code",
   "execution_count": null,
   "metadata": {},
   "outputs": [],
   "source": [
    "# Para você fazer: \n",
    "\n",
    "# Treinar a RNA\n",
    "\n"
   ]
  },
  {
   "cell_type": "markdown",
   "metadata": {},
   "source": [
    "**Saída esperada:**\n",
    "\n",
    "    Epoch 50/50\n",
    "    253/253 [==============================] - 1s 4ms/step - loss: 0.5468 - accuracy: 0.7777 - val_loss: 2.4025 - val_accuracy: 0.3403"
   ]
  },
  {
   "cell_type": "markdown",
   "metadata": {},
   "source": [
    "Execute a célula abaixo para verificar como foi o processo de treinamento da sua RNA."
   ]
  },
  {
   "cell_type": "code",
   "execution_count": null,
   "metadata": {},
   "outputs": [],
   "source": [
    "# Recupera resultados de treinamento do dicinário history\n",
    "acc      = results.history['accuracy']\n",
    "val_acc  = results.history['val_accuracy']\n",
    "loss     = results.history['loss']\n",
    "val_loss = results.history['val_loss']\n",
    "\n",
    "# Cria vetor de épocas\n",
    "epocas   = range(len(acc)) \n",
    "\n",
    "# Gráfico dos valores da função de custo\n",
    "plt.plot(epocas, loss, 'r', label='Custo - treinamento')\n",
    "plt.plot(epocas, val_loss, 'b', label='Custo - validação')\n",
    "plt.title('Valor da função de custo – treinamento e validação')\n",
    "plt.xlabel('Épocas')\n",
    "plt.ylabel('Custo')\n",
    "plt.legend()\n",
    "plt.show()\n",
    "\n",
    "# Gráfico dos valores da métrica\n",
    "plt.plot(epocas, acc, 'r', label='exatidao- treinamento')\n",
    "plt.plot(epocas, val_acc, 'b', label='exatidao - validação')\n",
    "plt.title('Valor da métrica – treinamento e validação')\n",
    "plt.xlabel('Épocas')\n",
    "plt.ylabel('Exatidao')\n",
    "plt.legend()\n",
    "plt.show()"
   ]
  },
  {
   "cell_type": "markdown",
   "metadata": {},
   "source": [
    "### Exercício #11: Avaliação da RNA\n",
    "\n",
    "Calcule o valor da função de custo e da métrica para os dados de teste."
   ]
  },
  {
   "cell_type": "code",
   "execution_count": null,
   "metadata": {
    "execution": {
     "iopub.execute_input": "2020-09-17T01:32:54.628220Z",
     "iopub.status.busy": "2020-09-17T01:32:54.627559Z",
     "iopub.status.idle": "2020-09-17T01:32:55.009975Z",
     "shell.execute_reply": "2020-09-17T01:32:55.009413Z"
    },
    "id": "GnFmMOW0Tcaa"
   },
   "outputs": [],
   "source": [
    "# Para você fazer: Avaliar a RNA para os dados de teste\n",
    "\n"
   ]
  },
  {
   "cell_type": "markdown",
   "metadata": {},
   "source": [
    "**Saída esperada:**\n",
    "\n",
    "    55/55 [==============================] - 0s 2ms/step - loss: 2.3789 - accuracy: 0.3333"
   ]
  },
  {
   "cell_type": "markdown",
   "metadata": {
    "id": "3bdfbq20V6zu"
   },
   "source": [
    "### Exercício #12: Teste da RNA para alguns exemplos de teste\n",
    "\n",
    "Na célula abaixo gere um lote de dados de teste, calcule a previsão da RNA para esses dados, determine as classes a partir das previsões da RNA e faça um gráfico dos resultados."
   ]
  },
  {
   "cell_type": "code",
   "execution_count": null,
   "metadata": {},
   "outputs": [],
   "source": [
    "# Para você fazer:\n",
    "\n",
    "# Gera um lote de exemplos de dados do conjunto de teste\n",
    "for x, y in test_ds.take(1):\n",
    "    # calcula previsão da RNA\n",
    "    y_prev = rna.predict(x)\n",
    "    \n",
    "    # Identifica classes dos exemplos\n",
    "    y_prev = np.argmax(rna.predict(x), axis=1)\n",
    "    \n",
    "    # Mostra saídas real e prevista\n",
    "    plt.figure(figsize=(16,5))\n",
    "    plt.plot(y, 'ro', label='Classe real')\n",
    "    plt.plot(y_prev, 'bo', label='Classe prevista')\n",
    "    plt.legend()\n",
    "    plt.show()"
   ]
  },
  {
   "cell_type": "markdown",
   "metadata": {},
   "source": [
    "- Observe que cada círculo vermelho que aparece na figura representa um erro de classificação."
   ]
  },
  {
   "cell_type": "markdown",
   "metadata": {
    "id": "SotnhVWuHQCw"
   },
   "source": [
    "## 7. Para você fazer\n",
    "\n",
    "Como você deve ter percebido os resultados apresentam muito overfitting e são muito insatisfatórios.\n",
    "\n",
    "Pense no que você pode fazer para melhorar os dados. Algumas dicas:\n",
    "\n",
    "1. Usar transformações diferentes nos dados de entrada, tais como, usar intervalos de segmentação diferentes, normalizar valores numéricos de outra forma, agrupar classes de dados categóricos, usar outras características etc.\n",
    "\n",
    "2. Tentar usar regularização L1, L2 e/ou dropout.\n",
    "\n",
    "3. Alterar a configuração da RNA, tal como, usar menos/mais camadas, usar menos/mais neurônios, usar outra configuração de rede (residual por exemplo) etc.\n",
    "\n",
    "**Implemente algumas dessas modificações sugeridas no seu trabalho. A sua nota nesse trabalho depende do desempenho que você conseguir obter com a sua RNA nos dados de teste.**"
   ]
  }
 ],
 "metadata": {
  "accelerator": "GPU",
  "colab": {
   "collapsed_sections": [],
   "name": "feature_columns.ipynb",
   "toc_visible": true
  },
  "kernelspec": {
   "display_name": "Python 3",
   "language": "python",
   "name": "python3"
  },
  "language_info": {
   "codemirror_mode": {
    "name": "ipython",
    "version": 3
   },
   "file_extension": ".py",
   "mimetype": "text/x-python",
   "name": "python",
   "nbconvert_exporter": "python",
   "pygments_lexer": "ipython3",
   "version": "3.7.4"
  }
 },
 "nbformat": 4,
 "nbformat_minor": 1
}
