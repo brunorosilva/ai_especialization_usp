{
 "cells": [
  {
   "cell_type": "markdown",
   "metadata": {
    "cellView": "form",
    "execution": {
     "iopub.execute_input": "2020-09-17T01:32:20.138023Z",
     "iopub.status.busy": "2020-09-17T01:32:20.137369Z",
     "iopub.status.idle": "2020-09-17T01:32:20.139719Z",
     "shell.execute_reply": "2020-09-17T01:32:20.139219Z"
    },
    "id": "I1dUQ0GejU8N"
   },
   "source": [
    "# Trabalho #4 - Data pipeline \n",
    "\n",
    "\n",
    "Nesse trabalho você vai utilizar um conjunto de dados estruturados para realizar uma tarefa de classificação multiclasse. Para isso, você vai utilizar o  módulo `feature_columns` para criar um pipeline de entrada para a RNA. \n",
    "\n",
    "As etapas que você vai realizar para finalizar esse trabalho são as seguintes:\n",
    "\n",
    "1. Carregar um arquivo CSV usando Pandas;\n",
    "2. Construir um pipeline de entrada;\n",
    "3. Transformar as colunas de dados usando o módulo `feature_columns`;\n",
    "4. Construir, treinar e avaliar uma RNA.\n",
    "\n",
    "O conjunto de dados utilizado nesse trabalho consiste de uma versão simplificada do conjunto \"PetFinder.my Adoption Prediction\", que está disponível no Kaggle em https://www.kaggle.com/c/petfinder-adoption-prediction."
   ]
  },
  {
   "cell_type": "markdown",
   "metadata": {
    "id": "ezJ1CS3jj333"
   },
   "source": [
    "## Coloque seu nome aqui:\n",
    "\n",
    "Nome: Bruno Rodrigues Silva"
   ]
  },
  {
   "cell_type": "markdown",
   "metadata": {
    "id": "7RphSN01j334"
   },
   "source": [
    "## Importar principais bibliotecas e funções"
   ]
  },
  {
   "cell_type": "code",
   "execution_count": 1,
   "metadata": {
    "id": "cV1iuuwnj335"
   },
   "outputs": [],
   "source": [
    "import numpy as np\n",
    "import pandas as pd\n",
    "import matplotlib.pyplot as plt\n",
    "import tensorflow as tf\n",
    "from tensorflow import feature_column\n",
    "from tensorflow.keras.models import Sequential\n",
    "from tensorflow.keras import layers\n",
    "from sklearn.model_selection import train_test_split"
   ]
  },
  {
   "cell_type": "markdown",
   "metadata": {
    "id": "0UsvQOOuj336"
   },
   "source": [
    "## 1. Objetivo do trabalho\n",
    "\n",
    "As instruções dadas ao longo do enunciado desse trabalho consistem apenas de indicações para facilitar o desenvolvimento do seu trabalho e não precisam ser seguidas exatamente como são fornecidas. \n",
    "\n",
    "Você vai verificar que se seguir exatamente as instruções para realizar esse trabalho os resultados obtidos serão insatisfatórios.\n",
    "\n",
    "O que é esperado de você nesse trabalho é implementar um pipeline de dados e uma RNA que apresenta um desempenho nos resultados de teste melhor do que o obtido simplesmente seguindo as instruções dadas. Assim, você deve tentar realizar modificações no que é sugerido para atingir resultados satisfatórios."
   ]
  },
  {
   "cell_type": "markdown",
   "metadata": {
    "id": "K1y4OHpGgss7"
   },
   "source": [
    "## 2. Conjunto de dados\n",
    "\n",
    "### 2.1 Descrição dos dados\n",
    "\n",
    "Existem mais de 11.000 de exemplos (linhas) nesse conjunto de dados, que está na forma de um arquivo tipo CSV. Cada linha descreve um animal de estimação e cada coluna descreve uma característica do animal. Usaremos essas informações para prever a velocidade de adoção de um animal em função de suas características.\n",
    "\n",
    "A seguir está uma descrição deste conjunto de dados. Observe que existem colunas numéricas e categóricas. Existe também uma coluna de texto livre que não será usada nesse trabalho.\n",
    "\n",
    "**Entradas:**\n",
    "\n",
    "- Type - Type of animal (1 = Dog, 2 = Cat)\n",
    "- Age - Age of pet when listed, in months\n",
    "- Breed1 - Primary breed of pet (307 valores - Refer to BreedLabels dictionary)\n",
    "- Gender - Gender of pet (1 = Male, 2 = Female, 3 = Mixed, if profile represents group of pets)\n",
    "- Color1 - Color 1 of pet (7 values - Refer to ColorLabels dictionary)\n",
    "- Color2 - Color 2 of pet (7 values - Refer to ColorLabels dictionary)\n",
    "- MaturitySize - Size at maturity (1 = Small, 2 = Medium, 3 = Large, 4 = Extra Large, 0 = Not Specified)\n",
    "- FurLength - Fur length (1 = Short, 2 = Medium, 3 = Long, 0 = Not Specified)\n",
    "- Vaccinated - Pet has been vaccinated (1 = Yes, 2 = No, 3 = Not Sure)\n",
    "- Sterilized - Pet has been spayed / neutered (1 = Yes, 2 = No, 3 = Not Sure)\n",
    "- Health - Health Condition (1 = Healthy, 2 = Minor Injury, 3 = Serious Injury, 0 = Not Specified)\n",
    "- Fee - Adoption fee (0 = Free)\n",
    "- Description - Profile write-up for this pet. The primary language used is English, with some in Malay or Chinese\n",
    "- PhotoAmt - Total uploaded photos for this pet\n",
    "\n",
    "**Saída:**\n",
    "\n",
    "- AdoptionSpeed\n",
    "   - 0 - Pet was adopted on the same day as it was listed.\n",
    "   - 1 - Pet was adopted between 1 and 7 days (1st week) after being listed.\n",
    "   - 2 - Pet was adopted between 8 and 30 days (1st month) after being listed.\n",
    "   - 3 - Pet was adopted between 31 and 90 days (2nd & 3rd month) after being listed.\n",
    "   - 4 - No adoption after 100 days of being listed. (There are no pets in this dataset that waited between 90 and 100 days)."
   ]
  },
  {
   "cell_type": "markdown",
   "metadata": {
    "id": "KCEhSZcULZ9n"
   },
   "source": [
    "### 2.2 Carregar dados\n",
    "\n",
    "Esse conjunto de dados está disponível no TensorFlow Dataset e são carregados de uma URL. Usaremos o Pandas para carregar o arquivo CSV em um DataFrame. Execute a célula abaixo para carregar os dados."
   ]
  },
  {
   "cell_type": "code",
   "execution_count": 2,
   "metadata": {
    "colab": {
     "base_uri": "https://localhost:8080/",
     "height": 589
    },
    "execution": {
     "iopub.execute_input": "2020-09-17T01:32:27.933335Z",
     "iopub.status.busy": "2020-09-17T01:32:27.932590Z",
     "iopub.status.idle": "2020-09-17T01:32:28.241312Z",
     "shell.execute_reply": "2020-09-17T01:32:28.240493Z"
    },
    "id": "REZ57BXCLdfG",
    "outputId": "48871d6d-9d67-45a2-cb15-78a2493edf34"
   },
   "outputs": [
    {
     "name": "stdout",
     "output_type": "stream",
     "text": [
      "Dimensão dos dados: (11537, 15)\n"
     ]
    },
    {
     "data": {
      "text/html": [
       "<div>\n",
       "<style scoped>\n",
       "    .dataframe tbody tr th:only-of-type {\n",
       "        vertical-align: middle;\n",
       "    }\n",
       "\n",
       "    .dataframe tbody tr th {\n",
       "        vertical-align: top;\n",
       "    }\n",
       "\n",
       "    .dataframe thead th {\n",
       "        text-align: right;\n",
       "    }\n",
       "</style>\n",
       "<table border=\"1\" class=\"dataframe\">\n",
       "  <thead>\n",
       "    <tr style=\"text-align: right;\">\n",
       "      <th></th>\n",
       "      <th>Type</th>\n",
       "      <th>Age</th>\n",
       "      <th>Breed1</th>\n",
       "      <th>Gender</th>\n",
       "      <th>Color1</th>\n",
       "      <th>Color2</th>\n",
       "      <th>MaturitySize</th>\n",
       "      <th>FurLength</th>\n",
       "      <th>Vaccinated</th>\n",
       "      <th>Sterilized</th>\n",
       "      <th>Health</th>\n",
       "      <th>Fee</th>\n",
       "      <th>Description</th>\n",
       "      <th>PhotoAmt</th>\n",
       "      <th>AdoptionSpeed</th>\n",
       "    </tr>\n",
       "  </thead>\n",
       "  <tbody>\n",
       "    <tr>\n",
       "      <th>0</th>\n",
       "      <td>Cat</td>\n",
       "      <td>3</td>\n",
       "      <td>Tabby</td>\n",
       "      <td>Male</td>\n",
       "      <td>Black</td>\n",
       "      <td>White</td>\n",
       "      <td>Small</td>\n",
       "      <td>Short</td>\n",
       "      <td>No</td>\n",
       "      <td>No</td>\n",
       "      <td>Healthy</td>\n",
       "      <td>100</td>\n",
       "      <td>Nibble is a 3+ month old ball of cuteness. He ...</td>\n",
       "      <td>1</td>\n",
       "      <td>2</td>\n",
       "    </tr>\n",
       "    <tr>\n",
       "      <th>1</th>\n",
       "      <td>Cat</td>\n",
       "      <td>1</td>\n",
       "      <td>Domestic Medium Hair</td>\n",
       "      <td>Male</td>\n",
       "      <td>Black</td>\n",
       "      <td>Brown</td>\n",
       "      <td>Medium</td>\n",
       "      <td>Medium</td>\n",
       "      <td>Not Sure</td>\n",
       "      <td>Not Sure</td>\n",
       "      <td>Healthy</td>\n",
       "      <td>0</td>\n",
       "      <td>I just found it alone yesterday near my apartm...</td>\n",
       "      <td>2</td>\n",
       "      <td>0</td>\n",
       "    </tr>\n",
       "    <tr>\n",
       "      <th>2</th>\n",
       "      <td>Dog</td>\n",
       "      <td>1</td>\n",
       "      <td>Mixed Breed</td>\n",
       "      <td>Male</td>\n",
       "      <td>Brown</td>\n",
       "      <td>White</td>\n",
       "      <td>Medium</td>\n",
       "      <td>Medium</td>\n",
       "      <td>Yes</td>\n",
       "      <td>No</td>\n",
       "      <td>Healthy</td>\n",
       "      <td>0</td>\n",
       "      <td>Their pregnant mother was dumped by her irresp...</td>\n",
       "      <td>7</td>\n",
       "      <td>3</td>\n",
       "    </tr>\n",
       "    <tr>\n",
       "      <th>3</th>\n",
       "      <td>Dog</td>\n",
       "      <td>4</td>\n",
       "      <td>Mixed Breed</td>\n",
       "      <td>Female</td>\n",
       "      <td>Black</td>\n",
       "      <td>Brown</td>\n",
       "      <td>Medium</td>\n",
       "      <td>Short</td>\n",
       "      <td>Yes</td>\n",
       "      <td>No</td>\n",
       "      <td>Healthy</td>\n",
       "      <td>150</td>\n",
       "      <td>Good guard dog, very alert, active, obedience ...</td>\n",
       "      <td>8</td>\n",
       "      <td>2</td>\n",
       "    </tr>\n",
       "    <tr>\n",
       "      <th>4</th>\n",
       "      <td>Dog</td>\n",
       "      <td>1</td>\n",
       "      <td>Mixed Breed</td>\n",
       "      <td>Male</td>\n",
       "      <td>Black</td>\n",
       "      <td>No Color</td>\n",
       "      <td>Medium</td>\n",
       "      <td>Short</td>\n",
       "      <td>No</td>\n",
       "      <td>No</td>\n",
       "      <td>Healthy</td>\n",
       "      <td>0</td>\n",
       "      <td>This handsome yet cute boy is up for adoption....</td>\n",
       "      <td>3</td>\n",
       "      <td>2</td>\n",
       "    </tr>\n",
       "    <tr>\n",
       "      <th>...</th>\n",
       "      <td>...</td>\n",
       "      <td>...</td>\n",
       "      <td>...</td>\n",
       "      <td>...</td>\n",
       "      <td>...</td>\n",
       "      <td>...</td>\n",
       "      <td>...</td>\n",
       "      <td>...</td>\n",
       "      <td>...</td>\n",
       "      <td>...</td>\n",
       "      <td>...</td>\n",
       "      <td>...</td>\n",
       "      <td>...</td>\n",
       "      <td>...</td>\n",
       "      <td>...</td>\n",
       "    </tr>\n",
       "    <tr>\n",
       "      <th>11532</th>\n",
       "      <td>Dog</td>\n",
       "      <td>24</td>\n",
       "      <td>Poodle</td>\n",
       "      <td>Male</td>\n",
       "      <td>Brown</td>\n",
       "      <td>Golden</td>\n",
       "      <td>Medium</td>\n",
       "      <td>Medium</td>\n",
       "      <td>Not Sure</td>\n",
       "      <td>No</td>\n",
       "      <td>Healthy</td>\n",
       "      <td>0</td>\n",
       "      <td>been at my place for a while..am hoping to fin...</td>\n",
       "      <td>0</td>\n",
       "      <td>4</td>\n",
       "    </tr>\n",
       "    <tr>\n",
       "      <th>11533</th>\n",
       "      <td>Cat</td>\n",
       "      <td>1</td>\n",
       "      <td>Domestic Short Hair</td>\n",
       "      <td>Female</td>\n",
       "      <td>Cream</td>\n",
       "      <td>Gray</td>\n",
       "      <td>Medium</td>\n",
       "      <td>Short</td>\n",
       "      <td>No</td>\n",
       "      <td>No</td>\n",
       "      <td>Healthy</td>\n",
       "      <td>0</td>\n",
       "      <td>1 month old white + grey kitten for adoption n...</td>\n",
       "      <td>1</td>\n",
       "      <td>3</td>\n",
       "    </tr>\n",
       "    <tr>\n",
       "      <th>11534</th>\n",
       "      <td>Dog</td>\n",
       "      <td>6</td>\n",
       "      <td>Schnauzer</td>\n",
       "      <td>Female</td>\n",
       "      <td>Black</td>\n",
       "      <td>White</td>\n",
       "      <td>Small</td>\n",
       "      <td>Long</td>\n",
       "      <td>Yes</td>\n",
       "      <td>No</td>\n",
       "      <td>Healthy</td>\n",
       "      <td>0</td>\n",
       "      <td>ooooo</td>\n",
       "      <td>1</td>\n",
       "      <td>0</td>\n",
       "    </tr>\n",
       "    <tr>\n",
       "      <th>11535</th>\n",
       "      <td>Cat</td>\n",
       "      <td>9</td>\n",
       "      <td>Domestic Short Hair</td>\n",
       "      <td>Female</td>\n",
       "      <td>Yellow</td>\n",
       "      <td>White</td>\n",
       "      <td>Small</td>\n",
       "      <td>Short</td>\n",
       "      <td>Yes</td>\n",
       "      <td>Yes</td>\n",
       "      <td>Healthy</td>\n",
       "      <td>0</td>\n",
       "      <td>she is very shy..adventures and independent..s...</td>\n",
       "      <td>3</td>\n",
       "      <td>4</td>\n",
       "    </tr>\n",
       "    <tr>\n",
       "      <th>11536</th>\n",
       "      <td>Dog</td>\n",
       "      <td>1</td>\n",
       "      <td>Mixed Breed</td>\n",
       "      <td>Male</td>\n",
       "      <td>Brown</td>\n",
       "      <td>No Color</td>\n",
       "      <td>Medium</td>\n",
       "      <td>Short</td>\n",
       "      <td>No</td>\n",
       "      <td>No</td>\n",
       "      <td>Healthy</td>\n",
       "      <td>0</td>\n",
       "      <td>Fili just loves laying around and also loves b...</td>\n",
       "      <td>1</td>\n",
       "      <td>3</td>\n",
       "    </tr>\n",
       "  </tbody>\n",
       "</table>\n",
       "<p>11537 rows × 15 columns</p>\n",
       "</div>"
      ],
      "text/plain": [
       "      Type  Age  ... PhotoAmt AdoptionSpeed\n",
       "0      Cat    3  ...        1             2\n",
       "1      Cat    1  ...        2             0\n",
       "2      Dog    1  ...        7             3\n",
       "3      Dog    4  ...        8             2\n",
       "4      Dog    1  ...        3             2\n",
       "...    ...  ...  ...      ...           ...\n",
       "11532  Dog   24  ...        0             4\n",
       "11533  Cat    1  ...        1             3\n",
       "11534  Dog    6  ...        1             0\n",
       "11535  Cat    9  ...        3             4\n",
       "11536  Dog    1  ...        1             3\n",
       "\n",
       "[11537 rows x 15 columns]"
      ]
     },
     "execution_count": 2,
     "metadata": {
      "tags": []
     },
     "output_type": "execute_result"
    }
   ],
   "source": [
    "# URL dos dados\n",
    "dataset_url = 'http://storage.googleapis.com/download.tensorflow.org/data/petfinder-mini.zip'\n",
    "\n",
    "# Nome do arquivo de dados\n",
    "csv_file = '/content/petfinder-mini.csv'\n",
    "\n",
    "# Carrega arquivo de dados\n",
    "dataframe = pd.read_csv(csv_file)\n",
    "\n",
    "# Dimensão dos dados\n",
    "print('Dimensão dos dados:', dataframe.shape)\n",
    "dataframe"
   ]
  },
  {
   "cell_type": "markdown",
   "metadata": {
    "id": "zs9Qj_7kj33-"
   },
   "source": [
    "- Observe que os dados consitem de 11.537 exemplos (linhas) e 15 características (colunas)."
   ]
  },
  {
   "cell_type": "markdown",
   "metadata": {
    "id": "SQJ_-Xlwj34A"
   },
   "source": [
    "## 3. Pré-processamento dos dados\n",
    "\n",
    "Antes de criar o pipeline de entrada dados, devemos verificar se as classes são balanceadas, remover a coluna de texto (\"Description\") que não vamos utilizar e dividir os dados nos conjuntos de treinamento, validação e teste.\n",
    "\n",
    "\n",
    "### 3.1 Analisar saídas\n",
    "\n",
    "Para verificar se as saídas são balanceadas temos que contar o número de exemplos de cada classe. Execute a célula abaixo para realizar essa contagem."
   ]
  },
  {
   "cell_type": "code",
   "execution_count": 3,
   "metadata": {
    "colab": {
     "base_uri": "https://localhost:8080/"
    },
    "id": "coEbBpY9j34A",
    "outputId": "0972df1a-833f-4cdb-9ce7-42b4e991c0de"
   },
   "outputs": [
    {
     "name": "stdout",
     "output_type": "stream",
     "text": [
      "Classes existentes nas saídas: [2 0 3 1 4]\n",
      "Número de exemplos de cada classe:\n",
      " 2    3153\n",
      "4    3080\n",
      "3    2543\n",
      "1    2432\n",
      "0     329\n",
      "Name: AdoptionSpeed, dtype: int64\n"
     ]
    }
   ],
   "source": [
    "print('Classes existentes nas saídas:', dataframe.AdoptionSpeed.unique())\n",
    "print('Número de exemplos de cada classe:\\n', dataframe.AdoptionSpeed.value_counts())"
   ]
  },
  {
   "cell_type": "markdown",
   "metadata": {
    "id": "5UZmpnvbj34B"
   },
   "source": [
    "### Exercício #1: \n",
    "\n",
    "O número de exemplos da classe 0 é muito pequeno em relação às outras classes, assim, vamos unir os exemplos da classe 0 com os da classe 1. Fazendo isso, teremos as seguintes saídas possíveis:\n",
    "\n",
    "    0 - Animal foi adotado entre o dia em que foi listado e 7 dias (1ª semana) após ser listado.\n",
    "    1 - Animal foi adotado entre 8 e 30 dias (1º mês) após ser listado.\n",
    "    2 - O animal foi adotado entre 31 e 90 dias (2º e 3º mês) após ser listado.\n",
    "    3 - Sem adoção após 100 dias de listagem.\n",
    "\n",
    "Na célula abaixo modifique a coluna \"AdoptionSpeed\" do DataFrame de forma a alterar os índices das classes de acordo com o definido acima. Para isso use o método `replace` do Pandas com o argumento `inplace-=True`."
   ]
  },
  {
   "cell_type": "code",
   "execution_count": 4,
   "metadata": {
    "colab": {
     "base_uri": "https://localhost:8080/"
    },
    "id": "yrT1WTvOj34C",
    "outputId": "b6397914-3271-4430-961b-943d89dc829b"
   },
   "outputs": [
    {
     "name": "stdout",
     "output_type": "stream",
     "text": [
      "Classes existentes nas saídas: [1 0 2 3]\n",
      "Número de exemplos de cada classe:\n",
      " 1    3153\n",
      "3    3080\n",
      "0    2761\n",
      "2    2543\n",
      "Name: AdoptionSpeed, dtype: int64\n"
     ]
    }
   ],
   "source": [
    "# Para você fazer: Alterar classes\n",
    "\n",
    "new_classes = {\n",
    "    0:0,\n",
    "    1:0,\n",
    "    2:1,\n",
    "    3:2,\n",
    "    4:3\n",
    "}\n",
    "\n",
    "# Modifique a coluna AdoptionSpeed\n",
    "dataframe.AdoptionSpeed.replace(new_classes, inplace=True)\n",
    "\n",
    "# Mostra novas classes e contagem de exemplos de cada classe\n",
    "print('Classes existentes nas saídas:', dataframe.AdoptionSpeed.unique())\n",
    "print('Número de exemplos de cada classe:\\n', dataframe.AdoptionSpeed.value_counts())"
   ]
  },
  {
   "cell_type": "markdown",
   "metadata": {
    "id": "1xFGMi9Lj34C"
   },
   "source": [
    "**Saída esperada:**\n",
    "\n",
    "    Classes existentes nas saídas: [1 0 2 3]\n",
    "    Número de exemplos de cada classe:\n",
    "    1    3153\n",
    "    3    3080\n",
    "    0    2761\n",
    "    2    2543\n",
    "    Name: AdoptionSpeed, dtype: int64\n",
    "\n",
    "- Observe que agora o número de exemplos das classes está mais balanceado."
   ]
  },
  {
   "cell_type": "markdown",
   "metadata": {
    "id": "Cjh9sLvNj34D"
   },
   "source": [
    "### Exercício #2: Remover coluna de texto e dividir dados \n",
    "\n",
    "Na célula abaixo crie um código que realiza duas operações:\n",
    "\n",
    "1. Remoção da coluna \"Description\"\n",
    "2. Divisão do conjunto de dados em treinamento, validação e teste.\n",
    "\n",
    "Nessa divisão usaremos 70% dos dados para treinamento, 15% para validação e 15% para teste."
   ]
  },
  {
   "cell_type": "code",
   "execution_count": 5,
   "metadata": {
    "colab": {
     "base_uri": "https://localhost:8080/"
    },
    "execution": {
     "iopub.execute_input": "2020-09-17T01:32:28.281280Z",
     "iopub.status.busy": "2020-09-17T01:32:28.280548Z",
     "iopub.status.idle": "2020-09-17T01:32:28.288552Z",
     "shell.execute_reply": "2020-09-17T01:32:28.287606Z"
    },
    "id": "xcbTpEXWbMDz",
    "outputId": "1961a6b4-9156-43c3-b5fb-392abe6ddd62"
   },
   "outputs": [
    {
     "name": "stdout",
     "output_type": "stream",
     "text": [
      "Numéro de exemplos de treinamento: 8075\n",
      "Numéro de exemplos de validação: 1731\n",
      "Numéro de exemplos de teste: 1731\n"
     ]
    }
   ],
   "source": [
    "# Para você fazer: \n",
    "\n",
    "# Remoção da coluna \"Description\n",
    "dataframe = dataframe.drop(columns=\"Description\")\n",
    "\n",
    "# Divisão dos dados\n",
    "train, test = train_test_split(dataframe, train_size=.70, random_state=42)\n",
    "val, test = train_test_split(test, train_size=.5, random_state=42)\n",
    "\n",
    "\n",
    "print('Numéro de exemplos de treinamento:', len(train))\n",
    "print('Numéro de exemplos de validação:', len(val))\n",
    "print('Numéro de exemplos de teste:', len(test))"
   ]
  },
  {
   "cell_type": "markdown",
   "metadata": {
    "id": "DU1tvYVIj34E"
   },
   "source": [
    "**Saída esperada:**\n",
    "\n",
    "    Numéro de exemplos de treinamento: 8075\n",
    "    Numéro de exemplos de validação: 1731\n",
    "    Numéro de exemplos de teste: 1731"
   ]
  },
  {
   "cell_type": "markdown",
   "metadata": {
    "id": "W7s7jsrej34F"
   },
   "source": [
    "Execute a célula abaixo para calcular as estatísticas dos dados numéricos."
   ]
  },
  {
   "cell_type": "code",
   "execution_count": 6,
   "metadata": {
    "colab": {
     "base_uri": "https://localhost:8080/",
     "height": 173
    },
    "id": "pdw0mTNJj34F",
    "outputId": "23a29e79-be50-4710-8373-2aaebba8cc6f"
   },
   "outputs": [
    {
     "data": {
      "text/html": [
       "<div>\n",
       "<style scoped>\n",
       "    .dataframe tbody tr th:only-of-type {\n",
       "        vertical-align: middle;\n",
       "    }\n",
       "\n",
       "    .dataframe tbody tr th {\n",
       "        vertical-align: top;\n",
       "    }\n",
       "\n",
       "    .dataframe thead th {\n",
       "        text-align: right;\n",
       "    }\n",
       "</style>\n",
       "<table border=\"1\" class=\"dataframe\">\n",
       "  <thead>\n",
       "    <tr style=\"text-align: right;\">\n",
       "      <th></th>\n",
       "      <th>count</th>\n",
       "      <th>mean</th>\n",
       "      <th>std</th>\n",
       "      <th>min</th>\n",
       "      <th>25%</th>\n",
       "      <th>50%</th>\n",
       "      <th>75%</th>\n",
       "      <th>max</th>\n",
       "    </tr>\n",
       "  </thead>\n",
       "  <tbody>\n",
       "    <tr>\n",
       "      <th>Age</th>\n",
       "      <td>11537.0</td>\n",
       "      <td>11.743434</td>\n",
       "      <td>19.324221</td>\n",
       "      <td>0.0</td>\n",
       "      <td>2.0</td>\n",
       "      <td>4.0</td>\n",
       "      <td>12.0</td>\n",
       "      <td>255.0</td>\n",
       "    </tr>\n",
       "    <tr>\n",
       "      <th>Fee</th>\n",
       "      <td>11537.0</td>\n",
       "      <td>23.957268</td>\n",
       "      <td>80.024226</td>\n",
       "      <td>0.0</td>\n",
       "      <td>0.0</td>\n",
       "      <td>0.0</td>\n",
       "      <td>0.0</td>\n",
       "      <td>2000.0</td>\n",
       "    </tr>\n",
       "    <tr>\n",
       "      <th>PhotoAmt</th>\n",
       "      <td>11537.0</td>\n",
       "      <td>3.610211</td>\n",
       "      <td>3.145872</td>\n",
       "      <td>0.0</td>\n",
       "      <td>2.0</td>\n",
       "      <td>3.0</td>\n",
       "      <td>5.0</td>\n",
       "      <td>30.0</td>\n",
       "    </tr>\n",
       "    <tr>\n",
       "      <th>AdoptionSpeed</th>\n",
       "      <td>11537.0</td>\n",
       "      <td>1.515039</td>\n",
       "      <td>1.123589</td>\n",
       "      <td>0.0</td>\n",
       "      <td>1.0</td>\n",
       "      <td>1.0</td>\n",
       "      <td>3.0</td>\n",
       "      <td>3.0</td>\n",
       "    </tr>\n",
       "  </tbody>\n",
       "</table>\n",
       "</div>"
      ],
      "text/plain": [
       "                 count       mean        std  min  25%  50%   75%     max\n",
       "Age            11537.0  11.743434  19.324221  0.0  2.0  4.0  12.0   255.0\n",
       "Fee            11537.0  23.957268  80.024226  0.0  0.0  0.0   0.0  2000.0\n",
       "PhotoAmt       11537.0   3.610211   3.145872  0.0  2.0  3.0   5.0    30.0\n",
       "AdoptionSpeed  11537.0   1.515039   1.123589  0.0  1.0  1.0   3.0     3.0"
      ]
     },
     "execution_count": 6,
     "metadata": {
      "tags": []
     },
     "output_type": "execute_result"
    }
   ],
   "source": [
    "dataframe.describe().transpose()"
   ]
  },
  {
   "cell_type": "markdown",
   "metadata": {
    "id": "84ef46LXMfvu"
   },
   "source": [
    "## 4. Criar pipeline de entrada de dados\n",
    "\n",
    "Para criar um pipeline de entradas de dados usando as ferramentas do tensorFlow deve-se realizar as seguintes etapas:\n",
    "\n",
    "1. Criar objeto dataset\n",
    "2. Aplicar transformações desejadas nas colunas de dados\n",
    "3. Escolher quais colunas serão usadas como entrada da RNA\n",
    "\n",
    "\n",
    "### 4.1 Criar objetos dataset\n",
    "\n",
    "Para utilizar o módulo `feature_columns` para transformar os dados de entrada enquanto são carregados na RNA durante o treinamento, eles devem estar em um objeto dataset do TensorFlow. \n",
    "\n",
    "\n",
    "### Exercício #3: Criar dataset para pipeline de entrada\n",
    "\n",
    "Na célula abaixo crie uma função que realiza as seguintes operações:\n",
    "\n",
    "1. Copia dataframe para um novo dataframe sem vínculo com o anterior usando o método copy()\n",
    "2. Separa a coluna de saídas do dataframe\n",
    "3. Cria dataset com método `tf.data.Dataset.from_tensor_slices()` usando as entradas e as saídas do DataFrame copiad\n",
    "4. Embaralha dados se for desejado\n",
    "\n",
    "Após criar essa função crie os datasets com os dados de treinamento, validação e teste. Use `shuffle=True` para os dados de treinamento e `shuffle=False` para os dados de validação e teste."
   ]
  },
  {
   "cell_type": "code",
   "execution_count": 7,
   "metadata": {
    "colab": {
     "base_uri": "https://localhost:8080/"
    },
    "id": "pVIHucU9unku",
    "outputId": "a9a6010f-3d54-4d59-ac9b-5599b76a30c7"
   },
   "outputs": [
    {
     "name": "stdout",
     "output_type": "stream",
     "text": [
      "Valores ausentes por coluna\n",
      "Type             0\n",
      "Age              0\n",
      "Breed1           0\n",
      "Gender           0\n",
      "Color1           0\n",
      "Color2           0\n",
      "MaturitySize     0\n",
      "FurLength        0\n",
      "Vaccinated       0\n",
      "Sterilized       0\n",
      "Health           0\n",
      "Fee              0\n",
      "PhotoAmt         0\n",
      "AdoptionSpeed    0\n",
      "dtype: int64\n"
     ]
    }
   ],
   "source": [
    "# Cria função que calcula número de NaNs em uma coluna\n",
    "def num_missing(x):\n",
    "    return sum(x.isnull())\n",
    "\n",
    "# Aplica função num_missing em todas as colunas\n",
    "print(\"Valores ausentes por coluna\")\n",
    "print(val.apply(num_missing, axis=0))"
   ]
  },
  {
   "cell_type": "code",
   "execution_count": 8,
   "metadata": {
    "execution": {
     "iopub.execute_input": "2020-09-17T01:32:28.309624Z",
     "iopub.status.busy": "2020-09-17T01:32:28.308981Z",
     "iopub.status.idle": "2020-09-17T01:32:28.311606Z",
     "shell.execute_reply": "2020-09-17T01:32:28.311000Z"
    },
    "id": "NkcaMYP-MsRe"
   },
   "outputs": [],
   "source": [
    "# Para você fazer: Função para criar objeto dataset do TensorFlow\n",
    "\n",
    "# Define função usando o método tf.data.Dataset.from_tensor_slices\n",
    "def df_to_dataset(dataframe, shuffle=True, batch_size=32):\n",
    "    # Copia dataframe sem vínculo com o anterior usando método copy()\n",
    "    x = dataframe.copy()\n",
    "    \n",
    "    # Separa saídas do dataframe\n",
    "    y = x.pop('AdoptionSpeed')\n",
    "    \n",
    "    # Cria dataset com método tf.data.Dataset.from_tensor_slices usando o DataFrame com as entradas e as saídas\n",
    "    ds = tf.data.Dataset.from_tensor_slices((dict(x), y.values))\n",
    "    # verifica se deve embaralhar dados\n",
    "    if shuffle:\n",
    "        ds = ds.shuffle(len(x))\n",
    "    \n",
    "    # Cria lote de dados usando variável batch_size\n",
    "    ds = ds.batch(batch_size)\n",
    "    \n",
    "    # Retorna dataset\n",
    "    return ds\n",
    "\n",
    "# Define o tamanho do lote de exemplos\n",
    "batch_size = 32\n",
    "\n",
    "# Cria dataset de treinamento, validação e teste, para isso use:\n",
    "# shuffle=True para os dados de treinamento e shuffle=Flase para os dados de validação e teste\n",
    "train_ds = df_to_dataset(train, True, batch_size)\n",
    "val_ds = df_to_dataset(val, False, batch_size)\n",
    "test_ds = df_to_dataset(test, False, batch_size)"
   ]
  },
  {
   "cell_type": "markdown",
   "metadata": {
    "id": "nKS0d9MDj34H"
   },
   "source": [
    "Execute a célula abaixo para criar um lote de dados e verificar se o seu código está correto. Note que somente os 5 primeiros exemplos são mostrados."
   ]
  },
  {
   "cell_type": "code",
   "execution_count": 9,
   "metadata": {
    "colab": {
     "base_uri": "https://localhost:8080/"
    },
    "id": "bV9LBtGyj34I",
    "outputId": "f4bf4d82-b8d8-492b-8a55-ce6b38ba0b4b"
   },
   "outputs": [
    {
     "name": "stdout",
     "output_type": "stream",
     "text": [
      "Lista das características: ['Type', 'Age', 'Breed1', 'Gender', 'Color1', 'Color2', 'MaturitySize', 'FurLength', 'Vaccinated', 'Sterilized', 'Health', 'Fee', 'PhotoAmt']\n",
      "Um lote de tipo: [b'Cat' b'Dog' b'Dog' b'Cat' b'Cat']\n",
      "Um lote de idade: [2 1 6 1 1]\n",
      "Um lote de Breed1: [b'Domestic Short Hair' b'Mixed Breed' b'Mixed Breed'\n",
      " b'Domestic Short Hair' b'Collie']\n",
      "Um lote de Gender: [b'Female' b'Male' b'Female' b'Male' b'Female']\n",
      "Um lote de Color1: [b'Black' b'Black' b'Black' b'Black' b'Brown']\n",
      "Um lote de Color2: [b'Cream' b'White' b'Brown' b'Gray' b'No Color']\n",
      "Um lote de MaturitySize: [b'Small' b'Medium' b'Small' b'Medium' b'Small']\n",
      "Um lote de FurLength: [b'Short' b'Short' b'Short' b'Short' b'Short']\n",
      "Um lote de Vaccinated: [b'No' b'No' b'Yes' b'No' b'No']\n",
      "Um lote de Sterilized: [b'No' b'No' b'No' b'No' b'No']\n",
      "Um lote de Health: [b'Healthy' b'Healthy' b'Healthy' b'Healthy' b'Healthy']\n",
      "Um lote de Fee: [50  0  0  0  0]\n",
      "Um lote de PhotoAmt: [3 2 2 2 3]\n",
      "Um lote de saída: [2 1 3 0 0]\n"
     ]
    }
   ],
   "source": [
    "for feature_batch, label_batch in train_ds.take(1):\n",
    "    print('Lista das características:', list(feature_batch.keys()))\n",
    "    print('Um lote de tipo:', format(feature_batch['Type'][:5]))\n",
    "    print('Um lote de idade:', format(feature_batch['Age'][:5]))\n",
    "    print('Um lote de Breed1:', format(feature_batch['Breed1'][:5]))\n",
    "    print('Um lote de Gender:', format(feature_batch['Gender'][:5]))\n",
    "    print('Um lote de Color1:', format(feature_batch['Color1'][:5]))\n",
    "    print('Um lote de Color2:', format(feature_batch['Color2'][:5]))\n",
    "    print('Um lote de MaturitySize:', format(feature_batch['MaturitySize'][:5]))\n",
    "    print('Um lote de FurLength:', format(feature_batch['FurLength'][:5]))  \n",
    "    print('Um lote de Vaccinated:', format(feature_batch['Vaccinated'][:5]))   \n",
    "    print('Um lote de Sterilized:', format(feature_batch['Sterilized'][:5]))\n",
    "    print('Um lote de Health:', format(feature_batch['Health'][:5]))\n",
    "    print('Um lote de Fee:', format(feature_batch['Fee'][:5]))  \n",
    "    print('Um lote de PhotoAmt:', format(feature_batch['PhotoAmt'][:5]))   \n",
    "    print('Um lote de saída:', format(label_batch[:5]))"
   ]
  },
  {
   "cell_type": "markdown",
   "metadata": {
    "id": "UDtdSDmmj34J"
   },
   "source": [
    "**Saída desejada:**\n",
    "\n",
    "    Lista das características: ['Type', 'Age', 'Breed1', 'Gender', 'Color1', 'Color2', 'MaturitySize', 'FurLength', 'Vaccinated', 'Sterilized', 'Health', 'Fee', 'PhotoAmt']\n",
    "    Um lote de idade: [ 1  3 36  4 36]\n",
    "    Um lote de Breed1: [b'Mixed Breed' b'Rottweiler' b'Mixed Breed' b'Mixed Breed' b'Mixed Breed']\n",
    "    Um lote de Gender: [b'Female' b'Male' b'Male' b'Female' b'Male']\n",
    "    Um lote de Color1: [b'Black' b'Black' b'Brown' b'Brown' b'Brown']\n",
    "    Um lote de Color2: [b'No Color' b'Yellow' b'No Color' b'No Color' b'No Color']\n",
    "    Um lote de MaturitySize: [b'Medium' b'Medium' b'Medium' b'Medium' b'Medium']\n",
    "    Um lote de FurLength: [b'Long' b'Medium' b'Medium' b'Medium' b'Short']\n",
    "    Um lote de Vaccinated: [b'Yes' b'Yes' b'Not Sure' b'No' b'Yes']\n",
    "    Um lote de Sterilized: [b'No' b'No' b'Yes' b'No' b'Yes']\n",
    "    Um lote de Health: [b'Healthy' b'Healthy' b'Minor Injury' b'Healthy' b'Minor Injury']\n",
    "    Um lote de Fee: [0 0 0 0 0]\n",
    "    Um lote de PhotoAmt: [3 4 1 3 2]\n",
    "    Um lote de saída: [3 3 4 4 4]"
   ]
  },
  {
   "cell_type": "markdown",
   "metadata": {
    "id": "OT5N6Se-NQsC"
   },
   "source": [
    "- Pode-se ver que o dataset retorna um dicionário de nomes das colunas de dados e um lote de cada característica.\n",
    "\n",
    "- Observa-se que nesse conjunto de dados a maioria das caracteríticas são do tipo categóricas."
   ]
  },
  {
   "cell_type": "markdown",
   "metadata": {
    "id": "ttIvgLRaNoOQ"
   },
   "source": [
    "### 4.2 Função auxílar para verificar os resultados\n",
    "\n",
    "Para verificar se as transfromações que estamos implementando estão corretas temos que criar uma função para isso, como visto em aula.\n",
    "\n",
    "Execute a célula abaixo para criar um lote para ser usado como exemplo e criar a função para visualizar o resultado de uma transformação. Note que somente os 5 primeiros exemplos do lote serão mostrados."
   ]
  },
  {
   "cell_type": "code",
   "execution_count": 10,
   "metadata": {
    "execution": {
     "iopub.execute_input": "2020-09-17T01:32:33.797019Z",
     "iopub.status.busy": "2020-09-17T01:32:33.796403Z",
     "iopub.status.idle": "2020-09-17T01:32:33.850798Z",
     "shell.execute_reply": "2020-09-17T01:32:33.851251Z"
    },
    "id": "mxwiHFHuNhmf"
   },
   "outputs": [],
   "source": [
    "# Lote para ser usado como exemplo\n",
    "example_batch = next(iter(train_ds))[0]\n",
    "\n",
    "# Função auxiliar para visualizar resulatdos de transfromações\n",
    "def demo(feature_column):\n",
    "    feature_layer = layers.DenseFeatures(feature_column)\n",
    "    print(feature_layer(example_batch).numpy()[:5])"
   ]
  },
  {
   "cell_type": "markdown",
   "metadata": {
    "id": "nqQr7H2tj34L"
   },
   "source": [
    "### 4.3 Transformação e inclusão das colunas\n",
    "\n",
    "Para os dados poderem ser usados por uma RNA eles devem ser transformados. \n",
    "\n",
    "Após definir cada uma das transformações temos que incluir as colunas que serão usadas pela RNA em uma lista.\n",
    "\n",
    "Execute a célula abaixo para inciar a lista de colunas que serão usadas pela RNA e o numéro de entradas total de cada exemplo, que é a soma das entradas de cada dado transformado."
   ]
  },
  {
   "cell_type": "code",
   "execution_count": 11,
   "metadata": {
    "id": "qMx3zRv4j34L"
   },
   "outputs": [],
   "source": [
    "# Incializa lista de características desejadas\n",
    "columns_list = []\n",
    "\n",
    "# Inicializa número de entradas de cada exemplo\n",
    "num_input = 0"
   ]
  },
  {
   "cell_type": "markdown",
   "metadata": {
    "id": "Q7OEKe82N-Qb"
   },
   "source": [
    "### 4.4 Transformação das colunas \"Age\" e \"PhotoAmt\"\n",
    " \n",
    "A coluna \"Age\" representa a idade dos animais em meses. Essa coluna é de dados numéricos, que variam de 0 a 255 meses. \n",
    "\n",
    "A coluna \"PhotoAmt\" representa o número de fotos de cada animal. Essa coluna é de dados numéricos, que variam de 0 a 30.\n",
    "\n",
    "Tanto a idade como o número de fotos exatos de um animal não são muito importantes. Dessa forma, para utilizar essas duas colunas vamos segmentá-las em intervalos.\n",
    "\n",
    "Para a idade vamos utilizar em 6 intervalos:\n",
    "\n",
    "    idade < 3\n",
    "    3 <= idade < 6\n",
    "    6 <= idade < 12\n",
    "    12 <= idade < 60\n",
    "    60 <= idade < 120\n",
    "    idade >= 120\n",
    "    \n",
    "Para o número de fotos vamos utilizar 4 intervalos:\n",
    "\n",
    "    fotos < 1\n",
    "    1 <= fotos < 3\n",
    "    3 <= fotos < 5\n",
    "    fotos >= 5\n",
    "\n",
    "\n",
    "### Exercício #4: Segmentação das colunas \"Age\" e \"PhotoAmt\"\n",
    "\n",
    "Para segmentar uma coluna numérica usando o módulo `feature_column`, é necessário primeiramente definir a coluna como sendo numérica usando o método `feature_column.numeric_column`, para depois segmentá-la usando o método `feature_column.bucketized_column`. \n",
    "\n",
    "Na célula abaixo crie um código que segmenta a coluna \"Age\" nos 6 intervalos definidos acima."
   ]
  },
  {
   "cell_type": "code",
   "execution_count": 12,
   "metadata": {
    "colab": {
     "base_uri": "https://localhost:8080/"
    },
    "execution": {
     "iopub.execute_input": "2020-09-17T01:32:33.862157Z",
     "iopub.status.busy": "2020-09-17T01:32:33.861529Z",
     "iopub.status.idle": "2020-09-17T01:32:34.167801Z",
     "shell.execute_reply": "2020-09-17T01:32:34.167202Z"
    },
    "id": "QZTZ0HnHOCxC",
    "outputId": "a4b07a32-c35a-492c-eb89-2d0442d3aec7"
   },
   "outputs": [
    {
     "name": "stdout",
     "output_type": "stream",
     "text": [
      "[[0. 1. 0. 0. 0. 0.]\n",
      " [1. 0. 0. 0. 0. 0.]\n",
      " [0. 1. 0. 0. 0. 0.]\n",
      " [1. 0. 0. 0. 0. 0.]\n",
      " [1. 0. 0. 0. 0. 0.]]\n"
     ]
    }
   ],
   "source": [
    "# Para você fazer: Segmentação da coluna Age\n",
    "\n",
    "# Define coluna como sendo de dados numéricos\n",
    "age = feature_column.numeric_column(\"Age\")\n",
    "\n",
    "# Segmenta coluna\n",
    "animal_age_segs = feature_column.bucketized_column(age, [3, 6, 12, 60, 120])\n",
    "\n",
    "# Mostra resultado\n",
    "demo(animal_age_segs)\n",
    "\n",
    "# Inclui coluna na lista de características desejadas\n",
    "columns_list.append(animal_age_segs)\n",
    "\n",
    "# Atualiza número de entradas\n",
    "num_input += 6"
   ]
  },
  {
   "cell_type": "markdown",
   "metadata": {
    "id": "7a6ddSyzOKpq"
   },
   "source": [
    "**Saída esperada:** \n",
    "\n",
    "    [[1. 0. 0. 0. 0. 0.]\n",
    "     [0. 1. 0. 0. 0. 0.]\n",
    "     [0. 0. 0. 1. 0. 0.]\n",
    "     [0. 1. 0. 0. 0. 0.]\n",
    "     [0. 0. 0. 1. 0. 0.]]"
   ]
  },
  {
   "cell_type": "markdown",
   "metadata": {
    "id": "yskxdEzRj34N"
   },
   "source": [
    "Na célula abaixo crie um código que segmenta a coluna \"PhotoAmt\" nos 4 intervalos definidos acima."
   ]
  },
  {
   "cell_type": "code",
   "execution_count": 13,
   "metadata": {
    "colab": {
     "base_uri": "https://localhost:8080/"
    },
    "execution": {
     "iopub.execute_input": "2020-09-17T01:32:33.862157Z",
     "iopub.status.busy": "2020-09-17T01:32:33.861529Z",
     "iopub.status.idle": "2020-09-17T01:32:34.167801Z",
     "shell.execute_reply": "2020-09-17T01:32:34.167202Z"
    },
    "id": "UpZ3VBG3j34N",
    "outputId": "45be7715-11b6-4530-95d6-0d50e9b79dd6"
   },
   "outputs": [
    {
     "name": "stdout",
     "output_type": "stream",
     "text": [
      "[[0. 0. 0. 1.]\n",
      " [0. 1. 0. 0.]\n",
      " [0. 1. 0. 0.]\n",
      " [0. 1. 0. 0.]\n",
      " [0. 0. 1. 0.]]\n"
     ]
    }
   ],
   "source": [
    "# Para você fazer: Segmentação da coluna PhotoAmt\n",
    "\n",
    "# Define coluna como sendo de dados numéricos\n",
    "photo_amg = feature_column.numeric_column(\"PhotoAmt\")\n",
    "\n",
    "# Segmenat coluna\n",
    "animal_photo_segs = feature_column.bucketized_column(photo_amg, [1, 3, 5])\n",
    "\n",
    "# Mostra resultado\n",
    "demo(animal_photo_segs)\n",
    "\n",
    "# Inclui coluna na lista de características desejadas\n",
    "columns_list.append(animal_photo_segs)\n",
    "\n",
    "# Atualiza número de entradas\n",
    "num_input += 4"
   ]
  },
  {
   "cell_type": "markdown",
   "metadata": {
    "id": "CxI5o8_kj34O"
   },
   "source": [
    "**Saída esperada:** \n",
    "\n",
    "    [[0. 0. 1. 0.]\n",
    "     [0. 0. 0. 1.]\n",
    "     [0. 0. 0. 1.]\n",
    "     [0. 1. 0. 0.]\n",
    "     [0. 0. 1. 0.]]"
   ]
  },
  {
   "cell_type": "markdown",
   "metadata": {
    "id": "18jBDS3Hj34O"
   },
   "source": [
    "### 4.5 Transformação da coluna \"Fee\"\n",
    "\n",
    "A coluna \"Fee\" representa a taxa paga para adotar um determinado animal. Essa coluna é de dados numéricos, sendo que seus valores de variam de 0 a 2000. Para poder ser usado pela RNA esses dados devem ser normalizados. A normalização que iremos utilizar para essa  coluna é transformar os dados para valores reais no intervalo de 0 a 1.\n",
    "\n",
    "### Exercício #5: Normalização da coluna \"Fee\"\n",
    "\n",
    "Para normalizar a coluna \"Fee\", ao transformá-la em uma coluna numérica selecionamos uma função para aplicar a normalização desejada.\n",
    "\n",
    "Na célula abaixo crie um código para fazer essas operações."
   ]
  },
  {
   "cell_type": "code",
   "execution_count": 14,
   "metadata": {
    "colab": {
     "base_uri": "https://localhost:8080/"
    },
    "id": "7xgNlsqjj34O",
    "outputId": "05e58504-c559-460b-8a1f-d8fd5a9d42a9"
   },
   "outputs": [
    {
     "name": "stdout",
     "output_type": "stream",
     "text": [
      "Fee máxima = 2000 \n",
      "\n",
      "[[0.]\n",
      " [0.]\n",
      " [0.]\n",
      " [0.]\n",
      " [0.]]\n"
     ]
    }
   ],
   "source": [
    "# Para você fazer: Normalização da coluna Fee\n",
    "\n",
    "# Calcula valor máximo da coluna\n",
    "max_fee = 2000\n",
    "print('Fee máxima =', max_fee, '\\n')\n",
    "\n",
    "# Cria função para normalização\n",
    "def norm_max_fee(x):\n",
    "    return x/2000\n",
    "    \n",
    "# Aplica método tf.feature_column.numeric_column usando função norm_max_fee\n",
    "animal_fee_norm = feature_column.numeric_column(\"Fee\", normalizer_fn=norm_max_fee)\n",
    "\n",
    "# Mostra resultado\n",
    "demo(animal_fee_norm)\n",
    "\n",
    "# Inclui coluna na lista de características desejadas\n",
    "columns_list.append(animal_fee_norm)\n",
    "\n",
    "# Atualiza número de entradas\n",
    "num_input += 1"
   ]
  },
  {
   "cell_type": "markdown",
   "metadata": {
    "id": "HNtR8rJWj34P"
   },
   "source": [
    "**Saída esperada:**\n",
    "\n",
    "    Fee máxima = 2000 \n",
    "\n",
    "    [[0. ]\n",
    "     [0. ]\n",
    "     [0. ]\n",
    "     [0. ]\n",
    "     [0.1]]"
   ]
  },
  {
   "cell_type": "markdown",
   "metadata": {
    "id": "r1tArzewPb-b"
   },
   "source": [
    "### 4.6 Transformação das colunas de dados categóricos\n",
    "\n",
    "As colunas de dados categóricos desse conjunto de dados são as seguintes:\n",
    "\n",
    "1. Type;\n",
    "2. Color1;\n",
    "3. Color2;\n",
    "4. Gender;\n",
    "5. MaturitySize;\n",
    "6. Furlength;\n",
    "7. vaccinated;\n",
    "8. Sterilized;\n",
    "9. Health.\n",
    "\n",
    "### Exercício #6: Transformação das colunas de dados categóricos\n",
    "\n",
    "Transforme todas essas colunas em dados categóricos e depois em vetores one-hot.\n",
    "\n",
    "- Para transformar as colunas em dados categóricos use o método `feature_column.categorical_column_with_vocabulary_list`. Para passar a lista de termos pode usar por exemplo, para a coluna \"Type\" `dataframe.Type.unique()`;\n",
    "\n",
    "\n",
    "- Para codificar as categorias em vetores one-hot use o método `feature_column.indicator_column`.\n"
   ]
  },
  {
   "cell_type": "code",
   "execution_count": 15,
   "metadata": {
    "colab": {
     "base_uri": "https://localhost:8080/"
    },
    "execution": {
     "iopub.execute_input": "2020-09-17T01:32:34.189142Z",
     "iopub.status.busy": "2020-09-17T01:32:34.188512Z",
     "iopub.status.idle": "2020-09-17T01:32:34.198389Z",
     "shell.execute_reply": "2020-09-17T01:32:34.197862Z"
    },
    "id": "DJ6QnSHkPtOC",
    "outputId": "f7b0d4cb-f496-4cdd-f68d-77ce9b159497"
   },
   "outputs": [
    {
     "name": "stdout",
     "output_type": "stream",
     "text": [
      "[[1. 0.]\n",
      " [0. 1.]\n",
      " [1. 0.]\n",
      " [0. 1.]\n",
      " [1. 0.]]\n"
     ]
    }
   ],
   "source": [
    "# Para você fazer: Coluna Type\n",
    "\n",
    "# Coluna Type\n",
    "animal_type_one_hot = feature_column.categorical_column_with_vocabulary_list(\"Type\", train.Type.unique())\n",
    "animal_type_one_hot = feature_column.indicator_column(animal_type_one_hot)\n",
    "\n",
    "# Mostra resultado\n",
    "demo(animal_type_one_hot)\n",
    "\n",
    "# Inclui coluna na lista de características desejadas\n",
    "columns_list.append(animal_type_one_hot)\n",
    "\n",
    "# Atualiza número de entradas\n",
    "num_input += len(train.Type.unique())"
   ]
  },
  {
   "cell_type": "markdown",
   "metadata": {
    "id": "EWMzdKuhj34Q"
   },
   "source": [
    "**saída esperada:**\n",
    "\n",
    "    [[1. 0.]\n",
    "     [1. 0.]\n",
    "     [1. 0.]\n",
    "     [0. 1.]\n",
    "     [0. 1.]]"
   ]
  },
  {
   "cell_type": "code",
   "execution_count": 16,
   "metadata": {
    "colab": {
     "base_uri": "https://localhost:8080/"
    },
    "id": "KVV0I5d2j34R",
    "outputId": "d59f4368-d100-456f-e36d-6b6b8aac7606"
   },
   "outputs": [
    {
     "name": "stdout",
     "output_type": "stream",
     "text": [
      "[[1. 0. 0. 0. 0. 0. 0.]\n",
      " [0. 1. 0. 0. 0. 0. 0.]\n",
      " [0. 0. 0. 1. 0. 0. 0.]\n",
      " [0. 0. 1. 0. 0. 0. 0.]\n",
      " [0. 0. 1. 0. 0. 0. 0.]]\n"
     ]
    }
   ],
   "source": [
    "# Para você fazer: Coluna Color1\n",
    "    \n",
    "# Coluna Color1\n",
    "animal_color1_one_hot = feature_column.categorical_column_with_vocabulary_list(\"Color1\", train.Color1.unique())\n",
    "animal_color1_one_hot = feature_column.indicator_column(animal_color1_one_hot)\n",
    "# Mostra resultado\n",
    "demo(animal_color1_one_hot)\n",
    "\n",
    "# Inclui coluna na lista de características desejadas\n",
    "columns_list.append(animal_color1_one_hot)\n",
    "\n",
    "# Atualiza número de entradas\n",
    "num_input += len(train.Color1.unique())"
   ]
  },
  {
   "cell_type": "markdown",
   "metadata": {
    "id": "wfjpH_Odj34R"
   },
   "source": [
    "**Saída esperada:**\n",
    "\n",
    "    [[1. 0. 0. 0. 0. 0. 0.]\n",
    "     [0. 0. 0. 1. 0. 0. 0.]\n",
    "     [0. 0. 0. 0. 0. 0. 1.]\n",
    "     [0. 0. 0. 0. 0. 1. 0.]\n",
    "     [0. 0. 0. 0. 1. 0. 0.]]"
   ]
  },
  {
   "cell_type": "code",
   "execution_count": 17,
   "metadata": {
    "colab": {
     "base_uri": "https://localhost:8080/"
    },
    "id": "qU4b4PUSj34S",
    "outputId": "8389f66c-a361-43e5-c28b-ddbff7953e98"
   },
   "outputs": [
    {
     "name": "stdout",
     "output_type": "stream",
     "text": [
      "[[0. 1. 0. 0. 0. 0. 0.]\n",
      " [0. 0. 0. 0. 1. 0. 0.]\n",
      " [1. 0. 0. 0. 0. 0. 0.]\n",
      " [1. 0. 0. 0. 0. 0. 0.]\n",
      " [0. 1. 0. 0. 0. 0. 0.]]\n"
     ]
    }
   ],
   "source": [
    "# Para você fazer: Coluna Color2\n",
    "    \n",
    "# Coluna Color2\n",
    "animal_color2_one_hot = feature_column.categorical_column_with_vocabulary_list(\"Color2\", train.Color2.unique())\n",
    "animal_color2_one_hot = feature_column.indicator_column(animal_color2_one_hot)\n",
    "\n",
    "# Mostra resultado\n",
    "demo(animal_color2_one_hot)\n",
    "\n",
    "# Inclui coluna na lista de características desejadas\n",
    "columns_list.append(animal_color2_one_hot)\n",
    "\n",
    "# Atualiza número de entradas\n",
    "num_input += len(train.Color2.unique())"
   ]
  },
  {
   "cell_type": "markdown",
   "metadata": {
    "id": "t8Z-wJHOj34T"
   },
   "source": [
    "**Saída esperada:**\n",
    "\n",
    "    [[1. 0. 0. 0. 0. 0. 0.]\n",
    "     [1. 0. 0. 0. 0. 0. 0.]\n",
    "     [1. 0. 0. 0. 0. 0. 0.]\n",
    "     [0. 0. 1. 0. 0. 0. 0.]\n",
    "     [0. 0. 1. 0. 0. 0. 0.]]"
   ]
  },
  {
   "cell_type": "code",
   "execution_count": 18,
   "metadata": {
    "colab": {
     "base_uri": "https://localhost:8080/"
    },
    "id": "I0vO0Vjaj34T",
    "outputId": "5f676aff-f5ac-42c5-9ca1-2b1a1d9bc904"
   },
   "outputs": [
    {
     "name": "stdout",
     "output_type": "stream",
     "text": [
      "[[1. 0.]\n",
      " [0. 1.]\n",
      " [1. 0.]\n",
      " [0. 1.]\n",
      " [0. 1.]]\n"
     ]
    }
   ],
   "source": [
    "# Para você fazer: Coluna Gender\n",
    "    \n",
    "# Coluna Gender\n",
    "animal_gender_one_hot = feature_column.categorical_column_with_vocabulary_list(\"Gender\", train.Gender.unique())\n",
    "animal_gender_one_hot = feature_column.indicator_column(animal_gender_one_hot)\n",
    "\n",
    "# Mostra resultado\n",
    "demo(animal_gender_one_hot)\n",
    "\n",
    "# Inclui coluna na lista de características desejadas\n",
    "columns_list.append(animal_gender_one_hot)\n",
    "\n",
    "# Atualiza número de entradas\n",
    "num_input += len(train.Gender.unique())"
   ]
  },
  {
   "cell_type": "markdown",
   "metadata": {
    "id": "gdSrNJ1Xj34T"
   },
   "source": [
    "**Saída esperada:**\n",
    "\n",
    "    [[0. 1.]\n",
    "     [0. 1.]\n",
    "     [1. 0.]\n",
    "     [1. 0.]\n",
    "     [1. 0.]]"
   ]
  },
  {
   "cell_type": "code",
   "execution_count": 19,
   "metadata": {
    "colab": {
     "base_uri": "https://localhost:8080/"
    },
    "id": "OJEXTMxNj34U",
    "outputId": "5e078985-6f07-42f6-920f-19ab694c796f"
   },
   "outputs": [
    {
     "name": "stdout",
     "output_type": "stream",
     "text": [
      "[[0. 1. 0.]\n",
      " [0. 1. 0.]\n",
      " [0. 1. 0.]\n",
      " [0. 1. 0.]\n",
      " [0. 1. 0.]]\n"
     ]
    }
   ],
   "source": [
    "# Para você fazer: Coluna MaturitySize\n",
    "    \n",
    "# Coluna MaturitySize\n",
    "animal_MaturitySize_one_hot = feature_column.categorical_column_with_vocabulary_list(\"MaturitySize\", train.MaturitySize.unique())\n",
    "animal_MaturitySize_one_hot = feature_column.indicator_column(animal_MaturitySize_one_hot)\n",
    "\n",
    "\n",
    "# Mostra resultado\n",
    "demo(animal_MaturitySize_one_hot)\n",
    "\n",
    "# Inclui coluna na lista de características desejadas\n",
    "columns_list.append(animal_MaturitySize_one_hot)\n",
    "\n",
    "# Atualiza número de entradas\n",
    "num_input += len(train.MaturitySize.unique())"
   ]
  },
  {
   "cell_type": "markdown",
   "metadata": {
    "id": "doTNVuPHj34U"
   },
   "source": [
    "**Saída esperada:**\n",
    "\n",
    "    [[0. 1. 0.]\n",
    "     [1. 0. 0.]\n",
    "     [0. 0. 1.]\n",
    "     [0. 1. 0.]\n",
    "     [0. 0. 1.]]"
   ]
  },
  {
   "cell_type": "code",
   "execution_count": 20,
   "metadata": {
    "colab": {
     "base_uri": "https://localhost:8080/"
    },
    "id": "qBCZKefVj34V",
    "outputId": "d04032a7-5342-40c5-b203-6f9f272fc6c2"
   },
   "outputs": [
    {
     "name": "stdout",
     "output_type": "stream",
     "text": [
      "[[0. 1. 0.]\n",
      " [0. 1. 0.]\n",
      " [1. 0. 0.]\n",
      " [0. 1. 0.]\n",
      " [0. 1. 0.]]\n"
     ]
    }
   ],
   "source": [
    "# Para você fazer: Coluna FurLength\n",
    "    \n",
    "# Coluna FurLength\n",
    "animal_FurLength_one_hot = feature_column.categorical_column_with_vocabulary_list(\"FurLength\", train.FurLength.unique())\n",
    "animal_FurLength_one_hot = feature_column.indicator_column(animal_FurLength_one_hot)\n",
    "\n",
    "\n",
    "# Mostra resultado\n",
    "demo(animal_FurLength_one_hot)\n",
    "\n",
    "# Inclui coluna na lista de características desejadas\n",
    "columns_list.append(animal_FurLength_one_hot)\n",
    "\n",
    "# Atualiza número de entradas\n",
    "num_input += len(train.FurLength.unique())"
   ]
  },
  {
   "cell_type": "markdown",
   "metadata": {
    "id": "CZigLIyvj34V"
   },
   "source": [
    "**Saída esperada:**\n",
    "\n",
    "    [[1. 0. 0.]\n",
    "     [0. 0. 1.]\n",
    "     [0. 1. 0.]\n",
    "     [0. 1. 0.]\n",
    "     [1. 0. 0.]]"
   ]
  },
  {
   "cell_type": "code",
   "execution_count": 21,
   "metadata": {
    "colab": {
     "base_uri": "https://localhost:8080/"
    },
    "id": "qOHhTaPdj34W",
    "outputId": "cfa80e43-222b-4540-8fe3-03a56e2fdc26"
   },
   "outputs": [
    {
     "name": "stdout",
     "output_type": "stream",
     "text": [
      "[[1. 0. 0.]\n",
      " [1. 0. 0.]\n",
      " [0. 1. 0.]\n",
      " [1. 0. 0.]\n",
      " [1. 0. 0.]]\n"
     ]
    }
   ],
   "source": [
    "# Para você fazer: Coluna Vaccinated\n",
    "    \n",
    "# Coluna Vaccinated\n",
    "animal_Vaccinated_one_hot = feature_column.categorical_column_with_vocabulary_list(\"Vaccinated\", train.Vaccinated.unique())\n",
    "animal_Vaccinated_one_hot = feature_column.indicator_column(animal_Vaccinated_one_hot)\n",
    "\n",
    "\n",
    "# Mostra resultado\n",
    "demo(animal_Vaccinated_one_hot)\n",
    "\n",
    "# Inclui coluna na lista de características desejadas\n",
    "columns_list.append(animal_Vaccinated_one_hot)\n",
    "\n",
    "# Atualiza número de entradas\n",
    "num_input += len(train.Vaccinated.unique())"
   ]
  },
  {
   "cell_type": "markdown",
   "metadata": {
    "id": "f9L2_C45j34W"
   },
   "source": [
    "**Saída esperada:**\n",
    "\n",
    "    [[1. 0. 0.]\n",
    "     [0. 0. 1.]\n",
    "     [0. 0. 1.]\n",
    "     [1. 0. 0.]\n",
    "     [0. 0. 1.]]"
   ]
  },
  {
   "cell_type": "code",
   "execution_count": 22,
   "metadata": {
    "colab": {
     "base_uri": "https://localhost:8080/"
    },
    "id": "Kc6VWjuWj34W",
    "outputId": "e1fe90c5-4c76-44ba-e7d2-72da45bb7f71"
   },
   "outputs": [
    {
     "name": "stdout",
     "output_type": "stream",
     "text": [
      "[[1. 0. 0.]\n",
      " [1. 0. 0.]\n",
      " [1. 0. 0.]\n",
      " [1. 0. 0.]\n",
      " [1. 0. 0.]]\n"
     ]
    }
   ],
   "source": [
    "# Para você fazer: Coluna Sterilized\n",
    "    \n",
    "# Coluna Sterilized\n",
    "animal_Sterilized_one_hot = feature_column.categorical_column_with_vocabulary_list(\"Sterilized\", train.Sterilized.unique())\n",
    "animal_Sterilized_one_hot = feature_column.indicator_column(animal_Sterilized_one_hot)\n",
    "\n",
    "\n",
    "# Mostra resultados\n",
    "demo(animal_Sterilized_one_hot)\n",
    "\n",
    "# Inclui coluna na lista de características desejadas\n",
    "columns_list.append(animal_Sterilized_one_hot)\n",
    "\n",
    "# Atualiza número de entradas\n",
    "num_input += len(train.Sterilized.unique())"
   ]
  },
  {
   "cell_type": "markdown",
   "metadata": {
    "id": "Lhm1Lqk3j34X"
   },
   "source": [
    "**Saída esperada:**\n",
    "\n",
    "    [[1. 0. 0.]\n",
    "     [0. 0. 1.]\n",
    "     [0. 1. 0.]\n",
    "     [1. 0. 0.]\n",
    "     [1. 0. 0.]]"
   ]
  },
  {
   "cell_type": "code",
   "execution_count": 23,
   "metadata": {
    "colab": {
     "base_uri": "https://localhost:8080/"
    },
    "id": "ywLeFiL1j34X",
    "outputId": "884ff605-ea7d-4213-9873-284e88e9ebdd"
   },
   "outputs": [
    {
     "name": "stdout",
     "output_type": "stream",
     "text": [
      "[[1. 0. 0.]\n",
      " [1. 0. 0.]\n",
      " [1. 0. 0.]\n",
      " [1. 0. 0.]\n",
      " [1. 0. 0.]]\n"
     ]
    }
   ],
   "source": [
    "# Para você fazer: Coluna Health\n",
    "    \n",
    "# Coluna Health\n",
    "animal_Health_one_hot = feature_column.categorical_column_with_vocabulary_list(\"Health\", train.Health.unique())\n",
    "animal_Health_one_hot = feature_column.indicator_column(animal_Health_one_hot)\n",
    "\n",
    "\n",
    "# Mostra resultados\n",
    "demo(animal_Health_one_hot)\n",
    "\n",
    "# Inclui coluna na lista de características desejadas\n",
    "columns_list.append(animal_Health_one_hot)\n",
    "\n",
    "# Atualiza número de entradas\n",
    "num_input += len(train.Health.unique())"
   ]
  },
  {
   "cell_type": "markdown",
   "metadata": {
    "id": "8-lZRUrvj34Y"
   },
   "source": [
    "**Saída esperada:**\n",
    "\n",
    "    [[1. 0. 0.]\n",
    "     [1. 0. 0.]\n",
    "     [1. 0. 0.]\n",
    "     [1. 0. 0.]\n",
    "     [1. 0. 0.]]"
   ]
  },
  {
   "cell_type": "markdown",
   "metadata": {
    "id": "LEFPjUr6QmwS"
   },
   "source": [
    "### 4.7 Transformação da coluna \"Breed1\"\n",
    "\n",
    "A coluna que fornece a raça (\"Breed1\") do animal possui 307 termos diferentes. Transformar essa coluna em vetores one-hot criaria colunas com muitos zeros, o que seria inconveniente. Portanto, nesse caso é melhor utilizar a codificação \"embedding\" para descrever esses 307 termos diferentes que representam as possíveis raças dos animais. \n",
    "\n",
    "Ressalta-se que usar uma codificação \"embedding\" é melhor para representar dados categóricos quando se tem muitas categorias possíveis. \n",
    "\n",
    "\n",
    "### Exercício #7: Transformação da coluna \"Breed1\"\n",
    "\n",
    "Na célula abaixo crie um código que realiza a codificação \"embedding\" da  coluna \"Breed'\". Observa-se que o tamanho dos vetores \"embedding\" é um parâmetro que deve ser ajustado. Nesse trabalho tentaremos usar vetores com 8 elementos.\n",
    "\n",
    "Para fazer essa transformação você deve primeiramente transformar os dados em categorias, usando o método `feature_column.categorical_column_with_vocabulary_list`, para depois realizar a codificação \"embeding\" usando o método `feature_column.embedding_column`. "
   ]
  },
  {
   "cell_type": "code",
   "execution_count": 24,
   "metadata": {
    "colab": {
     "base_uri": "https://localhost:8080/"
    },
    "execution": {
     "iopub.execute_input": "2020-09-17T01:32:34.204173Z",
     "iopub.status.busy": "2020-09-17T01:32:34.203546Z",
     "iopub.status.idle": "2020-09-17T01:32:34.227773Z",
     "shell.execute_reply": "2020-09-17T01:32:34.226988Z"
    },
    "id": "hSlohmr2Q_UU",
    "outputId": "dcb6eb8a-51e1-4102-eee6-d15e2baaf44c"
   },
   "outputs": [
    {
     "name": "stdout",
     "output_type": "stream",
     "text": [
      "[[ 0.65008396  0.10165078 -0.04194978 -0.16093332 -0.30024204 -0.32743454\n",
      "   0.38346535 -0.13050535]\n",
      " [ 0.16742173 -0.33435595 -0.19376221 -0.25814247  0.15738736  0.49176803\n",
      "   0.08468107  0.08474744]\n",
      " [-0.3681982  -0.35226014 -0.42284435  0.13151576 -0.22593229 -0.5163021\n",
      "   0.07270201  0.00076011]\n",
      " [-0.33017245  0.23206145 -0.18064351 -0.6406341   0.14121059 -0.19722371\n",
      "  -0.32694975 -0.07609592]\n",
      " [ 0.65008396  0.10165078 -0.04194978 -0.16093332 -0.30024204 -0.32743454\n",
      "   0.38346535 -0.13050535]]\n"
     ]
    }
   ],
   "source": [
    "# Para você fazer:\n",
    "\n",
    "# Transformação da coluna Breed1 em categórica\n",
    "breed1_embedding = feature_column.categorical_column_with_vocabulary_list(\"Breed1\", train.Breed1.unique(), default_value=0)\n",
    "\n",
    "# Transfromação em vetores \"embedding\"\n",
    "breed1_embedding = feature_column.embedding_column(breed1_embedding, dimension=8)\n",
    "\n",
    "# Mostra resultados\n",
    "demo(breed1_embedding)\n",
    "\n",
    "# Inclui coluna na lista de características desejadas\n",
    "columns_list.append(breed1_embedding)\n",
    "\n",
    "# Atualiza número de entradas\n",
    "num_input += 8"
   ]
  },
  {
   "cell_type": "markdown",
   "metadata": {
    "id": "yKEt6FaOj34Z"
   },
   "source": [
    "**Saída esperada:**\n",
    "\n",
    "    [[-0.42777395  0.27999237  0.24018171  0.07493864  0.2034157  -0.09776279\n",
    "       0.18314685  0.04246866]\n",
    "     [ 0.22655667  0.16137254  0.33353806  0.21287134  0.27651897 -0.16279218\n",
    "      -0.25303188 -0.33496138]\n",
    "     [-0.07981153  0.10738403 -0.27436027 -0.1045252   0.11560448 -0.37660906\n",
    "      -0.13173237 -0.29564175]\n",
    "     [-0.3764975  -0.2668523  -0.11631445 -0.15872143  0.23671539 -0.12712602\n",
    "      -0.2112993   0.30894685]\n",
    "     [-0.25282273  0.52100515  0.03996713 -0.5479238   0.5706844  -0.25294143\n",
    "       0.5259882  -0.42650932]]\n",
    "       \n",
    "- Observe que os valores dos elementos dos vetores \"embedding\" são aprendidos durante o treinamento do RNA. Esses valores nesse momento são números aleatórios utilizados para incializar os vetores."
   ]
  },
  {
   "cell_type": "markdown",
   "metadata": {
    "id": "57UgsaNYj34Z"
   },
   "source": [
    "### 4.8 Verificação da lista de colunas\n",
    "\n",
    "Execute a célula abaixo para verificar se a lista de características usadas pela RNA está correta e o número de entradas de cada exemplo."
   ]
  },
  {
   "cell_type": "code",
   "execution_count": 25,
   "metadata": {
    "colab": {
     "base_uri": "https://localhost:8080/"
    },
    "id": "IY_xM0DX5AP5",
    "outputId": "07b24b89-97c6-4d96-e141-176ec21f0823"
   },
   "outputs": [
    {
     "data": {
      "text/plain": [
       "13"
      ]
     },
     "execution_count": 25,
     "metadata": {
      "tags": []
     },
     "output_type": "execute_result"
    }
   ],
   "source": [
    "len(columns_list)"
   ]
  },
  {
   "cell_type": "code",
   "execution_count": 26,
   "metadata": {
    "colab": {
     "base_uri": "https://localhost:8080/"
    },
    "id": "rVkwmI_Pj34a",
    "outputId": "6f374d8c-1a3d-491c-8421-ba476fcb7e1d"
   },
   "outputs": [
    {
     "name": "stdout",
     "output_type": "stream",
     "text": [
      "Número de entradas = 52\n",
      "\n",
      "Lista de colunas de características:\n",
      "1 - BucketizedColumn(source_column=NumericColumn(key='Age', shape=(1,), default_value=None, dtype=tf.float32, normalizer_fn=None), boundaries=(3, 6, 12, 60, 120))\n",
      "2 - BucketizedColumn(source_column=NumericColumn(key='PhotoAmt', shape=(1,), default_value=None, dtype=tf.float32, normalizer_fn=None), boundaries=(1, 3, 5))\n",
      "3 - NumericColumn(key='Fee', shape=(1,), default_value=None, dtype=tf.float32, normalizer_fn=<function norm_max_fee at 0x7f4ac0329440>)\n",
      "4 - IndicatorColumn(categorical_column=VocabularyListCategoricalColumn(key='Type', vocabulary_list=('Cat', 'Dog'), dtype=tf.string, default_value=-1, num_oov_buckets=0))\n",
      "5 - IndicatorColumn(categorical_column=VocabularyListCategoricalColumn(key='Color1', vocabulary_list=('Golden', 'Black', 'Brown', 'White', 'Yellow', 'Cream', 'Gray'), dtype=tf.string, default_value=-1, num_oov_buckets=0))\n",
      "6 - IndicatorColumn(categorical_column=VocabularyListCategoricalColumn(key='Color2', vocabulary_list=('No Color', 'Cream', 'Golden', 'Brown', 'Yellow', 'White', 'Gray'), dtype=tf.string, default_value=-1, num_oov_buckets=0))\n",
      "7 - IndicatorColumn(categorical_column=VocabularyListCategoricalColumn(key='Gender', vocabulary_list=('Male', 'Female'), dtype=tf.string, default_value=-1, num_oov_buckets=0))\n",
      "8 - IndicatorColumn(categorical_column=VocabularyListCategoricalColumn(key='MaturitySize', vocabulary_list=('Small', 'Medium', 'Large'), dtype=tf.string, default_value=-1, num_oov_buckets=0))\n",
      "9 - IndicatorColumn(categorical_column=VocabularyListCategoricalColumn(key='FurLength', vocabulary_list=('Medium', 'Short', 'Long'), dtype=tf.string, default_value=-1, num_oov_buckets=0))\n",
      "10 - IndicatorColumn(categorical_column=VocabularyListCategoricalColumn(key='Vaccinated', vocabulary_list=('No', 'Yes', 'Not Sure'), dtype=tf.string, default_value=-1, num_oov_buckets=0))\n",
      "11 - IndicatorColumn(categorical_column=VocabularyListCategoricalColumn(key='Sterilized', vocabulary_list=('No', 'Yes', 'Not Sure'), dtype=tf.string, default_value=-1, num_oov_buckets=0))\n",
      "12 - IndicatorColumn(categorical_column=VocabularyListCategoricalColumn(key='Health', vocabulary_list=('Healthy', 'Minor Injury', 'Serious Injury'), dtype=tf.string, default_value=-1, num_oov_buckets=0))\n",
      "13 - EmbeddingColumn(categorical_column=VocabularyListCategoricalColumn(key='Breed1', vocabulary_list=('Domestic Medium Hair', 'Mixed Breed', 'Belgian Shepherd Malinois', 'Dachshund', 'Domestic Short Hair', 'Ragdoll', 'Calico', 'Tabby', 'Labrador Retriever', 'Siamese', 'Poodle', 'Rottweiler', 'Domestic Long Hair', 'Doberman Pinscher', 'Golden Retriever', 'Miniature Pinscher', 'Shar Pei', 'Chihuahua', 'Spitz', 'Cavalier King Charles Spaniel', 'Black Labrador Retriever', 'Singapura', 'Terrier', 'German Shepherd Dog', 'Corgi', 'British Shorthair', 'Dalmatian', 'Shih Tzu', 'Whippet', 'Schnauzer', 'Rhodesian Ridgeback', 'Russian Blue', 'Bull Terrier', 'Boxer', 'Maine Coon', 'Beagle', 'White German Shepherd', 'Jack Russell Terrier', 'Oriental Short Hair', 'Border Collie', 'American Staffordshire Terrier', 'Basset Hound', 'Siberian Husky', 'Bobtail', 'Pomeranian', 'Collie', 'Husky', 'Irish Wolfhound', 'Tortoiseshell', 'Burmese', 'Persian', 'Jack Russell Terrier (Parson Russell Terrier)', 'American Shorthair', 'Oriental Tabby', 'Basenji', 'Standard Poodle', 'Cocker Spaniel', 'Silky Terrier', 'Tiger', 'Pug', 'Abyssinian', 'Pekingese', 'Wheaten Terrier', 'American Wirehair', 'Manx', 'Shepherd', 'West Highland White Terrier Westie', 'Greyhound', 'Birman', 'Javanese', 'Pit Bull Terrier', 'Tuxedo', 'Maltese', 'Bullmastiff', 'Silver', 'Swedish Vallhund', 'Bengal', 'Australian Kelpie', 'German Pinscher', 'Bombay', 'Irish Setter', 'Boston Terrier', 'English Pointer', 'Torbie', 'Akita', 'Oriental Long Hair', 'Pointer', 'English Bulldog', 'Burmilla', 'Tonkinese', 'Weimaraner', 'Old English Sheepdog', 'Yellow Labrador Retriever', 'Havana', 'Siberian', 'English Cocker Spaniel', 'Japanese Bobtail', 'Hound', 'Retriever', 'Extra-Toes Cat (Hemingway Polydactyl)', 'Snowshoe', 'Mountain Dog', 'Belgian Shepherd Laekenois', 'Lhasa Apso', 'Yorkshire Terrier Yorkie', 'Kai Dog', 'Munsterlander', 'French Bulldog', 'Turkish Angora', 'American Bulldog', 'German Spitz', 'Wirehaired Terrier', 'Fox Terrier', 'Rat Terrier', 'Toy Fox Terrier', 'Saint Bernard', 'Turkish Van', 'Manchester Terrier', 'Dilute Calico', 'Australian Shepherd', 'American Curl', 'Himalayan', 'Ocicat', 'Norwegian Forest Cat', 'Korat', 'Dilute Tortoiseshell', 'Shetland Sheepdog Sheltie', 'Nebelung', 'Great Dane', 'Glen of Imaal Terrier', 'Ragamuffin', 'Staffordshire Bull Terrier', 'Cymric', 'Papillon', 'Mastiff', 'Shiba Inu', 'Coonhound', 'Flat-coated Retriever', 'Sphynx (hairless cat)', 'Balinese', 'Egyptian Mau', 'Chinese Crested Dog', 'Chow Chow', '0', 'Somali', 'Chausie', 'English Springer Spaniel', 'Welsh Corgi', 'Australian Terrier'), dtype=tf.string, default_value=0, num_oov_buckets=0), dimension=8, combiner='mean', initializer=<tensorflow.python.ops.init_ops.TruncatedNormal object at 0x7f4ac02e35d0>, ckpt_to_load_from=None, tensor_name_in_ckpt=None, max_norm=None, trainable=True, use_safe_embedding_lookup=True)\n"
     ]
    }
   ],
   "source": [
    "print('Número de entradas =', num_input)\n",
    "print('\\nLista de colunas de características:')\n",
    "for i in range(13):\n",
    "    print(i+1, '-', columns_list[i])"
   ]
  },
  {
   "cell_type": "markdown",
   "metadata": {
    "id": "RoOhYXQqj34a"
   },
   "source": [
    "**Saída esperada:**\n",
    "\n",
    "    Número de entradas = 52\n",
    "\n",
    "    Lista de colunas de características:\n",
    "    1 - BucketizedColumn(source_column=NumericColumn(key='Age', shape=(1,), default_value=None, dtype=tf.float32, normalizer_fn=None), boundaries=(3, 6, 12, 60, 120)) \n",
    "    2 - BucketizedColumn(source_column=NumericColumn(key='PhotoAmt', shape=(1,), default_value=None, dtype=tf.float32, normalizer_fn=None), boundaries=(1, 3, 5)) \n",
    "    .\n",
    "    .\n",
    "    .\n",
    "    12 - IndicatorColumn(categorical_column=VocabularyListCategoricalColumn(key='Health', vocabulary_list=('Healthy', 'Minor Injury', 'Serious Injury'), dtype=tf.string, default_value=-1, num_oov_buckets=0)) \n",
    "    13 - EmbeddingColumn(categorical_column=VocabularyListCategoricalColumn(key='Breed1', vocabulary_list=('Tabby', 'Domestic Medium Hair', 'Mixed Breed', 'Domestic Short Hair', 'Domestic Long Hair', 'Terrier', 'Persian', 'Rottweiler', 'Jack Russell Terrie ... "
   ]
  },
  {
   "cell_type": "markdown",
   "metadata": {
    "id": "M-nDp8krS_ts"
   },
   "source": [
    "## 5. Criar e compilar a RNA\n",
    "\n",
    "Após definir as tranformações desejadas nos dados, vamos criar a RNA para realizar a tarefa de classificação multiclasse para prever a velocidade de adoção dos animais.\n",
    "\n",
    "\n",
    "### Exercício #8: Configurar RNA\n",
    "\n",
    "Para configurar a RNA, a primeira etapa é definir uma camada tipo `DenseFeatures` para inserir as colunas de características selecionadas na variável `columns_list`.\n",
    "\n",
    "A RNA que iremos usar incicialmente tem a seguinte arquitetura:\n",
    "\n",
    "1. Uma camada tipo `DenseFeatures`;\n",
    "2. Uma camada intermediária tipo `Dense`, com 128 neurônios e função de ativação ReLu;\n",
    "3. Uma camada intermediária tipo `Dense`, com 128 neurônios e função de ativação ReLu;\n",
    "4. Uma camada de saída tipo `Dense`, com 5 neurônios e função de ativação softmax.\n",
    "\n",
    "Observe que temos 4 classes de velocidade de adoção, cujos índices variam de 0 a 3.\n",
    "\n",
    "Realize essas operações na célula abaixo."
   ]
  },
  {
   "cell_type": "code",
   "execution_count": 27,
   "metadata": {
    "colab": {
     "base_uri": "https://localhost:8080/"
    },
    "execution": {
     "iopub.execute_input": "2020-09-17T01:32:34.313386Z",
     "iopub.status.busy": "2020-09-17T01:32:34.312680Z",
     "iopub.status.idle": "2020-09-17T01:32:34.315677Z",
     "shell.execute_reply": "2020-09-17T01:32:34.315152Z"
    },
    "id": "6o-El1R2TGQP",
    "outputId": "c982c93a-43ea-4a06-9133-04ae0daa2da0"
   },
   "outputs": [
    {
     "data": {
      "text/plain": [
       "<bound method Model.summary of <tensorflow.python.keras.engine.sequential.Sequential object at 0x7f4ac02d7ed0>>"
      ]
     },
     "execution_count": 27,
     "metadata": {
      "tags": []
     },
     "output_type": "execute_result"
    }
   ],
   "source": [
    "# Para você fazer: Configurar a RNA\n",
    "\n",
    "# Cria camada DenseFeatures\n",
    "feature_layer = tf.keras.layers.DenseFeatures(columns_list, )\n",
    "\n",
    "# Configura RNA\n",
    "rna = tf.keras.models.Sequential()\n",
    "rna.add(feature_layer)\n",
    "rna.add(tf.keras.layers.Dense(128, activation='relu'))\n",
    "rna.add(tf.keras.layers.Dense(128, activation='relu'))\n",
    "rna.add(tf.keras.layers.Dense(5, activation='softmax'))\n",
    "\n",
    "# Sumário da rede\n",
    "rna.summary"
   ]
  },
  {
   "cell_type": "markdown",
   "metadata": {
    "id": "IKualolrj34b"
   },
   "source": [
    "**Saída esperada:**\n",
    "\n",
    "    <bound method Model.summary of <tensorflow.python.keras.engine.sequential.Sequential object at 0x00000200A691F9C8>>"
   ]
  },
  {
   "cell_type": "markdown",
   "metadata": {
    "id": "VXPsKanFj34c"
   },
   "source": [
    "### Exercício #9: Compilar RNA\n",
    "\n",
    "Para treinar a RNA tente usar inicialmente os seguintes parâmetros:\n",
    "\n",
    "- Otimizador: SGD\n",
    "- Taxa de aprendizado: 0.01\n",
    "- Função de custo: SparseCategoricalCrossentropy\n",
    "- Métrica: Accuracy\n",
    "\n",
    "Na célula abaixo compile a sua RNA com esses parâmetros."
   ]
  },
  {
   "cell_type": "code",
   "execution_count": 28,
   "metadata": {
    "id": "QpEA6DAej34c"
   },
   "outputs": [],
   "source": [
    "# Para você fazer: Compilar RNA\n",
    "opt = tf.keras.optimizers.SGD(0.01)\n",
    "\n",
    "# Compila RNA\n",
    "rna.compile(opt, loss='sparse_categorical_crossentropy', metrics='accuracy')"
   ]
  },
  {
   "cell_type": "markdown",
   "metadata": {
    "id": "Tt-VdoMwj34c"
   },
   "source": [
    "## 6. Treinar e avaliar a RNA\n",
    "\n",
    "### Exercício #10: Treinar a RNA\n",
    "\n",
    "Na célula abaixo treine a sua RNA usando 50 épocas. Use os dados de validação para verificar se está ocorrendo problemas de overfitting."
   ]
  },
  {
   "cell_type": "code",
   "execution_count": 29,
   "metadata": {
    "colab": {
     "base_uri": "https://localhost:8080/"
    },
    "id": "5IlSEtXrj34d",
    "outputId": "40b1d9f9-7c27-4507-da4c-8e9afc3553a0"
   },
   "outputs": [
    {
     "name": "stdout",
     "output_type": "stream",
     "text": [
      "Epoch 1/50\n",
      "WARNING:tensorflow:Layers in a Sequential model should only have a single input tensor, but we receive a <class 'dict'> input: {'Type': <tf.Tensor 'ExpandDims_11:0' shape=(None, 1) dtype=string>, 'Age': <tf.Tensor 'ExpandDims:0' shape=(None, 1) dtype=int64>, 'Breed1': <tf.Tensor 'ExpandDims_1:0' shape=(None, 1) dtype=string>, 'Gender': <tf.Tensor 'ExpandDims_6:0' shape=(None, 1) dtype=string>, 'Color1': <tf.Tensor 'ExpandDims_2:0' shape=(None, 1) dtype=string>, 'Color2': <tf.Tensor 'ExpandDims_3:0' shape=(None, 1) dtype=string>, 'MaturitySize': <tf.Tensor 'ExpandDims_8:0' shape=(None, 1) dtype=string>, 'FurLength': <tf.Tensor 'ExpandDims_5:0' shape=(None, 1) dtype=string>, 'Vaccinated': <tf.Tensor 'ExpandDims_12:0' shape=(None, 1) dtype=string>, 'Sterilized': <tf.Tensor 'ExpandDims_10:0' shape=(None, 1) dtype=string>, 'Health': <tf.Tensor 'ExpandDims_7:0' shape=(None, 1) dtype=string>, 'Fee': <tf.Tensor 'ExpandDims_4:0' shape=(None, 1) dtype=int64>, 'PhotoAmt': <tf.Tensor 'ExpandDims_9:0' shape=(None, 1) dtype=int64>}\n",
      "Consider rewriting this model with the Functional API.\n",
      "WARNING:tensorflow:Layers in a Sequential model should only have a single input tensor, but we receive a <class 'dict'> input: {'Type': <tf.Tensor 'ExpandDims_11:0' shape=(None, 1) dtype=string>, 'Age': <tf.Tensor 'ExpandDims:0' shape=(None, 1) dtype=int64>, 'Breed1': <tf.Tensor 'ExpandDims_1:0' shape=(None, 1) dtype=string>, 'Gender': <tf.Tensor 'ExpandDims_6:0' shape=(None, 1) dtype=string>, 'Color1': <tf.Tensor 'ExpandDims_2:0' shape=(None, 1) dtype=string>, 'Color2': <tf.Tensor 'ExpandDims_3:0' shape=(None, 1) dtype=string>, 'MaturitySize': <tf.Tensor 'ExpandDims_8:0' shape=(None, 1) dtype=string>, 'FurLength': <tf.Tensor 'ExpandDims_5:0' shape=(None, 1) dtype=string>, 'Vaccinated': <tf.Tensor 'ExpandDims_12:0' shape=(None, 1) dtype=string>, 'Sterilized': <tf.Tensor 'ExpandDims_10:0' shape=(None, 1) dtype=string>, 'Health': <tf.Tensor 'ExpandDims_7:0' shape=(None, 1) dtype=string>, 'Fee': <tf.Tensor 'ExpandDims_4:0' shape=(None, 1) dtype=int64>, 'PhotoAmt': <tf.Tensor 'ExpandDims_9:0' shape=(None, 1) dtype=int64>}\n",
      "Consider rewriting this model with the Functional API.\n",
      "253/253 [==============================] - ETA: 0s - loss: 1.5029 - accuracy: 0.2708WARNING:tensorflow:Layers in a Sequential model should only have a single input tensor, but we receive a <class 'dict'> input: {'Type': <tf.Tensor 'ExpandDims_11:0' shape=(None, 1) dtype=string>, 'Age': <tf.Tensor 'ExpandDims:0' shape=(None, 1) dtype=int64>, 'Breed1': <tf.Tensor 'ExpandDims_1:0' shape=(None, 1) dtype=string>, 'Gender': <tf.Tensor 'ExpandDims_6:0' shape=(None, 1) dtype=string>, 'Color1': <tf.Tensor 'ExpandDims_2:0' shape=(None, 1) dtype=string>, 'Color2': <tf.Tensor 'ExpandDims_3:0' shape=(None, 1) dtype=string>, 'MaturitySize': <tf.Tensor 'ExpandDims_8:0' shape=(None, 1) dtype=string>, 'FurLength': <tf.Tensor 'ExpandDims_5:0' shape=(None, 1) dtype=string>, 'Vaccinated': <tf.Tensor 'ExpandDims_12:0' shape=(None, 1) dtype=string>, 'Sterilized': <tf.Tensor 'ExpandDims_10:0' shape=(None, 1) dtype=string>, 'Health': <tf.Tensor 'ExpandDims_7:0' shape=(None, 1) dtype=string>, 'Fee': <tf.Tensor 'ExpandDims_4:0' shape=(None, 1) dtype=int64>, 'PhotoAmt': <tf.Tensor 'ExpandDims_9:0' shape=(None, 1) dtype=int64>}\n",
      "Consider rewriting this model with the Functional API.\n",
      "253/253 [==============================] - 4s 9ms/step - loss: 1.5026 - accuracy: 0.2709 - val_loss: 1.3798 - val_accuracy: 0.3351\n",
      "Epoch 2/50\n",
      "253/253 [==============================] - 2s 6ms/step - loss: 1.3711 - accuracy: 0.3330 - val_loss: 1.3447 - val_accuracy: 0.3576\n",
      "Epoch 3/50\n",
      "253/253 [==============================] - 1s 6ms/step - loss: 1.3356 - accuracy: 0.3712 - val_loss: 1.3275 - val_accuracy: 0.3680\n",
      "Epoch 4/50\n",
      "253/253 [==============================] - 1s 6ms/step - loss: 1.3237 - accuracy: 0.3635 - val_loss: 1.3174 - val_accuracy: 0.3663\n",
      "Epoch 5/50\n",
      "253/253 [==============================] - 1s 6ms/step - loss: 1.3119 - accuracy: 0.3709 - val_loss: 1.3103 - val_accuracy: 0.3767\n",
      "Epoch 6/50\n",
      "253/253 [==============================] - 2s 6ms/step - loss: 1.3043 - accuracy: 0.3785 - val_loss: 1.3101 - val_accuracy: 0.3755\n",
      "Epoch 7/50\n",
      "253/253 [==============================] - 2s 6ms/step - loss: 1.2999 - accuracy: 0.3828 - val_loss: 1.3019 - val_accuracy: 0.3824\n",
      "Epoch 8/50\n",
      "253/253 [==============================] - 1s 6ms/step - loss: 1.2884 - accuracy: 0.3955 - val_loss: 1.2949 - val_accuracy: 0.3899\n",
      "Epoch 9/50\n",
      "253/253 [==============================] - 2s 6ms/step - loss: 1.2822 - accuracy: 0.3976 - val_loss: 1.2915 - val_accuracy: 0.3957\n",
      "Epoch 10/50\n",
      "253/253 [==============================] - 1s 6ms/step - loss: 1.2813 - accuracy: 0.3991 - val_loss: 1.2948 - val_accuracy: 0.3876\n",
      "Epoch 11/50\n",
      "253/253 [==============================] - 1s 6ms/step - loss: 1.2742 - accuracy: 0.4091 - val_loss: 1.2881 - val_accuracy: 0.4021\n",
      "Epoch 12/50\n",
      "253/253 [==============================] - 1s 6ms/step - loss: 1.2879 - accuracy: 0.3894 - val_loss: 1.2840 - val_accuracy: 0.3946\n",
      "Epoch 13/50\n",
      "253/253 [==============================] - 1s 6ms/step - loss: 1.2702 - accuracy: 0.4088 - val_loss: 1.2856 - val_accuracy: 0.3934\n",
      "Epoch 14/50\n",
      "253/253 [==============================] - 1s 6ms/step - loss: 1.2738 - accuracy: 0.4021 - val_loss: 1.2832 - val_accuracy: 0.3957\n",
      "Epoch 15/50\n",
      "253/253 [==============================] - 1s 6ms/step - loss: 1.2786 - accuracy: 0.3934 - val_loss: 1.2824 - val_accuracy: 0.3975\n",
      "Epoch 16/50\n",
      "253/253 [==============================] - 1s 6ms/step - loss: 1.2724 - accuracy: 0.4061 - val_loss: 1.2816 - val_accuracy: 0.3923\n",
      "Epoch 17/50\n",
      "253/253 [==============================] - 1s 6ms/step - loss: 1.2704 - accuracy: 0.4009 - val_loss: 1.2777 - val_accuracy: 0.3917\n",
      "Epoch 18/50\n",
      "253/253 [==============================] - 1s 6ms/step - loss: 1.2590 - accuracy: 0.4062 - val_loss: 1.2803 - val_accuracy: 0.3969\n",
      "Epoch 19/50\n",
      "253/253 [==============================] - 2s 6ms/step - loss: 1.2585 - accuracy: 0.4120 - val_loss: 1.2788 - val_accuracy: 0.3980\n",
      "Epoch 20/50\n",
      "253/253 [==============================] - 2s 6ms/step - loss: 1.2574 - accuracy: 0.4087 - val_loss: 1.2819 - val_accuracy: 0.4067\n",
      "Epoch 21/50\n",
      "253/253 [==============================] - 2s 6ms/step - loss: 1.2572 - accuracy: 0.4159 - val_loss: 1.2748 - val_accuracy: 0.4021\n",
      "Epoch 22/50\n",
      "253/253 [==============================] - 1s 6ms/step - loss: 1.2603 - accuracy: 0.4046 - val_loss: 1.2787 - val_accuracy: 0.3911\n",
      "Epoch 23/50\n",
      "253/253 [==============================] - 1s 6ms/step - loss: 1.2546 - accuracy: 0.4173 - val_loss: 1.2746 - val_accuracy: 0.3946\n",
      "Epoch 24/50\n",
      "253/253 [==============================] - 1s 6ms/step - loss: 1.2575 - accuracy: 0.4124 - val_loss: 1.2747 - val_accuracy: 0.3917\n",
      "Epoch 25/50\n",
      "253/253 [==============================] - 1s 6ms/step - loss: 1.2639 - accuracy: 0.4043 - val_loss: 1.2750 - val_accuracy: 0.3963\n",
      "Epoch 26/50\n",
      "253/253 [==============================] - 2s 6ms/step - loss: 1.2600 - accuracy: 0.4132 - val_loss: 1.2720 - val_accuracy: 0.3951\n",
      "Epoch 27/50\n",
      "253/253 [==============================] - 2s 6ms/step - loss: 1.2489 - accuracy: 0.4152 - val_loss: 1.2730 - val_accuracy: 0.3957\n",
      "Epoch 28/50\n",
      "253/253 [==============================] - 2s 7ms/step - loss: 1.2543 - accuracy: 0.4086 - val_loss: 1.2714 - val_accuracy: 0.3957\n",
      "Epoch 29/50\n",
      "253/253 [==============================] - 2s 7ms/step - loss: 1.2547 - accuracy: 0.4097 - val_loss: 1.2757 - val_accuracy: 0.3905\n",
      "Epoch 30/50\n",
      "253/253 [==============================] - 2s 6ms/step - loss: 1.2507 - accuracy: 0.4162 - val_loss: 1.2745 - val_accuracy: 0.3975\n",
      "Epoch 31/50\n",
      "253/253 [==============================] - 2s 6ms/step - loss: 1.2498 - accuracy: 0.4156 - val_loss: 1.2711 - val_accuracy: 0.4032\n",
      "Epoch 32/50\n",
      "253/253 [==============================] - 2s 6ms/step - loss: 1.2540 - accuracy: 0.4183 - val_loss: 1.2719 - val_accuracy: 0.3923\n",
      "Epoch 33/50\n",
      "253/253 [==============================] - 2s 6ms/step - loss: 1.2465 - accuracy: 0.4226 - val_loss: 1.2743 - val_accuracy: 0.3969\n",
      "Epoch 34/50\n",
      "253/253 [==============================] - 2s 6ms/step - loss: 1.2430 - accuracy: 0.4210 - val_loss: 1.2719 - val_accuracy: 0.3998\n",
      "Epoch 35/50\n",
      "253/253 [==============================] - 2s 6ms/step - loss: 1.2483 - accuracy: 0.4172 - val_loss: 1.2689 - val_accuracy: 0.4015\n",
      "Epoch 36/50\n",
      "253/253 [==============================] - 2s 6ms/step - loss: 1.2371 - accuracy: 0.4244 - val_loss: 1.2689 - val_accuracy: 0.4009\n",
      "Epoch 37/50\n",
      "253/253 [==============================] - 1s 6ms/step - loss: 1.2287 - accuracy: 0.4300 - val_loss: 1.2748 - val_accuracy: 0.3992\n",
      "Epoch 38/50\n",
      "253/253 [==============================] - 2s 6ms/step - loss: 1.2402 - accuracy: 0.4277 - val_loss: 1.2773 - val_accuracy: 0.4015\n",
      "Epoch 39/50\n",
      "253/253 [==============================] - 1s 6ms/step - loss: 1.2458 - accuracy: 0.4208 - val_loss: 1.2750 - val_accuracy: 0.3923\n",
      "Epoch 40/50\n",
      "253/253 [==============================] - 1s 6ms/step - loss: 1.2315 - accuracy: 0.4368 - val_loss: 1.2758 - val_accuracy: 0.3917\n",
      "Epoch 41/50\n",
      "253/253 [==============================] - 1s 6ms/step - loss: 1.2295 - accuracy: 0.4353 - val_loss: 1.2694 - val_accuracy: 0.4027\n",
      "Epoch 42/50\n",
      "253/253 [==============================] - 1s 6ms/step - loss: 1.2275 - accuracy: 0.4318 - val_loss: 1.2783 - val_accuracy: 0.4009\n",
      "Epoch 43/50\n",
      "253/253 [==============================] - 2s 6ms/step - loss: 1.2334 - accuracy: 0.4276 - val_loss: 1.2719 - val_accuracy: 0.4061\n",
      "Epoch 44/50\n",
      "253/253 [==============================] - 1s 6ms/step - loss: 1.2366 - accuracy: 0.4267 - val_loss: 1.2721 - val_accuracy: 0.3975\n",
      "Epoch 45/50\n",
      "253/253 [==============================] - 1s 6ms/step - loss: 1.2276 - accuracy: 0.4346 - val_loss: 1.2812 - val_accuracy: 0.4050\n",
      "Epoch 46/50\n",
      "253/253 [==============================] - 2s 6ms/step - loss: 1.2336 - accuracy: 0.4261 - val_loss: 1.2727 - val_accuracy: 0.3969\n",
      "Epoch 47/50\n",
      "253/253 [==============================] - 1s 6ms/step - loss: 1.2241 - accuracy: 0.4391 - val_loss: 1.2721 - val_accuracy: 0.3998\n",
      "Epoch 48/50\n",
      "253/253 [==============================] - 1s 6ms/step - loss: 1.2285 - accuracy: 0.4398 - val_loss: 1.2720 - val_accuracy: 0.4015\n",
      "Epoch 49/50\n",
      "253/253 [==============================] - 2s 6ms/step - loss: 1.2236 - accuracy: 0.4371 - val_loss: 1.2759 - val_accuracy: 0.3940\n",
      "Epoch 50/50\n",
      "253/253 [==============================] - 2s 6ms/step - loss: 1.2202 - accuracy: 0.4401 - val_loss: 1.2726 - val_accuracy: 0.3998\n"
     ]
    }
   ],
   "source": [
    "# Para você fazer: \n",
    "\n",
    "# Treinar a RNA\n",
    "results = rna.fit(train_ds, epochs=50, validation_data=val_ds)\n"
   ]
  },
  {
   "cell_type": "markdown",
   "metadata": {
    "id": "ufJKrg7Fj34d"
   },
   "source": [
    "**Saída esperada:**\n",
    "\n",
    "    Epoch 50/50\n",
    "    253/253 [==============================] - 1s 4ms/step - loss: 0.5468 - accuracy: 0.7777 - val_loss: 2.4025 - val_accuracy: 0.3403"
   ]
  },
  {
   "cell_type": "markdown",
   "metadata": {
    "id": "_KWNUVbwj34e"
   },
   "source": [
    "Execute a célula abaixo para verificar como foi o processo de treinamento da sua RNA."
   ]
  },
  {
   "cell_type": "code",
   "execution_count": 30,
   "metadata": {
    "colab": {
     "base_uri": "https://localhost:8080/",
     "height": 577
    },
    "id": "QavkQW6tj34e",
    "outputId": "06607ea1-e67c-45e6-f146-38e2476f7475"
   },
   "outputs": [
    {
     "data": {
      "image/png": "[encoded data removed]",
      "text/plain": [
       "<Figure size 432x288 with 1 Axes>"
      ]
     },
     "metadata": {
      "needs_background": "light",
      "tags": []
     },
     "output_type": "display_data"
    },
    {
     "data": {
      "image/png": "[encoded data removed]",
      "text/plain": [
       "<Figure size 432x288 with 1 Axes>"
      ]
     },
     "metadata": {
      "needs_background": "light",
      "tags": []
     },
     "output_type": "display_data"
    }
   ],
   "source": [
    "# Recupera resultados de treinamento do dicinário history\n",
    "acc      = results.history['accuracy']\n",
    "val_acc  = results.history['val_accuracy']\n",
    "loss     = results.history['loss']\n",
    "val_loss = results.history['val_loss']\n",
    "\n",
    "# Cria vetor de épocas\n",
    "epocas   = range(len(acc)) \n",
    "\n",
    "# Gráfico dos valores da função de custo\n",
    "plt.plot(epocas, loss, 'r', label='Custo - treinamento')\n",
    "plt.plot(epocas, val_loss, 'b', label='Custo - validação')\n",
    "plt.title('Valor da função de custo – treinamento e validação')\n",
    "plt.xlabel('Épocas')\n",
    "plt.ylabel('Custo')\n",
    "plt.legend()\n",
    "plt.show()\n",
    "\n",
    "# Gráfico dos valores da métrica\n",
    "plt.plot(epocas, acc, 'r', label='exatidao- treinamento')\n",
    "plt.plot(epocas, val_acc, 'b', label='exatidao - validação')\n",
    "plt.title('Valor da métrica – treinamento e validação')\n",
    "plt.xlabel('Épocas')\n",
    "plt.ylabel('Exatidao')\n",
    "plt.legend()\n",
    "plt.show()"
   ]
  },
  {
   "cell_type": "markdown",
   "metadata": {
    "id": "kS8gkozaj34e"
   },
   "source": [
    "### Exercício #11: Avaliação da RNA\n",
    "\n",
    "Calcule o valor da função de custo e da métrica para os dados de teste."
   ]
  },
  {
   "cell_type": "code",
   "execution_count": 31,
   "metadata": {
    "colab": {
     "base_uri": "https://localhost:8080/"
    },
    "execution": {
     "iopub.execute_input": "2020-09-17T01:32:54.628220Z",
     "iopub.status.busy": "2020-09-17T01:32:54.627559Z",
     "iopub.status.idle": "2020-09-17T01:32:55.009975Z",
     "shell.execute_reply": "2020-09-17T01:32:55.009413Z"
    },
    "id": "GnFmMOW0Tcaa",
    "outputId": "135928f3-2ebb-486a-d691-0c9a8814ad42"
   },
   "outputs": [
    {
     "name": "stdout",
     "output_type": "stream",
     "text": [
      "55/55 [==============================] - 0s 5ms/step - loss: 1.2740 - accuracy: 0.4038\n"
     ]
    },
    {
     "data": {
      "text/plain": [
       "[1.2739845514297485, 0.40381282567977905]"
      ]
     },
     "execution_count": 31,
     "metadata": {
      "tags": []
     },
     "output_type": "execute_result"
    }
   ],
   "source": [
    "# Para você fazer: Avaliar a RNA para os dados de teste\n",
    "\n",
    "rna.evaluate(test_ds)"
   ]
  },
  {
   "cell_type": "markdown",
   "metadata": {
    "id": "UKXpO-o9j34f"
   },
   "source": [
    "**Saída esperada:**\n",
    "\n",
    "    55/55 [==============================] - 0s 2ms/step - loss: 2.3789 - accuracy: 0.3333"
   ]
  },
  {
   "cell_type": "markdown",
   "metadata": {
    "id": "3bdfbq20V6zu"
   },
   "source": [
    "### Exercício #12: Teste da RNA para alguns exemplos de teste\n",
    "\n",
    "Na célula abaixo gere um lote de dados de teste, calcule a previsão da RNA para esses dados, determine as classes a partir das previsões da RNA e faça um gráfico dos resultados."
   ]
  },
  {
   "cell_type": "code",
   "execution_count": 32,
   "metadata": {
    "colab": {
     "base_uri": "https://localhost:8080/",
     "height": 374
    },
    "id": "Tviwxq3Oj34g",
    "outputId": "1861fc89-bacb-439c-b72b-0d5bc6929740"
   },
   "outputs": [
    {
     "name": "stdout",
     "output_type": "stream",
     "text": [
      "WARNING:tensorflow:Layers in a Sequential model should only have a single input tensor, but we receive a <class 'dict'> input: {'Type': <tf.Tensor 'ExpandDims_11:0' shape=(32, 1) dtype=string>, 'Age': <tf.Tensor 'ExpandDims:0' shape=(32, 1) dtype=int64>, 'Breed1': <tf.Tensor 'ExpandDims_1:0' shape=(32, 1) dtype=string>, 'Gender': <tf.Tensor 'ExpandDims_6:0' shape=(32, 1) dtype=string>, 'Color1': <tf.Tensor 'ExpandDims_2:0' shape=(32, 1) dtype=string>, 'Color2': <tf.Tensor 'ExpandDims_3:0' shape=(32, 1) dtype=string>, 'MaturitySize': <tf.Tensor 'ExpandDims_8:0' shape=(32, 1) dtype=string>, 'FurLength': <tf.Tensor 'ExpandDims_5:0' shape=(32, 1) dtype=string>, 'Vaccinated': <tf.Tensor 'ExpandDims_12:0' shape=(32, 1) dtype=string>, 'Sterilized': <tf.Tensor 'ExpandDims_10:0' shape=(32, 1) dtype=string>, 'Health': <tf.Tensor 'ExpandDims_7:0' shape=(32, 1) dtype=string>, 'Fee': <tf.Tensor 'ExpandDims_4:0' shape=(32, 1) dtype=int64>, 'PhotoAmt': <tf.Tensor 'ExpandDims_9:0' shape=(32, 1) dtype=int64>}\n",
      "Consider rewriting this model with the Functional API.\n"
     ]
    },
    {
     "data": {
      "image/png": "[encoded data removed]",
      "text/plain": [
       "<Figure size 1152x360 with 1 Axes>"
      ]
     },
     "metadata": {
      "needs_background": "light",
      "tags": []
     },
     "output_type": "display_data"
    }
   ],
   "source": [
    "# Para você fazer:\n",
    "\n",
    "# Gera um lote de exemplos de dados do conjunto de teste\n",
    "for x, y in test_ds.take(1):\n",
    "    # calcula previsão da RNA\n",
    "    y_prev = rna.predict(x)\n",
    "    \n",
    "    # Identifica classes dos exemplos\n",
    "    y_prev = np.argmax(rna.predict(x), axis=1)\n",
    "    \n",
    "    # Mostra saídas real e prevista\n",
    "    plt.figure(figsize=(16,5))\n",
    "    plt.plot(y, 'ro', label='Classe real')\n",
    "    plt.plot(y_prev, 'bo', label='Classe prevista')\n",
    "    plt.legend()\n",
    "    plt.show()"
   ]
  },
  {
   "cell_type": "markdown",
   "metadata": {
    "id": "M7a-FiNGj34g"
   },
   "source": [
    "- Observe que cada círculo vermelho que aparece na figura representa um erro de classificação."
   ]
  },
  {
   "cell_type": "markdown",
   "metadata": {
    "id": "SotnhVWuHQCw"
   },
   "source": [
    "## 7. Para você fazer\n",
    "\n",
    "Como você deve ter percebido os resultados apresentam muito overfitting e são muito insatisfatórios.\n",
    "\n",
    "Pense no que você pode fazer para melhorar os dados. Algumas dicas:\n",
    "\n",
    "1. Usar transformações diferentes nos dados de entrada, tais como, usar intervalos de segmentação diferentes, normalizar valores numéricos de outra forma, agrupar classes de dados categóricos, usar outras características etc.\n",
    "\n",
    "2. Tentar usar regularização L1, L2 e/ou dropout.\n",
    "\n",
    "3. Alterar a configuração da RNA, tal como, usar menos/mais camadas, usar menos/mais neurônios, usar outra configuração de rede (residual por exemplo) etc.\n",
    "\n",
    "**Implemente algumas dessas modificações sugeridas no seu trabalho. A sua nota nesse trabalho depende do desempenho que você conseguir obter com a sua RNA nos dados de teste.**"
   ]
  },
  {
   "cell_type": "code",
   "execution_count": 35,
   "metadata": {
    "id": "0dstPMA4-qUK"
   },
   "outputs": [],
   "source": [
    "results = {}\n",
    "\n",
    "params={\n",
    "    \"optimizers\":{\n",
    "        \"adam\":[0.01],\n",
    "        \"SGD\":[0.01]\n",
    "    },\n",
    "    \"regularization\":{\n",
    "        \"L2\":[0.1, 0.5],\n",
    "        \"dropout\":[0.3, 0.6]\n",
    "    }\n",
    "}\n",
    "\n",
    "def build_model(dense_layers, units, optimizer_type, learning_rate, regularizator_type, regularizator_value):\n",
    "    if len(units) != dense_layers:\n",
    "        print(\"Number of units elements should be equal to number of layers\")\n",
    "    else:    \n",
    "        rna = Sequential()\n",
    "        rna.add(feature_layer)\n",
    "\n",
    "        for l in range(dense_layers):\n",
    "            if regularizator_type == \"L2\":\n",
    "                rna.add(tf.keras.layers.Dense(units[l], kernel_regularizer=tf.keras.regularizers.l2(regularizator_value), activation='relu'))\n",
    "            elif regularizator_type == \"dropout\":\n",
    "                rna.add(tf.keras.layers.Dense(units[l], activation='relu'))\n",
    "                rna.add(tf.keras.layers.Dropout(regularizator_value))\n",
    "        rna.add(tf.keras.layers.Dense(5, activation='softmax'))\n",
    "\n",
    "        if optimizer_type == \"adam\":\n",
    "            opt = tf.keras.optimizers.Adam(learning_rate)\n",
    "        elif optimizer_type == \"SGD\":\n",
    "            opt = tf.keras.optimizers.SGD(learning_rate)\n",
    "\n",
    "        rna.compile(optimizer=opt, loss='sparse_categorical_crossentropy', metrics=\"accuracy\")\n",
    "\n",
    "        return rna\n"
   ]
  },
  {
   "cell_type": "code",
   "execution_count": 50,
   "metadata": {
    "colab": {
     "base_uri": "https://localhost:8080/",
     "height": 35
    },
    "id": "WnZUwdgeNI68",
    "outputId": "4671c35f-b713-470e-ca84-59e3365cadd6"
   },
   "outputs": [
    {
     "data": {
      "application/vnd.google.colaboratory.intrinsic+json": {
       "type": "string"
      },
      "text/plain": [
       "'b'"
      ]
     },
     "execution_count": 50,
     "metadata": {
      "tags": []
     },
     "output_type": "execute_result"
    }
   ],
   "source": [
    "a = {}\n",
    "a[\"a\"] = \"b\"\n",
    "a[\"a\"]"
   ]
  },
  {
   "cell_type": "code",
   "execution_count": 44,
   "metadata": {
    "colab": {
     "base_uri": "https://localhost:8080/"
    },
    "id": "zZUuyCGMNOSQ",
    "outputId": "f63d74a4-6a8d-4107-fdea-59fa2b7f85b0"
   },
   "outputs": [
    {
     "data": {
      "text/plain": [
       "{'a': 'b', 'b': 'c'}"
      ]
     },
     "execution_count": 44,
     "metadata": {
      "tags": []
     },
     "output_type": "execute_result"
    }
   ],
   "source": [
    "a"
   ]
  },
  {
   "cell_type": "code",
   "execution_count": 51,
   "metadata": {
    "colab": {
     "base_uri": "https://localhost:8080/"
    },
    "id": "jpHQ-iFlAV6G",
    "outputId": "d445267b-0514-46c8-df9d-9e944df1b2fe"
   },
   "outputs": [
    {
     "name": "stdout",
     "output_type": "stream",
     "text": [
      "WARNING:tensorflow:Layers in a Sequential model should only have a single input tensor, but we receive a <class 'dict'> input: {'Type': <tf.Tensor 'ExpandDims_11:0' shape=(None, 1) dtype=string>, 'Age': <tf.Tensor 'ExpandDims:0' shape=(None, 1) dtype=int64>, 'Breed1': <tf.Tensor 'ExpandDims_1:0' shape=(None, 1) dtype=string>, 'Gender': <tf.Tensor 'ExpandDims_6:0' shape=(None, 1) dtype=string>, 'Color1': <tf.Tensor 'ExpandDims_2:0' shape=(None, 1) dtype=string>, 'Color2': <tf.Tensor 'ExpandDims_3:0' shape=(None, 1) dtype=string>, 'MaturitySize': <tf.Tensor 'ExpandDims_8:0' shape=(None, 1) dtype=string>, 'FurLength': <tf.Tensor 'ExpandDims_5:0' shape=(None, 1) dtype=string>, 'Vaccinated': <tf.Tensor 'ExpandDims_12:0' shape=(None, 1) dtype=string>, 'Sterilized': <tf.Tensor 'ExpandDims_10:0' shape=(None, 1) dtype=string>, 'Health': <tf.Tensor 'ExpandDims_7:0' shape=(None, 1) dtype=string>, 'Fee': <tf.Tensor 'ExpandDims_4:0' shape=(None, 1) dtype=int64>, 'PhotoAmt': <tf.Tensor 'ExpandDims_9:0' shape=(None, 1) dtype=int64>}\n",
      "Consider rewriting this model with the Functional API.\n",
      "WARNING:tensorflow:Layers in a Sequential model should only have a single input tensor, but we receive a <class 'dict'> input: {'Type': <tf.Tensor 'ExpandDims_11:0' shape=(None, 1) dtype=string>, 'Age': <tf.Tensor 'ExpandDims:0' shape=(None, 1) dtype=int64>, 'Breed1': <tf.Tensor 'ExpandDims_1:0' shape=(None, 1) dtype=string>, 'Gender': <tf.Tensor 'ExpandDims_6:0' shape=(None, 1) dtype=string>, 'Color1': <tf.Tensor 'ExpandDims_2:0' shape=(None, 1) dtype=string>, 'Color2': <tf.Tensor 'ExpandDims_3:0' shape=(None, 1) dtype=string>, 'MaturitySize': <tf.Tensor 'ExpandDims_8:0' shape=(None, 1) dtype=string>, 'FurLength': <tf.Tensor 'ExpandDims_5:0' shape=(None, 1) dtype=string>, 'Vaccinated': <tf.Tensor 'ExpandDims_12:0' shape=(None, 1) dtype=string>, 'Sterilized': <tf.Tensor 'ExpandDims_10:0' shape=(None, 1) dtype=string>, 'Health': <tf.Tensor 'ExpandDims_7:0' shape=(None, 1) dtype=string>, 'Fee': <tf.Tensor 'ExpandDims_4:0' shape=(None, 1) dtype=int64>, 'PhotoAmt': <tf.Tensor 'ExpandDims_9:0' shape=(None, 1) dtype=int64>}\n",
      "Consider rewriting this model with the Functional API.\n",
      "WARNING:tensorflow:Layers in a Sequential model should only have a single input tensor, but we receive a <class 'dict'> input: {'Type': <tf.Tensor 'ExpandDims_11:0' shape=(None, 1) dtype=string>, 'Age': <tf.Tensor 'ExpandDims:0' shape=(None, 1) dtype=int64>, 'Breed1': <tf.Tensor 'ExpandDims_1:0' shape=(None, 1) dtype=string>, 'Gender': <tf.Tensor 'ExpandDims_6:0' shape=(None, 1) dtype=string>, 'Color1': <tf.Tensor 'ExpandDims_2:0' shape=(None, 1) dtype=string>, 'Color2': <tf.Tensor 'ExpandDims_3:0' shape=(None, 1) dtype=string>, 'MaturitySize': <tf.Tensor 'ExpandDims_8:0' shape=(None, 1) dtype=string>, 'FurLength': <tf.Tensor 'ExpandDims_5:0' shape=(None, 1) dtype=string>, 'Vaccinated': <tf.Tensor 'ExpandDims_12:0' shape=(None, 1) dtype=string>, 'Sterilized': <tf.Tensor 'ExpandDims_10:0' shape=(None, 1) dtype=string>, 'Health': <tf.Tensor 'ExpandDims_7:0' shape=(None, 1) dtype=string>, 'Fee': <tf.Tensor 'ExpandDims_4:0' shape=(None, 1) dtype=int64>, 'PhotoAmt': <tf.Tensor 'ExpandDims_9:0' shape=(None, 1) dtype=int64>}\n",
      "Consider rewriting this model with the Functional API.\n",
      "1 out of 8\n",
      "WARNING:tensorflow:Layers in a Sequential model should only have a single input tensor, but we receive a <class 'dict'> input: {'Type': <tf.Tensor 'ExpandDims_11:0' shape=(None, 1) dtype=string>, 'Age': <tf.Tensor 'ExpandDims:0' shape=(None, 1) dtype=int64>, 'Breed1': <tf.Tensor 'ExpandDims_1:0' shape=(None, 1) dtype=string>, 'Gender': <tf.Tensor 'ExpandDims_6:0' shape=(None, 1) dtype=string>, 'Color1': <tf.Tensor 'ExpandDims_2:0' shape=(None, 1) dtype=string>, 'Color2': <tf.Tensor 'ExpandDims_3:0' shape=(None, 1) dtype=string>, 'MaturitySize': <tf.Tensor 'ExpandDims_8:0' shape=(None, 1) dtype=string>, 'FurLength': <tf.Tensor 'ExpandDims_5:0' shape=(None, 1) dtype=string>, 'Vaccinated': <tf.Tensor 'ExpandDims_12:0' shape=(None, 1) dtype=string>, 'Sterilized': <tf.Tensor 'ExpandDims_10:0' shape=(None, 1) dtype=string>, 'Health': <tf.Tensor 'ExpandDims_7:0' shape=(None, 1) dtype=string>, 'Fee': <tf.Tensor 'ExpandDims_4:0' shape=(None, 1) dtype=int64>, 'PhotoAmt': <tf.Tensor 'ExpandDims_9:0' shape=(None, 1) dtype=int64>}\n",
      "Consider rewriting this model with the Functional API.\n",
      "WARNING:tensorflow:Layers in a Sequential model should only have a single input tensor, but we receive a <class 'dict'> input: {'Type': <tf.Tensor 'ExpandDims_11:0' shape=(None, 1) dtype=string>, 'Age': <tf.Tensor 'ExpandDims:0' shape=(None, 1) dtype=int64>, 'Breed1': <tf.Tensor 'ExpandDims_1:0' shape=(None, 1) dtype=string>, 'Gender': <tf.Tensor 'ExpandDims_6:0' shape=(None, 1) dtype=string>, 'Color1': <tf.Tensor 'ExpandDims_2:0' shape=(None, 1) dtype=string>, 'Color2': <tf.Tensor 'ExpandDims_3:0' shape=(None, 1) dtype=string>, 'MaturitySize': <tf.Tensor 'ExpandDims_8:0' shape=(None, 1) dtype=string>, 'FurLength': <tf.Tensor 'ExpandDims_5:0' shape=(None, 1) dtype=string>, 'Vaccinated': <tf.Tensor 'ExpandDims_12:0' shape=(None, 1) dtype=string>, 'Sterilized': <tf.Tensor 'ExpandDims_10:0' shape=(None, 1) dtype=string>, 'Health': <tf.Tensor 'ExpandDims_7:0' shape=(None, 1) dtype=string>, 'Fee': <tf.Tensor 'ExpandDims_4:0' shape=(None, 1) dtype=int64>, 'PhotoAmt': <tf.Tensor 'ExpandDims_9:0' shape=(None, 1) dtype=int64>}\n",
      "Consider rewriting this model with the Functional API.\n",
      "WARNING:tensorflow:Layers in a Sequential model should only have a single input tensor, but we receive a <class 'dict'> input: {'Type': <tf.Tensor 'ExpandDims_11:0' shape=(None, 1) dtype=string>, 'Age': <tf.Tensor 'ExpandDims:0' shape=(None, 1) dtype=int64>, 'Breed1': <tf.Tensor 'ExpandDims_1:0' shape=(None, 1) dtype=string>, 'Gender': <tf.Tensor 'ExpandDims_6:0' shape=(None, 1) dtype=string>, 'Color1': <tf.Tensor 'ExpandDims_2:0' shape=(None, 1) dtype=string>, 'Color2': <tf.Tensor 'ExpandDims_3:0' shape=(None, 1) dtype=string>, 'MaturitySize': <tf.Tensor 'ExpandDims_8:0' shape=(None, 1) dtype=string>, 'FurLength': <tf.Tensor 'ExpandDims_5:0' shape=(None, 1) dtype=string>, 'Vaccinated': <tf.Tensor 'ExpandDims_12:0' shape=(None, 1) dtype=string>, 'Sterilized': <tf.Tensor 'ExpandDims_10:0' shape=(None, 1) dtype=string>, 'Health': <tf.Tensor 'ExpandDims_7:0' shape=(None, 1) dtype=string>, 'Fee': <tf.Tensor 'ExpandDims_4:0' shape=(None, 1) dtype=int64>, 'PhotoAmt': <tf.Tensor 'ExpandDims_9:0' shape=(None, 1) dtype=int64>}\n",
      "Consider rewriting this model with the Functional API.\n",
      "2 out of 8\n",
      "WARNING:tensorflow:Layers in a Sequential model should only have a single input tensor, but we receive a <class 'dict'> input: {'Type': <tf.Tensor 'ExpandDims_11:0' shape=(None, 1) dtype=string>, 'Age': <tf.Tensor 'ExpandDims:0' shape=(None, 1) dtype=int64>, 'Breed1': <tf.Tensor 'ExpandDims_1:0' shape=(None, 1) dtype=string>, 'Gender': <tf.Tensor 'ExpandDims_6:0' shape=(None, 1) dtype=string>, 'Color1': <tf.Tensor 'ExpandDims_2:0' shape=(None, 1) dtype=string>, 'Color2': <tf.Tensor 'ExpandDims_3:0' shape=(None, 1) dtype=string>, 'MaturitySize': <tf.Tensor 'ExpandDims_8:0' shape=(None, 1) dtype=string>, 'FurLength': <tf.Tensor 'ExpandDims_5:0' shape=(None, 1) dtype=string>, 'Vaccinated': <tf.Tensor 'ExpandDims_12:0' shape=(None, 1) dtype=string>, 'Sterilized': <tf.Tensor 'ExpandDims_10:0' shape=(None, 1) dtype=string>, 'Health': <tf.Tensor 'ExpandDims_7:0' shape=(None, 1) dtype=string>, 'Fee': <tf.Tensor 'ExpandDims_4:0' shape=(None, 1) dtype=int64>, 'PhotoAmt': <tf.Tensor 'ExpandDims_9:0' shape=(None, 1) dtype=int64>}\n",
      "Consider rewriting this model with the Functional API.\n",
      "WARNING:tensorflow:Layers in a Sequential model should only have a single input tensor, but we receive a <class 'dict'> input: {'Type': <tf.Tensor 'ExpandDims_11:0' shape=(None, 1) dtype=string>, 'Age': <tf.Tensor 'ExpandDims:0' shape=(None, 1) dtype=int64>, 'Breed1': <tf.Tensor 'ExpandDims_1:0' shape=(None, 1) dtype=string>, 'Gender': <tf.Tensor 'ExpandDims_6:0' shape=(None, 1) dtype=string>, 'Color1': <tf.Tensor 'ExpandDims_2:0' shape=(None, 1) dtype=string>, 'Color2': <tf.Tensor 'ExpandDims_3:0' shape=(None, 1) dtype=string>, 'MaturitySize': <tf.Tensor 'ExpandDims_8:0' shape=(None, 1) dtype=string>, 'FurLength': <tf.Tensor 'ExpandDims_5:0' shape=(None, 1) dtype=string>, 'Vaccinated': <tf.Tensor 'ExpandDims_12:0' shape=(None, 1) dtype=string>, 'Sterilized': <tf.Tensor 'ExpandDims_10:0' shape=(None, 1) dtype=string>, 'Health': <tf.Tensor 'ExpandDims_7:0' shape=(None, 1) dtype=string>, 'Fee': <tf.Tensor 'ExpandDims_4:0' shape=(None, 1) dtype=int64>, 'PhotoAmt': <tf.Tensor 'ExpandDims_9:0' shape=(None, 1) dtype=int64>}\n",
      "Consider rewriting this model with the Functional API.\n",
      "WARNING:tensorflow:Layers in a Sequential model should only have a single input tensor, but we receive a <class 'dict'> input: {'Type': <tf.Tensor 'ExpandDims_11:0' shape=(None, 1) dtype=string>, 'Age': <tf.Tensor 'ExpandDims:0' shape=(None, 1) dtype=int64>, 'Breed1': <tf.Tensor 'ExpandDims_1:0' shape=(None, 1) dtype=string>, 'Gender': <tf.Tensor 'ExpandDims_6:0' shape=(None, 1) dtype=string>, 'Color1': <tf.Tensor 'ExpandDims_2:0' shape=(None, 1) dtype=string>, 'Color2': <tf.Tensor 'ExpandDims_3:0' shape=(None, 1) dtype=string>, 'MaturitySize': <tf.Tensor 'ExpandDims_8:0' shape=(None, 1) dtype=string>, 'FurLength': <tf.Tensor 'ExpandDims_5:0' shape=(None, 1) dtype=string>, 'Vaccinated': <tf.Tensor 'ExpandDims_12:0' shape=(None, 1) dtype=string>, 'Sterilized': <tf.Tensor 'ExpandDims_10:0' shape=(None, 1) dtype=string>, 'Health': <tf.Tensor 'ExpandDims_7:0' shape=(None, 1) dtype=string>, 'Fee': <tf.Tensor 'ExpandDims_4:0' shape=(None, 1) dtype=int64>, 'PhotoAmt': <tf.Tensor 'ExpandDims_9:0' shape=(None, 1) dtype=int64>}\n",
      "Consider rewriting this model with the Functional API.\n",
      "3 out of 8\n",
      "WARNING:tensorflow:Layers in a Sequential model should only have a single input tensor, but we receive a <class 'dict'> input: {'Type': <tf.Tensor 'ExpandDims_11:0' shape=(None, 1) dtype=string>, 'Age': <tf.Tensor 'ExpandDims:0' shape=(None, 1) dtype=int64>, 'Breed1': <tf.Tensor 'ExpandDims_1:0' shape=(None, 1) dtype=string>, 'Gender': <tf.Tensor 'ExpandDims_6:0' shape=(None, 1) dtype=string>, 'Color1': <tf.Tensor 'ExpandDims_2:0' shape=(None, 1) dtype=string>, 'Color2': <tf.Tensor 'ExpandDims_3:0' shape=(None, 1) dtype=string>, 'MaturitySize': <tf.Tensor 'ExpandDims_8:0' shape=(None, 1) dtype=string>, 'FurLength': <tf.Tensor 'ExpandDims_5:0' shape=(None, 1) dtype=string>, 'Vaccinated': <tf.Tensor 'ExpandDims_12:0' shape=(None, 1) dtype=string>, 'Sterilized': <tf.Tensor 'ExpandDims_10:0' shape=(None, 1) dtype=string>, 'Health': <tf.Tensor 'ExpandDims_7:0' shape=(None, 1) dtype=string>, 'Fee': <tf.Tensor 'ExpandDims_4:0' shape=(None, 1) dtype=int64>, 'PhotoAmt': <tf.Tensor 'ExpandDims_9:0' shape=(None, 1) dtype=int64>}\n",
      "Consider rewriting this model with the Functional API.\n",
      "WARNING:tensorflow:Layers in a Sequential model should only have a single input tensor, but we receive a <class 'dict'> input: {'Type': <tf.Tensor 'ExpandDims_11:0' shape=(None, 1) dtype=string>, 'Age': <tf.Tensor 'ExpandDims:0' shape=(None, 1) dtype=int64>, 'Breed1': <tf.Tensor 'ExpandDims_1:0' shape=(None, 1) dtype=string>, 'Gender': <tf.Tensor 'ExpandDims_6:0' shape=(None, 1) dtype=string>, 'Color1': <tf.Tensor 'ExpandDims_2:0' shape=(None, 1) dtype=string>, 'Color2': <tf.Tensor 'ExpandDims_3:0' shape=(None, 1) dtype=string>, 'MaturitySize': <tf.Tensor 'ExpandDims_8:0' shape=(None, 1) dtype=string>, 'FurLength': <tf.Tensor 'ExpandDims_5:0' shape=(None, 1) dtype=string>, 'Vaccinated': <tf.Tensor 'ExpandDims_12:0' shape=(None, 1) dtype=string>, 'Sterilized': <tf.Tensor 'ExpandDims_10:0' shape=(None, 1) dtype=string>, 'Health': <tf.Tensor 'ExpandDims_7:0' shape=(None, 1) dtype=string>, 'Fee': <tf.Tensor 'ExpandDims_4:0' shape=(None, 1) dtype=int64>, 'PhotoAmt': <tf.Tensor 'ExpandDims_9:0' shape=(None, 1) dtype=int64>}\n",
      "Consider rewriting this model with the Functional API.\n",
      "WARNING:tensorflow:Layers in a Sequential model should only have a single input tensor, but we receive a <class 'dict'> input: {'Type': <tf.Tensor 'ExpandDims_11:0' shape=(None, 1) dtype=string>, 'Age': <tf.Tensor 'ExpandDims:0' shape=(None, 1) dtype=int64>, 'Breed1': <tf.Tensor 'ExpandDims_1:0' shape=(None, 1) dtype=string>, 'Gender': <tf.Tensor 'ExpandDims_6:0' shape=(None, 1) dtype=string>, 'Color1': <tf.Tensor 'ExpandDims_2:0' shape=(None, 1) dtype=string>, 'Color2': <tf.Tensor 'ExpandDims_3:0' shape=(None, 1) dtype=string>, 'MaturitySize': <tf.Tensor 'ExpandDims_8:0' shape=(None, 1) dtype=string>, 'FurLength': <tf.Tensor 'ExpandDims_5:0' shape=(None, 1) dtype=string>, 'Vaccinated': <tf.Tensor 'ExpandDims_12:0' shape=(None, 1) dtype=string>, 'Sterilized': <tf.Tensor 'ExpandDims_10:0' shape=(None, 1) dtype=string>, 'Health': <tf.Tensor 'ExpandDims_7:0' shape=(None, 1) dtype=string>, 'Fee': <tf.Tensor 'ExpandDims_4:0' shape=(None, 1) dtype=int64>, 'PhotoAmt': <tf.Tensor 'ExpandDims_9:0' shape=(None, 1) dtype=int64>}\n",
      "Consider rewriting this model with the Functional API.\n",
      "4 out of 8\n",
      "WARNING:tensorflow:Layers in a Sequential model should only have a single input tensor, but we receive a <class 'dict'> input: {'Type': <tf.Tensor 'ExpandDims_11:0' shape=(None, 1) dtype=string>, 'Age': <tf.Tensor 'ExpandDims:0' shape=(None, 1) dtype=int64>, 'Breed1': <tf.Tensor 'ExpandDims_1:0' shape=(None, 1) dtype=string>, 'Gender': <tf.Tensor 'ExpandDims_6:0' shape=(None, 1) dtype=string>, 'Color1': <tf.Tensor 'ExpandDims_2:0' shape=(None, 1) dtype=string>, 'Color2': <tf.Tensor 'ExpandDims_3:0' shape=(None, 1) dtype=string>, 'MaturitySize': <tf.Tensor 'ExpandDims_8:0' shape=(None, 1) dtype=string>, 'FurLength': <tf.Tensor 'ExpandDims_5:0' shape=(None, 1) dtype=string>, 'Vaccinated': <tf.Tensor 'ExpandDims_12:0' shape=(None, 1) dtype=string>, 'Sterilized': <tf.Tensor 'ExpandDims_10:0' shape=(None, 1) dtype=string>, 'Health': <tf.Tensor 'ExpandDims_7:0' shape=(None, 1) dtype=string>, 'Fee': <tf.Tensor 'ExpandDims_4:0' shape=(None, 1) dtype=int64>, 'PhotoAmt': <tf.Tensor 'ExpandDims_9:0' shape=(None, 1) dtype=int64>}\n",
      "Consider rewriting this model with the Functional API.\n",
      "WARNING:tensorflow:Layers in a Sequential model should only have a single input tensor, but we receive a <class 'dict'> input: {'Type': <tf.Tensor 'ExpandDims_11:0' shape=(None, 1) dtype=string>, 'Age': <tf.Tensor 'ExpandDims:0' shape=(None, 1) dtype=int64>, 'Breed1': <tf.Tensor 'ExpandDims_1:0' shape=(None, 1) dtype=string>, 'Gender': <tf.Tensor 'ExpandDims_6:0' shape=(None, 1) dtype=string>, 'Color1': <tf.Tensor 'ExpandDims_2:0' shape=(None, 1) dtype=string>, 'Color2': <tf.Tensor 'ExpandDims_3:0' shape=(None, 1) dtype=string>, 'MaturitySize': <tf.Tensor 'ExpandDims_8:0' shape=(None, 1) dtype=string>, 'FurLength': <tf.Tensor 'ExpandDims_5:0' shape=(None, 1) dtype=string>, 'Vaccinated': <tf.Tensor 'ExpandDims_12:0' shape=(None, 1) dtype=string>, 'Sterilized': <tf.Tensor 'ExpandDims_10:0' shape=(None, 1) dtype=string>, 'Health': <tf.Tensor 'ExpandDims_7:0' shape=(None, 1) dtype=string>, 'Fee': <tf.Tensor 'ExpandDims_4:0' shape=(None, 1) dtype=int64>, 'PhotoAmt': <tf.Tensor 'ExpandDims_9:0' shape=(None, 1) dtype=int64>}\n",
      "Consider rewriting this model with the Functional API.\n",
      "WARNING:tensorflow:Layers in a Sequential model should only have a single input tensor, but we receive a <class 'dict'> input: {'Type': <tf.Tensor 'ExpandDims_11:0' shape=(None, 1) dtype=string>, 'Age': <tf.Tensor 'ExpandDims:0' shape=(None, 1) dtype=int64>, 'Breed1': <tf.Tensor 'ExpandDims_1:0' shape=(None, 1) dtype=string>, 'Gender': <tf.Tensor 'ExpandDims_6:0' shape=(None, 1) dtype=string>, 'Color1': <tf.Tensor 'ExpandDims_2:0' shape=(None, 1) dtype=string>, 'Color2': <tf.Tensor 'ExpandDims_3:0' shape=(None, 1) dtype=string>, 'MaturitySize': <tf.Tensor 'ExpandDims_8:0' shape=(None, 1) dtype=string>, 'FurLength': <tf.Tensor 'ExpandDims_5:0' shape=(None, 1) dtype=string>, 'Vaccinated': <tf.Tensor 'ExpandDims_12:0' shape=(None, 1) dtype=string>, 'Sterilized': <tf.Tensor 'ExpandDims_10:0' shape=(None, 1) dtype=string>, 'Health': <tf.Tensor 'ExpandDims_7:0' shape=(None, 1) dtype=string>, 'Fee': <tf.Tensor 'ExpandDims_4:0' shape=(None, 1) dtype=int64>, 'PhotoAmt': <tf.Tensor 'ExpandDims_9:0' shape=(None, 1) dtype=int64>}\n",
      "Consider rewriting this model with the Functional API.\n",
      "5 out of 8\n",
      "WARNING:tensorflow:Layers in a Sequential model should only have a single input tensor, but we receive a <class 'dict'> input: {'Type': <tf.Tensor 'ExpandDims_11:0' shape=(None, 1) dtype=string>, 'Age': <tf.Tensor 'ExpandDims:0' shape=(None, 1) dtype=int64>, 'Breed1': <tf.Tensor 'ExpandDims_1:0' shape=(None, 1) dtype=string>, 'Gender': <tf.Tensor 'ExpandDims_6:0' shape=(None, 1) dtype=string>, 'Color1': <tf.Tensor 'ExpandDims_2:0' shape=(None, 1) dtype=string>, 'Color2': <tf.Tensor 'ExpandDims_3:0' shape=(None, 1) dtype=string>, 'MaturitySize': <tf.Tensor 'ExpandDims_8:0' shape=(None, 1) dtype=string>, 'FurLength': <tf.Tensor 'ExpandDims_5:0' shape=(None, 1) dtype=string>, 'Vaccinated': <tf.Tensor 'ExpandDims_12:0' shape=(None, 1) dtype=string>, 'Sterilized': <tf.Tensor 'ExpandDims_10:0' shape=(None, 1) dtype=string>, 'Health': <tf.Tensor 'ExpandDims_7:0' shape=(None, 1) dtype=string>, 'Fee': <tf.Tensor 'ExpandDims_4:0' shape=(None, 1) dtype=int64>, 'PhotoAmt': <tf.Tensor 'ExpandDims_9:0' shape=(None, 1) dtype=int64>}\n",
      "Consider rewriting this model with the Functional API.\n",
      "WARNING:tensorflow:Layers in a Sequential model should only have a single input tensor, but we receive a <class 'dict'> input: {'Type': <tf.Tensor 'ExpandDims_11:0' shape=(None, 1) dtype=string>, 'Age': <tf.Tensor 'ExpandDims:0' shape=(None, 1) dtype=int64>, 'Breed1': <tf.Tensor 'ExpandDims_1:0' shape=(None, 1) dtype=string>, 'Gender': <tf.Tensor 'ExpandDims_6:0' shape=(None, 1) dtype=string>, 'Color1': <tf.Tensor 'ExpandDims_2:0' shape=(None, 1) dtype=string>, 'Color2': <tf.Tensor 'ExpandDims_3:0' shape=(None, 1) dtype=string>, 'MaturitySize': <tf.Tensor 'ExpandDims_8:0' shape=(None, 1) dtype=string>, 'FurLength': <tf.Tensor 'ExpandDims_5:0' shape=(None, 1) dtype=string>, 'Vaccinated': <tf.Tensor 'ExpandDims_12:0' shape=(None, 1) dtype=string>, 'Sterilized': <tf.Tensor 'ExpandDims_10:0' shape=(None, 1) dtype=string>, 'Health': <tf.Tensor 'ExpandDims_7:0' shape=(None, 1) dtype=string>, 'Fee': <tf.Tensor 'ExpandDims_4:0' shape=(None, 1) dtype=int64>, 'PhotoAmt': <tf.Tensor 'ExpandDims_9:0' shape=(None, 1) dtype=int64>}\n",
      "Consider rewriting this model with the Functional API.\n",
      "WARNING:tensorflow:Layers in a Sequential model should only have a single input tensor, but we receive a <class 'dict'> input: {'Type': <tf.Tensor 'ExpandDims_11:0' shape=(None, 1) dtype=string>, 'Age': <tf.Tensor 'ExpandDims:0' shape=(None, 1) dtype=int64>, 'Breed1': <tf.Tensor 'ExpandDims_1:0' shape=(None, 1) dtype=string>, 'Gender': <tf.Tensor 'ExpandDims_6:0' shape=(None, 1) dtype=string>, 'Color1': <tf.Tensor 'ExpandDims_2:0' shape=(None, 1) dtype=string>, 'Color2': <tf.Tensor 'ExpandDims_3:0' shape=(None, 1) dtype=string>, 'MaturitySize': <tf.Tensor 'ExpandDims_8:0' shape=(None, 1) dtype=string>, 'FurLength': <tf.Tensor 'ExpandDims_5:0' shape=(None, 1) dtype=string>, 'Vaccinated': <tf.Tensor 'ExpandDims_12:0' shape=(None, 1) dtype=string>, 'Sterilized': <tf.Tensor 'ExpandDims_10:0' shape=(None, 1) dtype=string>, 'Health': <tf.Tensor 'ExpandDims_7:0' shape=(None, 1) dtype=string>, 'Fee': <tf.Tensor 'ExpandDims_4:0' shape=(None, 1) dtype=int64>, 'PhotoAmt': <tf.Tensor 'ExpandDims_9:0' shape=(None, 1) dtype=int64>}\n",
      "Consider rewriting this model with the Functional API.\n",
      "6 out of 8\n",
      "WARNING:tensorflow:Layers in a Sequential model should only have a single input tensor, but we receive a <class 'dict'> input: {'Type': <tf.Tensor 'ExpandDims_11:0' shape=(None, 1) dtype=string>, 'Age': <tf.Tensor 'ExpandDims:0' shape=(None, 1) dtype=int64>, 'Breed1': <tf.Tensor 'ExpandDims_1:0' shape=(None, 1) dtype=string>, 'Gender': <tf.Tensor 'ExpandDims_6:0' shape=(None, 1) dtype=string>, 'Color1': <tf.Tensor 'ExpandDims_2:0' shape=(None, 1) dtype=string>, 'Color2': <tf.Tensor 'ExpandDims_3:0' shape=(None, 1) dtype=string>, 'MaturitySize': <tf.Tensor 'ExpandDims_8:0' shape=(None, 1) dtype=string>, 'FurLength': <tf.Tensor 'ExpandDims_5:0' shape=(None, 1) dtype=string>, 'Vaccinated': <tf.Tensor 'ExpandDims_12:0' shape=(None, 1) dtype=string>, 'Sterilized': <tf.Tensor 'ExpandDims_10:0' shape=(None, 1) dtype=string>, 'Health': <tf.Tensor 'ExpandDims_7:0' shape=(None, 1) dtype=string>, 'Fee': <tf.Tensor 'ExpandDims_4:0' shape=(None, 1) dtype=int64>, 'PhotoAmt': <tf.Tensor 'ExpandDims_9:0' shape=(None, 1) dtype=int64>}\n",
      "Consider rewriting this model with the Functional API.\n",
      "WARNING:tensorflow:Layers in a Sequential model should only have a single input tensor, but we receive a <class 'dict'> input: {'Type': <tf.Tensor 'ExpandDims_11:0' shape=(None, 1) dtype=string>, 'Age': <tf.Tensor 'ExpandDims:0' shape=(None, 1) dtype=int64>, 'Breed1': <tf.Tensor 'ExpandDims_1:0' shape=(None, 1) dtype=string>, 'Gender': <tf.Tensor 'ExpandDims_6:0' shape=(None, 1) dtype=string>, 'Color1': <tf.Tensor 'ExpandDims_2:0' shape=(None, 1) dtype=string>, 'Color2': <tf.Tensor 'ExpandDims_3:0' shape=(None, 1) dtype=string>, 'MaturitySize': <tf.Tensor 'ExpandDims_8:0' shape=(None, 1) dtype=string>, 'FurLength': <tf.Tensor 'ExpandDims_5:0' shape=(None, 1) dtype=string>, 'Vaccinated': <tf.Tensor 'ExpandDims_12:0' shape=(None, 1) dtype=string>, 'Sterilized': <tf.Tensor 'ExpandDims_10:0' shape=(None, 1) dtype=string>, 'Health': <tf.Tensor 'ExpandDims_7:0' shape=(None, 1) dtype=string>, 'Fee': <tf.Tensor 'ExpandDims_4:0' shape=(None, 1) dtype=int64>, 'PhotoAmt': <tf.Tensor 'ExpandDims_9:0' shape=(None, 1) dtype=int64>}\n",
      "Consider rewriting this model with the Functional API.\n",
      "WARNING:tensorflow:Layers in a Sequential model should only have a single input tensor, but we receive a <class 'dict'> input: {'Type': <tf.Tensor 'ExpandDims_11:0' shape=(None, 1) dtype=string>, 'Age': <tf.Tensor 'ExpandDims:0' shape=(None, 1) dtype=int64>, 'Breed1': <tf.Tensor 'ExpandDims_1:0' shape=(None, 1) dtype=string>, 'Gender': <tf.Tensor 'ExpandDims_6:0' shape=(None, 1) dtype=string>, 'Color1': <tf.Tensor 'ExpandDims_2:0' shape=(None, 1) dtype=string>, 'Color2': <tf.Tensor 'ExpandDims_3:0' shape=(None, 1) dtype=string>, 'MaturitySize': <tf.Tensor 'ExpandDims_8:0' shape=(None, 1) dtype=string>, 'FurLength': <tf.Tensor 'ExpandDims_5:0' shape=(None, 1) dtype=string>, 'Vaccinated': <tf.Tensor 'ExpandDims_12:0' shape=(None, 1) dtype=string>, 'Sterilized': <tf.Tensor 'ExpandDims_10:0' shape=(None, 1) dtype=string>, 'Health': <tf.Tensor 'ExpandDims_7:0' shape=(None, 1) dtype=string>, 'Fee': <tf.Tensor 'ExpandDims_4:0' shape=(None, 1) dtype=int64>, 'PhotoAmt': <tf.Tensor 'ExpandDims_9:0' shape=(None, 1) dtype=int64>}\n",
      "Consider rewriting this model with the Functional API.\n",
      "7 out of 8\n",
      "WARNING:tensorflow:Layers in a Sequential model should only have a single input tensor, but we receive a <class 'dict'> input: {'Type': <tf.Tensor 'ExpandDims_11:0' shape=(None, 1) dtype=string>, 'Age': <tf.Tensor 'ExpandDims:0' shape=(None, 1) dtype=int64>, 'Breed1': <tf.Tensor 'ExpandDims_1:0' shape=(None, 1) dtype=string>, 'Gender': <tf.Tensor 'ExpandDims_6:0' shape=(None, 1) dtype=string>, 'Color1': <tf.Tensor 'ExpandDims_2:0' shape=(None, 1) dtype=string>, 'Color2': <tf.Tensor 'ExpandDims_3:0' shape=(None, 1) dtype=string>, 'MaturitySize': <tf.Tensor 'ExpandDims_8:0' shape=(None, 1) dtype=string>, 'FurLength': <tf.Tensor 'ExpandDims_5:0' shape=(None, 1) dtype=string>, 'Vaccinated': <tf.Tensor 'ExpandDims_12:0' shape=(None, 1) dtype=string>, 'Sterilized': <tf.Tensor 'ExpandDims_10:0' shape=(None, 1) dtype=string>, 'Health': <tf.Tensor 'ExpandDims_7:0' shape=(None, 1) dtype=string>, 'Fee': <tf.Tensor 'ExpandDims_4:0' shape=(None, 1) dtype=int64>, 'PhotoAmt': <tf.Tensor 'ExpandDims_9:0' shape=(None, 1) dtype=int64>}\n",
      "Consider rewriting this model with the Functional API.\n",
      "WARNING:tensorflow:Layers in a Sequential model should only have a single input tensor, but we receive a <class 'dict'> input: {'Type': <tf.Tensor 'ExpandDims_11:0' shape=(None, 1) dtype=string>, 'Age': <tf.Tensor 'ExpandDims:0' shape=(None, 1) dtype=int64>, 'Breed1': <tf.Tensor 'ExpandDims_1:0' shape=(None, 1) dtype=string>, 'Gender': <tf.Tensor 'ExpandDims_6:0' shape=(None, 1) dtype=string>, 'Color1': <tf.Tensor 'ExpandDims_2:0' shape=(None, 1) dtype=string>, 'Color2': <tf.Tensor 'ExpandDims_3:0' shape=(None, 1) dtype=string>, 'MaturitySize': <tf.Tensor 'ExpandDims_8:0' shape=(None, 1) dtype=string>, 'FurLength': <tf.Tensor 'ExpandDims_5:0' shape=(None, 1) dtype=string>, 'Vaccinated': <tf.Tensor 'ExpandDims_12:0' shape=(None, 1) dtype=string>, 'Sterilized': <tf.Tensor 'ExpandDims_10:0' shape=(None, 1) dtype=string>, 'Health': <tf.Tensor 'ExpandDims_7:0' shape=(None, 1) dtype=string>, 'Fee': <tf.Tensor 'ExpandDims_4:0' shape=(None, 1) dtype=int64>, 'PhotoAmt': <tf.Tensor 'ExpandDims_9:0' shape=(None, 1) dtype=int64>}\n",
      "Consider rewriting this model with the Functional API.\n",
      "WARNING:tensorflow:Layers in a Sequential model should only have a single input tensor, but we receive a <class 'dict'> input: {'Type': <tf.Tensor 'ExpandDims_11:0' shape=(None, 1) dtype=string>, 'Age': <tf.Tensor 'ExpandDims:0' shape=(None, 1) dtype=int64>, 'Breed1': <tf.Tensor 'ExpandDims_1:0' shape=(None, 1) dtype=string>, 'Gender': <tf.Tensor 'ExpandDims_6:0' shape=(None, 1) dtype=string>, 'Color1': <tf.Tensor 'ExpandDims_2:0' shape=(None, 1) dtype=string>, 'Color2': <tf.Tensor 'ExpandDims_3:0' shape=(None, 1) dtype=string>, 'MaturitySize': <tf.Tensor 'ExpandDims_8:0' shape=(None, 1) dtype=string>, 'FurLength': <tf.Tensor 'ExpandDims_5:0' shape=(None, 1) dtype=string>, 'Vaccinated': <tf.Tensor 'ExpandDims_12:0' shape=(None, 1) dtype=string>, 'Sterilized': <tf.Tensor 'ExpandDims_10:0' shape=(None, 1) dtype=string>, 'Health': <tf.Tensor 'ExpandDims_7:0' shape=(None, 1) dtype=string>, 'Fee': <tf.Tensor 'ExpandDims_4:0' shape=(None, 1) dtype=int64>, 'PhotoAmt': <tf.Tensor 'ExpandDims_9:0' shape=(None, 1) dtype=int64>}\n",
      "Consider rewriting this model with the Functional API.\n",
      "8 out of 8\n"
     ]
    }
   ],
   "source": [
    "results_list = []\n",
    "i = 0\n",
    "for optimizer_type in params[\"optimizers\"]:\n",
    "    for learning_rate in params[\"optimizers\"][optimizer_type]:\n",
    "        for regularizator_type in params[\"regularization\"]:\n",
    "            for regularizator_value in params[\"regularization\"][regularizator_type]:\n",
    "                rna = build_model(4, [100, 100, 100, 50], optimizer_type, learning_rate, regularizator_type, regularizator_value)\n",
    "                history = rna.fit(train_ds, validation_data=val_ds, epochs=50, verbose=0)\n",
    "                results = {\n",
    "                    \"test_id\":i,\n",
    "                    \"results\":{\n",
    "                        \"optimizer\":optimizer_type,\n",
    "                        \"learning_rate\":learning_rate,\n",
    "                        \"regularizator\":regularizator_type,\n",
    "                        \"regularizator_value\":regularizator_value,\n",
    "                        \"history\":history.history\n",
    "                    }\n",
    "                }\n",
    "                results_list.append(results)\n",
    "                print(i+1, 'out of 8')\n",
    "                i += 1"
   ]
  },
  {
   "cell_type": "markdown",
   "metadata": {
    "id": "A3s_-lXdHJhK"
   },
   "source": [
    "\n",
    "Foram feitos alguns testes com diferentes configurações de redes com as funções acima, e a melhor configuração encontrada até o momento foi de 4 camadas ocultas com as 100, 100, 100 e 50 neurônios respectivamente. Os resultados do GridSearch foram armazenados no dicionário ```results``` e serão analisados agora. \n",
    "\n",
    "Também poderia ser feito um GridSearch de epochs, mas isso não é necessário nessa demanda, uma vez que podemos analisar o ponto de treino onde ocorre overfitting a partir das curvas Treino x Validação.\n"
   ]
  },
  {
   "cell_type": "code",
   "execution_count": 52,
   "metadata": {
    "id": "i-dcot1jL8Nb"
   },
   "outputs": [],
   "source": [
    "def training_plots(history):\n",
    "    # Recupera resultados de treinamento do dicinário history\n",
    "    acc      = history['accuracy']\n",
    "    val_acc  = history['val_accuracy']\n",
    "    loss     = history['loss']\n",
    "    val_loss = history['val_loss']\n",
    "\n",
    "    # Cria vetor de épocas\n",
    "    epocas   = range(len(acc)) \n",
    "\n",
    "    # Gráfico dos valores da função de custo\n",
    "    plt.plot(epocas, loss, 'r', label='Custo - treinamento')\n",
    "    plt.plot(epocas, val_loss, 'b', label='Custo - validação')\n",
    "    plt.title('Valor da função de custo – treinamento e validação')\n",
    "    plt.xlabel('Épocas')\n",
    "    plt.ylabel('Custo')\n",
    "    plt.legend()\n",
    "    plt.show()\n",
    "\n",
    "    # Gráfico dos valores da métrica\n",
    "    plt.plot(epocas, acc, 'r', label='exatidao- treinamento')\n",
    "    plt.plot(epocas, val_acc, 'b', label='exatidao - validação')\n",
    "    plt.title('Valor da métrica – treinamento e validação')\n",
    "    plt.xlabel('Épocas')\n",
    "    plt.ylabel('Exatidao')\n",
    "    plt.legend()\n",
    "    plt.show()"
   ]
  },
  {
   "cell_type": "code",
   "execution_count": 62,
   "metadata": {
    "colab": {
     "base_uri": "https://localhost:8080/",
     "height": 1000
    },
    "id": "qeToXCdtMNbB",
    "outputId": "6b961d16-2af0-457b-9dd1-dc8d16ca44c1"
   },
   "outputs": [
    {
     "name": "stdout",
     "output_type": "stream",
     "text": [
      "Experiment 0\n",
      "best iteration: 0.27787405252456665\n",
      "adam\n",
      "0.01\n",
      "L2\n",
      "0.1\n"
     ]
    },
    {
     "data": {
      "image/png": "[encoded data removed]",
      "text/plain": [
       "<Figure size 432x288 with 1 Axes>"
      ]
     },
     "metadata": {
      "needs_background": "light",
      "tags": []
     },
     "output_type": "display_data"
    },
    {
     "data": {
      "image/png": "[encoded data removed]",
      "text/plain": [
       "<Figure size 432x288 with 1 Axes>"
      ]
     },
     "metadata": {
      "needs_background": "light",
      "tags": []
     },
     "output_type": "display_data"
    },
    {
     "name": "stdout",
     "output_type": "stream",
     "text": [
      "Experiment 1\n",
      "best iteration: 0.27787405252456665\n",
      "adam\n",
      "0.01\n",
      "L2\n",
      "0.5\n"
     ]
    },
    {
     "data": {
      "image/png": "[encoded data removed]",
      "text/plain": [
       "<Figure size 432x288 with 1 Axes>"
      ]
     },
     "metadata": {
      "needs_background": "light",
      "tags": []
     },
     "output_type": "display_data"
    },
    {
     "data": {
      "image/png": "[encoded data removed]",
      "text/plain": [
       "<Figure size 432x288 with 1 Axes>"
      ]
     },
     "metadata": {
      "needs_background": "light",
      "tags": []
     },
     "output_type": "display_data"
    },
    {
     "name": "stdout",
     "output_type": "stream",
     "text": [
      "Experiment 2\n",
      "best iteration: 0.3934141993522644\n",
      "adam\n",
      "0.01\n",
      "dropout\n",
      "0.3\n"
     ]
    },
    {
     "data": {
      "image/png": "[encoded data removed]",
      "text/plain": [
       "<Figure size 432x288 with 1 Axes>"
      ]
     },
     "metadata": {
      "needs_background": "light",
      "tags": []
     },
     "output_type": "display_data"
    },
    {
     "data": {
      "image/png": "[encoded data removed]",
      "text/plain": [
       "<Figure size 432x288 with 1 Axes>"
      ]
     },
     "metadata": {
      "needs_background": "light",
      "tags": []
     },
     "output_type": "display_data"
    },
    {
     "name": "stdout",
     "output_type": "stream",
     "text": [
      "Experiment 3\n",
      "best iteration: 0.3547082543373108\n",
      "adam\n",
      "0.01\n",
      "dropout\n",
      "0.6\n"
     ]
    },
    {
     "data": {
      "image/png": "[encoded data removed]",
      "text/plain": [
       "<Figure size 432x288 with 1 Axes>"
      ]
     },
     "metadata": {
      "needs_background": "light",
      "tags": []
     },
     "output_type": "display_data"
    },
    {
     "data": {
      "image/png": "[encoded data removed]",
      "text/plain": [
       "<Figure size 432x288 with 1 Axes>"
      ]
     },
     "metadata": {
      "needs_background": "light",
      "tags": []
     },
     "output_type": "display_data"
    },
    {
     "name": "stdout",
     "output_type": "stream",
     "text": [
      "Experiment 4\n",
      "best iteration: 0.27787405252456665\n",
      "SGD\n",
      "0.01\n",
      "L2\n",
      "0.1\n"
     ]
    },
    {
     "data": {
      "image/png": "[encoded data removed]",
      "text/plain": [
       "<Figure size 432x288 with 1 Axes>"
      ]
     },
     "metadata": {
      "needs_background": "light",
      "tags": []
     },
     "output_type": "display_data"
    },
    {
     "data": {
      "image/png": "[encoded data removed]",
      "text/plain": [
       "<Figure size 432x288 with 1 Axes>"
      ]
     },
     "metadata": {
      "needs_background": "light",
      "tags": []
     },
     "output_type": "display_data"
    },
    {
     "name": "stdout",
     "output_type": "stream",
     "text": [
      "Experiment 5\n",
      "best iteration: 0.27787405252456665\n",
      "SGD\n",
      "0.01\n",
      "L2\n",
      "0.5\n"
     ]
    },
    {
     "data": {
      "image/png": "[encoded data removed]",
      "text/plain": [
       "<Figure size 432x288 with 1 Axes>"
      ]
     },
     "metadata": {
      "needs_background": "light",
      "tags": []
     },
     "output_type": "display_data"
    },
    {
     "data": {
      "image/png": "[encoded data removed]",
      "text/plain": [
       "<Figure size 432x288 with 1 Axes>"
      ]
     },
     "metadata": {
      "needs_background": "light",
      "tags": []
     },
     "output_type": "display_data"
    },
    {
     "name": "stdout",
     "output_type": "stream",
     "text": [
      "Experiment 6\n",
      "best iteration: 0.4113229215145111\n",
      "SGD\n",
      "0.01\n",
      "dropout\n",
      "0.3\n"
     ]
    },
    {
     "data": {
      "image/png": "[encoded data removed]",
      "text/plain": [
       "<Figure size 432x288 with 1 Axes>"
      ]
     },
     "metadata": {
      "needs_background": "light",
      "tags": []
     },
     "output_type": "display_data"
    },
    {
     "data": {
      "image/png": "[encoded data removed]",
      "text/plain": [
       "<Figure size 432x288 with 1 Axes>"
      ]
     },
     "metadata": {
      "needs_background": "light",
      "tags": []
     },
     "output_type": "display_data"
    },
    {
     "name": "stdout",
     "output_type": "stream",
     "text": [
      "Experiment 7\n",
      "best iteration: 0.34950894117355347\n",
      "SGD\n",
      "0.01\n",
      "dropout\n",
      "0.6\n"
     ]
    },
    {
     "data": {
      "image/png": "[encoded data removed]",
      "text/plain": [
       "<Figure size 432x288 with 1 Axes>"
      ]
     },
     "metadata": {
      "needs_background": "light",
      "tags": []
     },
     "output_type": "display_data"
    },
    {
     "data": {
      "image/png": "[encoded data removed]",
      "text/plain": [
       "<Figure size 432x288 with 1 Axes>"
      ]
     },
     "metadata": {
      "needs_background": "light",
      "tags": []
     },
     "output_type": "display_data"
    }
   ],
   "source": [
    "for experiment in results_list:\n",
    "    print(\"Experiment\", experiment[\"test_id\"])\n",
    "    print(\"best iteration:\", max(experiment[\"results\"][\"history\"][\"val_accuracy\"]))\n",
    "    for r in experiment[\"results\"]:\n",
    "        if r == \"history\":\n",
    "            training_plots(experiment[\"results\"][\"history\"])\n",
    "        else:\n",
    "            print(experiment[\"results\"][r])\n"
   ]
  },
  {
   "cell_type": "markdown",
   "metadata": {
    "id": "lGcMWl7dRwy7"
   },
   "source": [
    "Conforme demonstrado, a melhor iteração teve o resultado:\n",
    "- accuracy: 0.4113229215145111\n",
    "- SGD Learning Rate: 0.01\n",
    "- dropout 0.3\n",
    "- 50 épocas"
   ]
  }
 ],
 "metadata": {
  "accelerator": "GPU",
  "colab": {
   "collapsed_sections": [],
   "name": "T5_Data_pipeline.ipynb",
   "provenance": [],
   "toc_visible": true
  },
  "kernelspec": {
   "display_name": "Python 3",
   "language": "python",
   "name": "python3"
  },
  "language_info": {
   "codemirror_mode": {
    "name": "ipython",
    "version": 3
   },
   "file_extension": ".py",
   "mimetype": "text/x-python",
   "name": "python",
   "nbconvert_exporter": "python",
   "pygments_lexer": "ipython3",
   "version": "3.8.5"
  }
 },
 "nbformat": 4,
 "nbformat_minor": 1
}
