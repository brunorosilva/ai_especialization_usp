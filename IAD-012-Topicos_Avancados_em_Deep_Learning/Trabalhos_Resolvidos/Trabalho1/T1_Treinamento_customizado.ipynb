{
 "cells": [
  {
   "cell_type": "markdown",
   "metadata": {
    "id": "AWqcoPhU3RJN"
   },
   "source": [
    "# Trabalho #1 - Treinamento customizado\n",
    "\n",
    "Nesse trabalho você vai treinar uma RNA para prever se um tumor é maligno ou benigno usando o conjunto de dados \"Breast Cancer Dataset\", disponível no UCI Machine Learning Repository (https://archive.ics.uci.edu/ml/datasets/breast+cancer+wisconsin+(original)\n",
    "\n",
    "\n",
    "Esse conjunto de dados foi obtido pelo Hospital da University de Wisconsin, Madison por: O. L. Mangasarian e W. H. Wolberge, \"Cancer diagnosis via linear programming\", SIAM News, Volume 23, Number 5, September 1990, pp 1 & 18."
   ]
  },
  {
   "cell_type": "markdown",
   "metadata": {
    "id": "MHg9Pq8Q4AsZ"
   },
   "source": [
    "## Coloque o seu nome:\n",
    "\n",
    "Nome: Bruno Rodrigues Silva"
   ]
  },
  {
   "cell_type": "markdown",
   "metadata": {
    "id": "st5AIBFZ5mEQ"
   },
   "source": [
    "## 1. Importar bibliotecas\n",
    "\n",
    "Execute a célula abaixo para importar as principais bilbiotecas necessárias."
   ]
  },
  {
   "cell_type": "code",
   "execution_count": 1,
   "metadata": {
    "id": "JkMXve8XuN5X"
   },
   "outputs": [],
   "source": [
    "import tensorflow as tf\n",
    "import numpy as np\n",
    "import matplotlib.pyplot as plt\n",
    "import pandas as pd"
   ]
  },
  {
   "cell_type": "markdown",
   "metadata": {
    "id": "yUc3HpEQ5s6U"
   },
   "source": [
    "## 2.  Carregar dados\n",
    "\n",
    "Esse conjunto de dados possui 699 exemplos, sendo que cada exemplo é composto por 10 características ontidas por exames de células de tecidos que podem ser da classe de cancer maligno ou benigino.\n",
    "\n",
    "As características de cada exemplo são as seguintes:\n",
    "\n",
    "1. Número de identificação da amostra: id\n",
    "2. Espessura do aglomerado: 1 - 10\n",
    "3. Uniformidade do tamanho da célula: 1 - 10\n",
    "4. Uniformidade da forma celular: 1 - 10\n",
    "5. Adesão Marginal: 1 - 10\n",
    "6. Tamanho de célula epitelial única: 1 - 10\n",
    "7. Núcleos expostos: 1 - 10\n",
    "8. Cromatina Suave: 1 - 10\n",
    "9. Nucléos normais: 1 - 10\n",
    "10. Mitoses: 1 - 10\n",
    "11. Casse: 2 para benigno e 4 para maligno\n",
    "\n",
    "Execute a célula abaixo para carregar o conjunto de dados e criar um DataFrame Pandas. Para facilitar o entendimento dos dados vamos definir explicitamente os nomes das colunas porque o arquivo CSV original não possui o cabeçalho com os nomes das colunas."
   ]
  },
  {
   "cell_type": "code",
   "execution_count": 2,
   "metadata": {
    "colab": {
     "base_uri": "https://localhost:8080/"
    },
    "id": "HVh-W73J5TjS",
    "outputId": "a63da6ce-cbea-46a8-b5c2-ef57d85257fd"
   },
   "outputs": [
    {
     "name": "stdout",
     "output_type": "stream",
     "text": [
      "Downloading data from https://archive.ics.uci.edu/ml/machine-learning-databases/breast-cancer-wisconsin/breast-cancer-wisconsin.data\n",
      "24576/19889 [=====================================] - 0s 6us/step\n"
     ]
    }
   ],
   "source": [
    "DATASET_URL = \"https://archive.ics.uci.edu/ml/machine-learning-databases/breast-cancer-wisconsin/breast-cancer-wisconsin.data\"\n",
    "data_file = tf.keras.utils.get_file(\"breast_cancer.csv\", DATASET_URL)\n",
    "col_names = [\"id\", \"espessura\", \"un_tam_cel\", \"un_forma_cel\", \"adesao_marginal\", \"tam_cel_epit\", \"nucleos_exp\", \"cromatina\", \"nucleos_normais\", \"mitoses\", \"classe\"]\n",
    "df = pd.read_csv(data_file, names=col_names, header=None)"
   ]
  },
  {
   "cell_type": "markdown",
   "metadata": {
    "id": "9Lico2nl4Asg"
   },
   "source": [
    "Execute as duas células abaixo para visualizar os dados e verificar o número de exemplos."
   ]
  },
  {
   "cell_type": "code",
   "execution_count": 3,
   "metadata": {
    "colab": {
     "base_uri": "https://localhost:8080/",
     "height": 204
    },
    "id": "XEv8vS_P6HaV",
    "outputId": "29da2a88-66c2-4a5f-c566-5132f5c2f09e"
   },
   "outputs": [
    {
     "data": {
      "text/html": [
       "<div>\n",
       "<style scoped>\n",
       "    .dataframe tbody tr th:only-of-type {\n",
       "        vertical-align: middle;\n",
       "    }\n",
       "\n",
       "    .dataframe tbody tr th {\n",
       "        vertical-align: top;\n",
       "    }\n",
       "\n",
       "    .dataframe thead th {\n",
       "        text-align: right;\n",
       "    }\n",
       "</style>\n",
       "<table border=\"1\" class=\"dataframe\">\n",
       "  <thead>\n",
       "    <tr style=\"text-align: right;\">\n",
       "      <th></th>\n",
       "      <th>id</th>\n",
       "      <th>espessura</th>\n",
       "      <th>un_tam_cel</th>\n",
       "      <th>un_forma_cel</th>\n",
       "      <th>adesao_marginal</th>\n",
       "      <th>tam_cel_epit</th>\n",
       "      <th>nucleos_exp</th>\n",
       "      <th>cromatina</th>\n",
       "      <th>nucleos_normais</th>\n",
       "      <th>mitoses</th>\n",
       "      <th>classe</th>\n",
       "    </tr>\n",
       "  </thead>\n",
       "  <tbody>\n",
       "    <tr>\n",
       "      <th>0</th>\n",
       "      <td>1000025</td>\n",
       "      <td>5</td>\n",
       "      <td>1</td>\n",
       "      <td>1</td>\n",
       "      <td>1</td>\n",
       "      <td>2</td>\n",
       "      <td>1</td>\n",
       "      <td>3</td>\n",
       "      <td>1</td>\n",
       "      <td>1</td>\n",
       "      <td>2</td>\n",
       "    </tr>\n",
       "    <tr>\n",
       "      <th>1</th>\n",
       "      <td>1002945</td>\n",
       "      <td>5</td>\n",
       "      <td>4</td>\n",
       "      <td>4</td>\n",
       "      <td>5</td>\n",
       "      <td>7</td>\n",
       "      <td>10</td>\n",
       "      <td>3</td>\n",
       "      <td>2</td>\n",
       "      <td>1</td>\n",
       "      <td>2</td>\n",
       "    </tr>\n",
       "    <tr>\n",
       "      <th>2</th>\n",
       "      <td>1015425</td>\n",
       "      <td>3</td>\n",
       "      <td>1</td>\n",
       "      <td>1</td>\n",
       "      <td>1</td>\n",
       "      <td>2</td>\n",
       "      <td>2</td>\n",
       "      <td>3</td>\n",
       "      <td>1</td>\n",
       "      <td>1</td>\n",
       "      <td>2</td>\n",
       "    </tr>\n",
       "    <tr>\n",
       "      <th>3</th>\n",
       "      <td>1016277</td>\n",
       "      <td>6</td>\n",
       "      <td>8</td>\n",
       "      <td>8</td>\n",
       "      <td>1</td>\n",
       "      <td>3</td>\n",
       "      <td>4</td>\n",
       "      <td>3</td>\n",
       "      <td>7</td>\n",
       "      <td>1</td>\n",
       "      <td>2</td>\n",
       "    </tr>\n",
       "    <tr>\n",
       "      <th>4</th>\n",
       "      <td>1017023</td>\n",
       "      <td>4</td>\n",
       "      <td>1</td>\n",
       "      <td>1</td>\n",
       "      <td>3</td>\n",
       "      <td>2</td>\n",
       "      <td>1</td>\n",
       "      <td>3</td>\n",
       "      <td>1</td>\n",
       "      <td>1</td>\n",
       "      <td>2</td>\n",
       "    </tr>\n",
       "  </tbody>\n",
       "</table>\n",
       "</div>"
      ],
      "text/plain": [
       "        id  espessura  un_tam_cel  ...  nucleos_normais  mitoses  classe\n",
       "0  1000025          5           1  ...                1        1       2\n",
       "1  1002945          5           4  ...                2        1       2\n",
       "2  1015425          3           1  ...                1        1       2\n",
       "3  1016277          6           8  ...                7        1       2\n",
       "4  1017023          4           1  ...                1        1       2\n",
       "\n",
       "[5 rows x 11 columns]"
      ]
     },
     "execution_count": 3,
     "metadata": {
      "tags": []
     },
     "output_type": "execute_result"
    }
   ],
   "source": [
    "df.head()"
   ]
  },
  {
   "cell_type": "code",
   "execution_count": 4,
   "metadata": {
    "colab": {
     "base_uri": "https://localhost:8080/"
    },
    "id": "aBYiwT0T4Asi",
    "outputId": "4083cc2b-c596-4644-a635-26b353279888"
   },
   "outputs": [
    {
     "name": "stdout",
     "output_type": "stream",
     "text": [
      "Dimensão dos dados: (699, 11)\n"
     ]
    }
   ],
   "source": [
    "print('Dimensão dos dados:', df.shape)"
   ]
  },
  {
   "cell_type": "markdown",
   "metadata": {
    "id": "NvvbnFL36L85"
   },
   "source": [
    "## 3. Pré-processamento dos dados\n",
    "\n",
    "Os dados precisam ser pré-processados para poderem ser utilzados por uma RNA. \n",
    "\n",
    "As seguintes etapas devem ser realizadas no processamento:\n",
    "\n",
    "1. Retirar a coluna da identificação da amostra (\"id\");\n",
    "2. Eliminar dados que possuem valores \"desconhecidos\";\n",
    "3. Transformar classes de índices 2 e 4 para 0 e 1, 0 é benigno e 1 é maligno;\n",
    "4. Dividir dados nos conjuntos de treinamento e teste;\n",
    "5. Separar coluna das classes (dados de saídas reais) das outras colunas (dados de entradas);\n",
    "6. Normalizar os dados de entrada;\n",
    "7. Conveter DataFrame Pandas para tf.Tensor. "
   ]
  },
  {
   "cell_type": "markdown",
   "metadata": {
    "id": "eF934NG14Ask"
   },
   "source": [
    "### 3.1 Retirar coluna de identificação da amostra (\"id\")\n",
    "\n",
    "Execute a célula baixo para realizar essa operação."
   ]
  },
  {
   "cell_type": "code",
   "execution_count": 5,
   "metadata": {
    "colab": {
     "base_uri": "https://localhost:8080/",
     "height": 204
    },
    "id": "nDeXwHdA5uUN",
    "outputId": "9a38e0fc-d75f-4a1b-d5c2-357d91dadf9e"
   },
   "outputs": [
    {
     "data": {
      "text/html": [
       "<div>\n",
       "<style scoped>\n",
       "    .dataframe tbody tr th:only-of-type {\n",
       "        vertical-align: middle;\n",
       "    }\n",
       "\n",
       "    .dataframe tbody tr th {\n",
       "        vertical-align: top;\n",
       "    }\n",
       "\n",
       "    .dataframe thead th {\n",
       "        text-align: right;\n",
       "    }\n",
       "</style>\n",
       "<table border=\"1\" class=\"dataframe\">\n",
       "  <thead>\n",
       "    <tr style=\"text-align: right;\">\n",
       "      <th></th>\n",
       "      <th>espessura</th>\n",
       "      <th>un_tam_cel</th>\n",
       "      <th>un_forma_cel</th>\n",
       "      <th>adesao_marginal</th>\n",
       "      <th>tam_cel_epit</th>\n",
       "      <th>nucleos_exp</th>\n",
       "      <th>cromatina</th>\n",
       "      <th>nucleos_normais</th>\n",
       "      <th>mitoses</th>\n",
       "      <th>classe</th>\n",
       "    </tr>\n",
       "  </thead>\n",
       "  <tbody>\n",
       "    <tr>\n",
       "      <th>0</th>\n",
       "      <td>5</td>\n",
       "      <td>1</td>\n",
       "      <td>1</td>\n",
       "      <td>1</td>\n",
       "      <td>2</td>\n",
       "      <td>1</td>\n",
       "      <td>3</td>\n",
       "      <td>1</td>\n",
       "      <td>1</td>\n",
       "      <td>2</td>\n",
       "    </tr>\n",
       "    <tr>\n",
       "      <th>1</th>\n",
       "      <td>5</td>\n",
       "      <td>4</td>\n",
       "      <td>4</td>\n",
       "      <td>5</td>\n",
       "      <td>7</td>\n",
       "      <td>10</td>\n",
       "      <td>3</td>\n",
       "      <td>2</td>\n",
       "      <td>1</td>\n",
       "      <td>2</td>\n",
       "    </tr>\n",
       "    <tr>\n",
       "      <th>2</th>\n",
       "      <td>3</td>\n",
       "      <td>1</td>\n",
       "      <td>1</td>\n",
       "      <td>1</td>\n",
       "      <td>2</td>\n",
       "      <td>2</td>\n",
       "      <td>3</td>\n",
       "      <td>1</td>\n",
       "      <td>1</td>\n",
       "      <td>2</td>\n",
       "    </tr>\n",
       "    <tr>\n",
       "      <th>3</th>\n",
       "      <td>6</td>\n",
       "      <td>8</td>\n",
       "      <td>8</td>\n",
       "      <td>1</td>\n",
       "      <td>3</td>\n",
       "      <td>4</td>\n",
       "      <td>3</td>\n",
       "      <td>7</td>\n",
       "      <td>1</td>\n",
       "      <td>2</td>\n",
       "    </tr>\n",
       "    <tr>\n",
       "      <th>4</th>\n",
       "      <td>4</td>\n",
       "      <td>1</td>\n",
       "      <td>1</td>\n",
       "      <td>3</td>\n",
       "      <td>2</td>\n",
       "      <td>1</td>\n",
       "      <td>3</td>\n",
       "      <td>1</td>\n",
       "      <td>1</td>\n",
       "      <td>2</td>\n",
       "    </tr>\n",
       "  </tbody>\n",
       "</table>\n",
       "</div>"
      ],
      "text/plain": [
       "   espessura  un_tam_cel  un_forma_cel  ...  nucleos_normais  mitoses classe\n",
       "0          5           1             1  ...                1        1      2\n",
       "1          5           4             4  ...                2        1      2\n",
       "2          3           1             1  ...                1        1      2\n",
       "3          6           8             8  ...                7        1      2\n",
       "4          4           1             1  ...                1        1      2\n",
       "\n",
       "[5 rows x 10 columns]"
      ]
     },
     "execution_count": 5,
     "metadata": {
      "tags": []
     },
     "output_type": "execute_result"
    }
   ],
   "source": [
    "df.pop(\"id\")\n",
    "df.head()"
   ]
  },
  {
   "cell_type": "markdown",
   "metadata": {
    "id": "ubw5LueA6ZEY"
   },
   "source": [
    "### 3.2 Eliminar dados \"desconhecidos\"\n",
    "\n",
    "Se você inspecionar os dados vai verificar que existem valores \"desconehcidos\" na coluna de \"nucleos_exp\". Para verificar quais amostras possuem valores desconhecidos execute a célula abaixo."
   ]
  },
  {
   "cell_type": "code",
   "execution_count": 6,
   "metadata": {
    "colab": {
     "base_uri": "https://localhost:8080/",
     "height": 545
    },
    "id": "DfzjxOkO4Asn",
    "outputId": "36e0eaf1-6681-4bed-895b-7ae976f0db8a"
   },
   "outputs": [
    {
     "data": {
      "text/html": [
       "<div>\n",
       "<style scoped>\n",
       "    .dataframe tbody tr th:only-of-type {\n",
       "        vertical-align: middle;\n",
       "    }\n",
       "\n",
       "    .dataframe tbody tr th {\n",
       "        vertical-align: top;\n",
       "    }\n",
       "\n",
       "    .dataframe thead th {\n",
       "        text-align: right;\n",
       "    }\n",
       "</style>\n",
       "<table border=\"1\" class=\"dataframe\">\n",
       "  <thead>\n",
       "    <tr style=\"text-align: right;\">\n",
       "      <th></th>\n",
       "      <th>espessura</th>\n",
       "      <th>un_tam_cel</th>\n",
       "      <th>un_forma_cel</th>\n",
       "      <th>adesao_marginal</th>\n",
       "      <th>tam_cel_epit</th>\n",
       "      <th>nucleos_exp</th>\n",
       "      <th>cromatina</th>\n",
       "      <th>nucleos_normais</th>\n",
       "      <th>mitoses</th>\n",
       "      <th>classe</th>\n",
       "    </tr>\n",
       "  </thead>\n",
       "  <tbody>\n",
       "    <tr>\n",
       "      <th>23</th>\n",
       "      <td>8</td>\n",
       "      <td>4</td>\n",
       "      <td>5</td>\n",
       "      <td>1</td>\n",
       "      <td>2</td>\n",
       "      <td>?</td>\n",
       "      <td>7</td>\n",
       "      <td>3</td>\n",
       "      <td>1</td>\n",
       "      <td>4</td>\n",
       "    </tr>\n",
       "    <tr>\n",
       "      <th>40</th>\n",
       "      <td>6</td>\n",
       "      <td>6</td>\n",
       "      <td>6</td>\n",
       "      <td>9</td>\n",
       "      <td>6</td>\n",
       "      <td>?</td>\n",
       "      <td>7</td>\n",
       "      <td>8</td>\n",
       "      <td>1</td>\n",
       "      <td>2</td>\n",
       "    </tr>\n",
       "    <tr>\n",
       "      <th>139</th>\n",
       "      <td>1</td>\n",
       "      <td>1</td>\n",
       "      <td>1</td>\n",
       "      <td>1</td>\n",
       "      <td>1</td>\n",
       "      <td>?</td>\n",
       "      <td>2</td>\n",
       "      <td>1</td>\n",
       "      <td>1</td>\n",
       "      <td>2</td>\n",
       "    </tr>\n",
       "    <tr>\n",
       "      <th>145</th>\n",
       "      <td>1</td>\n",
       "      <td>1</td>\n",
       "      <td>3</td>\n",
       "      <td>1</td>\n",
       "      <td>2</td>\n",
       "      <td>?</td>\n",
       "      <td>2</td>\n",
       "      <td>1</td>\n",
       "      <td>1</td>\n",
       "      <td>2</td>\n",
       "    </tr>\n",
       "    <tr>\n",
       "      <th>158</th>\n",
       "      <td>1</td>\n",
       "      <td>1</td>\n",
       "      <td>2</td>\n",
       "      <td>1</td>\n",
       "      <td>3</td>\n",
       "      <td>?</td>\n",
       "      <td>1</td>\n",
       "      <td>1</td>\n",
       "      <td>1</td>\n",
       "      <td>2</td>\n",
       "    </tr>\n",
       "    <tr>\n",
       "      <th>164</th>\n",
       "      <td>5</td>\n",
       "      <td>1</td>\n",
       "      <td>1</td>\n",
       "      <td>1</td>\n",
       "      <td>2</td>\n",
       "      <td>?</td>\n",
       "      <td>3</td>\n",
       "      <td>1</td>\n",
       "      <td>1</td>\n",
       "      <td>2</td>\n",
       "    </tr>\n",
       "    <tr>\n",
       "      <th>235</th>\n",
       "      <td>3</td>\n",
       "      <td>1</td>\n",
       "      <td>4</td>\n",
       "      <td>1</td>\n",
       "      <td>2</td>\n",
       "      <td>?</td>\n",
       "      <td>3</td>\n",
       "      <td>1</td>\n",
       "      <td>1</td>\n",
       "      <td>2</td>\n",
       "    </tr>\n",
       "    <tr>\n",
       "      <th>249</th>\n",
       "      <td>3</td>\n",
       "      <td>1</td>\n",
       "      <td>1</td>\n",
       "      <td>1</td>\n",
       "      <td>2</td>\n",
       "      <td>?</td>\n",
       "      <td>3</td>\n",
       "      <td>1</td>\n",
       "      <td>1</td>\n",
       "      <td>2</td>\n",
       "    </tr>\n",
       "    <tr>\n",
       "      <th>275</th>\n",
       "      <td>3</td>\n",
       "      <td>1</td>\n",
       "      <td>3</td>\n",
       "      <td>1</td>\n",
       "      <td>2</td>\n",
       "      <td>?</td>\n",
       "      <td>2</td>\n",
       "      <td>1</td>\n",
       "      <td>1</td>\n",
       "      <td>2</td>\n",
       "    </tr>\n",
       "    <tr>\n",
       "      <th>292</th>\n",
       "      <td>8</td>\n",
       "      <td>8</td>\n",
       "      <td>8</td>\n",
       "      <td>1</td>\n",
       "      <td>2</td>\n",
       "      <td>?</td>\n",
       "      <td>6</td>\n",
       "      <td>10</td>\n",
       "      <td>1</td>\n",
       "      <td>4</td>\n",
       "    </tr>\n",
       "    <tr>\n",
       "      <th>294</th>\n",
       "      <td>1</td>\n",
       "      <td>1</td>\n",
       "      <td>1</td>\n",
       "      <td>1</td>\n",
       "      <td>2</td>\n",
       "      <td>?</td>\n",
       "      <td>2</td>\n",
       "      <td>1</td>\n",
       "      <td>1</td>\n",
       "      <td>2</td>\n",
       "    </tr>\n",
       "    <tr>\n",
       "      <th>297</th>\n",
       "      <td>5</td>\n",
       "      <td>4</td>\n",
       "      <td>3</td>\n",
       "      <td>1</td>\n",
       "      <td>2</td>\n",
       "      <td>?</td>\n",
       "      <td>2</td>\n",
       "      <td>3</td>\n",
       "      <td>1</td>\n",
       "      <td>2</td>\n",
       "    </tr>\n",
       "    <tr>\n",
       "      <th>315</th>\n",
       "      <td>4</td>\n",
       "      <td>6</td>\n",
       "      <td>5</td>\n",
       "      <td>6</td>\n",
       "      <td>7</td>\n",
       "      <td>?</td>\n",
       "      <td>4</td>\n",
       "      <td>9</td>\n",
       "      <td>1</td>\n",
       "      <td>2</td>\n",
       "    </tr>\n",
       "    <tr>\n",
       "      <th>321</th>\n",
       "      <td>3</td>\n",
       "      <td>1</td>\n",
       "      <td>1</td>\n",
       "      <td>1</td>\n",
       "      <td>2</td>\n",
       "      <td>?</td>\n",
       "      <td>3</td>\n",
       "      <td>1</td>\n",
       "      <td>1</td>\n",
       "      <td>2</td>\n",
       "    </tr>\n",
       "    <tr>\n",
       "      <th>411</th>\n",
       "      <td>1</td>\n",
       "      <td>1</td>\n",
       "      <td>1</td>\n",
       "      <td>1</td>\n",
       "      <td>1</td>\n",
       "      <td>?</td>\n",
       "      <td>2</td>\n",
       "      <td>1</td>\n",
       "      <td>1</td>\n",
       "      <td>2</td>\n",
       "    </tr>\n",
       "    <tr>\n",
       "      <th>617</th>\n",
       "      <td>1</td>\n",
       "      <td>1</td>\n",
       "      <td>1</td>\n",
       "      <td>1</td>\n",
       "      <td>1</td>\n",
       "      <td>?</td>\n",
       "      <td>1</td>\n",
       "      <td>1</td>\n",
       "      <td>1</td>\n",
       "      <td>2</td>\n",
       "    </tr>\n",
       "  </tbody>\n",
       "</table>\n",
       "</div>"
      ],
      "text/plain": [
       "     espessura  un_tam_cel  un_forma_cel  ...  nucleos_normais  mitoses classe\n",
       "23           8           4             5  ...                3        1      4\n",
       "40           6           6             6  ...                8        1      2\n",
       "139          1           1             1  ...                1        1      2\n",
       "145          1           1             3  ...                1        1      2\n",
       "158          1           1             2  ...                1        1      2\n",
       "164          5           1             1  ...                1        1      2\n",
       "235          3           1             4  ...                1        1      2\n",
       "249          3           1             1  ...                1        1      2\n",
       "275          3           1             3  ...                1        1      2\n",
       "292          8           8             8  ...               10        1      4\n",
       "294          1           1             1  ...                1        1      2\n",
       "297          5           4             3  ...                3        1      2\n",
       "315          4           6             5  ...                9        1      2\n",
       "321          3           1             1  ...                1        1      2\n",
       "411          1           1             1  ...                1        1      2\n",
       "617          1           1             1  ...                1        1      2\n",
       "\n",
       "[16 rows x 10 columns]"
      ]
     },
     "execution_count": 6,
     "metadata": {
      "tags": []
     },
     "output_type": "execute_result"
    }
   ],
   "source": [
    "df[df[\"nucleos_exp\"] == '?']"
   ]
  },
  {
   "cell_type": "markdown",
   "metadata": {
    "id": "Eu189PPJ4Asn"
   },
   "source": [
    "Deve-se eliminar as linhas que possuem dados desse tipo. Além disso, a coluna \"nucleos_exp\" não é uma coluna numérica e, portanto, deve ser convertida para valores numéricos. Execute a célula abaixo para realizar essas operações."
   ]
  },
  {
   "cell_type": "code",
   "execution_count": 7,
   "metadata": {
    "colab": {
     "base_uri": "https://localhost:8080/",
     "height": 419
    },
    "id": "MCcOrl1ITVhr",
    "outputId": "9a4dc644-2923-4ade-fda2-58d955fe34ec"
   },
   "outputs": [
    {
     "data": {
      "text/html": [
       "<div>\n",
       "<style scoped>\n",
       "    .dataframe tbody tr th:only-of-type {\n",
       "        vertical-align: middle;\n",
       "    }\n",
       "\n",
       "    .dataframe tbody tr th {\n",
       "        vertical-align: top;\n",
       "    }\n",
       "\n",
       "    .dataframe thead th {\n",
       "        text-align: right;\n",
       "    }\n",
       "</style>\n",
       "<table border=\"1\" class=\"dataframe\">\n",
       "  <thead>\n",
       "    <tr style=\"text-align: right;\">\n",
       "      <th></th>\n",
       "      <th>espessura</th>\n",
       "      <th>un_tam_cel</th>\n",
       "      <th>un_forma_cel</th>\n",
       "      <th>adesao_marginal</th>\n",
       "      <th>tam_cel_epit</th>\n",
       "      <th>nucleos_exp</th>\n",
       "      <th>cromatina</th>\n",
       "      <th>nucleos_normais</th>\n",
       "      <th>mitoses</th>\n",
       "      <th>classe</th>\n",
       "    </tr>\n",
       "  </thead>\n",
       "  <tbody>\n",
       "    <tr>\n",
       "      <th>0</th>\n",
       "      <td>5</td>\n",
       "      <td>1</td>\n",
       "      <td>1</td>\n",
       "      <td>1</td>\n",
       "      <td>2</td>\n",
       "      <td>1</td>\n",
       "      <td>3</td>\n",
       "      <td>1</td>\n",
       "      <td>1</td>\n",
       "      <td>2</td>\n",
       "    </tr>\n",
       "    <tr>\n",
       "      <th>1</th>\n",
       "      <td>5</td>\n",
       "      <td>4</td>\n",
       "      <td>4</td>\n",
       "      <td>5</td>\n",
       "      <td>7</td>\n",
       "      <td>10</td>\n",
       "      <td>3</td>\n",
       "      <td>2</td>\n",
       "      <td>1</td>\n",
       "      <td>2</td>\n",
       "    </tr>\n",
       "    <tr>\n",
       "      <th>2</th>\n",
       "      <td>3</td>\n",
       "      <td>1</td>\n",
       "      <td>1</td>\n",
       "      <td>1</td>\n",
       "      <td>2</td>\n",
       "      <td>2</td>\n",
       "      <td>3</td>\n",
       "      <td>1</td>\n",
       "      <td>1</td>\n",
       "      <td>2</td>\n",
       "    </tr>\n",
       "    <tr>\n",
       "      <th>3</th>\n",
       "      <td>6</td>\n",
       "      <td>8</td>\n",
       "      <td>8</td>\n",
       "      <td>1</td>\n",
       "      <td>3</td>\n",
       "      <td>4</td>\n",
       "      <td>3</td>\n",
       "      <td>7</td>\n",
       "      <td>1</td>\n",
       "      <td>2</td>\n",
       "    </tr>\n",
       "    <tr>\n",
       "      <th>4</th>\n",
       "      <td>4</td>\n",
       "      <td>1</td>\n",
       "      <td>1</td>\n",
       "      <td>3</td>\n",
       "      <td>2</td>\n",
       "      <td>1</td>\n",
       "      <td>3</td>\n",
       "      <td>1</td>\n",
       "      <td>1</td>\n",
       "      <td>2</td>\n",
       "    </tr>\n",
       "    <tr>\n",
       "      <th>...</th>\n",
       "      <td>...</td>\n",
       "      <td>...</td>\n",
       "      <td>...</td>\n",
       "      <td>...</td>\n",
       "      <td>...</td>\n",
       "      <td>...</td>\n",
       "      <td>...</td>\n",
       "      <td>...</td>\n",
       "      <td>...</td>\n",
       "      <td>...</td>\n",
       "    </tr>\n",
       "    <tr>\n",
       "      <th>694</th>\n",
       "      <td>3</td>\n",
       "      <td>1</td>\n",
       "      <td>1</td>\n",
       "      <td>1</td>\n",
       "      <td>3</td>\n",
       "      <td>2</td>\n",
       "      <td>1</td>\n",
       "      <td>1</td>\n",
       "      <td>1</td>\n",
       "      <td>2</td>\n",
       "    </tr>\n",
       "    <tr>\n",
       "      <th>695</th>\n",
       "      <td>2</td>\n",
       "      <td>1</td>\n",
       "      <td>1</td>\n",
       "      <td>1</td>\n",
       "      <td>2</td>\n",
       "      <td>1</td>\n",
       "      <td>1</td>\n",
       "      <td>1</td>\n",
       "      <td>1</td>\n",
       "      <td>2</td>\n",
       "    </tr>\n",
       "    <tr>\n",
       "      <th>696</th>\n",
       "      <td>5</td>\n",
       "      <td>10</td>\n",
       "      <td>10</td>\n",
       "      <td>3</td>\n",
       "      <td>7</td>\n",
       "      <td>3</td>\n",
       "      <td>8</td>\n",
       "      <td>10</td>\n",
       "      <td>2</td>\n",
       "      <td>4</td>\n",
       "    </tr>\n",
       "    <tr>\n",
       "      <th>697</th>\n",
       "      <td>4</td>\n",
       "      <td>8</td>\n",
       "      <td>6</td>\n",
       "      <td>4</td>\n",
       "      <td>3</td>\n",
       "      <td>4</td>\n",
       "      <td>10</td>\n",
       "      <td>6</td>\n",
       "      <td>1</td>\n",
       "      <td>4</td>\n",
       "    </tr>\n",
       "    <tr>\n",
       "      <th>698</th>\n",
       "      <td>4</td>\n",
       "      <td>8</td>\n",
       "      <td>8</td>\n",
       "      <td>5</td>\n",
       "      <td>4</td>\n",
       "      <td>5</td>\n",
       "      <td>10</td>\n",
       "      <td>4</td>\n",
       "      <td>1</td>\n",
       "      <td>4</td>\n",
       "    </tr>\n",
       "  </tbody>\n",
       "</table>\n",
       "<p>683 rows × 10 columns</p>\n",
       "</div>"
      ],
      "text/plain": [
       "     espessura  un_tam_cel  un_forma_cel  ...  nucleos_normais  mitoses  classe\n",
       "0            5           1             1  ...                1        1       2\n",
       "1            5           4             4  ...                2        1       2\n",
       "2            3           1             1  ...                1        1       2\n",
       "3            6           8             8  ...                7        1       2\n",
       "4            4           1             1  ...                1        1       2\n",
       "..         ...         ...           ...  ...              ...      ...     ...\n",
       "694          3           1             1  ...                1        1       2\n",
       "695          2           1             1  ...                1        1       2\n",
       "696          5          10            10  ...               10        2       4\n",
       "697          4           8             6  ...                6        1       4\n",
       "698          4           8             8  ...                4        1       4\n",
       "\n",
       "[683 rows x 10 columns]"
      ]
     },
     "execution_count": 7,
     "metadata": {
      "tags": []
     },
     "output_type": "execute_result"
    }
   ],
   "source": [
    "# Elimina linhas com dados desconhecidos na coluna \"nucleos_exp\"\n",
    "df = df[df[\"nucleos_exp\"] != '?' ]\n",
    "\n",
    "# Converte coluna \"nucleo_exp\" para valores numéricos\n",
    "df.nucleos_exp = pd.to_numeric(df.nucleos_exp)\n",
    "df"
   ]
  },
  {
   "cell_type": "markdown",
   "metadata": {
    "id": "quHXayBi4Asp"
   },
   "source": [
    "- Observe que o conjunto de dados agora tem 683 exemplos, ou seja, 16 exemplos foram retirados porque tinham valores \"unknown\"."
   ]
  },
  {
   "cell_type": "markdown",
   "metadata": {
    "id": "UQMhcTQG7LzY"
   },
   "source": [
    "### 3.3 Transformar código das classes de câncer\n",
    "\n",
    "Primeiramente vamos verificar o número de exemplos de cada classe. Lembre que:\n",
    "\n",
    "- Classe = 2 $\\to$ câncer benigno\n",
    "- Classe = 4 $\\to$ câncer maligno\n",
    "\n",
    "Observa-se que é importante fazer essa verificação porque se o número de exemplos das classes for muito desbalanceado temos que usar técnicas especiais para treinar a RNA, como já visto anteriormente.\n",
    "\n",
    "Para visualizar o número de exemplos de cada classe vamos calcular e fazer o gráfico do histograma da coluna \"classe\"."
   ]
  },
  {
   "cell_type": "code",
   "execution_count": 8,
   "metadata": {
    "colab": {
     "base_uri": "https://localhost:8080/",
     "height": 282
    },
    "id": "SaAdQrBv8daS",
    "outputId": "89f899c6-2a0e-4311-dc55-9638d195a5ca"
   },
   "outputs": [
    {
     "data": {
      "text/plain": [
       "<matplotlib.axes._subplots.AxesSubplot at 0x7f42a42c29d0>"
      ]
     },
     "execution_count": 8,
     "metadata": {
      "tags": []
     },
     "output_type": "execute_result"
    },
    {
     "data": {
      "image/png": "[encoded data removed]",
      "text/plain": [
       "<Figure size 432x288 with 1 Axes>"
      ]
     },
     "metadata": {
      "needs_background": "light",
      "tags": []
     },
     "output_type": "display_data"
    }
   ],
   "source": [
    "df['classe'].hist(bins=20) "
   ]
  },
  {
   "cell_type": "markdown",
   "metadata": {
    "id": "ENjMKvxQ6sWy"
   },
   "source": [
    "Para poder modelar esse problema como um problema de classificão binária, que detecta se o tumor é maligno ou não, temos que alterar os códigos das classes para o seguinte:\n",
    "\n",
    "- Câncer benigno (2.0) = 0\n",
    "- Câncer maligno (4.0) = 1"
   ]
  },
  {
   "cell_type": "code",
   "execution_count": 9,
   "metadata": {
    "colab": {
     "base_uri": "https://localhost:8080/",
     "height": 419
    },
    "id": "1MVzeUwf_A3E",
    "lines_to_next_cell": 2,
    "outputId": "14137c26-ecbe-495e-94e8-1554bcf5621a"
   },
   "outputs": [
    {
     "data": {
      "text/html": [
       "<div>\n",
       "<style scoped>\n",
       "    .dataframe tbody tr th:only-of-type {\n",
       "        vertical-align: middle;\n",
       "    }\n",
       "\n",
       "    .dataframe tbody tr th {\n",
       "        vertical-align: top;\n",
       "    }\n",
       "\n",
       "    .dataframe thead th {\n",
       "        text-align: right;\n",
       "    }\n",
       "</style>\n",
       "<table border=\"1\" class=\"dataframe\">\n",
       "  <thead>\n",
       "    <tr style=\"text-align: right;\">\n",
       "      <th></th>\n",
       "      <th>espessura</th>\n",
       "      <th>un_tam_cel</th>\n",
       "      <th>un_forma_cel</th>\n",
       "      <th>adesao_marginal</th>\n",
       "      <th>tam_cel_epit</th>\n",
       "      <th>nucleos_exp</th>\n",
       "      <th>cromatina</th>\n",
       "      <th>nucleos_normais</th>\n",
       "      <th>mitoses</th>\n",
       "      <th>classe</th>\n",
       "    </tr>\n",
       "  </thead>\n",
       "  <tbody>\n",
       "    <tr>\n",
       "      <th>0</th>\n",
       "      <td>5</td>\n",
       "      <td>1</td>\n",
       "      <td>1</td>\n",
       "      <td>1</td>\n",
       "      <td>2</td>\n",
       "      <td>1</td>\n",
       "      <td>3</td>\n",
       "      <td>1</td>\n",
       "      <td>1</td>\n",
       "      <td>0</td>\n",
       "    </tr>\n",
       "    <tr>\n",
       "      <th>1</th>\n",
       "      <td>5</td>\n",
       "      <td>4</td>\n",
       "      <td>4</td>\n",
       "      <td>5</td>\n",
       "      <td>7</td>\n",
       "      <td>10</td>\n",
       "      <td>3</td>\n",
       "      <td>2</td>\n",
       "      <td>1</td>\n",
       "      <td>0</td>\n",
       "    </tr>\n",
       "    <tr>\n",
       "      <th>2</th>\n",
       "      <td>3</td>\n",
       "      <td>1</td>\n",
       "      <td>1</td>\n",
       "      <td>1</td>\n",
       "      <td>2</td>\n",
       "      <td>2</td>\n",
       "      <td>3</td>\n",
       "      <td>1</td>\n",
       "      <td>1</td>\n",
       "      <td>0</td>\n",
       "    </tr>\n",
       "    <tr>\n",
       "      <th>3</th>\n",
       "      <td>6</td>\n",
       "      <td>8</td>\n",
       "      <td>8</td>\n",
       "      <td>1</td>\n",
       "      <td>3</td>\n",
       "      <td>4</td>\n",
       "      <td>3</td>\n",
       "      <td>7</td>\n",
       "      <td>1</td>\n",
       "      <td>0</td>\n",
       "    </tr>\n",
       "    <tr>\n",
       "      <th>4</th>\n",
       "      <td>4</td>\n",
       "      <td>1</td>\n",
       "      <td>1</td>\n",
       "      <td>3</td>\n",
       "      <td>2</td>\n",
       "      <td>1</td>\n",
       "      <td>3</td>\n",
       "      <td>1</td>\n",
       "      <td>1</td>\n",
       "      <td>0</td>\n",
       "    </tr>\n",
       "    <tr>\n",
       "      <th>...</th>\n",
       "      <td>...</td>\n",
       "      <td>...</td>\n",
       "      <td>...</td>\n",
       "      <td>...</td>\n",
       "      <td>...</td>\n",
       "      <td>...</td>\n",
       "      <td>...</td>\n",
       "      <td>...</td>\n",
       "      <td>...</td>\n",
       "      <td>...</td>\n",
       "    </tr>\n",
       "    <tr>\n",
       "      <th>694</th>\n",
       "      <td>3</td>\n",
       "      <td>1</td>\n",
       "      <td>1</td>\n",
       "      <td>1</td>\n",
       "      <td>3</td>\n",
       "      <td>2</td>\n",
       "      <td>1</td>\n",
       "      <td>1</td>\n",
       "      <td>1</td>\n",
       "      <td>0</td>\n",
       "    </tr>\n",
       "    <tr>\n",
       "      <th>695</th>\n",
       "      <td>2</td>\n",
       "      <td>1</td>\n",
       "      <td>1</td>\n",
       "      <td>1</td>\n",
       "      <td>2</td>\n",
       "      <td>1</td>\n",
       "      <td>1</td>\n",
       "      <td>1</td>\n",
       "      <td>1</td>\n",
       "      <td>0</td>\n",
       "    </tr>\n",
       "    <tr>\n",
       "      <th>696</th>\n",
       "      <td>5</td>\n",
       "      <td>10</td>\n",
       "      <td>10</td>\n",
       "      <td>3</td>\n",
       "      <td>7</td>\n",
       "      <td>3</td>\n",
       "      <td>8</td>\n",
       "      <td>10</td>\n",
       "      <td>2</td>\n",
       "      <td>1</td>\n",
       "    </tr>\n",
       "    <tr>\n",
       "      <th>697</th>\n",
       "      <td>4</td>\n",
       "      <td>8</td>\n",
       "      <td>6</td>\n",
       "      <td>4</td>\n",
       "      <td>3</td>\n",
       "      <td>4</td>\n",
       "      <td>10</td>\n",
       "      <td>6</td>\n",
       "      <td>1</td>\n",
       "      <td>1</td>\n",
       "    </tr>\n",
       "    <tr>\n",
       "      <th>698</th>\n",
       "      <td>4</td>\n",
       "      <td>8</td>\n",
       "      <td>8</td>\n",
       "      <td>5</td>\n",
       "      <td>4</td>\n",
       "      <td>5</td>\n",
       "      <td>10</td>\n",
       "      <td>4</td>\n",
       "      <td>1</td>\n",
       "      <td>1</td>\n",
       "    </tr>\n",
       "  </tbody>\n",
       "</table>\n",
       "<p>683 rows × 10 columns</p>\n",
       "</div>"
      ],
      "text/plain": [
       "     espessura  un_tam_cel  un_forma_cel  ...  nucleos_normais  mitoses  classe\n",
       "0            5           1             1  ...                1        1       0\n",
       "1            5           4             4  ...                2        1       0\n",
       "2            3           1             1  ...                1        1       0\n",
       "3            6           8             8  ...                7        1       0\n",
       "4            4           1             1  ...                1        1       0\n",
       "..         ...         ...           ...  ...              ...      ...     ...\n",
       "694          3           1             1  ...                1        1       0\n",
       "695          2           1             1  ...                1        1       0\n",
       "696          5          10            10  ...               10        2       1\n",
       "697          4           8             6  ...                6        1       1\n",
       "698          4           8             8  ...                4        1       1\n",
       "\n",
       "[683 rows x 10 columns]"
      ]
     },
     "execution_count": 9,
     "metadata": {
      "tags": []
     },
     "output_type": "execute_result"
    }
   ],
   "source": [
    "df['classe'] = np.where(df['classe'] == 2, 0, 1)\n",
    "df"
   ]
  },
  {
   "cell_type": "markdown",
   "metadata": {
    "id": "EGbKO1bR8S9h"
   },
   "source": [
    "### Exercício #1: Dividir e embaralhar conjunto de dados \n",
    "\n",
    "Vamos dividir o conjunto de dados em conjuntos de treinamento e teste. Como o número de amostras é pequeno, faremos a validação no conjunto de teste.\n",
    "\n",
    "Nessa divisão vamos utilizar 80% dos dados como sendo de treinamento e 20% como sendo de teste/validação.\n",
    "\n",
    "Para realizar essa divisão usaremos a função `train_test_split()` da biblioteca ScikitLearn. Observe que você deve usar essa função também para embaralhar aleatoriamente os dados.  "
   ]
  },
  {
   "cell_type": "code",
   "execution_count": 24,
   "metadata": {
    "colab": {
     "base_uri": "https://localhost:8080/"
    },
    "id": "aNUy7JcuAXjC",
    "outputId": "d9628109-5b33-43dc-d4f6-8f704c9b24f1"
   },
   "outputs": [
    {
     "name": "stdout",
     "output_type": "stream",
     "text": [
      "Dimensão dos dados de treinamento: (546, 10)\n",
      "Dimensão dos dados de teste: (137, 10)\n"
     ]
    }
   ],
   "source": [
    "# Para você fazer: Dividir e embaralhar dados\n",
    "\n",
    "# Importa função para dividir conjunto de dados\n",
    "from sklearn.model_selection import train_test_split\n",
    "\n",
    "# Realiza divisão dos dados \n",
    "# Inclua seu código aqui\n",
    "#\n",
    "train, test = train_test_split(df, shuffle=True, train_size=0.8, random_state=42)\n",
    "print(f\"Dimensão dos dados de treinamento: {train.shape}\\nDimensão dos dados de teste: {test.shape}\")"
   ]
  },
  {
   "cell_type": "markdown",
   "metadata": {
    "id": "8T9nHrt34Asv"
   },
   "source": [
    "**Saída esperada:**\n",
    "\n",
    "    Dimensão dos dados de treinamento: (546, 10)\n",
    "    Dimensão dos dados de teste: (137, 10)"
   ]
  },
  {
   "cell_type": "markdown",
   "metadata": {
    "id": "DbH0NFiS4Asw"
   },
   "source": [
    "### 3.4 Separar coluna das classes (saída desejada)\n",
    "\n",
    "Devemos separar a coluna das classes dos conjuntos de treinamento e teste para criar as saídas desejadas de treinamento e teste."
   ]
  },
  {
   "cell_type": "code",
   "execution_count": 25,
   "metadata": {
    "colab": {
     "base_uri": "https://localhost:8080/"
    },
    "id": "V7EGUV-tA5LZ",
    "outputId": "0037b93e-1bd7-4f47-c08a-4aa128221a48"
   },
   "outputs": [
    {
     "data": {
      "text/plain": [
       "452    0\n",
       "264    1\n",
       "599    0\n",
       "18     1\n",
       "364    0\n",
       "      ..\n",
       "73     1\n",
       "108    0\n",
       "279    1\n",
       "450    0\n",
       "104    1\n",
       "Name: classe, Length: 546, dtype: int64"
      ]
     },
     "execution_count": 25,
     "metadata": {
      "tags": []
     },
     "output_type": "execute_result"
    }
   ],
   "source": [
    "train_Y = train.pop(\"classe\")\n",
    "test_Y = test.pop(\"classe\")\n",
    "train_Y"
   ]
  },
  {
   "cell_type": "markdown",
   "metadata": {
    "id": "TcuCU10v4Asx"
   },
   "source": [
    "Vamos calcular as estatísticas básicas das saídas dos conjuntos de treinamento e teste para verificar se ambos possuem a mesma distribuição."
   ]
  },
  {
   "cell_type": "code",
   "execution_count": 26,
   "metadata": {
    "colab": {
     "base_uri": "https://localhost:8080/"
    },
    "id": "RgoshyLT4Asy",
    "outputId": "d7afdcb1-3e14-4fb0-f53e-b25f6e7b7f98"
   },
   "outputs": [
    {
     "name": "stdout",
     "output_type": "stream",
     "text": [
      "Estatística das saídas de treinamento:\n",
      " count    546.000000\n",
      "mean       0.331502\n",
      "std        0.471185\n",
      "min        0.000000\n",
      "25%        0.000000\n",
      "50%        0.000000\n",
      "75%        1.000000\n",
      "max        1.000000\n",
      "Name: classe, dtype: float64\n",
      "\n",
      "Estatística das saídas de teste:\n",
      " count    137.000000\n",
      "mean       0.423358\n",
      "std        0.495904\n",
      "min        0.000000\n",
      "25%        0.000000\n",
      "50%        0.000000\n",
      "75%        1.000000\n",
      "max        1.000000\n",
      "Name: classe, dtype: float64\n"
     ]
    }
   ],
   "source": [
    "print('Estatística das saídas de treinamento:\\n', train_Y.describe())\n",
    "print('\\nEstatística das saídas de teste:\\n', test_Y.describe())"
   ]
  },
  {
   "cell_type": "markdown",
   "metadata": {
    "id": "H_ZKokUP8kP3"
   },
   "source": [
    "### 3.5 Normalizar dados de entrada\n",
    "\n",
    "Antes de normalizar os dados de entrada é importante calcular as suas estatísticas básicas. Os valores de média e desvio padrão das caracteríticas dos dados de entrada de treinamento serão usados para normalizar os dados de treinamento e de teste."
   ]
  },
  {
   "cell_type": "code",
   "execution_count": 27,
   "metadata": {
    "colab": {
     "base_uri": "https://localhost:8080/",
     "height": 345
    },
    "id": "k86tBT_QAm2P",
    "outputId": "d96f2a53-8776-4bc2-ec8b-afa542d01ef6"
   },
   "outputs": [
    {
     "name": "stdout",
     "output_type": "stream",
     "text": [
      "(9, 8)\n"
     ]
    },
    {
     "data": {
      "text/html": [
       "<div>\n",
       "<style scoped>\n",
       "    .dataframe tbody tr th:only-of-type {\n",
       "        vertical-align: middle;\n",
       "    }\n",
       "\n",
       "    .dataframe tbody tr th {\n",
       "        vertical-align: top;\n",
       "    }\n",
       "\n",
       "    .dataframe thead th {\n",
       "        text-align: right;\n",
       "    }\n",
       "</style>\n",
       "<table border=\"1\" class=\"dataframe\">\n",
       "  <thead>\n",
       "    <tr style=\"text-align: right;\">\n",
       "      <th></th>\n",
       "      <th>count</th>\n",
       "      <th>mean</th>\n",
       "      <th>std</th>\n",
       "      <th>min</th>\n",
       "      <th>25%</th>\n",
       "      <th>50%</th>\n",
       "      <th>75%</th>\n",
       "      <th>max</th>\n",
       "    </tr>\n",
       "  </thead>\n",
       "  <tbody>\n",
       "    <tr>\n",
       "      <th>espessura</th>\n",
       "      <td>546.0</td>\n",
       "      <td>4.415751</td>\n",
       "      <td>2.762337</td>\n",
       "      <td>1.0</td>\n",
       "      <td>2.0</td>\n",
       "      <td>4.0</td>\n",
       "      <td>6.00</td>\n",
       "      <td>10.0</td>\n",
       "    </tr>\n",
       "    <tr>\n",
       "      <th>un_tam_cel</th>\n",
       "      <td>546.0</td>\n",
       "      <td>3.106227</td>\n",
       "      <td>3.056003</td>\n",
       "      <td>1.0</td>\n",
       "      <td>1.0</td>\n",
       "      <td>1.0</td>\n",
       "      <td>4.75</td>\n",
       "      <td>10.0</td>\n",
       "    </tr>\n",
       "    <tr>\n",
       "      <th>un_forma_cel</th>\n",
       "      <td>546.0</td>\n",
       "      <td>3.212454</td>\n",
       "      <td>3.035374</td>\n",
       "      <td>1.0</td>\n",
       "      <td>1.0</td>\n",
       "      <td>1.0</td>\n",
       "      <td>5.00</td>\n",
       "      <td>10.0</td>\n",
       "    </tr>\n",
       "    <tr>\n",
       "      <th>adesao_marginal</th>\n",
       "      <td>546.0</td>\n",
       "      <td>2.824176</td>\n",
       "      <td>2.857830</td>\n",
       "      <td>1.0</td>\n",
       "      <td>1.0</td>\n",
       "      <td>1.0</td>\n",
       "      <td>4.00</td>\n",
       "      <td>10.0</td>\n",
       "    </tr>\n",
       "    <tr>\n",
       "      <th>tam_cel_epit</th>\n",
       "      <td>546.0</td>\n",
       "      <td>3.184982</td>\n",
       "      <td>2.179267</td>\n",
       "      <td>1.0</td>\n",
       "      <td>2.0</td>\n",
       "      <td>2.0</td>\n",
       "      <td>4.00</td>\n",
       "      <td>10.0</td>\n",
       "    </tr>\n",
       "    <tr>\n",
       "      <th>nucleos_exp</th>\n",
       "      <td>546.0</td>\n",
       "      <td>3.468864</td>\n",
       "      <td>3.630647</td>\n",
       "      <td>1.0</td>\n",
       "      <td>1.0</td>\n",
       "      <td>1.0</td>\n",
       "      <td>5.00</td>\n",
       "      <td>10.0</td>\n",
       "    </tr>\n",
       "    <tr>\n",
       "      <th>cromatina</th>\n",
       "      <td>546.0</td>\n",
       "      <td>3.315018</td>\n",
       "      <td>2.383359</td>\n",
       "      <td>1.0</td>\n",
       "      <td>2.0</td>\n",
       "      <td>3.0</td>\n",
       "      <td>4.00</td>\n",
       "      <td>10.0</td>\n",
       "    </tr>\n",
       "    <tr>\n",
       "      <th>nucleos_normais</th>\n",
       "      <td>546.0</td>\n",
       "      <td>2.752747</td>\n",
       "      <td>2.949614</td>\n",
       "      <td>1.0</td>\n",
       "      <td>1.0</td>\n",
       "      <td>1.0</td>\n",
       "      <td>3.00</td>\n",
       "      <td>10.0</td>\n",
       "    </tr>\n",
       "    <tr>\n",
       "      <th>mitoses</th>\n",
       "      <td>546.0</td>\n",
       "      <td>1.553114</td>\n",
       "      <td>1.632783</td>\n",
       "      <td>1.0</td>\n",
       "      <td>1.0</td>\n",
       "      <td>1.0</td>\n",
       "      <td>1.00</td>\n",
       "      <td>10.0</td>\n",
       "    </tr>\n",
       "  </tbody>\n",
       "</table>\n",
       "</div>"
      ],
      "text/plain": [
       "                 count      mean       std  min  25%  50%   75%   max\n",
       "espessura        546.0  4.415751  2.762337  1.0  2.0  4.0  6.00  10.0\n",
       "un_tam_cel       546.0  3.106227  3.056003  1.0  1.0  1.0  4.75  10.0\n",
       "un_forma_cel     546.0  3.212454  3.035374  1.0  1.0  1.0  5.00  10.0\n",
       "adesao_marginal  546.0  2.824176  2.857830  1.0  1.0  1.0  4.00  10.0\n",
       "tam_cel_epit     546.0  3.184982  2.179267  1.0  2.0  2.0  4.00  10.0\n",
       "nucleos_exp      546.0  3.468864  3.630647  1.0  1.0  1.0  5.00  10.0\n",
       "cromatina        546.0  3.315018  2.383359  1.0  2.0  3.0  4.00  10.0\n",
       "nucleos_normais  546.0  2.752747  2.949614  1.0  1.0  1.0  3.00  10.0\n",
       "mitoses          546.0  1.553114  1.632783  1.0  1.0  1.0  1.00  10.0"
      ]
     },
     "execution_count": 27,
     "metadata": {
      "tags": []
     },
     "output_type": "execute_result"
    }
   ],
   "source": [
    "train_stats = train.describe()\n",
    "train_stats = train_stats.transpose()\n",
    "print(train_stats.shape)\n",
    "train_stats"
   ]
  },
  {
   "cell_type": "markdown",
   "metadata": {
    "id": "N9wVRO5E9AgA"
   },
   "source": [
    "### Exercícios #2: Normalizar dados de entrada\n",
    "\n",
    "Os dados de entrada serão normalizados para terem média igual a zero e disvio padrão igual a 1. Assim, a normalizaçãp de cada coluna deve ser feita de acordo com a seguinte equação:\n",
    "\n",
    "$$X_{norm,i} = \\frac{(X_i - \\mu_i)} {\\sigma_i}$$\n",
    "\n",
    "onde $X_i$ é a i-ésima coluna dos dados, $\\mu_i$ é a média da i-ésima coluna, $\\sigma_i$ é o desvio padrão da i-ésima coluna e $X_{norm,i}$ é a i-ésima coluna dos dados normalizada."
   ]
  },
  {
   "cell_type": "code",
   "execution_count": 31,
   "metadata": {
    "colab": {
     "base_uri": "https://localhost:8080/",
     "height": 419
    },
    "id": "NDo__q_AA3j0",
    "outputId": "6059a36f-02a1-49eb-8abb-04371f7bf894"
   },
   "outputs": [
    {
     "data": {
      "text/html": [
       "<div>\n",
       "<style scoped>\n",
       "    .dataframe tbody tr th:only-of-type {\n",
       "        vertical-align: middle;\n",
       "    }\n",
       "\n",
       "    .dataframe tbody tr th {\n",
       "        vertical-align: top;\n",
       "    }\n",
       "\n",
       "    .dataframe thead th {\n",
       "        text-align: right;\n",
       "    }\n",
       "</style>\n",
       "<table border=\"1\" class=\"dataframe\">\n",
       "  <thead>\n",
       "    <tr style=\"text-align: right;\">\n",
       "      <th></th>\n",
       "      <th>espessura</th>\n",
       "      <th>un_tam_cel</th>\n",
       "      <th>un_forma_cel</th>\n",
       "      <th>adesao_marginal</th>\n",
       "      <th>tam_cel_epit</th>\n",
       "      <th>nucleos_exp</th>\n",
       "      <th>cromatina</th>\n",
       "      <th>nucleos_normais</th>\n",
       "      <th>mitoses</th>\n",
       "    </tr>\n",
       "  </thead>\n",
       "  <tbody>\n",
       "    <tr>\n",
       "      <th>452</th>\n",
       "      <td>-0.512519</td>\n",
       "      <td>-0.689210</td>\n",
       "      <td>-0.728890</td>\n",
       "      <td>0.061524</td>\n",
       "      <td>-0.543752</td>\n",
       "      <td>-0.680007</td>\n",
       "      <td>-0.971326</td>\n",
       "      <td>-0.594229</td>\n",
       "      <td>-0.338755</td>\n",
       "    </tr>\n",
       "    <tr>\n",
       "      <th>264</th>\n",
       "      <td>0.935530</td>\n",
       "      <td>1.928589</td>\n",
       "      <td>0.259456</td>\n",
       "      <td>2.510934</td>\n",
       "      <td>3.127206</td>\n",
       "      <td>-0.129141</td>\n",
       "      <td>0.706978</td>\n",
       "      <td>0.083825</td>\n",
       "      <td>0.886147</td>\n",
       "    </tr>\n",
       "    <tr>\n",
       "      <th>599</th>\n",
       "      <td>0.211505</td>\n",
       "      <td>-0.361985</td>\n",
       "      <td>0.259456</td>\n",
       "      <td>-0.638308</td>\n",
       "      <td>-1.002622</td>\n",
       "      <td>-0.680007</td>\n",
       "      <td>-0.971326</td>\n",
       "      <td>-0.594229</td>\n",
       "      <td>-0.338755</td>\n",
       "    </tr>\n",
       "    <tr>\n",
       "      <th>18</th>\n",
       "      <td>2.021567</td>\n",
       "      <td>1.274139</td>\n",
       "      <td>1.247802</td>\n",
       "      <td>1.111271</td>\n",
       "      <td>0.373987</td>\n",
       "      <td>1.798890</td>\n",
       "      <td>0.287402</td>\n",
       "      <td>-0.594229</td>\n",
       "      <td>0.273696</td>\n",
       "    </tr>\n",
       "    <tr>\n",
       "      <th>364</th>\n",
       "      <td>-0.874532</td>\n",
       "      <td>-0.689210</td>\n",
       "      <td>-0.728890</td>\n",
       "      <td>-0.638308</td>\n",
       "      <td>-0.543752</td>\n",
       "      <td>-0.680007</td>\n",
       "      <td>-0.132174</td>\n",
       "      <td>-0.594229</td>\n",
       "      <td>-0.338755</td>\n",
       "    </tr>\n",
       "    <tr>\n",
       "      <th>...</th>\n",
       "      <td>...</td>\n",
       "      <td>...</td>\n",
       "      <td>...</td>\n",
       "      <td>...</td>\n",
       "      <td>...</td>\n",
       "      <td>...</td>\n",
       "      <td>...</td>\n",
       "      <td>...</td>\n",
       "      <td>...</td>\n",
       "    </tr>\n",
       "    <tr>\n",
       "      <th>73</th>\n",
       "      <td>1.659555</td>\n",
       "      <td>0.292465</td>\n",
       "      <td>0.588905</td>\n",
       "      <td>2.510934</td>\n",
       "      <td>1.291727</td>\n",
       "      <td>1.798890</td>\n",
       "      <td>0.287402</td>\n",
       "      <td>1.778963</td>\n",
       "      <td>-0.338755</td>\n",
       "    </tr>\n",
       "    <tr>\n",
       "      <th>108</th>\n",
       "      <td>-1.236544</td>\n",
       "      <td>-0.689210</td>\n",
       "      <td>-0.728890</td>\n",
       "      <td>-0.638308</td>\n",
       "      <td>-0.543752</td>\n",
       "      <td>-0.680007</td>\n",
       "      <td>-0.551750</td>\n",
       "      <td>0.083825</td>\n",
       "      <td>-0.338755</td>\n",
       "    </tr>\n",
       "    <tr>\n",
       "      <th>279</th>\n",
       "      <td>2.021567</td>\n",
       "      <td>0.619689</td>\n",
       "      <td>1.247802</td>\n",
       "      <td>0.061524</td>\n",
       "      <td>-0.084883</td>\n",
       "      <td>0.972591</td>\n",
       "      <td>-0.132174</td>\n",
       "      <td>0.083825</td>\n",
       "      <td>3.948403</td>\n",
       "    </tr>\n",
       "    <tr>\n",
       "      <th>450</th>\n",
       "      <td>-0.150507</td>\n",
       "      <td>-0.689210</td>\n",
       "      <td>-0.728890</td>\n",
       "      <td>0.061524</td>\n",
       "      <td>-1.002622</td>\n",
       "      <td>-0.680007</td>\n",
       "      <td>-0.551750</td>\n",
       "      <td>-0.594229</td>\n",
       "      <td>-0.338755</td>\n",
       "    </tr>\n",
       "    <tr>\n",
       "      <th>104</th>\n",
       "      <td>2.021567</td>\n",
       "      <td>2.255814</td>\n",
       "      <td>2.236148</td>\n",
       "      <td>2.510934</td>\n",
       "      <td>3.127206</td>\n",
       "      <td>-0.680007</td>\n",
       "      <td>1.965706</td>\n",
       "      <td>1.778963</td>\n",
       "      <td>3.948403</td>\n",
       "    </tr>\n",
       "  </tbody>\n",
       "</table>\n",
       "<p>546 rows × 9 columns</p>\n",
       "</div>"
      ],
      "text/plain": [
       "     espessura  un_tam_cel  un_forma_cel  ...  cromatina  nucleos_normais   mitoses\n",
       "452  -0.512519   -0.689210     -0.728890  ...  -0.971326        -0.594229 -0.338755\n",
       "264   0.935530    1.928589      0.259456  ...   0.706978         0.083825  0.886147\n",
       "599   0.211505   -0.361985      0.259456  ...  -0.971326        -0.594229 -0.338755\n",
       "18    2.021567    1.274139      1.247802  ...   0.287402        -0.594229  0.273696\n",
       "364  -0.874532   -0.689210     -0.728890  ...  -0.132174        -0.594229 -0.338755\n",
       "..         ...         ...           ...  ...        ...              ...       ...\n",
       "73    1.659555    0.292465      0.588905  ...   0.287402         1.778963 -0.338755\n",
       "108  -1.236544   -0.689210     -0.728890  ...  -0.551750         0.083825 -0.338755\n",
       "279   2.021567    0.619689      1.247802  ...  -0.132174         0.083825  3.948403\n",
       "450  -0.150507   -0.689210     -0.728890  ...  -0.551750        -0.594229 -0.338755\n",
       "104   2.021567    2.255814      2.236148  ...   1.965706         1.778963  3.948403\n",
       "\n",
       "[546 rows x 9 columns]"
      ]
     },
     "execution_count": 31,
     "metadata": {
      "tags": []
     },
     "output_type": "execute_result"
    }
   ],
   "source": [
    "# Para você fazer: Normalizar dados\n",
    "\n",
    "# Define função para normalizar as colunas\n",
    "# Inclua seu código aqui\n",
    "#\n",
    "def normalize_column(x):\n",
    "    return (x-x.mean())/x.std()\n",
    "# Normaliza dados entrada de treinamento e teste\n",
    "# Inclua seu código aqui\n",
    "#\n",
    "X_train_norm = train.apply(lambda x:normalize_column(x))\n",
    "X_test_norm = test.apply(lambda x:normalize_column(x))\n",
    "# Visualiza dados de entrada de treinamento normalizados\n",
    "X_train_norm"
   ]
  },
  {
   "cell_type": "code",
   "execution_count": 32,
   "metadata": {
    "colab": {
     "base_uri": "https://localhost:8080/",
     "height": 328
    },
    "id": "RzXlGAI24As3",
    "outputId": "b1f7a2c9-8a34-4f86-a397-41547835bbfd"
   },
   "outputs": [
    {
     "data": {
      "text/html": [
       "<div>\n",
       "<style scoped>\n",
       "    .dataframe tbody tr th:only-of-type {\n",
       "        vertical-align: middle;\n",
       "    }\n",
       "\n",
       "    .dataframe tbody tr th {\n",
       "        vertical-align: top;\n",
       "    }\n",
       "\n",
       "    .dataframe thead th {\n",
       "        text-align: right;\n",
       "    }\n",
       "</style>\n",
       "<table border=\"1\" class=\"dataframe\">\n",
       "  <thead>\n",
       "    <tr style=\"text-align: right;\">\n",
       "      <th></th>\n",
       "      <th>count</th>\n",
       "      <th>mean</th>\n",
       "      <th>std</th>\n",
       "      <th>min</th>\n",
       "      <th>25%</th>\n",
       "      <th>50%</th>\n",
       "      <th>75%</th>\n",
       "      <th>max</th>\n",
       "    </tr>\n",
       "  </thead>\n",
       "  <tbody>\n",
       "    <tr>\n",
       "      <th>espessura</th>\n",
       "      <td>546.0</td>\n",
       "      <td>-1.032955e-16</td>\n",
       "      <td>1.0</td>\n",
       "      <td>-1.236544</td>\n",
       "      <td>-0.874532</td>\n",
       "      <td>-0.150507</td>\n",
       "      <td>0.573518</td>\n",
       "      <td>2.021567</td>\n",
       "    </tr>\n",
       "    <tr>\n",
       "      <th>un_tam_cel</th>\n",
       "      <td>546.0</td>\n",
       "      <td>-4.229421e-17</td>\n",
       "      <td>1.0</td>\n",
       "      <td>-0.689210</td>\n",
       "      <td>-0.689210</td>\n",
       "      <td>-0.689210</td>\n",
       "      <td>0.537883</td>\n",
       "      <td>2.255814</td>\n",
       "    </tr>\n",
       "    <tr>\n",
       "      <th>un_forma_cel</th>\n",
       "      <td>546.0</td>\n",
       "      <td>3.904081e-17</td>\n",
       "      <td>1.0</td>\n",
       "      <td>-0.728890</td>\n",
       "      <td>-0.728890</td>\n",
       "      <td>-0.728890</td>\n",
       "      <td>0.588905</td>\n",
       "      <td>2.236148</td>\n",
       "    </tr>\n",
       "    <tr>\n",
       "      <th>adesao_marginal</th>\n",
       "      <td>546.0</td>\n",
       "      <td>-7.401487e-17</td>\n",
       "      <td>1.0</td>\n",
       "      <td>-0.638308</td>\n",
       "      <td>-0.638308</td>\n",
       "      <td>-0.638308</td>\n",
       "      <td>0.411439</td>\n",
       "      <td>2.510934</td>\n",
       "    </tr>\n",
       "    <tr>\n",
       "      <th>tam_cel_epit</th>\n",
       "      <td>546.0</td>\n",
       "      <td>2.887393e-16</td>\n",
       "      <td>1.0</td>\n",
       "      <td>-1.002622</td>\n",
       "      <td>-0.543752</td>\n",
       "      <td>-0.543752</td>\n",
       "      <td>0.373987</td>\n",
       "      <td>3.127206</td>\n",
       "    </tr>\n",
       "    <tr>\n",
       "      <th>nucleos_exp</th>\n",
       "      <td>546.0</td>\n",
       "      <td>-7.889497e-17</td>\n",
       "      <td>1.0</td>\n",
       "      <td>-0.680007</td>\n",
       "      <td>-0.680007</td>\n",
       "      <td>-0.680007</td>\n",
       "      <td>0.421725</td>\n",
       "      <td>1.798890</td>\n",
       "    </tr>\n",
       "    <tr>\n",
       "      <th>cromatina</th>\n",
       "      <td>546.0</td>\n",
       "      <td>-1.626700e-17</td>\n",
       "      <td>1.0</td>\n",
       "      <td>-0.971326</td>\n",
       "      <td>-0.551750</td>\n",
       "      <td>-0.132174</td>\n",
       "      <td>0.287402</td>\n",
       "      <td>2.804858</td>\n",
       "    </tr>\n",
       "    <tr>\n",
       "      <th>nucleos_normais</th>\n",
       "      <td>546.0</td>\n",
       "      <td>9.719535e-17</td>\n",
       "      <td>1.0</td>\n",
       "      <td>-0.594229</td>\n",
       "      <td>-0.594229</td>\n",
       "      <td>-0.594229</td>\n",
       "      <td>0.083825</td>\n",
       "      <td>2.457017</td>\n",
       "    </tr>\n",
       "    <tr>\n",
       "      <th>mitoses</th>\n",
       "      <td>546.0</td>\n",
       "      <td>3.253401e-18</td>\n",
       "      <td>1.0</td>\n",
       "      <td>-0.338755</td>\n",
       "      <td>-0.338755</td>\n",
       "      <td>-0.338755</td>\n",
       "      <td>-0.338755</td>\n",
       "      <td>5.173305</td>\n",
       "    </tr>\n",
       "  </tbody>\n",
       "</table>\n",
       "</div>"
      ],
      "text/plain": [
       "                 count          mean  std  ...       50%       75%       max\n",
       "espessura        546.0 -1.032955e-16  1.0  ... -0.150507  0.573518  2.021567\n",
       "un_tam_cel       546.0 -4.229421e-17  1.0  ... -0.689210  0.537883  2.255814\n",
       "un_forma_cel     546.0  3.904081e-17  1.0  ... -0.728890  0.588905  2.236148\n",
       "adesao_marginal  546.0 -7.401487e-17  1.0  ... -0.638308  0.411439  2.510934\n",
       "tam_cel_epit     546.0  2.887393e-16  1.0  ... -0.543752  0.373987  3.127206\n",
       "nucleos_exp      546.0 -7.889497e-17  1.0  ... -0.680007  0.421725  1.798890\n",
       "cromatina        546.0 -1.626700e-17  1.0  ... -0.132174  0.287402  2.804858\n",
       "nucleos_normais  546.0  9.719535e-17  1.0  ... -0.594229  0.083825  2.457017\n",
       "mitoses          546.0  3.253401e-18  1.0  ... -0.338755 -0.338755  5.173305\n",
       "\n",
       "[9 rows x 8 columns]"
      ]
     },
     "execution_count": 32,
     "metadata": {
      "tags": []
     },
     "output_type": "execute_result"
    }
   ],
   "source": [
    "X_train_norm.describe().transpose()"
   ]
  },
  {
   "cell_type": "markdown",
   "metadata": {
    "id": "GCylKr2F4As4"
   },
   "source": [
    "**Saída esperada:**\n",
    "\n",
    "       count\t        mean\tstd  \tmin  25% 50%\t  75%\t max \n",
    "       espessura\t     546.0\t  -2.373966e-17  \t1.0\t  -1.225570   -0.871516  -0.163409  0.544698  1.960912\n",
    "       un_tam_cel\t     546.0\t-8.743515e-17\t1.0\t-0.706795\t-0.706795\t-0.706795\t0.566836\t2.158875\n",
    "       un_forma_cel  \t546.0\t9.800870e-17\t1.0\t-0.746659\t-0.746659\t-0.746659\t0.549607\t2.169940|    \n",
    "       adesao_marginal \t546.0\t9.190857e-17\t1.0\t-0.658547\t-0.658547\t-0.658547\t0.372715\t2.435239\n",
    "       tam_cel_epit     546.0\t1.352195e-16\t1.0\t-0.998697\t-0.563163\t-0.563163\t0.307905\t2.921108\n",
    "       nucleos_exp  \t    546.0\t-4.636096e-17\t1.0\t-0.695540\t-0.695540\t-0.695540\t0.612569\t1.782983\n",
    "       cromatina        546.0\t-3.700743e-17\t1.0\t-0.982966\t-0.583636\t-0.184306\t0.215024\t2.611003\n",
    "       nucleos_normais   546.0\t2.257047e-16\t1.0\t-0.620388\t-0.620388\t-0.620388\t0.347417\t2.283027\n",
    "       mitoses\t         546.0\t-9.007853e-17\t1.0\t-0.352816\t-0.352816\t-0.352816\t-0.352816\t4.716589"
   ]
  },
  {
   "cell_type": "markdown",
   "metadata": {
    "id": "P6LIVZbj9Usv"
   },
   "source": [
    "### Exercício #3: Converter DataFrame para tf.Tensor\n",
    "\n",
    "Para os dados poderem ser usados por uma RNA em um loop de treinamento customizado eles devem estar no forma de tensores do TensorFlow, assim, vamos converter os dados para tf.Tensor."
   ]
  },
  {
   "cell_type": "code",
   "execution_count": 33,
   "metadata": {
    "colab": {
     "base_uri": "https://localhost:8080/"
    },
    "id": "5G7U6gZF4As5",
    "outputId": "9626d454-af96-45fd-afce-fc1b124f6c02"
   },
   "outputs": [
    {
     "name": "stdout",
     "output_type": "stream",
     "text": [
      "Dimensão dos dados de entrada de treinamemto: (546, 9)\n",
      "Dimensão dos dados de entrada de teste: (137, 9)\n",
      "Dimensão dos dados de saída de treinamemto: (546, 1)\n",
      "Dimensão dos dados de saída de teste: (137, 1)\n"
     ]
    }
   ],
   "source": [
    "# Converte entradas para tf.Tensor\n",
    "X_train = tf.convert_to_tensor(X_train_norm.to_numpy(), dtype=tf.float32)\n",
    "X_test = tf.convert_to_tensor(X_test_norm.to_numpy(), dtype=tf.float32)\n",
    "\n",
    "# Convert saídas para tf.Tensor e ajusta dimensões\n",
    "Y_train = tf.convert_to_tensor(np.reshape(train_Y.to_numpy(), (546,1)), dtype=tf.int32)\n",
    "Y_test = tf.convert_to_tensor(np.reshape(test_Y.to_numpy(), (137,1)), dtype=tf.int32)\n",
    "\n",
    "print('Dimensão dos dados de entrada de treinamemto:', X_train.shape)\n",
    "print('Dimensão dos dados de entrada de teste:', X_test.shape)\n",
    "print('Dimensão dos dados de saída de treinamemto:', Y_train.shape)\n",
    "print('Dimensão dos dados de saída de teste:', Y_test.shape)"
   ]
  },
  {
   "cell_type": "markdown",
   "metadata": {
    "id": "brD7_BKG4As6"
   },
   "source": [
    "**Saída esperada:**\n",
    "\n",
    "    Dimensão dos dados de entrada de treinamemto: (546, 9)\n",
    "    Dimensão dos dados de entrada de teste: (137, 9)\n",
    "    Dimensão dos dados de saída de treinamemto: (546, 1)\n",
    "    Dimensão dos dados de saída de teste: (137, 1)"
   ]
  },
  {
   "cell_type": "code",
   "execution_count": 34,
   "metadata": {
    "colab": {
     "base_uri": "https://localhost:8080/"
    },
    "id": "JoOK23iy4As7",
    "outputId": "5d7e2a13-4ad5-44b2-9620-4455c19ce6fe"
   },
   "outputs": [
    {
     "name": "stdout",
     "output_type": "stream",
     "text": [
      "tf.Tensor(\n",
      "[[-0.5125193  -0.68920976 -0.7288901   0.06152366 -0.5437524  -0.68000674\n",
      "  -0.9713261  -0.5942294  -0.33875504]\n",
      " [ 0.9355301   1.9285887   0.25945592  2.5109344   3.1272066  -0.12914075\n",
      "   0.70697784  0.08382546  0.8861473 ]\n",
      " [ 0.21150538 -0.36198497  0.25945592 -0.6383079  -1.0026222  -0.68000674\n",
      "  -0.9713261  -0.5942294  -0.33875504]\n",
      " [ 2.021567    1.2741392   1.247802    1.111271    0.37398735  1.7988902\n",
      "   0.28740185 -0.5942294   0.27369612]\n",
      " [-0.8745317  -0.68920976 -0.7288901  -0.6383079  -0.5437524  -0.68000674\n",
      "  -0.13217412 -0.5942294  -0.33875504]\n",
      " [-0.15050697 -0.68920976 -0.7288901  -0.6383079  -0.5437524  -0.68000674\n",
      "  -0.5517501  -0.5942294  -0.33875504]\n",
      " [ 0.21150538 -0.68920976 -0.7288901  -0.6383079  -1.0026222  -0.68000674\n",
      "  -0.9713261  -0.5942294  -0.33875504]\n",
      " [ 2.021567    2.2558136   2.236148    2.5109344  -0.08488252  1.7988902\n",
      "   2.8048577   1.1009078  -0.33875504]\n",
      " [ 0.57351774 -0.03476015  0.25945592 -0.6383079   0.8328572  -0.40457374\n",
      "  -0.13217412  2.11799    -0.33875504]\n",
      " [-0.5125193  -0.68920976 -0.7288901  -0.6383079  -0.5437524  -0.68000674\n",
      "  -0.9713261  -0.5942294  -0.33875504]], shape=(10, 9), dtype=float32)\n",
      "tf.Tensor(\n",
      "[[0]\n",
      " [1]\n",
      " [0]\n",
      " [1]\n",
      " [0]\n",
      " [0]\n",
      " [0]\n",
      " [1]\n",
      " [1]\n",
      " [0]], shape=(10, 1), dtype=int32)\n"
     ]
    }
   ],
   "source": [
    "print(X_train[:10])\n",
    "print(Y_train[:10])"
   ]
  },
  {
   "cell_type": "markdown",
   "metadata": {
    "id": "onxry9hn4As8"
   },
   "source": [
    "**Saída esperada:**\n",
    "\n",
    "    tf.Tensor(\n",
    "    [[ 1.9609115   2.158875    1.8458735   0.02896096  1.6145062   0.4060258\n",
    "      -0.18430609  0.67001873 -0.35281572]\n",
    "     [-0.51746273 -0.70679533 -0.7466588  -0.658547   -0.56316274 -0.69553983\n",
    "      -0.98296577 -0.62038773 -0.35281572]\n",
    "     [-1.2255697  -0.70679533 -0.09852573 -0.658547   -0.56316274 -0.69553983\n",
    "      -0.98296577 -0.62038773 -0.35281572]\n",
    "     [-1.2255697  -0.70679533 -0.42259225 -0.658547   -0.56316274 -0.42014843\n",
    "       0.21502376 -0.29778612 -0.35281572]\n",
    "     [-0.8715162   0.5668359   1.1977404   1.0602229   0.30790484  1.7829828\n",
    "       1.4130133   0.99262035 -0.35281572]\n",
    "     [ 1.9609115   2.158875    1.1977404   1.7477309   1.6145062  -0.69553983\n",
    "       2.611003    2.2830267   0.77371866]\n",
    "     [-1.2255697  -0.70679533 -0.7466588  -0.658547   -0.9986965  -0.69553983\n",
    "      -0.98296577  0.02481551 -0.35281572]\n",
    "     [ 0.19064417 -0.06997974 -0.42259225  1.7477309   0.74343866  1.7829828\n",
    "       1.8123431  -0.62038773  0.21045148]\n",
    "     [ 1.9609115   0.24842808  0.54960734  0.37271494 -0.12762895  0.4060258\n",
    "       1.4130133   0.02481551 -0.35281572]\n",
    "     [ 0.19064417 -0.70679533 -0.7466588  -0.658547   -0.56316274 -0.69553983\n",
    "      -0.18430609 -0.62038773 -0.35281572]], shape=(10, 9), dtype=float32)\n",
    "    tf.Tensor(\n",
    "    [[1]\n",
    "     [0]\n",
    "     [0]\n",
    "     [0]\n",
    "     [1]\n",
    "     [1]\n",
    "     [0]\n",
    "     [1]\n",
    "     [1]\n",
    "     [0]], shape=(10, 1), dtype=int32)"
   ]
  },
  {
   "cell_type": "markdown",
   "metadata": {
    "id": "GcbOJ6C79qT5"
   },
   "source": [
    "## 4. Configuração e compilação da RNA\n",
    "\n",
    "### Exercício #4: Configuração da RNA\n",
    "\n",
    "Para realizar essa tarefa de classificação binária vamos utilizar uma RNA com 3 camadas tipo densa. Na célula abaixo configure a sua RNA usando os seguintes parâmetros:\n",
    "\n",
    "- Primeira camada: 128 neurônios e função de ativação Relu;\n",
    "- Segunda camada: 64 neurônios e função de ativação Relu;\n",
    "- Camada de saída: 1 neurônio e função de ativação sigmoide."
   ]
  },
  {
   "cell_type": "code",
   "execution_count": 36,
   "metadata": {
    "colab": {
     "base_uri": "https://localhost:8080/"
    },
    "id": "1oUFh9n24As-",
    "outputId": "9c498f5e-728c-4fca-c2f8-ed6b0a92d92d"
   },
   "outputs": [
    {
     "name": "stdout",
     "output_type": "stream",
     "text": [
      "Model: \"sequential\"\n",
      "_________________________________________________________________\n",
      "Layer (type)                 Output Shape              Param #   \n",
      "=================================================================\n",
      "dense (Dense)                (None, 128)               1280      \n",
      "_________________________________________________________________\n",
      "dense_1 (Dense)              (None, 64)                8256      \n",
      "_________________________________________________________________\n",
      "dense_2 (Dense)              (None, 1)                 65        \n",
      "=================================================================\n",
      "Total params: 9,601\n",
      "Trainable params: 9,601\n",
      "Non-trainable params: 0\n",
      "_________________________________________________________________\n"
     ]
    }
   ],
   "source": [
    "# Para você fazer: Configuração da RNA\n",
    "from tensorflow.keras.layers import Dense\n",
    "from tensorflow.keras.models import Sequential\n",
    "# Inclua seu código aqui\n",
    "#\n",
    "rna = Sequential([\n",
    "    Dense(128, activation=\"relu\", input_shape=(9,)),\n",
    "    Dense(64, activation=\"relu\"),\n",
    "    Dense(1, activation=\"sigmoid\")\n",
    "])\n",
    "# Resumo da RNA\n",
    "rna.summary()"
   ]
  },
  {
   "cell_type": "markdown",
   "metadata": {
    "id": "AFroIMZi4As_"
   },
   "source": [
    "**Saída esperada:**\n",
    "\n",
    "    Model: \"sequential\"\n",
    "    _________________________________________________________________\n",
    "    Layer (type)                 Output Shape              Param #   \n",
    "    =================================================================\n",
    "    dense (Dense)                (None, 128)               1280      \n",
    "    _________________________________________________________________\n",
    "    dense_1 (Dense)              (None, 64)                8256      \n",
    "    _________________________________________________________________\n",
    "    dense_2 (Dense)              (None, 1)                 65        \n",
    "    =================================================================\n",
    "    Total params: 9,601\n",
    "    Trainable params: 9,601\n",
    "    Non-trainable params: 0\n",
    "    _________________________________________________________________"
   ]
  },
  {
   "cell_type": "markdown",
   "metadata": {
    "id": "NBhKIcKQ-Bwe"
   },
   "source": [
    "### Exercício #5: Definição do otimizador da RNA, função de custo e métrica\n",
    "\n",
    "Na célula abaixo defina o otimizador, a função de custo e a métrica que serão usados no treinamento da RNA. \n",
    "\n",
    "- Otimizador: Adam com taxa de aprendizado de 0.001;\n",
    "- Função de custo: BinaryCrossentropy\n",
    "- Métrica: Accuracy\n",
    "\n",
    "Observa-se que deve-se usar as versões na forma de classes de todas essas funções."
   ]
  },
  {
   "cell_type": "code",
   "execution_count": 52,
   "metadata": {
    "id": "v5B3vh6fs84i"
   },
   "outputs": [],
   "source": [
    "# Para você fazer: definir otimizador, função de custo e métrica\n",
    "from tensorflow.keras.optimizers import Adam\n",
    "from tensorflow.keras.losses import BinaryCrossentropy\n",
    "from tensorflow.keras.metrics import BinaryAccuracy\n",
    "# Define objeto otimizador usando tf.keras.optimizer.Addam\n",
    "# Inclua seu código aqui\n",
    "#\n",
    "optimizer = Adam(0.001)\n",
    "\n",
    "# Define objeto função de custo usando tf.keras.losses.BinaryCrossentropy\n",
    "# Inclua seu código aqui\n",
    "#\n",
    "loss_object = BinaryCrossentropy()\n",
    "\n",
    "# Define objeto métrica usando tf.keras.metrics.BinaryAccuracy\n",
    "# Inclua seu código aqui\n",
    "#\n",
    "metric_object = BinaryAccuracy()"
   ]
  },
  {
   "cell_type": "markdown",
   "metadata": {
    "id": "0cvU7kAr4AtB"
   },
   "source": [
    "Vamos avaliar a RNA não treinada para termos uma base do resultado esperado do treinamento. Execute as células a seguir para realizar essa avaliação."
   ]
  },
  {
   "cell_type": "code",
   "execution_count": 53,
   "metadata": {
    "colab": {
     "base_uri": "https://localhost:8080/"
    },
    "id": "zarJ_iS14AtB",
    "outputId": "4bcf5aba-8462-4f23-9500-706b47b8c56f"
   },
   "outputs": [
    {
     "name": "stdout",
     "output_type": "stream",
     "text": [
      "Custo antes do treinamento = 0.78419524\n",
      "Métrica antes do treinamento = 0.3211679\n"
     ]
    }
   ],
   "source": [
    "# Calcula previsões da RNA não treinada\n",
    "outputs = rna.predict(X_test)\n",
    "\n",
    "# Calcula função de custo \n",
    "loss_value = loss_object(y_true=Y_test, y_pred=outputs)\n",
    "print(\"Custo antes do treinamento =\", loss_value.numpy())\n",
    "\n",
    "# Calcula métrica\n",
    "accuracy = metric_object(y_true=Y_test, y_pred=outputs)\n",
    "print(\"Métrica antes do treinamento =\", accuracy.numpy())"
   ]
  },
  {
   "cell_type": "markdown",
   "metadata": {
    "id": "YjzUZRqX4AtC"
   },
   "source": [
    "**Saída esperada:**\n",
    "\n",
    "    Custo antes do treinamento = 0.766273\n",
    "    Métrica antes do treinamento = 0.16788322"
   ]
  },
  {
   "cell_type": "code",
   "execution_count": 54,
   "metadata": {
    "colab": {
     "base_uri": "https://localhost:8080/",
     "height": 289
    },
    "id": "8CIsDJy94AtC",
    "outputId": "86ecb2bc-1cee-4e4f-84ef-a2c055f90b4b"
   },
   "outputs": [
    {
     "data": {
      "image/png": "[encoded data removed]",
      "text/plain": [
       "<Figure size 432x288 with 2 Axes>"
      ]
     },
     "metadata": {
      "needs_background": "light",
      "tags": []
     },
     "output_type": "display_data"
    }
   ],
   "source": [
    "# Importa funções para calcula matriz e confusão\n",
    "from sklearn.metrics import confusion_matrix\n",
    "import itertools\n",
    "\n",
    "# Define função para construir matriz de confusão\n",
    "def plot_confusion_matrix(y_true, y_pred, title='', labels=[0,1]):\n",
    "    cm = confusion_matrix(y_true, y_pred)\n",
    "    fig = plt.figure()\n",
    "    ax = fig.add_subplot(111)\n",
    "    cax = ax.matshow(cm)\n",
    "    plt.title(title)\n",
    "    fig.colorbar(cax)\n",
    "    ax.set_xticklabels([''] + labels)\n",
    "    ax.set_yticklabels([''] + labels)\n",
    "    plt.xlabel('Previsto')\n",
    "    plt.ylabel('Real')\n",
    "    fmt = 'd'\n",
    "    thresh = cm.max() / 2.\n",
    "    for i, j in itertools.product(range(cm.shape[0]), range(cm.shape[1])):\n",
    "          plt.text(j, i, format(cm[i, j], fmt),\n",
    "                  horizontalalignment=\"center\",\n",
    "                  color=\"black\" if cm[i, j] > thresh else \"white\")\n",
    "    plt.show()\n",
    "    \n",
    "plot_confusion_matrix(Y_test, tf.round(outputs), title='Matriz de confusão gerada pela RNA não treinada')    "
   ]
  },
  {
   "cell_type": "markdown",
   "metadata": {
    "id": "zPQv7k2w4AtD"
   },
   "source": [
    "# 5. Treinamento da RNA\n",
    "\n",
    "Para treinar essa RNA vamos criar um loop customizado usando a função `tf.GradientTape()`. \n",
    "\n",
    "\n",
    "### Exercício #6: Criar função para calcular gradientes e atualizar parâmetros\n",
    "\n",
    "Na célula abaixo crie um função que calcula o gradiente da função de custo em relação aos parâmetros da RNA e depois atualiza esses parâmetros usando o otimizador configurado anteriormente.\n",
    "\n",
    "Para acessar os parâmetros de um modelo do TensorFlow basta usar `model.trainable_weights`."
   ]
  },
  {
   "cell_type": "code",
   "execution_count": 61,
   "metadata": {
    "id": "dzbG5Wis4AtE"
   },
   "outputs": [],
   "source": [
    "# Para você fazer: criar função que calcula gradientes e atualiza parâmetros da RNA\n",
    "\n",
    "def apply_gradient(optimizer, loss_object, model, x, y):\n",
    "    '''\n",
    "    Função para calcular o gradinet e atualizar os parâmetros da RNA\n",
    "    \n",
    "    Argumentos:\n",
    "        optimizer: otimizador configurado para atualizar os parâmetros\n",
    "        loss_object: função de custo configurada anteriormente\n",
    "        model: RNA que está sendo treinada\n",
    "        x: tensor com os dados de entrada de treinamento\n",
    "        y: saídas desejadas dos dados de treinamento\n",
    "        \n",
    "    Retorna:\n",
    "        logits = saídas previstas pela RNA\n",
    "        loss_value = valor da função de custo\n",
    "    '''\n",
    "    \n",
    "    # Inclua seu código aqui\n",
    "    #\n",
    "    with tf.GradientTape() as tape:\n",
    "        logits = model(x)\n",
    "        loss_value = loss_object(y, logits)\n",
    "\n",
    "    gradients = tape.gradient(loss_value, model.trainable_weights)\n",
    "    optimizer.apply_gradients(zip(gradients, model.trainable_weights))\n",
    "    return logits, loss_value"
   ]
  },
  {
   "cell_type": "markdown",
   "metadata": {
    "id": "4b8z4NKf4AtF"
   },
   "source": [
    "Execute a célula abaixo para testar a sua função `apply_gradient()`."
   ]
  },
  {
   "cell_type": "code",
   "execution_count": 62,
   "metadata": {
    "colab": {
     "base_uri": "https://localhost:8080/"
    },
    "id": "HxFcxCnJ4AtF",
    "outputId": "a5a5f68a-20e9-4fac-fdca-b0fc1b0e1637"
   },
   "outputs": [
    {
     "name": "stdout",
     "output_type": "stream",
     "text": [
      "Primeiras 5 saídas: [[0.48800448]\n",
      " [0.5265975 ]\n",
      " [0.60801107]\n",
      " [0.57203114]\n",
      " [0.6035938 ]]\n",
      "\n",
      "Função de custo = 0.7841954\n"
     ]
    }
   ],
   "source": [
    "# Cria nova RNA iagual a configurada\n",
    "test_model = rna\n",
    "\n",
    "# Calcula saída prevista e função de custo\n",
    "test_logits, test_loss = apply_gradient(optimizer, loss_object, test_model, X_test, Y_test)\n",
    "\n",
    "print('Primeiras 5 saídas:', test_logits.numpy()[:5])\n",
    "print('\\nFunção de custo =', test_loss.numpy())\n",
    "\n",
    "del test_model\n",
    "del test_logits\n",
    "del test_loss"
   ]
  },
  {
   "cell_type": "markdown",
   "metadata": {
    "id": "uFM7Vo-u4AtG"
   },
   "source": [
    "**Saída esperada:**\n",
    "\n",
    "    Primeiras 5 saídas: [[0.57383853]\n",
    "     [0.53157353]\n",
    "     [0.43801865]\n",
    "     [0.47596937]\n",
    "     [0.4938018 ]]\n",
    "    \n",
    "    Função de custo = 0.6647787"
   ]
  },
  {
   "cell_type": "markdown",
   "metadata": {
    "id": "Rz6PnI0e4AtH"
   },
   "source": [
    "### Exercício #7: Cálculo da função de custo e métrica para os dados de validação\n",
    "\n",
    "No final de cada época de treinamento, temos que validar a RNA no conjunto de dados de teste. Crie uma função que calcula a função de custo e a métrica para os dados validação."
   ]
  },
  {
   "cell_type": "code",
   "execution_count": 69,
   "metadata": {
    "id": "kSE4C7uf4AtH"
   },
   "outputs": [],
   "source": [
    "# Para você fazer: função para calcular custo e métrica dos dados de validação\n",
    "\n",
    "# Função para calcular custo e métrica dos dados de validação\n",
    "def perform_validation(model, x_val, y_val):\n",
    "    #Calcula custo dos dados de validação\n",
    "    # Inclua seu código aqui\n",
    "    #\n",
    "    val_loss = loss_object(y_val, model(x_val))\n",
    "    # Calcula classes arredondando as saídas previstas (valores iguais a 0 ou 1)\n",
    "    # Inclua seu código aqui\n",
    "    #\n",
    "    val_pred = [0 if i < 0.5 else 1 for i in model(x_val)]\n",
    "    # Calcula métrica para dados de validação\n",
    "    # Inclua seu código aqui\n",
    "    #\n",
    "    val_accuracy = metric_object(y_val, val_pred)\n",
    "    return val_loss, val_accuracy"
   ]
  },
  {
   "cell_type": "markdown",
   "metadata": {
    "id": "-iDll_XQ4AtI"
   },
   "source": [
    "Execute a célula abaixo para testar a sua função `perform_validation()`."
   ]
  },
  {
   "cell_type": "code",
   "execution_count": 70,
   "metadata": {
    "colab": {
     "base_uri": "https://localhost:8080/"
    },
    "id": "L01wYNAd4AtI",
    "outputId": "f57cf43c-ad6a-47ac-ccc9-7bcac3cba6ca"
   },
   "outputs": [
    {
     "name": "stdout",
     "output_type": "stream",
     "text": [
      "Função de custo para os dados de teste = 0.7278534\n",
      "Exatidão para os dados de teste = 0.32179803\n"
     ]
    }
   ],
   "source": [
    "val_loss, val_accuracy = perform_validation(rna, X_test, Y_test)\n",
    "\n",
    "print('Função de custo para os dados de teste =', val_loss.numpy())\n",
    "print('Exatidão para os dados de teste =', val_accuracy.numpy())"
   ]
  },
  {
   "cell_type": "markdown",
   "metadata": {
    "id": "ALdSh4w34AtJ"
   },
   "source": [
    "**Saída esperada:**\n",
    "\n",
    "    Função de custo para os dados de teste = 0.7662731\n",
    "    Exatidão para os dados de teste = 0.16788322"
   ]
  },
  {
   "cell_type": "markdown",
   "metadata": {
    "id": "xw_lO95n4AtK"
   },
   "source": [
    "### Exercício #8: Loop e treinamento customizado\n",
    "\n",
    "Usando a função `apply_gradient()` vamos criar um loop de treinamemto customizado. Utilize 1000 épocas de treinamento.\n"
   ]
  },
  {
   "cell_type": "code",
   "execution_count": 72,
   "metadata": {
    "colab": {
     "base_uri": "https://localhost:8080/"
    },
    "id": "-fDCtXck4AtK",
    "outputId": "167272e0-58ea-425b-8a5e-af9e24125f60"
   },
   "outputs": [
    {
     "name": "stdout",
     "output_type": "stream",
     "text": [
      "Época: 0 - custo = 0.74226403 - exatidão = 0.28719696 - custo_val = 0.67560756 - val_exatidão = 0.30745733\n",
      "Época: 100 - custo = 0.062474646 - exatidão = 0.9500722 - custo_val = 0.08804867 - val_exatidão = 0.9500989\n",
      "Época: 200 - custo = 0.038938053 - exatidão = 0.9630676 - custo_val = 0.08811283 - val_exatidão = 0.963068\n",
      "Época: 300 - custo = 0.01685374 - exatidão = 0.96977276 - custo_val = 0.10830633 - val_exatidão = 0.969754\n",
      "Época: 400 - custo = 0.006336014 - exatidão = 0.97455776 - custo_val = 0.13147911 - val_exatidão = 0.97454494\n",
      "Época: 500 - custo = 0.002772748 - exatidão = 0.9775903 - custo_val = 0.14798385 - val_exatidão = 0.9775789\n",
      "Época: 600 - custo = 0.0014584695 - exatidão = 0.9796137 - custo_val = 0.16148145 - val_exatidão = 0.9796035\n",
      "Época: 700 - custo = 0.00088961987 - exatidão = 0.98105985 - custo_val = 0.17181797 - val_exatidão = 0.98105067\n",
      "Época: 800 - custo = 0.000596274 - exatidão = 0.9821449 - custo_val = 0.18006115 - val_exatidão = 0.9821366\n",
      "Época: 900 - custo = 0.0004247597 - exatidão = 0.98298913 - custo_val = 0.18704914 - val_exatidão = 0.9829815\n",
      "\n",
      "Custo final = 0.0003171705\n",
      "Exatidão final= 0.98365855\n",
      "\n",
      "Custo final de validação = 0.19303714\n",
      "Exatidão final de validação = 0.9836516\n"
     ]
    }
   ],
   "source": [
    "# Para você fazer: Loop de treinamento customizado\n",
    "\n",
    "# Define número de épocas\n",
    "num_epocas = 1000\n",
    "\n",
    "# Loop de treinamento\n",
    "for i in range(num_epocas):\n",
    "    # Calcula gradientes e atualiza parâmetros da RNA\n",
    "    # Inclua seu código aqui\n",
    "    #\n",
    "    Y_pred, loss_value = apply_gradient(optimizer, loss_object, rna, X_train, Y_train)\n",
    "    # Calcula métrica para dados de treinamento\n",
    "    # Inclua seu código aqui\n",
    "    #\n",
    "    accuracy = metric_object(Y_train, Y_pred)\n",
    "    # Calcula função de custo e métrica para dados de validação   \n",
    "    # Inclua seu código aqui\n",
    "    #\n",
    "    val_loss = loss_object(Y_test, rna(X_test))\n",
    "    val_accuracy = metric_object(Y_test, rna(X_test))\n",
    "    \n",
    "    # Imprime resultado da função de custo e métrica da época\n",
    "    if i % 100 == 0:\n",
    "        print('Época:', i, '-', 'custo =', loss_value.numpy(), '-', 'exatidão =', accuracy.numpy(), '-', 'custo_val =', val_loss.numpy(), '-', 'val_exatidão =', val_accuracy.numpy())\n",
    "\n",
    "# Imprime resultado final\n",
    "print('\\nCusto final =', loss_value.numpy())\n",
    "print('Exatidão final=', accuracy.numpy())\n",
    "print('\\nCusto final de validação =', val_loss.numpy())\n",
    "print('Exatidão final de validação =', val_accuracy.numpy())"
   ]
  },
  {
   "cell_type": "markdown",
   "metadata": {
    "id": "NCSuyidG4AtL"
   },
   "source": [
    "**Saída esperada:**\n",
    "\n",
    "    Época: 0 - custo = 0.68436486 - exatidão = 0.34634146 - custo_val = 0.6501663 - val_exatidão = 0.3448276\n",
    "    Época: 100 - custo = 0.058527242 - exatidão = 0.9515191 - custo_val = 0.080492094 - val_exatidão = 0.9515428\n",
    "    Época: 200 - custo = 0.03760329 - exatidão = 0.96556544 - custo_val = 0.07935773 - val_exatidão = 0.9655706\n",
    "    Época: 300 - custo = 0.018621787 - exatidão = 0.9716702 - custo_val = 0.09142268 - val_exatidão = 0.97165996\n",
    "    Época: 400 - custo = 0.008029577 - exatidão = 0.9759616 - custo_val = 0.11785624 - val_exatidão = 0.97595173\n",
    "    Época: 500 - custo = 0.0036735435 - exatidão = 0.9789992 - custo_val = 0.14663258 - val_exatidão = 0.9789901\n",
    "    Época: 600 - custo = 0.0019131048 - exatidão = 0.9810311 - custo_val = 0.17128268 - val_exatidão = 0.98102283\n",
    "    Época: 700 - custo = 0.0011265007 - exatidão = 0.9824835 - custo_val = 0.19244863 - val_exatidão = 0.982476\n",
    "    Época: 800 - custo = 0.00072901906 - exatidão = 0.983407 - custo_val = 0.21075746 - val_exatidão = 0.9833984\n",
    "    Época: 900 - custo = 0.0005036661 - exatidão = 0.984111 - custo_val = 0.2269108 - val_exatidão = 0.98410314\n",
    "    \n",
    "    Custo final = 0.0003456268\n",
    "    Exatidão final= 0.98466927\n",
    "\n",
    "    Custo final de validação = 0.24358612\n",
    "    Exatidão final de validação = 0.98466206 "
   ]
  },
  {
   "cell_type": "markdown",
   "metadata": {
    "id": "XZUiaHsZ4AtM"
   },
   "source": [
    "## 7. Avaliação e teste da RNA\n",
    "\n",
    "### Exercício #9: Cálculo da função de custo e métrica para os dados de teste\n",
    "\n",
    "Na célula abaixo calcule a função de custo e a métrica para os dados de teste."
   ]
  },
  {
   "cell_type": "code",
   "execution_count": 75,
   "metadata": {
    "colab": {
     "base_uri": "https://localhost:8080/"
    },
    "id": "TUScS3GbtPXt",
    "outputId": "86b56962-5781-40f5-fce0-06c03fc6d051"
   },
   "outputs": [
    {
     "name": "stdout",
     "output_type": "stream",
     "text": [
      "Custo = 0.19299471\n",
      "Exatidão = 0.98363763\n"
     ]
    }
   ],
   "source": [
    "#Para você fazer: cálculo da função de custo e métrica para os dados de teste\n",
    "\n",
    "# Calcula saída prevista para os dados de teste\n",
    "# Inclua seu código aqui\n",
    "#\n",
    "outputs = rna.predict(X_test)\n",
    "# Calcula função de custo para os dados de teste\n",
    "# Inclua seu código aqui\n",
    "#\n",
    "loss_value = loss_object(Y_test, outputs)\n",
    "# Calcula métrica para os dados de teste\n",
    "# Inclua seu código aqui\n",
    "#\n",
    "metric_value = metric_object(Y_test, outputs)\n",
    "\n",
    "print(\"Custo =\", loss_value.numpy())\n",
    "print(\"Exatidão =\", metric_value.numpy())"
   ]
  },
  {
   "cell_type": "markdown",
   "metadata": {
    "id": "7dsLZRQI4AtN"
   },
   "source": [
    "**Saída esperada:**\n",
    "\n",
    "    Custo = 0.24358612\n",
    "    Exatidão = 0.9846549"
   ]
  },
  {
   "cell_type": "markdown",
   "metadata": {
    "id": "jPPb5ewkzMBY"
   },
   "source": [
    "Execute a célula abaixo para calcular a matriz de confusão para a RNA treinada."
   ]
  },
  {
   "cell_type": "code",
   "execution_count": 76,
   "metadata": {
    "colab": {
     "base_uri": "https://localhost:8080/",
     "height": 289
    },
    "id": "FApnBUNWv-ZR",
    "outputId": "9c3dc3c2-6e6f-4afe-8e74-9db67de9a2f3"
   },
   "outputs": [
    {
     "data": {
      "image/png": "[encoded data removed]",
      "text/plain": [
       "<Figure size 432x288 with 2 Axes>"
      ]
     },
     "metadata": {
      "needs_background": "light",
      "tags": []
     },
     "output_type": "display_data"
    }
   ],
   "source": [
    "plot_confusion_matrix(Y_test, tf.round(outputs), title='Matriz de confusão da RNA treinada')"
   ]
  },
  {
   "cell_type": "markdown",
   "metadata": {
    "id": "8Y3D23qi4AtO"
   },
   "source": [
    "- Observa-se que o resultado da RNA é bastante satisfatório, sendo que apenas algumas amostras são classificadas erradas.\n",
    "\n",
    "- Cerca de 96% das amostra são classificadas corretamente."
   ]
  }
 ],
 "metadata": {
  "colab": {
   "collapsed_sections": [],
   "name": "T1_Treinamento_customizado.ipynb",
   "provenance": []
  },
  "coursera": {
   "schema_names": [
    "TF3C2W2-1",
    "TF3C2W2-2",
    "TF3C2W2-3"
   ]
  },
  "kernelspec": {
   "display_name": "Python 3",
   "language": "python",
   "name": "python3"
  },
  "language_info": {
   "codemirror_mode": {
    "name": "ipython",
    "version": 3
   },
   "file_extension": ".py",
   "mimetype": "text/x-python",
   "name": "python",
   "nbconvert_exporter": "python",
   "pygments_lexer": "ipython3",
   "version": "3.8.5"
  }
 },
 "nbformat": 4,
 "nbformat_minor": 1
}
