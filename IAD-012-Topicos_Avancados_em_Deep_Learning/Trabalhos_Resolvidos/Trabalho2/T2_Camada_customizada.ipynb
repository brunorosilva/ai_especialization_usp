{
  "nbformat": 4,
  "nbformat_minor": 0,
  "metadata": {
    "accelerator": "GPU",
    "colab": {
      "name": "T2_Camada_customizada.ipynb",
      "provenance": [],
      "collapsed_sections": []
    },
    "kernelspec": {
      "display_name": "Python 3",
      "language": "python",
      "name": "python3"
    },
    "language_info": {
      "codemirror_mode": {
        "name": "ipython",
        "version": 3
      },
      "file_extension": ".py",
      "mimetype": "text/x-python",
      "name": "python",
      "nbconvert_exporter": "python",
      "pygments_lexer": "ipython3",
      "version": "3.8.5"
    }
  },
  "cells": [
    {
      "cell_type": "markdown",
      "metadata": {
        "id": "H_CYKioDoOSh"
      },
      "source": [
        "# Trabalho #2 - Função de custo e camada customizada\n",
        "\n",
        "Nesse trabalho você vai criar e treinar uma RNA com camada e função de custo customizadas e realizar o treinamento customizado da mesma usando a função `GradienteTape()`.\n",
        "\n",
        "O problema que será resolvido consiste na classificação \"one-shot\" de vestuários do conjunto Fashion-MINIST.\n",
        "\n",
        "Esse trabaalho é baseado em \"Hadsell-et-al., Dimensionality Reduction by Learning an Invariant Mapping\", (http://yann.lecun.com/exdb/publis/pdf/hadsell-chopra-lecun-06.pdf)."
      ]
    },
    {
      "cell_type": "markdown",
      "metadata": {
        "id": "6zrSRxoXoOSi"
      },
      "source": [
        "## Coloque o seu nome aqui:\n",
        "\n",
        "Nome: Bruno Rodrigues Silva"
      ]
    },
    {
      "cell_type": "markdown",
      "metadata": {
        "id": "1RzpsUy6oOSj"
      },
      "source": [
        "### Importação das bilbiotecas necessárias"
      ]
    },
    {
      "cell_type": "code",
      "metadata": {
        "colab": {
          "base_uri": "https://localhost:8080/"
        },
        "id": "G8DBHzNUoOSk",
        "outputId": "1e6572ab-74d6-41ca-c8a6-176af523c76b"
      },
      "source": [
        "import numpy as np\n",
        "import matplotlib.pyplot as plt\n",
        "import tensorflow as tf\n",
        "print(tf.__version__)"
      ],
      "execution_count": 1,
      "outputs": [
        {
          "output_type": "stream",
          "text": [
            "2.5.0\n"
          ],
          "name": "stdout"
        }
      ]
    },
    {
      "cell_type": "markdown",
      "metadata": {
        "id": "ToRkbfi22X26"
      },
      "source": [
        "## 2. Classificação \"one-shot\"\n",
        "\n",
        "Para apresentar um exemplo realista de uso de uma função de custo e uma camada customizada, você vai desenvolver um modelo para resolver uma tarefa de classificação \"one-shot\" usando uma RNA siamesa e a função de custo contrastante, que será vista mais adiante nesse notebook.\n",
        "\n",
        "Esse tipo de modelo é usado para identificação de pessoas pela face e para classificação multiclasse quando se tem poucos exemplos de cada classe. Nota-se que classificação multiclasse usando o método \"one-shot\" foi visto na disciplina de Redes Convolucionais.\n",
        "\n",
        "Na aula de reconhecimento de pessoas pela face foi visto com detalhes o uso da função de custo tripla, que é treinada com uma rede siamesa. Naquela aula também foi visto o método de usar somente duas imagens para identificar faces, mas não com detalhes.\n",
        "\n",
        "Na Figura 1 é apresentado um esquema da rede siamesa utilizada nesse tipo de tarefa. Esse tipo de modelo é utilizado para verificar se duas imagens (ou dois vetores) pertencem ou não à mesma classe.\n",
        "\n",
        "\n",
        "<img src='Classificação_one_shot.png'>\n",
        "<center>Figura 1 - Esquema de modelo para classificação one-shot com função de custo contrastante.</center>\n",
        "<br>\n",
        "\n",
        "A ideia desse modelo é usar uma rede neural para gerar os vetores de características das duas imagens de forma que: \n",
        "\n",
        "1. Se as duas imagens forem similares, então os vetores de caracteríticas devem ser similares; e \n",
        "2. Se as duas imagens forem diferentes, então os vetores de características devem ser diferentes.\n",
        "\n",
        "Nesse modelo as duas imagens são processadas em paralelo pela mesma rede, gerando dois vetores de características. A distância Euclidiana entre os dois vetores é calculada e as duas imagens são classificadas em função da distância entre elas da seguinte forma:\n",
        "\n",
        "- Se a distância for maior do que um limiar pré-selecionado, então, as imagens são consideradas de classes diferentes;\n",
        "- Se a distância for menor do que o limiar, então as imagens são consideradas da mesma classe.\n",
        "\n",
        "Esse método de classificação \"one-shot\" foi criado por: R. Hadrell, S. Chopra e Y. Lecun, \"Dimensionality reduction by learning an invariant mapping\", 2006.\n",
        "\n",
        "Para treinar um modelo desse tipo é utilizada a função de custo contrastante, cujo nome vem de contraste."
      ]
    },
    {
      "cell_type": "markdown",
      "metadata": {
        "id": "gZ1S3swd2X26"
      },
      "source": [
        "## 3. Carregar e pré-processar dados\n",
        "\n",
        "\n",
        "### 3.1 Carregar dados\n",
        "\n",
        "Os dados utilizado nesse exemplo é conjunto de vestuário da Fashion-MINIST, que pode ser carregado diretamento de Keras."
      ]
    },
    {
      "cell_type": "code",
      "metadata": {
        "colab": {
          "base_uri": "https://localhost:8080/"
        },
        "id": "zMwBWaZS2X27",
        "outputId": "1ae97636-48f3-4c1d-b8fb-a5c11e9aa870"
      },
      "source": [
        "(x_train, y_train), (x_test, y_test) = tf.keras.datasets.fashion_mnist.load_data()\n",
        "\n",
        "print('Dimensão dos dados de entrada de treinamento =', x_train.shape)\n",
        "print('Dimensão dos dados de entrada de teste =', x_test.shape)\n",
        "print('Dimensão dos dados de saída de treinamento =', y_train.shape)\n",
        "print('Dimensão dos dados de saída de teste =', y_test.shape)"
      ],
      "execution_count": 2,
      "outputs": [
        {
          "output_type": "stream",
          "text": [
            "Dimensão dos dados de entrada de treinamento = (60000, 28, 28)\n",
            "Dimensão dos dados de entrada de teste = (10000, 28, 28)\n",
            "Dimensão dos dados de saída de treinamento = (60000,)\n",
            "Dimensão dos dados de saída de teste = (10000,)\n"
          ],
          "name": "stdout"
        }
      ]
    },
    {
      "cell_type": "markdown",
      "metadata": {
        "id": "tiG3FgRW2X27"
      },
      "source": [
        "### 3.2 Processar dados\n",
        "\n",
        "Como as imagens do conjunto de dígitos MNIST são pequenas e em tons de cinza, para simplificar vamos transformar as imagens em vetores e usar uma rede com camadas densas.\n",
        "\n",
        "Dessa forma é necessário redimensionar as imagens para torná-las vetores. Além disso, os pixels das imagens devem ser normalizados para srem valores reais entre 0 e 1."
      ]
    },
    {
      "cell_type": "code",
      "metadata": {
        "colab": {
          "base_uri": "https://localhost:8080/"
        },
        "id": "pqtXR2Qb2X28",
        "outputId": "1b0e90e7-5c28-45af-ae3e-1a45e21d423c"
      },
      "source": [
        "# Número total de pixels nas imagens\n",
        "nx = x_train.shape[1]*x_train.shape[2]\n",
        "\n",
        "# Redimensionamento e normalização das das imagens\n",
        "x_train_flat = np.reshape(x_train, (x_train.shape[0], nx))/255.\n",
        "x_test_flat = np.reshape(x_test, (x_test.shape[0], nx))/255.\n",
        "\n",
        "print('Dimensão dos dados de entrada de treinamento =', x_train_flat.shape)\n",
        "print('Dimensão dos dados de entrada de teste =', x_test_flat.shape)"
      ],
      "execution_count": 3,
      "outputs": [
        {
          "output_type": "stream",
          "text": [
            "Dimensão dos dados de entrada de treinamento = (60000, 784)\n",
            "Dimensão dos dados de entrada de teste = (10000, 784)\n"
          ],
          "name": "stdout"
        }
      ]
    },
    {
      "cell_type": "markdown",
      "metadata": {
        "id": "PsPeFe1I2X28"
      },
      "source": [
        "#### Gráficos de alguns exemplos"
      ]
    },
    {
      "cell_type": "code",
      "metadata": {
        "colab": {
          "base_uri": "https://localhost:8080/",
          "height": 355
        },
        "id": "C3X9BQEX2X28",
        "outputId": "0a1eecc4-069f-40b9-8a22-33c27cd37265"
      },
      "source": [
        "fig, axs = plt.subplots(2,10,figsize=(24,6))\n",
        "index = 0\n",
        "for i in range(2):\n",
        "    for j in range(10):\n",
        "        axs[i,j].imshow(x_train[index], cmap='gray', vmin=0, vmax=255)\n",
        "        axs[i,j].set_title('Classe:' + str(y_train[index]))\n",
        "        index += 1\n",
        "plt.show()"
      ],
      "execution_count": 4,
      "outputs": [
        {
          "output_type": "display_data",
          "data": {
            "image/png": "[encoded data removed]",
            "text/plain": [
              "<Figure size 1728x432 with 20 Axes>"
            ]
          },
          "metadata": {
            "tags": [],
            "needs_background": "light"
          }
        }
      ]
    },
    {
      "cell_type": "markdown",
      "metadata": {
        "id": "_H7zY7hT2X29"
      },
      "source": [
        "## 4. Formação dos pares de imagens\n",
        "\n",
        "Para treinar uma rede siamensa com duas entradas temos que formar pares de imagens de entrada. \n",
        "\n",
        "\n",
        "### Exercício #1: Função para formar pares de imagens\n",
        "\n",
        "Na célula abaixo crie a função `create_pairs()` que realiza a operação de criar pares de imagens de mesmo dígitos e de diferentes dígitos. Essa função recebe como entrada um tensor com as imagens e uma lista com os índices das imagens de cada dígito.\n",
        "\n",
        "- Observa-se que essa função, para cada imagem deve criar dois exemplos de treinamento, o primeiro exemplo é de um par de imagens de mesmo dígito e o segundo para imagens com dígitos diferentes.\n",
        "\n",
        "- Observe que não tem muito problema uma mesma imagem ser usada mais do que uma vez um par."
      ]
    },
    {
      "cell_type": "code",
      "metadata": {
        "id": "vHJP1IyA2X29"
      },
      "source": [
        "\"\"\" PARA VOCÊ FAZER: Carregar conjunto de dados \"\"\"\n",
        "\n",
        "# Função que cria pares de imagens com saídas 0 e 1\n",
        "def create_pairs(img, digit_indices):\n",
        "    ''' \n",
        "    Entradas:\n",
        "        img = tensor de imagens\n",
        "        digit_indices = lista de classes das imagens\n",
        "        \n",
        "    Retorna:\n",
        "        tensor com pares de imagens\n",
        "        tensor com classes dos pares\n",
        "    '''\n",
        "    # Inicializa lista de pares de imagens e saídas reais\n",
        "    pairs = []\n",
        "    labels = []\n",
        "       \n",
        "    # Determina numero de exemplos do dígito que possui menor número de exemplos\n",
        "    n = min([len(digit_indices[d]) for d in range(10)]) - 1\n",
        "       \n",
        "    # Percorre todos os dígitos\n",
        "    for d in range(10):\n",
        "        \n",
        "        # Forma n pares para cada tipo de dígito e para cada imagem de dígito forma 2 pares\n",
        "        for i in range(n):\n",
        "            # Seleciona indices de imagens de mesmo dígito\n",
        "            # Inclua seu código aqui\n",
        "            z1, z2 = digit_indices[d][i], digit_indices[d][i+1]\n",
        "            \n",
        "            # Forma par com imagens de mesmo dígito \n",
        "            # Inclua seu código aqui\n",
        "            pairs += [[img[z1], img[z2]]]\n",
        "            \n",
        "            # Gera número aleatório para selecionar o dígito da imagem diferente\n",
        "            inc = np.random.randint(1, 10)\n",
        "            dn = (d + inc) % 10\n",
        "            \n",
        "            # Seleciona índices de imagens de diferentes dígitos\n",
        "            # Inclua seu código aqui\n",
        "            z1, z2 = digit_indices[d][i], digit_indices[dn][i]\n",
        "            \n",
        "            # Forma par com imagens de diferentes dígitos\n",
        "            # Inclua seu código aqui\n",
        "            pairs += [[img[z1], img[z2]]]\n",
        "\n",
        "            # Define saídas dos dois pares\n",
        "            # Inclua seu código aqui\n",
        "            labels += [1, 0]\n",
        "            \n",
        "    return np.array(pairs), np.array(labels)"
      ],
      "execution_count": 5,
      "outputs": []
    },
    {
      "cell_type": "markdown",
      "metadata": {
        "id": "aSqrcTkQ2X2-"
      },
      "source": [
        "### Exercício #2:  Criar lista de índices das images de cada tipo de dígito\n",
        "\n",
        "Para criar os pares de exemplos de treinamento e de teste é necessário primeiramente criar as listas com os índices das imagens de cada tipo de dígito para depois chamar a função `create_pairs()` passando as imagens e essas listas.\n",
        "\n",
        "Observa-se não são usadas as imagens de teste para acompanhar o treinamemto da rede, elas serão usadas somente para testar o modelo após o treinamento.\n",
        "\n",
        "Observa-se que devem ser criadas 10 listas, uma para cada tipo de dígito.\n",
        "\n",
        "Uma forma fácil de criar essas listas é usando a função `np.where` para selecionar cada um dos 10 diferentes dígitos. "
      ]
    },
    {
      "cell_type": "code",
      "metadata": {
        "colab": {
          "base_uri": "https://localhost:8080/"
        },
        "id": "7X6hhCbN2X2-",
        "outputId": "83d0cd44-218f-4b11-ac1e-2384253a3bef"
      },
      "source": [
        "\"\"\" PARA VOCÊ FAZER: Criar listas de imagens de treinamento e de teste \"\"\"\n",
        "\n",
        "# Cria listas de índices das imagens de treinamemto para cada tipo de dígito\n",
        "# Inclua seu código aqui\n",
        "digit_indices_train = [np.where(y_train == i)[0] for i in range(10)]\n",
        "\n",
        "# Cria listas de índices das imagens de teste para cada tipo de dígito\n",
        "# Inclua seu código aqui\n",
        "digit_indices_test = [np.where(y_test == i)[0] for i in range(10)]\n",
        "\n",
        "print('Número de elementos da lista:', len(digit_indices_train))\n",
        "print('Indices da imagens com dígito 0:', digit_indices_train[0])\n",
        "print('Indices da imagens com dígito 1:', digit_indices_train[1])\n",
        "print('Indices da imagens com dígito 2:', digit_indices_train[2])\n",
        "print('Indices da imagens com dígito 3:', digit_indices_train[3])\n",
        "print('Indices da imagens com dígito 4:', digit_indices_train[4])\n",
        "print('Indices da imagens com dígito 5:', digit_indices_train[5])\n",
        "print('Indices da imagens com dígito 6:', digit_indices_train[6])\n",
        "print('Indices da imagens com dígito 7:', digit_indices_train[7])\n",
        "print('Indices da imagens com dígito 8:', digit_indices_train[8])\n",
        "print('Indices da imagens com dígito 9:', digit_indices_train[9])"
      ],
      "execution_count": 6,
      "outputs": [
        {
          "output_type": "stream",
          "text": [
            "Número de elementos da lista: 10\n",
            "Indices da imagens com dígito 0: [    1     2     4 ... 59974 59985 59998]\n",
            "Indices da imagens com dígito 1: [   16    21    38 ... 59989 59991 59996]\n",
            "Indices da imagens com dígito 2: [    5     7    27 ... 59977 59981 59993]\n",
            "Indices da imagens com dígito 3: [    3    20    25 ... 59971 59980 59997]\n",
            "Indices da imagens com dígito 4: [   19    22    24 ... 59984 59986 59990]\n",
            "Indices da imagens com dígito 5: [    8     9    12 ... 59983 59995 59999]\n",
            "Indices da imagens com dígito 6: [   18    32    33 ... 59973 59987 59988]\n",
            "Indices da imagens com dígito 7: [    6    14    41 ... 59951 59979 59992]\n",
            "Indices da imagens com dígito 8: [   23    35    57 ... 59962 59967 59994]\n",
            "Indices da imagens com dígito 9: [    0    11    15 ... 59932 59970 59978]\n"
          ],
          "name": "stdout"
        }
      ]
    },
    {
      "cell_type": "markdown",
      "metadata": {
        "id": "VAloBa032X2_"
      },
      "source": [
        "**Saída esperada**\n",
        "\n",
        "    Número de elementos da lista: 10\n",
        "    Indices da imagens com dígito 0: [    1     2     4 ... 59974 59985 59998]\n",
        "    Indices da imagens com dígito 1: [   16    21    38 ... 59989 59991 59996]\n",
        "    Indices da imagens com dígito 2: [    5     7    27 ... 59977 59981 59993]\n",
        "    Indices da imagens com dígito 3: [    3    20    25 ... 59971 59980 59997]\n",
        "    Indices da imagens com dígito 4: [   19    22    24 ... 59984 59986 59990]\n",
        "    Indices da imagens com dígito 5: [    8     9    12 ... 59983 59995 59999]\n",
        "    Indices da imagens com dígito 6: [   18    32    33 ... 59973 59987 59988]\n",
        "    Indices da imagens com dígito 7: [    6    14    41 ... 59951 59979 59992]\n",
        "    Indices da imagens com dígito 8: [   23    35    57 ... 59962 59967 59994]\n",
        "    Indices da imagens com dígito 9: [    0    11    15 ... 59932 59970 59978]"
      ]
    },
    {
      "cell_type": "markdown",
      "metadata": {
        "id": "jhyqoSQC2X3A"
      },
      "source": [
        "### Exercício #3: Criar pares de exemplos de treinamento e de teste\n",
        "\n",
        "Utilizando a função `create_pairs()`  e as listas de índices de dígitos crie na célula abaixo os pares de treinamento e de teste."
      ]
    },
    {
      "cell_type": "code",
      "metadata": {
        "colab": {
          "base_uri": "https://localhost:8080/"
        },
        "id": "WsdVwO-Y2X3A",
        "outputId": "518d459d-3b97-4a59-ae52-36eeb5b00a11"
      },
      "source": [
        "\"\"\" PARA VOCÊ FAZER: Criar pares de imagens de treinamento e de teste \"\"\"\n",
        "\n",
        "# Cria exemplos de pares de treinamento \n",
        "# Inclua seu código aqui\n",
        "par_train, y_par_train = create_pairs(x_train_flat, digit_indices_train)\n",
        "\n",
        "# Cria exemplos de pares de treinamento \n",
        "# Inclua seu código aqui\n",
        "par_test, y_par_test = create_pairs(x_test_flat, digit_indices_test)\n",
        "\n",
        "# Mostra alguns pares de imagens de treinamento\n",
        "print('Dimensão do tensor de pares de treinamento:', par_train.shape)\n",
        "print('Dimensão do tensor de pares de teste:', par_test.shape)\n",
        "print('Dimensão do tensor de saída de treinamento:', y_par_train.shape)\n",
        "print('Dimensão do tensor de saída de teste:', y_par_test.shape)"
      ],
      "execution_count": 7,
      "outputs": [
        {
          "output_type": "stream",
          "text": [
            "Dimensão do tensor de pares de treinamento: (119980, 2, 784)\n",
            "Dimensão do tensor de pares de teste: (19980, 2, 784)\n",
            "Dimensão do tensor de saída de treinamento: (119980,)\n",
            "Dimensão do tensor de saída de teste: (19980,)\n"
          ],
          "name": "stdout"
        }
      ]
    },
    {
      "cell_type": "markdown",
      "metadata": {
        "id": "ex5CWvKj2X3A"
      },
      "source": [
        "**Saída esperada:**\n",
        "\n",
        "    Dimensão do tensor de pares de treinamento: (119980, 2, 784)\n",
        "    Dimensão do tensor de pares de teste: (19980, 2, 784)\n",
        "    Dimensão do tensor de saída de treinamento: (119980,)\n",
        "    Dimensão do tensor de saída de teste: (19980,)"
      ]
    },
    {
      "cell_type": "markdown",
      "metadata": {
        "id": "9j9PHaQI2X3A"
      },
      "source": [
        "Na célula abaixo é criada uma função para fazer gráficos das imagens de um par e depois um par de exemplo é apresentado."
      ]
    },
    {
      "cell_type": "code",
      "metadata": {
        "colab": {
          "base_uri": "https://localhost:8080/",
          "height": 204
        },
        "id": "GQlpoTnD2X3B",
        "outputId": "eaac55fa-f51c-458c-ffc4-8d3ba7127744"
      },
      "source": [
        "# Função para fazer gráfico do par\n",
        "def plot_par(par, index):\n",
        "    plt.figure(figsize=(6, 6))\n",
        "    for i in range(2):\n",
        "        plt.subplot(1, 2, 1 + i)\n",
        "        plt.imshow(np.reshape(par_train[index,i], (28, 28)), cmap='gray')\n",
        "        plt.xticks([])\n",
        "        plt.yticks([])\n",
        "    plt.show()\n",
        "\n",
        "# Seleciona índice do par de imagens para fazer o gráfico   \n",
        "index = 3\n",
        "print('Classe do par:', y_par_train[index])\n",
        "plot_par(par_train, index)"
      ],
      "execution_count": 8,
      "outputs": [
        {
          "output_type": "stream",
          "text": [
            "Classe do par: 0\n"
          ],
          "name": "stdout"
        },
        {
          "output_type": "display_data",
          "data": {
            "image/png": "[encoded data removed]",
            "text/plain": [
              "<Figure size 432x432 with 2 Axes>"
            ]
          },
          "metadata": {
            "tags": []
          }
        }
      ]
    },
    {
      "cell_type": "markdown",
      "metadata": {
        "id": "1nA0Ootu2X3B"
      },
      "source": [
        "## 5. Função de custo contrastante\n",
        "\n",
        "A função de custo contrastante faz com que a distância entre duas imagens de classes diferentes aumente e que a distânica entre duas imagens de mesma classe diminua.\n",
        "\n",
        "Essa função de custo é baseada na seguinte equação de erro definida para cada exemplo de treinamento, que consiste de um par de imagens:\n",
        "\n",
        "$$E_C^{(i)} = y^{(i)}_{real}(D^{(i)})^2 + (1-y^{(i)}_{real}) max(M - D^{(i)}, 0)^2$$\n",
        "\n",
        "onde $E_C^{(i)}$ é o erro para o i-ésimo par de imagens, $y^{(i)}_{real}$ é a saída real do par de imagens, $M$ é uma constante denominada margem e $D^{(i)}$ é a distância Euclidiana entre os vetores de características das duas imgens do i-ésimo par.\n",
        "\n",
        "Nesse tipo de problema, a entrada de cada exemplo consiste de um par de imagens e a saída real consiste na classe de cada exemplo, definida por:\n",
        "\n",
        "$$y^{(i)}_{real} = \\begin{cases} 0, & para & imagens & similares \\\\ 1, & para & imagens & diferentes \\end{cases}$$\n",
        "\n",
        "onde $y^{(i)}_{real}$ é a classe desejada do i-ésimo exemplo e $M$ é um número positivo que representa uma margem para forçar uma distância mínima entre vetores de características de imagens similares e diferentes. \n",
        "\n",
        "Note que:\n",
        "\n",
        "- Se $y^{(i)}_{real} = 0$, então, $E_C^{(i)} = max(M - D^{(i)}, 0)^2$, portanto, $E_C^{(i)} < (D^{(i)})^2$ (imagens similares)\n",
        "\n",
        "\n",
        "- Se $y^{(i)}_{real} = 1$, então, $E_C^{(i)} = (D^{(i)})^2$ (imagens diferentes)\n",
        "\n",
        "Os termos $y^{(i)}_{real}$ e $(1-y^{(i)}_{real})$ podem ser ser vistos como sendo pesos de ponderação que permitem que $(D^{(i)})^2$ ou  $max(M - D^{(i)}, 0)^2$ dominem o erro conforme a classe do par de imagens.\n",
        "\n",
        "\n",
        "A função de custo contrastive é definida como sendo a média da função de erro para todos os exemplos treinamento, assim, tem-se:\n",
        "\n",
        "$$J_C = \\frac {1}{m} \\sum\\limits_{i=1}^{m} y^{(i)}_{real}(D^{(i)})^2 + (1-y^{(i)}_{real}) max(M - D^{(i)}, 0)^2$$\n",
        "\n",
        "onde $J_C$ é a função de custo contrastante, que depende dos parâmetros do modelo, e $m$ é o número de exemplos.\n",
        "\n",
        "Ressalta-se que uma função de custo do Keras recebe como entradas as saídas reais e as saídas previstas pela rede, então, para implementar essa função de custo a saída prevista pela rede siamesa deve ser a distância Euclidiana entre os vetores de características da duas imagens, ou seja:\n",
        "\n",
        "$$y^{(i)}_{prev} = D^{(i)}$$\n",
        "\n",
        "Dessa forma, a última camada da rede siamesa deve calcular a distância Euclidiana entre os vetores de características das duas imagens."
      ]
    },
    {
      "cell_type": "markdown",
      "metadata": {
        "id": "0Tlg65LM2X3B"
      },
      "source": [
        "### Exercício #4: Função de custo contrastante na forma de classe\n",
        "\n",
        "Implemente  na célula abaixo a função de custo contrastante na forma de classe.\n",
        "\n",
        "Observa-se que essa função de custo espera receber como saída prevista da rede a distância Euclidiana entre os vetores de características das duas imagens."
      ]
    },
    {
      "cell_type": "code",
      "metadata": {
        "id": "-MbthEhK2X3C"
      },
      "source": [
        "\"\"\" PARA VOCÊ FAZER: Função e custo contrastante \"\"\"\n",
        "\n",
        "# Importa classe de funções de custo do Keras e Keras Backend\n",
        "from tensorflow.keras.losses import Loss\n",
        "import tensorflow.keras.backend as K\n",
        "\n",
        "# Cria classe de função de custo customizada usando a classe \"Loss\" do Keras\n",
        "class ContrastiveLoss(Loss):\n",
        "    # define valor padrão da margem (usar 0.5)\n",
        "    margin = 0.5\n",
        "    \n",
        "    # Função para inicializar objeto da classe\n",
        "    def __init__(self, margin):\n",
        "        # Comando padrão para inicializar classes do Keras\n",
        "        # Inclua seu código aqui\n",
        "        super().__init__()\n",
        "        \n",
        "        # Define delta\n",
        "        # Inclua seu código aqui\n",
        "        self.margin = margin\n",
        "        \n",
        "    # Função executada pelo objeto instanciado com a classe\n",
        "    def call(self, y_true, y_pred):\n",
        "        # 1o termo\n",
        "        # Inclua seu código aqui\n",
        "        termo1 = y_true * K.square(y_pred)\n",
        "        \n",
        "        # 2o termo\n",
        "        # Inclua seu código aqui        \n",
        "        termo2 = (1 - y_true) * K.square(K.maximum(self.margin - y_pred, 0))\n",
        "        \n",
        "        # Custo total\n",
        "        # Inclua seu código aqui\n",
        "        loss = K.mean(termo1 + termo2)\n",
        "        \n",
        "        return loss"
      ],
      "execution_count": 9,
      "outputs": []
    },
    {
      "cell_type": "markdown",
      "metadata": {
        "id": "u9tdNDS52X3C"
      },
      "source": [
        "Teste da função de custo contrastante."
      ]
    },
    {
      "cell_type": "code",
      "metadata": {
        "colab": {
          "base_uri": "https://localhost:8080/"
        },
        "id": "iOz031a82X3C",
        "outputId": "c2f8fffe-0c0e-4506-85b3-503be6f99231"
      },
      "source": [
        "# Cria lote de vetores de características \n",
        "c1 = np.ones((5,1))\n",
        "c2 = 0.5*np.ones((5,1))\n",
        "\n",
        "# Instancia ojeto da classe da função de custo\n",
        "CL = ContrastiveLoss(1.0)\n",
        "\n",
        "# Calculo custo\n",
        "loss = CL(c1,c2)\n",
        "print('Função de custo:', loss.numpy())"
      ],
      "execution_count": 10,
      "outputs": [
        {
          "output_type": "stream",
          "text": [
            "Função de custo: 0.25\n"
          ],
          "name": "stdout"
        }
      ]
    },
    {
      "cell_type": "markdown",
      "metadata": {
        "id": "dpzYVg6N2X3C"
      },
      "source": [
        "**Saída esperada:**\n",
        "\n",
        "Função de custo: 0.25"
      ]
    },
    {
      "cell_type": "markdown",
      "metadata": {
        "id": "sFGZTvqf2X3D"
      },
      "source": [
        "## 6. RNA de geração de características\n",
        "\n",
        "Para gerar os vetores de características das imagens vamos utlizar uma RNA com três camadas densas com a seguinte configuração:\n",
        "\n",
        "- Número de neurônios das camadas: 128 neurônios\n",
        "- Função de ativação das camadas: ReLu\n",
        "- Camadas de dropout entre a 1a e 2a camadas densas e entre a 2a e 3a camadas densas\n",
        "\n",
        " \n",
        "### Exercício #5: Configuração da RNA de extração de características\n",
        "\n",
        "Na célula abaixo crie a rede de acordo com a configuração desejada."
      ]
    },
    {
      "cell_type": "code",
      "metadata": {
        "colab": {
          "base_uri": "https://localhost:8080/"
        },
        "id": "3Qnul-Dx2X3D",
        "outputId": "b4077ac8-d4a4-4a6e-90d2-48b87b38e30c"
      },
      "source": [
        "\"\"\" PARA VOCÊ FAZER: Criar a RNA de extração de características \"\"\"\n",
        "\n",
        "from tensorflow.keras import models\n",
        "from tensorflow.keras import layers\n",
        "\n",
        "# Função para criar rna geradora de características\n",
        "def rna_carac(input_dim):\n",
        "    \n",
        "    model = models.Sequential()\n",
        "    # Inclua seu código aqui\n",
        "    #\n",
        "    model.add(layers.Dense(128, activation='relu', input_shape=(input_dim,)))\n",
        "    model.add(layers.Dropout(0.5))\n",
        "    model.add(layers.Dense(128, activation='relu'))\n",
        "    model.add(layers.Dropout(0.3))\n",
        "    model.add(layers.Dense(128, activation='relu'))\n",
        "    \n",
        "    return model\n",
        "\n",
        "# Dimensão da entrada \n",
        "input_dim = 784\n",
        "\n",
        "# Cria RNA geradora dos vetores de características\n",
        "rna_base = rna_carac(input_dim)\n",
        "\n",
        "rna_base.summary()"
      ],
      "execution_count": 11,
      "outputs": [
        {
          "output_type": "stream",
          "text": [
            "Model: \"sequential\"\n",
            "_________________________________________________________________\n",
            "Layer (type)                 Output Shape              Param #   \n",
            "=================================================================\n",
            "dense (Dense)                (None, 128)               100480    \n",
            "_________________________________________________________________\n",
            "dropout (Dropout)            (None, 128)               0         \n",
            "_________________________________________________________________\n",
            "dense_1 (Dense)              (None, 128)               16512     \n",
            "_________________________________________________________________\n",
            "dropout_1 (Dropout)          (None, 128)               0         \n",
            "_________________________________________________________________\n",
            "dense_2 (Dense)              (None, 128)               16512     \n",
            "=================================================================\n",
            "Total params: 133,504\n",
            "Trainable params: 133,504\n",
            "Non-trainable params: 0\n",
            "_________________________________________________________________\n"
          ],
          "name": "stdout"
        }
      ]
    },
    {
      "cell_type": "markdown",
      "metadata": {
        "id": "KnQxnJd52X3D"
      },
      "source": [
        "**Saída desejada:**\n",
        "\n",
        "    Model: \"sequential\"\n",
        "    _________________________________________________________________\n",
        "    Layer (type)                 Output Shape              Param #   \n",
        "    =================================================================\n",
        "    dense (Dense)                (None, 128)               100480    \n",
        "    _________________________________________________________________\n",
        "    dropout (Dropout)            (None, 128)               0         \n",
        "    _________________________________________________________________\n",
        "    dense_1 (Dense)              (None, 128)               16512     \n",
        "    _________________________________________________________________\n",
        "    dropout_1 (Dropout)          (None, 128)               0         \n",
        "    _________________________________________________________________\n",
        "    dense_2 (Dense)              (None, 128)               16512     \n",
        "    =================================================================\n",
        "    Total params: 133,504\n",
        "    Trainable params: 133,504\n",
        "    Non-trainable params: 0\n",
        "    _________________________________________________________________\n",
        "\n"
      ]
    },
    {
      "cell_type": "markdown",
      "metadata": {
        "id": "g3M2BEEA2X3D"
      },
      "source": [
        "## 7. Rede siamesa\n",
        "\n",
        "A primeira etapa para criar a rede siamesa é criar a camada de saída que calcula a distância entre os vetores e características, obtidos pela `rna_base`criada no exercício #5.\n",
        "\n",
        "\n",
        "### Exercício #6: Camada customizada para calcular distância euclidina\n",
        "\n",
        "A `rna_base` extrai os vetores de características de cada uma das imagens do par. \n",
        "\n",
        "Na célula abaixo crie uma camada customizada na forma de classe para calcular a distância euclidiana entre os dois vetores de características.\n",
        "\n",
        "A distância euclidiana entre dois vetores $v$ e $u$ é definida por:\n",
        "\n",
        "$$ d = \\sum_{i=1}^{n} (v_i - u_i)^2$$\n",
        "\n",
        "onde $n$ é o número de elementos dos dois vetores, e $v_i$ e $u_i$ são respectivamente os i-ésimos elementos dos vetores $v$ e $u$ ."
      ]
    },
    {
      "cell_type": "code",
      "metadata": {
        "id": "sdSPSL2-2X3E"
      },
      "source": [
        "\"\"\" PARA VOCÊ FAZER: Camada customizada para calcular distância euclidiana \"\"\"\n",
        "\n",
        "# Importa classe de camadas do Keras\n",
        "from tensorflow.keras import layers\n",
        "\n",
        "# Define classe de camada Distance\n",
        "class EuclidianDistance(layers.Layer):\n",
        "    # Inicializa objeto da classe\n",
        "    def __init__(self):\n",
        "        # Incialização\n",
        "        # Inclua seu código aqui\n",
        "        #\n",
        "        super().__init__()\n",
        "    def euclidian_dist(self, v1, v2):\n",
        "        return K.square(K.sum(K.square(v1 - v2), axis=1))\n",
        "    \n",
        "    # Define cálculo realizado pela camada\n",
        "    def call(self, inputs):\n",
        "        # Separa os dois vetores\n",
        "        # Inclua seu código aqui\n",
        "        v1, v2 = inputs[0], inputs[1]\n",
        "        # Calcula Adiciona a entrada ao valor do estado interno da camada\n",
        "        # Inclua seu código aqui\n",
        "        self.add_metric(self.euclidian_dist(v1, v2), name='euclidian_distance')\n",
        "        dist = self.euclidian_dist(v1, v2)\n",
        "        \n",
        "        return dist"
      ],
      "execution_count": 12,
      "outputs": []
    },
    {
      "cell_type": "markdown",
      "metadata": {
        "id": "LBXyjYYi2X3E"
      },
      "source": [
        "Execute a célula abaixo para testar a sua camada para calcular a distância euclidiana entre dois vetores.\n",
        "\n",
        "Nesse teste temos um lote de 5 exemplo. Assim, a saída dessa camada deve consistir de 5 distâncias."
      ]
    },
    {
      "cell_type": "code",
      "metadata": {
        "colab": {
          "base_uri": "https://localhost:8080/"
        },
        "id": "xghifTe02X3E",
        "outputId": "9e106494-4463-4bc5-8161-d1baa844e94f"
      },
      "source": [
        "# Define tensores vetores de entrada da camada\n",
        "v1 = 0.9*tf.ones((5,8))\n",
        "v2 = 0.8*tf.ones((5,8))\n",
        "\n",
        "# Instância objeto da camada \n",
        "dist = EuclidianDistance()\n",
        "\n",
        "# Calcula saída da camada\n",
        "d = dist([v1, v2])\n",
        "\n",
        "# Mostra parâmetros da camada\n",
        "print('Entrada 1:', v1.numpy())\n",
        "print('Entrada 2:', v2.numpy())\n",
        "print('Distância entre os vetores:', d.numpy())"
      ],
      "execution_count": 13,
      "outputs": [
        {
          "output_type": "stream",
          "text": [
            "Entrada 1: [[0.9 0.9 0.9 0.9 0.9 0.9 0.9 0.9]\n",
            " [0.9 0.9 0.9 0.9 0.9 0.9 0.9 0.9]\n",
            " [0.9 0.9 0.9 0.9 0.9 0.9 0.9 0.9]\n",
            " [0.9 0.9 0.9 0.9 0.9 0.9 0.9 0.9]\n",
            " [0.9 0.9 0.9 0.9 0.9 0.9 0.9 0.9]]\n",
            "Entrada 2: [[0.8 0.8 0.8 0.8 0.8 0.8 0.8 0.8]\n",
            " [0.8 0.8 0.8 0.8 0.8 0.8 0.8 0.8]\n",
            " [0.8 0.8 0.8 0.8 0.8 0.8 0.8 0.8]\n",
            " [0.8 0.8 0.8 0.8 0.8 0.8 0.8 0.8]\n",
            " [0.8 0.8 0.8 0.8 0.8 0.8 0.8 0.8]]\n",
            "Distância entre os vetores: [0.00639999 0.00639999 0.00639999 0.00639999 0.00639999]\n"
          ],
          "name": "stdout"
        }
      ]
    },
    {
      "cell_type": "markdown",
      "metadata": {
        "id": "Bclq-87o2X3E"
      },
      "source": [
        "**Saída desejada:**\n",
        "\n",
        "    Entrada 1: [[0.9 0.9 0.9 0.9 0.9 0.9 0.9 0.9]\n",
        "     [0.9 0.9 0.9 0.9 0.9 0.9 0.9 0.9]\n",
        "     [0.9 0.9 0.9 0.9 0.9 0.9 0.9 0.9]\n",
        "     [0.9 0.9 0.9 0.9 0.9 0.9 0.9 0.9]\n",
        "     [0.9 0.9 0.9 0.9 0.9 0.9 0.9 0.9]]\n",
        "    Entrada 2: [[0.8 0.8 0.8 0.8 0.8 0.8 0.8 0.8]\n",
        "     [0.8 0.8 0.8 0.8 0.8 0.8 0.8 0.8]\n",
        "     [0.8 0.8 0.8 0.8 0.8 0.8 0.8 0.8]\n",
        "     [0.8 0.8 0.8 0.8 0.8 0.8 0.8 0.8]\n",
        "     [0.8 0.8 0.8 0.8 0.8 0.8 0.8 0.8]]\n",
        "    Distância entre os vetores: [0.00639999 0.00639999 0.00639999 0.00639999 0.00639999]"
      ]
    },
    {
      "cell_type": "markdown",
      "metadata": {
        "id": "d1wLMw_Z2X3F"
      },
      "source": [
        "### Exercício #7: Configuração da rede siamesa\n",
        "\n",
        "A `rna_base` extrai os vetores de características de cada uma das imagens. Dessa forma, a rede siamesa é composta por duas `rna_base`, uma para cada imagem dos pares. \n",
        "\n",
        "A última camada da rede siamesa calcula a distância euclidiana entre os dois vetores de características, que é a saída desejada para a rede siamesa.\n",
        "\n",
        "Na célula abaixo, crie a rede  siamesa usando a `rna_base` e a camada `EuclidianDistance`."
      ]
    },
    {
      "cell_type": "code",
      "metadata": {
        "colab": {
          "base_uri": "https://localhost:8080/"
        },
        "id": "x9PvJywz2X3F",
        "outputId": "96a17dcb-fc48-4be7-9cbb-2067aa4a4c28"
      },
      "source": [
        "\"\"\" PARA VOCÊ FAZER: Criar a RNA siamesa \"\"\"\n",
        "\n",
        "# Instancia camada para calculo da distância euclidiana\n",
        "# Inclua seu código aqui\n",
        "dist = EuclidianDistance()\n",
        "\n",
        "# Define duas camadas de entrada, uma para cada imagem do par\n",
        "# Inclua seu código aqui\n",
        "img1 = layers.Input(shape=(input_dim,))\n",
        "img2 = layers.Input(shape=(input_dim,))\n",
        "\n",
        "# Extração dos vetores de características das duas imagens\n",
        "# Inclua seu código aqui\n",
        "feature_1 = rna_base(img1)\n",
        "feature_2 = rna_base(img2)\n",
        "\n",
        "# Cálculo da distãncia euclidiana entre os vetores de características\n",
        "# Inclua seu código aqui\n",
        "distance = dist([feature_1, feature_2])\n",
        "\n",
        "# Instancia rede siamensa completa\n",
        "# Inclua seu código aqui\n",
        "siam = models.Model([img1, img2], distance)\n",
        "\n",
        "# Summario da rede\n",
        "siam.summary()"
      ],
      "execution_count": 14,
      "outputs": [
        {
          "output_type": "stream",
          "text": [
            "Model: \"model\"\n",
            "__________________________________________________________________________________________________\n",
            "Layer (type)                    Output Shape         Param #     Connected to                     \n",
            "==================================================================================================\n",
            "input_1 (InputLayer)            [(None, 784)]        0                                            \n",
            "__________________________________________________________________________________________________\n",
            "input_2 (InputLayer)            [(None, 784)]        0                                            \n",
            "__________________________________________________________________________________________________\n",
            "sequential (Sequential)         (None, 128)          133504      input_1[0][0]                    \n",
            "                                                                 input_2[0][0]                    \n",
            "__________________________________________________________________________________________________\n",
            "euclidian_distance_1 (Euclidian (None,)              0           sequential[0][0]                 \n",
            "                                                                 sequential[1][0]                 \n",
            "==================================================================================================\n",
            "Total params: 133,504\n",
            "Trainable params: 133,504\n",
            "Non-trainable params: 0\n",
            "__________________________________________________________________________________________________\n"
          ],
          "name": "stdout"
        }
      ]
    },
    {
      "cell_type": "markdown",
      "metadata": {
        "id": "_E_aSwtK2X3F"
      },
      "source": [
        "**Saída esperada:**\n",
        "\n",
        "    Model: \"model\"\n",
        "    __________________________________________________________________________________________________\n",
        "    Layer (type)                    Output Shape         Param #     Connected to                     \n",
        "    ==================================================================================================\n",
        "    input_1 (InputLayer)            [(None, 784)]        0                                            \n",
        "    __________________________________________________________________________________________________\n",
        "    input_2 (InputLayer)            [(None, 784)]        0                                            \n",
        "    __________________________________________________________________________________________________\n",
        "    sequential (Sequential)         (None, 128)          133504      input_1[0][0]                    \n",
        "                                                                     input_2[0][0]                    \n",
        "    __________________________________________________________________________________________________\n",
        "    distance (Distance)             (None,)              0           sequential[0][0]                 \n",
        "                                                                     sequential[1][0]                 \n",
        "    ==================================================================================================\n",
        "    Total params: 133,504\n",
        "    Trainable params: 133,504\n",
        "    Non-trainable params: 0\n",
        "    __________________________________________________________________________________________________"
      ]
    },
    {
      "cell_type": "markdown",
      "metadata": {
        "id": "xgmtP1yH2X3F"
      },
      "source": [
        "Vamos avaliar a RNA não treinada para termos uma base do resultado esperado do treinamento."
      ]
    },
    {
      "cell_type": "code",
      "metadata": {
        "colab": {
          "base_uri": "https://localhost:8080/"
        },
        "id": "TixexlJr2X3F",
        "outputId": "1bd1af11-59fb-49c0-a19a-0432b7087c1a"
      },
      "source": [
        "# Calcula previsões da RNA não treinada\n",
        "distances = siam.predict([par_train[:8,0], par_train[:8,1]])\n",
        "print('Distancias:', distances)\n",
        "\n",
        "# Instancia função de custo\n",
        "CL = ContrastiveLoss(1.0)\n",
        "\n",
        "# Calcula função de custo \n",
        "loss_value = CL(y_true=y_par_train[:8], y_pred=distances)\n",
        "print(\"Custo antes do treinamento =\", loss_value.numpy())"
      ],
      "execution_count": 15,
      "outputs": [
        {
          "output_type": "stream",
          "text": [
            "Distancias: [10.138122   16.529842   10.422146   10.421161    3.0330403  19.22396\n",
            "  0.22302698  2.8072376 ]\n",
            "Custo antes do treinamento = 27.581463\n"
          ],
          "name": "stdout"
        }
      ]
    },
    {
      "cell_type": "markdown",
      "metadata": {
        "id": "OylfrPni2X3G"
      },
      "source": [
        "**Saída esperada:**\n",
        "\n",
        "    Distancias: [27.948912  15.51055    5.7633586 34.252586   3.1170928 15.242242\n",
        "      0.3146033  9.001882 ]\n",
        "    Custo antes do treinamento = 103.0216"
      ]
    },
    {
      "cell_type": "markdown",
      "metadata": {
        "id": "btoSRh-22X3G"
      },
      "source": [
        "## 8. Compilação, treinamento e teste da rede siamesa\n",
        "\n",
        "\n",
        "### Exercício #8: Compilação da rede \n",
        "\n",
        "A compilação da rede siamensa deve ser realzada da seguinte forma:\n",
        "    \n",
        "- Otimizador: Adam com taxa de aprendizado de 0.001\n",
        "- Função de custo: Contrastante\n",
        "\n",
        "Lembre que para realizar um treinamento customizado devemos criar objetos com o otimizador e com a função de custo.\n",
        "\n",
        "Se quisermos utilizar uma métrica temos que criar uma customizada, pois uma métrica comum compara a saída prevista pela rede (que é distância entre os vetores de características) com a classe do par. Isso nesse problema não faria sentido.  \n",
        "\n",
        "Use um valor de 1.0 para a margem $M$ da função de custo contrastante."
      ]
    },
    {
      "cell_type": "code",
      "metadata": {
        "id": "h4U_1nze2X3G"
      },
      "source": [
        "\"\"\" PARA VOCÊ FAZER: Compilar a RNA siamesa \"\"\"\n",
        "\n",
        "# Margem \n",
        "# Inclua seu código aqui\n",
        "MARGIN = 1.\n",
        "\n",
        "# Define objeto otimizador usando tf.keras.optimizer.Addam\n",
        "# Inclua seu código aqui\n",
        "optimizer = tf.keras.optimizers.Adam(learning_rate=0.001)\n",
        "\n",
        "# Define objeto função de custo usando tf.keras.losses.BinaryCrossentropy\n",
        "# Inclua seu código aqui\n",
        "loss_object = ContrastiveLoss(MARGIN)"
      ],
      "execution_count": 16,
      "outputs": []
    },
    {
      "cell_type": "markdown",
      "metadata": {
        "id": "Dw9BffCz2X3G"
      },
      "source": [
        "### Exercício #9: Treinamento da RNA\n",
        "\n",
        "Para treinar a rede siamesa você deve criar um loop customizado usando a função `tf.GradientTape()`. \n",
        "\n",
        "Para isso crie um função que calcula o gradiente da função de custo em relação aos parâmetros da rede e depois atualiza esses parâmetros usando o otimizador configurado anteriormente.\n",
        "\n",
        "Para acessar os parâmetros de um modelo do TensorFlow basta usar `model.trainable_weights`."
      ]
    },
    {
      "cell_type": "code",
      "metadata": {
        "id": "sHx9G2Et2X3H"
      },
      "source": [
        "\"\"\" PARA VOCÊ FAZER: Função para calculo do gradiante e atualização de parâmetros \"\"\"\n",
        "\n",
        "# Função que calcula gradientes e atualiza parâmetros da RNA\n",
        "def apply_gradient(optimizer, loss_object, model, x, y):\n",
        "    '''\n",
        "    Função para calcular o gradinet e atualizar os parâmetros da RNA\n",
        "    \n",
        "    Argumentos:\n",
        "        optimizer: otimizador configurado para atualizar os parâmetros\n",
        "        loss_object: função de custo configurada anteriormente\n",
        "        model: RNA que está sendo treinada\n",
        "        x: tensor com os dados de entrada de treinamento\n",
        "        y: saídas desejadas dos dados de treinamento\n",
        "        \n",
        "    Retorna:\n",
        "        logits = saídas previstas pela RNA\n",
        "        loss_value = valor da função de custo\n",
        "    '''\n",
        "    \n",
        "    with tf.GradientTape() as tape:\n",
        "        # Inclua seu código aqui\n",
        "        y_prev = model(x)\n",
        "        loss_value = loss_object(y, y_prev)\n",
        "  \n",
        "    # Inclua seu código aqui\n",
        "    gradients = tape.gradient(loss_value, model.trainable_weights)\n",
        "    optimizer.apply_gradients(zip(gradients, model.trainable_weights))\n",
        "    \n",
        "    return y_prev, loss_value"
      ],
      "execution_count": 17,
      "outputs": []
    },
    {
      "cell_type": "markdown",
      "metadata": {
        "id": "vpUrIVwz2X3H"
      },
      "source": [
        "Para testar a sua função `apply_gradient` execute a célula abaixo."
      ]
    },
    {
      "cell_type": "code",
      "metadata": {
        "colab": {
          "base_uri": "https://localhost:8080/"
        },
        "id": "sLFhT3sb2X3H",
        "outputId": "8fad2617-1e8b-43b2-a690-3538a4dc0743"
      },
      "source": [
        "# Executa um passo de treinamento usando 5 pares de treinamento\n",
        "y_prev, loss_value = apply_gradient(optimizer, loss_object, siam, [par_train[:8,0], par_train[:8,1]], y_par_train[:8])\n",
        "\n",
        "print('Distâncias calculadas:', y_prev.numpy())\n",
        "print('Custo contrastante:', loss_value.numpy())"
      ],
      "execution_count": 18,
      "outputs": [
        {
          "output_type": "stream",
          "text": [
            "Distâncias calculadas: [10.138122   16.529842   10.422146   10.421161    3.0330403  19.22396\n",
            "  0.22302698  2.8072376 ]\n",
            "Custo contrastante: 27.581463\n"
          ],
          "name": "stdout"
        }
      ]
    },
    {
      "cell_type": "markdown",
      "metadata": {
        "id": "UCZmXWMs2X3H"
      },
      "source": [
        "**Saída esperada:**\n",
        "\n",
        "    Distâncias calculadas: [27.948912  15.51055    5.7633586 34.252586   3.1170928 15.242242\n",
        "      0.3146033  9.001882 ]\n",
        "    Custo contrastante: 103.02165"
      ]
    },
    {
      "cell_type": "markdown",
      "metadata": {
        "id": "GureqWXc2X3I"
      },
      "source": [
        "### Exercício #10: Cálculo do custo e métrica para os dados de validação\n",
        "\n",
        "No final de cada época de treinamento, temos que validar a RNA no conjunto de dados de teste. Para isso é necessário criar uma função que calcula a função de custo para os dados de teste."
      ]
    },
    {
      "cell_type": "code",
      "metadata": {
        "id": "mFMegpyg2X3I"
      },
      "source": [
        "\"\"\" PARA VOCÊ FAZER: Função para calcular custo dos dados de validação \"\"\"\n",
        "\n",
        "# Função para calcular custo e métrica dos dados de validação\n",
        "def perform_validation(model, x_val, y_val):\n",
        "    # Calcula saídas previstas dos dados de validação\n",
        "    # Inclua seu código aqui\n",
        "    val_prev = model(x_val)\n",
        "\n",
        "    #Calcula custo dos dados de validação\n",
        "    # Inclua seu código aqui\n",
        "    val_loss = loss_object(y_val, val_prev)\n",
        "\n",
        "    return val_loss"
      ],
      "execution_count": 19,
      "outputs": []
    },
    {
      "cell_type": "markdown",
      "metadata": {
        "id": "Rq3E_LnE2X3I"
      },
      "source": [
        "Execute a célula abaixo para testar a sua função `perform_validation`."
      ]
    },
    {
      "cell_type": "code",
      "metadata": {
        "colab": {
          "base_uri": "https://localhost:8080/"
        },
        "id": "r17qlCcX2X3I",
        "outputId": "ad025e94-13e2-450a-f457-c9dd645e9ea0"
      },
      "source": [
        "# Calcula função de custo para os dados de teste\n",
        "val_loss = perform_validation(siam, [par_test[:8,0], par_test[:8,1]], y_par_test[:8])\n",
        "\n",
        "print('Custo contrastante:', val_loss.numpy())"
      ],
      "execution_count": 20,
      "outputs": [
        {
          "output_type": "stream",
          "text": [
            "Custo contrastante: 4.499492\n"
          ],
          "name": "stdout"
        }
      ]
    },
    {
      "cell_type": "markdown",
      "metadata": {
        "id": "DregePUV2X3I"
      },
      "source": [
        "**Saída eseparada:**\n",
        "\n",
        "    Custo contrastante: 29.008701"
      ]
    },
    {
      "cell_type": "markdown",
      "metadata": {
        "id": "Qe6cOofv2X3J"
      },
      "source": [
        "### Exercício #11:  Loop de treinamento customizado\n",
        "\n",
        "Usando a função `apply_gradient()` crie um loop de treinamemto customizado. Nesse loop utilize os seguintes parâmetros:\n",
        "\n",
        "1. Número de épocas de treinamento: 50\n",
        "2. Tamanho dos lotes: 857 pares"
      ]
    },
    {
      "cell_type": "code",
      "metadata": {
        "colab": {
          "base_uri": "https://localhost:8080/"
        },
        "id": "usXaKYsm2X3J",
        "outputId": "b49dd4b0-a594-4a4d-d7f5-f842a1088666"
      },
      "source": [
        "\"\"\"\" PARA VOCÊ FAZER: Loop de treinamento customizado \"\"\"\n",
        "\n",
        "# Define número de épocas\n",
        "# Inclua seu código aqui\n",
        "num_epocas = 50\n",
        "\n",
        "# Define tamanho do lote\n",
        "# Inclua seu código aqui\n",
        "batch_size = 857\n",
        "\n",
        "# calcula número de lotes\n",
        "# Inclua seu código aqui\n",
        "n_batches = len(y_train)*2 // batch_size\n",
        "print('Número de lotes:', n_batches)\n",
        "\n",
        "# Incializa vetores de custo e métricas\n",
        "train_loss = np.zeros(num_epocas)\n",
        "train_accuracy = np.zeros(num_epocas)\n",
        "val_loss = np.zeros(num_epocas)\n",
        "val_accuracy = np.zeros(num_epocas)\n",
        "\n",
        "# Loop de treinamento\n",
        "print('\\nProcesso de treinamento:')\n",
        "for i in range(num_epocas):\n",
        "    loss_batch = []\n",
        "  \n",
        "    for j in range(n_batches):\n",
        "        # Determina pares de exemplos do lote\n",
        "        jni = j*batch_size\n",
        "        jfim = jni + batch_size\n",
        "\n",
        "        # Aplica gradiente em um lote \n",
        "       # Inclua seu código aqui\n",
        "        y_prev, loss_value = apply_gradient(optimizer, loss_object, siam, [par_train[jni:jfim, 0], par_train[jni:jfim, 1]], y_par_train[jni:jfim])\n",
        "        \n",
        "        # Guarda custo do lote\n",
        "        # Inclua seu código aqui\n",
        "        loss_batch.append(loss_value)\n",
        "\n",
        "    # Calcula custo dos dados de treinamento\n",
        "    # Inclua seu código aqui\n",
        "    loss = np.mean(np.array(loss_batch))\n",
        "\n",
        "    # Guarda valores do custo dos dados de treinamento para fazer gráfico posteriomente\n",
        "    # Inclua seu código aqui\n",
        "    train_loss[i] = loss\n",
        "        \n",
        "    # Calcula função de custo para dados de validação   \n",
        "    # Inclua seu código aqui\n",
        "    val_loss[i] = perform_validation(siam, [par_test[:,0], par_test[:,1]], y_par_test)\n",
        "\n",
        "    # Imprime resultado da função de custo e métrica da época\n",
        "    if i % 5 == 0:\n",
        "        print('Época:', i, '-', 'custo =', train_loss[i], '-', 'custo_val =', val_loss[i])\n",
        "\n",
        "# Imprime resultado final\n",
        "print('\\nCusto final =', loss)\n",
        "print('Custo final de validação =', val_loss[num_epocas-1])"
      ],
      "execution_count": 21,
      "outputs": [
        {
          "output_type": "stream",
          "text": [
            "Número de lotes: 140\n",
            "\n",
            "Processo de treinamento:\n",
            "Época: 0 - custo = 0.5277583599090576 - custo_val = 0.5279236435890198\n",
            "Época: 5 - custo = 0.15122640132904053 - custo_val = 0.14860893785953522\n",
            "Época: 10 - custo = 0.10776587575674057 - custo_val = 0.1231745034456253\n",
            "Época: 15 - custo = 0.09913714230060577 - custo_val = 0.12139445543289185\n",
            "Época: 20 - custo = 0.08362170308828354 - custo_val = 0.1896345317363739\n",
            "Época: 25 - custo = 0.08638269454240799 - custo_val = 0.12583382427692413\n",
            "Época: 30 - custo = 0.07691948860883713 - custo_val = 0.13628597557544708\n",
            "Época: 35 - custo = 0.0810369923710823 - custo_val = 0.15256470441818237\n",
            "Época: 40 - custo = 1.3951659202575684 - custo_val = 0.2543710768222809\n",
            "Época: 45 - custo = 0.2868415415287018 - custo_val = 0.29315894842147827\n",
            "\n",
            "Custo final = 0.16319354\n",
            "Custo final de validação = 0.1679939180612564\n"
          ],
          "name": "stdout"
        }
      ]
    },
    {
      "cell_type": "markdown",
      "metadata": {
        "id": "HJqs97DO2X3J"
      },
      "source": [
        "**Saída esperada:**\n",
        "\n",
        "    Número de lotes: 140\n",
        "\n",
        "    Processo de treinamento:\n",
        "    Época: 0 - custo = 0.8560684323310852 - custo_val = 2.8116605281829834\n",
        "    Época: 5 - custo = 0.1400299370288849 - custo_val = 0.1494632214307785\n",
        "    Época: 10 - custo = 0.12407270073890686 - custo_val = 0.1476677805185318\n",
        "    Época: 15 - custo = 0.11732614040374756 - custo_val = 0.17168080806732178\n",
        "    Época: 20 - custo = 0.10116748511791229 - custo_val = 0.13356824219226837\n",
        "    Época: 25 - custo = 0.09833920747041702 - custo_val = 0.13175609707832336\n",
        "    Época: 30 - custo = 0.09097666293382645 - custo_val = 0.13400404155254364\n",
        "    Época: 35 - custo = 0.07837433367967606 - custo_val = 0.11620257794857025\n",
        "    Época: 40 - custo = 0.08293379098176956 - custo_val = 0.15984424948692322\n",
        "    Época: 45 - custo = 0.08584948629140854 - custo_val = 0.1398329734802246\n",
        "\n",
        "    Custo final = 0.07904582\n",
        "    Custo final de validação = 0.10712108761072159"
      ]
    },
    {
      "cell_type": "markdown",
      "metadata": {
        "id": "ratXsAsczRiv"
      },
      "source": [
        "Gráfico do processo de treinamento."
      ]
    },
    {
      "cell_type": "code",
      "metadata": {
        "colab": {
          "base_uri": "https://localhost:8080/",
          "height": 297
        },
        "id": "PDMmDWI6zRiv",
        "outputId": "d60afef0-1906-4481-cd29-23482079b060"
      },
      "source": [
        "# Cria vetor de épocas\n",
        "epocas = range(1, num_epocas + 1)\n",
        "\n",
        "# Gráfico dos valores de custo\n",
        "plt.plot(epocas, train_loss, 'bo', label='Custo - treinamento')\n",
        "plt.plot(epocas, val_loss, 'b', label='Custo - validação')\n",
        "plt.title('Valor da função de custo – treinamento e validação')\n",
        "plt.xlabel('Épocas')\n",
        "plt.ylabel('Custo')\n",
        "plt.legend()\n",
        "plt.show()"
      ],
      "execution_count": 22,
      "outputs": [
        {
          "output_type": "display_data",
          "data": {
            "image/png": "[encoded data removed]",
            "text/plain": [
              "<Figure size 432x288 with 1 Axes>"
            ]
          },
          "metadata": {
            "tags": [],
            "needs_background": "light"
          }
        }
      ]
    },
    {
      "cell_type": "markdown",
      "metadata": {
        "id": "AAtBkT1b2X3J"
      },
      "source": [
        "### Exercício #12: Teste da rede siamesa\n",
        "\n",
        "Para testar a rede siamesa vamos calcular as distâncias entre os vetores de varacterísticas das imagens dos pares de teste. \n",
        "\n",
        "Considere que as imagens são iguais se a distância for menor do que $0.5M$ e diferentes se a distância for maior do que $0.5M$. Assim, identifique os pares de teste da seguinte forma:\n",
        "\n",
        "1. Se a distância <= M/2, então, as imagens são similares e y_prev = 1\n",
        "2. Se a distância > M/2, então, as imagens são diferentes e y_prev = 0"
      ]
    },
    {
      "cell_type": "code",
      "metadata": {
        "colab": {
          "base_uri": "https://localhost:8080/"
        },
        "id": "W7BRgZLF2X3K",
        "outputId": "54e0165e-15be-4063-c58d-cb3fde5c3ed1"
      },
      "source": [
        "\"\"\" PARA VOCÊ FAZER: Cálculo das classes dos pares de teste \"\"\"\n",
        "\n",
        "# Calcula saída prevista para os dados de teste\n",
        "# Inclua seu código aqui\n",
        "distances = siam.predict([par_test[:,0], par_test[:,1]])\n",
        "\n",
        "# Inicilaiza saídas previstas de teste\n",
        "y_prev_test = np.zeros(len(distances))\n",
        "\n",
        "# Identifica as classes previstas\n",
        "for i in range(len(distances)):\n",
        "    # Inclua seu código aqui\n",
        "    if distances[i] <= MARGIN/2:\n",
        "        y_prev_test[i] = 1\n",
        "    else:\n",
        "        y_prev_test[i] = 0\n",
        "\n",
        "print('Distancias dos primeiros 10 exemplos:', distances[:10].T)\n",
        "print('Classes reais dos primeiros 10 exemplos:', y_par_test[:10].T)\n",
        "print('Classes previstas dos primeiros 10 exemplos:', y_prev_test[:10])"
      ],
      "execution_count": 23,
      "outputs": [
        {
          "output_type": "stream",
          "text": [
            "Distancias dos primeiros 10 exemplos: [7.81071931e-02 4.23676205e+00 6.28199801e-02 1.88531041e+00\n",
            " 5.16354048e-04 7.40102053e+00 2.31447048e-03 2.99803329e+00\n",
            " 1.11081496e-01 3.18127298e+00]\n",
            "Classes reais dos primeiros 10 exemplos: [1 0 1 0 1 0 1 0 1 0]\n",
            "Classes previstas dos primeiros 10 exemplos: [1. 0. 1. 0. 1. 0. 1. 0. 1. 0.]\n"
          ],
          "name": "stdout"
        }
      ]
    },
    {
      "cell_type": "markdown",
      "metadata": {
        "id": "-kDoq_JPzRiy"
      },
      "source": [
        "**Saída prevista:**\n",
        "\n",
        "    Distancias dos primeiros 10 exemplos: [3.94202352e-01 5.61574125e+00 3.79724354e-01 3.30952913e-01\n",
        "     1.63637334e-03 2.52436590e+00 5.02530253e-03 9.90402177e-02\n",
        "     1.02814764e-01 5.74189901e-01]\n",
        "    Classes reais dos primeiros 10 exemplos: [1 0 1 0 1 0 1 0 1 0]\n",
        "    Classes previstas dos primeiros 10 exemplos: [1. 0. 1. 1. 1. 0. 1. 1. 1. 0.]\n",
        "    \n",
        "    \n",
        "Execute a célula abaixo para calcular a exatidão da classificação dos pares de imagens de teste."
      ]
    },
    {
      "cell_type": "code",
      "metadata": {
        "colab": {
          "base_uri": "https://localhost:8080/"
        },
        "id": "3eTIhGGfMXBo",
        "scrolled": true,
        "outputId": "e7d89cb5-9672-42e5-ef6e-aaa3de652d5e"
      },
      "source": [
        "# Calculo da extidão dos dados de treinamento e teste          \n",
        "exatidao = 1 - np.mean(np.abs(y_par_test-y_prev_test))\n",
        "                       \n",
        "print('Exatidão:', exatidao)"
      ],
      "execution_count": 24,
      "outputs": [
        {
          "output_type": "stream",
          "text": [
            "Exatidão: 0.8242742742742742\n"
          ],
          "name": "stdout"
        }
      ]
    },
    {
      "cell_type": "markdown",
      "metadata": {
        "id": "DyCYZGYD2X3K"
      },
      "source": [
        "**Saída prevista:**\n",
        "\n",
        "    Exatidão: 0.8809309309309309"
      ]
    },
    {
      "cell_type": "markdown",
      "metadata": {
        "id": "ShZMNZL12X3K"
      },
      "source": [
        "#### Execute a célula abaixo para visualizar o desempenho da sua rede siamensa nos pares de teste\n",
        "\n",
        "Observe que cada bolinha azul é um erro de previsão da classe do par."
      ]
    },
    {
      "cell_type": "code",
      "metadata": {
        "colab": {
          "base_uri": "https://localhost:8080/",
          "height": 265
        },
        "id": "Zqz9o_DA2X3K",
        "outputId": "4ef6e259-7f5c-417b-fcd5-7ccdc522ad27"
      },
      "source": [
        "# verificação dos 200 primeiros exemplos de teste \n",
        "plt.figure(figsize=(18,4))\n",
        "plt.plot(y_par_test[:100], 'bo', label='Saídas reais')\n",
        "plt.plot(y_prev_test[:100], 'ro', label='Saídas previstas')\n",
        "plt.legend()\n",
        "plt.show()"
      ],
      "execution_count": 25,
      "outputs": [
        {
          "output_type": "display_data",
          "data": {
            "image/png": "[encoded data removed]",
            "text/plain": [
              "<Figure size 1296x288 with 1 Axes>"
            ]
          },
          "metadata": {
            "tags": [],
            "needs_background": "light"
          }
        }
      ]
    },
    {
      "cell_type": "markdown",
      "metadata": {
        "id": "2Pg97z-ozRi1"
      },
      "source": [
        "## 9. Conclusão\n",
        "\n",
        "Uma exatidão de 88% nos dados de teste não é um resultado bom, mas também não é um resultado muito ruim. \n",
        "\n",
        "Certamente esse resultado pode ser melhorando por meio de um ajuste dos hiper parâmetros do modelo, tais como:\n",
        "\n",
        "1. Alteração do número de camdas, do número de neurônios e da função de ativação das camadas da rede de extração de características.\n",
        "\n",
        "2. Alteração da margem da função de custo contrastante.\n",
        "\n",
        "3. Alteração da taxa de dropout.\n",
        "\n",
        "4. Inclusão de regularização L1 ou L2."
      ]
    },
    {
      "cell_type": "markdown",
      "metadata": {
        "id": "3uyK7NOOzRi1"
      },
      "source": [
        "## Tuning de Hiper parâmetros\n",
        "Para a melhoria do desempenho da rede será realizado um GridSearch com os a grid definida a seguir"
      ]
    },
    {
      "cell_type": "markdown",
      "metadata": {
        "id": "1gzqqqt2zRi2"
      },
      "source": [
        "#### Helper functions"
      ]
    },
    {
      "cell_type": "code",
      "metadata": {
        "id": "OgdItLEHzRi2"
      },
      "source": [
        "from plotly import graph_objects as go\n",
        "import pandas as pd\n",
        "from tqdm.notebook import tqdm\n",
        "from plotly.subplots import make_subplots\n",
        "from plotly.io import to_html\n",
        "from tensorflow.keras import layers\n",
        "from tensorflow.keras import models\n",
        "from tensorflow.keras import callbacks"
      ],
      "execution_count": 26,
      "outputs": []
    },
    {
      "cell_type": "code",
      "metadata": {
        "id": "iFwviYuNzRi3"
      },
      "source": [
        "from tensorflow.keras import models\n",
        "from tensorflow.keras import layers\n",
        "\n",
        "# Função para criar rna geradora de características\n",
        "def build_model(units, dropout):\n",
        "    # Instancia camada para calculo da distância euclidiana\n",
        "    # Inclua seu código aqui\n",
        "    dist = EuclidianDistance()\n",
        "\n",
        "    # Define duas camadas de entrada, uma para cada imagem do par\n",
        "    # Inclua seu código aqui\n",
        "    img1 = layers.Input(shape=(784,))\n",
        "    img2 = layers.Input(shape=(784,))\n",
        "\n",
        "    rna_base = models.Sequential()\n",
        "    \n",
        "    for i in range(len(units)):\n",
        "        rna_base.add(layers.Dense(units[i], activation='relu', input_shape=(784,)))\n",
        "        if not i == (len(units)-1):\n",
        "            rna_base.add(layers.Dropout(dropout))\n",
        "\n",
        "        \n",
        "    # Extração dos vetores de características das duas imagens\n",
        "    # Inclua seu código aqui\n",
        "    feature_1 = rna_base(img1)\n",
        "    feature_2 = rna_base(img2)\n",
        "\n",
        "    # Cálculo da distãncia euclidiana entre os vetores de características\n",
        "    # Inclua seu código aqui\n",
        "    distance = dist([feature_1, feature_2])\n",
        "\n",
        "    # Instancia rede siamensa completa\n",
        "    # Inclua seu código aqui\n",
        "    model = models.Model([img1, img2], distance)\n",
        "    \n",
        "    return model\n",
        "\n",
        "def calculate_acc(model, pars, y_pars, margin):\n",
        "    distances = model.predict([pars[:,0], pars[:,1]])\n",
        "\n",
        "    # Inicilaiza saídas previstas de teste\n",
        "    y_prev = np.zeros(len(distances))\n",
        "\n",
        "    # Identifica as classes previstas\n",
        "    for i in range(len(distances)):\n",
        "        # Inclua seu código aqui\n",
        "        if distances[i] <= margin/2:\n",
        "            y_prev[i] = 1\n",
        "        else:\n",
        "            y_prev[i] = 0\n",
        "\n",
        "        # Guarda custo do lote\n",
        "    # Inclua seu código aqui\n",
        "    acc_value = 1 - np.mean(np.abs(y_pars-y_prev))\n",
        "\n",
        "    return acc_value\n",
        "\n",
        "\n",
        "def train_model(model, batch_size, learning_rate, margin):\n",
        "    \n",
        "    \n",
        "    \n",
        "    optimizer = tf.keras.optimizers.Adam(learning_rate=learning_rate)\n",
        "    loss_object = ContrastiveLoss(margin)\n",
        "    \n",
        "    num_epocas = 20\n",
        "    batch_size = batch_size\n",
        "\n",
        "    n_batches = len(y_train)*2 // batch_size\n",
        "\n",
        "    train_loss = np.zeros(num_epocas)\n",
        "    train_accuracy = np.zeros(num_epocas)\n",
        "    val_loss = np.zeros(num_epocas)\n",
        "    val_accuracy = np.zeros(num_epocas)\n",
        "\n",
        "    # Loop de treinamento\n",
        "    for i in range(num_epocas):\n",
        "        loss_batch = []\n",
        "        acc_batch = []\n",
        "\n",
        "        for j in range(n_batches):\n",
        "            # Determina pares de exemplos do lote\n",
        "\n",
        "            jni = j*batch_size\n",
        "            jfim = jni + batch_size\n",
        "\n",
        "            # Aplica gradiente em um lote \n",
        "            # Inclua seu código aqui\n",
        "            y_prev, loss_value = apply_gradient(optimizer, loss_object, model, [par_train[jni:jfim, 0], par_train[jni:jfim, 1]], y_par_train[jni:jfim])\n",
        "            \n",
        "            acc_value = calculate_acc(model, par_train[jni:jfim], y_par_train[jni:jfim], margin)\n",
        "            \n",
        "            loss_batch.append(loss_value)\n",
        "            acc_batch.append(acc_value)\n",
        "\n",
        "            \n",
        "\n",
        "        # Calcula custo dos dados de treinamento\n",
        "        # Inclua seu código aqui\n",
        "        loss = np.mean(np.array(loss_batch))\n",
        "        acc = np.mean(np.array(acc_batch))\n",
        "\n",
        "        # Guarda valores do custo dos dados de treinamento para fazer gráfico posteriomente\n",
        "        # Inclua seu código aqui\n",
        "        train_loss[i] = loss\n",
        "        train_accuracy[i] = acc\n",
        "\n",
        "        # Calcula função de custo para dados de validação   \n",
        "        # Inclua seu código aqui\n",
        "        val_loss[i] = perform_validation(model, [par_test[:, 0],par_test[:, 1]], y_par_test)\n",
        "        val_accuracy[i] = calculate_acc(model, par_test, y_par_test, margin)\n",
        "        \n",
        "            \n",
        "    history = {\n",
        "        \"loss\":train_loss,\n",
        "        \"val_loss\":val_loss,\n",
        "        \"accuracy\":train_accuracy,\n",
        "        \"val_accuracy\":val_accuracy\n",
        "    }\n",
        "    return history\n",
        "    \n",
        "\n",
        "def plot_results(historia):\n",
        "\n",
        "    dic_historia = historia  # dict_keys(['loss', 'accuracy', 'val_loss', 'val_accuracy'])\n",
        "    perda_treino = dic_historia['loss']\n",
        "    perda_valid = dic_historia['val_loss']\n",
        "\n",
        "    acuracia_treino = dic_historia['accuracy'] \n",
        "    acuracia_valid = dic_historia['val_accuracy']\n",
        "    epocas = range(1, len(acuracia_treino) + 1)\n",
        "    tmp = pd.DataFrame({\n",
        "        \"Epocas\":epocas,\n",
        "        \"Acurácia_Treino\":acuracia_treino,\n",
        "        \"Acurácia_Validação\":acuracia_valid,\n",
        "        \"Custo_Treino\":perda_treino,\n",
        "        \"Custo_Validação\":perda_valid,\n",
        "    })\n",
        "\n",
        "    fig = make_subplots(rows=2, cols=1,\n",
        "        subplot_titles=(\"Acurácia por Épocas\", \"Custo por Épocas\"))\n",
        "\n",
        "    fig.add_trace(\n",
        "        go.Scatter(\n",
        "            x=tmp['Epocas'],\n",
        "            y=tmp[\"Acurácia_Validação\"],\n",
        "            name=\"Acurácia Validação\",\n",
        "            mode='lines+markers'\n",
        "        ),\n",
        "        row=1,\n",
        "        col=1\n",
        "    )\n",
        "    fig.add_trace(\n",
        "        go.Scatter(\n",
        "            x=tmp['Epocas'],\n",
        "            y=tmp[\"Acurácia_Treino\"],\n",
        "            name=\"Acurácia Treino\",\n",
        "            mode='lines+markers'\n",
        "        ),\n",
        "        row=1,\n",
        "        col=1\n",
        "    )\n",
        "    fig.add_trace(\n",
        "        go.Scatter(\n",
        "            x=tmp['Epocas'],\n",
        "            y=tmp[\"Custo_Validação\"],\n",
        "            name=\"Custo Validação\",\n",
        "            mode='lines+markers'\n",
        "        ),\n",
        "        row=2,\n",
        "        col=1\n",
        "    )\n",
        "    fig.add_trace(\n",
        "        go.Scatter(\n",
        "            x=tmp['Epocas'],\n",
        "            y=tmp[\"Custo_Treino\"],\n",
        "            name=\"Custo Treino\",\n",
        "            mode='lines+markers'\n",
        "        ),\n",
        "        row=2,\n",
        "        col=1\n",
        "    )\n",
        "    fig.update_xaxes(title_text=\"Épocas\", row=1, col=1)\n",
        "    fig.update_xaxes(title_text=\"Épocas\", row=2, col=1)\n",
        "    fig.update_yaxes(title_text=\"Acurácia\", row=1, col=1, range=[0, 1])\n",
        "    fig.update_yaxes(title_text=\"Custo\", row=2, col=1, range=[0, 1])\n",
        "    fig.update_layout(height=1200, width=800)\n",
        "    fig_html = to_html(fig, full_html=False)\n",
        "    return fig_html\n",
        "\n",
        "def build_report(historia, hiperparams, modelo, first_run=False, last_run=False):\n",
        "    if first_run:\n",
        "        fl = open(\"tuning-process-report.html\", 'w')\n",
        "        fl.write(\"\"\"\n",
        "        <html>\n",
        "            <head>\n",
        "                <meta charset=\"UTF-8\">\n",
        "                <style>\n",
        "                .plotly-graph-div {\n",
        "                    margin: 0 auto;\n",
        "                }\n",
        "                </style>\n",
        "            </head>\n",
        "            <body>\n",
        "                <h1 align=\\'center\\'>Report do processo de busca do melhor modelo</h1>\n",
        "                <hr>\n",
        "        \"\"\")\n",
        "    else:\n",
        "        fl = open('tuning-process-report.html', 'a')\n",
        "        fl.write(\"<hr>\")\n",
        "\n",
        "    fl.write(\"\"\"\n",
        "    <h2 align=\\'center\\'>Hiper parâmetros do modelo</h2>\n",
        "    <div align=\\'center\\'>\n",
        "    \"\"\")\n",
        "    for hiperparam in hiperparams:\n",
        "        fl.write(str(hiperparam) + \": \" + str(hiperparams[hiperparam]) + \"<br>\")\n",
        "    \n",
        "    fl.write(f'''\n",
        "    Acurácia na avaliação: {str(historia[\"val_accuracy\"][-1])} <br>\n",
        "    Perda: {str(historia[\"val_loss\"][-1])}\n",
        "    </div>\n",
        "    ''')\n",
        "    fig_html = plot_results(historia)\n",
        "    fl.write(fig_html)\n",
        "    if last_run:\n",
        "        fl.write(\"\"\"\n",
        "        </body>\n",
        "        </html>        \n",
        "        \"\"\")\n",
        "    fl.close()\n",
        "    return historia[\"val_accuracy\"][-1]\n",
        "    "
      ],
      "execution_count": 27,
      "outputs": []
    },
    {
      "cell_type": "code",
      "metadata": {
        "id": "r5jaIH6dzRi5"
      },
      "source": [
        ""
      ],
      "execution_count": 27,
      "outputs": []
    },
    {
      "cell_type": "code",
      "metadata": {
        "id": "0UQpkWi8zRi6"
      },
      "source": [
        "\n",
        "hiperparams_grid = {\n",
        "    \"units\":[[128, 128, 128], [8, 8, 8, 8, 8, 8, 8, 8], [128, 64, 8]],\n",
        "    \"learning_rate\":[0.001, 0.01],\n",
        "    \"batch_size\":[857],\n",
        "    \"dropout\":[0.1, 0.3, 0.7],\n",
        "    \"margin\":[0.8, 1.]\n",
        "}"
      ],
      "execution_count": 28,
      "outputs": []
    },
    {
      "cell_type": "code",
      "metadata": {
        "id": "lGLfPO59zRi7"
      },
      "source": [
        ""
      ],
      "execution_count": 28,
      "outputs": []
    },
    {
      "cell_type": "code",
      "metadata": {
        "colab": {
          "base_uri": "https://localhost:8080/"
        },
        "id": "cuGDDiw6zRi7",
        "outputId": "a8e73b44-6994-4200-b4b1-d908b4d65804"
      },
      "source": [
        "first_run = True\n",
        "last_run = False\n",
        "max_runs = 1\n",
        "best_acc = 0\n",
        "n = 0\n",
        "\n",
        "for f in hiperparams_grid:\n",
        "    max_runs *= len(hiperparams_grid[f])\n",
        "    max_runs_helper = max_runs\n",
        "\n",
        "for h_units in hiperparams_grid[\"units\"]:\n",
        "    for h_learning_rate in hiperparams_grid[\"learning_rate\"]:\n",
        "        for h_dropout in hiperparams_grid['dropout']:\n",
        "            for h_batch in hiperparams_grid[\"batch_size\"]:\n",
        "                for h_margin in hiperparams_grid['margin']:\n",
        "                    if max_runs == 1:\n",
        "                        last_run=True\n",
        "                    modelo = build_model(h_units, h_dropout)\n",
        "                    historia = train_model(modelo, h_batch, h_learning_rate, h_margin)\n",
        "                    print(str(n+1), 'out of', max_runs_helper)\n",
        "                    current_acc = build_report(historia,\n",
        "                                 {\"units\":h_units, \"learning_rate\":h_learning_rate, \"batch\":h_batch, \"dropout\":h_dropout, \"margin\":h_margin}, \n",
        "                                 modelo, first_run, last_run)\n",
        "                    \n",
        "                    if current_acc > best_acc:\n",
        "                        best_acc = current_acc\n",
        "                        print(f\"New best ACC {round(best_acc*100, 2)} using {h_units, h_learning_rate, h_batch, h_dropout, h_margin}\")\n",
        "                        modelo.save('best_siam_model')\n",
        "                    first_run=False\n",
        "                    max_runs-=1\n",
        "                    n += 1\n"
      ],
      "execution_count": null,
      "outputs": [
        {
          "output_type": "stream",
          "text": [
            "1 out of 36\n",
            "New best ACC 85.14 using ([128, 128, 128], 0.001, 857, 0.1, 0.8)\n",
            "WARNING:tensorflow:Compiled the loaded model, but the compiled metrics have yet to be built. `model.compile_metrics` will be empty until you train or evaluate the model.\n",
            "INFO:tensorflow:Assets written to: best_siam_model/assets\n",
            "2 out of 36\n",
            "New best ACC 86.75 using ([128, 128, 128], 0.001, 857, 0.1, 1.0)\n",
            "WARNING:tensorflow:Compiled the loaded model, but the compiled metrics have yet to be built. `model.compile_metrics` will be empty until you train or evaluate the model.\n",
            "INFO:tensorflow:Assets written to: best_siam_model/assets\n",
            "3 out of 36\n",
            "4 out of 36\n",
            "5 out of 36\n",
            "6 out of 36\n",
            "7 out of 36\n",
            "8 out of 36\n",
            "9 out of 36\n",
            "10 out of 36\n",
            "11 out of 36\n",
            "12 out of 36\n",
            "13 out of 36\n",
            "14 out of 36\n",
            "15 out of 36\n",
            "16 out of 36\n",
            "17 out of 36\n",
            "18 out of 36\n",
            "19 out of 36\n",
            "20 out of 36\n",
            "21 out of 36\n",
            "22 out of 36\n",
            "23 out of 36\n"
          ],
          "name": "stdout"
        }
      ]
    },
    {
      "cell_type": "code",
      "metadata": {
        "id": "nRqQwWF8zRi9"
      },
      "source": [
        ""
      ],
      "execution_count": null,
      "outputs": []
    },
    {
      "cell_type": "code",
      "metadata": {
        "id": "Glv2bAGNzRi9"
      },
      "source": [
        ""
      ],
      "execution_count": null,
      "outputs": []
    }
  ]
}