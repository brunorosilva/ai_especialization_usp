{
  "nbformat": 4,
  "nbformat_minor": 0,
  "metadata": {
    "colab": {
      "name": "Exercicios_cluster.ipynb",
      "provenance": [],
      "toc_visible": true,
      "include_colab_link": true
    },
    "kernelspec": {
      "name": "python3",
      "display_name": "Python 3"
    }
  },
  "cells": [
    {
      "cell_type": "markdown",
      "metadata": {
        "id": "view-in-github",
        "colab_type": "text"
      },
      "source": [
        "<a href=\"https://colab.research.google.com/github/brunorosilva/ai_especialization_usp/blob/master/IAD-004-Aprendizagem_de_Maquina_1/Exercicios_cluster.ipynb\" target=\"_parent\"><img src=\"https://colab.research.google.com/assets/colab-badge.svg\" alt=\"Open In Colab\"/></a>"
      ]
    },
    {
      "cell_type": "code",
      "metadata": {
        "id": "vvoErn_UScos",
        "colab_type": "code",
        "colab": {}
      },
      "source": [
        "import pandas as pd\n",
        "import pylab as pl\n",
        "import numpy as np\n",
        "import scipy.optimize as opt\n",
        "from sklearn import decomposition\n",
        "from sklearn import cluster\n",
        "from sklearn import preprocessing\n",
        "from sklearn.svm import SVC\n",
        "from sklearn import metrics\n",
        "import matplotlib as mpl\n",
        "import matplotlib.pyplot as plt\n",
        "import urllib.request as request\n",
        "import io\n",
        "from sklearn.metrics import confusion_matrix\n",
        "from sklearn.model_selection import GridSearchCV\n",
        "%matplotlib inline "
      ],
      "execution_count": null,
      "outputs": []
    },
    {
      "cell_type": "markdown",
      "metadata": {
        "id": "K_6A_NmlfIy3",
        "colab_type": "text"
      },
      "source": [
        "# Organizando um evento científico com aprendizagem não-supervisionada.\n",
        "\n",
        "A aprendizagem não-supervisionada é capaz de encontrar redundâncias e similaridades em um conjunto de dados.\n",
        "\n",
        "Vamos usar esta capacidade para organizar sessões do simpósio de trabalhos de conclusão de curso de Engenharia Mecatrônica de 2019.\n",
        "\n",
        "O código abaixo recupera a planilha construída pelo Prof. Thiago Martins com a lista de todos os trabalhos e as palavras-chave associadas a cada um."
      ]
    },
    {
      "cell_type": "code",
      "metadata": {
        "id": "9VkrNCh6YDfY",
        "colab_type": "code",
        "colab": {
          "base_uri": "https://localhost:8080/",
          "height": 204
        },
        "outputId": "ca76ea9f-d877-4f8c-ba55-05bd01011163"
      },
      "source": [
        "!wget -O trabalhos_2019.xls https://www.lsc.poli.usp.br/trabalhos_2019.xls"
      ],
      "execution_count": null,
      "outputs": [
        {
          "output_type": "stream",
          "text": [
            "--2020-07-22 00:10:06--  https://www.lsc.poli.usp.br/trabalhos_2019.xls\n",
            "Resolving www.lsc.poli.usp.br (www.lsc.poli.usp.br)... 143.107.99.33\n",
            "Connecting to www.lsc.poli.usp.br (www.lsc.poli.usp.br)|143.107.99.33|:443... connected.\n",
            "HTTP request sent, awaiting response... 200 OK\n",
            "Length: 18944 (18K) [application/vnd.ms-excel]\n",
            "Saving to: ‘trabalhos_2019.xls’\n",
            "\n",
            "trabalhos_2019.xls  100%[===================>]  18.50K  63.8KB/s    in 0.3s    \n",
            "\n",
            "2020-07-22 00:10:09 (63.8 KB/s) - ‘trabalhos_2019.xls’ saved [18944/18944]\n",
            "\n"
          ],
          "name": "stdout"
        }
      ]
    },
    {
      "cell_type": "markdown",
      "metadata": {
        "id": "F4JgI89Tf23j",
        "colab_type": "text"
      },
      "source": [
        "A planilha tem 3 sub-planilhas, a planilha ```trabalho``` com a lista de cada trabalho, a planilha ```palavras-chave``` com a lista de todas as palavras-chave e a planilha ```p_t``` que contém todas as associações de palavra-chave a trabalho."
      ]
    },
    {
      "cell_type": "code",
      "metadata": {
        "id": "G_vhZxqSY3g6",
        "colab_type": "code",
        "colab": {}
      },
      "source": [
        "planilha=pd.ExcelFile('trabalhos_2019.xls')\n",
        "trabalhos=pd.read_excel(planilha,'trabalhos')\n",
        "palavras_chave=pd.read_excel(planilha, 'palavras-chave')\n",
        "palavras_trabalhos=pd.read_excel(planilha, 'p_t')"
      ],
      "execution_count": null,
      "outputs": []
    },
    {
      "cell_type": "markdown",
      "metadata": {
        "id": "Sim3KfafgTFE",
        "colab_type": "text"
      },
      "source": [
        "Eis alguns trabalhos:"
      ]
    },
    {
      "cell_type": "code",
      "metadata": {
        "id": "oe8b5LZ6gU-c",
        "colab_type": "code",
        "colab": {
          "base_uri": "https://localhost:8080/",
          "height": 204
        },
        "outputId": "c9a9b5b1-b7d7-4bbe-9c5b-dba9212b8119"
      },
      "source": [
        "trabalhos.head()"
      ],
      "execution_count": null,
      "outputs": [
        {
          "output_type": "execute_result",
          "data": {
            "text/html": [
              "<div>\n",
              "<style scoped>\n",
              "    .dataframe tbody tr th:only-of-type {\n",
              "        vertical-align: middle;\n",
              "    }\n",
              "\n",
              "    .dataframe tbody tr th {\n",
              "        vertical-align: top;\n",
              "    }\n",
              "\n",
              "    .dataframe thead th {\n",
              "        text-align: right;\n",
              "    }\n",
              "</style>\n",
              "<table border=\"1\" class=\"dataframe\">\n",
              "  <thead>\n",
              "    <tr style=\"text-align: right;\">\n",
              "      <th></th>\n",
              "      <th>Grupo</th>\n",
              "      <th>Título</th>\n",
              "    </tr>\n",
              "  </thead>\n",
              "  <tbody>\n",
              "    <tr>\n",
              "      <th>0</th>\n",
              "      <td>1</td>\n",
              "      <td>Estudo de soluções para o caso de impacto veic...</td>\n",
              "    </tr>\n",
              "    <tr>\n",
              "      <th>1</th>\n",
              "      <td>2</td>\n",
              "      <td>Projeto de Estabilizador de Câmera via Platafo...</td>\n",
              "    </tr>\n",
              "    <tr>\n",
              "      <th>2</th>\n",
              "      <td>3</td>\n",
              "      <td>Controlador para Exoesqueleto Unilateral Modul...</td>\n",
              "    </tr>\n",
              "    <tr>\n",
              "      <th>3</th>\n",
              "      <td>4</td>\n",
              "      <td>Proposta de virtualização do processo de comis...</td>\n",
              "    </tr>\n",
              "    <tr>\n",
              "      <th>4</th>\n",
              "      <td>5</td>\n",
              "      <td>Desenvolvimento de um sistema inteligente de C...</td>\n",
              "    </tr>\n",
              "  </tbody>\n",
              "</table>\n",
              "</div>"
            ],
            "text/plain": [
              "   Grupo                                             Título\n",
              "0      1  Estudo de soluções para o caso de impacto veic...\n",
              "1      2  Projeto de Estabilizador de Câmera via Platafo...\n",
              "2      3  Controlador para Exoesqueleto Unilateral Modul...\n",
              "3      4  Proposta de virtualização do processo de comis...\n",
              "4      5  Desenvolvimento de um sistema inteligente de C..."
            ]
          },
          "metadata": {
            "tags": []
          },
          "execution_count": 49
        }
      ]
    },
    {
      "cell_type": "markdown",
      "metadata": {
        "id": "j1ifzjYngYKT",
        "colab_type": "text"
      },
      "source": [
        "Eis algumas palavras-chave:"
      ]
    },
    {
      "cell_type": "code",
      "metadata": {
        "id": "n_xNCEe1ge3T",
        "colab_type": "code",
        "colab": {
          "base_uri": "https://localhost:8080/",
          "height": 204
        },
        "outputId": "9ff92c8f-d48b-44c3-d37e-caa6982a5d85"
      },
      "source": [
        "palavras_chave.head()"
      ],
      "execution_count": null,
      "outputs": [
        {
          "output_type": "execute_result",
          "data": {
            "text/html": [
              "<div>\n",
              "<style scoped>\n",
              "    .dataframe tbody tr th:only-of-type {\n",
              "        vertical-align: middle;\n",
              "    }\n",
              "\n",
              "    .dataframe tbody tr th {\n",
              "        vertical-align: top;\n",
              "    }\n",
              "\n",
              "    .dataframe thead th {\n",
              "        text-align: right;\n",
              "    }\n",
              "</style>\n",
              "<table border=\"1\" class=\"dataframe\">\n",
              "  <thead>\n",
              "    <tr style=\"text-align: right;\">\n",
              "      <th></th>\n",
              "      <th>#</th>\n",
              "      <th>Palavra-chave</th>\n",
              "    </tr>\n",
              "  </thead>\n",
              "  <tbody>\n",
              "    <tr>\n",
              "      <th>0</th>\n",
              "      <td>1</td>\n",
              "      <td>FEM</td>\n",
              "    </tr>\n",
              "    <tr>\n",
              "      <th>1</th>\n",
              "      <td>2</td>\n",
              "      <td>veículos automotivos</td>\n",
              "    </tr>\n",
              "    <tr>\n",
              "      <th>2</th>\n",
              "      <td>3</td>\n",
              "      <td>segurança física</td>\n",
              "    </tr>\n",
              "    <tr>\n",
              "      <th>3</th>\n",
              "      <td>4</td>\n",
              "      <td>anatomia</td>\n",
              "    </tr>\n",
              "    <tr>\n",
              "      <th>4</th>\n",
              "      <td>5</td>\n",
              "      <td>controle</td>\n",
              "    </tr>\n",
              "  </tbody>\n",
              "</table>\n",
              "</div>"
            ],
            "text/plain": [
              "   #         Palavra-chave\n",
              "0  1                   FEM\n",
              "1  2  veículos automotivos\n",
              "2  3      segurança física\n",
              "3  4              anatomia\n",
              "4  5              controle"
            ]
          },
          "metadata": {
            "tags": []
          },
          "execution_count": 5
        }
      ]
    },
    {
      "cell_type": "markdown",
      "metadata": {
        "id": "S6xdjj4VgaUM",
        "colab_type": "text"
      },
      "source": [
        "A base ```palavras_trabalhos``` faz a associação entre estas bases."
      ]
    },
    {
      "cell_type": "code",
      "metadata": {
        "id": "-JkM962ygh8j",
        "colab_type": "code",
        "colab": {
          "base_uri": "https://localhost:8080/",
          "height": 204
        },
        "outputId": "aed7131d-c95a-430e-84b8-5cb2c07fc02b"
      },
      "source": [
        "palavras_trabalhos.head()"
      ],
      "execution_count": null,
      "outputs": [
        {
          "output_type": "execute_result",
          "data": {
            "text/html": [
              "<div>\n",
              "<style scoped>\n",
              "    .dataframe tbody tr th:only-of-type {\n",
              "        vertical-align: middle;\n",
              "    }\n",
              "\n",
              "    .dataframe tbody tr th {\n",
              "        vertical-align: top;\n",
              "    }\n",
              "\n",
              "    .dataframe thead th {\n",
              "        text-align: right;\n",
              "    }\n",
              "</style>\n",
              "<table border=\"1\" class=\"dataframe\">\n",
              "  <thead>\n",
              "    <tr style=\"text-align: right;\">\n",
              "      <th></th>\n",
              "      <th>grupo</th>\n",
              "      <th>palavra</th>\n",
              "    </tr>\n",
              "  </thead>\n",
              "  <tbody>\n",
              "    <tr>\n",
              "      <th>0</th>\n",
              "      <td>1</td>\n",
              "      <td>1</td>\n",
              "    </tr>\n",
              "    <tr>\n",
              "      <th>1</th>\n",
              "      <td>6</td>\n",
              "      <td>1</td>\n",
              "    </tr>\n",
              "    <tr>\n",
              "      <th>2</th>\n",
              "      <td>11</td>\n",
              "      <td>1</td>\n",
              "    </tr>\n",
              "    <tr>\n",
              "      <th>3</th>\n",
              "      <td>12</td>\n",
              "      <td>1</td>\n",
              "    </tr>\n",
              "    <tr>\n",
              "      <th>4</th>\n",
              "      <td>13</td>\n",
              "      <td>1</td>\n",
              "    </tr>\n",
              "  </tbody>\n",
              "</table>\n",
              "</div>"
            ],
            "text/plain": [
              "   grupo  palavra\n",
              "0      1        1\n",
              "1      6        1\n",
              "2     11        1\n",
              "3     12        1\n",
              "4     13        1"
            ]
          },
          "metadata": {
            "tags": []
          },
          "execution_count": 6
        }
      ]
    },
    {
      "cell_type": "markdown",
      "metadata": {
        "id": "5OnrQixvgqtc",
        "colab_type": "text"
      },
      "source": [
        "Por exemplo, eis todas as palavras-chave associadas com o trabalho do grupo 1:"
      ]
    },
    {
      "cell_type": "code",
      "metadata": {
        "id": "utVQiwL8g46M",
        "colab_type": "code",
        "colab": {
          "base_uri": "https://localhost:8080/",
          "height": 266
        },
        "outputId": "96c16135-ffa8-48fb-feac-b82abc98a080"
      },
      "source": [
        "palavras_trabalhos[palavras_trabalhos['grupo']==1].merge(palavras_chave, left_on='palavra', right_on='#')[['#','Palavra-chave']]"
      ],
      "execution_count": null,
      "outputs": [
        {
          "output_type": "execute_result",
          "data": {
            "text/html": [
              "<div>\n",
              "<style scoped>\n",
              "    .dataframe tbody tr th:only-of-type {\n",
              "        vertical-align: middle;\n",
              "    }\n",
              "\n",
              "    .dataframe tbody tr th {\n",
              "        vertical-align: top;\n",
              "    }\n",
              "\n",
              "    .dataframe thead th {\n",
              "        text-align: right;\n",
              "    }\n",
              "</style>\n",
              "<table border=\"1\" class=\"dataframe\">\n",
              "  <thead>\n",
              "    <tr style=\"text-align: right;\">\n",
              "      <th></th>\n",
              "      <th>#</th>\n",
              "      <th>Palavra-chave</th>\n",
              "    </tr>\n",
              "  </thead>\n",
              "  <tbody>\n",
              "    <tr>\n",
              "      <th>0</th>\n",
              "      <td>1</td>\n",
              "      <td>FEM</td>\n",
              "    </tr>\n",
              "    <tr>\n",
              "      <th>1</th>\n",
              "      <td>2</td>\n",
              "      <td>veículos automotivos</td>\n",
              "    </tr>\n",
              "    <tr>\n",
              "      <th>2</th>\n",
              "      <td>3</td>\n",
              "      <td>segurança física</td>\n",
              "    </tr>\n",
              "    <tr>\n",
              "      <th>3</th>\n",
              "      <td>4</td>\n",
              "      <td>anatomia</td>\n",
              "    </tr>\n",
              "    <tr>\n",
              "      <th>4</th>\n",
              "      <td>7</td>\n",
              "      <td>engenharia biomédica</td>\n",
              "    </tr>\n",
              "    <tr>\n",
              "      <th>5</th>\n",
              "      <td>17</td>\n",
              "      <td>Projeto Mecânico</td>\n",
              "    </tr>\n",
              "    <tr>\n",
              "      <th>6</th>\n",
              "      <td>24</td>\n",
              "      <td>Transporte e mobilidade</td>\n",
              "    </tr>\n",
              "  </tbody>\n",
              "</table>\n",
              "</div>"
            ],
            "text/plain": [
              "    #            Palavra-chave\n",
              "0   1                      FEM\n",
              "1   2     veículos automotivos\n",
              "2   3         segurança física\n",
              "3   4                 anatomia\n",
              "4   7     engenharia biomédica\n",
              "5  17         Projeto Mecânico\n",
              "6  24  Transporte e mobilidade"
            ]
          },
          "metadata": {
            "tags": []
          },
          "execution_count": 28
        }
      ]
    },
    {
      "cell_type": "markdown",
      "metadata": {
        "id": "rqff2bSIgvck",
        "colab_type": "text"
      },
      "source": [
        "Vamos atribuir a cada grupo um vetor de características.\n",
        "Este vetor tem uma componente para cada palavra-chave.\n",
        "Ele vai ter 1 na componente $i$ se a $i$-gésima palavra-chave está associada ao trabalho, ou 0 caso contrário.\n",
        "\n",
        "O código abaixo monta este vetor para um grupo:"
      ]
    },
    {
      "cell_type": "code",
      "metadata": {
        "id": "U7Vb9YNeX0a7",
        "colab_type": "code",
        "colab": {}
      },
      "source": [
        "def vetor_grupo(grupo):\n",
        "  palavras = palavras_trabalhos[palavras_trabalhos['grupo']==grupo]['palavra']\n",
        "  vetor = np.zeros(palavras_chave.shape[0])\n",
        "  for i in palavras:\n",
        "    vetor[i-1] = 1\n",
        "  return vetor"
      ],
      "execution_count": null,
      "outputs": []
    },
    {
      "cell_type": "markdown",
      "metadata": {
        "id": "UqKIdt6nhpHl",
        "colab_type": "text"
      },
      "source": [
        "Exemplo: O vetor característico do grupo 1."
      ]
    },
    {
      "cell_type": "code",
      "metadata": {
        "id": "hUDyvr82hses",
        "colab_type": "code",
        "colab": {
          "base_uri": "https://localhost:8080/",
          "height": 51
        },
        "outputId": "4273649b-6260-420f-c556-704afeaf8adf"
      },
      "source": [
        "vetor_grupo(1)"
      ],
      "execution_count": null,
      "outputs": [
        {
          "output_type": "execute_result",
          "data": {
            "text/plain": [
              "array([1., 1., 1., 1., 0., 0., 1., 0., 0., 0., 0., 0., 0., 0., 0., 0., 1.,\n",
              "       0., 0., 0., 0., 0., 0., 1., 0., 0., 0., 0., 0., 0., 0., 0.])"
            ]
          },
          "metadata": {
            "tags": []
          },
          "execution_count": 10
        }
      ]
    },
    {
      "cell_type": "markdown",
      "metadata": {
        "id": "dD65vlIkhxan",
        "colab_type": "text"
      },
      "source": [
        "## Construindo um agrupamento de trabalhos\n",
        "\n",
        "### 1. Redução de dimensão\n",
        "\n",
        "Em primeiro lugar vamos reduzir a dimensão do problema.\n",
        "Como pode-se ver pela lista de palavras, várias são fortemente correlacionadas (e eventualmente redundantes), como \"veículos automotivos\" e \"Transporte e mobilidade\".\n",
        "\n",
        "Para mitigar isso, vamos fazer uma decomposição em componentes principais reduzindo a dimensão do problema para 10.\n",
        "\n",
        "Gere vetores característicos para cada grupo, faça uma decomposição em componentes principais retendo os 10 primeiros vetores e projete os vetores característicos neste espaço reduzido."
      ]
    },
    {
      "cell_type": "code",
      "metadata": {
        "id": "qmH5pAI_3fU0",
        "colab_type": "code",
        "colab": {}
      },
      "source": [
        "from sklearn.decomposition import PCA"
      ],
      "execution_count": null,
      "outputs": []
    },
    {
      "cell_type": "code",
      "metadata": {
        "id": "sNE4hJiO4tSF",
        "colab_type": "code",
        "colab": {}
      },
      "source": [
        "dados = []\n",
        "for i in range(1, 35):\n",
        "  dados.append(vetor_grupo(i).tolist())\n",
        "\n",
        "pca = PCA(n_components=10)\n",
        "pca.fit(dados)\n",
        "\n",
        "#pca.explained_variance_\n",
        "\n",
        "dados_projetados = pca.transform(dados)"
      ],
      "execution_count": null,
      "outputs": []
    },
    {
      "cell_type": "markdown",
      "metadata": {
        "id": "SyGt4xUSiqU0",
        "colab_type": "text"
      },
      "source": [
        "### 2. Agrupamento.\n",
        "\n",
        "Use o objeto KMeans da biblioteca SKLearn para agrupar os vetores do espaço reduzido em 8 clusters.\n",
        "\n",
        "Descubra quais os números dos trabalhos correspondentes ao cluster com a *menor* quantidade de trabalhos."
      ]
    },
    {
      "cell_type": "code",
      "metadata": {
        "id": "ToffeZLci42W",
        "colab_type": "code",
        "colab": {
          "base_uri": "https://localhost:8080/",
          "height": 170
        },
        "outputId": "50ea010a-9051-4bb0-ec2f-898131e9cb28"
      },
      "source": [
        "modelo_kmeans = cluster.KMeans(n_clusters=8, n_init=60)\n",
        "modelo_kmeans.fit(dados_projetados)\n",
        "\n",
        "df_labels = pd.DataFrame(modelo_kmeans.labels_)\n",
        "\n",
        "df_labels[0].value_counts()\n"
      ],
      "execution_count": null,
      "outputs": [
        {
          "output_type": "execute_result",
          "data": {
            "text/plain": [
              "3    6\n",
              "7    5\n",
              "2    5\n",
              "1    5\n",
              "0    5\n",
              "5    3\n",
              "4    3\n",
              "6    2\n",
              "Name: 0, dtype: int64"
            ]
          },
          "metadata": {
            "tags": []
          },
          "execution_count": 70
        }
      ]
    },
    {
      "cell_type": "code",
      "metadata": {
        "id": "4XZNrsXR8mBX",
        "colab_type": "code",
        "colab": {
          "base_uri": "https://localhost:8080/",
          "height": 235
        },
        "outputId": "ceb026de-4a0e-43aa-d93f-d0030c1814b9"
      },
      "source": [
        "df_labels[df_labels[0] == 3]"
      ],
      "execution_count": null,
      "outputs": [
        {
          "output_type": "execute_result",
          "data": {
            "text/html": [
              "<div>\n",
              "<style scoped>\n",
              "    .dataframe tbody tr th:only-of-type {\n",
              "        vertical-align: middle;\n",
              "    }\n",
              "\n",
              "    .dataframe tbody tr th {\n",
              "        vertical-align: top;\n",
              "    }\n",
              "\n",
              "    .dataframe thead th {\n",
              "        text-align: right;\n",
              "    }\n",
              "</style>\n",
              "<table border=\"1\" class=\"dataframe\">\n",
              "  <thead>\n",
              "    <tr style=\"text-align: right;\">\n",
              "      <th></th>\n",
              "      <th>0</th>\n",
              "    </tr>\n",
              "  </thead>\n",
              "  <tbody>\n",
              "    <tr>\n",
              "      <th>1</th>\n",
              "      <td>3</td>\n",
              "    </tr>\n",
              "    <tr>\n",
              "      <th>7</th>\n",
              "      <td>3</td>\n",
              "    </tr>\n",
              "    <tr>\n",
              "      <th>9</th>\n",
              "      <td>3</td>\n",
              "    </tr>\n",
              "    <tr>\n",
              "      <th>14</th>\n",
              "      <td>3</td>\n",
              "    </tr>\n",
              "    <tr>\n",
              "      <th>20</th>\n",
              "      <td>3</td>\n",
              "    </tr>\n",
              "    <tr>\n",
              "      <th>28</th>\n",
              "      <td>3</td>\n",
              "    </tr>\n",
              "  </tbody>\n",
              "</table>\n",
              "</div>"
            ],
            "text/plain": [
              "    0\n",
              "1   3\n",
              "7   3\n",
              "9   3\n",
              "14  3\n",
              "20  3\n",
              "28  3"
            ]
          },
          "metadata": {
            "tags": []
          },
          "execution_count": 83
        }
      ]
    },
    {
      "cell_type": "code",
      "metadata": {
        "id": "VVBG6pvK_iSj",
        "colab_type": "code",
        "colab": {
          "base_uri": "https://localhost:8080/",
          "height": 119
        },
        "outputId": "5baea986-12d1-4094-b7a9-42c09c0b3426"
      },
      "source": [
        "for i in (1, 7, 9, 14, 20, 28):\n",
        "  print(trabalhos.iloc[i][\"Título\"])"
      ],
      "execution_count": null,
      "outputs": [
        {
          "output_type": "stream",
          "text": [
            "Projeto de Estabilizador de Câmera via Plataforma de Stewart para Veículos Autônomos ou Pilotados Remotamente\n",
            "CONTROLE DE ROBÔ MANIPULADOR POR MEIO DE MÉTODOS DE INTELIGÊNCIA ARTIFICIAL\n",
            "Módulo de potência para motores turbo\n",
            "Simulação de Direção de Veículo Autônomo Utilizando Redes Neurais Convolucionais e Recorrentes\n",
            "Proteção cambial de operações financeiras baseada em aprendizado de máquina\n",
            "A Machine Learning Approach to Cycling User Classification\n"
          ],
          "name": "stdout"
        }
      ]
    },
    {
      "cell_type": "code",
      "metadata": {
        "id": "cfIml6PH9Axn",
        "colab_type": "code",
        "colab": {
          "base_uri": "https://localhost:8080/",
          "height": 35
        },
        "outputId": "07e268db-3d38-4669-86ba-2bbd2ab293c4"
      },
      "source": [
        "trabalhos.iloc[2][\"Título\"]"
      ],
      "execution_count": null,
      "outputs": [
        {
          "output_type": "execute_result",
          "data": {
            "application/vnd.google.colaboratory.intrinsic": {
              "type": "string"
            },
            "text/plain": [
              "'Controlador para Exoesqueleto Unilateral Modular com 1 e 2 Graus de Liberdade '"
            ]
          },
          "metadata": {
            "tags": []
          },
          "execution_count": 82
        }
      ]
    },
    {
      "cell_type": "code",
      "metadata": {
        "id": "mgsBiJrW9De4",
        "colab_type": "code",
        "colab": {
          "base_uri": "https://localhost:8080/",
          "height": 35
        },
        "outputId": "5ad8417f-0763-4e49-8840-e4e376e9e155"
      },
      "source": [
        "trabalhos.iloc[30][\"Título\"]"
      ],
      "execution_count": null,
      "outputs": [
        {
          "output_type": "execute_result",
          "data": {
            "application/vnd.google.colaboratory.intrinsic": {
              "type": "string"
            },
            "text/plain": [
              "'PROJETO E IMPLEMENTAÇÃO DE CONTROLADOR DE POSIÇÃO PARA PROTÓTIPO DE SIMULADOR DE MEMBRO SUPERIOR HUMANO'"
            ]
          },
          "metadata": {
            "tags": []
          },
          "execution_count": 81
        }
      ]
    }
  ]
}