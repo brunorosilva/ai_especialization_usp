{
  "nbformat": 4,
  "nbformat_minor": 0,
  "metadata": {
    "kernelspec": {
      "display_name": "Python 3",
      "language": "python",
      "name": "python3"
    },
    "language_info": {
      "codemirror_mode": {
        "name": "ipython",
        "version": 3
      },
      "file_extension": ".py",
      "mimetype": "text/x-python",
      "name": "python",
      "nbconvert_exporter": "python",
      "pygments_lexer": "ipython3",
      "version": "3.7.1"
    },
    "colab": {
      "name": "ExerciciosRegressaoLogística.ipynb",
      "provenance": [],
      "collapsed_sections": [],
      "toc_visible": true,
      "include_colab_link": true
    }
  },
  "cells": [
    {
      "cell_type": "markdown",
      "metadata": {
        "id": "view-in-github",
        "colab_type": "text"
      },
      "source": [
        "<a href=\"https://colab.research.google.com/github/brunorosilva/ai_especialization_usp/blob/master/IAD-004-Aprendizagem_de_Maquina_1/ExerciciosRegressaoLog%C3%ADstica.ipynb\" target=\"_parent\"><img src=\"https://colab.research.google.com/assets/colab-badge.svg\" alt=\"Open In Colab\"/></a>"
      ]
    },
    {
      "cell_type": "markdown",
      "metadata": {
        "id": "1QkTBeSzKohL",
        "colab_type": "text"
      },
      "source": [
        "# Análise de clientes com regressão logística\n",
        "Uma popular rede de varejo de móveis e eletrodomésticos está muito preocupada com o número de clientes que atrasam o pagamento de suas prestações. Eles precisam entender o rpefil de quem está atrasando e vocês são os analistas desta empresa.\n",
        "\n",
        "Para isso disponibilizaram um conjunto de dados. Cada caso corresponde a um cliente separado e registra várias informações demográficas e pessoais. Vocês devem analisar todos os dados relevantes do cliente e desenvolver programa para minimizar os riscos da empresa.\n",
        "\n",
        "O conjunto de dados inclui informações sobre:\n",
        "\n",
        "- A última coluna mostra se os clientes estão ou não atrasados na mensalidade - (0: não atraso; 1: atraso de mais de dois meses).\n",
        "- As demais colunas são informações pessoais e demográficas sobre clientes - Idade (em anos), Sexo (0:M, 1:F), Estado civil (0:casado, 1:solteiro ou divorciado), Endereço (por zona), Renda (média de rendimentos), Posses (balanço de posses registradas), Fidelidade (quantas vezes já comprou a prazo na empresa), Empregado (anos que se encontra empregado na mesma empresa), Internet em casa (0: não, 1: sim).\n",
        "\n",
        "Vocês devem construir um modelo de regressão logística. Seu projeto deve estar dividido em três partes: \n",
        "1. Pré processamento dos dados e seleção;\n",
        "2. Treinamento e teste;\n",
        "3. Avaliação.\n",
        "\n",
        "##Pré processamento dos dados e seleção\n",
        "\n",
        "Nessa etapa, verifique os dados, o número de linhas e colunas, separe (treinamento-teste) e normalize. Sua análise dá algum insight sobre a importância de cada dado? São todos relevantes? Existe correlação?\n",
        "\n",
        "## Treinamento e teste\n",
        "\n",
        "Vocês podem usar o modelo __LogisticRegression__ do pacote Scikit-learn. Essa função implementa a regressão logística e pode usar diferentes otimizadores numéricos para encontrar parâmetros, incluindo os _solvers_ `newton-cg`, `lbfgs`, `liblinear`, `sag` e `saga`. Você pode encontrar informações detalhadas sobre os prós e contras desses otimizadores se pesquisar na Internet.\n",
        "\n",
        "A versão de Regressão Logística no Scikit-learn, suporta a regularização. A regularização é uma técnica usada para resolver o problema de overfitting em modelos de aprendizado de máquina.\n",
        "O parâmetro $C$ indica o *inverso da força de regularização*, i é, valores menores especificam uma regularização mais forte.\n",
        "\n",
        "Lembre-se que `skitlearn` exige que o rótulo seja inteiro.\n",
        "\n",
        "## Avaliação\n",
        "\n",
        "Com base na matriz de confusão, podemos calcular a __precisão__ e o __recall__ de cada rótulo:\n",
        "\n",
        "\n",
        "*  __Precisão__ é a proporção de positivos classificados corretamente, ou seja, dos classificados como positivo, quantos são realmente positivos. É definido por: \n",
        "$$Precision = \\frac{TP}{TP + FP}$$\n",
        "\n",
        "*  __Recall__ é a proporção de positivos identificados corretamente, ou seja, o quão bom o modelo é para detectar positivos. É definido por: $$Recall =  \\frac{TP}{TP + FN}$$\n",
        "\n",
        "Maximizar a *precisão* minimizará o número de falsos positivos, enquanto maximizar o *recall* o número de falsos negativos.\n",
        "\n",
        "Às vezes, queremos excelentes previsões da classe positiva. Queremos alta precisão e alto recall. Nesse caso, o F1 Score pode ser uma medida melhor para usar na busca de um equilíbrio entre *Precisão* e *Recall*.\n",
        "\n",
        "\n",
        "* __F1 Score:__\n",
        "Pode-se calcular o F1 Score para cada classe com base na precisão e no recall dessa classe. O F1 Score é a média ponderada (use da precisão e do recall, onde o F1 Score alcança seu melhor valor em 1 (precisão e recall perfeitas) e pior em 0. Depois que a precisão e a recuperação são calculadas para um problema de classificação binária ou multiclasse, as duas pontuações podem ser combinadas no cálculo da F-Measure.\n",
        "$$F1 = 2 {Precision * Recall \\over Precision + Recall}$$\n",
        "\n",
        "Na biblioteca `sklearn.metrics` vocês podem obter diretamente a matriz de confusão usando `confusion_matrix` e as métricas citadas acima com `classification_report`.\n",
        "\n",
        "\n",
        "E, finalmente, poderão responder:\n",
        "\n",
        "Qual a média do F1 Score das duas classes?"
      ]
    },
    {
      "cell_type": "code",
      "metadata": {
        "id": "X4MmSXOFluap",
        "colab_type": "code",
        "colab": {}
      },
      "source": [
        "import pandas as pd\n",
        "import pylab as pl\n",
        "import numpy as np\n",
        "import scipy.optimize as opt\n",
        "from sklearn import preprocessing\n",
        "from sklearn.model_selection import train_test_split\n",
        "from sklearn.metrics import classification_report, confusion_matrix\n",
        "from sklearn.decomposition import PCA\n",
        "from sklearn.linear_model import LogisticRegression\n",
        "\n",
        "import itertools\n",
        "%matplotlib inline \n",
        "import matplotlib.pyplot as plt\n",
        "import io\n",
        "import urllib.request as request"
      ],
      "execution_count": 38,
      "outputs": []
    },
    {
      "cell_type": "markdown",
      "metadata": {
        "button": false,
        "new_sheet": false,
        "run_control": {
          "read_only": false
        },
        "id": "fvlVFo97KohQ",
        "colab_type": "text"
      },
      "source": [
        "## Lendo os dados"
      ]
    },
    {
      "cell_type": "code",
      "metadata": {
        "button": false,
        "new_sheet": false,
        "run_control": {
          "read_only": false
        },
        "id": "V6v6tNh3KohR",
        "colab_type": "code",
        "colab": {
          "base_uri": "https://localhost:8080/",
          "height": 197
        },
        "outputId": "886a6496-f9d1-458a-ccfa-a3c2bf763c95"
      },
      "source": [
        "perfil_df = pd.read_csv(io.TextIOWrapper(request.urlopen(\"https://www.lsc.poli.usp.br/PerfilCliente.csv\")),delimiter=';')\n",
        "perfil_df.head()"
      ],
      "execution_count": 2,
      "outputs": [
        {
          "output_type": "execute_result",
          "data": {
            "text/html": [
              "<div>\n",
              "<style scoped>\n",
              "    .dataframe tbody tr th:only-of-type {\n",
              "        vertical-align: middle;\n",
              "    }\n",
              "\n",
              "    .dataframe tbody tr th {\n",
              "        vertical-align: top;\n",
              "    }\n",
              "\n",
              "    .dataframe thead th {\n",
              "        text-align: right;\n",
              "    }\n",
              "</style>\n",
              "<table border=\"1\" class=\"dataframe\">\n",
              "  <thead>\n",
              "    <tr style=\"text-align: right;\">\n",
              "      <th></th>\n",
              "      <th>Idade</th>\n",
              "      <th>Sexo</th>\n",
              "      <th>Estado Civil</th>\n",
              "      <th>Endereco</th>\n",
              "      <th>Renda</th>\n",
              "      <th>Posses</th>\n",
              "      <th>Fidelidade</th>\n",
              "      <th>Empregado</th>\n",
              "      <th>Internet</th>\n",
              "      <th>Mensalidade</th>\n",
              "    </tr>\n",
              "  </thead>\n",
              "  <tbody>\n",
              "    <tr>\n",
              "      <th>0</th>\n",
              "      <td>33</td>\n",
              "      <td>0</td>\n",
              "      <td>1</td>\n",
              "      <td>7</td>\n",
              "      <td>136</td>\n",
              "      <td>11</td>\n",
              "      <td>5</td>\n",
              "      <td>5</td>\n",
              "      <td>1</td>\n",
              "      <td>1</td>\n",
              "    </tr>\n",
              "    <tr>\n",
              "      <th>1</th>\n",
              "      <td>33</td>\n",
              "      <td>0</td>\n",
              "      <td>0</td>\n",
              "      <td>12</td>\n",
              "      <td>33</td>\n",
              "      <td>33</td>\n",
              "      <td>2</td>\n",
              "      <td>0</td>\n",
              "      <td>0</td>\n",
              "      <td>1</td>\n",
              "    </tr>\n",
              "    <tr>\n",
              "      <th>2</th>\n",
              "      <td>30</td>\n",
              "      <td>0</td>\n",
              "      <td>0</td>\n",
              "      <td>9</td>\n",
              "      <td>30</td>\n",
              "      <td>23</td>\n",
              "      <td>1</td>\n",
              "      <td>2</td>\n",
              "      <td>0</td>\n",
              "      <td>0</td>\n",
              "    </tr>\n",
              "    <tr>\n",
              "      <th>3</th>\n",
              "      <td>35</td>\n",
              "      <td>1</td>\n",
              "      <td>1</td>\n",
              "      <td>5</td>\n",
              "      <td>76</td>\n",
              "      <td>38</td>\n",
              "      <td>2</td>\n",
              "      <td>10</td>\n",
              "      <td>1</td>\n",
              "      <td>0</td>\n",
              "    </tr>\n",
              "    <tr>\n",
              "      <th>4</th>\n",
              "      <td>35</td>\n",
              "      <td>0</td>\n",
              "      <td>1</td>\n",
              "      <td>14</td>\n",
              "      <td>80</td>\n",
              "      <td>7</td>\n",
              "      <td>2</td>\n",
              "      <td>15</td>\n",
              "      <td>0</td>\n",
              "      <td>0</td>\n",
              "    </tr>\n",
              "  </tbody>\n",
              "</table>\n",
              "</div>"
            ],
            "text/plain": [
              "   Idade  Sexo  Estado Civil  ...  Empregado  Internet  Mensalidade\n",
              "0     33     0             1  ...          5         1            1\n",
              "1     33     0             0  ...          0         0            1\n",
              "2     30     0             0  ...          2         0            0\n",
              "3     35     1             1  ...         10         1            0\n",
              "4     35     0             1  ...         15         0            0\n",
              "\n",
              "[5 rows x 10 columns]"
            ]
          },
          "metadata": {
            "tags": []
          },
          "execution_count": 2
        }
      ]
    },
    {
      "cell_type": "code",
      "metadata": {
        "id": "CdjT0VjuzYLO",
        "colab_type": "code",
        "colab": {
          "base_uri": "https://localhost:8080/",
          "height": 70
        },
        "outputId": "636cca08-14c5-4d12-e37d-cbd38450dae5"
      },
      "source": [
        "from sklearn.utils import resample\n",
        "df_majority = perfil_df[perfil_df.Mensalidade==0]\n",
        "df_minority = perfil_df[perfil_df.Mensalidade==1]\n",
        "\n",
        "df_minority_upsampled = resample(df_minority, \n",
        "                                 replace=True, \n",
        "                                 n_samples=len(df_majority), \n",
        "                                 random_state=123)  \n",
        "\n",
        "df_upsampled = pd.concat([df_majority, df_minority_upsampled])\n",
        " \n",
        "df_upsampled.Mensalidade.value_counts()"
      ],
      "execution_count": 60,
      "outputs": [
        {
          "output_type": "execute_result",
          "data": {
            "text/plain": [
              "1    142\n",
              "0    142\n",
              "Name: Mensalidade, dtype: int64"
            ]
          },
          "metadata": {
            "tags": []
          },
          "execution_count": 60
        }
      ]
    },
    {
      "cell_type": "code",
      "metadata": {
        "id": "JnpS3ZfBxQKp",
        "colab_type": "code",
        "colab": {}
      },
      "source": [
        "dados = df_upsampled.drop(['Mensalidade'], axis=1)\n",
        "rotulos = df_upsampled['Mensalidade']\n",
        "x_train, x_test, y_train, y_test = train_test_split(dados, rotulos, test_size=.2)"
      ],
      "execution_count": 65,
      "outputs": []
    },
    {
      "cell_type": "code",
      "metadata": {
        "id": "5UNDMEJ60Fpp",
        "colab_type": "code",
        "colab": {
          "base_uri": "https://localhost:8080/",
          "height": 52
        },
        "outputId": "d378be54-70c7-40ea-b9dd-89abf3b03b1f"
      },
      "source": [
        ""
      ],
      "execution_count": 67,
      "outputs": [
        {
          "output_type": "execute_result",
          "data": {
            "text/plain": [
              "array([[19,  5],\n",
              "       [ 8, 25]])"
            ]
          },
          "metadata": {
            "tags": []
          },
          "execution_count": 67
        }
      ]
    },
    {
      "cell_type": "code",
      "metadata": {
        "id": "JHSmUVsKxpPS",
        "colab_type": "code",
        "colab": {
          "base_uri": "https://localhost:8080/",
          "height": 318
        },
        "outputId": "db4f1f4c-2e25-42f8-9800-d54592947720"
      },
      "source": [
        "model = LogisticRegression()\n",
        "pred = model.fit(x_train, y_train).predict(x_test)\n",
        "print(classification_report(y_test, pred))"
      ],
      "execution_count": 66,
      "outputs": [
        {
          "output_type": "stream",
          "text": [
            "              precision    recall  f1-score   support\n",
            "\n",
            "           0       0.70      0.79      0.75        24\n",
            "           1       0.83      0.76      0.79        33\n",
            "\n",
            "    accuracy                           0.77        57\n",
            "   macro avg       0.77      0.77      0.77        57\n",
            "weighted avg       0.78      0.77      0.77        57\n",
            "\n"
          ],
          "name": "stdout"
        },
        {
          "output_type": "stream",
          "text": [
            "/usr/local/lib/python3.6/dist-packages/sklearn/linear_model/_logistic.py:940: ConvergenceWarning: lbfgs failed to converge (status=1):\n",
            "STOP: TOTAL NO. of ITERATIONS REACHED LIMIT.\n",
            "\n",
            "Increase the number of iterations (max_iter) or scale the data as shown in:\n",
            "    https://scikit-learn.org/stable/modules/preprocessing.html\n",
            "Please also refer to the documentation for alternative solver options:\n",
            "    https://scikit-learn.org/stable/modules/linear_model.html#logistic-regression\n",
            "  extra_warning_msg=_LOGISTIC_SOLVER_CONVERGENCE_MSG)\n"
          ],
          "name": "stderr"
        }
      ]
    },
    {
      "cell_type": "code",
      "metadata": {
        "id": "RQS-Dv3LqwQT",
        "colab_type": "code",
        "colab": {
          "base_uri": "https://localhost:8080/",
          "height": 52
        },
        "outputId": "5578c118-5364-4c1a-bdee-64d6d7e710be"
      },
      "source": [
        "confusion_matrix(y_test, pred)"
      ],
      "execution_count": 68,
      "outputs": [
        {
          "output_type": "execute_result",
          "data": {
            "text/plain": [
              "array([[19,  5],\n",
              "       [ 8, 25]])"
            ]
          },
          "metadata": {
            "tags": []
          },
          "execution_count": 68
        }
      ]
    }
  ]
}