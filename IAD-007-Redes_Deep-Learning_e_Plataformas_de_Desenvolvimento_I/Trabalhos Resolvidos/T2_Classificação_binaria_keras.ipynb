{
  "nbformat": 4,
  "nbformat_minor": 0,
  "metadata": {
    "coursera": {
      "course_slug": "neural-networks-deep-learning",
      "graded_item_id": "XaIWT",
      "launcher_item_id": "zAgPl"
    },
    "kernelspec": {
      "display_name": "Python 3",
      "language": "python",
      "name": "python3"
    },
    "language_info": {
      "codemirror_mode": {
        "name": "ipython",
        "version": 3
      },
      "file_extension": ".py",
      "mimetype": "text/x-python",
      "name": "python",
      "nbconvert_exporter": "python",
      "pygments_lexer": "ipython3",
      "version": "3.8.3"
    },
    "colab": {
      "name": "T2_Classificação_binaria_keras.ipynb",
      "provenance": [],
      "collapsed_sections": [
        "10ngdPbqCCPN",
        "DGTQCXrvCCPO"
      ],
      "toc_visible": true,
      "include_colab_link": true
    }
  },
  "cells": [
    {
      "cell_type": "markdown",
      "metadata": {
        "id": "view-in-github",
        "colab_type": "text"
      },
      "source": [
        "<a href=\"https://colab.research.google.com/github/brunorosilva/ai_specialization_usp/blob/master/IAD-007-Redes_Deep-Learning_e_Plataformas_de_Desenvolvimento_I/Trabalhos%20Resolvidos/T2_Classifica%C3%A7%C3%A3o_binaria_keras.ipynb\" target=\"_parent\"><img src=\"https://colab.research.google.com/assets/colab-badge.svg\" alt=\"Open In Colab\"/></a>"
      ]
    },
    {
      "cell_type": "markdown",
      "metadata": {
        "id": "UdHKZtcJCCO7"
      },
      "source": [
        "# Trabalho #2 - Classificação binária com rede neural deep-learning\n",
        "\n",
        "Nesse trabalho você vai desenvolver uma rede neural rasa e uma deep-learning, usando a plataforma TensorFlow-Keras, para realizar uma tarefa de classificação binária para reconhecer gatos em imagens e comparar o desempenho das duas redes."
      ]
    },
    {
      "cell_type": "markdown",
      "metadata": {
        "id": "RVUfiIt0CCO8"
      },
      "source": [
        "## Coloque os nomes e RAs dos alunos que fizeram esse trabalho\n",
        "\n",
        "Nome e número dos alunos da equipe:\n",
        "\n",
        "Aluno 1: Bruno Rodrigues Silva\n"
      ]
    },
    {
      "cell_type": "markdown",
      "metadata": {
        "id": "TXQFbUX3CCO8"
      },
      "source": [
        "## 1 - Bibliotecas ##\n",
        "\n",
        "Em primeiro ligar, execute a célula abaixo para importar algumas bibliotecas Python que são usadas nesse trabalho. \n",
        "- [numpy](www.numpy.org) é a biblioteca básica para computação cinetífica usando Python.\n",
        "- [h5py](http://www.h5py.org) é uma biblioteca que fornece funções para interagir com banco de dados salvos em arquivos no formato h5.\n",
        "- [matplotlib](http://matplotlib.org) é uma biblioteca famosa usada para fazer gráficos com Python.\n",
        "- [PIL](http://www.pythonware.com/products/pil/) e [scipy](https://www.scipy.org/) são usadas para testar a sua RNA com novas imagens no final do trabalho.\n",
        "- lr_utils é um arquivo com uma função para ler os dados usados nesse trabalho."
      ]
    },
    {
      "cell_type": "markdown",
      "metadata": {
        "id": "AGpdbGpSCCO9"
      },
      "source": [
        "O comando da célula abaixo importa o TensorFlow e verifica a versão que está sendo utilizada."
      ]
    },
    {
      "cell_type": "code",
      "metadata": {
        "id": "MO6J0LJLCCO9",
        "outputId": "64e65b4b-14ee-4f0d-c2f2-b78342d421f0",
        "colab": {
          "base_uri": "https://localhost:8080/",
          "height": 35
        }
      },
      "source": [
        "import tensorflow as tf\n",
        "tf.__version__"
      ],
      "execution_count": 1,
      "outputs": [
        {
          "output_type": "execute_result",
          "data": {
            "application/vnd.google.colaboratory.intrinsic+json": {
              "type": "string"
            },
            "text/plain": [
              "'2.3.0'"
            ]
          },
          "metadata": {
            "tags": []
          },
          "execution_count": 1
        }
      ]
    },
    {
      "cell_type": "markdown",
      "metadata": {
        "id": "XWCMkucZCCPB"
      },
      "source": [
        "Como o TensorFlow é um software aberto não existe muita preocupação do desenvolvedor (no caso o Google) de manter a compatibilidade entre as versões. Assim, se você estiver usando uma versão do TensorFlow incompatível com o seu programa, você pode impor o uso de uma versão mais antiga. \n",
        "\n",
        "Por exemplo o código abaixo importa a versão 2 do TensorFlow, mas se ela não estiver instalada importa a versão instalada.\n",
        "\n",
        "```\n",
        " try:\n",
        "     import tensorflow.compat.v2 as tf\n",
        " except Exception:\n",
        "     import tensorflow as tf    \n",
        " print(tf.__version__)\n",
        "```\n",
        "\n",
        "Outro exemplo, se a versão instalada do TensorFlow for a 2 e o seu programa foi feito para a versão 1, então pode habilitar a versão 2 com o comportamento da versão 1. O código abaixo mostra como fazer isso.\n",
        "\n",
        "```\n",
        " import tensorflow as tf\n",
        " print(tf.__version__)\n",
        " tf.enable_v1_behavior()\n",
        "``` "
      ]
    },
    {
      "cell_type": "code",
      "metadata": {
        "id": "DowZ_75eCCPC"
      },
      "source": [
        "import numpy as np\n",
        "import matplotlib.pyplot as plt\n",
        "import h5py\n",
        "import scipy\n",
        "from PIL import Image\n",
        "from scipy import ndimage\n",
        "\n",
        "%matplotlib inline"
      ],
      "execution_count": 2,
      "outputs": []
    },
    {
      "cell_type": "markdown",
      "metadata": {
        "collapsed": true,
        "id": "BzwGtKCQCCPE"
      },
      "source": [
        "## 2 - Visão geral do problema ##\n",
        "\n",
        "**Definição do problema**: \n",
        "\n",
        "Nesse trabalho é fornecido um conjunto de dados que contém:\n",
        "\n",
        "    - um conjunto de imagens de treinamento classificadas como tendo gato (y=1) ou não tendo gato (y=0);\n",
        "    - um conjunto de imagens de teste classificadas como tendo gato (y=1) ou não tendo gato (y=0);\n",
        "    - a dimensão de cada imagem é (num_px, num_px, 3), onde 3 é o número de canais de cor (RGB);\n",
        "    - cada imagem é composta por três matrizes de dimensão: número de linhas = num_px e número de colunas = num_px;\n",
        "    - número de imagens do conjunto de treinamento: m_train;\n",
        "    - número de imagens do conjunto de teste: m_test.\n",
        "\n",
        "A partir desses conjuntos de dados, a sua tarefa é desenvolver um sistema baseado em uma rede neural, para processar imagens e classificar corretamente se ela mostra ou não um gato. Para isso, você vai desenvolver algumas redes neurais usando a ferramenta Keras e comparar o desempenho delas. \n",
        "\n",
        "O uso da ferramenta Keras para desenvolver redes neurais facilita muito o trabalho, pois não exige desenvolver codigos específicos para implementar cada camada da rede, a função de custo, a métrica e principalmente o gradiente descendente."
      ]
    },
    {
      "cell_type": "markdown",
      "metadata": {
        "id": "Ovg_tl5gCCPF"
      },
      "source": [
        "## 3 - Conjunto de dados de treinamento e teste\n",
        "\n",
        "O conjunto de dados utilizado pode ser obtido em: https://www.kaggle.com/mriganksingh/cat-images-dataset. Para carregar esse conjunto de dados execute o código a seguir.\n",
        "\n",
        "O termo _orig é adicionado no final dos tensores com os dados de treinamento e teste originais porque vamos processar esses dados."
      ]
    },
    {
      "cell_type": "code",
      "metadata": {
        "id": "RUl_P5llCCPF"
      },
      "source": [
        "# Conjunto de dados de treinamento\n",
        "train_dataset = h5py.File('train_catvnoncat.h5', \"r\")\n",
        "train_set_x_orig = np.array(train_dataset[\"train_set_x\"][:]) \n",
        "train_set_y = np.array(train_dataset[\"train_set_y\"][:]) \n",
        "\n",
        "# Conjunto de dados de teste\n",
        "test_dataset = h5py.File('test_catvnoncat.h5', \"r\")\n",
        "test_set_x_orig = np.array(test_dataset[\"test_set_x\"][:])\n",
        "test_set_y = np.array(test_dataset[\"test_set_y\"][:]) \n",
        "\n",
        "# Acerta dimensões das saídas\n",
        "train_set_y = train_set_y.reshape((1, train_set_y.shape[0]))\n",
        "test_set_y = test_set_y.reshape((1, test_set_y.shape[0]))\n",
        "    \n",
        "classes = np.array(test_dataset[\"list_classes\"][:]) # the list of classes"
      ],
      "execution_count": 3,
      "outputs": []
    },
    {
      "cell_type": "code",
      "metadata": {
        "id": "BfDYe81TCCPH",
        "outputId": "0fdbf6ac-c4aa-4efa-f22c-6d39fd9cc478",
        "colab": {
          "base_uri": "https://localhost:8080/",
          "height": 302
        }
      },
      "source": [
        "# Examplo de uma imagem\n",
        "index = 11\n",
        "print(train_set_x_orig[index].shape)\n",
        "plt.imshow(train_set_x_orig[index])\n",
        "print (\"y = \" + str(train_set_y[:, index]) + \", it's a '\" + classes[np.squeeze(train_set_y[:, index])].decode(\"utf-8\") +  \"' picture.\")"
      ],
      "execution_count": 4,
      "outputs": [
        {
          "output_type": "stream",
          "text": [
            "(64, 64, 3)\n",
            "y = [1], it's a 'cat' picture.\n"
          ],
          "name": "stdout"
        },
        {
          "output_type": "display_data",
          "data": {
            "image/png": "[encoded data removed]",
            "text/plain": [
              "<Figure size 432x288 with 1 Axes>"
            ]
          },
          "metadata": {
            "tags": [],
            "needs_background": "light"
          }
        }
      ]
    },
    {
      "cell_type": "markdown",
      "metadata": {
        "id": "lqV1cWhVCCPK"
      },
      "source": [
        "No código acima index é o número sequencial da imagem. Tente trocar a imagem, mudando o index, usando valores entre 0 e 208, para visualizar outros exemplos."
      ]
    },
    {
      "cell_type": "markdown",
      "metadata": {
        "id": "OeHKc5foCCPK"
      },
      "source": [
        "### 3.1 - Determinação do formato e dimensões dos dados\n",
        "\n",
        "### Exercício #1:\n",
        "\n",
        "É importante conhecer as dimensões dos dados que estamos trabalhando para evitar problemas. Assim, obtenha os valores dos seguintes parâmetros: \n",
        "    - m_train = número de exemplos de treinamento;\n",
        "    - m_test = número de exemplos de teste;\n",
        "    - num_px = altura e largura das imagens (as imagens são quadradas).\n",
        "    \n",
        "Lembre que `train_set_x_orig` é um tensor numpy de dimensão (m_train, num_px, num_px, 3). Por exemplo, você pode obter  `m_train` escrevendo `train_set_x_orig.shape[0]`."
      ]
    },
    {
      "cell_type": "code",
      "metadata": {
        "scrolled": true,
        "id": "qyy4SgPHCCPK",
        "outputId": "970ec0cf-291e-4bd3-b683-46c2b3b55310",
        "colab": {
          "base_uri": "https://localhost:8080/",
          "height": 153
        }
      },
      "source": [
        "# PARA VOCÊ FAZER:\n",
        "\n",
        "### COMECE AQUIE ### (≈ 3 linhas)\n",
        "m_train = train_set_x_orig.shape[0]\n",
        "m_test  = test_set_x_orig.shape[0]\n",
        "num_px  = test_set_x_orig.shape[1]\n",
        "### TERMINE AQUI ###\n",
        "\n",
        "print (\"Número de exemplos de treinamento: m_train = \" + str(m_train))\n",
        "print (\"Número de exemplos de teste: m_test = \" + str(m_test))\n",
        "print (\"Altura/largura de cada imagem: num_px = \" + str(num_px))\n",
        "print (\"Dimensão de cada imagem: (\" + str(num_px) + \", \" + str(num_px) + \", 3)\")\n",
        "print (\"Dimensão - train_set_x: \" + str(train_set_x_orig.shape))\n",
        "print (\"Dimensão - train_set_y: \" + str(train_set_y.shape))\n",
        "print (\"Dimensão - test_set_x: \" + str(test_set_x_orig.shape))\n",
        "print (\"Dimensão - test_set_y: \" + str(test_set_y.shape))"
      ],
      "execution_count": 5,
      "outputs": [
        {
          "output_type": "stream",
          "text": [
            "Número de exemplos de treinamento: m_train = 209\n",
            "Número de exemplos de teste: m_test = 50\n",
            "Altura/largura de cada imagem: num_px = 64\n",
            "Dimensão de cada imagem: (64, 64, 3)\n",
            "Dimensão - train_set_x: (209, 64, 64, 3)\n",
            "Dimensão - train_set_y: (1, 209)\n",
            "Dimensão - test_set_x: (50, 64, 64, 3)\n",
            "Dimensão - test_set_y: (1, 50)\n"
          ],
          "name": "stdout"
        }
      ]
    },
    {
      "cell_type": "markdown",
      "metadata": {
        "id": "rycqHHgWCCPN"
      },
      "source": [
        "**Saída esperada para m_train, m_test e num_px**: \n",
        "\n",
        "    Número de exemplos de treinamento: m_train = 209\n",
        "    Número de exemplos de teste: m_test = 50\n",
        "    Altura/largura de cada imagem: num_px = 64\n",
        "    Dimensão de cada imagem: (64, 64, 3)\n",
        "    Dimensão - train_set_x: (209, 64, 64, 3)\n",
        "    Dimensão - train_set_y: (1, 209)\n",
        "    Dimensão - test_set_x: (50, 64, 64, 3)\n",
        "    >Dimensão - test_set_y: (1, 50)\n",
        "\n",
        "Observe que o primeiro eixo dos tensores com as imagens dos conjuntos de teste e de treinamento representa os exemplos, da forma como é esperado para os dados no Keras."
      ]
    },
    {
      "cell_type": "markdown",
      "metadata": {
        "id": "10ngdPbqCCPN"
      },
      "source": [
        "### 3.2 - Processamento dos dados\n",
        "\n",
        "Os dados dos exemplos de treinamento e de teste devem ser processados de forma a serem colocados em tensores com as dimensões adequadas e normalizados corretamente. Nos exercícios que seguem você irá realizar o processamento dos dados de forma a poderem ser usados na sua RNA implementada com o Keras."
      ]
    },
    {
      "cell_type": "markdown",
      "metadata": {
        "id": "DGTQCXrvCCPO"
      },
      "source": [
        "### Redimensionamento dos dados\n",
        "\n",
        "Os dados de entrada de uma camada de neurônios densa é um vetor, assim, devemos redimensionar as imagens, que tem dimensão (num_px, num_px, 3), para transformá-las em um vetor linha de dimensão (1, num_px∗num_px∗3). Após esse redimensionamento o conjunto de dados é um tensor numpy onde cada linha representa uma imagem \"esticada\". O tensor com as entradas dos dados de treinamento terá m_train linhas e o de teste m_test linhas.\n",
        "\n",
        "Por exemplo, para redimensionar uma matriz de dimensão (a,b,c,d) para uma matriz de dimensão (a, b∗c∗d) pode-se usar o seguinte código Python: \n",
        "\n",
        "    X_flatten = X.reshape((a, b∗c∗d))\n",
        "\n",
        "A dimensão dos dados de saída também deve ser alterada porque, como visto, o Keras espara que os exemplos representam o primeiro eixo do tensor e nos dados de saída os exemplos representam o segundo eixo. Assim, os vetores com os dados de saída, tanto de treinamento como de teste, devem ser transpostos."
      ]
    },
    {
      "cell_type": "markdown",
      "metadata": {
        "id": "hw42T0-vCCPO"
      },
      "source": [
        "### Exercício #2:\n",
        "\n",
        "Implemente o redimensionamento dos dados de entrada na célula a seguir."
      ]
    },
    {
      "cell_type": "code",
      "metadata": {
        "id": "jCyPwiNVCCPP",
        "outputId": "a9ba6a64-0a59-45b6-fa28-52135f3fd4b3",
        "colab": {
          "base_uri": "https://localhost:8080/",
          "height": 102
        }
      },
      "source": [
        "# PARA VOCÊ FAZER: redimensionamento das imagens dos exemplos de treinamento e teste\n",
        "\n",
        "### COMECE AQUI ### (≈ 2 linhas)\n",
        "# Redimensionamento dos dados de entrada\n",
        "train_set_x_flatten = train_set_x_orig.reshape((m_train, -1))\n",
        "test_set_x_flatten = test_set_x_orig.reshape((m_test, -1))\n",
        "### TERMINE AQUI ###\n",
        "\n",
        "### COMECE AQUI ### (≈ 2 linhas)\n",
        "# Redimensionamento dos dados de saída (transposição)\n",
        "train_set_y = train_set_y.reshape((-1, 1))\n",
        "test_set_y  = test_set_y.reshape((-1, 1))\n",
        "### TERMINE AQUI ###\n",
        "\n",
        "print (\"Dimensão - train_set_x_flatten: \" + str(train_set_x_flatten.shape))\n",
        "print (\"Dimensão - train_set_y: \" + str(train_set_y.shape))\n",
        "print (\"Dimensão - test_set_x_flatten: \" + str(test_set_x_flatten.shape))\n",
        "print (\"Dimensão - test_set_y: \" + str(test_set_y.shape))\n",
        "print (\"Verificação de valores após redimensionamento: \" + str(train_set_x_flatten[0,0:5]))"
      ],
      "execution_count": 6,
      "outputs": [
        {
          "output_type": "stream",
          "text": [
            "Dimensão - train_set_x_flatten: (209, 12288)\n",
            "Dimensão - train_set_y: (209, 1)\n",
            "Dimensão - test_set_x_flatten: (50, 12288)\n",
            "Dimensão - test_set_y: (50, 1)\n",
            "Verificação de valores após redimensionamento: [17 31 56 22 33]\n"
          ],
          "name": "stdout"
        }
      ]
    },
    {
      "cell_type": "markdown",
      "metadata": {
        "id": "0zlmV88sCCPV"
      },
      "source": [
        "**Saída esperada**: \n",
        "\n",
        "    Dimensão - train_set_x_flatten: (209, 12288)\n",
        "    Dimensão - train_set_y: (209, 1)\n",
        "    Dimensão - test_set_x_flatten: (50, 12288)\n",
        "    Dimensão - test_set_y: (50, 1)\n",
        "    Verificação de valores após redimensionamento: [17 31 56 22 33]"
      ]
    },
    {
      "cell_type": "markdown",
      "metadata": {
        "id": "M-Uk8ZLyCCPV"
      },
      "source": [
        "### Normalização dos dados\n",
        "\n",
        "Nas imagens coloridas as cores vermelho, verde e azul (RGB) são especificadas para cada pixel da imagem, de forma que cada pixel consite de um vetor de tres números que variam no intervalo de 0 a 255.\n",
        "\n",
        "Uma etapa do processamento dos dados é normalizar esses dados de forma a ter dados com média zero e desvio padrão um. No caso de imagens o processo de normalização dos dados é mais simples e consiste simplesmente em dividir todos os valores da imagem por 255, que é o valor máximo de um pixel.\n",
        "\n",
        "### Exercício #3:\n",
        "\n",
        "Implemente a normalização dos dados de forma a ter todas os elementos dos dados de entrada entre 0 e 1."
      ]
    },
    {
      "cell_type": "code",
      "metadata": {
        "id": "Ohes3x2zCCPV",
        "outputId": "ee9488b3-980e-49bb-e7d0-37a4183bae4c",
        "colab": {
          "base_uri": "https://localhost:8080/",
          "height": 51
        }
      },
      "source": [
        "# PARA VOCÊ FAZER: redimensionamento das imagens dos exemplos de treinamento e teste\n",
        "\n",
        "### COMECE AQUI ### (≈ 2 linhas)\n",
        "train_set_x = train_set_x_flatten/255.\n",
        "test_set_x = test_set_x_flatten/255.\n",
        "### TERMINE AQUI ###\n",
        "\n",
        "print (\"Máximo valor de train_set_x: \" + str(np.max(train_set_x)))\n",
        "print (\"Máximo valor de train_set_x: \" + str(np.max(test_set_x)))"
      ],
      "execution_count": 7,
      "outputs": [
        {
          "output_type": "stream",
          "text": [
            "Máximo valor de train_set_x: 1.0\n",
            "Máximo valor de train_set_x: 1.0\n"
          ],
          "name": "stdout"
        }
      ]
    },
    {
      "cell_type": "markdown",
      "metadata": {
        "id": "KjeNROYpCCPY"
      },
      "source": [
        "**Saída esperada**: \n",
        "\n",
        "    Máximo valor de train_set_x: 1.0\n",
        "    Máximo valor de train_set_x: 1.0\n"
      ]
    },
    {
      "cell_type": "markdown",
      "metadata": {
        "id": "hnO9_z-ACCPZ"
      },
      "source": [
        "<font color='blue'>\n",
        "    \n",
        "**O que é importante lembrar:**\n",
        "\n",
        "As etapas principais do processamento de dados são as seguintes:\n",
        "- Verificar a dimensão e formato dos dados do problema. Nesse caso são: m_train, m_test, num_px, ...\n",
        "- Redimensionar os conjuntos de dados. Nesse caso para cada exemplo a entrada é um vetor linha de dimensão (1, num_px \\* num_px \\* 3)\n",
        "- Normalizar os dados"
      ]
    },
    {
      "cell_type": "markdown",
      "metadata": {
        "id": "OJ0ThEtjCCPZ"
      },
      "source": [
        "## 4 - Desenvolvimento e teste da rede neural rasa\n",
        "\n",
        "Nesse trabalho vamos testar diferentes redes neurais, variando numero de camadas, numero de neurônios nas camadas e tipo de função de ativação para obtermos uma solução que apresente resultados satisfatórios.\n",
        "\n",
        "Conforme vimos em aula, o desenvolvimento de uma RNA com o Keras é feito segundo as seguintes etapas:\n",
        "\n",
        "1. Definição dos dados de treinamento e de teste;\n",
        "2. Configuração da RNA;\n",
        "3. Compilação da RNA, que também inclui a configuração do processo de treinamento pela escolha da função de custo, do otimizador e da métrica para avaliar o desempenho;\n",
        "4. Treinamento da RNA;\n",
        "5. Teste e avaliação do desempenho da RNA.\n",
        "\n",
        "Observe que a etapa de definição e preparação dos dados já foi realizada."
      ]
    },
    {
      "cell_type": "markdown",
      "metadata": {
        "id": "-5jAh41fCCPa"
      },
      "source": [
        "### 4.1 - Configuração da rede neural ## \n",
        "\n",
        "Vamos configurar, treinar e testar uma primeira rede neural simples de uma camada intermediária usando o Keras.\n",
        "\n",
        "Para essa rede de uma camada, o parâmetro mais importante é o número de neurônios da camada intermediária. Esse número deve ser compatível com o problema que queremos resolver e também com o número de exemplos que temos disponíveis para treinar a rede.\n",
        "\n",
        "Em linhas gerais cada imagem é representada por 12.288 números e temos 209 imagens de treinamento. Assim, no conjunto de dados de treinamento temos cerca de 2,6 milhões de valores. Existem um princípio em aprendizado supervisionado que diz que o número de parâmetros do sistema deve ser menor do que o número de valores presente no conjunto de dados utilizado para o treinamento. Assim, a sua rede neural deve ter um número de parâmetros menor do que 2,6 milhões. Se a rede possuir mais parâmetros do que o número de valores presentes no conjunto de dados, ela simplesmenet memoriza os dados de treinamento e não funciona direito para nenhum outro caso. Veremos com detalhes esse tipo de problema, mas é importante você estar ciente disso nesse momento.\n",
        "\n",
        "**Qualquer dúvida que você possa ter de como fazer esse trabalho usando o Keras, ela pode ser sanada olhando as notas da Aula 7 - Ferramentas de Desenvolvmento.**\n",
        "\n",
        "### Exercício #4:\n",
        "\n",
        "Usando o Keras configure uma rede neural com as seguintes caracteríticas:\n",
        "\n",
        "- uma única camada intermediária com 64 neurônios e função de ativação sigmóide;\n",
        "- como queremos resolver um problema de classificação binária a camada de saída deve possuir um único neurônio e ter função de ativação sigmóide.\n"
      ]
    },
    {
      "cell_type": "code",
      "metadata": {
        "scrolled": true,
        "id": "O9-apegxCCPa",
        "outputId": "c3df5ac0-b8dd-45f4-b480-e7a28144b2e4",
        "colab": {
          "base_uri": "https://localhost:8080/",
          "height": 221
        }
      },
      "source": [
        "# PARA VOCÊ FAZER: configuração de uma RNA rasa\n",
        "\n",
        "# Importar do Keras classes de modelos e camadas \n",
        "from tensorflow.keras.models import Sequential\n",
        "from tensorflow.keras.layers import Dense, Activation\n",
        "\n",
        "np.random.seed(1) # inicializa gerador de números aleatórios\n",
        "\n",
        "# Configuração da rede\n",
        "### COMECE AQUI ### (≈ 3 linhas)\n",
        "rna = Sequential([\n",
        "    Dense(64, activation='sigmoid', input_shape=(64*64*3,)),\n",
        "    Dense(1, activation='sigmoid')\n",
        "])\n",
        "### TERMINE AQUI ###\n",
        "\n",
        "# Visualização da rede\n",
        "rna.summary()"
      ],
      "execution_count": 8,
      "outputs": [
        {
          "output_type": "stream",
          "text": [
            "Model: \"sequential\"\n",
            "_________________________________________________________________\n",
            "Layer (type)                 Output Shape              Param #   \n",
            "=================================================================\n",
            "dense (Dense)                (None, 64)                786496    \n",
            "_________________________________________________________________\n",
            "dense_1 (Dense)              (None, 1)                 65        \n",
            "=================================================================\n",
            "Total params: 786,561\n",
            "Trainable params: 786,561\n",
            "Non-trainable params: 0\n",
            "_________________________________________________________________\n"
          ],
          "name": "stdout"
        }
      ]
    },
    {
      "cell_type": "markdown",
      "metadata": {
        "id": "SEzwG4fLCCPc"
      },
      "source": [
        "**Saída esperada:**\n",
        "\n",
        "    Model: \"sequential\"\n",
        "    _________________________________________________________________\n",
        "    Layer (type)                 Output Shape              Param #   \n",
        "    =================================================================\n",
        "    dense (Dense)                (None, 64)                786496    \n",
        "    _________________________________________________________________\n",
        "    dense_1 (Dense)              (None, 1)                 65        \n",
        "    =================================================================\n",
        "    Total params: 786,561\n",
        "    Trainable params: 786,561\n",
        "    Non-trainable params: 0\n",
        "    _________________________________________________________________"
      ]
    },
    {
      "cell_type": "markdown",
      "metadata": {
        "id": "-NA4-JUWCCPd"
      },
      "source": [
        "### 4.2 - Compilação e treinamento da rede neural\n",
        "\n",
        "A segunda e terceira etapas de desenvolvimento da rede no Keras é a sua compilação e treinamento. \n",
        "\n",
        "### Exercício #5:\n",
        "\n",
        "Compile e treine a sua rede neural usando as seguintes opções:\n",
        "\n",
        "- Método de otimização: gradiente descendente;\n",
        "- Função de custo: entropia cruzada;\n",
        "- Métrica: exatidão;\n",
        "- No treinamento, utilize no método fit o parâmetro batch_size=209, que é o número de exemplos de treinamento;\n",
        "- Número de épocas: 10.\n",
        "\n",
        "Nesse momento estamos treinando a rede somente para verificar se ela é adequada para resolver o problema e se está configurada de forma correta, por isso usamos poucas épocas de treinamento."
      ]
    },
    {
      "cell_type": "code",
      "metadata": {
        "id": "Hx01YKFbCCPd",
        "outputId": "74247d32-74bc-463c-a318-f401c63d1d27",
        "colab": {
          "base_uri": "https://localhost:8080/",
          "height": 374
        }
      },
      "source": [
        "# PARA VOCÊ FAZER: configuração do otimizador e treinamento da RNA rasa\n",
        "\n",
        "# Importar do Keras classe de otimizadores\n",
        "from tensorflow.keras import optimizers\n",
        "\n",
        "# Compilação da rede \n",
        "### COMECE AQUI ### (≈ 1 ou 2 linhas)\n",
        "opt = optimizers.SGD()\n",
        "rna.compile(opt, 'binary_crossentropy', 'accuracy')\n",
        "### TERMINE AQUI ###\n",
        "\n",
        "# Teste de treinamento da rede\n",
        "### COMECE AQUI ### (≈ 1 linha)\n",
        "rna.fit(train_set_x, train_set_y, epochs=10, batch_size=209)\n",
        "### TERMINE AQUI ###"
      ],
      "execution_count": 9,
      "outputs": [
        {
          "output_type": "stream",
          "text": [
            "Epoch 1/10\n",
            "1/1 [==============================] - 0s 1ms/step - loss: 0.6505 - accuracy: 0.6555\n",
            "Epoch 2/10\n",
            "1/1 [==============================] - 0s 1ms/step - loss: 0.6493 - accuracy: 0.6555\n",
            "Epoch 3/10\n",
            "1/1 [==============================] - 0s 1ms/step - loss: 0.6482 - accuracy: 0.6555\n",
            "Epoch 4/10\n",
            "1/1 [==============================] - 0s 2ms/step - loss: 0.6471 - accuracy: 0.6555\n",
            "Epoch 5/10\n",
            "1/1 [==============================] - 0s 1ms/step - loss: 0.6461 - accuracy: 0.6555\n",
            "Epoch 6/10\n",
            "1/1 [==============================] - 0s 1ms/step - loss: 0.6451 - accuracy: 0.6555\n",
            "Epoch 7/10\n",
            "1/1 [==============================] - 0s 1ms/step - loss: 0.6440 - accuracy: 0.6555\n",
            "Epoch 8/10\n",
            "1/1 [==============================] - 0s 1ms/step - loss: 0.6430 - accuracy: 0.6555\n",
            "Epoch 9/10\n",
            "1/1 [==============================] - 0s 1ms/step - loss: 0.6420 - accuracy: 0.6555\n",
            "Epoch 10/10\n",
            "1/1 [==============================] - 0s 1ms/step - loss: 0.6411 - accuracy: 0.6555\n"
          ],
          "name": "stdout"
        },
        {
          "output_type": "execute_result",
          "data": {
            "text/plain": [
              "<tensorflow.python.keras.callbacks.History at 0x7f5b0f6b57b8>"
            ]
          },
          "metadata": {
            "tags": []
          },
          "execution_count": 9
        }
      ]
    },
    {
      "cell_type": "markdown",
      "metadata": {
        "id": "nXu6LDZICCPg"
      },
      "source": [
        "**Saída esperada:**\n",
        "\n",
        "    Epoch 1/10\n",
        "    209/209 [==============================] - 0s 1ms/sample - loss: 0.7257 - acc: 0.3876\n",
        "    Epoch 2/10\n",
        "    209/209 [==============================] - 0s 272us/sample - loss: 0.6633 - acc: 0.6555\n",
        "    Epoch 3/10\n",
        "    209/209 [==============================] - 0s 162us/sample - loss: 0.6539 - acc: 0.6459\n",
        "    Epoch 4/10\n",
        "    209/209 [==============================] - 0s 153us/sample - loss: 0.6515 - acc: 0.6507\n",
        "    Epoch 5/10\n",
        "    209/209 [==============================] - 0s 153us/sample - loss: 0.6502 - acc: 0.6507\n",
        "    Epoch 6/10\n",
        "    209/209 [==============================] - 0s 143us/sample - loss: 0.6491 - acc: 0.6507\n",
        "    Epoch 7/10\n",
        "    209/209 [==============================] - 0s 153us/sample - loss: 0.6481 - acc: 0.6507\n",
        "    Epoch 8/10\n",
        "    209/209 [==============================] - 0s 166us/sample - loss: 0.6471 - acc: 0.6507\n",
        "    Epoch 9/10\n",
        "    209/209 [==============================] - 0s 157us/sample - loss: 0.6461 - acc: 0.6507\n",
        "    Epoch 10/10\n",
        "    209/209 [==============================] - 0s 167us/sample - loss: 0.6451 - acc: 0.6507\n",
        "    \n",
        "Se o seu resultado é esse ou parecido com esse, você pode conluir que a rede está correta e é capaz de aprender os dados de treinamento. Assim, agora você está pronto para treinar a rede de verdade."
      ]
    },
    {
      "cell_type": "markdown",
      "metadata": {
        "id": "BwXbbBS_CCPh"
      },
      "source": [
        "### Exercício #6:\n",
        "\n",
        "Retreine a sua rede usando 1000 épocas. \n",
        "\n",
        "Use a opção de **não imprimir** os resultados parciais do treinamento para não gerar tantos dados. No Keras podemos escolher como monitoramos o progresso do treinamento com o parâmetro verbose do método fit, que nos dá as seguintes opções:\n",
        "\n",
        "- verbose: inteiro = 0, 1, or 2. \n",
        "- verbose = 0: silencioso;\n",
        "- verbose = 1; barra de progresso (padrão);\n",
        "- verbose = 2; uma linha por época.\n",
        "\n",
        "Guarde os resultados do treinamento para poder fazer um gráfico do processo de treinamento. Se tiver dúvidas, veja nas notas da Aula 7 como fazer isso.\n",
        "\n",
        "Não se esqueça de usar no método fit o parâmetro batch_size=209.\n",
        "\n",
        "Esse treinamento pode levar alguns minutos."
      ]
    },
    {
      "cell_type": "code",
      "metadata": {
        "id": "JjYD4YjKCCPh"
      },
      "source": [
        "# PARA VOCÊ FAZER: treinamento da RNA por 1000 épocas\n",
        "\n",
        "### COMECE AQUI ### (≈ 1 linha)\n",
        "history = rna.fit(train_set_x, train_set_y, epochs=1000, batch_size=209, verbose=0)\n",
        "### TERMINE AQUI ###"
      ],
      "execution_count": 10,
      "outputs": []
    },
    {
      "cell_type": "code",
      "metadata": {
        "id": "NVQc0FRqCCPj",
        "outputId": "af4359d3-c8dd-40a3-dbdf-2592adcfaa63",
        "colab": {
          "base_uri": "https://localhost:8080/",
          "height": 34
        }
      },
      "source": [
        "# Vamos verificar quais variáveis foram salvas no processo de treinamento\n",
        "history_dict = history.history\n",
        "history_dict.keys()"
      ],
      "execution_count": 11,
      "outputs": [
        {
          "output_type": "execute_result",
          "data": {
            "text/plain": [
              "dict_keys(['loss', 'accuracy'])"
            ]
          },
          "metadata": {
            "tags": []
          },
          "execution_count": 11
        }
      ]
    },
    {
      "cell_type": "markdown",
      "metadata": {
        "id": "CBQ6npJCCCPm"
      },
      "source": [
        "### 4.3 - Visualização do resultado do treinamento\n",
        "\n",
        "Para sabermos como o treinamento foi realizado precisamos visualizar a função de custo e a métrica ao longo do processo de treinamento.\n",
        "\n",
        "### Exercício #7: \n",
        "\n",
        "Implemente na célula abaixo a visualização dos resultados do treinamento. Observe que os valores da função de custo e da métrico estão no dicionário history com nomes `'loss'` e `'acc'`. \n",
        "\n",
        "Consulte as notas da Aula 7 para relembrar como fazer os gráficos da função de custo e da métrica em função do número de épocas."
      ]
    },
    {
      "cell_type": "code",
      "metadata": {
        "scrolled": false,
        "id": "gUx7Y8Z8CCPm",
        "outputId": "0b7647ff-31dc-48b8-d4b9-d5b4d9548ac5",
        "colab": {
          "base_uri": "https://localhost:8080/",
          "height": 282
        }
      },
      "source": [
        "# PARA VOCÊ FAZER: visualização do resultado do treinamento\n",
        "\n",
        "# Salva custo e exatidão em vetores\n",
        "### COMECE AQUI ### (≈ 2 linhas)\n",
        "custo = history_dict['loss']\n",
        "exatidao = history_dict['accuracy']\n",
        "### TERMINE AQUI ###\n",
        "\n",
        "# Cria vetor de épocas\n",
        "### COMECE AQUI ### (≈ 1 linha)\n",
        "epocas = np.arange(0, 1000, 1) \n",
        "### TERMINE AQUI ###\n",
        "\n",
        "# Gráfico do custo em funçaõ das épocas\n",
        "### COMECE AQUI ### (≈ 5 linhas)\n",
        "plt.plot(epocas, custo)\n",
        "### TERMINE AQUI ###\n",
        "\n",
        "# Gráfico da exatidão em função das épocas\n",
        "### COMECE AQUI ### (≈ 5 linhas)\n",
        "plt.plot(epocas, exatidao)\n",
        "### TERMINE AQUI ###"
      ],
      "execution_count": 12,
      "outputs": [
        {
          "output_type": "execute_result",
          "data": {
            "text/plain": [
              "[<matplotlib.lines.Line2D at 0x7f5b0d0113c8>]"
            ]
          },
          "metadata": {
            "tags": []
          },
          "execution_count": 12
        },
        {
          "output_type": "display_data",
          "data": {
            "image/png": "[encoded data removed]",
            "text/plain": [
              "<Figure size 432x288 with 1 Axes>"
            ]
          },
          "metadata": {
            "tags": [],
            "needs_background": "light"
          }
        }
      ]
    },
    {
      "cell_type": "markdown",
      "metadata": {
        "id": "YuLPX5EECCPo"
      },
      "source": [
        "**Saída esperada:**\n",
        "\n",
        "O comportamento esperado para a função de custo durante o treinamento é ela decrescer monotomicamente do início até o final. Para a exatidão, o comportamento esperado é ela aumentar durante o treinamento, apresentando algumas oscilações e alcançando um valor alto no final. \n",
        "\n",
        "Se você obteve esses resultados, então, a sua rede foi treinada de forma satisfatória e pode-se concluir que ela tem uma capacidade alta para se ajustar aos dados de treinamento."
      ]
    },
    {
      "cell_type": "markdown",
      "metadata": {
        "id": "RfpPVdAoCCPo"
      },
      "source": [
        "### 4.4 - Avaliação do desempenho da rede neural ###\n",
        "\n",
        "Após treinar a RNA é importante avaliar o seu desempenho com dados que não foram  utilizados no treinamento. Para isso usamos o dados de teste, que estão nos tensores test_set_x e test_set_y. \n",
        "\n",
        "### Exercício #8:\n",
        "\n",
        "Avalie a sua rede neural calculando os valores da função de custo e da exatidão para os dados de teste usando o método evaluate, conforme visto na Aula 7 - Ferramentas de desenvolvimento. Calcule esses valores também para os dados de treinamento para poder fazer comparação."
      ]
    },
    {
      "cell_type": "code",
      "metadata": {
        "id": "w5mnxcHqCCPp",
        "outputId": "2af80dcc-efd9-420f-d9c1-7be78200a86f",
        "colab": {
          "base_uri": "https://localhost:8080/",
          "height": 85
        }
      },
      "source": [
        "# PARA VOCÊ FAZER: calculo do custo e exatidão para os dados de teste\n",
        "\n",
        "# Usando método evaluate calcule o custo e a exatidão para os dados de treinamento e depois apresente os resultados\n",
        "### COMECE AQUI ### (≈ 1 linha)\n",
        "custo_e_metricas_train = rna.evaluate(train_set_x, train_set_y)\n",
        "### TERMINE AQUI ###\n",
        "print(custo_e_metricas_train)\n",
        "\n",
        "# Usando método evaluate calcule o custo e a exatidão para os dados de teste e depois apresente os resultados\n",
        "### COMECE AQUI ### (≈ 1 linha)\n",
        "custo_e_metricas_test = rna.evaluate(test_set_x, test_set_y)\n",
        "### TERMINE AQUI ###\n",
        "print(custo_e_metricas_test)"
      ],
      "execution_count": 13,
      "outputs": [
        {
          "output_type": "stream",
          "text": [
            "7/7 [==============================] - 0s 3ms/step - loss: 0.3143 - accuracy: 0.9187\n",
            "[0.3143274188041687, 0.9186602830886841]\n",
            "2/2 [==============================] - 0s 3ms/step - loss: 0.5964 - accuracy: 0.6800\n",
            "[0.596409022808075, 0.6800000071525574]\n"
          ],
          "name": "stdout"
        }
      ]
    },
    {
      "cell_type": "markdown",
      "metadata": {
        "collapsed": true,
        "id": "xuY4KsxmCCPq"
      },
      "source": [
        "**Resultados esperados:**\n",
        "\n",
        "    209/209 [==============================] - 0s 656us/sample - loss: 0.3270 - acc: 0.9091\n",
        "    [0.3269858589868226, 0.90909094]\n",
        "    50/50 [==============================] - 0s 260us/sample - loss: 0.5960 - acc: 0.7000\n",
        "    [0.5959848165512085, 0.7]\n",
        "\n",
        "**Comentários:**\n",
        "\n",
        "- A exatidação obtida com os dados de treinamento é cerca de 90%, isso significa que a sua rede é satisfatória para resolver esse problema. \n",
        "\n",
        "- A exatidão obtida com os dados de teste é de cerca de 68%. Esse resultado de fato não é muito bom para essa tarefa simples de classificação. \n",
        "\n",
        "Analisando esses dados surge uma dúvida. Porque a rede não foi capaz de apresentar um bom desempenho nos dados de teste, se os resultados foram bons nos dados de treinamento?"
      ]
    },
    {
      "cell_type": "markdown",
      "metadata": {
        "id": "BL0dwEFLCCPr"
      },
      "source": [
        "### Exercício #9:\n",
        "\n",
        "Para avaliar melhor o desepenho da sua rede calcule as saídas previstas dos exemplos do conjunto de teste usando o método predict e a função numpy round faça um gráfico com as classes reais e previstas dos dados do conjunto de teste. Se não souber como fazer consulte a Aula 7 - Ferramentas de desenvolvimento."
      ]
    },
    {
      "cell_type": "code",
      "metadata": {
        "id": "lWOBbozrCCPr",
        "outputId": "9075304b-1fcd-4b1e-efd8-892648862a4e",
        "colab": {
          "base_uri": "https://localhost:8080/",
          "height": 295
        }
      },
      "source": [
        "# PARA VOCÊ FAZER: calculo das classes previstas dos dados de teste\n",
        "\n",
        "# Usando método predict calcule as classes previstas\n",
        "### COMECE AQUI ### (≈ 2 linhas)\n",
        "yy_prev = rna.predict(test_set_x)\n",
        "yy_prev = np.round(yy_prev)\n",
        "\n",
        "### TERMINE AQUI ###\n",
        "\n",
        "# Transforma saida prevista em números inteiros\n",
        "yy_prev = yy_prev.astype(int)\n",
        "\n",
        "# Gráfico das classes reais e previstas\n",
        "### COMECE AQUI ### (≈ 7 linhas)\n",
        "plt.scatter(np.arange(0, len(test_set_y), 1), test_set_y, label='Classes reais',c='red')\n",
        "plt.scatter(np.arange(0, len(yy_prev), 1), yy_prev, label='Classes previstas',c='blue')\n",
        "plt.legend()\n",
        "plt.title(\"Classes reais e previstas\")\n",
        "plt.xlabel('Exemplos')\n",
        "plt.ylabel('Classes');\n",
        "### TERMINE AQUI ###"
      ],
      "execution_count": 14,
      "outputs": [
        {
          "output_type": "display_data",
          "data": {
            "image/png": "[encoded data removed]",
            "text/plain": [
              "<Figure size 432x288 with 1 Axes>"
            ]
          },
          "metadata": {
            "tags": [],
            "needs_background": "light"
          }
        }
      ]
    },
    {
      "cell_type": "markdown",
      "metadata": {
        "collapsed": true,
        "id": "cybEVcqyCCPt"
      },
      "source": [
        "**Saída esperada:**\n",
        "\n",
        "<img src=\"classes_previstas_test.png\" style=\"width:400px;height:280px;\">\n",
        "\n",
        "**Importante:**\n",
        "\n",
        "No Google Colab o comando  ```<img src=\"imagem\"> ``` para mostrar uma imagem em uma célula de texto não funciona. \n",
        "\n",
        "Para mostrar uma imagem em uma célula de texto (markdown) no **Google Colab** deve-se usar o seguinte procedimento:\n",
        "\n",
        "1. Na célula de texto clicar em inserir imagem. Ao fazer isso é aberta um ateal apar você escolher o arquivo da imagem. Navege no seu computador até achar a imagem e selecione a mesma.\n",
        "2. A imagem é carregada no Colab codificada em Base64, que consiste de uma longa lista de strings. Cada stirng dessa lista representa um pixel da imagem.\n"
      ]
    },
    {
      "cell_type": "markdown",
      "metadata": {
        "id": "aS6k01jICCPt"
      },
      "source": [
        "**Comentários:**\n",
        "\n",
        "- Uma previsão errada de classe pode ser dectada pelos círculos vermelhos, pois quando a classe prevista é igual à classe real o círculo azul é colocado em cima do vermelho tapando-o.\n",
        "\n",
        "- Provavelmente no grafico devem aparecer mais círculos azuis do que vermelhos indicando que existem mais acertos do que erros na previsão das classes."
      ]
    },
    {
      "cell_type": "markdown",
      "metadata": {
        "collapsed": true,
        "id": "rvjZjlMrCCPu"
      },
      "source": [
        "Use o código a seguir, mudando a variável 'index', para você visualizar as imagens e a classe prevista dos exemplos de teste."
      ]
    },
    {
      "cell_type": "code",
      "metadata": {
        "id": "7OuuCmO6CCPu",
        "outputId": "21443554-fcf9-4fe6-a50c-b327d791e09a",
        "colab": {
          "base_uri": "https://localhost:8080/",
          "height": 285
        }
      },
      "source": [
        "# Exemplo de classificação de uma imagem.\n",
        "index = 15\n",
        "plt.imshow(test_set_x[index,:].reshape((num_px, num_px, 3)))\n",
        "print (\"y = \" + str(test_set_y[index]) + \", imagem é prevista como sendo uma '\" + classes[np.squeeze(yy_prev[index])].decode(\"utf-8\"))"
      ],
      "execution_count": 15,
      "outputs": [
        {
          "output_type": "stream",
          "text": [
            "y = [1], imagem é prevista como sendo uma 'cat\n"
          ],
          "name": "stdout"
        },
        {
          "output_type": "display_data",
          "data": {
            "image/png": "[encoded data removed]",
            "text/plain": [
              "<Figure size 432x288 with 1 Axes>"
            ]
          },
          "metadata": {
            "tags": [],
            "needs_background": "light"
          }
        }
      ]
    },
    {
      "cell_type": "markdown",
      "metadata": {
        "id": "qZyYspQhCCPw"
      },
      "source": [
        "**Interpretação dos resultados:**\n",
        "\n",
        "O custo decrescendo durante o treinamento mostra que os parâmetros estão sendo ajustados de forma a que a rede está aprendendo os dados de treinamento. Como o custo obtido não é muito baixo, então, provavelmente é possível treinar ainda mais a rede para obter melhores resultados nos dados de treinamento. \n",
        "\n",
        "Tente refazer as etapas 4.2, 4.3 e 4.4, aumentando o número de épocas para algo em torno de 5000, para retreinar a rede. Você verá que o custo de treinamento diminui até praticamente zero e a exatidão aumenta para quase 100%. \n",
        "\n",
        "**Importante:** só tente treinar com mais épocas após entregar o seu trabalho, pois os resultados esperados são para o treinamento com 1000 épocas.\n",
        "\n",
        "Contudo, nem sempre é bom treinar a rede até se obter custo perto de zero e exatidão 100% para os dados de treinamento. Em geral quando isso acontece o custo e a exatidão para os dados de teste pioraram. Nesse caso, pode ocorrer que a rede está memorizando os dados de treinamento e não generalizando a solução do problema. Veremos daqui algumas aulas como resolver esse problema. Mas podemos verificar esse fato retreinando a rede para um número maior de épocas. "
      ]
    },
    {
      "cell_type": "markdown",
      "metadata": {
        "id": "dylzjX04CCPw"
      },
      "source": [
        "## 5 - Desenvolvimento e teste da rede neural deep-learning ## \n",
        "\n",
        "Nessa etapa do trabalho você vai configurar, treinar e testar uma rede neural deep learning.\n",
        "\n",
        "**Qualquer dúvida que você possa ter de como fazer essa parte do trabalho, ela pode ser sanada olhando as notas da Aula 7 - Ferramentas de Desenvolvmento.**\n",
        "\n",
        "### Exercício #10:\n",
        "\n",
        "Usando o Keras configure e crie uma rede neural com as seguintes caracteríticas:\n",
        "\n",
        "- três camadas intermediárias com função de ativação tipo ReLu;\n",
        "- número de neurônios das camadas intermediárias: 64, 32, 16;\n",
        "- camada de saída deve possuir um único neurônio e ter função de ativação sigmóide.\n",
        "\n",
        "Essa rede deve ser criada dentro de uma função (build_model) e os argumentos dessa função são: a dimensão dos dados de entrada e os números de neurônios das diversas camadas."
      ]
    },
    {
      "cell_type": "code",
      "metadata": {
        "id": "Ed0nOlk8CCPx",
        "outputId": "1ee8f390-753d-4aaf-baf1-c153da5ee6c1",
        "colab": {
          "base_uri": "https://localhost:8080/",
          "height": 289
        }
      },
      "source": [
        "# PARA VOCÊ FAZER: configuração da rede deep-learning\n",
        "\n",
        "# Importar do Keras modelos e camadas\n",
        "from tensorflow.keras import models\n",
        "from tensorflow.keras import layers\n",
        "\n",
        "def build_model(data_shape,n1,n2,n3,n4):\n",
        "    \"\"\"\n",
        "    Essa função configura uma rede neural deep-learnig\n",
        "    \n",
        "    Argumentos:\n",
        "    data_shape = tuple com dimensões dos dados de entrada da rede\n",
        "    n1 = número de neurônios da primeira camada\n",
        "    n2 = número de neurônios da segunda camada\n",
        "    n3 = número de neurônios da terceira camada\n",
        "    n4 = número de neurônios da camada de saída\n",
        "        \n",
        "    Retorna: modelo da rede neural\n",
        "    \"\"\"\n",
        "    \n",
        "    np.random.seed(3)\n",
        "    \n",
        "    model = models.Sequential()\n",
        "    \n",
        "    # Adicione as camadas em seu modelo de RNA\n",
        "    #### COMECE AQUI ### (≈ 4 linhas)\n",
        "    model.add(Dense(n1, 'relu', input_shape=(data_shape)))\n",
        "    model.add(Dense(n2, 'relu'))\n",
        "    model.add(Dense(n3, 'relu'))\n",
        "    model.add(Dense(n4, 'sigmoid'))\n",
        "    ### TERMINE AQUI ###\n",
        "    \n",
        "    return model\n",
        "\n",
        "# Redefine semente para geração de números aleatórios\n",
        "np.random.seed(3)\n",
        "\n",
        "# Dimensão dos dados de entrada\n",
        "data_shape = (12288,)\n",
        "\n",
        "# Definição dos números de neurônios das camadas\n",
        "#### COMECE AQUI ### (≈ 4 linhas)\n",
        "n1 = 64\n",
        "n2 = 32\n",
        "n3 = 16\n",
        "n4 = 1\n",
        "### TERMINE AQUI ###\n",
        "\n",
        "# Cria rede neural deep learning\n",
        "#### COMECE AQUI ### (≈ 1 linha)\n",
        "rnadl = build_model(data_shape, n1,n2,n3,n4)\n",
        "### TERMINE AQUI ###\n",
        "rnadl.summary()"
      ],
      "execution_count": 16,
      "outputs": [
        {
          "output_type": "stream",
          "text": [
            "Model: \"sequential_1\"\n",
            "_________________________________________________________________\n",
            "Layer (type)                 Output Shape              Param #   \n",
            "=================================================================\n",
            "dense_2 (Dense)              (None, 64)                786496    \n",
            "_________________________________________________________________\n",
            "dense_3 (Dense)              (None, 32)                2080      \n",
            "_________________________________________________________________\n",
            "dense_4 (Dense)              (None, 16)                528       \n",
            "_________________________________________________________________\n",
            "dense_5 (Dense)              (None, 1)                 17        \n",
            "=================================================================\n",
            "Total params: 789,121\n",
            "Trainable params: 789,121\n",
            "Non-trainable params: 0\n",
            "_________________________________________________________________\n"
          ],
          "name": "stdout"
        }
      ]
    },
    {
      "cell_type": "markdown",
      "metadata": {
        "id": "7Rly2bnACCPz"
      },
      "source": [
        "**Saída esperada:**\n",
        "\n",
        "    Model: \"sequential_1\"\n",
        "    _________________________________________________________________\n",
        "    Layer (type)                 Output Shape              Param #   \n",
        "    =================================================================\n",
        "    dense_2 (Dense)              (None, 64)                786496    \n",
        "    _________________________________________________________________\n",
        "    dense_3 (Dense)              (None, 32)                2080      \n",
        "    _________________________________________________________________\n",
        "    dense_4 (Dense)              (None, 16)                528       \n",
        "    _________________________________________________________________\n",
        "    dense_5 (Dense)              (None, 1)                 17        \n",
        "    =================================================================\n",
        "    Total params: 789,121\n",
        "    Trainable params: 789,121\n",
        "    Non-trainable params: 0\n",
        "    _________________________________________________________________"
      ]
    },
    {
      "cell_type": "markdown",
      "metadata": {
        "id": "n23uHvI_CCPz"
      },
      "source": [
        "### Exercício #11:\n",
        "\n",
        "Repita os itens 4.2, 4.3 e 4.4 para a rede neural deep-learning. Use `rnadl` como nome da rede e acrescentando as letras `dl` nas variáveis de custo, exatidao e epocas.\n",
        "\n",
        "Na célula abaixo compile e treine a sua rede deep-learning para 10 épocas. Esse treinamento é só para verificar se o programa está correto."
      ]
    },
    {
      "cell_type": "code",
      "metadata": {
        "id": "sS1Vd4_QCCPz",
        "outputId": "8d9f9a9e-3bf2-4b13-ce79-843df7b6f42b",
        "colab": {
          "base_uri": "https://localhost:8080/",
          "height": 374
        }
      },
      "source": [
        "# PARA VOCÊ FAZER: compilação e treinamento da rede deep-learning\n",
        "\n",
        "# Compilação da rede \n",
        "### COMECE AQUI ### (≈ 2 linhas)\n",
        "dlopt = optimizers.SGD()\n",
        "rnadl.compile(dlopt, 'binary_crossentropy', 'accuracy')\n",
        "### TERMINE AQUI ###\n",
        "\n",
        "# Teste de treinamento da rede\n",
        "### COMECE AQUI ### (≈ 1 linha)\n",
        "rnadl.fit(train_set_x, train_set_y, epochs=10, batch_size=209)\n",
        "### TERMINE AQUI ###"
      ],
      "execution_count": 17,
      "outputs": [
        {
          "output_type": "stream",
          "text": [
            "Epoch 1/10\n",
            "1/1 [==============================] - 0s 1ms/step - loss: 0.9952 - accuracy: 0.3445\n",
            "Epoch 2/10\n",
            "1/1 [==============================] - 0s 1ms/step - loss: 0.7370 - accuracy: 0.3397\n",
            "Epoch 3/10\n",
            "1/1 [==============================] - 0s 1ms/step - loss: 0.6978 - accuracy: 0.4402\n",
            "Epoch 4/10\n",
            "1/1 [==============================] - 0s 1ms/step - loss: 0.6869 - accuracy: 0.5933\n",
            "Epoch 5/10\n",
            "1/1 [==============================] - 0s 1ms/step - loss: 0.6798 - accuracy: 0.6077\n",
            "Epoch 6/10\n",
            "1/1 [==============================] - 0s 1ms/step - loss: 0.6751 - accuracy: 0.6316\n",
            "Epoch 7/10\n",
            "1/1 [==============================] - 0s 1ms/step - loss: 0.6714 - accuracy: 0.6411\n",
            "Epoch 8/10\n",
            "1/1 [==============================] - 0s 2ms/step - loss: 0.6681 - accuracy: 0.6507\n",
            "Epoch 9/10\n",
            "1/1 [==============================] - 0s 1ms/step - loss: 0.6655 - accuracy: 0.6507\n",
            "Epoch 10/10\n",
            "1/1 [==============================] - 0s 1ms/step - loss: 0.6633 - accuracy: 0.6507\n"
          ],
          "name": "stdout"
        },
        {
          "output_type": "execute_result",
          "data": {
            "text/plain": [
              "<tensorflow.python.keras.callbacks.History at 0x7f5b0beeafd0>"
            ]
          },
          "metadata": {
            "tags": []
          },
          "execution_count": 17
        }
      ]
    },
    {
      "cell_type": "markdown",
      "metadata": {
        "id": "mrY0czGMCCP1"
      },
      "source": [
        "**Saída esparada:**\n",
        "\n",
        "    Epoch 1/10\n",
        "    209/209 [==============================] - 0s 1ms/sample - loss: 0.7339 - acc: 0.3206\n",
        "    Epoch 2/10\n",
        "    209/209 [==============================] - 0s 175us/sample - loss: 0.6939 - acc: 0.5072\n",
        "    Epoch 3/10\n",
        "    209/209 [==============================] - 0s 172us/sample - loss: 0.6786 - acc: 0.5933\n",
        "    Epoch 4/10\n",
        "    209/209 [==============================] - 0s 191us/sample - loss: 0.6661 - acc: 0.6268\n",
        "    Epoch 5/10\n",
        "    209/209 [==============================] - 0s 177us/sample - loss: 0.6588 - acc: 0.6316\n",
        "    Epoch 6/10\n",
        "    209/209 [==============================] - 0s 167us/sample - loss: 0.6529 - acc: 0.6459\n",
        "    Epoch 7/10\n",
        "    209/209 [==============================] - 0s 162us/sample - loss: 0.6479 - acc: 0.6507\n",
        "    Epoch 8/10\n",
        "    209/209 [==============================] - 0s 172us/sample - loss: 0.6433 - acc: 0.6507\n",
        "    Epoch 9/10\n",
        "    209/209 [==============================] - 0s 167us/sample - loss: 0.6391 - acc: 0.6555\n",
        "    Epoch 10/10\n",
        "    209/209 [==============================] - 0s 167us/sample - loss: 0.6359 - acc: 0.6555"
      ]
    },
    {
      "cell_type": "markdown",
      "metadata": {
        "id": "iVpnyiqNCCP2"
      },
      "source": [
        "Na célula abaixo treine a sua rede deep-learning por 1000 épocas. Use verbose = 0 e batch_size = 209."
      ]
    },
    {
      "cell_type": "code",
      "metadata": {
        "id": "6PdAX0fDCCP2",
        "outputId": "2a62bfa2-a88a-47fc-e3e5-e848e5dcdbd1",
        "colab": {
          "base_uri": "https://localhost:8080/",
          "height": 34
        }
      },
      "source": [
        "# PARA VOCÊ FAZER: treinamento da rede deep-learning por 1000 épocas\n",
        "\n",
        "### COMECE AQUI ### (≈ 1 linha)\n",
        "historydl =  rnadl.fit(train_set_x, train_set_y, epochs=1000, batch_size=209, verbose=0)\n",
        "### TERMINE AQUI ###\n",
        "\n",
        "# Vamos verificar quais variáveis foram salvas no processo de treinamento\n",
        "historydl_dict = historydl.history\n",
        "historydl_dict.keys()"
      ],
      "execution_count": 18,
      "outputs": [
        {
          "output_type": "execute_result",
          "data": {
            "text/plain": [
              "dict_keys(['loss', 'accuracy'])"
            ]
          },
          "metadata": {
            "tags": []
          },
          "execution_count": 18
        }
      ]
    },
    {
      "cell_type": "markdown",
      "metadata": {
        "id": "293c_SdjCCP6"
      },
      "source": [
        "### Exercício #12:\n",
        "\n",
        "Na célula abaixo introduza os comandos para visualizar os resultados da sua rede deep-learning."
      ]
    },
    {
      "cell_type": "code",
      "metadata": {
        "scrolled": false,
        "id": "j7F8dod8CCP6",
        "outputId": "e062e851-da88-468a-d283-1dc801bf2491",
        "colab": {
          "base_uri": "https://localhost:8080/",
          "height": 265
        }
      },
      "source": [
        "# PARA VOCÊ FAZER: visualização do resultado do treinamento da rede deep-learning\n",
        "\n",
        "# Salva custo e exatidão em vetores\n",
        "### COMECE AQUI ### (≈ 2 linhas)\n",
        "custodl  = historydl_dict['loss']\n",
        "exatidaodl = historydl_dict['accuracy']\n",
        "### TERMINE AQUI ###\n",
        "\n",
        "# Cria vetor de épocas\n",
        "### COMECE AQUI ### (≈ 1 linha)\n",
        "epocasdl = np.arange(0, 1000, 1)\n",
        "### TERMINE AQUI ###\n",
        "\n",
        "# Gráfico do custo em funçaõ das épocas\n",
        "### COMECE AQUI ### (≈ 5 linhas)\n",
        "plt.plot(epocasdl, custodl)\n",
        "### TERMINE AQUI ###\n",
        "\n",
        "# Gráfico da exatidão em função das épocas\n",
        "### COMECE AQUI ### (≈ 5 linhas)\n",
        "plt.plot(epocasdl, exatidaodl);\n",
        "### TERMINE AQUI ###"
      ],
      "execution_count": 19,
      "outputs": [
        {
          "output_type": "display_data",
          "data": {
            "image/png": "[encoded data removed]",
            "text/plain": [
              "<Figure size 432x288 with 1 Axes>"
            ]
          },
          "metadata": {
            "tags": [],
            "needs_background": "light"
          }
        }
      ]
    },
    {
      "cell_type": "markdown",
      "metadata": {
        "id": "38LoIFd6CCP8"
      },
      "source": [
        "### Exercício #13:\n",
        "\n",
        "Na célula abaixo introduza os comandos para avaliar a sua rede deep-learning para os dados de treinamento e de teste."
      ]
    },
    {
      "cell_type": "code",
      "metadata": {
        "id": "0YQYGXFhCCP8",
        "outputId": "5a134f92-5b02-4312-d01d-0a3d1aba5ed9",
        "colab": {
          "base_uri": "https://localhost:8080/",
          "height": 85
        }
      },
      "source": [
        "# PARA VOCÊ FAZER: calculo do custo e exatidão para os dados de treinamento e de teste para a rede deep-learning\n",
        "\n",
        "# Usando método evaluate calcule o custo e a exatidão dos dados de treinamento e depois apresente os resultados\n",
        "### COMECE AQUI ### (≈ 1 linha)\n",
        "custo_e_metricasdl_train = rnadl.evaluate(train_set_x, train_set_y)\n",
        "### TERMINE AQUI ###\n",
        "print(custo_e_metricasdl_train)\n",
        "\n",
        "# Usando método evaluate calcule o custo e a exatidão dos dados de teste e depois apresente os resultados\n",
        "### COMECE AQUI ### (≈ 1 linha)\n",
        "custo_e_metricasdl_test = rnadl.evaluate(test_set_x, test_set_y)\n",
        "### TERMINE AQUI ###\n",
        "print(custo_e_metricasdl_test)"
      ],
      "execution_count": 20,
      "outputs": [
        {
          "output_type": "stream",
          "text": [
            "7/7 [==============================] - 0s 3ms/step - loss: 0.0194 - accuracy: 1.0000\n",
            "[0.01944160833954811, 1.0]\n",
            "2/2 [==============================] - 0s 3ms/step - loss: 0.9461 - accuracy: 0.7600\n",
            "[0.9460756778717041, 0.7599999904632568]\n"
          ],
          "name": "stdout"
        }
      ]
    },
    {
      "cell_type": "markdown",
      "metadata": {
        "id": "8axsIFGCCCP-"
      },
      "source": [
        "**Saída esperada:**\n",
        "\n",
        "    209/209 [==============================] - 0s 482us/sample - loss: 0.0115 - acc: 1.0000\n",
        "    [0.011545336649320913, 1.0]\n",
        "    50/50 [==============================] - 0s 399us/sample - loss: 1.0013 - acc: 0.7400\n",
        "    [1.0013008093833924, 0.74]"
      ]
    },
    {
      "cell_type": "markdown",
      "metadata": {
        "id": "NaxNbeS3CCP-"
      },
      "source": [
        "### Exercício #14:\n",
        "\n",
        "Na célula abaixo introduza os comandos para clcular as classes previstas para os dados de teste."
      ]
    },
    {
      "cell_type": "code",
      "metadata": {
        "id": "u0ggZ_9_CCP_",
        "outputId": "30bf9dd1-07cf-4f3b-a192-2cf68fd1e71d",
        "colab": {
          "base_uri": "https://localhost:8080/",
          "height": 295
        }
      },
      "source": [
        "# PARA VOCÊ FAZER: calculo das classes previstas dos dados de teste para a rede deep-learning\n",
        "\n",
        "# Usando método predict calcule as classes previstas\n",
        "### COMECE AQUI ### (≈ 2 linhas)\n",
        "yy_prevdl = np.round(rnadl.predict(test_set_x))\n",
        "### TERMINE AQUI ###\n",
        "\n",
        "# Transforma saida prevista em números inteiros\n",
        "yy_prevdl = yy_prevdl.astype(int)\n",
        "\n",
        "# Gráfico das classes reais e previstas\n",
        "### COMECE AQUI ### (≈ 7 linhas)\n",
        "plt.scatter(np.arange(0, len(test_set_y), 1), test_set_y, label='Classes reais',c='red')\n",
        "plt.scatter(np.arange(0, len(yy_prevdl), 1), yy_prevdl, label='Classes previstas',c='blue')\n",
        "plt.legend()\n",
        "plt.title(\"Classes reais e previstas\")\n",
        "plt.xlabel('Exemplos')\n",
        "plt.ylabel('Classes');\n",
        "### TERMINE AQUI ###"
      ],
      "execution_count": 21,
      "outputs": [
        {
          "output_type": "display_data",
          "data": {
            "image/png": "[encoded data removed]",
            "text/plain": [
              "<Figure size 432x288 with 1 Axes>"
            ]
          },
          "metadata": {
            "tags": [],
            "needs_background": "light"
          }
        }
      ]
    },
    {
      "cell_type": "markdown",
      "metadata": {
        "id": "oP-F4aa1CCQA"
      },
      "source": [
        "**Saída esperada:**\n",
        "\n",
        "O número de erros de classificação é igual a 12 (ou 13), representado por 12 (13) bolinhas vermelhas, o que significa 76% (74%) dos 50 exemplos de teste.\n",
        "\n",
        "**Interpretação dos resultados:**\n",
        "\n",
        "Se você fez tudo correto, então, os resultados obtidos do custo e da exatidão para os dados de teste são melhores para a rede neural deep-learning do que para a rede neural rasa, como era de se esperar.\n",
        "\n",
        "Observe que a rede deep learning possui quase o mesmo número de parâmetros do que a rede rasa, mas obtém resultados mais satisfatórios. \n",
        "\n",
        "O que fez com que os resultados da rede deep learning fossem muito melhores do que a rede rasa? O número de camadas, o tipo de função de ativação, ou simplesmenete o número de parâmetros?"
      ]
    },
    {
      "cell_type": "markdown",
      "metadata": {
        "id": "HIyBTR3xM649"
      },
      "source": [
        "**Resposta:** Com um número maior de camadas sofrendo influência de funções da ativação, a rede desenvolve a habilidade de identificar padrões mais abstratos e cada vez menos lineares. \n",
        "\n",
        "Portanto o aumento do desempenho é por ação das funções de ativação em camadas mais profundas; o número de parâmetros não importa tanto - como demonstrado - uma vez que se a arquitetura da rede fosse a mesma, porém sem funções de ativação nas camadas o resultado seria o mesmo de uma função de transferência linear, visto que só iria ocorrer simples multiplicação de matrizes."
      ]
    },
    {
      "cell_type": "markdown",
      "metadata": {
        "collapsed": true,
        "id": "z8G9jYs9CCQB"
      },
      "source": [
        "<font color='blue'>\n",
        "    \n",
        "**O que é importante lembrar:**\n",
        "- A escolha do número de neurônios das camadas da rede é muito importane\n",
        "- O tipo de função de ativação usada pode fazer diferença nos resultados\n",
        "- Não é uma tarefa fácil desenvolver uma rede neural que apresenta um desempenho bom, mas não é impossível"
      ]
    },
    {
      "cell_type": "markdown",
      "metadata": {
        "collapsed": true,
        "id": "xcAOEhdfCCQB"
      },
      "source": [
        "## 6 - Teste as redes que você desenvolveu com sua própria imagem (exercício opcional) ##\n",
        "\n",
        "Você pode usar qualquer imagem e verificar se as suas redes neurais são eficientes. Para fazer isso faça:\n",
        "    1. Clique em \"File\" na parte superior desse notebook e depois clique \"Open\" para ir para o seu diretório.\n",
        "    2. Adicione a sua imagem nesse diretório.\n",
        "    3. Troque o nome do arquivo onde se encontra a imagem no código abaixo.\n",
        "    4. Execute o código e verifique se a rede acerta (1 = imagem mostra gato, 0 = imagem não tem gato)!"
      ]
    },
    {
      "cell_type": "code",
      "metadata": {
        "scrolled": false,
        "id": "rNp0MhzfCCQB"
      },
      "source": [
        "# PARA VOCÊ FAZER: teste da rede com suas imagens\n",
        "\n",
        "## COMECE AQUI ## (coloque o nome do arquivo com a sua imagem) \n",
        "#my_image = \n",
        "## TERMINE AQUI ##\n",
        "\n",
        "# Pré-processamento da imagem para acertar dimensões.\n",
        "fname = my_image\n",
        "image = Image.open(fname)\n",
        "my_image = image.resize((num_px, num_px), Image.ANTIALIAS)\n",
        "my_image = np.array(my_image)\n",
        "my_image = my_image.reshape((1, num_px*num_px*3))\n",
        "my_image = my_image.astype(float)\n",
        "\n",
        "# Previsão da rede neural\n",
        "y_prev_myimage = rnadl.predict(my_image)\n",
        "my_predicted_image = np.round(y_prev_myimage)\n",
        "my_predicted_image = my_predicted_image.astype(int)\n",
        "\n",
        "plt.imshow(image)\n",
        "print(\"y = \" + str(np.squeeze(my_predicted_image)) + \", sua rede prevê \\\"\" + classes[int(np.squeeze(my_predicted_image)),].decode(\"utf-8\") +  \"\\\" picture.\")"
      ],
      "execution_count": null,
      "outputs": []
    },
    {
      "cell_type": "markdown",
      "metadata": {
        "id": "qqg2rn32CCQE"
      },
      "source": [
        "Finalmente, como sugestão, tente fazer alterações de parâmetros e executar o notebook novamente. Mas lembre-se de salvar o seu trabalho em um arquivo pdf e enviar para avaliação antes de modificar o notebook e realizar os seus testes.\n",
        "\n",
        "Algumas sugestões do que alterar:\n",
        "\n",
        "- Número de camadas;\n",
        "- Número de neurônios nas camadas;\n",
        "- Funções de ativação;\n",
        "- Tente impor um taxa de aprendizado;\n",
        "- Tente outras formas de normalizar os dados.\n"
      ]
    }
  ]
}