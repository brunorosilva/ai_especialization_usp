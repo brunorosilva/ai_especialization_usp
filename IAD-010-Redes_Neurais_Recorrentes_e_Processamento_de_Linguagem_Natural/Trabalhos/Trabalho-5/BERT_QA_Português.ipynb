{
  "nbformat": 4,
  "nbformat_minor": 0,
  "metadata": {
    "colab": {
      "name": "BERT QA Português",
      "provenance": []
    },
    "kernelspec": {
      "name": "python3",
      "display_name": "Python 3"
    },
    "language_info": {
      "name": "python"
    },
    "accelerator": "GPU",
    "widgets": {
      "application/vnd.jupyter.widget-state+json": {
        "0679c609f443451886020119f41b1063": {
          "model_module": "@jupyter-widgets/controls",
          "model_name": "HBoxModel",
          "state": {
            "_view_name": "HBoxView",
            "_dom_classes": [],
            "_model_name": "HBoxModel",
            "_view_module": "@jupyter-widgets/controls",
            "_model_module_version": "1.5.0",
            "_view_count": null,
            "_view_module_version": "1.5.0",
            "box_style": "",
            "layout": "IPY_MODEL_ff8fd1a410f941699d78255a24a80e61",
            "_model_module": "@jupyter-widgets/controls",
            "children": [
              "IPY_MODEL_d91ed1f540994b22abd0857d00fbedb9",
              "IPY_MODEL_1814809bdca74ab6886b106c866f2bf3"
            ]
          }
        },
        "ff8fd1a410f941699d78255a24a80e61": {
          "model_module": "@jupyter-widgets/base",
          "model_name": "LayoutModel",
          "state": {
            "_view_name": "LayoutView",
            "grid_template_rows": null,
            "right": null,
            "justify_content": null,
            "_view_module": "@jupyter-widgets/base",
            "overflow": null,
            "_model_module_version": "1.2.0",
            "_view_count": null,
            "flex_flow": null,
            "width": null,
            "min_width": null,
            "border": null,
            "align_items": null,
            "bottom": null,
            "_model_module": "@jupyter-widgets/base",
            "top": null,
            "grid_column": null,
            "overflow_y": null,
            "overflow_x": null,
            "grid_auto_flow": null,
            "grid_area": null,
            "grid_template_columns": null,
            "flex": null,
            "_model_name": "LayoutModel",
            "justify_items": null,
            "grid_row": null,
            "max_height": null,
            "align_content": null,
            "visibility": null,
            "align_self": null,
            "height": null,
            "min_height": null,
            "padding": null,
            "grid_auto_rows": null,
            "grid_gap": null,
            "max_width": null,
            "order": null,
            "_view_module_version": "1.2.0",
            "grid_template_areas": null,
            "object_position": null,
            "object_fit": null,
            "grid_auto_columns": null,
            "margin": null,
            "display": null,
            "left": null
          }
        },
        "d91ed1f540994b22abd0857d00fbedb9": {
          "model_module": "@jupyter-widgets/controls",
          "model_name": "FloatProgressModel",
          "state": {
            "_view_name": "ProgressView",
            "style": "IPY_MODEL_fe10ded80575486c80cedafccc1dcf1d",
            "_dom_classes": [],
            "description": "Downloading: 100%",
            "_model_name": "FloatProgressModel",
            "bar_style": "success",
            "max": 862,
            "_view_module": "@jupyter-widgets/controls",
            "_model_module_version": "1.5.0",
            "value": 862,
            "_view_count": null,
            "_view_module_version": "1.5.0",
            "orientation": "horizontal",
            "min": 0,
            "description_tooltip": null,
            "_model_module": "@jupyter-widgets/controls",
            "layout": "IPY_MODEL_a0a5df6c0b1a4bd69b72a1ca2eae3d90"
          }
        },
        "1814809bdca74ab6886b106c866f2bf3": {
          "model_module": "@jupyter-widgets/controls",
          "model_name": "HTMLModel",
          "state": {
            "_view_name": "HTMLView",
            "style": "IPY_MODEL_c164e992d89940abaa2464e54882b5f5",
            "_dom_classes": [],
            "description": "",
            "_model_name": "HTMLModel",
            "placeholder": "​",
            "_view_module": "@jupyter-widgets/controls",
            "_model_module_version": "1.5.0",
            "value": " 862/862 [00:00&lt;00:00, 19.7kB/s]",
            "_view_count": null,
            "_view_module_version": "1.5.0",
            "description_tooltip": null,
            "_model_module": "@jupyter-widgets/controls",
            "layout": "IPY_MODEL_f86098bcde5e4d46ab981a6e39408dc7"
          }
        },
        "fe10ded80575486c80cedafccc1dcf1d": {
          "model_module": "@jupyter-widgets/controls",
          "model_name": "ProgressStyleModel",
          "state": {
            "_view_name": "StyleView",
            "_model_name": "ProgressStyleModel",
            "description_width": "initial",
            "_view_module": "@jupyter-widgets/base",
            "_model_module_version": "1.5.0",
            "_view_count": null,
            "_view_module_version": "1.2.0",
            "bar_color": null,
            "_model_module": "@jupyter-widgets/controls"
          }
        },
        "a0a5df6c0b1a4bd69b72a1ca2eae3d90": {
          "model_module": "@jupyter-widgets/base",
          "model_name": "LayoutModel",
          "state": {
            "_view_name": "LayoutView",
            "grid_template_rows": null,
            "right": null,
            "justify_content": null,
            "_view_module": "@jupyter-widgets/base",
            "overflow": null,
            "_model_module_version": "1.2.0",
            "_view_count": null,
            "flex_flow": null,
            "width": null,
            "min_width": null,
            "border": null,
            "align_items": null,
            "bottom": null,
            "_model_module": "@jupyter-widgets/base",
            "top": null,
            "grid_column": null,
            "overflow_y": null,
            "overflow_x": null,
            "grid_auto_flow": null,
            "grid_area": null,
            "grid_template_columns": null,
            "flex": null,
            "_model_name": "LayoutModel",
            "justify_items": null,
            "grid_row": null,
            "max_height": null,
            "align_content": null,
            "visibility": null,
            "align_self": null,
            "height": null,
            "min_height": null,
            "padding": null,
            "grid_auto_rows": null,
            "grid_gap": null,
            "max_width": null,
            "order": null,
            "_view_module_version": "1.2.0",
            "grid_template_areas": null,
            "object_position": null,
            "object_fit": null,
            "grid_auto_columns": null,
            "margin": null,
            "display": null,
            "left": null
          }
        },
        "c164e992d89940abaa2464e54882b5f5": {
          "model_module": "@jupyter-widgets/controls",
          "model_name": "DescriptionStyleModel",
          "state": {
            "_view_name": "StyleView",
            "_model_name": "DescriptionStyleModel",
            "description_width": "",
            "_view_module": "@jupyter-widgets/base",
            "_model_module_version": "1.5.0",
            "_view_count": null,
            "_view_module_version": "1.2.0",
            "_model_module": "@jupyter-widgets/controls"
          }
        },
        "f86098bcde5e4d46ab981a6e39408dc7": {
          "model_module": "@jupyter-widgets/base",
          "model_name": "LayoutModel",
          "state": {
            "_view_name": "LayoutView",
            "grid_template_rows": null,
            "right": null,
            "justify_content": null,
            "_view_module": "@jupyter-widgets/base",
            "overflow": null,
            "_model_module_version": "1.2.0",
            "_view_count": null,
            "flex_flow": null,
            "width": null,
            "min_width": null,
            "border": null,
            "align_items": null,
            "bottom": null,
            "_model_module": "@jupyter-widgets/base",
            "top": null,
            "grid_column": null,
            "overflow_y": null,
            "overflow_x": null,
            "grid_auto_flow": null,
            "grid_area": null,
            "grid_template_columns": null,
            "flex": null,
            "_model_name": "LayoutModel",
            "justify_items": null,
            "grid_row": null,
            "max_height": null,
            "align_content": null,
            "visibility": null,
            "align_self": null,
            "height": null,
            "min_height": null,
            "padding": null,
            "grid_auto_rows": null,
            "grid_gap": null,
            "max_width": null,
            "order": null,
            "_view_module_version": "1.2.0",
            "grid_template_areas": null,
            "object_position": null,
            "object_fit": null,
            "grid_auto_columns": null,
            "margin": null,
            "display": null,
            "left": null
          }
        },
        "7ca97b9ead6f46aaa4060112812b7048": {
          "model_module": "@jupyter-widgets/controls",
          "model_name": "HBoxModel",
          "state": {
            "_view_name": "HBoxView",
            "_dom_classes": [],
            "_model_name": "HBoxModel",
            "_view_module": "@jupyter-widgets/controls",
            "_model_module_version": "1.5.0",
            "_view_count": null,
            "_view_module_version": "1.5.0",
            "box_style": "",
            "layout": "IPY_MODEL_90d0b6a391244e96a5aa4c6c5b84f10e",
            "_model_module": "@jupyter-widgets/controls",
            "children": [
              "IPY_MODEL_0dc3a16d2ee74cdb8edbb9f12b822d92",
              "IPY_MODEL_fc1707e1149542daa44cfc642ea6ba54"
            ]
          }
        },
        "90d0b6a391244e96a5aa4c6c5b84f10e": {
          "model_module": "@jupyter-widgets/base",
          "model_name": "LayoutModel",
          "state": {
            "_view_name": "LayoutView",
            "grid_template_rows": null,
            "right": null,
            "justify_content": null,
            "_view_module": "@jupyter-widgets/base",
            "overflow": null,
            "_model_module_version": "1.2.0",
            "_view_count": null,
            "flex_flow": null,
            "width": null,
            "min_width": null,
            "border": null,
            "align_items": null,
            "bottom": null,
            "_model_module": "@jupyter-widgets/base",
            "top": null,
            "grid_column": null,
            "overflow_y": null,
            "overflow_x": null,
            "grid_auto_flow": null,
            "grid_area": null,
            "grid_template_columns": null,
            "flex": null,
            "_model_name": "LayoutModel",
            "justify_items": null,
            "grid_row": null,
            "max_height": null,
            "align_content": null,
            "visibility": null,
            "align_self": null,
            "height": null,
            "min_height": null,
            "padding": null,
            "grid_auto_rows": null,
            "grid_gap": null,
            "max_width": null,
            "order": null,
            "_view_module_version": "1.2.0",
            "grid_template_areas": null,
            "object_position": null,
            "object_fit": null,
            "grid_auto_columns": null,
            "margin": null,
            "display": null,
            "left": null
          }
        },
        "0dc3a16d2ee74cdb8edbb9f12b822d92": {
          "model_module": "@jupyter-widgets/controls",
          "model_name": "FloatProgressModel",
          "state": {
            "_view_name": "ProgressView",
            "style": "IPY_MODEL_0c65dc705a074790b8ce854a243f51af",
            "_dom_classes": [],
            "description": "Downloading: 100%",
            "_model_name": "FloatProgressModel",
            "bar_style": "success",
            "max": 433422856,
            "_view_module": "@jupyter-widgets/controls",
            "_model_module_version": "1.5.0",
            "value": 433422856,
            "_view_count": null,
            "_view_module_version": "1.5.0",
            "orientation": "horizontal",
            "min": 0,
            "description_tooltip": null,
            "_model_module": "@jupyter-widgets/controls",
            "layout": "IPY_MODEL_c9c431b682654f5c897ad414be43c03b"
          }
        },
        "fc1707e1149542daa44cfc642ea6ba54": {
          "model_module": "@jupyter-widgets/controls",
          "model_name": "HTMLModel",
          "state": {
            "_view_name": "HTMLView",
            "style": "IPY_MODEL_93a74c74d0ae41da939e646c4a1696a4",
            "_dom_classes": [],
            "description": "",
            "_model_name": "HTMLModel",
            "placeholder": "​",
            "_view_module": "@jupyter-widgets/controls",
            "_model_module_version": "1.5.0",
            "value": " 433M/433M [00:12&lt;00:00, 34.7MB/s]",
            "_view_count": null,
            "_view_module_version": "1.5.0",
            "description_tooltip": null,
            "_model_module": "@jupyter-widgets/controls",
            "layout": "IPY_MODEL_edf5e39f7f864f4380c806aa7f52cdac"
          }
        },
        "0c65dc705a074790b8ce854a243f51af": {
          "model_module": "@jupyter-widgets/controls",
          "model_name": "ProgressStyleModel",
          "state": {
            "_view_name": "StyleView",
            "_model_name": "ProgressStyleModel",
            "description_width": "initial",
            "_view_module": "@jupyter-widgets/base",
            "_model_module_version": "1.5.0",
            "_view_count": null,
            "_view_module_version": "1.2.0",
            "bar_color": null,
            "_model_module": "@jupyter-widgets/controls"
          }
        },
        "c9c431b682654f5c897ad414be43c03b": {
          "model_module": "@jupyter-widgets/base",
          "model_name": "LayoutModel",
          "state": {
            "_view_name": "LayoutView",
            "grid_template_rows": null,
            "right": null,
            "justify_content": null,
            "_view_module": "@jupyter-widgets/base",
            "overflow": null,
            "_model_module_version": "1.2.0",
            "_view_count": null,
            "flex_flow": null,
            "width": null,
            "min_width": null,
            "border": null,
            "align_items": null,
            "bottom": null,
            "_model_module": "@jupyter-widgets/base",
            "top": null,
            "grid_column": null,
            "overflow_y": null,
            "overflow_x": null,
            "grid_auto_flow": null,
            "grid_area": null,
            "grid_template_columns": null,
            "flex": null,
            "_model_name": "LayoutModel",
            "justify_items": null,
            "grid_row": null,
            "max_height": null,
            "align_content": null,
            "visibility": null,
            "align_self": null,
            "height": null,
            "min_height": null,
            "padding": null,
            "grid_auto_rows": null,
            "grid_gap": null,
            "max_width": null,
            "order": null,
            "_view_module_version": "1.2.0",
            "grid_template_areas": null,
            "object_position": null,
            "object_fit": null,
            "grid_auto_columns": null,
            "margin": null,
            "display": null,
            "left": null
          }
        },
        "93a74c74d0ae41da939e646c4a1696a4": {
          "model_module": "@jupyter-widgets/controls",
          "model_name": "DescriptionStyleModel",
          "state": {
            "_view_name": "StyleView",
            "_model_name": "DescriptionStyleModel",
            "description_width": "",
            "_view_module": "@jupyter-widgets/base",
            "_model_module_version": "1.5.0",
            "_view_count": null,
            "_view_module_version": "1.2.0",
            "_model_module": "@jupyter-widgets/controls"
          }
        },
        "edf5e39f7f864f4380c806aa7f52cdac": {
          "model_module": "@jupyter-widgets/base",
          "model_name": "LayoutModel",
          "state": {
            "_view_name": "LayoutView",
            "grid_template_rows": null,
            "right": null,
            "justify_content": null,
            "_view_module": "@jupyter-widgets/base",
            "overflow": null,
            "_model_module_version": "1.2.0",
            "_view_count": null,
            "flex_flow": null,
            "width": null,
            "min_width": null,
            "border": null,
            "align_items": null,
            "bottom": null,
            "_model_module": "@jupyter-widgets/base",
            "top": null,
            "grid_column": null,
            "overflow_y": null,
            "overflow_x": null,
            "grid_auto_flow": null,
            "grid_area": null,
            "grid_template_columns": null,
            "flex": null,
            "_model_name": "LayoutModel",
            "justify_items": null,
            "grid_row": null,
            "max_height": null,
            "align_content": null,
            "visibility": null,
            "align_self": null,
            "height": null,
            "min_height": null,
            "padding": null,
            "grid_auto_rows": null,
            "grid_gap": null,
            "max_width": null,
            "order": null,
            "_view_module_version": "1.2.0",
            "grid_template_areas": null,
            "object_position": null,
            "object_fit": null,
            "grid_auto_columns": null,
            "margin": null,
            "display": null,
            "left": null
          }
        },
        "2402526832454694aa4053d6da9ec0ea": {
          "model_module": "@jupyter-widgets/controls",
          "model_name": "HBoxModel",
          "state": {
            "_view_name": "HBoxView",
            "_dom_classes": [],
            "_model_name": "HBoxModel",
            "_view_module": "@jupyter-widgets/controls",
            "_model_module_version": "1.5.0",
            "_view_count": null,
            "_view_module_version": "1.5.0",
            "box_style": "",
            "layout": "IPY_MODEL_07af96a676ab4dab917f05f286153bdc",
            "_model_module": "@jupyter-widgets/controls",
            "children": [
              "IPY_MODEL_cb0c9c6ccae64e1bb26b4e83cffc5148",
              "IPY_MODEL_45f36cb66cdb4b19bb10c219b4229c90"
            ]
          }
        },
        "07af96a676ab4dab917f05f286153bdc": {
          "model_module": "@jupyter-widgets/base",
          "model_name": "LayoutModel",
          "state": {
            "_view_name": "LayoutView",
            "grid_template_rows": null,
            "right": null,
            "justify_content": null,
            "_view_module": "@jupyter-widgets/base",
            "overflow": null,
            "_model_module_version": "1.2.0",
            "_view_count": null,
            "flex_flow": null,
            "width": null,
            "min_width": null,
            "border": null,
            "align_items": null,
            "bottom": null,
            "_model_module": "@jupyter-widgets/base",
            "top": null,
            "grid_column": null,
            "overflow_y": null,
            "overflow_x": null,
            "grid_auto_flow": null,
            "grid_area": null,
            "grid_template_columns": null,
            "flex": null,
            "_model_name": "LayoutModel",
            "justify_items": null,
            "grid_row": null,
            "max_height": null,
            "align_content": null,
            "visibility": null,
            "align_self": null,
            "height": null,
            "min_height": null,
            "padding": null,
            "grid_auto_rows": null,
            "grid_gap": null,
            "max_width": null,
            "order": null,
            "_view_module_version": "1.2.0",
            "grid_template_areas": null,
            "object_position": null,
            "object_fit": null,
            "grid_auto_columns": null,
            "margin": null,
            "display": null,
            "left": null
          }
        },
        "cb0c9c6ccae64e1bb26b4e83cffc5148": {
          "model_module": "@jupyter-widgets/controls",
          "model_name": "FloatProgressModel",
          "state": {
            "_view_name": "ProgressView",
            "style": "IPY_MODEL_7286f8d1d67e4034a099a6282bca0045",
            "_dom_classes": [],
            "description": "Downloading: 100%",
            "_model_name": "FloatProgressModel",
            "bar_style": "success",
            "max": 209528,
            "_view_module": "@jupyter-widgets/controls",
            "_model_module_version": "1.5.0",
            "value": 209528,
            "_view_count": null,
            "_view_module_version": "1.5.0",
            "orientation": "horizontal",
            "min": 0,
            "description_tooltip": null,
            "_model_module": "@jupyter-widgets/controls",
            "layout": "IPY_MODEL_b75ae76af51d49598b54de31ca373f19"
          }
        },
        "45f36cb66cdb4b19bb10c219b4229c90": {
          "model_module": "@jupyter-widgets/controls",
          "model_name": "HTMLModel",
          "state": {
            "_view_name": "HTMLView",
            "style": "IPY_MODEL_db226ffa69424cca84ba5377b5415ed3",
            "_dom_classes": [],
            "description": "",
            "_model_name": "HTMLModel",
            "placeholder": "​",
            "_view_module": "@jupyter-widgets/controls",
            "_model_module_version": "1.5.0",
            "value": " 210k/210k [00:00&lt;00:00, 1.71MB/s]",
            "_view_count": null,
            "_view_module_version": "1.5.0",
            "description_tooltip": null,
            "_model_module": "@jupyter-widgets/controls",
            "layout": "IPY_MODEL_14af6f14e7ca4e7e9c12cb4304a5531b"
          }
        },
        "7286f8d1d67e4034a099a6282bca0045": {
          "model_module": "@jupyter-widgets/controls",
          "model_name": "ProgressStyleModel",
          "state": {
            "_view_name": "StyleView",
            "_model_name": "ProgressStyleModel",
            "description_width": "initial",
            "_view_module": "@jupyter-widgets/base",
            "_model_module_version": "1.5.0",
            "_view_count": null,
            "_view_module_version": "1.2.0",
            "bar_color": null,
            "_model_module": "@jupyter-widgets/controls"
          }
        },
        "b75ae76af51d49598b54de31ca373f19": {
          "model_module": "@jupyter-widgets/base",
          "model_name": "LayoutModel",
          "state": {
            "_view_name": "LayoutView",
            "grid_template_rows": null,
            "right": null,
            "justify_content": null,
            "_view_module": "@jupyter-widgets/base",
            "overflow": null,
            "_model_module_version": "1.2.0",
            "_view_count": null,
            "flex_flow": null,
            "width": null,
            "min_width": null,
            "border": null,
            "align_items": null,
            "bottom": null,
            "_model_module": "@jupyter-widgets/base",
            "top": null,
            "grid_column": null,
            "overflow_y": null,
            "overflow_x": null,
            "grid_auto_flow": null,
            "grid_area": null,
            "grid_template_columns": null,
            "flex": null,
            "_model_name": "LayoutModel",
            "justify_items": null,
            "grid_row": null,
            "max_height": null,
            "align_content": null,
            "visibility": null,
            "align_self": null,
            "height": null,
            "min_height": null,
            "padding": null,
            "grid_auto_rows": null,
            "grid_gap": null,
            "max_width": null,
            "order": null,
            "_view_module_version": "1.2.0",
            "grid_template_areas": null,
            "object_position": null,
            "object_fit": null,
            "grid_auto_columns": null,
            "margin": null,
            "display": null,
            "left": null
          }
        },
        "db226ffa69424cca84ba5377b5415ed3": {
          "model_module": "@jupyter-widgets/controls",
          "model_name": "DescriptionStyleModel",
          "state": {
            "_view_name": "StyleView",
            "_model_name": "DescriptionStyleModel",
            "description_width": "",
            "_view_module": "@jupyter-widgets/base",
            "_model_module_version": "1.5.0",
            "_view_count": null,
            "_view_module_version": "1.2.0",
            "_model_module": "@jupyter-widgets/controls"
          }
        },
        "14af6f14e7ca4e7e9c12cb4304a5531b": {
          "model_module": "@jupyter-widgets/base",
          "model_name": "LayoutModel",
          "state": {
            "_view_name": "LayoutView",
            "grid_template_rows": null,
            "right": null,
            "justify_content": null,
            "_view_module": "@jupyter-widgets/base",
            "overflow": null,
            "_model_module_version": "1.2.0",
            "_view_count": null,
            "flex_flow": null,
            "width": null,
            "min_width": null,
            "border": null,
            "align_items": null,
            "bottom": null,
            "_model_module": "@jupyter-widgets/base",
            "top": null,
            "grid_column": null,
            "overflow_y": null,
            "overflow_x": null,
            "grid_auto_flow": null,
            "grid_area": null,
            "grid_template_columns": null,
            "flex": null,
            "_model_name": "LayoutModel",
            "justify_items": null,
            "grid_row": null,
            "max_height": null,
            "align_content": null,
            "visibility": null,
            "align_self": null,
            "height": null,
            "min_height": null,
            "padding": null,
            "grid_auto_rows": null,
            "grid_gap": null,
            "max_width": null,
            "order": null,
            "_view_module_version": "1.2.0",
            "grid_template_areas": null,
            "object_position": null,
            "object_fit": null,
            "grid_auto_columns": null,
            "margin": null,
            "display": null,
            "left": null
          }
        },
        "878d0cc072c948f1b8376a1650653479": {
          "model_module": "@jupyter-widgets/controls",
          "model_name": "HBoxModel",
          "state": {
            "_view_name": "HBoxView",
            "_dom_classes": [],
            "_model_name": "HBoxModel",
            "_view_module": "@jupyter-widgets/controls",
            "_model_module_version": "1.5.0",
            "_view_count": null,
            "_view_module_version": "1.5.0",
            "box_style": "",
            "layout": "IPY_MODEL_dfc00a27e3274e87985a11ab8e13b7c7",
            "_model_module": "@jupyter-widgets/controls",
            "children": [
              "IPY_MODEL_b8f435cb260d4f3bb590ab8fe61b6165",
              "IPY_MODEL_2a3471f8a07242e9bd47c9f4aea57528"
            ]
          }
        },
        "dfc00a27e3274e87985a11ab8e13b7c7": {
          "model_module": "@jupyter-widgets/base",
          "model_name": "LayoutModel",
          "state": {
            "_view_name": "LayoutView",
            "grid_template_rows": null,
            "right": null,
            "justify_content": null,
            "_view_module": "@jupyter-widgets/base",
            "overflow": null,
            "_model_module_version": "1.2.0",
            "_view_count": null,
            "flex_flow": null,
            "width": null,
            "min_width": null,
            "border": null,
            "align_items": null,
            "bottom": null,
            "_model_module": "@jupyter-widgets/base",
            "top": null,
            "grid_column": null,
            "overflow_y": null,
            "overflow_x": null,
            "grid_auto_flow": null,
            "grid_area": null,
            "grid_template_columns": null,
            "flex": null,
            "_model_name": "LayoutModel",
            "justify_items": null,
            "grid_row": null,
            "max_height": null,
            "align_content": null,
            "visibility": null,
            "align_self": null,
            "height": null,
            "min_height": null,
            "padding": null,
            "grid_auto_rows": null,
            "grid_gap": null,
            "max_width": null,
            "order": null,
            "_view_module_version": "1.2.0",
            "grid_template_areas": null,
            "object_position": null,
            "object_fit": null,
            "grid_auto_columns": null,
            "margin": null,
            "display": null,
            "left": null
          }
        },
        "b8f435cb260d4f3bb590ab8fe61b6165": {
          "model_module": "@jupyter-widgets/controls",
          "model_name": "FloatProgressModel",
          "state": {
            "_view_name": "ProgressView",
            "style": "IPY_MODEL_737b765bbd35497896ee5908a5045afe",
            "_dom_classes": [],
            "description": "Downloading: 100%",
            "_model_name": "FloatProgressModel",
            "bar_style": "success",
            "max": 112,
            "_view_module": "@jupyter-widgets/controls",
            "_model_module_version": "1.5.0",
            "value": 112,
            "_view_count": null,
            "_view_module_version": "1.5.0",
            "orientation": "horizontal",
            "min": 0,
            "description_tooltip": null,
            "_model_module": "@jupyter-widgets/controls",
            "layout": "IPY_MODEL_7171b7059e154a18849a902718988d04"
          }
        },
        "2a3471f8a07242e9bd47c9f4aea57528": {
          "model_module": "@jupyter-widgets/controls",
          "model_name": "HTMLModel",
          "state": {
            "_view_name": "HTMLView",
            "style": "IPY_MODEL_5fe47e06f9bc4773a95833118c17a973",
            "_dom_classes": [],
            "description": "",
            "_model_name": "HTMLModel",
            "placeholder": "​",
            "_view_module": "@jupyter-widgets/controls",
            "_model_module_version": "1.5.0",
            "value": " 112/112 [00:00&lt;00:00, 718B/s]",
            "_view_count": null,
            "_view_module_version": "1.5.0",
            "description_tooltip": null,
            "_model_module": "@jupyter-widgets/controls",
            "layout": "IPY_MODEL_be95a630f2d64f918d0c310680287cbe"
          }
        },
        "737b765bbd35497896ee5908a5045afe": {
          "model_module": "@jupyter-widgets/controls",
          "model_name": "ProgressStyleModel",
          "state": {
            "_view_name": "StyleView",
            "_model_name": "ProgressStyleModel",
            "description_width": "initial",
            "_view_module": "@jupyter-widgets/base",
            "_model_module_version": "1.5.0",
            "_view_count": null,
            "_view_module_version": "1.2.0",
            "bar_color": null,
            "_model_module": "@jupyter-widgets/controls"
          }
        },
        "7171b7059e154a18849a902718988d04": {
          "model_module": "@jupyter-widgets/base",
          "model_name": "LayoutModel",
          "state": {
            "_view_name": "LayoutView",
            "grid_template_rows": null,
            "right": null,
            "justify_content": null,
            "_view_module": "@jupyter-widgets/base",
            "overflow": null,
            "_model_module_version": "1.2.0",
            "_view_count": null,
            "flex_flow": null,
            "width": null,
            "min_width": null,
            "border": null,
            "align_items": null,
            "bottom": null,
            "_model_module": "@jupyter-widgets/base",
            "top": null,
            "grid_column": null,
            "overflow_y": null,
            "overflow_x": null,
            "grid_auto_flow": null,
            "grid_area": null,
            "grid_template_columns": null,
            "flex": null,
            "_model_name": "LayoutModel",
            "justify_items": null,
            "grid_row": null,
            "max_height": null,
            "align_content": null,
            "visibility": null,
            "align_self": null,
            "height": null,
            "min_height": null,
            "padding": null,
            "grid_auto_rows": null,
            "grid_gap": null,
            "max_width": null,
            "order": null,
            "_view_module_version": "1.2.0",
            "grid_template_areas": null,
            "object_position": null,
            "object_fit": null,
            "grid_auto_columns": null,
            "margin": null,
            "display": null,
            "left": null
          }
        },
        "5fe47e06f9bc4773a95833118c17a973": {
          "model_module": "@jupyter-widgets/controls",
          "model_name": "DescriptionStyleModel",
          "state": {
            "_view_name": "StyleView",
            "_model_name": "DescriptionStyleModel",
            "description_width": "",
            "_view_module": "@jupyter-widgets/base",
            "_model_module_version": "1.5.0",
            "_view_count": null,
            "_view_module_version": "1.2.0",
            "_model_module": "@jupyter-widgets/controls"
          }
        },
        "be95a630f2d64f918d0c310680287cbe": {
          "model_module": "@jupyter-widgets/base",
          "model_name": "LayoutModel",
          "state": {
            "_view_name": "LayoutView",
            "grid_template_rows": null,
            "right": null,
            "justify_content": null,
            "_view_module": "@jupyter-widgets/base",
            "overflow": null,
            "_model_module_version": "1.2.0",
            "_view_count": null,
            "flex_flow": null,
            "width": null,
            "min_width": null,
            "border": null,
            "align_items": null,
            "bottom": null,
            "_model_module": "@jupyter-widgets/base",
            "top": null,
            "grid_column": null,
            "overflow_y": null,
            "overflow_x": null,
            "grid_auto_flow": null,
            "grid_area": null,
            "grid_template_columns": null,
            "flex": null,
            "_model_name": "LayoutModel",
            "justify_items": null,
            "grid_row": null,
            "max_height": null,
            "align_content": null,
            "visibility": null,
            "align_self": null,
            "height": null,
            "min_height": null,
            "padding": null,
            "grid_auto_rows": null,
            "grid_gap": null,
            "max_width": null,
            "order": null,
            "_view_module_version": "1.2.0",
            "grid_template_areas": null,
            "object_position": null,
            "object_fit": null,
            "grid_auto_columns": null,
            "margin": null,
            "display": null,
            "left": null
          }
        },
        "ab624645870647bc914b5eb1360d2ba4": {
          "model_module": "@jupyter-widgets/controls",
          "model_name": "HBoxModel",
          "state": {
            "_view_name": "HBoxView",
            "_dom_classes": [],
            "_model_name": "HBoxModel",
            "_view_module": "@jupyter-widgets/controls",
            "_model_module_version": "1.5.0",
            "_view_count": null,
            "_view_module_version": "1.5.0",
            "box_style": "",
            "layout": "IPY_MODEL_ab7a2d13442e477fa7d403ebb42254fa",
            "_model_module": "@jupyter-widgets/controls",
            "children": [
              "IPY_MODEL_ecbf0ce62f5b4200a110703043a8b8c0",
              "IPY_MODEL_21d4433fd4b04baeb889983300c125c3"
            ]
          }
        },
        "ab7a2d13442e477fa7d403ebb42254fa": {
          "model_module": "@jupyter-widgets/base",
          "model_name": "LayoutModel",
          "state": {
            "_view_name": "LayoutView",
            "grid_template_rows": null,
            "right": null,
            "justify_content": null,
            "_view_module": "@jupyter-widgets/base",
            "overflow": null,
            "_model_module_version": "1.2.0",
            "_view_count": null,
            "flex_flow": null,
            "width": null,
            "min_width": null,
            "border": null,
            "align_items": null,
            "bottom": null,
            "_model_module": "@jupyter-widgets/base",
            "top": null,
            "grid_column": null,
            "overflow_y": null,
            "overflow_x": null,
            "grid_auto_flow": null,
            "grid_area": null,
            "grid_template_columns": null,
            "flex": null,
            "_model_name": "LayoutModel",
            "justify_items": null,
            "grid_row": null,
            "max_height": null,
            "align_content": null,
            "visibility": null,
            "align_self": null,
            "height": null,
            "min_height": null,
            "padding": null,
            "grid_auto_rows": null,
            "grid_gap": null,
            "max_width": null,
            "order": null,
            "_view_module_version": "1.2.0",
            "grid_template_areas": null,
            "object_position": null,
            "object_fit": null,
            "grid_auto_columns": null,
            "margin": null,
            "display": null,
            "left": null
          }
        },
        "ecbf0ce62f5b4200a110703043a8b8c0": {
          "model_module": "@jupyter-widgets/controls",
          "model_name": "FloatProgressModel",
          "state": {
            "_view_name": "ProgressView",
            "style": "IPY_MODEL_5e1d65a85c3d4a61a1a345bb495282d6",
            "_dom_classes": [],
            "description": "Downloading: 100%",
            "_model_name": "FloatProgressModel",
            "bar_style": "success",
            "max": 494,
            "_view_module": "@jupyter-widgets/controls",
            "_model_module_version": "1.5.0",
            "value": 494,
            "_view_count": null,
            "_view_module_version": "1.5.0",
            "orientation": "horizontal",
            "min": 0,
            "description_tooltip": null,
            "_model_module": "@jupyter-widgets/controls",
            "layout": "IPY_MODEL_56708f81e6a54e8ea51f7f0d4a11a6ba"
          }
        },
        "21d4433fd4b04baeb889983300c125c3": {
          "model_module": "@jupyter-widgets/controls",
          "model_name": "HTMLModel",
          "state": {
            "_view_name": "HTMLView",
            "style": "IPY_MODEL_2a7d7793ddb241aaa5d0b29f50aef3ce",
            "_dom_classes": [],
            "description": "",
            "_model_name": "HTMLModel",
            "placeholder": "​",
            "_view_module": "@jupyter-widgets/controls",
            "_model_module_version": "1.5.0",
            "value": " 494/494 [00:00&lt;00:00, 6.45kB/s]",
            "_view_count": null,
            "_view_module_version": "1.5.0",
            "description_tooltip": null,
            "_model_module": "@jupyter-widgets/controls",
            "layout": "IPY_MODEL_5a2d2a6d3a9f4df98406811cb9768bdb"
          }
        },
        "5e1d65a85c3d4a61a1a345bb495282d6": {
          "model_module": "@jupyter-widgets/controls",
          "model_name": "ProgressStyleModel",
          "state": {
            "_view_name": "StyleView",
            "_model_name": "ProgressStyleModel",
            "description_width": "initial",
            "_view_module": "@jupyter-widgets/base",
            "_model_module_version": "1.5.0",
            "_view_count": null,
            "_view_module_version": "1.2.0",
            "bar_color": null,
            "_model_module": "@jupyter-widgets/controls"
          }
        },
        "56708f81e6a54e8ea51f7f0d4a11a6ba": {
          "model_module": "@jupyter-widgets/base",
          "model_name": "LayoutModel",
          "state": {
            "_view_name": "LayoutView",
            "grid_template_rows": null,
            "right": null,
            "justify_content": null,
            "_view_module": "@jupyter-widgets/base",
            "overflow": null,
            "_model_module_version": "1.2.0",
            "_view_count": null,
            "flex_flow": null,
            "width": null,
            "min_width": null,
            "border": null,
            "align_items": null,
            "bottom": null,
            "_model_module": "@jupyter-widgets/base",
            "top": null,
            "grid_column": null,
            "overflow_y": null,
            "overflow_x": null,
            "grid_auto_flow": null,
            "grid_area": null,
            "grid_template_columns": null,
            "flex": null,
            "_model_name": "LayoutModel",
            "justify_items": null,
            "grid_row": null,
            "max_height": null,
            "align_content": null,
            "visibility": null,
            "align_self": null,
            "height": null,
            "min_height": null,
            "padding": null,
            "grid_auto_rows": null,
            "grid_gap": null,
            "max_width": null,
            "order": null,
            "_view_module_version": "1.2.0",
            "grid_template_areas": null,
            "object_position": null,
            "object_fit": null,
            "grid_auto_columns": null,
            "margin": null,
            "display": null,
            "left": null
          }
        },
        "2a7d7793ddb241aaa5d0b29f50aef3ce": {
          "model_module": "@jupyter-widgets/controls",
          "model_name": "DescriptionStyleModel",
          "state": {
            "_view_name": "StyleView",
            "_model_name": "DescriptionStyleModel",
            "description_width": "",
            "_view_module": "@jupyter-widgets/base",
            "_model_module_version": "1.5.0",
            "_view_count": null,
            "_view_module_version": "1.2.0",
            "_model_module": "@jupyter-widgets/controls"
          }
        },
        "5a2d2a6d3a9f4df98406811cb9768bdb": {
          "model_module": "@jupyter-widgets/base",
          "model_name": "LayoutModel",
          "state": {
            "_view_name": "LayoutView",
            "grid_template_rows": null,
            "right": null,
            "justify_content": null,
            "_view_module": "@jupyter-widgets/base",
            "overflow": null,
            "_model_module_version": "1.2.0",
            "_view_count": null,
            "flex_flow": null,
            "width": null,
            "min_width": null,
            "border": null,
            "align_items": null,
            "bottom": null,
            "_model_module": "@jupyter-widgets/base",
            "top": null,
            "grid_column": null,
            "overflow_y": null,
            "overflow_x": null,
            "grid_auto_flow": null,
            "grid_area": null,
            "grid_template_columns": null,
            "flex": null,
            "_model_name": "LayoutModel",
            "justify_items": null,
            "grid_row": null,
            "max_height": null,
            "align_content": null,
            "visibility": null,
            "align_self": null,
            "height": null,
            "min_height": null,
            "padding": null,
            "grid_auto_rows": null,
            "grid_gap": null,
            "max_width": null,
            "order": null,
            "_view_module_version": "1.2.0",
            "grid_template_areas": null,
            "object_position": null,
            "object_fit": null,
            "grid_auto_columns": null,
            "margin": null,
            "display": null,
            "left": null
          }
        }
      }
    }
  },
  "cells": [
    {
      "cell_type": "markdown",
      "metadata": {
        "id": "evSdaxu6kzJQ"
      },
      "source": [
        "# QA em português usando documentos PDF\n",
        "\n",
        "Como ilustração, usaremos o livro monumental de Herótodo, *História*, com 770 páginas."
      ]
    },
    {
      "cell_type": "code",
      "metadata": {
        "colab": {
          "base_uri": "https://localhost:8080/"
        },
        "id": "WLCLyUUm0-6Q",
        "outputId": "ac5de744-b6b8-4eb2-c0b6-0fdbf573ecd8"
      },
      "source": [
        "!pip install -q transformers"
      ],
      "execution_count": 1,
      "outputs": [
        {
          "output_type": "stream",
          "text": [
            "\u001b[K     |████████████████████████████████| 2.1MB 18.7MB/s \n",
            "\u001b[K     |████████████████████████████████| 901kB 55.6MB/s \n",
            "\u001b[K     |████████████████████████████████| 3.3MB 55.4MB/s \n",
            "\u001b[?25h"
          ],
          "name": "stdout"
        }
      ]
    },
    {
      "cell_type": "code",
      "metadata": {
        "id": "s-bu-m3S0otZ"
      },
      "source": [
        "import transformers\n",
        "from transformers import pipeline\n",
        "\n",
        "modelo = 'pierreguillou/bert-base-cased-squad-v1.1-portuguese'"
      ],
      "execution_count": 2,
      "outputs": []
    },
    {
      "cell_type": "code",
      "metadata": {
        "colab": {
          "base_uri": "https://localhost:8080/"
        },
        "id": "7vrBfZR3_70y",
        "outputId": "cef89d7d-bd80-4248-82bd-d24496f3602b"
      },
      "source": [
        "!pip install pdfplumber"
      ],
      "execution_count": 3,
      "outputs": [
        {
          "output_type": "stream",
          "text": [
            "Collecting pdfplumber\n",
            "\u001b[?25l  Downloading https://files.pythonhosted.org/packages/7e/57/4d9768e9ed204c68bd5813a2a112d3d6af4912f0785d47080b5067cdce64/pdfplumber-0.5.27.tar.gz (44kB)\n",
            "\u001b[K     |████████████████████████████████| 51kB 6.5MB/s \n",
            "\u001b[?25hCollecting pdfminer.six==20200517\n",
            "\u001b[?25l  Downloading https://files.pythonhosted.org/packages/b0/c0/ef1c8758bbd86edb10b5443700aac97d0ba27a9ca2e7696db8cd1fdbd5a8/pdfminer.six-20200517-py3-none-any.whl (5.6MB)\n",
            "\u001b[K     |████████████████████████████████| 5.6MB 23.8MB/s \n",
            "\u001b[?25hRequirement already satisfied: Pillow>=7.0.0 in /usr/local/lib/python3.7/dist-packages (from pdfplumber) (7.1.2)\n",
            "Collecting Wand\n",
            "\u001b[?25l  Downloading https://files.pythonhosted.org/packages/d7/f6/05f043c099639b9017b7244791048a4d146dfea45b41a199aed373246d50/Wand-0.6.6-py2.py3-none-any.whl (138kB)\n",
            "\u001b[K     |████████████████████████████████| 143kB 57.2MB/s \n",
            "\u001b[?25hCollecting pycryptodome\n",
            "\u001b[?25l  Downloading https://files.pythonhosted.org/packages/ad/16/9627ab0493894a11c68e46000dbcc82f578c8ff06bc2980dcd016aea9bd3/pycryptodome-3.10.1-cp35-abi3-manylinux2010_x86_64.whl (1.9MB)\n",
            "\u001b[K     |████████████████████████████████| 1.9MB 50.6MB/s \n",
            "\u001b[?25hRequirement already satisfied: sortedcontainers in /usr/local/lib/python3.7/dist-packages (from pdfminer.six==20200517->pdfplumber) (2.3.0)\n",
            "Requirement already satisfied: chardet; python_version > \"3.0\" in /usr/local/lib/python3.7/dist-packages (from pdfminer.six==20200517->pdfplumber) (3.0.4)\n",
            "Building wheels for collected packages: pdfplumber\n",
            "  Building wheel for pdfplumber (setup.py) ... \u001b[?25l\u001b[?25hdone\n",
            "  Created wheel for pdfplumber: filename=pdfplumber-0.5.27-cp37-none-any.whl size=32071 sha256=e9c45b554b4014bd111a2859d30d86c45ad6c9a7f667cf087977388413f66a6a\n",
            "  Stored in directory: /root/.cache/pip/wheels/b4/74/fc/f7b3a1a0732209027fb48a5f4392fc40d79970b11c2ba49e71\n",
            "Successfully built pdfplumber\n",
            "Installing collected packages: pycryptodome, pdfminer.six, Wand, pdfplumber\n",
            "Successfully installed Wand-0.6.6 pdfminer.six-20200517 pdfplumber-0.5.27 pycryptodome-3.10.1\n"
          ],
          "name": "stdout"
        }
      ]
    },
    {
      "cell_type": "code",
      "metadata": {
        "id": "0LyHBvMR2Jf5"
      },
      "source": [
        "import pdfplumber"
      ],
      "execution_count": 4,
      "outputs": []
    },
    {
      "cell_type": "code",
      "metadata": {
        "id": "k4q1qunz2Jai"
      },
      "source": [
        "arq = pdfplumber.open('./docs/HERODOTO.pdf')"
      ],
      "execution_count": 5,
      "outputs": []
    },
    {
      "cell_type": "code",
      "metadata": {
        "id": "F4Bl9GddBLLd",
        "colab": {
          "base_uri": "https://localhost:8080/",
          "height": 161
        },
        "outputId": "07dc4db9-e700-4d3f-9549-22b11850788f"
      },
      "source": [
        "txt = arq.pages[200].extract_text()\n",
        "txt"
      ],
      "execution_count": 6,
      "outputs": [
        {
          "output_type": "execute_result",
          "data": {
            "application/vnd.google.colaboratory.intrinsic+json": {
              "type": "string"
            },
            "text/plain": [
              "'CXL — Assim que Sabacos deixou o Egito, Anísis (o\\ncego) saiu da região pantanosa onde se refugiara e retomou as\\nrédeas  do  governo.  Tinha  permanecido  cinqüenta  anos  numa\\nilha por ele próprio formada com cinza e terra, pois, quando os\\nEgípcios lhe iam levar víveres, cada um de acordo com as suas\\nposses, ele lhes pedia um pouco de cinza, que ia acumulando\\nem mistura com a terra. Essa ilha só foi encontrada no reinado\\nde  Amirteu.  Durante  mais  de  quinhentos  anos,  os  reis  seus\\npredecessores  tinham-na  procurado  inutilmente.  Chamam-na\\nilha de Helbo e mede dez estádios em qualquer sentido, pois é\\nde formato arredondado.\\nCXLI  —  Anísis  teve  por  sucessor  um  sacerdote  de\\nVulcano  chamado  Setos(25).  Esse  governante  nenhuma\\nconsideração  teve  para  com  os  guerreiros,  tratando-os  com\\ninteiro desprezo e chegando ao extremo de privá-los dos doze\\nalqueires de terra que os reis seus antecessores haviam dado a\\ncada um como prêmio. Por isso, quando Senaqueribe, rei dos\\nÁrabes e dos Assírios(26), veio atacar o Egito com um grande\\nexército, os guerreiros negaram-se a lutar em defesa da pátria.\\nVendo-se em tão difícil situação, Setos dirigiu-se ao templo, e\\nali,  diante  da  estátua  do  deus,  pôs-se  a  lamuriar  pela  sorte\\nfunesta  que  parecia  aguardá-lo;  e  assim  deplorando  suas\\ndesgraças,  adormeceu.  Em  sonhos,  julgou  ver  o  deus\\nencorajando-o e assegurando-lhe que, se marchasse ao encontro\\ndos Árabes, a sorte estaria do seu lado, pois ele próprio, o deus,\\nlhe enviaria socorros.\\nCheio  de  confiança  na  visão,  Setos  reuniu  todas  as\\npessoas de boa vontade e dispostas a segui-lo, e foi acampar em\\nPelusa,  ponto-chave  do  Egito.  Seu  exército  era  composto\\nexclusivamente  de  negociantes,  artífices  e  vivandeiras(27).\\nNenhum  guerreiro  o  acompanhava.  Logo  que  essas  tropas\\nimprovisadas chegaram à cidade, espantosa multidão de ratos\\ndo campo espalhou-se pelo acampamento inimigo, pondo-se a\\nroer os arneses, os arcos e as correias que serviam para manejar\\n201'"
            ]
          },
          "metadata": {
            "tags": []
          },
          "execution_count": 6
        }
      ]
    },
    {
      "cell_type": "code",
      "metadata": {
        "colab": {
          "base_uri": "https://localhost:8080/",
          "height": 266,
          "referenced_widgets": [
            "0679c609f443451886020119f41b1063",
            "ff8fd1a410f941699d78255a24a80e61",
            "d91ed1f540994b22abd0857d00fbedb9",
            "1814809bdca74ab6886b106c866f2bf3",
            "fe10ded80575486c80cedafccc1dcf1d",
            "a0a5df6c0b1a4bd69b72a1ca2eae3d90",
            "c164e992d89940abaa2464e54882b5f5",
            "f86098bcde5e4d46ab981a6e39408dc7",
            "7ca97b9ead6f46aaa4060112812b7048",
            "90d0b6a391244e96a5aa4c6c5b84f10e",
            "0dc3a16d2ee74cdb8edbb9f12b822d92",
            "fc1707e1149542daa44cfc642ea6ba54",
            "0c65dc705a074790b8ce854a243f51af",
            "c9c431b682654f5c897ad414be43c03b",
            "93a74c74d0ae41da939e646c4a1696a4",
            "edf5e39f7f864f4380c806aa7f52cdac",
            "2402526832454694aa4053d6da9ec0ea",
            "07af96a676ab4dab917f05f286153bdc",
            "cb0c9c6ccae64e1bb26b4e83cffc5148",
            "45f36cb66cdb4b19bb10c219b4229c90",
            "7286f8d1d67e4034a099a6282bca0045",
            "b75ae76af51d49598b54de31ca373f19",
            "db226ffa69424cca84ba5377b5415ed3",
            "14af6f14e7ca4e7e9c12cb4304a5531b",
            "878d0cc072c948f1b8376a1650653479",
            "dfc00a27e3274e87985a11ab8e13b7c7",
            "b8f435cb260d4f3bb590ab8fe61b6165",
            "2a3471f8a07242e9bd47c9f4aea57528",
            "737b765bbd35497896ee5908a5045afe",
            "7171b7059e154a18849a902718988d04",
            "5fe47e06f9bc4773a95833118c17a973",
            "be95a630f2d64f918d0c310680287cbe",
            "ab624645870647bc914b5eb1360d2ba4",
            "ab7a2d13442e477fa7d403ebb42254fa",
            "ecbf0ce62f5b4200a110703043a8b8c0",
            "21d4433fd4b04baeb889983300c125c3",
            "5e1d65a85c3d4a61a1a345bb495282d6",
            "56708f81e6a54e8ea51f7f0d4a11a6ba",
            "2a7d7793ddb241aaa5d0b29f50aef3ce",
            "5a2d2a6d3a9f4df98406811cb9768bdb"
          ]
        },
        "id": "jBS9RB0DF3RT",
        "outputId": "357e59bd-5e4c-4ce9-f8a9-0c8989a64530"
      },
      "source": [
        "nlp = pipeline('question-answering', model=modelo)\n",
        "\n",
        "pergunta = 'Quem sucedeu a Anísis?'\n",
        "resp = nlp(question=pergunta, context=txt)"
      ],
      "execution_count": 7,
      "outputs": [
        {
          "output_type": "display_data",
          "data": {
            "application/vnd.jupyter.widget-view+json": {
              "model_id": "0679c609f443451886020119f41b1063",
              "version_minor": 0,
              "version_major": 2
            },
            "text/plain": [
              "HBox(children=(FloatProgress(value=0.0, description='Downloading', max=862.0, style=ProgressStyle(description_…"
            ]
          },
          "metadata": {
            "tags": []
          }
        },
        {
          "output_type": "stream",
          "text": [
            "\n"
          ],
          "name": "stdout"
        },
        {
          "output_type": "display_data",
          "data": {
            "application/vnd.jupyter.widget-view+json": {
              "model_id": "7ca97b9ead6f46aaa4060112812b7048",
              "version_minor": 0,
              "version_major": 2
            },
            "text/plain": [
              "HBox(children=(FloatProgress(value=0.0, description='Downloading', max=433422856.0, style=ProgressStyle(descri…"
            ]
          },
          "metadata": {
            "tags": []
          }
        },
        {
          "output_type": "stream",
          "text": [
            "\n"
          ],
          "name": "stdout"
        },
        {
          "output_type": "display_data",
          "data": {
            "application/vnd.jupyter.widget-view+json": {
              "model_id": "2402526832454694aa4053d6da9ec0ea",
              "version_minor": 0,
              "version_major": 2
            },
            "text/plain": [
              "HBox(children=(FloatProgress(value=0.0, description='Downloading', max=209528.0, style=ProgressStyle(descripti…"
            ]
          },
          "metadata": {
            "tags": []
          }
        },
        {
          "output_type": "stream",
          "text": [
            "\n"
          ],
          "name": "stdout"
        },
        {
          "output_type": "display_data",
          "data": {
            "application/vnd.jupyter.widget-view+json": {
              "model_id": "878d0cc072c948f1b8376a1650653479",
              "version_minor": 0,
              "version_major": 2
            },
            "text/plain": [
              "HBox(children=(FloatProgress(value=0.0, description='Downloading', max=112.0, style=ProgressStyle(description_…"
            ]
          },
          "metadata": {
            "tags": []
          }
        },
        {
          "output_type": "stream",
          "text": [
            "\n"
          ],
          "name": "stdout"
        },
        {
          "output_type": "display_data",
          "data": {
            "application/vnd.jupyter.widget-view+json": {
              "model_id": "ab624645870647bc914b5eb1360d2ba4",
              "version_minor": 0,
              "version_major": 2
            },
            "text/plain": [
              "HBox(children=(FloatProgress(value=0.0, description='Downloading', max=494.0, style=ProgressStyle(description_…"
            ]
          },
          "metadata": {
            "tags": []
          }
        },
        {
          "output_type": "stream",
          "text": [
            "\n"
          ],
          "name": "stdout"
        }
      ]
    },
    {
      "cell_type": "code",
      "metadata": {
        "colab": {
          "base_uri": "https://localhost:8080/"
        },
        "id": "V8WutIM2GvTH",
        "outputId": "7473c26a-9160-49c7-be1e-5c59b5169db9"
      },
      "source": [
        "print(f\"Resposta: '{resp['answer']}', score: {round(resp['score'], 4)}, start: {resp['start']}, end: {resp['end']}\")"
      ],
      "execution_count": 8,
      "outputs": [
        {
          "output_type": "stream",
          "text": [
            "Resposta: 'Setos', score: 0.7311, start: 713, end: 718\n"
          ],
          "name": "stdout"
        }
      ]
    },
    {
      "cell_type": "code",
      "metadata": {
        "id": "N1kJV_SHGvQt",
        "colab": {
          "base_uri": "https://localhost:8080/",
          "height": 36
        },
        "outputId": "d84eb48a-8cdc-475c-e232-f919725d3429"
      },
      "source": [
        "txt[713:718]"
      ],
      "execution_count": 9,
      "outputs": [
        {
          "output_type": "execute_result",
          "data": {
            "application/vnd.google.colaboratory.intrinsic+json": {
              "type": "string"
            },
            "text/plain": [
              "'Setos'"
            ]
          },
          "metadata": {
            "tags": []
          },
          "execution_count": 9
        }
      ]
    },
    {
      "cell_type": "code",
      "metadata": {
        "id": "trzU0oFJGvOW"
      },
      "source": [
        ""
      ],
      "execution_count": 9,
      "outputs": []
    },
    {
      "cell_type": "markdown",
      "metadata": {
        "id": "Z1aVYewCjLTt"
      },
      "source": [
        "# Exercício: QA na web\n",
        "\n",
        "Neste exercício, você vai usar o mesmo modelo do BERT para responder a perguntas sobre um documento de texto da Wikipedia.\n",
        "\n",
        "O script para acessar e limpar o texto da Wikipedia já foi feito para você. As perguntas, também.\n",
        "\n",
        "Quais as respostas?"
      ]
    },
    {
      "cell_type": "code",
      "metadata": {
        "id": "HZdef_4UGvIy"
      },
      "source": [
        "import requests\n",
        "from bs4 import BeautifulSoup\n",
        "\n",
        "pagina = requests.get('https://pt.wikipedia.org/wiki/Bossa_nova')\n",
        "sopa = BeautifulSoup(pagina.text, 'html.parser')\n",
        "\n",
        "for script in sopa(['script', 'style']):\n",
        "    script.decompose()\n",
        "\n",
        "desetiquetado = list(sopa.stripped_strings)\n",
        "desetiquetado = [i for i in desetiquetado if len(i) > 3]\n",
        "\n",
        "wiki = ' '.join(desetiquetado)"
      ],
      "execution_count": 12,
      "outputs": []
    },
    {
      "cell_type": "code",
      "metadata": {
        "colab": {
          "base_uri": "https://localhost:8080/"
        },
        "id": "lo-F6PjsGvGe",
        "outputId": "b5599de6-fe18-4356-d502-d48e695358c5"
      },
      "source": [
        "print(desetiquetado[:5])\n",
        "print(wiki)"
      ],
      "execution_count": 14,
      "outputs": [
        {
          "output_type": "stream",
          "text": [
            "['Bossa nova – Wikipédia, a enciclopédia livre', 'Saltar para o conteúdo', 'Alternar barra lateral', 'Busca', 'Ferramentas pessoais']\n",
            "Bossa nova – Wikipédia, a enciclopédia livre Saltar para o conteúdo Alternar barra lateral Busca Ferramentas pessoais Não autenticado Discussão Contribuições Criar uma conta Entrar Menu de navegação Navegação Página principal Conteúdo destacado Eventos atuais Esplanada Página aleatória Portais Informar um erro Colaboração Boas-vindas Ajuda Página de testes Portal comunitário Mudanças recentes Manutenção Criar página Páginas novas Contato Donativos Ferramentas Páginas afluentes Alterações relacionadas Carregar ficheiro Páginas especiais Hiperligação permanente Informações da página Citar esta página Elemento Wikidata Imprimir/exportar Criar um livro Descarregar como PDF Versão para impressão Noutros projetos Wikimedia Commons Wikiquote Noutras línguas Afrikaans العربية Asturianu Azərbaycanca Български বাংলা Català کوردی Čeština Cymraeg Dansk Deutsch Ελληνικά English Esperanto Español Eesti Euskara فارسی Suomi Français Galego עברית Hrvatski Magyar Bahasa Indonesia Íslenska Italiano Jawa ქართული Lëtzebuergesch Bahasa Melayu Mirandés Nederlands Norsk nynorsk Norsk bokmål Occitan Polski Română Русский Simple English Soomaaliga Српски / srpski Svenska Tagalog Türkçe Українська Oʻzbekcha/ўзбекча Tiếng Việt Walon Bân-lâm-gú Editar hiperligações Espaços nominais Artigo Discussão Variantes Vistas Editar Editar código-fonte Ver histórico Mais Bossa nova Origem: Wikipédia, a enciclopédia livre. Bossa nova Vinicius de Moraes Baden Powell no Teatro da Praia Origens estilísticas Samba samba-canção jazz cool jazz música erudita moda de viola choro blues Contexto cultural Final da década de 1950 Zona Sul Rio de Janeiro Instrumentos típicos Violão piano contrabaixo bateria Popularidade Amplamente conhecido no Brasil ; também significativo nos Estados Unidos Europa Ocidental Japão Formas derivadas sambalanço samba-jazz Bossa nova é o termo pelo qual ficou conhecido um movimento de renovação do samba irradiado a partir da Zona Sul da cidade do Rio de Janeiro no final da década de 1950 e que, por conseguinte, passou a dar nome ao estilo de interpretação e acompanhamento rítmico dele surgido, que ficou conhecido como “batida diferente”. nota 1 De acordo com o musicólogo Gilberto Mendes , a vertente era uma das “três fases rítmicas do samba”, na qual a \"batida\" da bossa havia sido extraída a partir do \" samba de raiz nota 2 Segundo o jornalista Ruy Castro , era “uma simplificação extrema da batida da escola de samba” , como se dela tivessem sido retirados todos os instrumentos e conservado apenas o tamborim nota 3 O marco inicial da bossa nova é o samba \" Chega de Saudade \" (de autoria de Tom Jobim Vinicius de Moraes ), lançado originalmente por Elizeth Cardoso em 1958 e, pouco depois, por João Gilberto , que tocou violão em ambas as gravações. Paralelamente a isso, o pianista e vocalista Johnny Alf , desde a gravação de “Rapaz de bem”, canção marcada pela influência do jazz , também se tornava um dos pioneiros da renovação do samba naquele momento. Em 1959, com o LP \" Chega de Saudade \", Gilberto consolidaria esse novo estilo de tocar que alterava as harmonias com a introdução de acordes não convencionais — como antes já realizavam violonistas como Garoto Vadico Oscar Bellandi , entre outros — e uma sincopação do samba inovadora a partir de uma divisão única realizada sobre sambas tradicionais como “Rosa morena” (de Dorival Caymmi ), “Morena boca de ouro”, de Ary Barroso , “Aos pés da cruz” (de Marino Pinto Zé da Zilda ) e “É luxo só” (de Ary Barroso e Luís Peixoto A partir e em torno de João Gilberto, um grupo de músicos, quase todos oriundos de classe média e com formação universitária , ajudaria a transformar as experiências formais do violonista baiano. O jeito suave de cantar foi influenciado pelo jazzista Chet Baker A partir da década de 1960 , o samba de bossa nova consolidou-se definitivamente no cenário musical do Brasil, onde se destacaram, além de Gilberto e da dupla Tom e Vinícius, nomes como Newton Mendonça Billy Blanco Aloysio de Oliveira Baden Powell Oscar Castro Neves Carlos Lyra Ronaldo Bôscoli Roberto Menescal Sérgio Mendes César Camargo Mariano Airto Moreira Eumir Deodato Milton Banana João Donato , entre vários, além do surgimento de inúmeros conjuntos vocais, como Os Cariocas , ou instrumentais, como Bossa Três Tamba Trio Bossa Rio Copa 5 Sambalanço Trio Os Catedráticos , entre outros. Foi nesse mesmo momento que o estilo experimentou uma projeção internacional em escala jamais vista com outra vertente da música popular brasileira Em 1962, o saxofonista Stan Getz em conjunto com o guitarrista Charlie Byrd lançaram o LP \" Jazz Samba \", o que chamou a atenção do meio musical nos Estados Unidos para a bossa nova. Naquele mesmo ano, um concerto no Carnegie Hall Nova York , que reuniu Tom Jobim e João Gilberto, entre outros, abriu de vez as portas do mundo para o estilo. No ano seguinte, com o lançamento do LP Getz/Gilberto , parceira entre o violonista brasileiro e o saxofonista americano, tornou a vertente conhecida mundialmente, além de arrebatar o Grammy Award para álbum do ano de 1965. Dois anos depois, sob o título “The girl from Ipanema”, versão em inglês para o famoso samba Garota de Ipanema , de Tom e Vinicius, foi gravado por Frank Sinatra No entanto, já em meados dos anos sessenta, o movimento bossa-novista passava por uma cisão. De um lado, um grupo manteve-se fiel a estética leve, caracterizada por letras de temas amenos e descompromissados com a realidade brasileira ou qualquer espécie de participação social, pelo tom suave e intimista (personalizado na voz de João Gilberto) e a forte influência do jazz. De outro lado, outro grupo formado por compositores como Baden Powell, Sergio Ricardo e Carlos Lyra e por letristas como Vinicius de Moraes e Nelson Lins e Barros associou-se ao movimento geral da cultura brasileira no sentido de buscar uma base popular folclórica nas músicas e uma temática de realismo e participação social nas letras. Foi essa dissidência que veio estabelecer uma conexão importante entre o samba da bossa nova e o samba das camadas populares, geralmente conhecido como “do morro” ou \"de raiz\", fazendo com que nomes como Cartola Nelson Cavaquinho Zé Keti Elton Medeiros — sambistas de prestígio no meio do \"samba de raiz\", mas alijados do mercado fonográfico de época — passassem a ser conhecidos por uma fatia do público jovem e universitário. É nesse novo contexto que o o cenário artístico brasileiro viu surgir uma nova geração de compositores, como Paulinho da Viola , tido ali como um sucessor de Noel Rosa ou de Ismael Silva Chico Buarque , autor de composições que logo se tornariam sambas antológicos. Índice Origens Início oficial Mudanças Fim do movimento, da bossa nova à MPB Legado Ver também Notas Referências Bibliografia Ligações externas Origens editar editar código-fonte A palavra \"bossa\" apareceu pela primeira vez na década de 1930 , em São Coisas Nossas , samba do popular cantor Noel Rosa O samba, a prontidão/e outras bossas,/são nossas coisas (...) A expressão \"bossa nova\" passou a ser utilizada também na década seguinte para aqueles sambas de breque , baseado no talento de improvisar paradas súbitas durante a música para encaixar falas. Alguns críticos musicais destacam uma certa influência que a cultura americana do pós-guerra, nota 4 de músicos como Stan Kenton , combinada ao impressionismo erudito, de Debussy Ravel , teve na bossa nova, Uma especialmente do cool jazz bebop . Embora tenha forte influência da música estrangeira, particularmente do jazz , a bossa nova possui elementos de samba sincopado Além disso, havia um fundamental inconformismo com o formato musical de época. Os cantores Dick Farney Lúcio Alves , que fizeram sucesso nos anos da década de 1950 com um jeito suave e minimalista (em oposição a cantores de grande potência sonora) também são considerados influências positivas sobre os garotos que fizeram a bossa nova. Um embrião do movimento, já na década de 1950 , eram as reuniões casuais, frutos de encontros de um grupo de músicos da classe média carioca em apartamentos da zona sul, como o de Nara Leão , na Avenida Atlântica, em Copacabana . Nestes encontros, cada vez mais frequentes, a partir de 1957 , um grupo se reunia para fazer e ouvir música. Dentre os participantes estavam novos compositores da música brasileira, como Billy Blanco Carlos Lyra Roberto Menescal Sérgio Ricardo , entre outros. O grupo foi aumentando, abraçando também Chico Feitosa, João Gilberto Luiz Carlos Vinhas Ronaldo Bôscoli , entre outros. Primeiro movimento musical brasileiro egresso das faculdades, já que os primeiros concertos foram realizados em âmbito universitário, pouco a pouco aquilo que se tornaria a bossa nova foi ocupando bares do circuito de Copacabana, no chamado Beco das Garrafas No final de 1957, numa destas apresentações, no Colégio Israelita-Brasileiro, teria havido a ideia de chamar o novo gênero - então apenas denominado de samba sessions , numa alusão à fusão entre samba e jazz - devido a um recado escrito num quadro-negro, provavelmente escrito por uma secretária do colégio, chamando as pessoas para uma apresentação de samba-sessions por uma turma \"bossa-nova\". No evento participaram Carlos Lyra, Ronaldo Bôscoli, Sylvia Telles , Roberto Menescal e Luiz Eça , onde foram anunciados como (...) grupo bossa nova apresentando sambas modernos Início oficial editar editar código-fonte Vinicius de Moraes , principal letrista de canções da bossa nova a partir de \"Chega de Saudade\", composição feita com Tom Jobim em 1958 e que consagrou o estilo. Movimento que ficou associado ao crescimento urbano brasileiro — impulsionado pela fase desenvolvimentista da presidência de Juscelino Kubitschek 1955 1960 — a bossa nova iniciou-se para muitos críticos quando foi lançado, em agosto de 1958 , um compacto simples do violonista baiano João Gilberto (considerado o papa do movimento), contendo as canções Chega de Saudade Tom Jobim Vinicius de Moraes Bim Bom (do próprio cantor). Meses antes, João participara de Canção do Amor Demais , um álbum lançado em maio daquele mesmo ano e exclusivamente dedicado às canções da iniciante dupla Tom/Vinicius, interpretado pela cantora carioca Elizeth Cardoso De acordo com o escritor Ruy Castro (em seu livro Chega de saudade , de 1990 ), este LP não foi um sucesso imediato ao ser lançado, mas o disco pode ser considerado um dos marcos da bossa nova, não só por ter trazido algumas das mais clássicas composições do gênero - entre as quais, Luciana Estrada Branca Outra Vez Chega de Saudade -, como também pela célebre batida do violão de João Gilberto, com seus acordes dissonantes e inspirados no jazz norte-americano - influência esta que daria argumentos aos críticos da bossa nova. Outras das características do movimento eram suas letras que, contrastando com os sucessos de até então, abordavam temáticas leves e descompromissadas - exemplo disto, Meditação , de Tom Jobim e Newton Mendonça . A forma de cantar também se diferenciava da que se tinha na época. Segundo o maestro Júlio Medaglia , \"desenvolver-se-ia a prática do canto-falado ou do cantar baixinho , do texto bem pronunciado, do tom coloquial da narrativa musical, do acompanhamento e canto integrando-se mutuamente, em lugar da valorização da 'grande voz'\". 1959 , era lançado o primeiro LP de João Gilberto, Chega de saudade , contendo a faixa-título - canção com cerca de 100 regravações feitas por artistas brasileiros e estrangeiros. A partir dali, a bossa nova era uma realidade. Além de João, parte do repertório clássico do movimento deve-se as parcerias de Tom Jobim e Vinícius de Moraes. Consta-se, segundo muitos afirmam, que o espírito bossa-novista já se encontrava na música que Jobim e Moraes fizeram, em 1956, para a peça Orfeu da Conceição , primeira parceria da dupla, que esteve perto de não acontecer, uma vez que Vinícius primeiro entrou em contato com Vadico, o famoso parceiro de Noel Rosa e ex-membro do Bando da Lua , para fazer a trilha sonora. É dessa peça, baseada na tragédia Grega Orfeu , uma das belas composições de Tom e Vinícius, \"Se todos fossem iguais a você\", já prenunciando os elementos melódicos da bossa nova. Além de Chega de saudade , os dois compuseram Garota de Ipanema , outra representativa canção da bossa nova, que se tornou a canção brasileira mais conhecida em todo o mundo, depois de Aquarela do Brasil Ary Barroso ), com mais de 169 gravações, entre as quais de Sarah Vaughan Stan Getz Frank Sinatra (com Tom Jobim), Ella Fitzgerald entre outros. É de Tom Jobim também, junto com Newton Mendonça , as canções Desafinado Samba de uma Nota Só , dois dos primeiros clássicos do novo gênero musical brasileiro a serem gravados no mercado norte-americano a partir de 1960 Mudanças editar editar código-fonte Em meados da década de 1960, o movimento apresentaria uma espécie de cisão ideológica, formada por Marcos Valle Dori Caymmi Edu Lobo Francis Hime e estimulada pelo Centro Popular de Cultura . Inspirada em uma visão popular e nacionalista, este grupo fez uma crítica das influências do jazz norte-americano na bossa nova e propôs sua reaproximação com compositores de morro, como o sambista Zé Keti Um dos pilares da bossa, Carlos Lyra , aderiu a esta corrente, assim como Nara Leão , que promoveu parcerias com artistas do samba como Cartola Nelson Cavaquinho e baião e xote nordestinos como João do Vale Nesta fase de releituras da bossa nova, foi lançado em 1966 o antológico LP \" Os Afro-sambas \", de Vinicius de Moraes Baden Powell Entre os artistas que se destacaram nesta segunda geração (1962-1966) da bossa nova estão Paulo Sérgio Valle , Edu Lobo, Marcos Vasconcelos , Dori Caymmi, Nelson Motta , Francis Hime, Wilson Simonal , entre outros... Fim do movimento, da bossa nova à MPB editar editar código-fonte Um dos maiores expoentes da bossa nova comporia um dos marcos do fim do movimento. Em 1965 , Vinícius de Moraes compôs, com Edu Lobo, Arrastão . A canção seria defendida por Elis Regina Festival de Música Popular Brasileira (da extinta TV Excelsior ), realizado no Guarujá naquele mesmo ano. Era o fim da bossa nova e o início do que se rotularia , gênero difuso que abarcaria diversas tendências da música brasileira até o início da década de 1980 - época em que surgiu um pop rock nacional renovado. A MPB nascia com artistas novatos, da segunda geração da bossa nova, como Geraldo Vandré Edu Lobo Chico Buarque de Holanda , que apareciam com frequência em festivais de música popular. Bem-sucedidos como artistas, eles tinham pouco ou quase nada de bossa nova. Vencedoras do II Festival de Música Popular Brasileira , realizado em São Paulo 1966 Disparada , de Geraldo, e A Banda , de Chico, podem ser consideradas marcos desta ruptura e mutação da bossa em MPB. Legado editar editar código-fonte Esta seção não cita fontes confiáveis independentes Ajude a inserir referências O conteúdo não verificável pode ser removido.— Encontre fontes: Google notícias livros acadêmico Março de 2019 O fim cronológico da bossa não significou a extinção estética do estilo. O movimento foi uma grande referência que para gerações posteriores de artistas, do jazz (a partir do sucesso estrondoso da versão instrumental de Desafinado pela dupla Stan Getz Charlie Byrd ) a uma corrente pós- punk britânica (de artistas como Style Council Matt Bianco Everything but the Girl ).  Hoje tem uma nova geração de artistas que revivem o estilo.  Entre eles destacam-se Bogdan Plech, Eliane Elias, Irene Miranda Quartet, Rosa Passos, Shelley Dunstone e Lisa Ono, entre outros. rock brasileiro , há de se destacar tanto a regravação da composição de Lobão Me chama , pelo músico bossa-novista João Gilberto , em 1986, além da famosa música do cantor Cazuza composta por ele e outros músicos, Faz parte do meu show , gravada em 1988, com arranjos fortemente inspirados na bossa nova. Seu legado é valioso, deixando várias joias da música nacional, dentre as quais Chega de Saudade Garota de Ipanema Desafinado O barquinho Eu Sei Que Vou Te Amar Se Todos Fossem Iguais A Você Águas de Março Outra Vez Coisa mais linda Corcovado Insensatez Maria Ninguém Samba de uma nota só O pato Lobo Bobo Saudade fez um Samba Ver também editar editar código-fonte Samba Jazzrock Blues Notas \"Ressalte-se que o acompanhamento rítmico do samba em estilo bossa-nova caracteriza-se pela “batida diferente” expressa em um tipo de sincopação não ortodoxo, o que levou, por exemplo, o compositor Cartola a assim se expressar sobre um de seus encontros musicais com o jovem colega Carlos Lyra : “Há um pouco de dificuldade tanto pra ele no antigo quanto para mim no moderno” (cf. Carvalho, 1986: 39). A “batida” da bossa nova, então, é característica de um estilo e não de um gênero autônomo. \"A primeira foi aquela, herdeira da habanera, que deu os “tanguinhos” de Ernesto Nazareth; a segunda, a do “samba de morro carioca”; e a terceira, a potencialização extraída por João Gilberto do samba de morro e do samba folclórico, para criar a “batida” de violão característica da bossa nova.\" \"Segundo Ruy Castro (2008: 9), a batida da bossa nova foi lançada nacionalmente em 1958 pelo baterista Milton Banana De acordo com o sambista e pesquisador Nei Lopes , desde o final da Segunda Guerra Mundial , elementos de bebop boogie-woogie já vinham sendo incorporados ao samba Referências Lopes & Simas 2015 , p. 48. «Bossa Nova» Dicionário Cravo Albin . Consultado em 7 de julho de 2019 Lopes & Simas 2015 , p. 46. «Estilo suave de Chet Baker expressar tormento pode ter influenciado a bossa» Correio Braziliense . Consultado em 17 de julho de 2019 «Chet Baker, a atuação que mudou a vida de João Gilberto» . Consultado em 17 de julho de 2019 Thales de Menezes (6 de abril de 2017). «Concerto no Carnegie Hall, que lançou bossa nova nos EUA, será recriado» Folha de S.Paulo . Consultado em 27 de fevereiro de 2020 Lopes & Simas 2015 , pp. 46-47. Lopes & Simas 2015 , p. 47. «Conheça as principais características da Bossa nova, no Caderno de Música» EBC Rádios . 11 de julho de 2019 . Consultado em 20 de janeiro de 2020 «O sambalanço saúda o dia do samba» Internet Archive . 6 de dezembro de 2006 . Consultado em 27 de fevereiro de 2020 Costa 2004 «No rádio, Lúcio Alves e o sucesso da 'rivalidade' com Dick Farney» EBC Rádios . 29 de março de 2016 . Consultado em 20 de janeiro de 2020 «História de Copacabana 1» copacabana.com . Consultado em 20 de janeiro de 2020 Cópia arquivada em 27 de abril de 2020 Gerolamo 2017 , p. 172–198. «A Bossa Nova e Beco das Garrafas em Copacabana» Rio de Janeiro Aqui . Consultado em 20 de janeiro de 2020 «Bossa Nova» AllAboutArts . Consultado em 27 de abril de 2020 «Senado Federal - 50 anos de Brasíia» Senado Federal . Consultado em 19 de janeiro de 2020 Gattai 2011 Welle, Deutsche. «Morre aos 88 anos João Gilberto, um dos papas da bossa nova - DW» . Consultado em 19 de janeiro de 2020 Tuta 2014 «Opinião: Morte de João Gilberto encerra a utopia de um país do futuro» Folha de S.Paulo . 7 de julho de 2019 . Consultado em 19 de janeiro de 2020 «Há 60 anos, João Gilberto revolucionava o mundo com a Bossa Nova» A Gazeta . Consultado em 19 de janeiro de 2020 «ARTIGO - A bossa nova e João Gilberto» Jornal do Brasil . 3 de setembro de 2019 . Consultado em 19 de janeiro de 2020 Castro 2016 Amaral, Euclides (2008). «Dicionário da Música Popular Brasileira - Bossa Nova» Dicionário da Música Popular Brasileira . Consultado em 19 de janeiro de 2020 «Os 60 anos de Chega de Saudade» Senado Federal . Consultado em 19 de janeiro de 2020 Ferreira, Mauro. «Musical que juntou Tom com Vinicius, 'Orfeu da Conceição' faz 60 anos» . Consultado em 19 de janeiro de 2020 «Música Aquarela do Brasil se tornou uma das joias da MPB» Jornal da Globo . 30 de agosto de 2013 . Consultado em 26 de junho de 2014 «Folha de S.Paulo - Publifolha - Entenda Tom Jobim da bossa nova e do jazz, do Rio e dos EUA, do popular e do erudito - 06/02/2009» Folha online . Consultado em 19 de janeiro de 2020 «Tom Jobim» Enciclopédia Itaú Cultural Instituto Itaú Cultural . Consultado em 19 de janeiro de 2020 «Centro Popular de Cultura (CPC)» Enciclopédia Itaú Cultural Instituto Itaú Cultural . Consultado em 7 de fevereiro de 2020 Kassab, Álvaro. «No peito dos bossanovistas também batem outros ritmos» Unicamp . Jornal da Unicamp . Consultado em 7 de fevereiro de 2020 Máximo 2002 , p. 4. Vidal & Aguiar 2002 , p. 133. Echeverria 2007 , p. 41. Zappa 2012 Mello 2003 , p. 67. Bibliografia editar editar código-fonte Lopes, Nei Simas, Luiz Antonio (2015). Dicionário da história social do samba . [S.l.]: Civilização Brasileira. ISBN 978-8520012581 Costa, Neusa Meirelles (2004). De amor, cotidiano e outras falas: o discurso da música brasileira e a arqueologia de Foucault . São Paulo: Arte & Ciência. ISBN 978-8574731414 Gerolamo, Ismael De Oliveira (2017). «Nara Leão: entre a bossa nova e a canção engajada» Revista do Instituto de Estudos Brasileiros (66). ISSN 2316-901X 10.11606/issn.2316-901x.vo166p172-198 Gattai, Zélia (2011). Chão de meninos 1 ed. São Paulo: Companhia das Letras. ISBN 978-8535918663 Tuta, Carvalho (2014). Ninguém faz sucesso sozinho . [S.l.]: Escrituras. ISBN 978-8575313442 Albin, Ricardo Cravo (2006). Dicionário Houaiss Ilustrado da Música Popular Brasileira . Rio de Janeiro: Paracatu Editora. ISBN 978-8560275007 Castro, Ruy (1990). Chega de Saudade: A História e as Histórias da Bossa Nova . São Paulo: Companhia das Letras. ISBN 978-8535927528 Castro, Ruy (2016). Chega de Saudade: A História e as Histórias da Bossa Nova - Edição revista e ampliada . Lisboa: Companhia das Letras. ISBN 978-9896713188 Máximo, João (2002). «Ela era quente, pura pimenta, a 'Pimentinha » Matutina ed. O Globo . Segundo Caderno. Vidal, Ariovaldo José; Aguiar, Joaquim Alves de Aguiar (2002). Leniza & Elis 1 ed. Cotia : Ateliê Editorial. ISBN 978-8574800929 Echeverria, Regina (2007). Furacão Elis . Rio de Janeiro: Ediouro. ISBN 978-8500021671 Castro, Ruy (2001). A onda que se ergueu do mar: novos mergulhos na bossa nova . São Paulo: Companhia das Letras. ISBN 978-8535901894 De Stefano., Gildo (2005). Buarque, Chico ; Minà, Gianni, eds. Il popolo del samba. La vicenda e i protagonisti della storia della musica popolare brasiliana (em italiano). [S.l.]: -ERI. ISBN 978-8839713483 De Stefano., Gildo; Buarque, Chicho; Minà, Gianni (2005). Saudade Bossa Nova. Musiche, contaminazioni e ritmi del Brasile (em italiano). Florença: RAI-ERI. ISBN 978-8897530886 Morais Junior, Luis Carlos de (2011). O sol nasceu pra todos: A História Secreta do Samba . Rio de Janeiro: Litteris Editora. ISBN 978-8537401521 Zappa, Regina (2012). Chico Buarque - Para seguir minha jornada . [S.l.]: HarperCollins Brasil. ISBN 978-8520929681 Mello, Zuza Homem de. (2003). «A Era dos Festivais – Uma Parábola» . São Paulo: Editora 34: 528. ISBN 978-85-7326-272-8 . Consultado em 27 de abril de 2020 Cópia arquivada em 21 de fevereiro de 2019 Ligações externas editar editar código-fonte Commons possui uma categoria contendo imagens e outros ficheiros sobre Bossa nova Especial Estadão - 50 Anos de Bossa Ritmos e gêneros da música popular do Brasil Danças e Ritmos Musicais Instrumentais Batuque Bugio Bumba-meu-boi Caboclinhos Cacuriá Calango Candombe Catira Cateretê Cavalo-Marinho Choro Coco Chula Guarânia Guitarrada Jongo Marabaixo Maracatu Maxixe Tambor de crioula Vanerão Xaxado Xote Ritmos musicais com Vocais Afoxé Arrocha Axé music Baião Brega Tecnobrega Caipira/Sertaneja Moda de viola Calypso Carimbó Ciranda Embolada Forró Forró eletrônico Forró pé de serra Forró universitário Frevo Incelença Lambada Lundu Marchinha Modinha Música nativista/gauchesca Rancheira Repente Samba Samba de roda Pagode pagode romântico pagode baiano Partido-alto Seresta Movimentos relacionados Bossa Nova Clube da Esquina Jovem Guarda Manguebeat Pessoal do Ceará Tchê music Tropicália Rap no Brasil Rock no Brasil Funk carioca Samba Samba urbano carioca Principais vertentes Bossa Nova Pagode Samba-canção Samba de breque Samba de enredo Samba de partido-alto Samba de terreiro Samba-exaltação Samba-sincopado Sambalanço Modalidades de fusão Samba-choro Samba-funk Samba-jazz Samba de salão Samba de gafieira Samba-rock Samba baiano Samba rural Samba-batido Samba chulado Samba corrido Samba de roda Samba duro Samba junino Samba-raiado Samba urbano Pagode baiano Samba afro Samba-reggae Denominações gerais Sambalada Sambolero Samba-joia Samba-maxixe Outros tópicos Bienal do Samba Carnaval do Brasil Escola de samba Tias Baianas Turma do Estácio Portal Samba Portal do Brasil Portal do jazz Portal da música Obtida de \" https://pt.wikipedia.org/w/index.php?title=Bossa_nova&oldid=61023696 Categorias Bossa nova Gêneros de samba Categorias ocultas: !Artigos que carecem de fontes desde março de 2019 !Artigos que carecem de fontes sem indicação de tema !Artigos que carecem de fontes maiores que 20000 bytes !CS1 italiano-fontes em língua (it) Esta página foi editada pela última vez às 17h42min de 27 de abril de 2021. Este texto é disponibilizado nos termos da licença Atribuição-CompartilhaIgual 3.0 Não Adaptada (CC BY-SA 3.0) da Creative Commons ;\n",
            "pode estar sujeito a condições adicionais.\n",
            "Para mais detalhes, consulte as condições de utilização Política de privacidade Sobre a Wikipédia Avisos gerais Versão móvel Programadores Estatísticas Declaração sobre ''cookies''\n"
          ],
          "name": "stdout"
        }
      ]
    },
    {
      "cell_type": "code",
      "metadata": {
        "id": "sQnz3niQduxc"
      },
      "source": [
        "nlp = pipeline('question-answering', model=modelo)\n",
        "\n",
        "pergunta = 'Qual foi o prêmio recebido por João Gilberto e Stan Getz?'\n",
        "resp = nlp(question=pergunta, context=wiki)"
      ],
      "execution_count": 16,
      "outputs": []
    },
    {
      "cell_type": "code",
      "metadata": {
        "colab": {
          "base_uri": "https://localhost:8080/"
        },
        "id": "OuwYE0eLduu0",
        "outputId": "27b8292f-a8fb-4804-d22e-4aba0ff6e5f9"
      },
      "source": [
        "resp"
      ],
      "execution_count": 17,
      "outputs": [
        {
          "output_type": "execute_result",
          "data": {
            "text/plain": [
              "{'answer': 'Grammy Award',\n",
              " 'end': 5052,\n",
              " 'score': 0.6949346661567688,\n",
              " 'start': 5040}"
            ]
          },
          "metadata": {
            "tags": []
          },
          "execution_count": 17
        }
      ]
    },
    {
      "cell_type": "code",
      "metadata": {
        "id": "Sp_W9LfUiEKS"
      },
      "source": [
        "pergunta = 'Qual foi o jazzista de maior influência sobre o estilo de canto da bossa-nova?'\n",
        "resp = nlp(question=pergunta, context=wiki)"
      ],
      "execution_count": 19,
      "outputs": []
    },
    {
      "cell_type": "code",
      "metadata": {
        "colab": {
          "base_uri": "https://localhost:8080/"
        },
        "id": "qtQXnjMqiPjT",
        "outputId": "55229c9e-07a0-4701-8c46-9e5775688949"
      },
      "source": [
        "resp"
      ],
      "execution_count": 20,
      "outputs": [
        {
          "output_type": "execute_result",
          "data": {
            "text/plain": [
              "{'answer': 'Chet Baker',\n",
              " 'end': 3769,\n",
              " 'score': 0.9942364692687988,\n",
              " 'start': 3759}"
            ]
          },
          "metadata": {
            "tags": []
          },
          "execution_count": 20
        }
      ]
    },
    {
      "cell_type": "code",
      "metadata": {
        "colab": {
          "base_uri": "https://localhost:8080/"
        },
        "id": "jSHMDDesiSpE",
        "outputId": "a5e1b665-f0c1-4dc1-aeb6-88d5df418c95"
      },
      "source": [
        "pergunta = 'Onde morava Nara Leão?'\n",
        "resp = nlp(question=pergunta, context=wiki)\n",
        "resp"
      ],
      "execution_count": 18,
      "outputs": [
        {
          "output_type": "execute_result",
          "data": {
            "text/plain": [
              "{'answer': 'Avenida Atlântica',\n",
              " 'end': 8129,\n",
              " 'score': 0.5305925011634827,\n",
              " 'start': 8112}"
            ]
          },
          "metadata": {
            "tags": []
          },
          "execution_count": 18
        }
      ]
    }
  ]
}