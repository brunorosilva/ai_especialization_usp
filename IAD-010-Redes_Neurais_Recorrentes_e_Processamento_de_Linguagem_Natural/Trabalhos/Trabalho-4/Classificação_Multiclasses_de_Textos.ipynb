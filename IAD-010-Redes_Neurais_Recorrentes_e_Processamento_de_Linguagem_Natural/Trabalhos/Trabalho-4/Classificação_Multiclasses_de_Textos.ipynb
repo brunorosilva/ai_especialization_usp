{
  "nbformat": 4,
  "nbformat_minor": 0,
  "metadata": {
    "kernelspec": {
      "display_name": "Python 3",
      "language": "python",
      "name": "python3"
    },
    "language_info": {
      "codemirror_mode": {
        "name": "ipython",
        "version": 3
      },
      "file_extension": ".py",
      "mimetype": "text/x-python",
      "name": "python",
      "nbconvert_exporter": "python",
      "pygments_lexer": "ipython3",
      "version": "3.7.6"
    },
    "colab": {
      "name": "Classificação Multiclasses de Textos.ipynb",
      "provenance": [],
      "collapsed_sections": []
    }
  },
  "cells": [
    {
      "cell_type": "markdown",
      "metadata": {
        "id": "bhsZgtWNnIzA"
      },
      "source": [
        "# Classificação multiclasses\n",
        "\n",
        "Baseado em F. Chollet (2018).\n",
        "\n",
        "Diferentemente das classificações que fizemos até aqui, sempre binárias (positivo/negativo; spam/ham...), existem classificações de dados em um número $n$ de classes (ou categorias).\n",
        "\n",
        "Neste exercício, usaremos um conjunto de dados de notícias da agência Reuters para uma classificação de assuntos. Há 46 categorias de assuntos possíveis, todas elas mutuamente excludentes, isto é, para cada notícia, existe somente uma categoria correta.\n",
        "\n",
        "O corpus traz 8982 notícias para treinamento e outras 2246 para teste. Cada categoria tem pelo menos 10 ocorrências no treinamento."
      ]
    },
    {
      "cell_type": "markdown",
      "metadata": {
        "id": "w687BaEEnIzI"
      },
      "source": [
        "#Carregamento dos dados e das etiquetas"
      ]
    },
    {
      "cell_type": "code",
      "metadata": {
        "id": "VP0BnJXCnIzK",
        "colab": {
          "base_uri": "https://localhost:8080/"
        },
        "outputId": "ca9c2e4c-be80-4a9d-872d-9a96bee2885f"
      },
      "source": [
        "from keras.datasets import reuters\n",
        "\n",
        "(dados_treino, etiquetas_treino), (dados_teste, etiquetas_teste) = reuters.load_data(num_words=10000)  # Carregar só as 10.000 palavras mais frequentes"
      ],
      "execution_count": 1,
      "outputs": [
        {
          "output_type": "stream",
          "text": [
            "Downloading data from https://storage.googleapis.com/tensorflow/tf-keras-datasets/reuters.npz\n",
            "2113536/2110848 [==============================] - 0s 0us/step\n"
          ],
          "name": "stdout"
        },
        {
          "output_type": "stream",
          "text": [
            "/usr/local/lib/python3.7/dist-packages/tensorflow/python/keras/datasets/reuters.py:148: VisibleDeprecationWarning: Creating an ndarray from ragged nested sequences (which is a list-or-tuple of lists-or-tuples-or ndarrays with different lengths or shapes) is deprecated. If you meant to do this, you must specify 'dtype=object' when creating the ndarray\n",
            "  x_train, y_train = np.array(xs[:idx]), np.array(labels[:idx])\n",
            "/usr/local/lib/python3.7/dist-packages/tensorflow/python/keras/datasets/reuters.py:149: VisibleDeprecationWarning: Creating an ndarray from ragged nested sequences (which is a list-or-tuple of lists-or-tuples-or ndarrays with different lengths or shapes) is deprecated. If you meant to do this, you must specify 'dtype=object' when creating the ndarray\n",
            "  x_test, y_test = np.array(xs[idx:]), np.array(labels[idx:])\n"
          ],
          "name": "stderr"
        }
      ]
    },
    {
      "cell_type": "code",
      "metadata": {
        "id": "otb--vnFnIzL",
        "colab": {
          "base_uri": "https://localhost:8080/"
        },
        "outputId": "654d897b-040c-4956-f5b9-ff39e7d405e8"
      },
      "source": [
        "### Conferindo...\n",
        "\n",
        "print(len(dados_treino), len(dados_teste))\n",
        "print(dados_treino[0])"
      ],
      "execution_count": 3,
      "outputs": [
        {
          "output_type": "stream",
          "text": [
            "8982 2246\n",
            "[1, 2, 2, 8, 43, 10, 447, 5, 25, 207, 270, 5, 3095, 111, 16, 369, 186, 90, 67, 7, 89, 5, 19, 102, 6, 19, 124, 15, 90, 67, 84, 22, 482, 26, 7, 48, 4, 49, 8, 864, 39, 209, 154, 6, 151, 6, 83, 11, 15, 22, 155, 11, 15, 7, 48, 9, 4579, 1005, 504, 6, 258, 6, 272, 11, 15, 22, 134, 44, 11, 15, 16, 8, 197, 1245, 90, 67, 52, 29, 209, 30, 32, 132, 6, 109, 15, 17, 12]\n"
          ],
          "name": "stdout"
        }
      ]
    },
    {
      "cell_type": "code",
      "metadata": {
        "colab": {
          "base_uri": "https://localhost:8080/"
        },
        "id": "Hy5HGoHwA3c0",
        "outputId": "3f6a4a18-b79c-4a73-8015-191f7407cc13"
      },
      "source": [
        "### Só para conferir... ###\n",
        "\n",
        "# Cria um dicionário com a forma {palavra: índice}\n",
        "indice_de_palavra = reuters.get_word_index()\n",
        "print('O índice de \"after\" é: ', indice_de_palavra['after'])\n",
        "\n",
        "# Cria um dicionário que permite mapear uma palavra em função de um valor numérico (seu índice)\n",
        "palavra_de_indice = dict([(value, key) for (key, value) in indice_de_palavra.items()])\n",
        "print('A palavra de índice 100 é: ', palavra_de_indice[100])\n",
        "\n",
        "# Gera uma string com o vetor das palavras decodificadas em uma dada resenha (0, no caso)\n",
        "# Os três primeiros índices são reservados nesse dataset (\"padding\", \"início de sequência\" e \"desconhecido\")\n",
        "# Lembre-se: o método .get() substitui chaves desconhecidas por um valor default ('<?>', no caso)\n",
        "noticia_decodificada = ' '.join([palavra_de_indice.get(i-3, '<?>') for i in dados_treino[0]])\n",
        "print(noticia_decodificada)"
      ],
      "execution_count": 4,
      "outputs": [
        {
          "output_type": "stream",
          "text": [
            "Downloading data from https://storage.googleapis.com/tensorflow/tf-keras-datasets/reuters_word_index.json\n",
            "557056/550378 [==============================] - 0s 0us/step\n",
            "O índice de \"after\" é:  89\n",
            "A palavra de índice 100 é:  group\n",
            "<?> <?> <?> said as a result of its december acquisition of space co it expects earnings per share in 1987 of 1 15 to 1 30 dlrs per share up from 70 cts in 1986 the company said pretax net should rise to nine to 10 mln dlrs from six mln dlrs in 1986 and rental operation revenues to 19 to 22 mln dlrs from 12 5 mln dlrs it said cash flow per share this year should be 2 50 to three dlrs reuter 3\n"
          ],
          "name": "stdout"
        }
      ]
    },
    {
      "cell_type": "code",
      "metadata": {
        "colab": {
          "base_uri": "https://localhost:8080/"
        },
        "id": "l0DPJ9xuxyyU",
        "outputId": "1294335f-3644-4868-ba4c-a524577c958a"
      },
      "source": [
        "# As etiquetas são números inteiros no intervalo [0..45]\n",
        "print(etiquetas_treino[0])\n",
        "print(min(etiquetas_treino), max(etiquetas_treino))"
      ],
      "execution_count": 15,
      "outputs": [
        {
          "output_type": "stream",
          "text": [
            "3\n",
            "0 45\n"
          ],
          "name": "stdout"
        }
      ]
    },
    {
      "cell_type": "markdown",
      "metadata": {
        "id": "bYhg6S9iHvU_"
      },
      "source": [
        "# Codificação em binários\n",
        "\n",
        "Codificação (encoding) dos vetores de inteiros em matrizes binárias de índices de termos em documentos.\n"
      ]
    },
    {
      "cell_type": "code",
      "metadata": {
        "id": "o9jepBvHCBzi"
      },
      "source": [
        "import numpy as np\n",
        "\n",
        "def binarizar(matriz_int, dim=10000):\n",
        "    binarizado = np.zeros((len(matriz_int), dim))\n",
        "\n",
        "    for e, vetor in enumerate(matriz_int):\n",
        "        binarizado[e, vetor] = 1.\n",
        "\n",
        "    return binarizado\n",
        "\n",
        "# Conversão em binários dos testos das resenhas (variável X)\n",
        "treino_x = binarizar(dados_treino)\n",
        "teste_x = binarizar(dados_teste)"
      ],
      "execution_count": 5,
      "outputs": []
    },
    {
      "cell_type": "code",
      "metadata": {
        "colab": {
          "base_uri": "https://localhost:8080/"
        },
        "id": "OAP9B_6JuCZ6",
        "outputId": "96d915ac-1f6e-4873-c984-d570177aee80"
      },
      "source": [
        "treino_x[0]  # Só para conferir..."
      ],
      "execution_count": 6,
      "outputs": [
        {
          "output_type": "execute_result",
          "data": {
            "text/plain": [
              "array([0., 1., 1., ..., 0., 0., 0.])"
            ]
          },
          "metadata": {
            "tags": []
          },
          "execution_count": 6
        }
      ]
    },
    {
      "cell_type": "code",
      "metadata": {
        "id": "YHdmR7APLPXY"
      },
      "source": [
        "# Vetorização das etiquetas de assuntos [0..45]. Variável Y.\n",
        "\n",
        "treino_y = binarizar(etiquetas_treino, dim=46)  # Repare o número de dimensões (46)\n",
        "teste_y = binarizar(etiquetas_teste, dim=46)"
      ],
      "execution_count": 38,
      "outputs": []
    },
    {
      "cell_type": "code",
      "metadata": {
        "colab": {
          "base_uri": "https://localhost:8080/"
        },
        "id": "aQJrWY358tAT",
        "outputId": "1d1cb5e3-6118-4f9e-f299-0f3b8396d3b2"
      },
      "source": [
        "print(len(treino_x), len(treino_y), len(teste_x), len(teste_y))  # Conferindo..."
      ],
      "execution_count": 39,
      "outputs": [
        {
          "output_type": "stream",
          "text": [
            "8982 8982 2246 2246\n"
          ],
          "name": "stdout"
        }
      ]
    },
    {
      "cell_type": "code",
      "metadata": {
        "colab": {
          "base_uri": "https://localhost:8080/"
        },
        "id": "P7A3w1sFvMuR",
        "outputId": "aabe5142-72dd-45a5-e176-3198edf93c5b"
      },
      "source": [
        "treino_y[0]  # Conferindo..."
      ],
      "execution_count": 25,
      "outputs": [
        {
          "output_type": "execute_result",
          "data": {
            "text/plain": [
              "(8982, 46)"
            ]
          },
          "metadata": {
            "tags": []
          },
          "execution_count": 25
        }
      ]
    },
    {
      "cell_type": "markdown",
      "metadata": {
        "id": "s9Q00gDWgDiM"
      },
      "source": [
        "# Criação do modelo de rede"
      ]
    },
    {
      "cell_type": "markdown",
      "metadata": {
        "id": "dhB-j-uvN5XJ"
      },
      "source": [
        "Partição dos dados de treinamento em (1) validação e (2) treinamento parcial, tanto X (resenhas) quanto Y (etiquetas)."
      ]
    },
    {
      "cell_type": "code",
      "metadata": {
        "id": "yWaIiN3MN9D4"
      },
      "source": [
        "valid_x = treino_x[:1000]\n",
        "treino_x_parcial = treino_x[1000:]\n",
        "valid_y = treino_y[:1000] \n",
        "treino_y_parcial = treino_y[1000:]"
      ],
      "execution_count": 40,
      "outputs": []
    },
    {
      "cell_type": "markdown",
      "metadata": {
        "id": "8V-ZEwYlLpfO"
      },
      "source": [
        "Importação dos módulos e definição da arquitetura da rede.\n",
        "\n",
        "Desta vez, para tentar representar melhor as 46 classes, vamos aumentar o tamanho das camadas internas.\n",
        "\n",
        "O vetor de saída terá 46 dimensões, uma para cada classe possível.\n",
        "\n",
        "A função de ativação na saída é a softmax, que distribui a probabilidade de classficiação entre as 46 classes (isto é, juntas, somam 1)."
      ]
    },
    {
      "cell_type": "code",
      "metadata": {
        "id": "QMSafk6egHEe"
      },
      "source": [
        "from keras import models \n",
        "from keras import layers\n",
        "\n",
        "modelo = models.Sequential() \n",
        "modelo.add(layers.Dense(64, activation='relu', input_shape=(10000,))) \n",
        "modelo.add(layers.Dense(64, activation='relu')) \n",
        "modelo.add(layers.Dense(46, activation='softmax'))"
      ],
      "execution_count": 41,
      "outputs": []
    },
    {
      "cell_type": "markdown",
      "metadata": {
        "id": "DbghZxhVGlty"
      },
      "source": [
        "Compilação do modelo."
      ]
    },
    {
      "cell_type": "code",
      "metadata": {
        "id": "_UVySOvGGoyx"
      },
      "source": [
        "# A diferença dos parâmetros de compilação que usaremos aqui por relação à \n",
        "# classificação binária está na função de perda escolhida.\n",
        "# Ainda é a entropia cruzada, boa para classificação probabilística, mas,\n",
        "# desta vez, é a \"categorial\", não a binária.\n",
        "\n",
        "modelo.compile(optimizer='adam', \n",
        "              loss='categorical_crossentropy', \n",
        "              metrics=['acc'])"
      ],
      "execution_count": 42,
      "outputs": []
    },
    {
      "cell_type": "markdown",
      "metadata": {
        "id": "1Hr5wRG_OONW"
      },
      "source": [
        "Treinamento do modelo compilado."
      ]
    },
    {
      "cell_type": "code",
      "metadata": {
        "colab": {
          "base_uri": "https://localhost:8080/"
        },
        "id": "5HkB-MzFOQAi",
        "outputId": "b1eca35d-a5e2-48f7-b8c6-8c188fc20781"
      },
      "source": [
        "historia = modelo.fit(treino_x_parcial, \n",
        "                    treino_y_parcial, \n",
        "                    epochs=20, \n",
        "                    batch_size=512, \n",
        "                    validation_data=(valid_x, valid_y))"
      ],
      "execution_count": 43,
      "outputs": [
        {
          "output_type": "stream",
          "text": [
            "Epoch 1/20\n",
            "16/16 [==============================] - 1s 67ms/step - loss: 3.5573 - acc: 0.2873 - val_loss: 2.5043 - val_acc: 0.4690\n",
            "Epoch 2/20\n",
            "16/16 [==============================] - 1s 54ms/step - loss: 2.1486 - acc: 0.5701 - val_loss: 1.6211 - val_acc: 0.6650\n",
            "Epoch 3/20\n",
            "16/16 [==============================] - 1s 47ms/step - loss: 1.3905 - acc: 0.7094 - val_loss: 1.2735 - val_acc: 0.7250\n",
            "Epoch 4/20\n",
            "16/16 [==============================] - 1s 45ms/step - loss: 1.0610 - acc: 0.7717 - val_loss: 1.1234 - val_acc: 0.7630\n",
            "Epoch 5/20\n",
            "16/16 [==============================] - 1s 45ms/step - loss: 0.8009 - acc: 0.8318 - val_loss: 1.0236 - val_acc: 0.7850\n",
            "Epoch 6/20\n",
            "16/16 [==============================] - 1s 45ms/step - loss: 0.6436 - acc: 0.8675 - val_loss: 0.9571 - val_acc: 0.8050\n",
            "Epoch 7/20\n",
            "16/16 [==============================] - 1s 55ms/step - loss: 0.4785 - acc: 0.9029 - val_loss: 0.9066 - val_acc: 0.8150\n",
            "Epoch 8/20\n",
            "16/16 [==============================] - 1s 47ms/step - loss: 0.3677 - acc: 0.9256 - val_loss: 0.8837 - val_acc: 0.8130\n",
            "Epoch 9/20\n",
            "16/16 [==============================] - 1s 45ms/step - loss: 0.2905 - acc: 0.9395 - val_loss: 0.8815 - val_acc: 0.8230\n",
            "Epoch 10/20\n",
            "16/16 [==============================] - 1s 46ms/step - loss: 0.2366 - acc: 0.9509 - val_loss: 0.8758 - val_acc: 0.8230\n",
            "Epoch 11/20\n",
            "16/16 [==============================] - 1s 55ms/step - loss: 0.1912 - acc: 0.9540 - val_loss: 0.8953 - val_acc: 0.8170\n",
            "Epoch 12/20\n",
            "16/16 [==============================] - 1s 47ms/step - loss: 0.1720 - acc: 0.9567 - val_loss: 0.8971 - val_acc: 0.8190\n",
            "Epoch 13/20\n",
            "16/16 [==============================] - 1s 45ms/step - loss: 0.1472 - acc: 0.9604 - val_loss: 0.9149 - val_acc: 0.8140\n",
            "Epoch 14/20\n",
            "16/16 [==============================] - 1s 45ms/step - loss: 0.1266 - acc: 0.9621 - val_loss: 0.9178 - val_acc: 0.8110\n",
            "Epoch 15/20\n",
            "16/16 [==============================] - 1s 55ms/step - loss: 0.1237 - acc: 0.9608 - val_loss: 0.9423 - val_acc: 0.8170\n",
            "Epoch 16/20\n",
            "16/16 [==============================] - 1s 57ms/step - loss: 0.1136 - acc: 0.9614 - val_loss: 0.9609 - val_acc: 0.8180\n",
            "Epoch 17/20\n",
            "16/16 [==============================] - 1s 48ms/step - loss: 0.1069 - acc: 0.9633 - val_loss: 0.9854 - val_acc: 0.8060\n",
            "Epoch 18/20\n",
            "16/16 [==============================] - 1s 49ms/step - loss: 0.1002 - acc: 0.9657 - val_loss: 0.9752 - val_acc: 0.8090\n",
            "Epoch 19/20\n",
            "16/16 [==============================] - 1s 57ms/step - loss: 0.0885 - acc: 0.9674 - val_loss: 0.9882 - val_acc: 0.8070\n",
            "Epoch 20/20\n",
            "16/16 [==============================] - 1s 55ms/step - loss: 0.0945 - acc: 0.9653 - val_loss: 1.0059 - val_acc: 0.8090\n"
          ],
          "name": "stdout"
        }
      ]
    },
    {
      "cell_type": "markdown",
      "metadata": {
        "id": "PkqandbvPkuc"
      },
      "source": [
        "Exibição da evolução da perda no treinamento e na validação."
      ]
    },
    {
      "cell_type": "code",
      "metadata": {
        "colab": {
          "base_uri": "https://localhost:8080/",
          "height": 297
        },
        "id": "mVBsnEOiPlxp",
        "outputId": "cc64a796-182a-440c-e9bd-273e0bfb6d5e"
      },
      "source": [
        "import matplotlib.pyplot as plt\n",
        "\n",
        "dic_historia = historia.history  # dict_keys(['loss', 'acc', 'val_loss', 'val_acc'])\n",
        "perda = dic_historia['loss'] \n",
        "perda_valid = dic_historia['val_loss']\n",
        "\n",
        "acuracia = dic_historia['acc']\n",
        "epocas = range(1, len(acuracia) + 1)\n",
        "\n",
        "plt.plot(epocas, perda, 'bo', label='Perda no treinamento')  # “bo” = pontilhado azul\n",
        "plt.plot(epocas, perda_valid, 'b', label='Perda na validação')  # “b” = linha contínua azul\n",
        "plt.title('Perda no Treinamento e na Validação') \n",
        "plt.xlabel('Épocas')\n",
        "plt.ylabel('Perda')\n",
        "plt.legend()\n",
        "\n",
        "plt.show()"
      ],
      "execution_count": 44,
      "outputs": [
        {
          "output_type": "display_data",
          "data": {
            "image/png": "[encoded data removed]",
            "text/plain": [
              "<Figure size 432x288 with 1 Axes>"
            ]
          },
          "metadata": {
            "tags": [],
            "needs_background": "light"
          }
        }
      ]
    },
    {
      "cell_type": "markdown",
      "metadata": {
        "id": "x-uyE_H8QbRi"
      },
      "source": [
        "Exibição da evolução da acurácia no teste e na validação."
      ]
    },
    {
      "cell_type": "code",
      "metadata": {
        "colab": {
          "base_uri": "https://localhost:8080/",
          "height": 297
        },
        "id": "Yrmo0Ce-Qd0J",
        "outputId": "c5888012-eae4-423d-da84-619a29d6fd96"
      },
      "source": [
        "plt.clf()  # Limpa a figura\n",
        "\n",
        "acuracia_treino = dic_historia['acc'] \n",
        "acuracia_valid = dic_historia['val_acc']\n",
        "\n",
        "plt.plot(epocas, acuracia_treino, 'bo', label='Acurácia no Treinamento') \n",
        "plt.plot(epocas, acuracia_valid, 'b', label='Acurácia na Validação')\n",
        "plt.title('Acurácia no Treinamento e na Validação') \n",
        "plt.xlabel('Épocas') \n",
        "plt.ylabel('Acurácia') \n",
        "plt.legend()\n",
        "\n",
        "plt.show()"
      ],
      "execution_count": 45,
      "outputs": [
        {
          "output_type": "display_data",
          "data": {
            "image/png": "[encoded data removed]",
            "text/plain": [
              "<Figure size 432x288 with 1 Axes>"
            ]
          },
          "metadata": {
            "tags": [],
            "needs_background": "light"
          }
        }
      ]
    },
    {
      "cell_type": "markdown",
      "metadata": {
        "id": "zN26fp3NKS6e"
      },
      "source": [
        "# Introdução de um gargalo na rede\n",
        "\n",
        "Vamos \"esmagar\" uma camada da rede, reduzindo propositadamente seu tamanho para, em seguida, avaliar os resultados."
      ]
    },
    {
      "cell_type": "code",
      "metadata": {
        "id": "jd_-QPsgK0Gm"
      },
      "source": [
        "from keras import models \n",
        "from keras import layers\n",
        "\n",
        "modelo = models.Sequential() \n",
        "modelo.add(layers.Dense(64, activation='relu', input_shape=(10000,))) \n",
        "modelo.add(layers.Dense(4, activation='relu'))  # Camada esmagada!!!\n",
        "modelo.add(layers.Dense(46, activation='softmax'))"
      ],
      "execution_count": 78,
      "outputs": []
    },
    {
      "cell_type": "code",
      "metadata": {
        "colab": {
          "base_uri": "https://localhost:8080/"
        },
        "id": "x0q1Tg5mK0Gr",
        "outputId": "4391ddc2-537e-47af-a9b6-4ce1dbf76909"
      },
      "source": [
        "### O resto fica igual...\n",
        "\n",
        "modelo.compile(optimizer='adam', \n",
        "              loss='categorical_crossentropy', \n",
        "              metrics=['acc'])\n",
        "\n",
        "historia = modelo.fit(treino_x_parcial, \n",
        "                    treino_y_parcial, \n",
        "                    epochs=20, \n",
        "                    batch_size=512, \n",
        "                    validation_data=(valid_x, valid_y))"
      ],
      "execution_count": 79,
      "outputs": [
        {
          "output_type": "stream",
          "text": [
            "Epoch 1/20\n",
            "16/16 [==============================] - 1s 66ms/step - loss: 3.7949 - acc: 0.0448 - val_loss: 3.6215 - val_acc: 0.0220\n",
            "Epoch 2/20\n",
            "16/16 [==============================] - 1s 51ms/step - loss: 3.5411 - acc: 0.0290 - val_loss: 3.3550 - val_acc: 0.0470\n",
            "Epoch 3/20\n",
            "16/16 [==============================] - 1s 52ms/step - loss: 3.2374 - acc: 0.0806 - val_loss: 3.0337 - val_acc: 0.1380\n",
            "Epoch 4/20\n",
            "16/16 [==============================] - 1s 54ms/step - loss: 2.8449 - acc: 0.3117 - val_loss: 2.6163 - val_acc: 0.5300\n",
            "Epoch 5/20\n",
            "16/16 [==============================] - 1s 54ms/step - loss: 2.3558 - acc: 0.5993 - val_loss: 2.1370 - val_acc: 0.6090\n",
            "Epoch 6/20\n",
            "16/16 [==============================] - 1s 55ms/step - loss: 1.8709 - acc: 0.6461 - val_loss: 1.7990 - val_acc: 0.6280\n",
            "Epoch 7/20\n",
            "16/16 [==============================] - 1s 54ms/step - loss: 1.5211 - acc: 0.6682 - val_loss: 1.6383 - val_acc: 0.6390\n",
            "Epoch 8/20\n",
            "16/16 [==============================] - 1s 54ms/step - loss: 1.4077 - acc: 0.6745 - val_loss: 1.5748 - val_acc: 0.6420\n",
            "Epoch 9/20\n",
            "16/16 [==============================] - 1s 53ms/step - loss: 1.3114 - acc: 0.6837 - val_loss: 1.5293 - val_acc: 0.6560\n",
            "Epoch 10/20\n",
            "16/16 [==============================] - 1s 53ms/step - loss: 1.2196 - acc: 0.7067 - val_loss: 1.4916 - val_acc: 0.6840\n",
            "Epoch 11/20\n",
            "16/16 [==============================] - 1s 57ms/step - loss: 1.1544 - acc: 0.7504 - val_loss: 1.4673 - val_acc: 0.6900\n",
            "Epoch 12/20\n",
            "16/16 [==============================] - 1s 54ms/step - loss: 1.0921 - acc: 0.7533 - val_loss: 1.4450 - val_acc: 0.6860\n",
            "Epoch 13/20\n",
            "16/16 [==============================] - 1s 54ms/step - loss: 1.0807 - acc: 0.7533 - val_loss: 1.4303 - val_acc: 0.6890\n",
            "Epoch 14/20\n",
            "16/16 [==============================] - 1s 53ms/step - loss: 0.9990 - acc: 0.7643 - val_loss: 1.4155 - val_acc: 0.6910\n",
            "Epoch 15/20\n",
            "16/16 [==============================] - 1s 52ms/step - loss: 0.9577 - acc: 0.7601 - val_loss: 1.4031 - val_acc: 0.6870\n",
            "Epoch 16/20\n",
            "16/16 [==============================] - 1s 46ms/step - loss: 0.9264 - acc: 0.7656 - val_loss: 1.4001 - val_acc: 0.6880\n",
            "Epoch 17/20\n",
            "16/16 [==============================] - 1s 54ms/step - loss: 0.8792 - acc: 0.7745 - val_loss: 1.3932 - val_acc: 0.6900\n",
            "Epoch 18/20\n",
            "16/16 [==============================] - 1s 56ms/step - loss: 0.8517 - acc: 0.7706 - val_loss: 1.3857 - val_acc: 0.6870\n",
            "Epoch 19/20\n",
            "16/16 [==============================] - 1s 55ms/step - loss: 0.8254 - acc: 0.7714 - val_loss: 1.3836 - val_acc: 0.6870\n",
            "Epoch 20/20\n",
            "16/16 [==============================] - 1s 54ms/step - loss: 0.7894 - acc: 0.7785 - val_loss: 1.3840 - val_acc: 0.6860\n"
          ],
          "name": "stdout"
        }
      ]
    },
    {
      "cell_type": "markdown",
      "metadata": {
        "id": "Ge7wnecE7UHR"
      },
      "source": [
        "Vamos retreinar o modelo, desafogando o gargalo e inserindo o EarlyStopping por conveniência."
      ]
    },
    {
      "cell_type": "code",
      "metadata": {
        "id": "4PddHnqC58Oj",
        "colab": {
          "base_uri": "https://localhost:8080/"
        },
        "outputId": "d71d5f85-27b6-4711-c34b-d44204ebb9c2"
      },
      "source": [
        "from tensorflow.keras import callbacks\n",
        "\n",
        "modelo = models.Sequential() \n",
        "modelo.add(layers.Dense(64, activation='relu', input_shape=(10000,))) \n",
        "modelo.add(layers.Dense(64, activation='relu')) \n",
        "modelo.add(layers.Dense(46, activation='softmax'))\n",
        "\n",
        "modelo.compile(optimizer='adam', \n",
        "              loss='categorical_crossentropy', \n",
        "              metrics=['acc'])\n",
        "\n",
        "aprendeu_parou = callbacks.EarlyStopping(\n",
        "    min_delta=0.001,  # aprendizado mínimo (resultados menores não contarão como aprendizado)\n",
        "    patience=10,  # por quantas épocas insistir?\n",
        "    restore_best_weights=True)\n",
        "\n",
        "historia = modelo.fit(treino_x_parcial, \n",
        "                    treino_y_parcial, \n",
        "                    epochs=300, \n",
        "                    batch_size=512, \n",
        "                    validation_data=(valid_x, valid_y),\n",
        "                    callbacks=[aprendeu_parou])"
      ],
      "execution_count": 80,
      "outputs": [
        {
          "output_type": "stream",
          "text": [
            "Epoch 1/300\n",
            "16/16 [==============================] - 1s 57ms/step - loss: 3.6106 - acc: 0.2821 - val_loss: 2.6829 - val_acc: 0.5500\n",
            "Epoch 2/300\n",
            "16/16 [==============================] - 1s 55ms/step - loss: 2.2992 - acc: 0.5946 - val_loss: 1.6483 - val_acc: 0.6710\n",
            "Epoch 3/300\n",
            "16/16 [==============================] - 1s 55ms/step - loss: 1.4081 - acc: 0.7185 - val_loss: 1.2455 - val_acc: 0.7290\n",
            "Epoch 4/300\n",
            "16/16 [==============================] - 1s 54ms/step - loss: 1.0498 - acc: 0.7724 - val_loss: 1.0971 - val_acc: 0.7720\n",
            "Epoch 5/300\n",
            "16/16 [==============================] - 1s 51ms/step - loss: 0.8020 - acc: 0.8292 - val_loss: 0.9972 - val_acc: 0.7930\n",
            "Epoch 6/300\n",
            "16/16 [==============================] - 1s 46ms/step - loss: 0.6215 - acc: 0.8706 - val_loss: 0.9387 - val_acc: 0.8070\n",
            "Epoch 7/300\n",
            "16/16 [==============================] - 1s 44ms/step - loss: 0.4859 - acc: 0.8990 - val_loss: 0.8950 - val_acc: 0.8140\n",
            "Epoch 8/300\n",
            "16/16 [==============================] - 1s 52ms/step - loss: 0.3849 - acc: 0.9217 - val_loss: 0.8860 - val_acc: 0.8180\n",
            "Epoch 9/300\n",
            "16/16 [==============================] - 1s 50ms/step - loss: 0.2989 - acc: 0.9372 - val_loss: 0.8606 - val_acc: 0.8270\n",
            "Epoch 10/300\n",
            "16/16 [==============================] - 1s 46ms/step - loss: 0.2578 - acc: 0.9410 - val_loss: 0.8852 - val_acc: 0.8210\n",
            "Epoch 11/300\n",
            "16/16 [==============================] - 1s 45ms/step - loss: 0.2006 - acc: 0.9540 - val_loss: 0.8751 - val_acc: 0.8230\n",
            "Epoch 12/300\n",
            "16/16 [==============================] - 1s 45ms/step - loss: 0.1679 - acc: 0.9578 - val_loss: 0.8908 - val_acc: 0.8200\n",
            "Epoch 13/300\n",
            "16/16 [==============================] - 1s 47ms/step - loss: 0.1575 - acc: 0.9559 - val_loss: 0.9015 - val_acc: 0.8230\n",
            "Epoch 14/300\n",
            "16/16 [==============================] - 1s 53ms/step - loss: 0.1339 - acc: 0.9599 - val_loss: 0.9329 - val_acc: 0.8200\n",
            "Epoch 15/300\n",
            "16/16 [==============================] - 1s 46ms/step - loss: 0.1217 - acc: 0.9633 - val_loss: 0.9288 - val_acc: 0.8240\n",
            "Epoch 16/300\n",
            "16/16 [==============================] - 1s 50ms/step - loss: 0.1141 - acc: 0.9624 - val_loss: 0.9370 - val_acc: 0.8210\n",
            "Epoch 17/300\n",
            "16/16 [==============================] - 1s 54ms/step - loss: 0.1070 - acc: 0.9655 - val_loss: 0.9560 - val_acc: 0.8250\n",
            "Epoch 18/300\n",
            "16/16 [==============================] - 1s 54ms/step - loss: 0.0973 - acc: 0.9646 - val_loss: 0.9504 - val_acc: 0.8180\n",
            "Epoch 19/300\n",
            "16/16 [==============================] - 1s 55ms/step - loss: 0.0969 - acc: 0.9620 - val_loss: 0.9542 - val_acc: 0.8220\n"
          ],
          "name": "stdout"
        }
      ]
    },
    {
      "cell_type": "markdown",
      "metadata": {
        "id": "uxd2Lkg4CTai"
      },
      "source": [
        "# Avaliação"
      ]
    },
    {
      "cell_type": "code",
      "metadata": {
        "colab": {
          "base_uri": "https://localhost:8080/"
        },
        "id": "1KRFEju82uQw",
        "outputId": "f0056c11-5997-4b0c-ac9a-4b9f55d63c5c"
      },
      "source": [
        "avaliacao = modelo.evaluate(teste_x, teste_y)"
      ],
      "execution_count": 81,
      "outputs": [
        {
          "output_type": "stream",
          "text": [
            "71/71 [==============================] - 0s 2ms/step - loss: 0.9487 - acc: 0.7894\n"
          ],
          "name": "stdout"
        }
      ]
    },
    {
      "cell_type": "code",
      "metadata": {
        "id": "pnHS4_o03B6G",
        "colab": {
          "base_uri": "https://localhost:8080/"
        },
        "outputId": "ba8e96d3-2c5f-4dca-836a-a3d22482168c"
      },
      "source": [
        "print('Acurácia na avaliação: ', avaliacao[1], '\\nPerda: ', avaliacao[0])"
      ],
      "execution_count": 82,
      "outputs": [
        {
          "output_type": "stream",
          "text": [
            "Acurácia na avaliação:  0.7894033789634705 \n",
            "Perda:  0.9487050175666809\n"
          ],
          "name": "stdout"
        }
      ]
    },
    {
      "cell_type": "markdown",
      "metadata": {
        "id": "_TtKgJjcDXxk"
      },
      "source": [
        "# Previsões (etiquetagens feitas pelo modelo)"
      ]
    },
    {
      "cell_type": "code",
      "metadata": {
        "colab": {
          "base_uri": "https://localhost:8080/"
        },
        "id": "2HrGlVM_-7mt",
        "outputId": "dfef26f2-9483-480a-aff5-cf8ccd6d194c"
      },
      "source": [
        "previsoes = modelo.predict(teste_x)\n",
        "len(previsoes)"
      ],
      "execution_count": 77,
      "outputs": [
        {
          "output_type": "execute_result",
          "data": {
            "text/plain": [
              "2246"
            ]
          },
          "metadata": {
            "tags": []
          },
          "execution_count": 77
        }
      ]
    },
    {
      "cell_type": "code",
      "metadata": {
        "colab": {
          "base_uri": "https://localhost:8080/"
        },
        "id": "jw6YUVrdCgxx",
        "outputId": "03a9f6be-a416-40c1-ff9e-4406fe7a7dfd"
      },
      "source": [
        "# Quantas são as classes possíveis para uma notícia qualquer?\n",
        "previsoes[0].shape"
      ],
      "execution_count": 60,
      "outputs": [
        {
          "output_type": "execute_result",
          "data": {
            "text/plain": [
              "(46,)"
            ]
          },
          "metadata": {
            "tags": []
          },
          "execution_count": 60
        }
      ]
    },
    {
      "cell_type": "code",
      "metadata": {
        "colab": {
          "base_uri": "https://localhost:8080/"
        },
        "id": "qRxFcNe8Cndp",
        "outputId": "986db932-eb9c-41d5-8978-b98eaba86ba6"
      },
      "source": [
        "# Soma das probabilidades de todas as classes\n",
        "sum(previsoes[0])"
      ],
      "execution_count": 61,
      "outputs": [
        {
          "output_type": "execute_result",
          "data": {
            "text/plain": [
              "0.9999999892269436"
            ]
          },
          "metadata": {
            "tags": []
          },
          "execution_count": 61
        }
      ]
    },
    {
      "cell_type": "code",
      "metadata": {
        "colab": {
          "base_uri": "https://localhost:8080/"
        },
        "id": "vqthcOB2Ctj5",
        "outputId": "9613d34c-9ca5-4d80-c8c9-3d1383b75e49"
      },
      "source": [
        "# Qual a classe estimada para uma dada notícia?\n",
        "# Note que o que está sendo buscado é o índice (i.e., posição no vetor de saída)\n",
        "# da classe com maior probabilidade\n",
        "\n",
        "np.argmax(previsoes[0])  "
      ],
      "execution_count": 63,
      "outputs": [
        {
          "output_type": "execute_result",
          "data": {
            "text/plain": [
              "3"
            ]
          },
          "metadata": {
            "tags": []
          },
          "execution_count": 63
        }
      ]
    },
    {
      "cell_type": "code",
      "metadata": {
        "colab": {
          "base_uri": "https://localhost:8080/"
        },
        "id": "XWOUWCDSEJpP",
        "outputId": "94e6961b-3be6-4af7-be40-20c83f484bee"
      },
      "source": [
        "# E qual foi exatamente a probabilidade calculada para essa classe \"campeã\"?\n",
        "previsoes[0][3]"
      ],
      "execution_count": 66,
      "outputs": [
        {
          "output_type": "execute_result",
          "data": {
            "text/plain": [
              "0.99286824"
            ]
          },
          "metadata": {
            "tags": []
          },
          "execution_count": 66
        }
      ]
    },
    {
      "cell_type": "markdown",
      "metadata": {
        "id": "df9Eq6HgL88O"
      },
      "source": [
        "# Tarefa: clusterização de assuntos\n",
        "\n",
        "As notícias do conjunto de testes foram classificadas em 46 assuntos.\n",
        "\n",
        "Agora, você deve implementar: \n",
        "\n",
        "1. Uma função que agrupe em listas as notícias divididas por assunto (para cada assunto haverá uma lista de notícias).\n",
        "\n",
        "2. Uma função que receba um número qualquer correspondente à etiqueta de assunto e mostre o texto legível (não os vetores!) de três notícias quaisquer classificadas sob esse assunto.\n",
        "\n",
        "3. Aqui está a lista dos 46 assuntos do corpus Reuters:"
      ]
    },
    {
      "cell_type": "code",
      "metadata": {
        "id": "Q-Rboc-JNqPq"
      },
      "source": [
        "assuntos = ['cocoa','grain','veg-oil','earn','acq','wheat','copper','housing','money-supply',\n",
        "   'coffee','sugar','trade','reserves','ship','cotton','carcass','crude','nat-gas',\n",
        "   'cpi','money-fx','interest','gnp','meal-feed','alum','oilseed','gold','tin',\n",
        "   'strategic-metal','livestock','retail','ipi','iron-steel','rubber','heat','jobs',\n",
        "   'lei','bop','zinc','orange','pet-chem','dlr','gas','silver','wpi','hog','lead']"
      ],
      "execution_count": 83,
      "outputs": []
    },
    {
      "cell_type": "code",
      "metadata": {
        "colab": {
          "base_uri": "https://localhost:8080/"
        },
        "id": "J3Z_jnKONupV",
        "outputId": "0bd5a727-5574-44c9-a2cd-c46ade1740a2"
      },
      "source": [
        "len(assuntos)"
      ],
      "execution_count": 84,
      "outputs": [
        {
          "output_type": "execute_result",
          "data": {
            "text/plain": [
              "46"
            ]
          },
          "metadata": {
            "tags": []
          },
          "execution_count": 84
        }
      ]
    }
  ]
}