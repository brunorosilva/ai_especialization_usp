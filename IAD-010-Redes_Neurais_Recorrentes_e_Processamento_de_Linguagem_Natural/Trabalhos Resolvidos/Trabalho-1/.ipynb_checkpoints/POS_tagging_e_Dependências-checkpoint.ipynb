{
 "cells": [
  {
   "cell_type": "markdown",
   "metadata": {
    "id": "1nSXfu3pwlvp"
   },
   "source": [
    "# Mac-Morpho"
   ]
  },
  {
   "cell_type": "code",
   "execution_count": 1,
   "metadata": {
    "id": "DgIfOA5Ek1O-"
   },
   "outputs": [],
   "source": [
    "# Documento de exemplo\n",
    "texto = 'Águas passadas não movem moinhos'"
   ]
  },
  {
   "cell_type": "code",
   "execution_count": 4,
   "metadata": {
    "colab": {
     "base_uri": "https://localhost:8080/"
    },
    "id": "1_WdJcIYkNoR",
    "outputId": "dfcd0df2-ecb3-4a8d-86cb-ee6faed352f0"
   },
   "outputs": [
    {
     "name": "stderr",
     "output_type": "stream",
     "text": [
      "[nltk_data] Downloading package mac_morpho to\n",
      "[nltk_data]     /home/brunorosilva/nltk_data...\n",
      "[nltk_data]   Unzipping corpora/mac_morpho.zip.\n"
     ]
    }
   ],
   "source": [
    "import nltk\n",
    "nltk.download('mac_morpho')\n",
    "\n",
    "palavras_tags = nltk.corpus.mac_morpho.tagged_words()\n",
    "from collections import defaultdict\n",
    "\n",
    "palavras_tags = [(palavra.lower(), pos) for (palavra, pos) in palavras_tags]\n",
    "palavras_tags = defaultdict(lambda:'??', palavras_tags)\n",
    "\n",
    "def tag(sent):\n",
    "    palavras = sent.lower().split()\n",
    "    return [(p, palavras_tags[p]) for p in palavras]"
   ]
  },
  {
   "cell_type": "code",
   "execution_count": 8,
   "metadata": {
    "colab": {
     "base_uri": "https://localhost:8080/"
    },
    "id": "ooYUfrQ7xHAa",
    "outputId": "2c224164-18c2-47b9-81b0-0da919956320"
   },
   "outputs": [
    {
     "data": {
      "text/plain": [
       "[('águas', 'N'),\n",
       " ('passadas', 'PCP'),\n",
       " ('não', 'ADV'),\n",
       " ('movem', 'V'),\n",
       " ('moinhos', 'NPROP')]"
      ]
     },
     "execution_count": 8,
     "metadata": {},
     "output_type": "execute_result"
    }
   ],
   "source": [
    "tag(texto)"
   ]
  },
  {
   "cell_type": "markdown",
   "metadata": {
    "id": "hDXChd_cxeur"
   },
   "source": [
    "# POS-tagging com spaCy"
   ]
  },
  {
   "cell_type": "code",
   "execution_count": null,
   "metadata": {
    "colab": {
     "base_uri": "https://localhost:8080/"
    },
    "id": "DeTSAgE6SLpA",
    "outputId": "7462c5e4-cf7f-4055-c464-e726bb62722b"
   },
   "outputs": [
    {
     "name": "stdout",
     "output_type": "stream",
     "text": [
      "Collecting spacy\n",
      "  Downloading spacy-3.0.3-cp38-cp38-manylinux2014_x86_64.whl (12.9 MB)\n",
      "\u001b[K     |████████████████████████████████| 12.9 MB 3.8 MB/s eta 0:00:01\n",
      "\u001b[?25hCollecting thinc<8.1.0,>=8.0.0\n",
      "  Downloading thinc-8.0.1-cp38-cp38-manylinux2014_x86_64.whl (1.1 MB)\n",
      "\u001b[K     |████████████████████████████████| 1.1 MB 42.8 MB/s eta 0:00:01\n",
      "\u001b[?25hCollecting cymem<2.1.0,>=2.0.2\n",
      "  Downloading cymem-2.0.5-cp38-cp38-manylinux2014_x86_64.whl (35 kB)\n",
      "Collecting catalogue<2.1.0,>=2.0.1\n",
      "  Downloading catalogue-2.0.1-py3-none-any.whl (9.6 kB)\n",
      "Collecting typer<0.4.0,>=0.3.0\n",
      "  Downloading typer-0.3.2-py3-none-any.whl (21 kB)\n",
      "Requirement already satisfied, skipping upgrade: numpy>=1.15.0 in /home/brunorosilva/.local/lib/python3.8/site-packages (from spacy) (1.18.5)\n",
      "Collecting spacy-legacy<3.1.0,>=3.0.0\n",
      "  Downloading spacy_legacy-3.0.1-py2.py3-none-any.whl (7.0 kB)\n",
      "Requirement already satisfied, skipping upgrade: setuptools in /usr/lib/python3/dist-packages (from spacy) (45.2.0)\n",
      "Collecting blis<0.8.0,>=0.4.0\n",
      "  Downloading blis-0.7.4-cp38-cp38-manylinux2014_x86_64.whl (9.8 MB)\n",
      "\u001b[K     |████████████████████████████████| 9.8 MB 42.3 MB/s eta 0:00:01\n",
      "\u001b[?25hRequirement already satisfied, skipping upgrade: tqdm<5.0.0,>=4.38.0 in /home/brunorosilva/.local/lib/python3.8/site-packages (from spacy) (4.56.0)\n",
      "Collecting pydantic<1.8.0,>=1.7.1\n",
      "  Downloading pydantic-1.7.3-cp38-cp38-manylinux2014_x86_64.whl (12.2 MB)\n",
      "\u001b[K     |████████████████████████████████| 12.2 MB 10.5 MB/s eta 0:00:01\n",
      "\u001b[?25hRequirement already satisfied, skipping upgrade: jinja2 in /home/brunorosilva/.local/lib/python3.8/site-packages (from spacy) (2.11.2)\n",
      "Collecting srsly<3.0.0,>=2.4.0\n",
      "  Downloading srsly-2.4.0-cp38-cp38-manylinux2014_x86_64.whl (458 kB)\n",
      "\u001b[K     |████████████████████████████████| 458 kB 17.7 MB/s eta 0:00:01\n",
      "\u001b[?25hRequirement already satisfied, skipping upgrade: packaging>=20.0 in /home/brunorosilva/.local/lib/python3.8/site-packages (from spacy) (20.4)\n",
      "Requirement already satisfied, skipping upgrade: requests<3.0.0,>=2.13.0 in /usr/lib/python3/dist-packages (from spacy) (2.22.0)\n",
      "Collecting wasabi<1.1.0,>=0.8.1\n",
      "  Downloading wasabi-0.8.2-py3-none-any.whl (23 kB)\n"
     ]
    }
   ],
   "source": [
    "# Instalação/atualização do spaCy e dos modelos de língua\n",
    "!pip3 install -U spacy\n",
    "\n",
    "!python3 -m spacy download pt_core_news_sm  # Notar o \"sm\": Small Model"
   ]
  },
  {
   "cell_type": "code",
   "execution_count": null,
   "metadata": {
    "id": "8SUQmOockpek"
   },
   "outputs": [],
   "source": [
    "# Importação do módulo e do modelo de língua\n",
    "import spacy\n",
    "nlp = spacy.load('pt_core_news_sm')"
   ]
  },
  {
   "cell_type": "code",
   "execution_count": null,
   "metadata": {
    "id": "-81qrj1qxC5t"
   },
   "outputs": [],
   "source": [
    "doc = nlp(texto)"
   ]
  },
  {
   "cell_type": "code",
   "execution_count": null,
   "metadata": {
    "colab": {
     "base_uri": "https://localhost:8080/"
    },
    "id": "nYP2lV7jxqqT",
    "outputId": "40ba1a1c-4681-48c7-f2da-207c3ce5d924"
   },
   "outputs": [],
   "source": [
    "for token in doc:\n",
    "    print(token.text, token.pos_)"
   ]
  },
  {
   "cell_type": "markdown",
   "metadata": {
    "id": "Y9jGd4e5klD1"
   },
   "source": [
    "# Análise de Dependências"
   ]
  },
  {
   "cell_type": "code",
   "execution_count": 17,
   "metadata": {
    "colab": {
     "base_uri": "https://localhost:8080/"
    },
    "id": "zSW6m9aolIg_",
    "outputId": "9a25b18d-c1e9-4115-d18b-febadebc8083"
   },
   "outputs": [
    {
     "name": "stdout",
     "output_type": "stream",
     "text": [
      "Águas nsubj\n",
      "passadas ROOT\n",
      "não advmod\n",
      "movem xcomp\n",
      "moinhos obj\n"
     ]
    }
   ],
   "source": [
    "for token in doc:\n",
    "    print(token.text, token.dep_)"
   ]
  },
  {
   "cell_type": "code",
   "execution_count": null,
   "metadata": {
    "colab": {
     "base_uri": "https://localhost:8080/",
     "height": 333
    },
    "id": "yokkuAAHlVw6",
    "outputId": "06f1a1a5-8eaf-4695-ad76-910d5b76d9fc"
   },
   "outputs": [
    {
     "data": {
      "text/html": [
       "<span class=\"tex2jax_ignore\"><svg xmlns=\"http://www.w3.org/2000/svg\" xmlns:xlink=\"http://www.w3.org/1999/xlink\" xml:lang=\"pt\" id=\"498ce1d1e31644fdb1722eed47530861-0\" class=\"displacy\" width=\"925\" height=\"312.0\" direction=\"ltr\" style=\"max-width: none; height: 312.0px; color: #000000; background: #ffffff; font-family: Arial; direction: ltr\">\n",
       "<text class=\"displacy-token\" fill=\"currentColor\" text-anchor=\"middle\" y=\"222.0\">\n",
       "    <tspan class=\"displacy-word\" fill=\"currentColor\" x=\"50\">Águas</tspan>\n",
       "    <tspan class=\"displacy-tag\" dy=\"2em\" fill=\"currentColor\" x=\"50\">NOUN</tspan>\n",
       "</text>\n",
       "\n",
       "<text class=\"displacy-token\" fill=\"currentColor\" text-anchor=\"middle\" y=\"222.0\">\n",
       "    <tspan class=\"displacy-word\" fill=\"currentColor\" x=\"225\">passadas</tspan>\n",
       "    <tspan class=\"displacy-tag\" dy=\"2em\" fill=\"currentColor\" x=\"225\">VERB</tspan>\n",
       "</text>\n",
       "\n",
       "<text class=\"displacy-token\" fill=\"currentColor\" text-anchor=\"middle\" y=\"222.0\">\n",
       "    <tspan class=\"displacy-word\" fill=\"currentColor\" x=\"400\">não</tspan>\n",
       "    <tspan class=\"displacy-tag\" dy=\"2em\" fill=\"currentColor\" x=\"400\">ADV</tspan>\n",
       "</text>\n",
       "\n",
       "<text class=\"displacy-token\" fill=\"currentColor\" text-anchor=\"middle\" y=\"222.0\">\n",
       "    <tspan class=\"displacy-word\" fill=\"currentColor\" x=\"575\">movem</tspan>\n",
       "    <tspan class=\"displacy-tag\" dy=\"2em\" fill=\"currentColor\" x=\"575\">VERB</tspan>\n",
       "</text>\n",
       "\n",
       "<text class=\"displacy-token\" fill=\"currentColor\" text-anchor=\"middle\" y=\"222.0\">\n",
       "    <tspan class=\"displacy-word\" fill=\"currentColor\" x=\"750\">moinhos.</tspan>\n",
       "    <tspan class=\"displacy-tag\" dy=\"2em\" fill=\"currentColor\" x=\"750\">NOUN</tspan>\n",
       "</text>\n",
       "\n",
       "<g class=\"displacy-arrow\">\n",
       "    <path class=\"displacy-arc\" id=\"arrow-498ce1d1e31644fdb1722eed47530861-0-0\" stroke-width=\"2px\" d=\"M70,177.0 C70,89.5 220.0,89.5 220.0,177.0\" fill=\"none\" stroke=\"currentColor\"/>\n",
       "    <text dy=\"1.25em\" style=\"font-size: 0.8em; letter-spacing: 1px\">\n",
       "        <textPath xlink:href=\"#arrow-498ce1d1e31644fdb1722eed47530861-0-0\" class=\"displacy-label\" startOffset=\"50%\" side=\"left\" fill=\"currentColor\" text-anchor=\"middle\">nsubj</textPath>\n",
       "    </text>\n",
       "    <path class=\"displacy-arrowhead\" d=\"M70,179.0 L62,167.0 78,167.0\" fill=\"currentColor\"/>\n",
       "</g>\n",
       "\n",
       "<g class=\"displacy-arrow\">\n",
       "    <path class=\"displacy-arc\" id=\"arrow-498ce1d1e31644fdb1722eed47530861-0-1\" stroke-width=\"2px\" d=\"M420,177.0 C420,89.5 570.0,89.5 570.0,177.0\" fill=\"none\" stroke=\"currentColor\"/>\n",
       "    <text dy=\"1.25em\" style=\"font-size: 0.8em; letter-spacing: 1px\">\n",
       "        <textPath xlink:href=\"#arrow-498ce1d1e31644fdb1722eed47530861-0-1\" class=\"displacy-label\" startOffset=\"50%\" side=\"left\" fill=\"currentColor\" text-anchor=\"middle\">advmod</textPath>\n",
       "    </text>\n",
       "    <path class=\"displacy-arrowhead\" d=\"M420,179.0 L412,167.0 428,167.0\" fill=\"currentColor\"/>\n",
       "</g>\n",
       "\n",
       "<g class=\"displacy-arrow\">\n",
       "    <path class=\"displacy-arc\" id=\"arrow-498ce1d1e31644fdb1722eed47530861-0-2\" stroke-width=\"2px\" d=\"M245,177.0 C245,2.0 575.0,2.0 575.0,177.0\" fill=\"none\" stroke=\"currentColor\"/>\n",
       "    <text dy=\"1.25em\" style=\"font-size: 0.8em; letter-spacing: 1px\">\n",
       "        <textPath xlink:href=\"#arrow-498ce1d1e31644fdb1722eed47530861-0-2\" class=\"displacy-label\" startOffset=\"50%\" side=\"left\" fill=\"currentColor\" text-anchor=\"middle\">xcomp</textPath>\n",
       "    </text>\n",
       "    <path class=\"displacy-arrowhead\" d=\"M575.0,179.0 L583.0,167.0 567.0,167.0\" fill=\"currentColor\"/>\n",
       "</g>\n",
       "\n",
       "<g class=\"displacy-arrow\">\n",
       "    <path class=\"displacy-arc\" id=\"arrow-498ce1d1e31644fdb1722eed47530861-0-3\" stroke-width=\"2px\" d=\"M595,177.0 C595,89.5 745.0,89.5 745.0,177.0\" fill=\"none\" stroke=\"currentColor\"/>\n",
       "    <text dy=\"1.25em\" style=\"font-size: 0.8em; letter-spacing: 1px\">\n",
       "        <textPath xlink:href=\"#arrow-498ce1d1e31644fdb1722eed47530861-0-3\" class=\"displacy-label\" startOffset=\"50%\" side=\"left\" fill=\"currentColor\" text-anchor=\"middle\">obj</textPath>\n",
       "    </text>\n",
       "    <path class=\"displacy-arrowhead\" d=\"M745.0,179.0 L753.0,167.0 737.0,167.0\" fill=\"currentColor\"/>\n",
       "</g>\n",
       "</svg></span>"
      ],
      "text/plain": [
       "<IPython.core.display.HTML object>"
      ]
     },
     "metadata": {
      "tags": []
     },
     "output_type": "display_data"
    }
   ],
   "source": [
    "# Exibição gráfica das dependências\n",
    "from spacy import displacy\n",
    "\n",
    "displacy.render(doc, style=\"dep\", jupyter=True)\n"
   ]
  },
  {
   "cell_type": "code",
   "execution_count": null,
   "metadata": {
    "colab": {
     "base_uri": "https://localhost:8080/"
    },
    "id": "_moNXWzKnn3w",
    "outputId": "096f7a01-511f-499d-f9d6-76e8941553b7"
   },
   "outputs": [
    {
     "data": {
      "text/plain": [
       "3865"
      ]
     },
     "execution_count": 9,
     "metadata": {
      "tags": []
     },
     "output_type": "execute_result"
    }
   ],
   "source": [
    "# Gravação da imagem gerada em arquivo\n",
    "from pathlib import Path\n",
    "\n",
    "svg = displacy.render(doc, style=\"dep\", jupyter=False)\n",
    "output_path = Path(\"sentence.svg\")\n",
    "output_path.open(\"w\", encoding=\"utf-8\").write(svg)"
   ]
  },
  {
   "cell_type": "markdown",
   "metadata": {
    "id": "oAJZfaX4ykUW"
   },
   "source": [
    "# Exercício\n",
    "\n",
    "1. Sabemos que o corpus Mac-Morpho é constituído de notícias de jornal. Através de uma análise de dependências, avalie qual a função gramatical mais comum destas palavras:\n",
    "\n",
    "- Dinheiro\n",
    "- Investidores\n",
    "- (qualquer outra de seu interesse)\n",
    "\n",
    "Discuta como aproveitar esses resultados na extração de informações dos documentos."
   ]
  },
  {
   "cell_type": "markdown",
   "metadata": {
    "id": "qEjGkwHY96Vo"
   },
   "source": [
    "# Tarefa em grupo: um pouco de Linguística Forense\n",
    "\n",
    "Seu grupo de especialistas em PLN foi chamado para periciar um texto de autor incógnito. Há três elementos suspeitos de ser o autor da obra. Todos negam veementemente a autoria. São eles:\n",
    "\n",
    "* Machado de Assis, autor de \"Dom Casmurro\"\n",
    "* José de Alencar, autor de \"O Guarani\"\n",
    "* Joaquim Nabuco, autor de \"O Abolicionismo\"\n",
    "\n",
    "Você tem à disposição esses livros para comparar com o livro apócrifo. \n",
    "\n",
    "Em suas análises, use alguns dos recursos comuns da Linguística Forense:\n",
    "\n",
    "* Análise das divisões de período (pontuação);\n",
    "* Comparação das colocações adverbiais, em especial os modais (etiqueta de dependência: \"advmod\") e as adversativas (\"mas\", \"entretanto\" etc.).\n",
    "\n",
    "Ao final, responda: quem é o autor do livro apócrifo?"
   ]
  }
 ],
 "metadata": {
  "colab": {
   "collapsed_sections": [],
   "name": "POS-tagging e Dependências",
   "provenance": []
  },
  "kernelspec": {
   "display_name": "Python 3",
   "language": "python",
   "name": "python3"
  },
  "language_info": {
   "codemirror_mode": {
    "name": "ipython",
    "version": 3
   },
   "file_extension": ".py",
   "mimetype": "text/x-python",
   "name": "python",
   "nbconvert_exporter": "python",
   "pygments_lexer": "ipython3",
   "version": "3.8.5"
  }
 },
 "nbformat": 4,
 "nbformat_minor": 1
}
