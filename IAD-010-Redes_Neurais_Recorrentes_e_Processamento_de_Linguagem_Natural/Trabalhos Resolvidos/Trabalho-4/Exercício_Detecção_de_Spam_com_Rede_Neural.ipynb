{
 "cells": [
  {
   "cell_type": "markdown",
   "metadata": {
    "id": "E7mDaLZuzkHI"
   },
   "source": [
    "# Preparação do corpus e pré-processamento"
   ]
  },
  {
   "cell_type": "code",
   "execution_count": 3,
   "metadata": {
    "colab": {
     "base_uri": "https://localhost:8080/"
    },
    "id": "EBNhq9XZu5px",
    "outputId": "d844c34f-7070-43f9-da66-fac2bc17fc79"
   },
   "outputs": [
    {
     "name": "stdout",
     "output_type": "stream",
     "text": [
      "Archive:  Enron.zip\n",
      "replace enron/0001.1999-12-10.farmer.ham.txt? [y]es, [n]o, [A]ll, [N]one, [r]ename: "
     ]
    }
   ],
   "source": [
    "from google.colab import files\n",
    "import glob\n",
    "\n",
    "# arquivo = files.upload()\n",
    "!unzip 'Enron.zip' -d 'enron'"
   ]
  },
  {
   "cell_type": "code",
   "execution_count": 4,
   "metadata": {
    "colab": {
     "base_uri": "https://localhost:8080/"
    },
    "id": "KxapdkZO5tgl",
    "outputId": "761609de-57ac-46b5-bdb7-580022814d3e"
   },
   "outputs": [
    {
     "name": "stdout",
     "output_type": "stream",
     "text": [
      "[nltk_data] Downloading package stopwords to /root/nltk_data...\n",
      "[nltk_data]   Package stopwords is already up-to-date!\n",
      "[nltk_data] Downloading package punkt to /root/nltk_data...\n",
      "[nltk_data]   Package punkt is already up-to-date!\n"
     ]
    }
   ],
   "source": [
    "import nltk\n",
    "nltk.download('stopwords')\n",
    "stops = nltk.corpus.stopwords.words('english')\n",
    "nltk.download('punkt')\n",
    "from nltk.tokenize import word_tokenize\n",
    "from nltk.stem.snowball import SnowballStemmer\n",
    "stemmer = SnowballStemmer('english')\n",
    "\n",
    "\n",
    "def tokenizar(str_texto):\n",
    "    return word_tokenize(str_texto)\n",
    "\n",
    "def limpar(lista):\n",
    "    return [i.lower() for i in lista if i.isalpha()]\n",
    "\n",
    "def sem_stops(lista):\n",
    "    return [i for i in lista if i not in stops]\n",
    "\n",
    "def stemizar(lista):\n",
    "    return [stemmer.stem(i) for i in lista]"
   ]
  },
  {
   "cell_type": "code",
   "execution_count": 5,
   "metadata": {
    "id": "B0yd20Yz52pM"
   },
   "outputs": [],
   "source": [
    "arqs = glob.glob('enron/*.txt')\n",
    "mensagens = list()\n",
    "etiquetas = list()\n",
    "for arq in arqs:\n",
    "    arquivo = open(arq, 'r')\n",
    "    classe = int(arquivo.readline()[0])  # Pega só o número e deixa de fora o \\n\n",
    "    \n",
    "    texto = arquivo.read()\n",
    "    texto = stemizar(sem_stops(limpar(tokenizar(texto))))\n",
    "    mensagens.append(texto)\n",
    "    etiquetas.append(classe)\n",
    "    arquivo.close()"
   ]
  },
  {
   "cell_type": "code",
   "execution_count": 6,
   "metadata": {
    "colab": {
     "base_uri": "https://localhost:8080/"
    },
    "id": "JtjYDLXt_Y64",
    "outputId": "3ba2a0af-05f8-425d-c787-ef63e897f03d"
   },
   "outputs": [
    {
     "data": {
      "text/plain": [
       "[1, 0, 1, 0, 1, 0, 0, 0, 0, 0]"
      ]
     },
     "execution_count": 6,
     "metadata": {
      "tags": []
     },
     "output_type": "execute_result"
    }
   ],
   "source": [
    "# Conferindo...\n",
    "etiquetas[:10]"
   ]
  },
  {
   "cell_type": "markdown",
   "metadata": {
    "id": "xfUjcxcE2HUT"
   },
   "source": [
    "# Codificação (encoding)"
   ]
  },
  {
   "cell_type": "code",
   "execution_count": 7,
   "metadata": {
    "colab": {
     "base_uri": "https://localhost:8080/"
    },
    "id": "qOUr__4Xy1sN",
    "outputId": "2425470e-a964-4494-8273-11bdb705c127"
   },
   "outputs": [
    {
     "data": {
      "text/plain": [
       "array([list([29861, 16984, 30595, 33700, 4534, 27977, 1698, 22052, 26454, 17536, 36742, 13466, 17537, 17537, 11832, 36831, 35491, 19507, 23844, 24623, 11572, 37248, 758, 30421, 27566, 7305, 27566, 22042, 27566, 11832, 18679, 36742, 27472, 19947, 27373]),\n",
       "       list([29861, 19754, 16063, 20676, 18594, 17311, 5440, 15655, 29646, 37721, 17722, 36133, 35342, 24971, 3412, 23818, 1815, 5440, 18594, 17311, 28370, 8231, 17311, 29589, 24880, 8423, 6757, 33552, 26041, 33844, 11547, 37691, 32131, 28403, 19507, 2263, 33552, 35943, 12649, 23031, 19254, 1659, 24880, 8423, 6757, 12153, 17311, 1659, 26063, 17311, 35342, 20118, 8972, 37391, 8071, 28397]),\n",
       "       list([29861, 31390, 11447, 37672, 31031, 19947, 24283, 5576, 11377, 11447, 37672, 33416, 31031, 1227, 33849, 31031, 21116, 5189, 5607, 18358, 33984, 19947, 24283, 8423, 10078, 10526, 32281, 31031, 9488, 29138, 8240, 11917, 19947, 17931, 10078, 29205, 10526, 32281, 19045, 23469, 13304, 25390, 4541, 15519, 26980, 24367, 34786, 24283, 749, 9813, 13913, 30967, 17536, 12004, 16947, 23262, 4819, 19329, 28853, 8929, 15971, 6806, 9817, 23262, 4819, 19329, 11255]),\n",
       "       ...,\n",
       "       list([29861, 7931, 1815, 20118, 26319, 1380, 35342, 2550, 21311, 20118, 26319, 1798, 17268, 20735, 11876, 10309, 21451, 7295, 16195, 14705, 28811, 9817, 9973, 19666, 9786, 37575, 8071, 9694, 29704, 9916, 29079, 24997, 28107, 26582, 28107, 7994, 8696, 24587, 27357, 1897, 29861, 1815, 20118, 26319, 26582, 35608, 26646, 20118, 8075]),\n",
       "       list([29861, 23256, 33580, 20911, 23256, 29141, 29434, 9986, 26319, 30791, 11909, 26051, 24998, 4951, 8571, 4216, 37415, 30138, 9727, 28740, 36831, 19586, 14312, 30791, 20911, 10769, 21410, 2201, 9904, 14312, 1437, 6395, 9817, 417]),\n",
       "       list([29861, 9904, 6771, 9904, 19771, 14647, 19586, 1144, 31697, 30791, 19856, 21966, 9904, 26160, 9904, 20487, 14647, 19586, 8398, 8696, 26822, 37415, 7026, 26063, 609, 9904, 9817, 27406])],\n",
       "      dtype=object)"
      ]
     },
     "execution_count": 7,
     "metadata": {
      "tags": []
     },
     "output_type": "execute_result"
    }
   ],
   "source": [
    "import numpy as np\n",
    "\n",
    "vocab = set([p for sent in mensagens for p in sent])\n",
    "\n",
    "# Cria um dicionário {palavra: índice}\n",
    "indices_de_palavras = {palavra: e+1 for e, palavra in enumerate(vocab)}  # e+1 para que o primeiro índice não seja 0, que é um pad\n",
    "\n",
    "# Gera um vetor de índices de palavras para cada mensagem\n",
    "vetores_msg = np.array([[indices_de_palavras[p] for p in d] for d in mensagens], dtype=object)\n",
    "vetores_msg"
   ]
  },
  {
   "cell_type": "code",
   "execution_count": 8,
   "metadata": {
    "colab": {
     "base_uri": "https://localhost:8080/"
    },
    "id": "h4ngFwAe0HXT",
    "outputId": "9785840e-e14b-47bf-b0d7-ddc422bba3b3"
   },
   "outputs": [
    {
     "name": "stdout",
     "output_type": "stream",
     "text": [
      "37892\n"
     ]
    },
    {
     "data": {
      "text/plain": [
       "31427"
      ]
     },
     "execution_count": 8,
     "metadata": {
      "tags": []
     },
     "output_type": "execute_result"
    }
   ],
   "source": [
    "# Conferindo...\n",
    "print(len(vocab))\n",
    "indices_de_palavras['viagra']"
   ]
  },
  {
   "cell_type": "markdown",
   "metadata": {
    "id": "KbOVthwK0Gxp"
   },
   "source": [
    "# Sua vez: conversão para vetores binários"
   ]
  },
  {
   "cell_type": "code",
   "execution_count": 9,
   "metadata": {
    "id": "zoAEzPTu0jlP"
   },
   "outputs": [],
   "source": [
    "def binarizar(matriz_int, dim):\n",
    "    binarizado = np.zeros((len(matriz_int), dim))\n",
    "\n",
    "    for e, vetor in enumerate(matriz_int):\n",
    "        binarizado[e, vetor] = 1.\n",
    "\n",
    "    return binarizado\n",
    "\n",
    "# Conversão em binários dos testos das resenhas (variável X)\n",
    "vetores_msg_bin = binarizar(vetores_msg, dim=len(vocab)+1)"
   ]
  },
  {
   "cell_type": "code",
   "execution_count": 10,
   "metadata": {
    "colab": {
     "base_uri": "https://localhost:8080/"
    },
    "id": "VFmUxDIJ-T-q",
    "outputId": "b54cc812-23c6-4951-bf70-76fabd503d11"
   },
   "outputs": [
    {
     "name": "stdout",
     "output_type": "stream",
     "text": [
      "(5157, 37893)\n"
     ]
    },
    {
     "data": {
      "text/plain": [
       "array([0., 0., 0., ..., 0., 0., 0.])"
      ]
     },
     "execution_count": 10,
     "metadata": {
      "tags": []
     },
     "output_type": "execute_result"
    }
   ],
   "source": [
    "# Conferindo...\n",
    "print(vetores_msg_bin.shape)\n",
    "vetores_msg_bin[0]"
   ]
  },
  {
   "cell_type": "code",
   "execution_count": 11,
   "metadata": {
    "id": "YHdmR7APLPXY"
   },
   "outputs": [],
   "source": [
    "# Binarização das etiquetas de classificação. Variável Y.\n",
    "\n",
    "etiquetas_bin = np.asarray(etiquetas).astype('float32')"
   ]
  },
  {
   "cell_type": "code",
   "execution_count": 12,
   "metadata": {
    "colab": {
     "base_uri": "https://localhost:8080/"
    },
    "id": "P7A3w1sFvMuR",
    "outputId": "2db1b73f-3138-4cd8-e713-3e18cc140b77"
   },
   "outputs": [
    {
     "data": {
      "text/plain": [
       "array([1., 0., 1., 0., 1., 0., 0., 0., 0., 0.], dtype=float32)"
      ]
     },
     "execution_count": 12,
     "metadata": {
      "tags": []
     },
     "output_type": "execute_result"
    }
   ],
   "source": [
    "# Conferindo...\n",
    "etiquetas_bin[:10] "
   ]
  },
  {
   "cell_type": "markdown",
   "metadata": {
    "id": "4HNgJYj01UuN"
   },
   "source": [
    "# Sua vez: partição dos dados em treinamento / teste"
   ]
  },
  {
   "cell_type": "code",
   "execution_count": 13,
   "metadata": {
    "id": "Qgncg97kyyXs"
   },
   "outputs": [],
   "source": [
    "# Partição treinamento / teste\n",
    "treino_x = vetores_msg_bin[:round(len(mensagens) * 0.8)]\n",
    "teste_x = vetores_msg_bin[round(len(mensagens) * 0.8):]\n",
    "\n",
    "treino_y = etiquetas_bin[:len(treino_x)]\n",
    "teste_y = etiquetas_bin[len(treino_y):]"
   ]
  },
  {
   "cell_type": "code",
   "execution_count": 14,
   "metadata": {
    "colab": {
     "base_uri": "https://localhost:8080/"
    },
    "id": "LKtH_iEWb_Ka",
    "outputId": "eba527e8-8945-489c-818e-1765235a05e1"
   },
   "outputs": [
    {
     "name": "stdout",
     "output_type": "stream",
     "text": [
      "(4126, 37893)\n",
      "(1031, 37893)\n",
      "(4126,)\n",
      "(1031,)\n"
     ]
    }
   ],
   "source": [
    "print(treino_x.shape)\n",
    "print(teste_x.shape)\n",
    "print(treino_y.shape)\n",
    "print(teste_y.shape)"
   ]
  },
  {
   "cell_type": "code",
   "execution_count": 15,
   "metadata": {
    "colab": {
     "base_uri": "https://localhost:8080/"
    },
    "id": "VsxOXxuacW0c",
    "outputId": "7dfa460b-2cd8-4c4d-deb5-eca4a8373bf9"
   },
   "outputs": [
    {
     "data": {
      "text/plain": [
       "5157"
      ]
     },
     "execution_count": 15,
     "metadata": {
      "tags": []
     },
     "output_type": "execute_result"
    }
   ],
   "source": [
    "len(mensagens)"
   ]
  },
  {
   "cell_type": "markdown",
   "metadata": {
    "id": "s9Q00gDWgDiM"
   },
   "source": [
    "# Criação do modelo de rede"
   ]
  },
  {
   "cell_type": "markdown",
   "metadata": {
    "id": "dhB-j-uvN5XJ"
   },
   "source": [
    "Partição dos dados de treinamento em (1) validação e (2) treinamento parcial, tanto X (resenhas) quanto Y (etiquetas)."
   ]
  },
  {
   "cell_type": "code",
   "execution_count": 16,
   "metadata": {
    "id": "yWaIiN3MN9D4"
   },
   "outputs": [],
   "source": [
    "valid_x = treino_x[:2000]\n",
    "treino_x_parcial = treino_x[2000:]\n",
    "valid_y = treino_y[:2000] \n",
    "treino_y_parcial = treino_y[2000:]"
   ]
  },
  {
   "cell_type": "markdown",
   "metadata": {
    "id": "znTxIhdH1oOy"
   },
   "source": [
    "# Sua vez \n",
    "\n",
    "Determine os parâmetros faltantes na arquitetura do modelo: forma da camada de entrada e tamanho da camada de saída."
   ]
  },
  {
   "cell_type": "code",
   "execution_count": 17,
   "metadata": {
    "id": "QMSafk6egHEe"
   },
   "outputs": [],
   "source": [
    "from keras import models \n",
    "from keras import layers\n",
    "\n",
    "modelo = models.Sequential() \n",
    "modelo.add(layers.Dense(16, activation='relu', input_shape=(37893,)))\n",
    "modelo.add(layers.Dense(16, activation='relu'))\n",
    "modelo.add(layers.Dense(1, activation='sigmoid'))"
   ]
  },
  {
   "cell_type": "code",
   "execution_count": 18,
   "metadata": {
    "colab": {
     "base_uri": "https://localhost:8080/"
    },
    "id": "LCkp9Hwvdhli",
    "outputId": "bbd12b7e-9bf3-44e9-e86f-c6306aa0450e"
   },
   "outputs": [
    {
     "name": "stdout",
     "output_type": "stream",
     "text": [
      "Model: \"sequential\"\n",
      "_________________________________________________________________\n",
      "Layer (type)                 Output Shape              Param #   \n",
      "=================================================================\n",
      "dense (Dense)                (None, 16)                606304    \n",
      "_________________________________________________________________\n",
      "dense_1 (Dense)              (None, 16)                272       \n",
      "_________________________________________________________________\n",
      "dense_2 (Dense)              (None, 1)                 17        \n",
      "=================================================================\n",
      "Total params: 606,593\n",
      "Trainable params: 606,593\n",
      "Non-trainable params: 0\n",
      "_________________________________________________________________\n"
     ]
    }
   ],
   "source": [
    "modelo.summary()"
   ]
  },
  {
   "cell_type": "markdown",
   "metadata": {
    "id": "DbghZxhVGlty"
   },
   "source": [
    "# Sua vez\n",
    "\n",
    "Preencha os parâmetros para a compilação do modelo de acordo com a informação do comentário."
   ]
  },
  {
   "cell_type": "code",
   "execution_count": 19,
   "metadata": {
    "id": "_UVySOvGGoyx"
   },
   "outputs": [],
   "source": [
    "# A função de perda escolhida é a entropia cruzada, boa para classificação probabilística,\n",
    "# e binária, pois temos duas classes possíveis para as etiquetas das resenhas (pos. e neg.)\n",
    "# O otimizador é o Adam, sempre uma boa escolha para PLN.\n",
    "# O desempenho será avaliado pela acurácia (\"acc\").\n",
    "\n",
    "modelo.compile(optimizer='adam', \n",
    "              loss='binary_crossentropy', \n",
    "              metrics='acc')"
   ]
  },
  {
   "cell_type": "markdown",
   "metadata": {
    "id": "1Hr5wRG_OONW"
   },
   "source": [
    "Treinamento do modelo compilado."
   ]
  },
  {
   "cell_type": "code",
   "execution_count": 20,
   "metadata": {
    "id": "5HkB-MzFOQAi"
   },
   "outputs": [],
   "source": [
    "historia = modelo.fit(treino_x_parcial, \n",
    "                    treino_y_parcial, \n",
    "                    epochs=30, \n",
    "                    batch_size=512, \n",
    "                    validation_data=(valid_x, valid_y), \n",
    "                    verbose=0  # já que será gerado um gráfico, não é tão importante ver os números do aprendizado\n",
    "                    )"
   ]
  },
  {
   "cell_type": "markdown",
   "metadata": {
    "id": "PkqandbvPkuc"
   },
   "source": [
    "Exibição da evolução da perda no treinamento e na validação."
   ]
  },
  {
   "cell_type": "code",
   "execution_count": 21,
   "metadata": {
    "colab": {
     "base_uri": "https://localhost:8080/",
     "height": 297
    },
    "id": "mVBsnEOiPlxp",
    "outputId": "a78d81f8-a0b0-4cd2-cabd-9d0ce7061d31"
   },
   "outputs": [
    {
     "data": {
      "image/png": "[encoded data removed]",
      "text/plain": [
       "<Figure size 432x288 with 1 Axes>"
      ]
     },
     "metadata": {
      "needs_background": "light",
      "tags": []
     },
     "output_type": "display_data"
    }
   ],
   "source": [
    "import matplotlib.pyplot as plt\n",
    "\n",
    "dic_historia = historia.history  # dict_keys(['loss', 'acc', 'val_loss', 'val_acc'])\n",
    "perda = dic_historia['loss'] \n",
    "perda_valid = dic_historia['val_loss']\n",
    "\n",
    "acuracia = dic_historia['acc']\n",
    "epocas = range(1, len(acuracia) + 1)\n",
    "\n",
    "plt.plot(epocas, perda, 'bo', label='Perda no treinamento')  # “bo” = pontilhado azul\n",
    "plt.plot(epocas, perda_valid, 'b', label='Perda na validação')  # “b” = linha contínua azul\n",
    "plt.title('Perda no Treinamento e na Validação') \n",
    "plt.xlabel('Épocas')\n",
    "plt.ylabel('Perda')\n",
    "plt.legend()\n",
    "\n",
    "plt.show()"
   ]
  },
  {
   "cell_type": "markdown",
   "metadata": {
    "id": "x-uyE_H8QbRi"
   },
   "source": [
    "Exibição da evolução da acurácia no teste e na validação."
   ]
  },
  {
   "cell_type": "code",
   "execution_count": 22,
   "metadata": {
    "colab": {
     "base_uri": "https://localhost:8080/",
     "height": 297
    },
    "id": "Yrmo0Ce-Qd0J",
    "outputId": "5eff3044-d284-488d-fcf0-2cd256f50416"
   },
   "outputs": [
    {
     "data": {
      "image/png": "[encoded data removed]",
      "text/plain": [
       "<Figure size 432x288 with 1 Axes>"
      ]
     },
     "metadata": {
      "needs_background": "light",
      "tags": []
     },
     "output_type": "display_data"
    }
   ],
   "source": [
    "plt.clf()  # Limpa a figura\n",
    "\n",
    "acuracia_treino = dic_historia['acc'] \n",
    "acuracia_valid = dic_historia['val_acc']\n",
    "\n",
    "plt.plot(epocas, acuracia_treino, 'bo', label='Acurácia no Treinamento') \n",
    "plt.plot(epocas, acuracia_valid, 'b', label='Acurácia na Validação')\n",
    "plt.title('Acurácia no Treinamento e na Validação') \n",
    "plt.xlabel('Épocas') \n",
    "plt.ylabel('Acurácia') \n",
    "plt.legend()\n",
    "\n",
    "plt.show()"
   ]
  },
  {
   "cell_type": "markdown",
   "metadata": {
    "id": "9XZ0phFS58Of"
   },
   "source": [
    "# Treinamento com `EarlyStopping`\n",
    "\n",
    "O modelo será treinado novamente com um número grande de épocas, em busca de obter seu melhor desempenho e parar quando encontrá-lo \"automaticamente\", isto é, quando parar de ter melhoria no aprendizado.\n"
   ]
  },
  {
   "cell_type": "code",
   "execution_count": 23,
   "metadata": {
    "colab": {
     "base_uri": "https://localhost:8080/"
    },
    "id": "4PddHnqC58Oj",
    "outputId": "cb7c8d80-d18a-44f4-9f5c-736e552697a3"
   },
   "outputs": [
    {
     "name": "stdout",
     "output_type": "stream",
     "text": [
      "Epoch 1/300\n",
      "5/5 [==============================] - 1s 166ms/step - loss: 0.0144 - acc: 0.9995 - val_loss: 0.0763 - val_acc: 0.9795\n",
      "Epoch 2/300\n",
      "5/5 [==============================] - 1s 116ms/step - loss: 0.0133 - acc: 0.9995 - val_loss: 0.0759 - val_acc: 0.9790\n",
      "Epoch 3/300\n",
      "5/5 [==============================] - 1s 122ms/step - loss: 0.0124 - acc: 1.0000 - val_loss: 0.0757 - val_acc: 0.9790\n",
      "Epoch 4/300\n",
      "5/5 [==============================] - 1s 120ms/step - loss: 0.0116 - acc: 1.0000 - val_loss: 0.0755 - val_acc: 0.9785\n",
      "Epoch 5/300\n",
      "5/5 [==============================] - 1s 118ms/step - loss: 0.0109 - acc: 1.0000 - val_loss: 0.0755 - val_acc: 0.9785\n",
      "Epoch 6/300\n",
      "5/5 [==============================] - 1s 118ms/step - loss: 0.0102 - acc: 1.0000 - val_loss: 0.0756 - val_acc: 0.9785\n",
      "Epoch 7/300\n",
      "5/5 [==============================] - 1s 123ms/step - loss: 0.0096 - acc: 1.0000 - val_loss: 0.0757 - val_acc: 0.9780\n",
      "Epoch 8/300\n",
      "5/5 [==============================] - 1s 114ms/step - loss: 0.0091 - acc: 1.0000 - val_loss: 0.0759 - val_acc: 0.9790\n",
      "Epoch 9/300\n",
      "5/5 [==============================] - 1s 117ms/step - loss: 0.0086 - acc: 1.0000 - val_loss: 0.0761 - val_acc: 0.9795\n",
      "Epoch 10/300\n",
      "5/5 [==============================] - 1s 117ms/step - loss: 0.0081 - acc: 1.0000 - val_loss: 0.0764 - val_acc: 0.9790\n",
      "Epoch 11/300\n",
      "5/5 [==============================] - 1s 117ms/step - loss: 0.0077 - acc: 1.0000 - val_loss: 0.0768 - val_acc: 0.9790\n"
     ]
    }
   ],
   "source": [
    "from tensorflow.keras import callbacks\n",
    "\n",
    "aprendeu_parou = callbacks.EarlyStopping(\n",
    "    min_delta=0.001,  # aprendizado mínimo (resultados menores não contarão como aprendizado)\n",
    "    patience=10,  # por quantas épocas insistir?\n",
    "    restore_best_weights=True,\n",
    ")\n",
    "\n",
    "historia = modelo.fit(treino_x_parcial, \n",
    "                    treino_y_parcial, \n",
    "                    epochs=300, \n",
    "                    batch_size=512, \n",
    "                    validation_data=(valid_x, valid_y),\n",
    "                    callbacks=[aprendeu_parou])"
   ]
  },
  {
   "cell_type": "markdown",
   "metadata": {
    "id": "uxd2Lkg4CTai"
   },
   "source": [
    "# Sua vez\n",
    "\n",
    "Preencha os parâmetros da função de avaliação. "
   ]
  },
  {
   "cell_type": "code",
   "execution_count": 24,
   "metadata": {
    "colab": {
     "base_uri": "https://localhost:8080/"
    },
    "id": "1KRFEju82uQw",
    "outputId": "80ddc267-b749-4a93-993a-19ecef19e511"
   },
   "outputs": [
    {
     "name": "stdout",
     "output_type": "stream",
     "text": [
      "33/33 [==============================] - 0s 3ms/step - loss: 0.0657 - acc: 0.9845\n"
     ]
    }
   ],
   "source": [
    "avaliacao = modelo.evaluate(teste_x, teste_y)"
   ]
  },
  {
   "cell_type": "code",
   "execution_count": 25,
   "metadata": {
    "colab": {
     "base_uri": "https://localhost:8080/"
    },
    "id": "pnHS4_o03B6G",
    "outputId": "dacfc0a2-107f-4418-a6fd-19b5dc2c3efb"
   },
   "outputs": [
    {
     "name": "stdout",
     "output_type": "stream",
     "text": [
      "Acurácia na avaliação:  0.9844810962677002 \n",
      "Perda:  0.06570498645305634\n"
     ]
    }
   ],
   "source": [
    "print('Acurácia na avaliação: ', avaliacao[1], '\\nPerda: ', avaliacao[0])"
   ]
  },
  {
   "cell_type": "markdown",
   "metadata": {
    "id": "7eF-LB6h34WB"
   },
   "source": [
    "# Playground!\n",
    "\n",
    "Experimente mudar a arquitetura da rede (tamanho e profundidade de camadas) para ver se são produzidas diferenças nos resultados.\n",
    "\n",
    "E que tal mudar:\n",
    "\n",
    "* A função de perda para `mse` (erro quadrático médio)\n",
    "* A função de ativação para `tanh` (tangente hiperbólica) ao invés de `relu`\n",
    "\n",
    "Use `EarlyStopping` para limitar o número de épocas de aprendizado."
   ]
  },
  {
   "cell_type": "code",
   "execution_count": 26,
   "metadata": {
    "id": "rPu3stfZhBkK"
   },
   "outputs": [],
   "source": [
    "from plotly import graph_objects as go\n",
    "import pandas as pd\n",
    "from plotly.subplots import make_subplots\n",
    "from plotly.io import to_html"
   ]
  },
  {
   "cell_type": "code",
   "execution_count": 30,
   "metadata": {
    "id": "nIs2ICYIflXv"
   },
   "outputs": [],
   "source": [
    "def build_model(units, activation, loss, optimizer):\n",
    "    modelo = models.Sequential()\n",
    "    for i in range(len(units)):\n",
    "        modelo.add(layers.Dense(units[i], activation=activation, input_shape=(37893,)))\n",
    "    \n",
    "    modelo.add(layers.Dense(1, activation='sigmoid'))\n",
    "    modelo.compile(optimizer=optimizer, \n",
    "            loss=loss, \n",
    "            metrics='acc')\n",
    "    return modelo\n",
    "def train_model(modelo):\n",
    "    aprendeu_parou = callbacks.EarlyStopping(\n",
    "        min_delta=0.001,  \n",
    "        patience=5,  \n",
    "        restore_best_weights=True,\n",
    "    )\n",
    "\n",
    "    historia = modelo.fit(\n",
    "        treino_x_parcial, \n",
    "        treino_y_parcial, \n",
    "        epochs=200, \n",
    "        batch_size=512, \n",
    "        validation_data=(valid_x, valid_y),\n",
    "        callbacks=[aprendeu_parou],\n",
    "        verbose=0\n",
    "    )\n",
    "    return historia\n",
    "    \n",
    "def plot_results(historia):\n",
    "\n",
    "    dic_historia = historia.history  # dict_keys(['loss', 'acc', 'val_loss', 'val_acc'])\n",
    "    perda_treino = dic_historia['loss']\n",
    "    perda_valid = dic_historia['val_loss']\n",
    "\n",
    "    acuracia_treino = dic_historia['acc'] \n",
    "    acuracia_valid = dic_historia['val_acc']\n",
    "    epocas = range(1, len(acuracia_treino) + 1)\n",
    "    tmp = pd.DataFrame({\n",
    "        \"Epocas\":epocas,\n",
    "        \"Acurácia_Treino\":acuracia_treino,\n",
    "        \"Acurácia_Validação\":acuracia_valid,\n",
    "        \"Custo_Treino\":perda_treino,\n",
    "        \"Custo_Validação\":perda_valid,\n",
    "    })\n",
    "\n",
    "    fig = make_subplots(rows=2, cols=1,\n",
    "        subplot_titles=(\"Acurácia por Épocas\", \"Custo por Épocas\"))\n",
    "\n",
    "    fig.add_trace(\n",
    "        go.Scatter(\n",
    "            x=tmp['Epocas'],\n",
    "            y=tmp[\"Acurácia_Validação\"],\n",
    "            name=\"Acurácia Validação\"\n",
    "        ),\n",
    "        row=1,\n",
    "        col=1\n",
    "    )\n",
    "    fig.add_trace(\n",
    "        go.Scatter(\n",
    "            x=tmp['Epocas'],\n",
    "            y=tmp[\"Acurácia_Treino\"],\n",
    "            name=\"Acurácia Treino\"\n",
    "        ),\n",
    "        row=1,\n",
    "        col=1\n",
    "    )\n",
    "    fig.add_trace(\n",
    "        go.Scatter(\n",
    "            x=tmp['Epocas'],\n",
    "            y=tmp[\"Custo_Validação\"],\n",
    "            name=\"Custo Validação\"\n",
    "        ),\n",
    "        row=2,\n",
    "        col=1\n",
    "    )\n",
    "    fig.add_trace(\n",
    "        go.Scatter(\n",
    "            x=tmp['Epocas'],\n",
    "            y=tmp[\"Custo_Treino\"],\n",
    "            name=\"Custo Treino\"\n",
    "        ),\n",
    "        row=2,\n",
    "        col=1\n",
    "    )\n",
    "    fig.update_xaxes(title_text=\"Épocas\", row=1, col=1)\n",
    "    fig.update_xaxes(title_text=\"Épocas\", row=2, col=1)\n",
    "    fig.update_yaxes(title_text=\"Acurácia\", row=1, col=1, range=[0, 1])\n",
    "    fig.update_yaxes(title_text=\"Custo\", row=2, col=1, range=[0, 1])\n",
    "    fig.update_layout(height=1200, width=800)\n",
    "    fig_html = to_html(fig, full_html=False)\n",
    "    return fig_html\n",
    "\n",
    "def build_report(historia, hiperparams, modelo, teste_x, teste_y, first_run=False, last_run=False):\n",
    "    if first_run:\n",
    "        fl = open(\"process-report.html\", 'w')\n",
    "        fl.write(\"\"\"\n",
    "        <html>\n",
    "            <head>\n",
    "                <meta charset=\"UTF-8\">\n",
    "                <style>\n",
    "                .plotly-graph-div {\n",
    "                    margin: 0 auto;\n",
    "                }\n",
    "                </style>\n",
    "            </head>\n",
    "            <body>\n",
    "                <h1 align=\\'center\\'>Report do processo de busca do melhor modelo</h1>\n",
    "                <hr>\n",
    "        \"\"\")\n",
    "    else:\n",
    "        fl = open('process-report.html', 'a')\n",
    "        fl.write(\"<hr>\")\n",
    "\n",
    "    fl.write(\"\"\"\n",
    "    <h2 align=\\'center\\'>Hiper parâmetros do modelo</h2>\n",
    "    <div align=\\'center\\'>\n",
    "    \"\"\")\n",
    "    for hiperparam in hiperparams:\n",
    "        fl.write(str(hiperparam) + \": \" + str(hiperparams[hiperparam]) + \"<br>\")\n",
    "    \n",
    "    avaliacao = modelo.evaluate(teste_x, teste_y)\n",
    "    fl.write(f'''\n",
    "    Acurácia na avaliação: {str(avaliacao[1])} <br>\n",
    "    Perda: {str(avaliacao[0])}\n",
    "    </div>\n",
    "    ''')\n",
    "    fig_html = plot_results(historia)\n",
    "    fl.write(fig_html)\n",
    "    if last_run:\n",
    "        fl.write(\"\"\"\n",
    "        </body>\n",
    "        </html>        \n",
    "        \"\"\")\n",
    "    fl.close()\n",
    "    "
   ]
  },
  {
   "cell_type": "code",
   "execution_count": 31,
   "metadata": {
    "id": "hzoS0kLqjbeO"
   },
   "outputs": [],
   "source": [
    "hiperparams_grid = {\n",
    "    \"units\":[[32, 64, 8], [16, 16], [8], [32, 32, 32, 32, 32]],\n",
    "    \"activations\":[\"relu\", \"tanh\"],\n",
    "    \"losses\":[\"mse\", \"binary_crossentropy\"],\n",
    "    \"optimizers\":[\"adam\", \"SGD\", \"rmsprop\"]\n",
    "}"
   ]
  },
  {
   "cell_type": "code",
   "execution_count": 32,
   "metadata": {
    "colab": {
     "base_uri": "https://localhost:8080/"
    },
    "id": "UxrKKvheluGV",
    "outputId": "d3293fc4-815e-4a63-ab59-a5195efda143"
   },
   "outputs": [
    {
     "name": "stdout",
     "output_type": "stream",
     "text": [
      "33/33 [==============================] - 0s 4ms/step - loss: 0.0161 - acc: 0.9855\n",
      "33/33 [==============================] - 0s 4ms/step - loss: 0.1048 - acc: 0.8642\n",
      "33/33 [==============================] - 0s 4ms/step - loss: 0.0175 - acc: 0.9825\n",
      "33/33 [==============================] - 0s 4ms/step - loss: 0.0624 - acc: 0.9835\n",
      "33/33 [==============================] - 0s 4ms/step - loss: 0.0981 - acc: 0.9787\n",
      "33/33 [==============================] - 0s 4ms/step - loss: 0.0677 - acc: 0.9835\n",
      "33/33 [==============================] - 0s 4ms/step - loss: 0.0151 - acc: 0.9835\n",
      "33/33 [==============================] - 0s 4ms/step - loss: 0.0465 - acc: 0.9728\n",
      "33/33 [==============================] - 0s 3ms/step - loss: 0.0186 - acc: 0.9796\n",
      "33/33 [==============================] - 0s 4ms/step - loss: 0.0707 - acc: 0.9845\n",
      "33/33 [==============================] - 0s 4ms/step - loss: 0.0815 - acc: 0.9806\n",
      "33/33 [==============================] - 0s 4ms/step - loss: 0.0706 - acc: 0.9806\n",
      "33/33 [==============================] - 0s 3ms/step - loss: 0.0202 - acc: 0.9816\n",
      "33/33 [==============================] - 0s 3ms/step - loss: 0.0742 - acc: 0.9476\n",
      "33/33 [==============================] - 0s 3ms/step - loss: 0.0184 - acc: 0.9835\n",
      "33/33 [==============================] - 0s 3ms/step - loss: 0.0657 - acc: 0.9835\n",
      "33/33 [==============================] - 0s 3ms/step - loss: 0.1117 - acc: 0.9806\n",
      "33/33 [==============================] - 0s 3ms/step - loss: 0.0695 - acc: 0.9835\n",
      "33/33 [==============================] - 0s 3ms/step - loss: 0.0188 - acc: 0.9825\n",
      "33/33 [==============================] - 0s 3ms/step - loss: 0.0542 - acc: 0.9709\n",
      "33/33 [==============================] - 0s 3ms/step - loss: 0.0179 - acc: 0.9806\n",
      "33/33 [==============================] - 0s 3ms/step - loss: 0.0654 - acc: 0.9806\n",
      "33/33 [==============================] - 0s 3ms/step - loss: 0.1039 - acc: 0.9787\n",
      "33/33 [==============================] - 0s 3ms/step - loss: 0.0631 - acc: 0.9835\n",
      "33/33 [==============================] - 0s 3ms/step - loss: 0.0901 - acc: 0.8817\n",
      "33/33 [==============================] - 0s 3ms/step - loss: 0.0775 - acc: 0.9379\n",
      "33/33 [==============================] - 0s 3ms/step - loss: 0.0189 - acc: 0.9825\n",
      "33/33 [==============================] - 0s 3ms/step - loss: 0.0734 - acc: 0.9835\n",
      "33/33 [==============================] - 0s 3ms/step - loss: 0.1609 - acc: 0.9709\n",
      "33/33 [==============================] - 0s 2ms/step - loss: 0.0864 - acc: 0.9690\n",
      "33/33 [==============================] - 0s 3ms/step - loss: 0.0272 - acc: 0.9719\n",
      "33/33 [==============================] - 0s 4ms/step - loss: 0.0826 - acc: 0.9311\n",
      "33/33 [==============================] - 0s 3ms/step - loss: 0.0185 - acc: 0.9806\n",
      "33/33 [==============================] - 0s 3ms/step - loss: 0.0766 - acc: 0.9758\n",
      "33/33 [==============================] - 0s 3ms/step - loss: 0.1690 - acc: 0.9670\n",
      "33/33 [==============================] - 0s 3ms/step - loss: 0.0655 - acc: 0.9806\n",
      "33/33 [==============================] - 0s 4ms/step - loss: 0.0140 - acc: 0.9855\n",
      "33/33 [==============================] - 0s 4ms/step - loss: 0.0941 - acc: 0.9079\n",
      "33/33 [==============================] - 0s 4ms/step - loss: 0.0161 - acc: 0.9845\n",
      "33/33 [==============================] - 0s 4ms/step - loss: 0.0692 - acc: 0.9825\n",
      "33/33 [==============================] - 0s 4ms/step - loss: 0.0743 - acc: 0.9787\n",
      "33/33 [==============================] - 0s 4ms/step - loss: 0.0621 - acc: 0.9835\n",
      "33/33 [==============================] - 0s 4ms/step - loss: 0.0160 - acc: 0.9806\n",
      "33/33 [==============================] - 0s 4ms/step - loss: 0.0339 - acc: 0.9777\n",
      "33/33 [==============================] - 0s 4ms/step - loss: 0.0155 - acc: 0.9835\n",
      "33/33 [==============================] - 0s 4ms/step - loss: 0.0574 - acc: 0.9855\n",
      "33/33 [==============================] - 0s 4ms/step - loss: 0.0748 - acc: 0.9796\n",
      "33/33 [==============================] - 0s 4ms/step - loss: 0.0601 - acc: 0.9825\n"
     ]
    }
   ],
   "source": [
    "first_run = True\n",
    "last_run = False\n",
    "max_runs = 1\n",
    "for f in hiperparams_grid:\n",
    "    max_runs *= len(hiperparams_grid[f])\n",
    "\n",
    "for h_units in hiperparams_grid[\"units\"]:\n",
    "    for h_activation in hiperparams_grid[\"activations\"]:\n",
    "        for h_loss in hiperparams_grid['losses']:\n",
    "            for h_optimizer in hiperparams_grid['optimizers']:\n",
    "                if max_runs == 1:\n",
    "                    last_run=True\n",
    "\n",
    "                modelo = build_model(h_units, h_activation, h_loss, h_optimizer)\n",
    "                historia = train_model(modelo)\n",
    "                build_report(historia,\n",
    "                             {\"units\":h_units, \"activation\":h_activation, \"loss\":h_loss, \"optimizer\":h_optimizer}, \n",
    "                             modelo, teste_x, teste_y, first_run, last_run)\n",
    "                first_run=False\n",
    "                max_runs-=1"
   ]
  },
  {
   "cell_type": "markdown",
   "metadata": {
    "id": "Wz2u7qDbHlzP"
   },
   "source": [
    "Analisando os resultados gerados no relatório o melhor modelo criado foi:\n",
    "- units: [32, 64, 8]\n",
    "- activation: relu\n",
    "- loss: mse\n",
    "- optimizer: adam\n",
    "- Acurácia na avaliação: 0.9854510426521301\n",
    "- Perda: 0.016111580654978752"
   ]
  },
  {
   "cell_type": "code",
   "execution_count": 119,
   "metadata": {
    "id": "D50b2Crew4Wz"
   },
   "outputs": [],
   "source": []
  }
 ],
 "metadata": {
  "colab": {
   "collapsed_sections": [],
   "name": "Exercício_Detecção_de_Spam_com_Rede_Neural.ipynb",
   "provenance": [],
   "toc_visible": true
  },
  "kernelspec": {
   "display_name": "Python 3",
   "language": "python",
   "name": "python3"
  },
  "language_info": {
   "codemirror_mode": {
    "name": "ipython",
    "version": 3
   },
   "file_extension": ".py",
   "mimetype": "text/x-python",
   "name": "python",
   "nbconvert_exporter": "python",
   "pygments_lexer": "ipython3",
   "version": "3.8.5"
  }
 },
 "nbformat": 4,
 "nbformat_minor": 1
}
