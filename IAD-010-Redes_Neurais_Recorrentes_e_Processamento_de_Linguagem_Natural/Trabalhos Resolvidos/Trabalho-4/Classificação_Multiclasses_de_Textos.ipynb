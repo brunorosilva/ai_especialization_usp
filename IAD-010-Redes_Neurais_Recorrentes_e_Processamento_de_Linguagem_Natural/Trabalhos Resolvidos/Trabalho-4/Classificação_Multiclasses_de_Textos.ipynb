{
  "nbformat": 4,
  "nbformat_minor": 0,
  "metadata": {
    "kernelspec": {
      "display_name": "Python 3",
      "language": "python",
      "name": "python3"
    },
    "language_info": {
      "codemirror_mode": {
        "name": "ipython",
        "version": 3
      },
      "file_extension": ".py",
      "mimetype": "text/x-python",
      "name": "python",
      "nbconvert_exporter": "python",
      "pygments_lexer": "ipython3",
      "version": "3.7.6"
    },
    "colab": {
      "name": "Classificação_Multiclasses_de_Textos.ipynb",
      "provenance": [],
      "collapsed_sections": []
    }
  },
  "cells": [
    {
      "cell_type": "markdown",
      "metadata": {
        "id": "bhsZgtWNnIzA"
      },
      "source": [
        "# Classificação multiclasses\n",
        "\n",
        "Baseado em F. Chollet (2018).\n",
        "\n",
        "Diferentemente das classificações que fizemos até aqui, sempre binárias (positivo/negativo; spam/ham...), existem classificações de dados em um número $n$ de classes (ou categorias).\n",
        "\n",
        "Neste exercício, usaremos um conjunto de dados de notícias da agência Reuters para uma classificação de assuntos. Há 46 categorias de assuntos possíveis, todas elas mutuamente excludentes, isto é, para cada notícia, existe somente uma categoria correta.\n",
        "\n",
        "O corpus traz 8982 notícias para treinamento e outras 2246 para teste. Cada categoria tem pelo menos 10 ocorrências no treinamento."
      ]
    },
    {
      "cell_type": "markdown",
      "metadata": {
        "id": "w687BaEEnIzI"
      },
      "source": [
        "#Carregamento dos dados e das etiquetas"
      ]
    },
    {
      "cell_type": "code",
      "metadata": {
        "id": "VP0BnJXCnIzK",
        "colab": {
          "base_uri": "https://localhost:8080/"
        },
        "outputId": "36af5002-08f4-40ff-df0b-2b76e19ff9ed"
      },
      "source": [
        "from keras.datasets import reuters\n",
        "\n",
        "(dados_treino, etiquetas_treino), (dados_teste, etiquetas_teste) = reuters.load_data(num_words=10000)  # Carregar só as 10.000 palavras mais frequentes"
      ],
      "execution_count": 1,
      "outputs": [
        {
          "output_type": "stream",
          "text": [
            "Downloading data from https://storage.googleapis.com/tensorflow/tf-keras-datasets/reuters.npz\n",
            "2113536/2110848 [==============================] - 0s 0us/step\n"
          ],
          "name": "stdout"
        },
        {
          "output_type": "stream",
          "text": [
            "/usr/local/lib/python3.7/dist-packages/tensorflow/python/keras/datasets/reuters.py:148: VisibleDeprecationWarning: Creating an ndarray from ragged nested sequences (which is a list-or-tuple of lists-or-tuples-or ndarrays with different lengths or shapes) is deprecated. If you meant to do this, you must specify 'dtype=object' when creating the ndarray\n",
            "  x_train, y_train = np.array(xs[:idx]), np.array(labels[:idx])\n",
            "/usr/local/lib/python3.7/dist-packages/tensorflow/python/keras/datasets/reuters.py:149: VisibleDeprecationWarning: Creating an ndarray from ragged nested sequences (which is a list-or-tuple of lists-or-tuples-or ndarrays with different lengths or shapes) is deprecated. If you meant to do this, you must specify 'dtype=object' when creating the ndarray\n",
            "  x_test, y_test = np.array(xs[idx:]), np.array(labels[idx:])\n"
          ],
          "name": "stderr"
        }
      ]
    },
    {
      "cell_type": "code",
      "metadata": {
        "id": "otb--vnFnIzL",
        "colab": {
          "base_uri": "https://localhost:8080/"
        },
        "outputId": "90103647-c65b-463f-e4bf-bd0544ebfd65"
      },
      "source": [
        "### Conferindo...\n",
        "\n",
        "print(len(dados_treino), len(dados_teste))\n",
        "print(dados_treino[0])"
      ],
      "execution_count": 2,
      "outputs": [
        {
          "output_type": "stream",
          "text": [
            "8982 2246\n",
            "[1, 2, 2, 8, 43, 10, 447, 5, 25, 207, 270, 5, 3095, 111, 16, 369, 186, 90, 67, 7, 89, 5, 19, 102, 6, 19, 124, 15, 90, 67, 84, 22, 482, 26, 7, 48, 4, 49, 8, 864, 39, 209, 154, 6, 151, 6, 83, 11, 15, 22, 155, 11, 15, 7, 48, 9, 4579, 1005, 504, 6, 258, 6, 272, 11, 15, 22, 134, 44, 11, 15, 16, 8, 197, 1245, 90, 67, 52, 29, 209, 30, 32, 132, 6, 109, 15, 17, 12]\n"
          ],
          "name": "stdout"
        }
      ]
    },
    {
      "cell_type": "code",
      "metadata": {
        "colab": {
          "base_uri": "https://localhost:8080/"
        },
        "id": "Hy5HGoHwA3c0",
        "outputId": "2b57f3f3-fa61-4c8b-f557-1e47c6107dd2"
      },
      "source": [
        "### Só para conferir... ###\n",
        "\n",
        "# Cria um dicionário com a forma {palavra: índice}\n",
        "indice_de_palavra = reuters.get_word_index()\n",
        "print('O índice de \"after\" é: ', indice_de_palavra['after'])\n",
        "\n",
        "# Cria um dicionário que permite mapear uma palavra em função de um valor numérico (seu índice)\n",
        "palavra_de_indice = dict([(value, key) for (key, value) in indice_de_palavra.items()])\n",
        "print('A palavra de índice 100 é: ', palavra_de_indice[100])\n",
        "\n",
        "# Gera uma string com o vetor das palavras decodificadas em uma dada resenha (0, no caso)\n",
        "# Os três primeiros índices são reservados nesse dataset (\"padding\", \"início de sequência\" e \"desconhecido\")\n",
        "# Lembre-se: o método .get() substitui chaves desconhecidas por um valor default ('<?>', no caso)\n",
        "noticia_decodificada = ' '.join([palavra_de_indice.get(i-3, '<?>') for i in dados_treino[0]])\n",
        "print(noticia_decodificada)"
      ],
      "execution_count": 3,
      "outputs": [
        {
          "output_type": "stream",
          "text": [
            "Downloading data from https://storage.googleapis.com/tensorflow/tf-keras-datasets/reuters_word_index.json\n",
            "557056/550378 [==============================] - 0s 0us/step\n",
            "O índice de \"after\" é:  89\n",
            "A palavra de índice 100 é:  group\n",
            "<?> <?> <?> said as a result of its december acquisition of space co it expects earnings per share in 1987 of 1 15 to 1 30 dlrs per share up from 70 cts in 1986 the company said pretax net should rise to nine to 10 mln dlrs from six mln dlrs in 1986 and rental operation revenues to 19 to 22 mln dlrs from 12 5 mln dlrs it said cash flow per share this year should be 2 50 to three dlrs reuter 3\n"
          ],
          "name": "stdout"
        }
      ]
    },
    {
      "cell_type": "code",
      "metadata": {
        "colab": {
          "base_uri": "https://localhost:8080/"
        },
        "id": "l0DPJ9xuxyyU",
        "outputId": "9e7af799-5e01-40e0-bdaf-ae4a3ed61fd7"
      },
      "source": [
        "# As etiquetas são números inteiros no intervalo [0..45]\n",
        "print(etiquetas_treino[0])\n",
        "print(min(etiquetas_treino), max(etiquetas_treino))"
      ],
      "execution_count": 4,
      "outputs": [
        {
          "output_type": "stream",
          "text": [
            "3\n",
            "0 45\n"
          ],
          "name": "stdout"
        }
      ]
    },
    {
      "cell_type": "markdown",
      "metadata": {
        "id": "bYhg6S9iHvU_"
      },
      "source": [
        "# Codificação em binários\n",
        "\n",
        "Codificação (encoding) dos vetores de inteiros em matrizes binárias de índices de termos em documentos.\n"
      ]
    },
    {
      "cell_type": "code",
      "metadata": {
        "id": "o9jepBvHCBzi"
      },
      "source": [
        "import numpy as np\n",
        "\n",
        "def binarizar(matriz_int, dim=10000):\n",
        "    binarizado = np.zeros((len(matriz_int), dim))\n",
        "\n",
        "    for e, vetor in enumerate(matriz_int):\n",
        "        binarizado[e, vetor] = 1.\n",
        "\n",
        "    return binarizado\n",
        "\n",
        "# Conversão em binários dos testos das resenhas (variável X)\n",
        "treino_x = binarizar(dados_treino)\n",
        "teste_x = binarizar(dados_teste)"
      ],
      "execution_count": 5,
      "outputs": []
    },
    {
      "cell_type": "code",
      "metadata": {
        "colab": {
          "base_uri": "https://localhost:8080/"
        },
        "id": "OAP9B_6JuCZ6",
        "outputId": "91f7e8cc-19fe-4960-9ecf-2775ee73fd3f"
      },
      "source": [
        "treino_x[0]  # Só para conferir..."
      ],
      "execution_count": 6,
      "outputs": [
        {
          "output_type": "execute_result",
          "data": {
            "text/plain": [
              "array([0., 1., 1., ..., 0., 0., 0.])"
            ]
          },
          "metadata": {
            "tags": []
          },
          "execution_count": 6
        }
      ]
    },
    {
      "cell_type": "code",
      "metadata": {
        "id": "YHdmR7APLPXY"
      },
      "source": [
        "# Vetorização das etiquetas de assuntos [0..45]. Variável Y.\n",
        "\n",
        "treino_y = binarizar(etiquetas_treino, dim=46)  # Repare o número de dimensões (46)\n",
        "teste_y = binarizar(etiquetas_teste, dim=46)"
      ],
      "execution_count": 7,
      "outputs": []
    },
    {
      "cell_type": "code",
      "metadata": {
        "colab": {
          "base_uri": "https://localhost:8080/"
        },
        "id": "aQJrWY358tAT",
        "outputId": "3dc1da15-6915-4417-8692-255ef2a318ea"
      },
      "source": [
        "print(len(treino_x), len(treino_y), len(teste_x), len(teste_y))  # Conferindo..."
      ],
      "execution_count": 8,
      "outputs": [
        {
          "output_type": "stream",
          "text": [
            "8982 8982 2246 2246\n"
          ],
          "name": "stdout"
        }
      ]
    },
    {
      "cell_type": "code",
      "metadata": {
        "colab": {
          "base_uri": "https://localhost:8080/"
        },
        "id": "P7A3w1sFvMuR",
        "outputId": "720f674b-69fa-4520-e70d-71027a8fce0a"
      },
      "source": [
        "treino_y[0]  # Conferindo..."
      ],
      "execution_count": 9,
      "outputs": [
        {
          "output_type": "execute_result",
          "data": {
            "text/plain": [
              "array([0., 0., 0., 1., 0., 0., 0., 0., 0., 0., 0., 0., 0., 0., 0., 0., 0.,\n",
              "       0., 0., 0., 0., 0., 0., 0., 0., 0., 0., 0., 0., 0., 0., 0., 0., 0.,\n",
              "       0., 0., 0., 0., 0., 0., 0., 0., 0., 0., 0., 0.])"
            ]
          },
          "metadata": {
            "tags": []
          },
          "execution_count": 9
        }
      ]
    },
    {
      "cell_type": "markdown",
      "metadata": {
        "id": "s9Q00gDWgDiM"
      },
      "source": [
        "# Criação do modelo de rede"
      ]
    },
    {
      "cell_type": "markdown",
      "metadata": {
        "id": "dhB-j-uvN5XJ"
      },
      "source": [
        "Partição dos dados de treinamento em (1) validação e (2) treinamento parcial, tanto X (resenhas) quanto Y (etiquetas)."
      ]
    },
    {
      "cell_type": "code",
      "metadata": {
        "id": "yWaIiN3MN9D4"
      },
      "source": [
        "valid_x = treino_x[:1000]\n",
        "treino_x_parcial = treino_x[1000:]\n",
        "valid_y = treino_y[:1000] \n",
        "treino_y_parcial = treino_y[1000:]"
      ],
      "execution_count": 10,
      "outputs": []
    },
    {
      "cell_type": "markdown",
      "metadata": {
        "id": "8V-ZEwYlLpfO"
      },
      "source": [
        "Importação dos módulos e definição da arquitetura da rede.\n",
        "\n",
        "Desta vez, para tentar representar melhor as 46 classes, vamos aumentar o tamanho das camadas internas.\n",
        "\n",
        "O vetor de saída terá 46 dimensões, uma para cada classe possível.\n",
        "\n",
        "A função de ativação na saída é a softmax, que distribui a probabilidade de classficiação entre as 46 classes (isto é, juntas, somam 1)."
      ]
    },
    {
      "cell_type": "code",
      "metadata": {
        "id": "QMSafk6egHEe"
      },
      "source": [
        "from keras import models \n",
        "from keras import layers\n",
        "\n",
        "modelo = models.Sequential() \n",
        "modelo.add(layers.Dense(64, activation='relu', input_shape=(10000,))) \n",
        "modelo.add(layers.Dense(64, activation='relu')) \n",
        "modelo.add(layers.Dense(46, activation='softmax'))"
      ],
      "execution_count": 11,
      "outputs": []
    },
    {
      "cell_type": "markdown",
      "metadata": {
        "id": "DbghZxhVGlty"
      },
      "source": [
        "Compilação do modelo."
      ]
    },
    {
      "cell_type": "code",
      "metadata": {
        "id": "_UVySOvGGoyx"
      },
      "source": [
        "# A diferença dos parâmetros de compilação que usaremos aqui por relação à \n",
        "# classificação binária está na função de perda escolhida.\n",
        "# Ainda é a entropia cruzada, boa para classificação probabilística, mas,\n",
        "# desta vez, é a \"categorial\", não a binária.\n",
        "\n",
        "modelo.compile(optimizer='adam', \n",
        "              loss='categorical_crossentropy', \n",
        "              metrics=['acc'])"
      ],
      "execution_count": 12,
      "outputs": []
    },
    {
      "cell_type": "markdown",
      "metadata": {
        "id": "1Hr5wRG_OONW"
      },
      "source": [
        "Treinamento do modelo compilado."
      ]
    },
    {
      "cell_type": "code",
      "metadata": {
        "colab": {
          "base_uri": "https://localhost:8080/"
        },
        "id": "5HkB-MzFOQAi",
        "outputId": "9aeb4c5e-4dc1-4a10-b356-2449fd5e4284"
      },
      "source": [
        "historia = modelo.fit(treino_x_parcial, \n",
        "                    treino_y_parcial, \n",
        "                    epochs=20, \n",
        "                    batch_size=512, \n",
        "                    validation_data=(valid_x, valid_y))"
      ],
      "execution_count": 13,
      "outputs": [
        {
          "output_type": "stream",
          "text": [
            "Epoch 1/20\n",
            "16/16 [==============================] - 2s 73ms/step - loss: 3.5577 - acc: 0.2945 - val_loss: 2.6135 - val_acc: 0.5690\n",
            "Epoch 2/20\n",
            "16/16 [==============================] - 1s 43ms/step - loss: 2.2565 - acc: 0.6092 - val_loss: 1.6517 - val_acc: 0.6590\n",
            "Epoch 3/20\n",
            "16/16 [==============================] - 1s 44ms/step - loss: 1.4408 - acc: 0.7011 - val_loss: 1.2696 - val_acc: 0.7290\n",
            "Epoch 4/20\n",
            "16/16 [==============================] - 1s 43ms/step - loss: 1.0453 - acc: 0.7704 - val_loss: 1.1228 - val_acc: 0.7690\n",
            "Epoch 5/20\n",
            "16/16 [==============================] - 1s 43ms/step - loss: 0.8431 - acc: 0.8172 - val_loss: 1.0340 - val_acc: 0.7860\n",
            "Epoch 6/20\n",
            "16/16 [==============================] - 1s 44ms/step - loss: 0.6387 - acc: 0.8668 - val_loss: 0.9618 - val_acc: 0.8090\n",
            "Epoch 7/20\n",
            "16/16 [==============================] - 1s 43ms/step - loss: 0.4961 - acc: 0.8978 - val_loss: 0.9301 - val_acc: 0.8100\n",
            "Epoch 8/20\n",
            "16/16 [==============================] - 1s 44ms/step - loss: 0.3976 - acc: 0.9191 - val_loss: 0.8987 - val_acc: 0.8140\n",
            "Epoch 9/20\n",
            "16/16 [==============================] - 1s 44ms/step - loss: 0.3105 - acc: 0.9358 - val_loss: 0.8953 - val_acc: 0.8180\n",
            "Epoch 10/20\n",
            "16/16 [==============================] - 1s 43ms/step - loss: 0.2550 - acc: 0.9467 - val_loss: 0.8936 - val_acc: 0.8240\n",
            "Epoch 11/20\n",
            "16/16 [==============================] - 1s 43ms/step - loss: 0.2060 - acc: 0.9504 - val_loss: 0.9131 - val_acc: 0.8150\n",
            "Epoch 12/20\n",
            "16/16 [==============================] - 1s 43ms/step - loss: 0.1783 - acc: 0.9589 - val_loss: 0.9185 - val_acc: 0.8180\n",
            "Epoch 13/20\n",
            "16/16 [==============================] - 1s 43ms/step - loss: 0.1550 - acc: 0.9584 - val_loss: 0.9307 - val_acc: 0.8200\n",
            "Epoch 14/20\n",
            "16/16 [==============================] - 1s 42ms/step - loss: 0.1381 - acc: 0.9592 - val_loss: 0.9547 - val_acc: 0.8050\n",
            "Epoch 15/20\n",
            "16/16 [==============================] - 1s 44ms/step - loss: 0.1291 - acc: 0.9578 - val_loss: 0.9597 - val_acc: 0.8160\n",
            "Epoch 16/20\n",
            "16/16 [==============================] - 1s 43ms/step - loss: 0.1172 - acc: 0.9611 - val_loss: 0.9661 - val_acc: 0.8110\n",
            "Epoch 17/20\n",
            "16/16 [==============================] - 1s 43ms/step - loss: 0.1152 - acc: 0.9603 - val_loss: 0.9960 - val_acc: 0.8130\n",
            "Epoch 18/20\n",
            "16/16 [==============================] - 1s 44ms/step - loss: 0.1049 - acc: 0.9635 - val_loss: 0.9805 - val_acc: 0.8140\n",
            "Epoch 19/20\n",
            "16/16 [==============================] - 1s 43ms/step - loss: 0.0949 - acc: 0.9648 - val_loss: 1.0027 - val_acc: 0.8110\n",
            "Epoch 20/20\n",
            "16/16 [==============================] - 1s 42ms/step - loss: 0.0992 - acc: 0.9609 - val_loss: 1.0190 - val_acc: 0.8130\n"
          ],
          "name": "stdout"
        }
      ]
    },
    {
      "cell_type": "markdown",
      "metadata": {
        "id": "PkqandbvPkuc"
      },
      "source": [
        "Exibição da evolução da perda no treinamento e na validação."
      ]
    },
    {
      "cell_type": "code",
      "metadata": {
        "colab": {
          "base_uri": "https://localhost:8080/",
          "height": 297
        },
        "id": "mVBsnEOiPlxp",
        "outputId": "142ff95c-c1a8-42a9-bf9b-12a2d31f9f89"
      },
      "source": [
        "import matplotlib.pyplot as plt\n",
        "\n",
        "dic_historia = historia.history  # dict_keys(['loss', 'acc', 'val_loss', 'val_acc'])\n",
        "perda = dic_historia['loss'] \n",
        "perda_valid = dic_historia['val_loss']\n",
        "\n",
        "acuracia = dic_historia['acc']\n",
        "epocas = range(1, len(acuracia) + 1)\n",
        "\n",
        "plt.plot(epocas, perda, 'bo', label='Perda no treinamento')  # “bo” = pontilhado azul\n",
        "plt.plot(epocas, perda_valid, 'b', label='Perda na validação')  # “b” = linha contínua azul\n",
        "plt.title('Perda no Treinamento e na Validação') \n",
        "plt.xlabel('Épocas')\n",
        "plt.ylabel('Perda')\n",
        "plt.legend()\n",
        "\n",
        "plt.show()"
      ],
      "execution_count": 14,
      "outputs": [
        {
          "output_type": "display_data",
          "data": {
            "image/png": "[encoded data removed]",
            "text/plain": [
              "<Figure size 432x288 with 1 Axes>"
            ]
          },
          "metadata": {
            "tags": [],
            "needs_background": "light"
          }
        }
      ]
    },
    {
      "cell_type": "markdown",
      "metadata": {
        "id": "x-uyE_H8QbRi"
      },
      "source": [
        "Exibição da evolução da acurácia no teste e na validação."
      ]
    },
    {
      "cell_type": "code",
      "metadata": {
        "colab": {
          "base_uri": "https://localhost:8080/",
          "height": 297
        },
        "id": "Yrmo0Ce-Qd0J",
        "outputId": "a762291e-4b04-4c02-a472-f31dfb3bdbec"
      },
      "source": [
        "plt.clf()  # Limpa a figura\n",
        "\n",
        "acuracia_treino = dic_historia['acc'] \n",
        "acuracia_valid = dic_historia['val_acc']\n",
        "\n",
        "plt.plot(epocas, acuracia_treino, 'bo', label='Acurácia no Treinamento') \n",
        "plt.plot(epocas, acuracia_valid, 'b', label='Acurácia na Validação')\n",
        "plt.title('Acurácia no Treinamento e na Validação') \n",
        "plt.xlabel('Épocas') \n",
        "plt.ylabel('Acurácia') \n",
        "plt.legend()\n",
        "\n",
        "plt.show()"
      ],
      "execution_count": 15,
      "outputs": [
        {
          "output_type": "display_data",
          "data": {
            "image/png": "[encoded data removed]",
            "text/plain": [
              "<Figure size 432x288 with 1 Axes>"
            ]
          },
          "metadata": {
            "tags": [],
            "needs_background": "light"
          }
        }
      ]
    },
    {
      "cell_type": "markdown",
      "metadata": {
        "id": "zN26fp3NKS6e"
      },
      "source": [
        "# Introdução de um gargalo na rede\n",
        "\n",
        "Vamos \"esmagar\" uma camada da rede, reduzindo propositadamente seu tamanho para, em seguida, avaliar os resultados."
      ]
    },
    {
      "cell_type": "code",
      "metadata": {
        "id": "jd_-QPsgK0Gm"
      },
      "source": [
        "from keras import models \n",
        "from keras import layers\n",
        "\n",
        "modelo = models.Sequential() \n",
        "modelo.add(layers.Dense(64, activation='relu', input_shape=(10000,))) \n",
        "modelo.add(layers.Dense(4, activation='relu'))  # Camada esmagada!!!\n",
        "modelo.add(layers.Dense(46, activation='softmax'))"
      ],
      "execution_count": 16,
      "outputs": []
    },
    {
      "cell_type": "code",
      "metadata": {
        "colab": {
          "base_uri": "https://localhost:8080/"
        },
        "id": "x0q1Tg5mK0Gr",
        "outputId": "73888424-0070-4c92-8f7a-b56ad78ee475"
      },
      "source": [
        "### O resto fica igual...\n",
        "\n",
        "modelo.compile(optimizer='adam', \n",
        "              loss='categorical_crossentropy', \n",
        "              metrics=['acc'])\n",
        "\n",
        "historia = modelo.fit(treino_x_parcial, \n",
        "                    treino_y_parcial, \n",
        "                    epochs=20, \n",
        "                    batch_size=512, \n",
        "                    validation_data=(valid_x, valid_y))"
      ],
      "execution_count": 17,
      "outputs": [
        {
          "output_type": "stream",
          "text": [
            "Epoch 1/20\n",
            "16/16 [==============================] - 1s 54ms/step - loss: 3.6849 - acc: 0.3061 - val_loss: 3.2840 - val_acc: 0.4070\n",
            "Epoch 2/20\n",
            "16/16 [==============================] - 1s 44ms/step - loss: 3.1280 - acc: 0.4118 - val_loss: 2.7478 - val_acc: 0.4140\n",
            "Epoch 3/20\n",
            "16/16 [==============================] - 1s 43ms/step - loss: 2.5684 - acc: 0.4352 - val_loss: 2.2712 - val_acc: 0.4170\n",
            "Epoch 4/20\n",
            "16/16 [==============================] - 1s 43ms/step - loss: 2.1334 - acc: 0.4289 - val_loss: 1.9523 - val_acc: 0.4220\n",
            "Epoch 5/20\n",
            "16/16 [==============================] - 1s 42ms/step - loss: 1.7698 - acc: 0.4493 - val_loss: 1.7461 - val_acc: 0.4510\n",
            "Epoch 6/20\n",
            "16/16 [==============================] - 1s 43ms/step - loss: 1.5546 - acc: 0.5225 - val_loss: 1.5955 - val_acc: 0.6320\n",
            "Epoch 7/20\n",
            "16/16 [==============================] - 1s 43ms/step - loss: 1.3888 - acc: 0.6827 - val_loss: 1.4856 - val_acc: 0.6510\n",
            "Epoch 8/20\n",
            "16/16 [==============================] - 1s 43ms/step - loss: 1.2665 - acc: 0.6869 - val_loss: 1.4193 - val_acc: 0.6560\n",
            "Epoch 9/20\n",
            "16/16 [==============================] - 1s 43ms/step - loss: 1.1304 - acc: 0.7090 - val_loss: 1.3682 - val_acc: 0.6710\n",
            "Epoch 10/20\n",
            "16/16 [==============================] - 1s 43ms/step - loss: 1.0492 - acc: 0.7300 - val_loss: 1.3379 - val_acc: 0.6920\n",
            "Epoch 11/20\n",
            "16/16 [==============================] - 1s 43ms/step - loss: 0.9693 - acc: 0.7641 - val_loss: 1.3152 - val_acc: 0.7050\n",
            "Epoch 12/20\n",
            "16/16 [==============================] - 1s 43ms/step - loss: 0.9121 - acc: 0.7770 - val_loss: 1.3062 - val_acc: 0.7050\n",
            "Epoch 13/20\n",
            "16/16 [==============================] - 1s 42ms/step - loss: 0.8657 - acc: 0.7925 - val_loss: 1.3042 - val_acc: 0.7110\n",
            "Epoch 14/20\n",
            "16/16 [==============================] - 1s 44ms/step - loss: 0.8218 - acc: 0.8001 - val_loss: 1.3098 - val_acc: 0.7080\n",
            "Epoch 15/20\n",
            "16/16 [==============================] - 1s 43ms/step - loss: 0.7803 - acc: 0.8062 - val_loss: 1.3095 - val_acc: 0.7070\n",
            "Epoch 16/20\n",
            "16/16 [==============================] - 1s 43ms/step - loss: 0.7318 - acc: 0.8131 - val_loss: 1.3134 - val_acc: 0.7070\n",
            "Epoch 17/20\n",
            "16/16 [==============================] - 1s 43ms/step - loss: 0.7048 - acc: 0.8189 - val_loss: 1.3338 - val_acc: 0.7090\n",
            "Epoch 18/20\n",
            "16/16 [==============================] - 1s 43ms/step - loss: 0.6796 - acc: 0.8184 - val_loss: 1.3402 - val_acc: 0.7080\n",
            "Epoch 19/20\n",
            "16/16 [==============================] - 1s 42ms/step - loss: 0.6308 - acc: 0.8288 - val_loss: 1.3586 - val_acc: 0.7070\n",
            "Epoch 20/20\n",
            "16/16 [==============================] - 1s 42ms/step - loss: 0.6375 - acc: 0.8210 - val_loss: 1.3721 - val_acc: 0.7100\n"
          ],
          "name": "stdout"
        }
      ]
    },
    {
      "cell_type": "markdown",
      "metadata": {
        "id": "Ge7wnecE7UHR"
      },
      "source": [
        "Vamos retreinar o modelo, desafogando o gargalo e inserindo o EarlyStopping por conveniência."
      ]
    },
    {
      "cell_type": "code",
      "metadata": {
        "id": "4PddHnqC58Oj",
        "colab": {
          "base_uri": "https://localhost:8080/"
        },
        "outputId": "ca67af6c-0d5a-45b9-828d-1a498be8327a"
      },
      "source": [
        "from tensorflow.keras import callbacks\n",
        "\n",
        "modelo = models.Sequential() \n",
        "modelo.add(layers.Dense(64, activation='relu', input_shape=(10000,))) \n",
        "modelo.add(layers.Dense(64, activation='relu')) \n",
        "modelo.add(layers.Dense(46, activation='softmax'))\n",
        "\n",
        "modelo.compile(optimizer='adam', \n",
        "              loss='categorical_crossentropy', \n",
        "              metrics=['acc'])\n",
        "\n",
        "aprendeu_parou = callbacks.EarlyStopping(\n",
        "    min_delta=0.001,  # aprendizado mínimo (resultados menores não contarão como aprendizado)\n",
        "    patience=10,  # por quantas épocas insistir?\n",
        "    restore_best_weights=True)\n",
        "\n",
        "historia = modelo.fit(treino_x_parcial, \n",
        "                    treino_y_parcial, \n",
        "                    epochs=300, \n",
        "                    batch_size=512, \n",
        "                    validation_data=(valid_x, valid_y),\n",
        "                    callbacks=[aprendeu_parou])"
      ],
      "execution_count": 18,
      "outputs": [
        {
          "output_type": "stream",
          "text": [
            "Epoch 1/300\n",
            "16/16 [==============================] - 1s 53ms/step - loss: 3.4813 - acc: 0.3440 - val_loss: 2.4256 - val_acc: 0.5350\n",
            "Epoch 2/300\n",
            "16/16 [==============================] - 1s 44ms/step - loss: 2.1688 - acc: 0.5534 - val_loss: 1.6575 - val_acc: 0.6110\n",
            "Epoch 3/300\n",
            "16/16 [==============================] - 1s 43ms/step - loss: 1.4824 - acc: 0.6740 - val_loss: 1.3715 - val_acc: 0.6810\n",
            "Epoch 4/300\n",
            "16/16 [==============================] - 1s 44ms/step - loss: 1.1695 - acc: 0.7366 - val_loss: 1.1996 - val_acc: 0.7330\n",
            "Epoch 5/300\n",
            "16/16 [==============================] - 1s 44ms/step - loss: 0.9489 - acc: 0.7917 - val_loss: 1.0901 - val_acc: 0.7600\n",
            "Epoch 6/300\n",
            "16/16 [==============================] - 1s 43ms/step - loss: 0.7620 - acc: 0.8275 - val_loss: 1.0180 - val_acc: 0.7780\n",
            "Epoch 7/300\n",
            "16/16 [==============================] - 1s 43ms/step - loss: 0.6175 - acc: 0.8698 - val_loss: 0.9653 - val_acc: 0.7930\n",
            "Epoch 8/300\n",
            "16/16 [==============================] - 1s 43ms/step - loss: 0.4784 - acc: 0.8999 - val_loss: 0.9227 - val_acc: 0.8000\n",
            "Epoch 9/300\n",
            "16/16 [==============================] - 1s 44ms/step - loss: 0.3747 - acc: 0.9214 - val_loss: 0.8917 - val_acc: 0.8160\n",
            "Epoch 10/300\n",
            "16/16 [==============================] - 1s 43ms/step - loss: 0.2963 - acc: 0.9378 - val_loss: 0.8972 - val_acc: 0.8080\n",
            "Epoch 11/300\n",
            "16/16 [==============================] - 1s 43ms/step - loss: 0.2386 - acc: 0.9457 - val_loss: 0.8938 - val_acc: 0.8090\n",
            "Epoch 12/300\n",
            "16/16 [==============================] - 1s 44ms/step - loss: 0.1892 - acc: 0.9553 - val_loss: 0.9090 - val_acc: 0.8120\n",
            "Epoch 13/300\n",
            "16/16 [==============================] - 1s 44ms/step - loss: 0.1723 - acc: 0.9562 - val_loss: 0.9167 - val_acc: 0.8130\n",
            "Epoch 14/300\n",
            "16/16 [==============================] - 1s 43ms/step - loss: 0.1451 - acc: 0.9599 - val_loss: 0.9371 - val_acc: 0.8100\n",
            "Epoch 15/300\n",
            "16/16 [==============================] - 1s 44ms/step - loss: 0.1285 - acc: 0.9616 - val_loss: 0.9465 - val_acc: 0.8040\n",
            "Epoch 16/300\n",
            "16/16 [==============================] - 1s 43ms/step - loss: 0.1181 - acc: 0.9629 - val_loss: 0.9573 - val_acc: 0.8120\n",
            "Epoch 17/300\n",
            "16/16 [==============================] - 1s 43ms/step - loss: 0.1108 - acc: 0.9651 - val_loss: 0.9812 - val_acc: 0.8060\n",
            "Epoch 18/300\n",
            "16/16 [==============================] - 1s 43ms/step - loss: 0.0983 - acc: 0.9670 - val_loss: 0.9952 - val_acc: 0.8070\n",
            "Epoch 19/300\n",
            "16/16 [==============================] - 1s 43ms/step - loss: 0.0998 - acc: 0.9614 - val_loss: 0.9874 - val_acc: 0.8080\n"
          ],
          "name": "stdout"
        }
      ]
    },
    {
      "cell_type": "markdown",
      "metadata": {
        "id": "uxd2Lkg4CTai"
      },
      "source": [
        "# Avaliação"
      ]
    },
    {
      "cell_type": "code",
      "metadata": {
        "colab": {
          "base_uri": "https://localhost:8080/"
        },
        "id": "1KRFEju82uQw",
        "outputId": "c62e38ae-e613-41c4-8210-7b229914787e"
      },
      "source": [
        "avaliacao = modelo.evaluate(teste_x, teste_y)"
      ],
      "execution_count": 19,
      "outputs": [
        {
          "output_type": "stream",
          "text": [
            "71/71 [==============================] - 0s 3ms/step - loss: 0.9695 - acc: 0.7863\n"
          ],
          "name": "stdout"
        }
      ]
    },
    {
      "cell_type": "code",
      "metadata": {
        "id": "pnHS4_o03B6G",
        "colab": {
          "base_uri": "https://localhost:8080/"
        },
        "outputId": "0d833444-7876-463f-8c2c-8b8a99e89961"
      },
      "source": [
        "print('Acurácia na avaliação: ', avaliacao[1], '\\nPerda: ', avaliacao[0])"
      ],
      "execution_count": 20,
      "outputs": [
        {
          "output_type": "stream",
          "text": [
            "Acurácia na avaliação:  0.7862867116928101 \n",
            "Perda:  0.9695258140563965\n"
          ],
          "name": "stdout"
        }
      ]
    },
    {
      "cell_type": "markdown",
      "metadata": {
        "id": "_TtKgJjcDXxk"
      },
      "source": [
        "# Previsões (etiquetagens feitas pelo modelo)"
      ]
    },
    {
      "cell_type": "code",
      "metadata": {
        "colab": {
          "base_uri": "https://localhost:8080/"
        },
        "id": "2HrGlVM_-7mt",
        "outputId": "856d5746-40c6-4c48-f113-94d8dec74b1e"
      },
      "source": [
        "previsoes = modelo.predict(teste_x)\n",
        "len(previsoes)"
      ],
      "execution_count": 21,
      "outputs": [
        {
          "output_type": "execute_result",
          "data": {
            "text/plain": [
              "2246"
            ]
          },
          "metadata": {
            "tags": []
          },
          "execution_count": 21
        }
      ]
    },
    {
      "cell_type": "code",
      "metadata": {
        "colab": {
          "base_uri": "https://localhost:8080/"
        },
        "id": "jw6YUVrdCgxx",
        "outputId": "670e4aa0-9735-4544-8263-3759dd65a715"
      },
      "source": [
        "# Quantas são as classes possíveis para uma notícia qualquer?\n",
        "previsoes[0].shape"
      ],
      "execution_count": 22,
      "outputs": [
        {
          "output_type": "execute_result",
          "data": {
            "text/plain": [
              "(46,)"
            ]
          },
          "metadata": {
            "tags": []
          },
          "execution_count": 22
        }
      ]
    },
    {
      "cell_type": "code",
      "metadata": {
        "colab": {
          "base_uri": "https://localhost:8080/"
        },
        "id": "qRxFcNe8Cndp",
        "outputId": "999cea4f-a048-4987-bd8a-89c0b807b67d"
      },
      "source": [
        "# Soma das probabilidades de todas as classes\n",
        "sum(previsoes[0])"
      ],
      "execution_count": 23,
      "outputs": [
        {
          "output_type": "execute_result",
          "data": {
            "text/plain": [
              "0.9999999844012564"
            ]
          },
          "metadata": {
            "tags": []
          },
          "execution_count": 23
        }
      ]
    },
    {
      "cell_type": "code",
      "metadata": {
        "colab": {
          "base_uri": "https://localhost:8080/"
        },
        "id": "vqthcOB2Ctj5",
        "outputId": "c1501006-a690-4184-cbd9-d3169c09a72d"
      },
      "source": [
        "# Qual a classe estimada para uma dada notícia?\n",
        "# Note que o que está sendo buscado é o índice (i.e., posição no vetor de saída)\n",
        "# da classe com maior probabilidade\n",
        "\n",
        "np.argmax(previsoes[0])  "
      ],
      "execution_count": 24,
      "outputs": [
        {
          "output_type": "execute_result",
          "data": {
            "text/plain": [
              "3"
            ]
          },
          "metadata": {
            "tags": []
          },
          "execution_count": 24
        }
      ]
    },
    {
      "cell_type": "code",
      "metadata": {
        "colab": {
          "base_uri": "https://localhost:8080/"
        },
        "id": "XWOUWCDSEJpP",
        "outputId": "f8b7436a-035d-4d5b-8be5-703ff9dea267"
      },
      "source": [
        "# E qual foi exatamente a probabilidade calculada para essa classe \"campeã\"?\n",
        "previsoes[0][3]"
      ],
      "execution_count": 25,
      "outputs": [
        {
          "output_type": "execute_result",
          "data": {
            "text/plain": [
              "0.86115056"
            ]
          },
          "metadata": {
            "tags": []
          },
          "execution_count": 25
        }
      ]
    },
    {
      "cell_type": "markdown",
      "metadata": {
        "id": "df9Eq6HgL88O"
      },
      "source": [
        "# Tarefa: clusterização de assuntos\n",
        "\n",
        "As notícias do conjunto de testes foram classificadas em 46 assuntos.\n",
        "\n",
        "Agora, você deve implementar: \n",
        "\n",
        "1. Uma função que agrupe em listas as notícias divididas por assunto (para cada assunto haverá uma lista de notícias).\n",
        "\n",
        "2. Uma função que receba um número qualquer correspondente à etiqueta de assunto e mostre o texto legível (não os vetores!) de três notícias quaisquer classificadas sob esse assunto.\n",
        "\n",
        "Aqui está a lista dos 46 assuntos do corpus Reuters:"
      ]
    },
    {
      "cell_type": "code",
      "metadata": {
        "id": "Q-Rboc-JNqPq"
      },
      "source": [
        "assuntos = ['cocoa','grain','veg-oil','earn','acq','wheat','copper','housing','money-supply',\n",
        "   'coffee','sugar','trade','reserves','ship','cotton','carcass','crude','nat-gas',\n",
        "   'cpi','money-fx','interest','gnp','meal-feed','alum','oilseed','gold','tin',\n",
        "   'strategic-metal','livestock','retail','ipi','iron-steel','rubber','heat','jobs',\n",
        "   'lei','bop','zinc','orange','pet-chem','dlr','gas','silver','wpi','hog','lead']"
      ],
      "execution_count": 26,
      "outputs": []
    },
    {
      "cell_type": "code",
      "metadata": {
        "colab": {
          "base_uri": "https://localhost:8080/"
        },
        "id": "J3Z_jnKONupV",
        "outputId": "e785c2a6-7e84-4e5a-d75b-7a87f142e91c"
      },
      "source": [
        "len(assuntos)"
      ],
      "execution_count": 27,
      "outputs": [
        {
          "output_type": "execute_result",
          "data": {
            "text/plain": [
              "46"
            ]
          },
          "metadata": {
            "tags": []
          },
          "execution_count": 27
        }
      ]
    },
    {
      "cell_type": "markdown",
      "metadata": {
        "id": "pZbdXt-y9BOA"
      },
      "source": [
        "Assunto: [noticia1, n2, n3...],\n"
      ]
    },
    {
      "cell_type": "code",
      "metadata": {
        "colab": {
          "base_uri": "https://localhost:8080/"
        },
        "id": "XRwMtzWf_qK6",
        "outputId": "130be8ef-62b2-4c87-fa07-72a240807d52"
      },
      "source": [
        "# exercício 1\n",
        "from collections import defaultdict\n",
        "\n",
        "def agrupa_noticias(noticias, predicoes, dicionario_de_assuntos, palavra_de_indice):\n",
        "    \"\"\"\n",
        "    A função agrupa notícias recebe as notícias em texto codificado, \n",
        "    as predições como o output do modelo, a lista correspondente de assuntos \n",
        "    das predições e o dicionário de índices de cada palavra.\n",
        "    \"\"\"\n",
        "    # conversão das predições como output do modelo para uma lista com a descrição do assunto\n",
        "    predicoes_desc = [dicionario_de_assuntos[np.argmax(predicao)] for predicao in predicoes] \n",
        "    # usando defaultdict conseguimos ter um formato mais limpo de código do que se usássemos dicionários nativos\n",
        "    assuntos_dict = defaultdict(list)\n",
        "    for i, predicao in enumerate(predicoes_desc):\n",
        "        # iterando em cada predição o seguinte procedimento é realizado:\n",
        "        # dicionário na posição assunto recebe uma lista e coloca ao final usando o append\n",
        "        # a lista que será colocada ao final é a notícia em formato descrito, iterando em cada \n",
        "        # código de palavra de cada notícia e buscando a descrição correspondente no dicionário de id_palavras         \n",
        "        assuntos_dict[predicao].append(' '.join([palavra_de_indice.get(id_palavra-3, '<?>') for id_palavra in noticias[i]]))\n",
        "    return assuntos_dict\n",
        "noticias_agrupadas = agrupa_noticias(dados_teste, previsoes, assuntos, palavra_de_indice)\n",
        "# exemplo\n",
        "print(noticias_agrupadas[\"jobs\"][0])"
      ],
      "execution_count": 97,
      "outputs": [
        {
          "output_type": "stream",
          "text": [
            "<?> the u s civilian unemployment rate fell to 6 6 pct in march from 6 7 pct in february the labor department said the number of non farm payroll jobs rose 164 000 last month after rising a revised 236 000 in february that was down from the previously reported 337 000 rise in february the march unemployment rate was the lowest since march 1980 it had remained unchanged at 6 7 pct for three straight months before the march decline the rise in non farm <?> was the smallest since a decline last june of 75 000 the department said last month's unemployment rate was down from the 7 2 pct level in march 1986 growth in jobs continued in march but was slower than in recent months with the gains concentrated in service industries the number of goods producing jobs fell 68 000 in march while service producing jobs rose 232 000 to bring the total jobs in the department's survey of businesses to 102 03 mln in march business and health services showed the largest gains in jobs while manufacturing employment fell by 25 000 the average work week fell to 34 8 hours in march from 35 0 hours in february the department said manufacturing hours fell to 40 9 per week from 41 2 hours in february but overtime hours increased to 3 7 from 3 6 the department's survey of households showed the number of unemployed stood at 7 85 mln out of a work force of 119 2 mln the number of persons working part time for economic reasons fell in march to 5 46 mln from 5 78 mln in february the loss of factory jobs brought the march total to 19 19 mln jobs and was concentrated in automobile electrical and electronic manufacturing construction employment also lowered the number of jobs in the goods producing sector falling by 45 000 after seasonal adjustment the department said mining employment was little changed in march and has not experienced any substantial erosion since the rapid job losses in oil and gas drilling in the first two thirds of 1986 other service industries that increased jobs last month were finance insurance and real estate reuter 3\n"
          ],
          "name": "stdout"
        }
      ]
    },
    {
      "cell_type": "code",
      "metadata": {
        "colab": {
          "base_uri": "https://localhost:8080/"
        },
        "id": "1a3bpZRY_xxs",
        "outputId": "46a04991-c2c2-4072-fc17-c72d310bf19d"
      },
      "source": [
        "# exercício 2\n",
        "\n",
        "def mostra_k_noticias(noticias_agrupadas, grupo, k=3):\n",
        "    \"\"\"\n",
        "    Essa função recebe o dicionário criado na função \n",
        "    anterior e mostra as k primeiras notícias\n",
        "    do assunto do grupo selecionado\n",
        "    \"\"\"\n",
        "\n",
        "    if k > len(noticias_agrupadas[grupo]):\n",
        "        raise ValueError(f\"Você pediu por {k} notícias, mas esse assunto só possui {len(noticias_agrupadas[grupo])} notícias\")\n",
        "        \n",
        "    print(f\"Assunto escolhido: {grupo}\\n-----------------------\")\n",
        "    for i in range(k):\n",
        "        noticia_junta = noticias_agrupadas[grupo][i]\n",
        "        print(noticia_junta)\n",
        "\n",
        "mostra_k_noticias(noticias_agrupadas, \"jobs\", 3)"
      ],
      "execution_count": 103,
      "outputs": [
        {
          "output_type": "stream",
          "text": [
            "Assunto escolhido: jobs\n",
            "-----------------------\n",
            "<?> the u s civilian unemployment rate fell to 6 6 pct in march from 6 7 pct in february the labor department said the number of non farm payroll jobs rose 164 000 last month after rising a revised 236 000 in february that was down from the previously reported 337 000 rise in february the march unemployment rate was the lowest since march 1980 it had remained unchanged at 6 7 pct for three straight months before the march decline the rise in non farm <?> was the smallest since a decline last june of 75 000 the department said last month's unemployment rate was down from the 7 2 pct level in march 1986 growth in jobs continued in march but was slower than in recent months with the gains concentrated in service industries the number of goods producing jobs fell 68 000 in march while service producing jobs rose 232 000 to bring the total jobs in the department's survey of businesses to 102 03 mln in march business and health services showed the largest gains in jobs while manufacturing employment fell by 25 000 the average work week fell to 34 8 hours in march from 35 0 hours in february the department said manufacturing hours fell to 40 9 per week from 41 2 hours in february but overtime hours increased to 3 7 from 3 6 the department's survey of households showed the number of unemployed stood at 7 85 mln out of a work force of 119 2 mln the number of persons working part time for economic reasons fell in march to 5 46 mln from 5 78 mln in february the loss of factory jobs brought the march total to 19 19 mln jobs and was concentrated in automobile electrical and electronic manufacturing construction employment also lowered the number of jobs in the goods producing sector falling by 45 000 after seasonal adjustment the department said mining employment was little changed in march and has not experienced any substantial erosion since the rapid job losses in oil and gas drilling in the first two thirds of 1986 other service industries that increased jobs last month were finance insurance and real estate reuter 3\n",
            "<?> spain's registered unemployment fell by 10 465 people to 2 97 mln or 21 4 pct of the workforce in march labour ministry figures show registered unemployment in february was 2 98 mln people or 21 5 pct of the workforce the figures were nonetheless higher than those for march 1986 2 8 mln people and 21 pct of the workforce reuter 3\n",
            "<?> japan's seasonally adjusted unemployment rate fell to 2 9 pct in february from the record 3 0 pct in january the government's management and coordination agency said the january level was the worst since the goverment started compiling unemployment statistics under the current system in 1953 unemployment was up from 2 8 pct a year earlier unadjusted february unemployment totalled 1 86 mln people up from 1 82 mln in january and 1 64 mln a year earlier male unemployment in february remained at 2 9 pct equal to the second highest level set in january and december record male unemployment of 3 1 pct was set in july 1986 female unemployment rose to a record 3 1 pct in february from the previous record 3 0 pct marked in january 1987 and in april august september and december last year japan's employment condition was still severe in february as the non <?> rate of unemployment in february fell only 0 03 percentage points to 2 93 pct from 2 96 pct in january an agency official said employment in manufacturing industries fell 430 000 from a year earlier to 14 22 mln people in february due to the yen's continued appreciation while employment in non manufacturing industries rose 380 000 to 12 11 mln in manufacturing industries employment in the textile industry fell 180 000 to 1 94 mln in february while in ordinary and precision machinery industries it fell 160 000 to 1 50 mln reuter 3\n"
          ],
          "name": "stdout"
        }
      ]
    }
  ]
}