{
 "cells": [
  {
   "cell_type": "code",
   "execution_count": 1,
   "metadata": {},
   "outputs": [
    {
     "name": "stderr",
     "output_type": "stream",
     "text": [
      "[nltk_data] Downloading package punkt to\n",
      "[nltk_data]     /home/brunorosilva/nltk_data...\n",
      "[nltk_data]   Package punkt is already up-to-date!\n"
     ]
    }
   ],
   "source": [
    "from nltk import word_tokenize, sent_tokenize, tokenize\n",
    "import numpy as np\n",
    "import nltk\n",
    "import pandas as pd\n",
    "from nltk.util import ngrams\n",
    "stop = nltk.corpus.stopwords.words('portuguese')\n",
    "from IPython.display import display, HTML\n",
    "\n",
    "nltk.download('punkt')\n",
    "from collections import Counter\n",
    "\n",
    "# Contagens dos unigramas\n",
    "\n"
   ]
  },
  {
   "cell_type": "code",
   "execution_count": 2,
   "metadata": {},
   "outputs": [],
   "source": [
    "corpus = open('DomCasmurro.txt','r').read()"
   ]
  },
  {
   "cell_type": "code",
   "execution_count": 3,
   "metadata": {},
   "outputs": [
    {
     "data": {
      "text/plain": [
       "[1, 3, '2']"
      ]
     },
     "execution_count": 3,
     "metadata": {},
     "output_type": "execute_result"
    }
   ],
   "source": [
    "[1, 3] + [\"2\"]"
   ]
  },
  {
   "cell_type": "code",
   "execution_count": 4,
   "metadata": {},
   "outputs": [],
   "source": [
    "a = {}\n",
    "a[\"B\"] = []\n",
    "a[\"B\"].append(2)\n",
    "a[\"C\"] = []\n",
    "a[\"C\"].append(3)\n",
    "a[\"B\"].append(2)\n",
    "a[\"B\"].append(2)"
   ]
  },
  {
   "cell_type": "code",
   "execution_count": 5,
   "metadata": {},
   "outputs": [
    {
     "data": {
      "text/plain": [
       "{'B': [2, 2, 2], 'C': [3]}"
      ]
     },
     "execution_count": 5,
     "metadata": {},
     "output_type": "execute_result"
    }
   ],
   "source": [
    "a"
   ]
  },
  {
   "cell_type": "code",
   "execution_count": 6,
   "metadata": {},
   "outputs": [
    {
     "name": "stdout",
     "output_type": "stream",
     "text": [
      "[2, 2, 2]\n",
      "[3]\n"
     ]
    }
   ],
   "source": [
    "for k in a:\n",
    "    print(a[k])"
   ]
  },
  {
   "cell_type": "code",
   "execution_count": 7,
   "metadata": {},
   "outputs": [
    {
     "data": {
      "text/plain": [
       "[1, 2]"
      ]
     },
     "execution_count": 7,
     "metadata": {},
     "output_type": "execute_result"
    }
   ],
   "source": [
    "a = [1, 2,3]\n",
    "a[:-1]"
   ]
  },
  {
   "cell_type": "code",
   "execution_count": 167,
   "metadata": {},
   "outputs": [],
   "source": [
    "class model():\n",
    "    def __init__(self, corpus):\n",
    "        self.corpus = corpus\n",
    "        self.preprocess_done = False\n",
    "        self.stop = nltk.corpus.stopwords.words('portuguese')\n",
    "        self.unigram=[]\n",
    "        self.bigram=[]\n",
    "        self.trigram=[]\n",
    "        self.lst_sents = []\n",
    "        \n",
    "\n",
    "    def _tokenizar(self, s):\n",
    "        return tokenize.word_tokenize(s, language='portuguese')\n",
    "\n",
    "    def _limpar(self, lista):\n",
    "        return [i.lower() for i in lista if i.isalpha()]\n",
    "    \n",
    "    def _achatar(self, lista):\n",
    "        return [i for sublista in lista for i in sublista]\n",
    "    \n",
    "    def _remover_pontuacao(self):\n",
    "        self.pontos = ['...', ':', ';', '!', '?']\n",
    "        for i in self.pontos:\n",
    "            self.corpus = self.corpus.replace(i, '.')\n",
    "        \n",
    "        \n",
    "    def _remover_barra_n(self):\n",
    "        self.corpus_nl_removed = \"\"\n",
    "        for line in self.corpus:\n",
    "            line_nl_removed = line.replace(\"\\n\", \" \")      #removes newlines\n",
    "            self.corpus_nl_removed += line_nl_removed\n",
    "            \n",
    "    def _remover_pontuacao_e_barra_n(self):\n",
    "        self.corpus_limpo = \"\".join([char for char in self.corpus_nl_removed if char not in (self.pontos + ['\\n'])])\n",
    "        \n",
    "    def _estatisticas_corpus(self):\n",
    "        self.sents = sent_tokenize(self.corpus_limpo)\n",
    "        self.words = word_tokenize(self.corpus_limpo)\n",
    "        stats_df = pd.DataFrame({\n",
    "            \"Sentências\":[len(self.sents)],\n",
    "            \"Palavras\":[len(self.words)],\n",
    "            \"Média de palavras por sentença\":[round(len(self.words)/len(self.sents))],\n",
    "            \"Quantidade de palavras únicas\":[len(set(self.words))],\n",
    "        }, index=[\"Estatísticas\"]).transpose()\n",
    "        \n",
    "        display(stats_df)\n",
    "        \n",
    "        \n",
    "    def _prever(self, palavra):\n",
    "        lista = [k for k in c_bigr.items() if k[0][0] == palavra]\n",
    "        ordem = sorted(lista, key=lambda x: x[1], reverse=True)\n",
    "        previsao = [p[0][1] for p in ordem[:3]]\n",
    "        return previsao\n",
    "\n",
    "    def _criar_lst_sents(self):        \n",
    "        for sentence in self.sents:\n",
    "            if len(sentence) > 0:\n",
    "                self.lst_sents.append(self._limpar(self._tokenizar(sentence)))\n",
    "        for i in range(len(self.lst_sents)):\n",
    "            self.lst_sents[i] = [\"<s>\"] + self.lst_sents[i] + [\"</s>\"]\n",
    "    \n",
    "    def _remover_primeiros(self, n=10):\n",
    "        self.lst_sents = self.lst_sents[10:]\n",
    "    \n",
    "    def preprocess(self):\n",
    "        \n",
    "        if self.preprocess_done == True:\n",
    "            print(\"O preprocessamento já foi feito, você pode criar os modelos diretamente\")\n",
    "        \n",
    "        else:\n",
    "            print(\"Começando o preprocessamento\")\n",
    "            \n",
    "            self._remover_pontuacao()\n",
    "            print(\"Passo 1 Check\")\n",
    "            self._remover_barra_n()\n",
    "            print(\"Passo 2 Check\")\n",
    "            self._remover_pontuacao_e_barra_n()\n",
    "            print(\"Passo 3 Check\")\n",
    "            self._estatisticas_corpus()\n",
    "            print(\"Passo 4 Check\")\n",
    "            self._criar_lst_sents()\n",
    "            print(\"Passo 5 Check\")\n",
    "            self._remover_primeiros()\n",
    "            print(\"Passo 6 Check\")\n",
    "            \n",
    "                \n",
    "    def criar_ngrams(self, n_list=[1, 2, 3]):\n",
    "        self.ngrams = {}\n",
    "        \n",
    "        for n in n_list:\n",
    "            self.ngrams[str(n)+\"gram\"] = []\n",
    "            \n",
    "            for s in self.lst_sents:\n",
    "                if s == \".\" and n==1:\n",
    "                    pass\n",
    "                elif n==1:\n",
    "                    self.ngrams[str(n)+\"gram\"].append(s) \n",
    "                else:\n",
    "                    self.ngrams[str(n)+\"gram\"].append(list(ngrams(s, n)))\n",
    "            \n",
    "    def calcular_freqs(self):\n",
    "        self.ngrams_counters = {}\n",
    "        for ngram in self.ngrams:\n",
    "            c_ngram = Counter(self._achatar(self.ngrams[ngram]))\n",
    "            d = pd.DataFrame.from_dict(c_ngram, orient='index', columns=[ngram])\n",
    "            display(d.sort_values(ngram, ascending=False))\n",
    "            self.ngrams_counters[ngram] = c_ngram\n",
    "\n",
    "    def _p_onegram(self, p):        \n",
    "        \n",
    "        return self.ngrams_counters[\"1gram\"][p] / sum(self.ngrams_counters[\"1gram\"].values())\n",
    "        \n",
    "        \n",
    "    def _p_bigram(self, p1, p2):        \n",
    "        return self.ngrams_counters[\"2gram\"][(p1, p2)] / self.ngrams_counters[\"1gram\"][p1]\n",
    "        \n",
    "    def _p_trig(self, p1, p2, p3):        \n",
    "        return self.ngrams_counters[\"3gram\"][(p1, p2, p3)] / self.ngrams_counters[\"2gram\"][(p1, p2)]\n",
    "    \n",
    "    \n",
    "    def calcular_probs(self, p_list):\n",
    "        self.ngrams_prob = {}\n",
    "        \n",
    "        ### solução besta só pra 1 <= n <= 3\n",
    "        # futuramente vou criar uma solução recursiva para o problema\n",
    "        \n",
    "        if len(p_list) == 1:\n",
    "            prob = self._p_onegram(p_list[0])\n",
    "            self.ngrams_prob[\"1gram\"] = prob\n",
    "        elif len(p_list) == 2:\n",
    "            prob = self._p_bigram(p_list[0], p_list[1])\n",
    "            self.ngrams_prob[\"2gram\"] = prob\n",
    "        else:\n",
    "            prob = self._p_trig(p_list[0], p_list[1], p_list[2])\n",
    "            self.ngrams_prob[\"3gram\"] = prob\n",
    "                    \n",
    "                \n",
    "    def smooth(self):\n",
    "        self.ngrams_voc = {}\n",
    "        \n",
    "        self.total_ngrams = {}\n",
    "        self.total_voc = {}\n",
    "        \n",
    "        self.ngrams_prob = {}\n",
    "        for ngram in self.ngrams:\n",
    "            self.ngrams_voc[ngram] = set([])\n",
    "            \n",
    "            for gram in self.ngrams[ngram]:\n",
    "                if self._achatar(gram) not in self._achatar(self.ngrams_voc[ngram]):\n",
    "                    self.ngrams_voc[ngram] = self._achatar(gram)        \n",
    "        \n",
    "            self.total_ngrams[ngram] = -1\n",
    "            self.total_voc[ngram] = -1\n",
    "        \n",
    "\n",
    "            self.ngrams_prob[ngram] = []\n",
    "            \n",
    "            for ngram_v in self.ngrams_voc[ngram]:\n",
    "                tlist = [ngram_v]\n",
    "                tlist.append(self.ngrams[ngram].count(ngram_v))\n",
    "                self.ngrams_prob[ngram].append(tlist)\n",
    "        \n",
    "        \n",
    "            self.total_ngrams[ngram] = len(self.ngrams[ngram])\n",
    "            self.total_voc[ngram] = len(self.ngrams_voc[ngram])                       \n",
    "\n",
    "            for ngram_p in self.ngrams_prob[ngram]:\n",
    "                self.ngrams_probngram_p[-1] = (ngram_p[-1]+1)/(self.total_ngrams[ngram]+self.total_voc[ngram])             #add-1 smoothing\n",
    "\n",
    "    \n",
    "            self.ngrams_prob[ngram] = sorted(self.ngrams_prob[ngram], key = lambda x:x[1], reverse = True)\n",
    "    \n",
    "    def calculate_preds(self, word, limit=40):\n",
    "        for ngram in self.ngrams_counters:\n",
    "            lista = [k for k in self.ngrams_counters[ngram].items() if k[0][0] == word]\n",
    "            ordem = sorted(lista, key=lambda x: x[1], reverse=True)\n",
    "            \n",
    "            i = 1\n",
    "            previsao = []\n",
    "            for p in ordem[:limit]:\n",
    "                previsao.append(p[0][1])\n",
    "                \n",
    "                if p[0][1] == \"</s>\":\n",
    "                    print(\"quebrou por conta do final\")\n",
    "                    break\n",
    "                #if i == limit:\n",
    "                #    print(\"quebrou por conta do limite\")\n",
    "                #    break\n",
    "                #i += 1\n",
    "            print(previsao)"
   ]
  },
  {
   "cell_type": "code",
   "execution_count": 168,
   "metadata": {},
   "outputs": [],
   "source": [
    "m = model(corpus)"
   ]
  },
  {
   "cell_type": "code",
   "execution_count": 169,
   "metadata": {
    "scrolled": true
   },
   "outputs": [
    {
     "name": "stdout",
     "output_type": "stream",
     "text": [
      "Começando o preprocessamento\n",
      "Passo 1 Check\n",
      "Passo 2 Check\n",
      "Passo 3 Check\n"
     ]
    },
    {
     "data": {
      "text/html": [
       "<div>\n",
       "<style scoped>\n",
       "    .dataframe tbody tr th:only-of-type {\n",
       "        vertical-align: middle;\n",
       "    }\n",
       "\n",
       "    .dataframe tbody tr th {\n",
       "        vertical-align: top;\n",
       "    }\n",
       "\n",
       "    .dataframe thead th {\n",
       "        text-align: right;\n",
       "    }\n",
       "</style>\n",
       "<table border=\"1\" class=\"dataframe\">\n",
       "  <thead>\n",
       "    <tr style=\"text-align: right;\">\n",
       "      <th></th>\n",
       "      <th>Estatísticas</th>\n",
       "    </tr>\n",
       "  </thead>\n",
       "  <tbody>\n",
       "    <tr>\n",
       "      <th>Sentências</th>\n",
       "      <td>5760</td>\n",
       "    </tr>\n",
       "    <tr>\n",
       "      <th>Palavras</th>\n",
       "      <td>83048</td>\n",
       "    </tr>\n",
       "    <tr>\n",
       "      <th>Média de palavras por sentença</th>\n",
       "      <td>14</td>\n",
       "    </tr>\n",
       "    <tr>\n",
       "      <th>Quantidade de palavras únicas</th>\n",
       "      <td>11196</td>\n",
       "    </tr>\n",
       "  </tbody>\n",
       "</table>\n",
       "</div>"
      ],
      "text/plain": [
       "                                Estatísticas\n",
       "Sentências                              5760\n",
       "Palavras                               83048\n",
       "Média de palavras por sentença            14\n",
       "Quantidade de palavras únicas          11196"
      ]
     },
     "metadata": {},
     "output_type": "display_data"
    },
    {
     "name": "stdout",
     "output_type": "stream",
     "text": [
      "Passo 4 Check\n",
      "Passo 5 Check\n",
      "Passo 6 Check\n"
     ]
    }
   ],
   "source": [
    "m.preprocess()"
   ]
  },
  {
   "cell_type": "code",
   "execution_count": 170,
   "metadata": {},
   "outputs": [],
   "source": [
    "m.criar_ngrams()"
   ]
  },
  {
   "cell_type": "code",
   "execution_count": 171,
   "metadata": {},
   "outputs": [
    {
     "data": {
      "text/html": [
       "<div>\n",
       "<style scoped>\n",
       "    .dataframe tbody tr th:only-of-type {\n",
       "        vertical-align: middle;\n",
       "    }\n",
       "\n",
       "    .dataframe tbody tr th {\n",
       "        vertical-align: top;\n",
       "    }\n",
       "\n",
       "    .dataframe thead th {\n",
       "        text-align: right;\n",
       "    }\n",
       "</style>\n",
       "<table border=\"1\" class=\"dataframe\">\n",
       "  <thead>\n",
       "    <tr style=\"text-align: right;\">\n",
       "      <th></th>\n",
       "      <th>1gram</th>\n",
       "    </tr>\n",
       "  </thead>\n",
       "  <tbody>\n",
       "    <tr>\n",
       "      <th>&lt;s&gt;</th>\n",
       "      <td>5750</td>\n",
       "    </tr>\n",
       "    <tr>\n",
       "      <th>&lt;/s&gt;</th>\n",
       "      <td>5750</td>\n",
       "    </tr>\n",
       "    <tr>\n",
       "      <th>que</th>\n",
       "      <td>2663</td>\n",
       "    </tr>\n",
       "    <tr>\n",
       "      <th>a</th>\n",
       "      <td>2579</td>\n",
       "    </tr>\n",
       "    <tr>\n",
       "      <th>e</th>\n",
       "      <td>2191</td>\n",
       "    </tr>\n",
       "    <tr>\n",
       "      <th>...</th>\n",
       "      <td>...</td>\n",
       "    </tr>\n",
       "    <tr>\n",
       "      <th>rezando</th>\n",
       "      <td>1</td>\n",
       "    </tr>\n",
       "    <tr>\n",
       "      <th>miquelina</th>\n",
       "      <td>1</td>\n",
       "    </tr>\n",
       "    <tr>\n",
       "      <th>joanna</th>\n",
       "      <td>1</td>\n",
       "    </tr>\n",
       "    <tr>\n",
       "      <th>nhõ</th>\n",
       "      <td>1</td>\n",
       "    </tr>\n",
       "    <tr>\n",
       "      <th>hear</th>\n",
       "      <td>1</td>\n",
       "    </tr>\n",
       "  </tbody>\n",
       "</table>\n",
       "<p>9020 rows × 1 columns</p>\n",
       "</div>"
      ],
      "text/plain": [
       "           1gram\n",
       "<s>         5750\n",
       "</s>        5750\n",
       "que         2663\n",
       "a           2579\n",
       "e           2191\n",
       "...          ...\n",
       "rezando        1\n",
       "miquelina      1\n",
       "joanna         1\n",
       "nhõ            1\n",
       "hear           1\n",
       "\n",
       "[9020 rows x 1 columns]"
      ]
     },
     "metadata": {},
     "output_type": "display_data"
    },
    {
     "data": {
      "text/html": [
       "<div>\n",
       "<style scoped>\n",
       "    .dataframe tbody tr th:only-of-type {\n",
       "        vertical-align: middle;\n",
       "    }\n",
       "\n",
       "    .dataframe tbody tr th {\n",
       "        vertical-align: top;\n",
       "    }\n",
       "\n",
       "    .dataframe thead th {\n",
       "        text-align: right;\n",
       "    }\n",
       "</style>\n",
       "<table border=\"1\" class=\"dataframe\">\n",
       "  <thead>\n",
       "    <tr style=\"text-align: right;\">\n",
       "      <th></th>\n",
       "      <th>2gram</th>\n",
       "    </tr>\n",
       "  </thead>\n",
       "  <tbody>\n",
       "    <tr>\n",
       "      <th>(&lt;s&gt;, não)</th>\n",
       "      <td>368</td>\n",
       "    </tr>\n",
       "    <tr>\n",
       "      <th>(&lt;s&gt;, a)</th>\n",
       "      <td>279</td>\n",
       "    </tr>\n",
       "    <tr>\n",
       "      <th>(&lt;s&gt;, mas)</th>\n",
       "      <td>226</td>\n",
       "    </tr>\n",
       "    <tr>\n",
       "      <th>(&lt;s&gt;, o)</th>\n",
       "      <td>196</td>\n",
       "    </tr>\n",
       "    <tr>\n",
       "      <th>(que, não)</th>\n",
       "      <td>190</td>\n",
       "    </tr>\n",
       "    <tr>\n",
       "      <th>...</th>\n",
       "      <td>...</td>\n",
       "    </tr>\n",
       "    <tr>\n",
       "      <th>(&lt;s&gt;, trabalhei)</th>\n",
       "      <td>1</td>\n",
       "    </tr>\n",
       "    <tr>\n",
       "      <th>(proprios, &lt;/s&gt;)</th>\n",
       "      <td>1</td>\n",
       "    </tr>\n",
       "    <tr>\n",
       "      <th>(sentidos, proprios)</th>\n",
       "      <td>1</td>\n",
       "    </tr>\n",
       "    <tr>\n",
       "      <th>(e, sentidos)</th>\n",
       "      <td>1</td>\n",
       "    </tr>\n",
       "    <tr>\n",
       "      <th>(ebooks, &lt;/s&gt;)</th>\n",
       "      <td>1</td>\n",
       "    </tr>\n",
       "  </tbody>\n",
       "</table>\n",
       "<p>40824 rows × 1 columns</p>\n",
       "</div>"
      ],
      "text/plain": [
       "                      2gram\n",
       "(<s>, não)              368\n",
       "(<s>, a)                279\n",
       "(<s>, mas)              226\n",
       "(<s>, o)                196\n",
       "(que, não)              190\n",
       "...                     ...\n",
       "(<s>, trabalhei)          1\n",
       "(proprios, </s>)          1\n",
       "(sentidos, proprios)      1\n",
       "(e, sentidos)             1\n",
       "(ebooks, </s>)            1\n",
       "\n",
       "[40824 rows x 1 columns]"
      ]
     },
     "metadata": {},
     "output_type": "display_data"
    },
    {
     "data": {
      "text/html": [
       "<div>\n",
       "<style scoped>\n",
       "    .dataframe tbody tr th:only-of-type {\n",
       "        vertical-align: middle;\n",
       "    }\n",
       "\n",
       "    .dataframe tbody tr th {\n",
       "        vertical-align: top;\n",
       "    }\n",
       "\n",
       "    .dataframe thead th {\n",
       "        text-align: right;\n",
       "    }\n",
       "</style>\n",
       "<table border=\"1\" class=\"dataframe\">\n",
       "  <thead>\n",
       "    <tr style=\"text-align: right;\">\n",
       "      <th></th>\n",
       "      <th>3gram</th>\n",
       "    </tr>\n",
       "  </thead>\n",
       "  <tbody>\n",
       "    <tr>\n",
       "      <th>(&lt;s&gt;, josé, dias)</th>\n",
       "      <td>49</td>\n",
       "    </tr>\n",
       "    <tr>\n",
       "      <th>(de, minha, mãe)</th>\n",
       "      <td>44</td>\n",
       "    </tr>\n",
       "    <tr>\n",
       "      <th>(&lt;s&gt;, minha, mãe)</th>\n",
       "      <td>36</td>\n",
       "    </tr>\n",
       "    <tr>\n",
       "      <th>(&lt;s&gt;, o, que)</th>\n",
       "      <td>30</td>\n",
       "    </tr>\n",
       "    <tr>\n",
       "      <th>(josé, dias, &lt;/s&gt;)</th>\n",
       "      <td>27</td>\n",
       "    </tr>\n",
       "    <tr>\n",
       "      <th>...</th>\n",
       "      <td>...</td>\n",
       "    </tr>\n",
       "    <tr>\n",
       "      <th>(sensação, exquisita, &lt;/s&gt;)</th>\n",
       "      <td>1</td>\n",
       "    </tr>\n",
       "    <tr>\n",
       "      <th>(&lt;s&gt;, um, fluido)</th>\n",
       "      <td>1</td>\n",
       "    </tr>\n",
       "    <tr>\n",
       "      <th>(um, fluido, &lt;/s&gt;)</th>\n",
       "      <td>1</td>\n",
       "    </tr>\n",
       "    <tr>\n",
       "      <th>(&lt;s&gt;, aquella, ameaça)</th>\n",
       "      <td>1</td>\n",
       "    </tr>\n",
       "    <tr>\n",
       "      <th>(new, ebooks, &lt;/s&gt;)</th>\n",
       "      <td>1</td>\n",
       "    </tr>\n",
       "  </tbody>\n",
       "</table>\n",
       "<p>58956 rows × 1 columns</p>\n",
       "</div>"
      ],
      "text/plain": [
       "                             3gram\n",
       "(<s>, josé, dias)               49\n",
       "(de, minha, mãe)                44\n",
       "(<s>, minha, mãe)               36\n",
       "(<s>, o, que)                   30\n",
       "(josé, dias, </s>)              27\n",
       "...                            ...\n",
       "(sensação, exquisita, </s>)      1\n",
       "(<s>, um, fluido)                1\n",
       "(um, fluido, </s>)               1\n",
       "(<s>, aquella, ameaça)           1\n",
       "(new, ebooks, </s>)              1\n",
       "\n",
       "[58956 rows x 1 columns]"
      ]
     },
     "metadata": {},
     "output_type": "display_data"
    }
   ],
   "source": [
    "m.calcular_freqs()"
   ]
  },
  {
   "cell_type": "code",
   "execution_count": 172,
   "metadata": {},
   "outputs": [],
   "source": [
    "m.calcular_probs([\"<s>\", \"um\", \"fluido\"])"
   ]
  },
  {
   "cell_type": "code",
   "execution_count": 173,
   "metadata": {},
   "outputs": [
    {
     "data": {
      "text/plain": [
       "{'3gram': 0.01639344262295082}"
      ]
     },
     "execution_count": 173,
     "metadata": {},
     "output_type": "execute_result"
    }
   ],
   "source": [
    "m.ngrams_prob"
   ]
  },
  {
   "cell_type": "code",
   "execution_count": 175,
   "metadata": {},
   "outputs": [
    {
     "name": "stdout",
     "output_type": "stream",
     "text": [
      "[]\n",
      "quebrou por conta do final\n",
      "['não', 'a', 'mas', 'o', 'e', 'era', 'eu', 'capitú', 'que', 'é', 'quando', 'se', 'os', 'um', 'ao', 'as', 'você', 'tambem', 'pois', 'em', 'josé', 'já', 'como', 'foi', 'no', 'tudo', '</s>']\n",
      "['josé', 'minha', 'o', 'não', 'não', 'mas', 'prima', 'um', 'mas', 'mas', 'oh', 'é', 'tio', 'mas', 'não', 'ao', 'creio', 'era', 'era', 'os', 'que', 'não', 'como', 'era', 'se', 'não', 'você', 'não', 'a', 'tambem', 'já', 'é', 'não', 'era', 'ha', 'uma', 'eu', 'if', 'mas', 'o']\n"
     ]
    }
   ],
   "source": [
    "m.calculate_preds(\"<s>\")"
   ]
  },
  {
   "cell_type": "code",
   "execution_count": null,
   "metadata": {},
   "outputs": [],
   "source": []
  },
  {
   "cell_type": "code",
   "execution_count": null,
   "metadata": {},
   "outputs": [],
   "source": []
  },
  {
   "cell_type": "code",
   "execution_count": null,
   "metadata": {},
   "outputs": [],
   "source": []
  },
  {
   "cell_type": "code",
   "execution_count": null,
   "metadata": {},
   "outputs": [],
   "source": []
  },
  {
   "cell_type": "code",
   "execution_count": null,
   "metadata": {},
   "outputs": [],
   "source": []
  },
  {
   "cell_type": "code",
   "execution_count": null,
   "metadata": {},
   "outputs": [],
   "source": []
  },
  {
   "cell_type": "code",
   "execution_count": null,
   "metadata": {},
   "outputs": [],
   "source": []
  },
  {
   "cell_type": "code",
   "execution_count": null,
   "metadata": {},
   "outputs": [],
   "source": []
  },
  {
   "cell_type": "markdown",
   "metadata": {},
   "source": [
    "# preprocessing\n",
    "1. Trocar as pontuações de final de frase por \".\"\n",
    "2. Remover "
   ]
  },
  {
   "cell_type": "code",
   "execution_count": null,
   "metadata": {},
   "outputs": [],
   "source": []
  }
 ],
 "metadata": {
  "kernelspec": {
   "display_name": "Python 3",
   "language": "python",
   "name": "python3"
  },
  "language_info": {
   "codemirror_mode": {
    "name": "ipython",
    "version": 3
   },
   "file_extension": ".py",
   "mimetype": "text/x-python",
   "name": "python",
   "nbconvert_exporter": "python",
   "pygments_lexer": "ipython3",
   "version": "3.8.5"
  }
 },
 "nbformat": 4,
 "nbformat_minor": 4
}
