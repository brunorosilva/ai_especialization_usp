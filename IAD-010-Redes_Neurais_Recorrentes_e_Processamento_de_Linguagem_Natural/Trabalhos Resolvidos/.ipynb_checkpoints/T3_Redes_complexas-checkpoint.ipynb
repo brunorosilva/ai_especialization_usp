{
 "cells": [
  {
   "cell_type": "markdown",
   "metadata": {
    "colab_type": "text",
    "id": "-MwruVLNXqci"
   },
   "source": [
    "# Trabalho #3 - Redes Complexas\n",
    "\n",
    "Nesse trabalho você vai desenvolver uma RNA para realizar uma tarefa de geração de imagem. A tarefa consiste em gerar um nariz para um rosto de uma pessoa. Assim, dada uma imagem de um rosto de uma pessoa com uma máscara cobrindo o nariz, a RNA deve gerar uma imagem desse rosto com um nariz adequado. \n",
    "\n",
    "Esse trabalho consiste de uma aplicação real de redes neurais, que foi desenvolvida para a Faculdade de Odontologia da USP para permitir criar próteses nasais adequadas para pacientes que perderam o nariz. \n",
    "\n",
    "Para realizar essa tarefa iremos usar uma rede neural tipo residual."
   ]
  },
  {
   "cell_type": "markdown",
   "metadata": {
    "colab_type": "text",
    "id": "eP57hWxVXqcl"
   },
   "source": [
    "## Coloque o seu nome aqui:\n",
    "\n",
    "Nome: Bruno Rodrigues\n"
   ]
  },
  {
   "cell_type": "code",
   "execution_count": 0,
   "metadata": {
    "colab": {},
    "colab_type": "code",
    "id": "foGyYd2zXwoK"
   },
   "outputs": [],
   "source": [
    "from google.colab import drive\n",
    "drive.mount('/content/drive')"
   ]
  },
  {
   "cell_type": "code",
   "execution_count": 0,
   "metadata": {
    "colab": {},
    "colab_type": "code",
    "id": "D7j-3XLMX4gN"
   },
   "outputs": [],
   "source": [
    "%cd /content/drive/My Drive/Nome do diretório com o arquivo de dados\n",
    "!ls"
   ]
  },
  {
   "cell_type": "markdown",
   "metadata": {
    "colab_type": "text",
    "id": "c_4nvWuqXqcm"
   },
   "source": [
    "Em primeiro lugar é necessário importar alguns pacotes do Python que serão usados ao longo nesse trabalho:\n",
    "\n",
    "- numpy: pacote de cálculo científico com Python\n",
    "- matplotlib: biblioteca para gerar gráficos em Python\n",
    "- h5py: biblioteca que permite ler e escrever arquivos no formato h5\n",
    "- skimage: bilioteca para porcessar imagens\n",
    "- TensorFlow"
   ]
  },
  {
   "cell_type": "code",
   "execution_count": 1,
   "metadata": {
    "colab": {},
    "colab_type": "code",
    "id": "gGBe9mdtXqcn"
   },
   "outputs": [],
   "source": [
    "import numpy as np\n",
    "import h5py\n",
    "import matplotlib.pyplot as plt\n",
    "from skimage.io import imread\n",
    "from skimage.transform import resize\n",
    "import tensorflow as tf\n",
    "\n",
    "%matplotlib inline"
   ]
  },
  {
   "cell_type": "markdown",
   "metadata": {
    "colab_type": "text",
    "id": "EWHgOH7FXqcq"
   },
   "source": [
    "## 1 - Visão geral do problema ##\n",
    "\n",
    "O objetivo desse problema é desenvolver uma RNA que recebe como entrada uma imagem de um rosto com uma máscara preta cobrindo a região do nariz e gera uma nova imagem do rosto com um nariz adequado. \n",
    "\n",
    "O conjunto de dados usado nesse trabalho foi criado usando o banco de imagens de celebridades CELEBA-HQ-512, que possui 30.000 imagens de rostos de celebridades com resolução 512 por 512. Esse banco de dados pode ser visto no link: https://github.com/tkarras/progressive_growing_of_gans.\n",
    "\n",
    "Nesse trabalho iremos utilizar somente 1.800 imagens com dimensão reduzida para 64 por 64. Essa redução no número e na dimensão das imagens é feita somente para podermos realizar o treinamento da RNA em um tempo razoável.\n",
    "\n",
    "As figuras abaixo mostram dois exemplos do conjunto de dados.\n",
    "\n",
    "<img src=\"faces1.png\">\n",
    "\n",
    "<img src=\"faces2.png\">\n"
   ]
  },
  {
   "cell_type": "markdown",
   "metadata": {
    "colab_type": "text",
    "id": "S7gTbuZmXqcr"
   },
   "source": [
    "## 2 - Dados de treinamento\n",
    "\n",
    "As imagens que iremos utilizar nesse trabalho já foram processadas de forma a criar o par de imagens de entrada e saída. As imagens estão no arquivo data64.h5.\n",
    "\n",
    "Características dos dados:\n",
    "\n",
    "- As imagens são coloridas e estão no padrão RGB;\n",
    "- Cada imagem de entrada e de saída tem dimensão de 64x64x3;\n",
    "- As imagens já foram normalizadas, então, o valor da intensidade luminosa de cada pixels é um número real entre 0 e 1;\n",
    "- As imagens de entrada consistem em rostos de celebridades com a máscara preta cobrindo o nariz;\n",
    "- As imagens de saída consistem nos rostos das celebridades.\n",
    "\n",
    "\n",
    "### 2.1 - Leitura dos dados\n",
    "\n",
    "Para iniciar o trabalho é necessário ler o arquivo de dados. Assim, execute o código da célula abaixo para ler o arquivo de dados.\n",
    "\n",
    "**Importante:**\n",
    "Para obter o arquivo de dados você deve copiar o link abaixo no seu browser e dar o download. Após isso colocar o arquivo em algum diretório que possa ser usado.\n",
    "https://drive.google.com/open?id=1G5Ot0SaVhyoSg3sEpDtMwTCh_nLtFu7b"
   ]
  },
  {
   "cell_type": "code",
   "execution_count": 3,
   "metadata": {
    "colab": {},
    "colab_type": "code",
    "id": "eKoeKOq4Xqcs"
   },
   "outputs": [
    {
     "name": "stdout",
     "output_type": "stream",
     "text": [
      "Dimensão dos dados de treinamento (entrada/saída) = (1200, 64, 64, 3) (1200, 64, 64, 3)\n",
      "Dimensão dos dados de validação (entrada/saída) = (300, 64, 64, 3) (300, 64, 64, 3)\n",
      "Dimensão dos dados de teste (entrada/saída) =1 (300, 64, 64, 3) (300, 64, 64, 3)\n"
     ]
    }
   ],
   "source": [
    "# Abre arquivo de dados data64.h5\n",
    "hf = h5py.File('data64.h5','r')\n",
    "\n",
    "# Le imagens do arquivo. As imagens estão em um dicionário, sendo que os dados e entrada e saída estão separados, \n",
    "# assim como os dados de treinamento, validação e teste.\n",
    "x_train0 = np.array(hf.get('x_train'))\n",
    "y_train0 = np.array(hf.get('y_train'))\n",
    "x_val0 = np.array(hf.get('x_val'))\n",
    "y_val0 = np.array(hf.get('y_val'))\n",
    "x_test0 = np.array(hf.get('x_test'))\n",
    "y_test0 = np.array(hf.get('y_test'))\n",
    "\n",
    "x_train = x_train0[:1200]\n",
    "y_train = y_train0[:1200]\n",
    "x_val = x_val0[:300]\n",
    "y_val = y_val0[:300]\n",
    "x_test = x_test0[:300]\n",
    "y_test = y_test0[:300]\n",
    "\n",
    "img_size = x_train.shape[1:4]\n",
    "\n",
    "# Feche arquivo de dados\n",
    "hf.close()\n",
    "\n",
    "# Imprime dimensão dos conjuntos de dados\n",
    "print('Dimensão dos dados de treinamento (entrada/saída) =', x_train.shape, y_train.shape)\n",
    "print('Dimensão dos dados de validação (entrada/saída) =', x_val.shape, y_val.shape)               \n",
    "print('Dimensão dos dados de teste (entrada/saída) =1', x_test.shape, y_test.shape)"
   ]
  },
  {
   "cell_type": "markdown",
   "metadata": {
    "colab_type": "text",
    "id": "pOzVdHbkXqcw"
   },
   "source": [
    "Pela dimensão dos tensores com os dados de treinamento, validação e teste temos:\n",
    "\n",
    "- 1200 imagens de treinamento com dimensão de 64x64x3 pixels;\n",
    "- 300 imagens de validação com dimensão de 64x64x3 pixels;\n",
    "- 300 imagens de teste com dimensão de 64x64x3 pixels.\n"
   ]
  },
  {
   "cell_type": "markdown",
   "metadata": {
    "colab_type": "text",
    "id": "gYjJk_oEXqcx"
   },
   "source": [
    "Execute a célula a seguir para visualizar um exemplo do banco de dados. Altere o valor da variável 'index' e execute a célula novamente para visualizar mais exemplos diferentes."
   ]
  },
  {
   "cell_type": "code",
   "execution_count": 5,
   "metadata": {
    "colab": {},
    "colab_type": "code",
    "id": "-9szErBVXqcy"
   },
   "outputs": [
    {
     "data": {
      "image/png": "[encoded data removed]",
      "text/plain": [
       "<Figure size 576x576 with 2 Axes>"
      ]
     },
     "metadata": {
      "needs_background": "light"
     },
     "output_type": "display_data"
    }
   ],
   "source": [
    "# Mostra exemplo de imagem de entrada e saída\n",
    "\n",
    "# Trocar o valor de index para mostrar outras imagens\n",
    "index = 300\n",
    "f, pos = plt.subplots(1, 2, figsize=(8, 8))\n",
    "pos[0].imshow(x_train[index])\n",
    "pos[0].set_title('Imagem de entrada')\n",
    "pos[1].imshow(y_train[index])\n",
    "pos[1].set_title('Imagem de saída')\n",
    "plt.show()\n"
   ]
  },
  {
   "cell_type": "markdown",
   "metadata": {
    "colab_type": "text",
    "id": "QV8bEVBkXqc1"
   },
   "source": [
    "## 3 - RNA convolucional\n",
    "\n",
    "Nesse trabalho você irá usar uma RNA convolucional residual conforme visto em aula. Então a primeira etapa é criar um bloco reasidual para depois unir vários blocos em uma RNA.\n",
    "\n",
    "**Importante:** a saída dessa RNA é uma imagem com a mesma dimensão da imagem de entrada, assim, a dimensão da imagem original deve ser preservada em todas as camadas convolucionais."
   ]
  },
  {
   "cell_type": "markdown",
   "metadata": {
    "colab_type": "text",
    "id": "P_jEFJCDRZKP"
   },
   "source": [
    "### Exercício #1: Criar uma função que define um bloco residual\n",
    "\n",
    "Na célula abaixo crie um bloco residual exatamente igual ao visto em aula. Não se esqueca de incluir a opção `padding='same'` nas camadas convolucionais que as saídas tenham a mesma dimensão."
   ]
  },
  {
   "cell_type": "code",
   "execution_count": 6,
   "metadata": {
    "colab": {},
    "colab_type": "code",
    "id": "Xz5DcDU_M_LV"
   },
   "outputs": [],
   "source": [
    "# PARA VOCÊ FAZER: Função bloco_residual\n",
    "\n",
    "from tensorflow.keras import layers\n",
    "\n",
    "def bloco_residual(X, n, dim):\n",
    "    \"\"\"`\n",
    "    Entradas: \n",
    "        X = tensor de entrada \n",
    "        n = número de filtros\n",
    "        dim = dimensão dos filtros\n",
    "    \n",
    "    Saída:\n",
    "        A2 -> tensor de saída\n",
    "    \"\"\"\n",
    "    \n",
    "    # Configuraçao do bloco\n",
    "    # Inclua o seu código aqui\n",
    "    #\n",
    "    A1 = layers.Conv2D(n, (dim, dim), strides=1, padding='same', activation='relu')(X)\n",
    "    Z2 = layers.Conv2D(n, (dim, dim), strides=1, padding='same', activation='linear')(A1)\n",
    "    \n",
    "    ZX = layers.Add()([Z2, X])\n",
    "    A2 = layers.Activation('relu')(ZX)\n",
    "    \n",
    "    # Retorna saída\n",
    "    return A2"
   ]
  },
  {
   "cell_type": "markdown",
   "metadata": {
    "colab_type": "text",
    "id": "ParIi691RZKY"
   },
   "source": [
    "### Exercício #2: Criar uma RNA com blocos residuais\n",
    "\n",
    "Na célula abaixo crie uma RNA com 6 blocos residuais. Use o bloco residual definido na função `bloco_residual` criada no exercício #1. Note que antes de um bloco residual pode ser necessária uma camada convolucional para ajustar a dimensão dos tensores para não ter problema na hora de realizar a soma dentro do bloco residual.\n",
    "\n",
    "As configuração dessa rede é a seguinte:\n",
    "\n",
    "- Camada de entrada que recebe as imagens de dimensão 64x64x3\n",
    "- Camada convolucional: 128 filtros de dimensão 5x5, ativação relu\n",
    "- 1o bloco residual: 128 filtros de dimensão 5x5\n",
    "- Camada convolucional: 256 filtros de dimensão 5x5, ativação relu\n",
    "- 2o e 3o blocos residuais: 256 filtros de dimensão 5x5\n",
    "- Camada convolucional: 128 filtros de dimensão 5x5, ativação relu\n",
    "- 4o e 5o blocos residuais: 128 filtros de dimensão 5x5\n",
    "- Camada convolucional: 64 filtros de dimensão 5x5, ativação relu\n",
    "- 6o bloco residual: 64 filtros de dimensão 5x5\n",
    "- Camada convolucional: 3 filtros de dimensão 5x5, ativação linear\n",
    "\n",
    "Observe que todas as camadas convoluciionais devem ser com `padding='same'`. "
   ]
  },
  {
   "cell_type": "code",
   "execution_count": 39,
   "metadata": {
    "colab": {},
    "colab_type": "code",
    "id": "h0-k5qW7M_LY"
   },
   "outputs": [
    {
     "name": "stdout",
     "output_type": "stream",
     "text": [
      "Model: \"functional_3\"\n",
      "__________________________________________________________________________________________________\n",
      "Layer (type)                    Output Shape         Param #     Connected to                     \n",
      "==================================================================================================\n",
      "input_2 (InputLayer)            [(None, 64, 64, 3)]  0                                            \n",
      "__________________________________________________________________________________________________\n",
      "conv2d_17 (Conv2D)              (None, 64, 64, 128)  9728        input_2[0][0]                    \n",
      "__________________________________________________________________________________________________\n",
      "conv2d_18 (Conv2D)              (None, 64, 64, 128)  409728      conv2d_17[0][0]                  \n",
      "__________________________________________________________________________________________________\n",
      "conv2d_19 (Conv2D)              (None, 64, 64, 128)  409728      conv2d_18[0][0]                  \n",
      "__________________________________________________________________________________________________\n",
      "add_6 (Add)                     (None, 64, 64, 128)  0           conv2d_19[0][0]                  \n",
      "                                                                 conv2d_17[0][0]                  \n",
      "__________________________________________________________________________________________________\n",
      "activation_6 (Activation)       (None, 64, 64, 128)  0           add_6[0][0]                      \n",
      "__________________________________________________________________________________________________\n",
      "conv2d_20 (Conv2D)              (None, 64, 64, 256)  819456      activation_6[0][0]               \n",
      "__________________________________________________________________________________________________\n",
      "conv2d_21 (Conv2D)              (None, 64, 64, 256)  1638656     conv2d_20[0][0]                  \n",
      "__________________________________________________________________________________________________\n",
      "conv2d_22 (Conv2D)              (None, 64, 64, 256)  1638656     conv2d_21[0][0]                  \n",
      "__________________________________________________________________________________________________\n",
      "add_7 (Add)                     (None, 64, 64, 256)  0           conv2d_22[0][0]                  \n",
      "                                                                 conv2d_20[0][0]                  \n",
      "__________________________________________________________________________________________________\n",
      "activation_7 (Activation)       (None, 64, 64, 256)  0           add_7[0][0]                      \n",
      "__________________________________________________________________________________________________\n",
      "conv2d_23 (Conv2D)              (None, 64, 64, 256)  1638656     activation_7[0][0]               \n",
      "__________________________________________________________________________________________________\n",
      "conv2d_24 (Conv2D)              (None, 64, 64, 256)  1638656     conv2d_23[0][0]                  \n",
      "__________________________________________________________________________________________________\n",
      "add_8 (Add)                     (None, 64, 64, 256)  0           conv2d_24[0][0]                  \n",
      "                                                                 activation_7[0][0]               \n",
      "__________________________________________________________________________________________________\n",
      "activation_8 (Activation)       (None, 64, 64, 256)  0           add_8[0][0]                      \n",
      "__________________________________________________________________________________________________\n",
      "conv2d_25 (Conv2D)              (None, 64, 64, 128)  819328      activation_8[0][0]               \n",
      "__________________________________________________________________________________________________\n",
      "conv2d_26 (Conv2D)              (None, 64, 64, 128)  409728      conv2d_25[0][0]                  \n",
      "__________________________________________________________________________________________________\n",
      "conv2d_27 (Conv2D)              (None, 64, 64, 128)  409728      conv2d_26[0][0]                  \n",
      "__________________________________________________________________________________________________\n",
      "add_9 (Add)                     (None, 64, 64, 128)  0           conv2d_27[0][0]                  \n",
      "                                                                 conv2d_25[0][0]                  \n",
      "__________________________________________________________________________________________________\n",
      "activation_9 (Activation)       (None, 64, 64, 128)  0           add_9[0][0]                      \n",
      "__________________________________________________________________________________________________\n",
      "conv2d_28 (Conv2D)              (None, 64, 64, 128)  409728      activation_9[0][0]               \n",
      "__________________________________________________________________________________________________\n",
      "conv2d_29 (Conv2D)              (None, 64, 64, 128)  409728      conv2d_28[0][0]                  \n",
      "__________________________________________________________________________________________________\n",
      "add_10 (Add)                    (None, 64, 64, 128)  0           conv2d_29[0][0]                  \n",
      "                                                                 activation_9[0][0]               \n",
      "__________________________________________________________________________________________________\n",
      "activation_10 (Activation)      (None, 64, 64, 128)  0           add_10[0][0]                     \n",
      "__________________________________________________________________________________________________\n",
      "conv2d_30 (Conv2D)              (None, 64, 64, 64)   204864      activation_10[0][0]              \n",
      "__________________________________________________________________________________________________\n",
      "conv2d_31 (Conv2D)              (None, 64, 64, 64)   102464      conv2d_30[0][0]                  \n",
      "__________________________________________________________________________________________________\n",
      "conv2d_32 (Conv2D)              (None, 64, 64, 64)   102464      conv2d_31[0][0]                  \n",
      "__________________________________________________________________________________________________\n",
      "add_11 (Add)                    (None, 64, 64, 64)   0           conv2d_32[0][0]                  \n",
      "                                                                 conv2d_30[0][0]                  \n",
      "__________________________________________________________________________________________________\n",
      "activation_11 (Activation)      (None, 64, 64, 64)   0           add_11[0][0]                     \n",
      "__________________________________________________________________________________________________\n",
      "conv2d_33 (Conv2D)              (None, 64, 64, 3)    4803        activation_11[0][0]              \n",
      "==================================================================================================\n",
      "Total params: 11,076,099\n",
      "Trainable params: 11,076,099\n",
      "Non-trainable params: 0\n",
      "__________________________________________________________________________________________________\n"
     ]
    }
   ],
   "source": [
    "# PARA VOCÊ FAZER: Rede residual\n",
    "\n",
    "from tensorflow.keras import Input\n",
    "from tensorflow.keras.models import Model\n",
    "from tensorflow.keras.layers import Conv2D\n",
    "from tensorflow.keras.utils import plot_model\n",
    "\n",
    "# Definição da dimensão da entrada e da camada de entrada (use camada tipo Input)\n",
    "# Inclua seu código aqui   \n",
    "#\n",
    "input_shape = (64, 64, 3)\n",
    "X0 = Input(input_shape)\n",
    "# Inclua seu código aqui     \n",
    "# Camada convolucional para ajustar número de canais para poder ser somada dentro do bloco residual\n",
    "#\n",
    "X1 = Conv2D(128, (5, 5), strides=1, activation='relu', padding='same')(X0)\n",
    "# Primeiro bloco residual com 128 filtros\n",
    "# \n",
    "X2 = bloco_residual(X1, 128, 5)\n",
    "# Camada convolucional para ajustar número de canais para poder ser somada dentro do bloco residual\n",
    "# \n",
    "X3 = Conv2D(256, (5,5), strides=1, activation='relu', padding='same')(X2)\n",
    "# Segundo bloco residual com 256 filtros\n",
    "# \n",
    "X4 = bloco_residual(X3, 256, 5)\n",
    "# Terceiro bloco residual com 256 filtros\n",
    "# \n",
    "X5 = bloco_residual(X4, 256, 5)\n",
    "# Camada convolucional para ajustar número de canais para poder ser somada dentro do bloco residual\n",
    "# \n",
    "X6 = Conv2D(128, (5,5), strides=1, activation='relu', padding='same')(X5)\n",
    "# Quarto bloco residual com 128 filtros\n",
    "#\n",
    "X7 = bloco_residual(X6, 128, 5)\n",
    "# Quinto bloco residual com 128 filtros\n",
    "# \n",
    "X8 = bloco_residual(X7, 128, 5)\n",
    "# Camada convolucional para ajustar número de canais para poder ser somada dentro do bloco residual\n",
    "#\n",
    "X9 = Conv2D(64, (5,5), strides=1, activation='relu', padding='same')(X8)\n",
    "# Sexto bloco residual com 64 filtros\n",
    "# \n",
    "X10 = bloco_residual(X9, 64, 5)\n",
    "# Camada convolutional para acertar profundidade da imagem resultante no padrão RGB\n",
    "# \n",
    "X11 = Conv2D(3, (5,5), strides=1, activation='linear', padding='same')(X10)\n",
    "\n",
    "# Criação da RNA\n",
    "# Inclua seu código aqui \n",
    "#\n",
    "rna = Model(X0, X11)\n",
    "# Mostra resumo da RNA\n",
    "rna.summary()\n",
    "\n",
    "# Se quiser visualizar o gráfico da rede criada tire o comentário da linha de baixo. Esse comando cria um gráfico \n",
    "# da rede e salva no arquivo rna.png\n",
    "#plot_model(rna, to_file='rna.png', show_shapes=True)    \n"
   ]
  },
  {
   "cell_type": "markdown",
   "metadata": {
    "colab_type": "text",
    "id": "d3Sd0YcnRZKi"
   },
   "source": [
    "**Saída esperada:** \n",
    "\n",
    "    Model: \"model\"\n",
    "    __________________________________________________________________________________________________\n",
    "    Layer (type)                    Output Shape         Param #     Connected to                     \n",
    "    ==================================================================================================\n",
    "    input_1 (InputLayer)            [(None, 64, 64, 3)]  0                                            \n",
    "    __________________________________________________________________________________________________\n",
    "    conv2d (Conv2D)                 (None, 64, 64, 128)  9728        input_1[0][0]                    \n",
    "    __________________________________________________________________________________________________\n",
    "    conv2d_1 (Conv2D)               (None, 64, 64, 128)  409728      conv2d[0][0]                     \n",
    "    __________________________________________________________________________________________________\n",
    "    conv2d_2 (Conv2D)               (None, 64, 64, 128)  409728      conv2d_1[0][0]                   \n",
    "    __________________________________________________________________________________________________\n",
    "    add (Add)                       (None, 64, 64, 128)  0           conv2d_2[0][0]                   \n",
    "                                                                     conv2d[0][0]                     \n",
    "    __________________________________________________________________________________________________\n",
    "    activation (Activation)         (None, 64, 64, 128)  0           add[0][0]                        \n",
    "    __________________________________________________________________________________________________\n",
    "    conv2d_3 (Conv2D)               (None, 64, 64, 256)  819456      activation[0][0]                 \n",
    "    __________________________________________________________________________________________________\n",
    "    conv2d_4 (Conv2D)               (None, 64, 64, 256)  1638656     conv2d_3[0][0]                   \n",
    "    __________________________________________________________________________________________________\n",
    "    conv2d_5 (Conv2D)               (None, 64, 64, 256)  1638656     conv2d_4[0][0]                   \n",
    "    __________________________________________________________________________________________________\n",
    "    add_1 (Add)                     (None, 64, 64, 256)  0           conv2d_5[0][0]                   \n",
    "                                                                 conv2d_3[0][0]                   \n",
    "    __________________________________________________________________________________________________\n",
    "    activation_1 (Activation)       (None, 64, 64, 256)  0           add_1[0][0]                      \n",
    "    __________________________________________________________________________________________________\n",
    "    conv2d_6 (Conv2D)               (None, 64, 64, 256)  1638656     activation_1[0][0]               \n",
    "    __________________________________________________________________________________________________\n",
    "    conv2d_7 (Conv2D)               (None, 64, 64, 256)  1638656     conv2d_6[0][0]                   \n",
    "    __________________________________________________________________________________________________\n",
    "    add_2 (Add)                     (None, 64, 64, 256)  0           conv2d_7[0][0]                   \n",
    "                                                                     activation_1[0][0]               \n",
    "    __________________________________________________________________________________________________\n",
    "    activation_2 (Activation)       (None, 64, 64, 256)  0           add_2[0][0]                      \n",
    "    __________________________________________________________________________________________________\n",
    "    conv2d_8 (Conv2D)               (None, 64, 64, 128)  819328      activation_2[0][0]               \n",
    "    __________________________________________________________________________________________________\n",
    "    conv2d_9 (Conv2D)               (None, 64, 64, 128)  409728      conv2d_8[0][0]                   \n",
    "    __________________________________________________________________________________________________\n",
    "    conv2d_10 (Conv2D)              (None, 64, 64, 128)  409728      conv2d_9[0][0]                   \n",
    "    __________________________________________________________________________________________________\n",
    "    add_3 (Add)                     (None, 64, 64, 128)  0           conv2d_10[0][0]                  \n",
    "                                                                     conv2d_8[0][0]                   \n",
    "    __________________________________________________________________________________________________\n",
    "    activation_3 (Activation)       (None, 64, 64, 128)  0           add_3[0][0]                      \n",
    "    __________________________________________________________________________________________________\n",
    "    conv2d_11 (Conv2D)              (None, 64, 64, 128)  409728      activation_3[0][0]               \n",
    "    __________________________________________________________________________________________________\n",
    "    conv2d_12 (Conv2D)              (None, 64, 64, 128)  409728      conv2d_11[0][0]                  \n",
    "    __________________________________________________________________________________________________\n",
    "    add_4 (Add)                     (None, 64, 64, 128)  0           conv2d_12[0][0]                  \n",
    "                                                                     activation_3[0][0]               \n",
    "    __________________________________________________________________________________________________\n",
    "    activation_4 (Activation)       (None, 64, 64, 128)  0           add_4[0][0]                      \n",
    "    __________________________________________________________________________________________________\n",
    "    conv2d_13 (Conv2D)              (None, 64, 64, 64)   204864      activation_4[0][0]               \n",
    "    __________________________________________________________________________________________________\n",
    "    conv2d_14 (Conv2D)              (None, 64, 64, 64)   102464      conv2d_13[0][0]                  \n",
    "    __________________________________________________________________________________________________\n",
    "    conv2d_15 (Conv2D)              (None, 64, 64, 64)   102464      conv2d_14[0][0]                  \n",
    "    __________________________________________________________________________________________________\n",
    "    add_5 (Add)                     (None, 64, 64, 64)   0           conv2d_15[0][0]                  \n",
    "                                                                     conv2d_13[0][0]                  \n",
    "    __________________________________________________________________________________________________\n",
    "    activation_5 (Activation)       (None, 64, 64, 64)   0           add_5[0][0]                      \n",
    "    __________________________________________________________________________________________________\n",
    "    conv2d_16 (Conv2D)              (None, 64, 64, 3)    4803        activation_5[0][0]               \n",
    "    ==================================================================================================\n",
    "    Total params: 11,076,099\n",
    "    Trainable params: 11,076,099\n",
    "    Non-trainable params: 0\n",
    "    __________________________________________________________________________________________________"
   ]
  },
  {
   "cell_type": "markdown",
   "metadata": {
    "colab_type": "text",
    "id": "90a_i7NPXqc9"
   },
   "source": [
    "## 4 - Função de custo e métrica\n"
   ]
  },
  {
   "cell_type": "markdown",
   "metadata": {
    "colab_type": "text",
    "id": "3qYAAhbJRZKk"
   },
   "source": [
    "### Máscara\n",
    "\n",
    "Para implementar essa função de custo é necessário usar uma imagem com a máscara. Essa máscara está no arquivo mask512.h5 e tem dimensão 512x512x3. Execute a célula abaixo para visualizar a máscara utilizada, já redimensionada para 64x64x3 pixels."
   ]
  },
  {
   "cell_type": "code",
   "execution_count": 42,
   "metadata": {
    "colab": {},
    "colab_type": "code",
    "id": "-OIBjgyFXqc-"
   },
   "outputs": [
    {
     "name": "stderr",
     "output_type": "stream",
     "text": [
      "Clipping input data to the valid range for imshow with RGB data ([0..1] for floats or [0..255] for integers).\n"
     ]
    },
    {
     "data": {
      "image/png": "[encoded data removed]",
      "text/plain": [
       "<Figure size 432x288 with 1 Axes>"
      ]
     },
     "metadata": {
      "needs_background": "light"
     },
     "output_type": "display_data"
    }
   ],
   "source": [
    "mask0 = imread('mask512.jpg')\n",
    "mask0 = np.array(mask0)\n",
    "mask = resize(mask0, (64, 64, 3), preserve_range=True)\n",
    "plt.imshow(mask)\n",
    "plt.show()"
   ]
  },
  {
   "cell_type": "markdown",
   "metadata": {
    "colab_type": "text",
    "id": "l3dPAXUKRZKq"
   },
   "source": [
    "### Função de custo\n",
    "\n",
    "Como a RNA processa toda a imagem e não somente a região escondida pela máscara que se deseja reconstruir, então, a função de custo deve diferenciar a reconstrução da parte que contém a máscara (o triângulo que omite o nariz) das outras regiões da imagem. Para isso usa-se uma função de custo desenvolvida por Liu et al. (2018) na qual são  atribuídos pesos maiores para os pixels internos à máscara e pesos menores para os pixels fora da máscara. A função de custo $L_{total}$ é definida por:\n",
    "\n",
    "$$L_{total} = L_{valid} + 10L_{hole}$$\n",
    "\n",
    "onde,\n",
    "\n",
    "$$L_{hole} = \\frac {1}{N} \\sum_{i=1}^{N}(1 - m_i)|y_{orig(i)} - y_{prev(i)}|$$\n",
    "\n",
    "$$L_{valid} = \\frac {1}{N} \\sum_{i=1}^{N}(m_i)|y_{orig(i)} - y_{prev(i)}|$$\n",
    " \n",
    "onde $m_i$ é o valor do pixel $i$ da máscara, $y_{orig(i)}$ é o valor do pixel $i$ da imagem original sem a máscara, $y_{prev(i)}$ é o valor do pixel $i$ da imagem reconstruída pela rede e $N$ é o número total de pixels das imagens, que no caso é 64*64*3.\n",
    "\n",
    "Nota-se que na função $L_{hole}$ são considerados somente os pixels que estão dentro da região da máscara e na função $L_{valid}$ são considerados os pixels externos à máscara. Os pesos atribuídos para $L_{valid}$ e $L_{hole}$ na função de custo total $L_{total}$ foram determinados por meio de uma processo de otimização usando 100 imagens.\n",
    "\n",
    "**Referência:**\n",
    "Liu ewt al., Image Inpainting for Irregular Holes Using. Computer Vision Foundation.Liu, et al., 2018. (http://openaccess.thecvf.com/content_ECCV_2018/html/Guilin_Liu_Image_Inpainting_for_ECCV_2018_paper.html)"
   ]
  },
  {
   "cell_type": "markdown",
   "metadata": {
    "colab_type": "text",
    "id": "iI1PtbQqRZKr"
   },
   "source": [
    "Execute a célula abaixo para definir as funções $L_{hole}$ e $L_{valid}$ para serem usadas na função de custo $L_{total}$.\n"
   ]
  },
  {
   "cell_type": "code",
   "execution_count": 43,
   "metadata": {
    "colab": {},
    "colab_type": "code",
    "id": "NV8mfGkCXqdC"
   },
   "outputs": [],
   "source": [
    "# Função L1, usadas pelas funções L_hole e L_ valid para calcula o erro absoluto médio de dois tensores.\n",
    "\n",
    "import tensorflow.keras.backend as K\n",
    "\n",
    "def l1(y_true, y_pred):\n",
    "    \"\"\"Calculate the L1 loss used in loss calculations\"\"\"\n",
    "    return K.mean(K.abs(y_pred - y_true))\n",
    " \n",
    "# Função L_hole\n",
    "def loss_hole(mask, y_true, y_pred):\n",
    "    \"\"\"Pixel L1 loss within the mask\"\"\"\n",
    "    return l1((1-mask) * y_true, (1-mask) * y_pred)\n",
    "    \n",
    "# Função L_valid    \n",
    "def loss_valid(mask, y_true, y_pred):\n",
    "    \"\"\"Pixel L1 loss outside the mask\"\"\"\n",
    "    return l1(mask * y_true, mask * y_pred)"
   ]
  },
  {
   "cell_type": "markdown",
   "metadata": {
    "colab_type": "text",
    "id": "9YCD-AB5RZK0"
   },
   "source": [
    "### Exercício #3: Função de custo \n",
    "\n",
    "Usando as funções $L_{valid}$ e $L_{hole}$ complete a célula abaixo para implementar a função de custo $L{total}$ conforme as equações definidas acima.\n"
   ]
  },
  {
   "cell_type": "code",
   "execution_count": 44,
   "metadata": {
    "colab": {},
    "colab_type": "code",
    "id": "6EDvhncZXqdF"
   },
   "outputs": [],
   "source": [
    "# PARA VOCÊ FAZER: Função de custo L_total\n",
    "\n",
    "def L_total(y_true, y_pred):\n",
    "    \"\"\"\n",
    "    Entradas:\n",
    "        y_true = saída desejada \n",
    "        y_pred = saída calculada pela rede\n",
    "        \n",
    "    Retorna:\n",
    "        Função de custo Ltotal\n",
    "    \"\"\"         \n",
    "    \n",
    "    # ler máscara e redimensiona para 64x64\n",
    "    # Inclua seu código aqui \n",
    "    #\n",
    "    Ltotal = loss_valid(mask, y_true, y_pred) + 10*loss_hole(mask, y_true, y_pred)\n",
    "    # Calcula componentes da função de custo e depois a função de custo total\n",
    "    # (use as funções definidas na célula de código anterior)\n",
    "    #\n",
    "    \n",
    "    # Retorna função de custo\n",
    "    return Ltotal"
   ]
  },
  {
   "cell_type": "markdown",
   "metadata": {
    "colab_type": "text",
    "id": "7lkSI0qHRZK6"
   },
   "source": [
    "Execute a célula abaixo para testar a sua função de custo $L_{total}$."
   ]
  },
  {
   "cell_type": "code",
   "execution_count": 45,
   "metadata": {
    "colab": {},
    "colab_type": "code",
    "id": "RrlP5DFhRZK7"
   },
   "outputs": [
    {
     "name": "stdout",
     "output_type": "stream",
     "text": [
      "L_total =  0.22633830550449346\n"
     ]
    }
   ],
   "source": [
    "# Define imagem de teste\n",
    "index = 0\n",
    "\n",
    "# Expande número de eixos para incluir 1o eixo dos exemplos\n",
    "yorig = np.expand_dims(y_train[index], axis=0)\n",
    "yprev = np.expand_dims(x_train[index], axis=0)\n",
    "\n",
    "# Calcula função de custo\n",
    "loss = L_total(yorig, yprev)\n",
    "\n",
    "# Abre sessão do TensorFlow para excutar a função L_total\n",
    "print('L_total = ', format(loss))"
   ]
  },
  {
   "cell_type": "markdown",
   "metadata": {
    "colab_type": "text",
    "id": "OFvPzZk0RZLB"
   },
   "source": [
    "**Saída esperada:**\n",
    "\n",
    "    L_total = 0.22633828"
   ]
  },
  {
   "cell_type": "markdown",
   "metadata": {
    "colab_type": "text",
    "id": "Rljhwc6dRZLD"
   },
   "source": [
    "### Métrica\n",
    "\n",
    "A métrica adequada para esse problema é a relação sinal ruído, geralmente abreviada por PSNR, ver https://en.wikipedia.org/wiki/Peak_signal-to-noise_ratio. A PSNR define a relação entre o valor máximo de um sinal e o ruído presente no sinal, que afeta a sua fidelidade. \n",
    "\n",
    "PSNR é definida em termos da base logaritmica de decibel, sendo mais fácilmente entendida usando o erro quadrático médio (MSE), dado pela seguinte equação: \n",
    "\n",
    "$$MSE = \\frac {1}{N} \\sum_{i=1}^{N}[y_{orig(i)} - y_{prev(i)}]^{2}$$\n",
    "\n",
    "onde $y_{orig(i)}$ é o valor do pixel $i$ da imagem original, $y_{prev(i)}$ é o valor do pixel $i$ da imagem gerada pela rede e $N$ é o número total de pixels das imagens. Assim, o $MSE$ representa a média do erro quadrático entre os valores dos pixels das imagens original e gerada pela rede.\n",
    "\n",
    "Tendo o $MSE$ a $PSNR$ é definida por:\n",
    "\n",
    "$$PSNR = 10 .log_{10}({\\frac {max^2}{MSE}}) = 20 .log_{10}(max) - 10 .log_{10}(MSE)$$\n",
    "\n",
    "onde $max$ é o valor máximo que um pixel das imagens pode assumir. No caso as imagens estão normalizadas entre 0 e 1, ou seja, $max = 1$, mas como $log_{10}(1) = 0$, então, a equação acima é simplificada para:\n",
    "\n",
    "$$PSNR = -10.log_{10}(MSE)$$\n",
    "\n",
    "Note que se a imagem reconstruída for igual a imagem original, então, $PSNR = \\infty$, ou seja, quanto melhor for a imagem reconstruída maior o valor de PSNR."
   ]
  },
  {
   "cell_type": "markdown",
   "metadata": {
    "colab_type": "text",
    "id": "5HHAw99uRZLD"
   },
   "source": [
    "### Exercício #4: Métrica PSNR \n",
    "\n",
    "A métrica PSNR não está disponível no Keras então temos que implementá-la. Assim, na célula abaixo crie a função que calcula essa métrica de acordo com a equação definida acima. Observe que uma métrica do Keras deve receber como parâmetros a saída desejada e a saída calculada pela rede. Para implementar facilmente essa métrica você pode usar as funções `square`, `mean` e `log` da classe backend do Keras. \n",
    "\n",
    "Observe que a função `log` do keras calcula o logaritmo na base $e$, assim, para calcular o logaritmo de um número $x$ na base 10, deve-se fazer a mudança de base usando a seguinte equação:\n",
    "\n",
    "$$log_{10}(x) = \\frac {log_e(x)} {log_e(10)}$$\n",
    "\n",
    "**Observação:**\n",
    "\n",
    "Note que o TensorFlow-Keras Backend foi importado como K. Isso significa que para usar as funções do Keras é necessário escrever `K.function(...)`."
   ]
  },
  {
   "cell_type": "code",
   "execution_count": 46,
   "metadata": {
    "colab": {},
    "colab_type": "code",
    "id": "eDUaxNQSXqdH"
   },
   "outputs": [],
   "source": [
    "# PARA VOCÊ FAZER: Função da métrica PSNR\n",
    "\n",
    "def PSNR(y_true, y_pred):\n",
    "    \"\"\"\n",
    "    Entradas:\n",
    "        y_true = saída desejada \n",
    "        y_pred = saída calculada pela rede\n",
    "        \n",
    "    Retorna:\n",
    "        psrn\n",
    "    \"\"\"        \n",
    "    # Define uma constante igual a 10.0 do mesmo tipo dos tensores de entrada para poder calcular log(10)\n",
    "    tipo = y_true.dtype\n",
    "    dez = tf.constant(10.0, dtype=tipo) \n",
    "    # Cálculo de mse e psnr\n",
    "    # Inclua seu código aqui \n",
    "    #\n",
    "    mse = K.mean(K.square(y_pred - y_true))\n",
    "    log_mse = K.log(mse)\n",
    "    psnr = - dez * log_mse/K.log(dez)\n",
    "    return psnr"
   ]
  },
  {
   "cell_type": "markdown",
   "metadata": {
    "colab_type": "text",
    "id": "-_lRA56yRZLK"
   },
   "source": [
    "Execute a célula abaixo para testar a sua função PSNR."
   ]
  },
  {
   "cell_type": "code",
   "execution_count": 47,
   "metadata": {
    "colab": {},
    "colab_type": "code",
    "id": "c084v7-MRZLL"
   },
   "outputs": [
    {
     "name": "stdout",
     "output_type": "stream",
     "text": [
      "PSNR =  18.41677174785432\n"
     ]
    }
   ],
   "source": [
    "import tensorflow as tf\n",
    "\n",
    "# Define imagens\n",
    "index = 0\n",
    "\n",
    "# Expande eixos (1o eixo dos exemplos)\n",
    "yorig = np.expand_dims(y_train[index], axis=0)\n",
    "yprev = np.expand_dims(x_train[index], axis=0)\n",
    "\n",
    "# Calcula PSNR\n",
    "psnr = PSNR(yorig, yprev)\n",
    "\n",
    "# Abre sessão do TensorFlow para excutar a função PSNR\n",
    "print('PSNR = ', format(psnr))"
   ]
  },
  {
   "cell_type": "markdown",
   "metadata": {
    "colab_type": "text",
    "id": "rNY-eVFURZLR"
   },
   "source": [
    "**Saída esperada:**\n",
    "\n",
    "    PSNR = 18.41677\n",
    "    \n",
    "Veja o que acontece com o resultado da métrica PSNR se no lugar de `x_train[index]` você usar `y_train[index]`.    "
   ]
  },
  {
   "cell_type": "markdown",
   "metadata": {
    "colab_type": "text",
    "id": "LgySUQ3KXqdK"
   },
   "source": [
    "## 5 - Compilação e treinamento da RNA\n",
    "\n",
    "### Exercício #5: Compilação e treinamento da RNA\n",
    "\n",
    "Agora você vai treinar a sua RNA usando o método de otimização ADAM. Assim, na célula abaixo, compile e treine a sua RNA usando os seguinte hiperparâmetros:\n",
    "\n",
    "- taxa de aprendizado = 0,001;\n",
    "- função de custo: L_total\n",
    "- métrica: PSNR\n",
    "- número de épocas = 50\n",
    "\n",
    "Essa operação deve demorar pleo menos 20 minutos."
   ]
  },
  {
   "cell_type": "code",
   "execution_count": 48,
   "metadata": {
    "colab": {},
    "colab_type": "code",
    "id": "O18wQQhDXqdK"
   },
   "outputs": [
    {
     "name": "stdout",
     "output_type": "stream",
     "text": [
      "Epoch 1/50\n",
      "1200/1200 [==============================] - ETA: 0s - loss: 28509.9395 - PSNR: 20.6769 "
     ]
    },
    {
     "ename": "KeyboardInterrupt",
     "evalue": "",
     "output_type": "error",
     "traceback": [
      "\u001b[0;31m---------------------------------------------------------------------------\u001b[0m",
      "\u001b[0;31mKeyboardInterrupt\u001b[0m                         Traceback (most recent call last)",
      "\u001b[0;32m<ipython-input-48-fec1da4d658b>\u001b[0m in \u001b[0;36m<module>\u001b[0;34m\u001b[0m\n\u001b[1;32m     13\u001b[0m \u001b[0;31m# Inclua seu código aqui\u001b[0m\u001b[0;34m\u001b[0m\u001b[0;34m\u001b[0m\u001b[0;34m\u001b[0m\u001b[0m\n\u001b[1;32m     14\u001b[0m \u001b[0;31m#\u001b[0m\u001b[0;34m\u001b[0m\u001b[0;34m\u001b[0m\u001b[0;34m\u001b[0m\u001b[0m\n\u001b[0;32m---> 15\u001b[0;31m \u001b[0mhistory\u001b[0m \u001b[0;34m=\u001b[0m \u001b[0mrna\u001b[0m\u001b[0;34m.\u001b[0m\u001b[0mfit\u001b[0m\u001b[0;34m(\u001b[0m\u001b[0mx_train\u001b[0m\u001b[0;34m,\u001b[0m \u001b[0my_train\u001b[0m\u001b[0;34m,\u001b[0m \u001b[0mepochs\u001b[0m\u001b[0;34m=\u001b[0m\u001b[0;36m50\u001b[0m\u001b[0;34m,\u001b[0m \u001b[0mbatch_size\u001b[0m\u001b[0;34m=\u001b[0m\u001b[0;36m1\u001b[0m\u001b[0;34m,\u001b[0m \u001b[0mvalidation_data\u001b[0m\u001b[0;34m=\u001b[0m\u001b[0;34m(\u001b[0m\u001b[0mx_val\u001b[0m\u001b[0;34m,\u001b[0m \u001b[0my_val\u001b[0m\u001b[0;34m)\u001b[0m\u001b[0;34m)\u001b[0m\u001b[0;34m\u001b[0m\u001b[0;34m\u001b[0m\u001b[0m\n\u001b[0m",
      "\u001b[0;32m~/.local/lib/python3.8/site-packages/tensorflow/python/keras/engine/training.py\u001b[0m in \u001b[0;36m_method_wrapper\u001b[0;34m(self, *args, **kwargs)\u001b[0m\n\u001b[1;32m    106\u001b[0m   \u001b[0;32mdef\u001b[0m \u001b[0m_method_wrapper\u001b[0m\u001b[0;34m(\u001b[0m\u001b[0mself\u001b[0m\u001b[0;34m,\u001b[0m \u001b[0;34m*\u001b[0m\u001b[0margs\u001b[0m\u001b[0;34m,\u001b[0m \u001b[0;34m**\u001b[0m\u001b[0mkwargs\u001b[0m\u001b[0;34m)\u001b[0m\u001b[0;34m:\u001b[0m\u001b[0;34m\u001b[0m\u001b[0;34m\u001b[0m\u001b[0m\n\u001b[1;32m    107\u001b[0m     \u001b[0;32mif\u001b[0m \u001b[0;32mnot\u001b[0m \u001b[0mself\u001b[0m\u001b[0;34m.\u001b[0m\u001b[0m_in_multi_worker_mode\u001b[0m\u001b[0;34m(\u001b[0m\u001b[0;34m)\u001b[0m\u001b[0;34m:\u001b[0m  \u001b[0;31m# pylint: disable=protected-access\u001b[0m\u001b[0;34m\u001b[0m\u001b[0;34m\u001b[0m\u001b[0m\n\u001b[0;32m--> 108\u001b[0;31m       \u001b[0;32mreturn\u001b[0m \u001b[0mmethod\u001b[0m\u001b[0;34m(\u001b[0m\u001b[0mself\u001b[0m\u001b[0;34m,\u001b[0m \u001b[0;34m*\u001b[0m\u001b[0margs\u001b[0m\u001b[0;34m,\u001b[0m \u001b[0;34m**\u001b[0m\u001b[0mkwargs\u001b[0m\u001b[0;34m)\u001b[0m\u001b[0;34m\u001b[0m\u001b[0;34m\u001b[0m\u001b[0m\n\u001b[0m\u001b[1;32m    109\u001b[0m \u001b[0;34m\u001b[0m\u001b[0m\n\u001b[1;32m    110\u001b[0m     \u001b[0;31m# Running inside `run_distribute_coordinator` already.\u001b[0m\u001b[0;34m\u001b[0m\u001b[0;34m\u001b[0m\u001b[0;34m\u001b[0m\u001b[0m\n",
      "\u001b[0;32m~/.local/lib/python3.8/site-packages/tensorflow/python/keras/engine/training.py\u001b[0m in \u001b[0;36mfit\u001b[0;34m(self, x, y, batch_size, epochs, verbose, callbacks, validation_split, validation_data, shuffle, class_weight, sample_weight, initial_epoch, steps_per_epoch, validation_steps, validation_batch_size, validation_freq, max_queue_size, workers, use_multiprocessing)\u001b[0m\n\u001b[1;32m   1121\u001b[0m                 \u001b[0mmodel\u001b[0m\u001b[0;34m=\u001b[0m\u001b[0mself\u001b[0m\u001b[0;34m,\u001b[0m\u001b[0;34m\u001b[0m\u001b[0;34m\u001b[0m\u001b[0m\n\u001b[1;32m   1122\u001b[0m                 steps_per_execution=self._steps_per_execution)\n\u001b[0;32m-> 1123\u001b[0;31m           val_logs = self.evaluate(\n\u001b[0m\u001b[1;32m   1124\u001b[0m               \u001b[0mx\u001b[0m\u001b[0;34m=\u001b[0m\u001b[0mval_x\u001b[0m\u001b[0;34m,\u001b[0m\u001b[0;34m\u001b[0m\u001b[0;34m\u001b[0m\u001b[0m\n\u001b[1;32m   1125\u001b[0m               \u001b[0my\u001b[0m\u001b[0;34m=\u001b[0m\u001b[0mval_y\u001b[0m\u001b[0;34m,\u001b[0m\u001b[0;34m\u001b[0m\u001b[0;34m\u001b[0m\u001b[0m\n",
      "\u001b[0;32m~/.local/lib/python3.8/site-packages/tensorflow/python/keras/engine/training.py\u001b[0m in \u001b[0;36m_method_wrapper\u001b[0;34m(self, *args, **kwargs)\u001b[0m\n\u001b[1;32m    106\u001b[0m   \u001b[0;32mdef\u001b[0m \u001b[0m_method_wrapper\u001b[0m\u001b[0;34m(\u001b[0m\u001b[0mself\u001b[0m\u001b[0;34m,\u001b[0m \u001b[0;34m*\u001b[0m\u001b[0margs\u001b[0m\u001b[0;34m,\u001b[0m \u001b[0;34m**\u001b[0m\u001b[0mkwargs\u001b[0m\u001b[0;34m)\u001b[0m\u001b[0;34m:\u001b[0m\u001b[0;34m\u001b[0m\u001b[0;34m\u001b[0m\u001b[0m\n\u001b[1;32m    107\u001b[0m     \u001b[0;32mif\u001b[0m \u001b[0;32mnot\u001b[0m \u001b[0mself\u001b[0m\u001b[0;34m.\u001b[0m\u001b[0m_in_multi_worker_mode\u001b[0m\u001b[0;34m(\u001b[0m\u001b[0;34m)\u001b[0m\u001b[0;34m:\u001b[0m  \u001b[0;31m# pylint: disable=protected-access\u001b[0m\u001b[0;34m\u001b[0m\u001b[0;34m\u001b[0m\u001b[0m\n\u001b[0;32m--> 108\u001b[0;31m       \u001b[0;32mreturn\u001b[0m \u001b[0mmethod\u001b[0m\u001b[0;34m(\u001b[0m\u001b[0mself\u001b[0m\u001b[0;34m,\u001b[0m \u001b[0;34m*\u001b[0m\u001b[0margs\u001b[0m\u001b[0;34m,\u001b[0m \u001b[0;34m**\u001b[0m\u001b[0mkwargs\u001b[0m\u001b[0;34m)\u001b[0m\u001b[0;34m\u001b[0m\u001b[0;34m\u001b[0m\u001b[0m\n\u001b[0m\u001b[1;32m    109\u001b[0m \u001b[0;34m\u001b[0m\u001b[0m\n\u001b[1;32m    110\u001b[0m     \u001b[0;31m# Running inside `run_distribute_coordinator` already.\u001b[0m\u001b[0;34m\u001b[0m\u001b[0;34m\u001b[0m\u001b[0;34m\u001b[0m\u001b[0m\n",
      "\u001b[0;32m~/.local/lib/python3.8/site-packages/tensorflow/python/keras/engine/training.py\u001b[0m in \u001b[0;36mevaluate\u001b[0;34m(self, x, y, batch_size, verbose, sample_weight, steps, callbacks, max_queue_size, workers, use_multiprocessing, return_dict)\u001b[0m\n\u001b[1;32m   1377\u001b[0m             \u001b[0;32mwith\u001b[0m \u001b[0mtrace\u001b[0m\u001b[0;34m.\u001b[0m\u001b[0mTrace\u001b[0m\u001b[0;34m(\u001b[0m\u001b[0;34m'TraceContext'\u001b[0m\u001b[0;34m,\u001b[0m \u001b[0mgraph_type\u001b[0m\u001b[0;34m=\u001b[0m\u001b[0;34m'test'\u001b[0m\u001b[0;34m,\u001b[0m \u001b[0mstep_num\u001b[0m\u001b[0;34m=\u001b[0m\u001b[0mstep\u001b[0m\u001b[0;34m)\u001b[0m\u001b[0;34m:\u001b[0m\u001b[0;34m\u001b[0m\u001b[0;34m\u001b[0m\u001b[0m\n\u001b[1;32m   1378\u001b[0m               \u001b[0mcallbacks\u001b[0m\u001b[0;34m.\u001b[0m\u001b[0mon_test_batch_begin\u001b[0m\u001b[0;34m(\u001b[0m\u001b[0mstep\u001b[0m\u001b[0;34m)\u001b[0m\u001b[0;34m\u001b[0m\u001b[0;34m\u001b[0m\u001b[0m\n\u001b[0;32m-> 1379\u001b[0;31m               \u001b[0mtmp_logs\u001b[0m \u001b[0;34m=\u001b[0m \u001b[0mtest_function\u001b[0m\u001b[0;34m(\u001b[0m\u001b[0miterator\u001b[0m\u001b[0;34m)\u001b[0m\u001b[0;34m\u001b[0m\u001b[0;34m\u001b[0m\u001b[0m\n\u001b[0m\u001b[1;32m   1380\u001b[0m               \u001b[0;32mif\u001b[0m \u001b[0mdata_handler\u001b[0m\u001b[0;34m.\u001b[0m\u001b[0mshould_sync\u001b[0m\u001b[0;34m:\u001b[0m\u001b[0;34m\u001b[0m\u001b[0;34m\u001b[0m\u001b[0m\n\u001b[1;32m   1381\u001b[0m                 \u001b[0mcontext\u001b[0m\u001b[0;34m.\u001b[0m\u001b[0masync_wait\u001b[0m\u001b[0;34m(\u001b[0m\u001b[0;34m)\u001b[0m\u001b[0;34m\u001b[0m\u001b[0;34m\u001b[0m\u001b[0m\n",
      "\u001b[0;32m~/.local/lib/python3.8/site-packages/tensorflow/python/eager/def_function.py\u001b[0m in \u001b[0;36m__call__\u001b[0;34m(self, *args, **kwds)\u001b[0m\n\u001b[1;32m    778\u001b[0m       \u001b[0;32melse\u001b[0m\u001b[0;34m:\u001b[0m\u001b[0;34m\u001b[0m\u001b[0;34m\u001b[0m\u001b[0m\n\u001b[1;32m    779\u001b[0m         \u001b[0mcompiler\u001b[0m \u001b[0;34m=\u001b[0m \u001b[0;34m\"nonXla\"\u001b[0m\u001b[0;34m\u001b[0m\u001b[0;34m\u001b[0m\u001b[0m\n\u001b[0;32m--> 780\u001b[0;31m         \u001b[0mresult\u001b[0m \u001b[0;34m=\u001b[0m \u001b[0mself\u001b[0m\u001b[0;34m.\u001b[0m\u001b[0m_call\u001b[0m\u001b[0;34m(\u001b[0m\u001b[0;34m*\u001b[0m\u001b[0margs\u001b[0m\u001b[0;34m,\u001b[0m \u001b[0;34m**\u001b[0m\u001b[0mkwds\u001b[0m\u001b[0;34m)\u001b[0m\u001b[0;34m\u001b[0m\u001b[0;34m\u001b[0m\u001b[0m\n\u001b[0m\u001b[1;32m    781\u001b[0m \u001b[0;34m\u001b[0m\u001b[0m\n\u001b[1;32m    782\u001b[0m       \u001b[0mnew_tracing_count\u001b[0m \u001b[0;34m=\u001b[0m \u001b[0mself\u001b[0m\u001b[0;34m.\u001b[0m\u001b[0m_get_tracing_count\u001b[0m\u001b[0;34m(\u001b[0m\u001b[0;34m)\u001b[0m\u001b[0;34m\u001b[0m\u001b[0;34m\u001b[0m\u001b[0m\n",
      "\u001b[0;32m~/.local/lib/python3.8/site-packages/tensorflow/python/eager/def_function.py\u001b[0m in \u001b[0;36m_call\u001b[0;34m(self, *args, **kwds)\u001b[0m\n\u001b[1;32m    812\u001b[0m       \u001b[0;31m# In this case we have not created variables on the first call. So we can\u001b[0m\u001b[0;34m\u001b[0m\u001b[0;34m\u001b[0m\u001b[0;34m\u001b[0m\u001b[0m\n\u001b[1;32m    813\u001b[0m       \u001b[0;31m# run the first trace but we should fail if variables are created.\u001b[0m\u001b[0;34m\u001b[0m\u001b[0;34m\u001b[0m\u001b[0;34m\u001b[0m\u001b[0m\n\u001b[0;32m--> 814\u001b[0;31m       \u001b[0mresults\u001b[0m \u001b[0;34m=\u001b[0m \u001b[0mself\u001b[0m\u001b[0;34m.\u001b[0m\u001b[0m_stateful_fn\u001b[0m\u001b[0;34m(\u001b[0m\u001b[0;34m*\u001b[0m\u001b[0margs\u001b[0m\u001b[0;34m,\u001b[0m \u001b[0;34m**\u001b[0m\u001b[0mkwds\u001b[0m\u001b[0;34m)\u001b[0m\u001b[0;34m\u001b[0m\u001b[0;34m\u001b[0m\u001b[0m\n\u001b[0m\u001b[1;32m    815\u001b[0m       \u001b[0;32mif\u001b[0m \u001b[0mself\u001b[0m\u001b[0;34m.\u001b[0m\u001b[0m_created_variables\u001b[0m\u001b[0;34m:\u001b[0m\u001b[0;34m\u001b[0m\u001b[0;34m\u001b[0m\u001b[0m\n\u001b[1;32m    816\u001b[0m         raise ValueError(\"Creating variables on a non-first call to a function\"\n",
      "\u001b[0;32m~/.local/lib/python3.8/site-packages/tensorflow/python/eager/function.py\u001b[0m in \u001b[0;36m__call__\u001b[0;34m(self, *args, **kwargs)\u001b[0m\n\u001b[1;32m   2827\u001b[0m     \u001b[0;32mwith\u001b[0m \u001b[0mself\u001b[0m\u001b[0;34m.\u001b[0m\u001b[0m_lock\u001b[0m\u001b[0;34m:\u001b[0m\u001b[0;34m\u001b[0m\u001b[0;34m\u001b[0m\u001b[0m\n\u001b[1;32m   2828\u001b[0m       \u001b[0mgraph_function\u001b[0m\u001b[0;34m,\u001b[0m \u001b[0margs\u001b[0m\u001b[0;34m,\u001b[0m \u001b[0mkwargs\u001b[0m \u001b[0;34m=\u001b[0m \u001b[0mself\u001b[0m\u001b[0;34m.\u001b[0m\u001b[0m_maybe_define_function\u001b[0m\u001b[0;34m(\u001b[0m\u001b[0margs\u001b[0m\u001b[0;34m,\u001b[0m \u001b[0mkwargs\u001b[0m\u001b[0;34m)\u001b[0m\u001b[0;34m\u001b[0m\u001b[0;34m\u001b[0m\u001b[0m\n\u001b[0;32m-> 2829\u001b[0;31m     \u001b[0;32mreturn\u001b[0m \u001b[0mgraph_function\u001b[0m\u001b[0;34m.\u001b[0m\u001b[0m_filtered_call\u001b[0m\u001b[0;34m(\u001b[0m\u001b[0margs\u001b[0m\u001b[0;34m,\u001b[0m \u001b[0mkwargs\u001b[0m\u001b[0;34m)\u001b[0m  \u001b[0;31m# pylint: disable=protected-access\u001b[0m\u001b[0;34m\u001b[0m\u001b[0;34m\u001b[0m\u001b[0m\n\u001b[0m\u001b[1;32m   2830\u001b[0m \u001b[0;34m\u001b[0m\u001b[0m\n\u001b[1;32m   2831\u001b[0m   \u001b[0;34m@\u001b[0m\u001b[0mproperty\u001b[0m\u001b[0;34m\u001b[0m\u001b[0;34m\u001b[0m\u001b[0m\n",
      "\u001b[0;32m~/.local/lib/python3.8/site-packages/tensorflow/python/eager/function.py\u001b[0m in \u001b[0;36m_filtered_call\u001b[0;34m(self, args, kwargs, cancellation_manager)\u001b[0m\n\u001b[1;32m   1841\u001b[0m       \u001b[0;31m`\u001b[0m\u001b[0margs\u001b[0m\u001b[0;31m`\u001b[0m \u001b[0;32mand\u001b[0m\u001b[0;31m \u001b[0m\u001b[0;31m`\u001b[0m\u001b[0mkwargs\u001b[0m\u001b[0;31m`\u001b[0m\u001b[0;34m.\u001b[0m\u001b[0;34m\u001b[0m\u001b[0;34m\u001b[0m\u001b[0m\n\u001b[1;32m   1842\u001b[0m     \"\"\"\n\u001b[0;32m-> 1843\u001b[0;31m     return self._call_flat(\n\u001b[0m\u001b[1;32m   1844\u001b[0m         [t for t in nest.flatten((args, kwargs), expand_composites=True)\n\u001b[1;32m   1845\u001b[0m          if isinstance(t, (ops.Tensor,\n",
      "\u001b[0;32m~/.local/lib/python3.8/site-packages/tensorflow/python/eager/function.py\u001b[0m in \u001b[0;36m_call_flat\u001b[0;34m(self, args, captured_inputs, cancellation_manager)\u001b[0m\n\u001b[1;32m   1921\u001b[0m         and executing_eagerly):\n\u001b[1;32m   1922\u001b[0m       \u001b[0;31m# No tape is watching; skip to running the function.\u001b[0m\u001b[0;34m\u001b[0m\u001b[0;34m\u001b[0m\u001b[0;34m\u001b[0m\u001b[0m\n\u001b[0;32m-> 1923\u001b[0;31m       return self._build_call_outputs(self._inference_function.call(\n\u001b[0m\u001b[1;32m   1924\u001b[0m           ctx, args, cancellation_manager=cancellation_manager))\n\u001b[1;32m   1925\u001b[0m     forward_backward = self._select_forward_and_backward_functions(\n",
      "\u001b[0;32m~/.local/lib/python3.8/site-packages/tensorflow/python/eager/function.py\u001b[0m in \u001b[0;36mcall\u001b[0;34m(self, ctx, args, cancellation_manager)\u001b[0m\n\u001b[1;32m    543\u001b[0m       \u001b[0;32mwith\u001b[0m \u001b[0m_InterpolateFunctionError\u001b[0m\u001b[0;34m(\u001b[0m\u001b[0mself\u001b[0m\u001b[0;34m)\u001b[0m\u001b[0;34m:\u001b[0m\u001b[0;34m\u001b[0m\u001b[0;34m\u001b[0m\u001b[0m\n\u001b[1;32m    544\u001b[0m         \u001b[0;32mif\u001b[0m \u001b[0mcancellation_manager\u001b[0m \u001b[0;32mis\u001b[0m \u001b[0;32mNone\u001b[0m\u001b[0;34m:\u001b[0m\u001b[0;34m\u001b[0m\u001b[0;34m\u001b[0m\u001b[0m\n\u001b[0;32m--> 545\u001b[0;31m           outputs = execute.execute(\n\u001b[0m\u001b[1;32m    546\u001b[0m               \u001b[0mstr\u001b[0m\u001b[0;34m(\u001b[0m\u001b[0mself\u001b[0m\u001b[0;34m.\u001b[0m\u001b[0msignature\u001b[0m\u001b[0;34m.\u001b[0m\u001b[0mname\u001b[0m\u001b[0;34m)\u001b[0m\u001b[0;34m,\u001b[0m\u001b[0;34m\u001b[0m\u001b[0;34m\u001b[0m\u001b[0m\n\u001b[1;32m    547\u001b[0m               \u001b[0mnum_outputs\u001b[0m\u001b[0;34m=\u001b[0m\u001b[0mself\u001b[0m\u001b[0;34m.\u001b[0m\u001b[0m_num_outputs\u001b[0m\u001b[0;34m,\u001b[0m\u001b[0;34m\u001b[0m\u001b[0;34m\u001b[0m\u001b[0m\n",
      "\u001b[0;32m~/.local/lib/python3.8/site-packages/tensorflow/python/eager/execute.py\u001b[0m in \u001b[0;36mquick_execute\u001b[0;34m(op_name, num_outputs, inputs, attrs, ctx, name)\u001b[0m\n\u001b[1;32m     57\u001b[0m   \u001b[0;32mtry\u001b[0m\u001b[0;34m:\u001b[0m\u001b[0;34m\u001b[0m\u001b[0;34m\u001b[0m\u001b[0m\n\u001b[1;32m     58\u001b[0m     \u001b[0mctx\u001b[0m\u001b[0;34m.\u001b[0m\u001b[0mensure_initialized\u001b[0m\u001b[0;34m(\u001b[0m\u001b[0;34m)\u001b[0m\u001b[0;34m\u001b[0m\u001b[0;34m\u001b[0m\u001b[0m\n\u001b[0;32m---> 59\u001b[0;31m     tensors = pywrap_tfe.TFE_Py_Execute(ctx._handle, device_name, op_name,\n\u001b[0m\u001b[1;32m     60\u001b[0m                                         inputs, attrs, num_outputs)\n\u001b[1;32m     61\u001b[0m   \u001b[0;32mexcept\u001b[0m \u001b[0mcore\u001b[0m\u001b[0;34m.\u001b[0m\u001b[0m_NotOkStatusException\u001b[0m \u001b[0;32mas\u001b[0m \u001b[0me\u001b[0m\u001b[0;34m:\u001b[0m\u001b[0;34m\u001b[0m\u001b[0;34m\u001b[0m\u001b[0m\n",
      "\u001b[0;31mKeyboardInterrupt\u001b[0m: "
     ]
    }
   ],
   "source": [
    "# PARA VOCÊ FAZER: Compilação e treinamento da RNA\n",
    "\n",
    "# Importa classe dos otimizadores\n",
    "# Inclua seu código aqui \n",
    "#\n",
    "from tensorflow.keras.optimizers import Adam\n",
    "# Compilação da RNA\n",
    "# Inclua seu código aqui \n",
    "#\n",
    "opt = Adam(0.001)\n",
    "rna.compile(opt, loss=L_total, metrics=PSNR)\n",
    "# Treinamento da RNA\n",
    "# Inclua seu código aqui \n",
    "#\n",
    "history = rna.fit(x_train, y_train, epochs=50, batch_size=1, validation_data=(x_val, y_val))"
   ]
  },
  {
   "cell_type": "markdown",
   "metadata": {
    "colab_type": "text",
    "id": "8-wIB0-xRZLY"
   },
   "source": [
    "**Saída esperada:**\n",
    "\n",
    "    Train on 1200 samples, validate on 300 samples\n",
    "    Epoch 1/50\n",
    "    1200/1200 [==============================] - 22s 18ms/sample - loss: 363.4275 - PSNR: 6.1513 - val_loss: 0.2705 - val_PSNR: 12.4118\n",
    "    .\n",
    "    .\n",
    "    .\n",
    "    Epoch 50/50\n",
    "    1200/1200 [==============================] - 12s 10ms/sample - loss: 0.0392 - PSNR: 31.4102 - val_loss: 0.0457 - val_PSNR: 30.2404"
   ]
  },
  {
   "cell_type": "markdown",
   "metadata": {
    "colab_type": "text",
    "id": "Ti3e8GaIXqdN"
   },
   "source": [
    "## 6 - Resultados\n",
    "\n",
    "Execute as células abaixo para visualizar os valores da função de custo e da métrica durante o treinamento."
   ]
  },
  {
   "cell_type": "code",
   "execution_count": 0,
   "metadata": {
    "colab": {},
    "colab_type": "code",
    "id": "6CKdUrjCXqdO"
   },
   "outputs": [],
   "source": [
    "# Verificação das variáveis salvas no processo de treinamento\n",
    "history_dict = history.history\n",
    "history_dict.keys()"
   ]
  },
  {
   "cell_type": "code",
   "execution_count": 0,
   "metadata": {
    "colab": {},
    "colab_type": "code",
    "id": "9-5q1lYFXqdQ"
   },
   "outputs": [],
   "source": [
    "# Salva custos, métricas e epocas em vetores \n",
    "custo = history_dict['loss']\n",
    "acc = history_dict['PSNR']\n",
    "val_custo = history_dict['val_loss']\n",
    "val_acc = history_dict['val_PSNR']\n",
    "\n",
    "# Cria vetor de épocas\n",
    "epocas = range(1, len(custo) + 1)\n",
    "\n",
    "# Gráfico dos valores de custo\n",
    "plt.plot(epocas, custo, 'bo', label='Custo - treinamento')\n",
    "plt.plot(epocas, val_custo, 'b', label='Custo - validação')\n",
    "plt.title('Valor da função de custo – treinamento e validação')\n",
    "plt.xlabel('Épocas')\n",
    "plt.ylabel('Custo')\n",
    "plt.legend()\n",
    "plt.show()\n",
    "\n",
    "# Gráfico dos valores da métrica\n",
    "plt.plot(epocas, acc, 'bo', label='PSNR- treinamento')\n",
    "plt.plot(epocas, val_acc, 'b', label='SNR - validação')\n",
    "plt.title('Valor da métrica – treinamento e validação')\n",
    "plt.xlabel('Épocas')\n",
    "plt.ylabel('Exatidao')\n",
    "plt.legend()\n",
    "plt.show()"
   ]
  },
  {
   "cell_type": "markdown",
   "metadata": {
    "colab_type": "text",
    "id": "KdSyZFoKRZLi"
   },
   "source": [
    "### Exercício #6: Resumo dos resultados\n",
    "\n",
    "Usando o método evaluate, na célula abaixo calcule o valor da função de custo e da métrica para os dados de treinamento, validação e teste."
   ]
  },
  {
   "cell_type": "code",
   "execution_count": 0,
   "metadata": {
    "colab": {},
    "colab_type": "code",
    "id": "9Jl3I9m_XqdT"
   },
   "outputs": [],
   "source": [
    "# PARA VOCÊ FAZER: Calcular resultados finais da função de custo e métrica após treinamento\n",
    "\n",
    "# Avaliação do custo e métrica para os dados de treinamento, valdação e teste\n",
    "# Inclua seu código aqui \n",
    "#\n",
    "\n",
    "print('Resultados - dados treinamento:', custo_e_metricas_train)\n",
    "print('Resultados - dados validação:', custo_e_metricas_val)\n",
    "print('Resultados - dados teste:', custo_e_metricas_val)"
   ]
  },
  {
   "cell_type": "markdown",
   "metadata": {
    "colab_type": "text",
    "id": "PP_3Zdo5RZLn"
   },
   "source": [
    "**Saída esperada:**\n",
    "\n",
    "    1200/1200 [==============================] - 4s 3ms/sample - loss: 0.0425 - PSNR: 30.7296\n",
    "    300/300 [==============================] - 1s 3ms/sample - loss: 0.0457 - PSNR: 30.2404\n",
    "    300/300 [==============================] - 1s 3ms/sample - loss: 0.0455 - PSNR: 30.3217\n",
    "    Resultados - dados treinamento: [0.04251373956600825, 30.729645]\n",
    "    Resultados - dados validação: [0.04573282207051913, 30.240355]\n",
    "    Resultados - dados teste: [0.04573282207051913, 30.240355]"
   ]
  },
  {
   "cell_type": "markdown",
   "metadata": {
    "colab_type": "text",
    "id": "xiLUAtSgXqdX"
   },
   "source": [
    "### Visualização do resultado de um exemplo do conjunto de teste\n",
    "\n",
    "Execute a célula abaixo para visualizar as imagens original e a reconstruída de um exemplo do conjunto de teste. Troque o valor da variável `index` para visualizar vários exemplos."
   ]
  },
  {
   "cell_type": "code",
   "execution_count": 0,
   "metadata": {
    "colab": {},
    "colab_type": "code",
    "id": "QsAxBTe5XqdX"
   },
   "outputs": [],
   "source": [
    "# Mostra o resultado de uma imagem\n",
    "\n",
    "# Escolhe imagem e expande o número de eixos\n",
    "index = 0\n",
    "xindex = np.expand_dims(x_test[index], axis=0)\n",
    "\n",
    "# Calcula imagem reconstruída pela RNA\n",
    "y_pred = rna.predict(xindex)\n",
    "\n",
    "# Mostra imagens \n",
    "f, pos = plt.subplots(1, 3, figsize=(16, 16))\n",
    "pos[0].imshow(x_test[index])\n",
    "pos[0].set_title('Imagem de entrada')\n",
    "pos[1].imshow(y_pred[0])\n",
    "pos[1].set_title('Imagem recostruida')\n",
    "pos[2].imshow(y_test[index])\n",
    "pos[2].set_title('Imagem original')\n",
    "plt.show()"
   ]
  }
 ],
 "metadata": {
  "accelerator": "GPU",
  "colab": {
   "collapsed_sections": [],
   "name": "T3_Redes_complexas.ipynb",
   "provenance": []
  },
  "kernelspec": {
   "display_name": "Python 3",
   "language": "python",
   "name": "python3"
  },
  "language_info": {
   "codemirror_mode": {
    "name": "ipython",
    "version": 3
   },
   "file_extension": ".py",
   "mimetype": "text/x-python",
   "name": "python",
   "nbconvert_exporter": "python",
   "pygments_lexer": "ipython3",
   "version": "3.8.5"
  }
 },
 "nbformat": 4,
 "nbformat_minor": 1
}
