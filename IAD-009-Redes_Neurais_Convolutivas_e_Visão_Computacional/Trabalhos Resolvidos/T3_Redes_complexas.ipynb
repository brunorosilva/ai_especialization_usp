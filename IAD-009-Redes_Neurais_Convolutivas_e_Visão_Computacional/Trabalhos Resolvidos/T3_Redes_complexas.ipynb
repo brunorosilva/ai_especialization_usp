{
  "nbformat": 4,
  "nbformat_minor": 0,
  "metadata": {
    "colab": {
      "name": "T3_Redes_complexas.ipynb",
      "provenance": [],
      "collapsed_sections": [],
      "toc_visible": true
    },
    "kernelspec": {
      "display_name": "Python 3",
      "language": "python",
      "name": "python3"
    },
    "language_info": {
      "codemirror_mode": {
        "name": "ipython",
        "version": 3
      },
      "file_extension": ".py",
      "mimetype": "text/x-python",
      "name": "python",
      "nbconvert_exporter": "python",
      "pygments_lexer": "ipython3",
      "version": "3.8.5"
    },
    "accelerator": "GPU"
  },
  "cells": [
    {
      "cell_type": "markdown",
      "metadata": {
        "id": "-MwruVLNXqci"
      },
      "source": [
        "# Trabalho #3 - Redes Complexas\n",
        "\n",
        "Nesse trabalho você vai desenvolver uma RNA para realizar uma tarefa de geração de imagem. A tarefa consiste em gerar um nariz para um rosto de uma pessoa. Assim, dada uma imagem de um rosto de uma pessoa com uma máscara cobrindo o nariz, a RNA deve gerar uma imagem desse rosto com um nariz adequado. \n",
        "\n",
        "Esse trabalho consiste de uma aplicação real de redes neurais, que foi desenvolvida para a Faculdade de Odontologia da USP para permitir criar próteses nasais adequadas para pacientes que perderam o nariz. \n",
        "\n",
        "Para realizar essa tarefa iremos usar uma rede neural tipo residual."
      ]
    },
    {
      "cell_type": "markdown",
      "metadata": {
        "id": "eP57hWxVXqcl"
      },
      "source": [
        "## Coloque o seu nome aqui:\n",
        "\n",
        "Nome: Bruno Rodrigues\n"
      ]
    },
    {
      "cell_type": "code",
      "metadata": {
        "id": "foGyYd2zXwoK",
        "colab": {
          "base_uri": "https://localhost:8080/"
        },
        "outputId": "c2270b5e-7bb2-46ee-be0e-9726dd0cc8ce"
      },
      "source": [
        "from google.colab import drive\n",
        "drive.mount('/content/drive')"
      ],
      "execution_count": 37,
      "outputs": [
        {
          "output_type": "stream",
          "text": [
            "Drive already mounted at /content/drive; to attempt to forcibly remount, call drive.mount(\"/content/drive\", force_remount=True).\n"
          ],
          "name": "stdout"
        }
      ]
    },
    {
      "cell_type": "code",
      "metadata": {
        "id": "D7j-3XLMX4gN",
        "colab": {
          "base_uri": "https://localhost:8080/"
        },
        "outputId": "6d13a55c-d637-4018-ca5c-668f24bee8fe"
      },
      "source": [
        "%cd /content/drive/My Drive/\n",
        "!ls"
      ],
      "execution_count": 38,
      "outputs": [
        {
          "output_type": "stream",
          "text": [
            "/content/drive/My Drive\n",
            " 80211n\n",
            "'Backup Luiza'\n",
            "'Backup Margo'\n",
            " Bruno_Rodrigues_CV.pdf\n",
            "'Colab Notebooks'\n",
            "'Construindo a interface web _ Semana OmniStack 11.0.mp4'\n",
            "'Criando a base da aplicação _ Semana OmniStack 11.0.mp4'\n",
            " cursoai_exercicios\n",
            " cursoai_python_aula_03\n",
            "'CVs Estágio'\n",
            " data64.h5\n",
            "'Desenvolvendo o app mobile _ Semana OmniStack 11.0.mp4'\n",
            " dMusicas.gsheet\n",
            " Estatistica\n",
            " faces1.png\n",
            " faces2.png\n",
            " Fluxo_Projeto_COVID.pdf\n",
            "'Imagem sem título (1).png'\n",
            "'Imagem sem título.png'\n",
            " Importante\n",
            " Itau\n",
            "'Itau (1)'\n",
            "'Machine Learning Canvas v0.4 - public.gdoc'\n",
            " mask512.jpg\n",
            " math-animations\n",
            "'Mayara - Regis Tortorella'\n",
            " ML2-EX2-SOM.gdoc\n",
            " ML2-EX3-Revisão.gdoc\n",
            " ML2-EX4-Autoencoders.gdoc\n",
            "'PC Daniel'\n",
            "'To-do list.gsheet'\n",
            "'Untitled document (1).gdoc'\n",
            "'Untitled document (2).gdoc'\n",
            "'Untitled document.gdoc'\n",
            "'Untitled form.gform'\n"
          ],
          "name": "stdout"
        }
      ]
    },
    {
      "cell_type": "markdown",
      "metadata": {
        "id": "c_4nvWuqXqcm"
      },
      "source": [
        "Em primeiro lugar é necessário importar alguns pacotes do Python que serão usados ao longo nesse trabalho:\n",
        "\n",
        "- numpy: pacote de cálculo científico com Python\n",
        "- matplotlib: biblioteca para gerar gráficos em Python\n",
        "- h5py: biblioteca que permite ler e escrever arquivos no formato h5\n",
        "- skimage: bilioteca para porcessar imagens\n",
        "- TensorFlow"
      ]
    },
    {
      "cell_type": "code",
      "metadata": {
        "id": "gGBe9mdtXqcn"
      },
      "source": [
        "import numpy as np\n",
        "import h5py\n",
        "import matplotlib.pyplot as plt\n",
        "from skimage.io import imread\n",
        "from skimage.transform import resize\n",
        "import tensorflow as tf\n",
        "\n",
        "%matplotlib inline"
      ],
      "execution_count": 6,
      "outputs": []
    },
    {
      "cell_type": "markdown",
      "metadata": {
        "id": "EWHgOH7FXqcq"
      },
      "source": [
        "## 1 - Visão geral do problema ##\n",
        "\n",
        "O objetivo desse problema é desenvolver uma RNA que recebe como entrada uma imagem de um rosto com uma máscara preta cobrindo a região do nariz e gera uma nova imagem do rosto com um nariz adequado. \n",
        "\n",
        "O conjunto de dados usado nesse trabalho foi criado usando o banco de imagens de celebridades CELEBA-HQ-512, que possui 30.000 imagens de rostos de celebridades com resolução 512 por 512. Esse banco de dados pode ser visto no link: https://github.com/tkarras/progressive_growing_of_gans.\n",
        "\n",
        "Nesse trabalho iremos utilizar somente 1.800 imagens com dimensão reduzida para 64 por 64. Essa redução no número e na dimensão das imagens é feita somente para podermos realizar o treinamento da RNA em um tempo razoável.\n",
        "\n",
        "As figuras abaixo mostram dois exemplos do conjunto de dados.\n",
        "\n",
        "![faces1.png](data:image/png;base64,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)\n",
        "\n",
        "![faces2.png](data:image/png;base64,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)\n"
      ]
    },
    {
      "cell_type": "markdown",
      "metadata": {
        "id": "S7gTbuZmXqcr"
      },
      "source": [
        "## 2 - Dados de treinamento\n",
        "\n",
        "As imagens que iremos utilizar nesse trabalho já foram processadas de forma a criar o par de imagens de entrada e saída. As imagens estão no arquivo data64.h5.\n",
        "\n",
        "Características dos dados:\n",
        "\n",
        "- As imagens são coloridas e estão no padrão RGB;\n",
        "- Cada imagem de entrada e de saída tem dimensão de 64x64x3;\n",
        "- As imagens já foram normalizadas, então, o valor da intensidade luminosa de cada pixels é um número real entre 0 e 1;\n",
        "- As imagens de entrada consistem em rostos de celebridades com a máscara preta cobrindo o nariz;\n",
        "- As imagens de saída consistem nos rostos das celebridades.\n",
        "\n",
        "\n",
        "### 2.1 - Leitura dos dados\n",
        "\n",
        "Para iniciar o trabalho é necessário ler o arquivo de dados. Assim, execute o código da célula abaixo para ler o arquivo de dados.\n",
        "\n",
        "**Importante:**\n",
        "Para obter o arquivo de dados você deve copiar o link abaixo no seu browser e dar o download. Após isso colocar o arquivo em algum diretório que possa ser usado.\n",
        "https://drive.google.com/open?id=1G5Ot0SaVhyoSg3sEpDtMwTCh_nLtFu7b"
      ]
    },
    {
      "cell_type": "code",
      "metadata": {
        "colab": {
          "base_uri": "https://localhost:8080/"
        },
        "id": "eKoeKOq4Xqcs",
        "outputId": "65daec33-caf5-4194-a6a1-0ac1f3a0c528"
      },
      "source": [
        "# Abre arquivo de dados data64.h5\n",
        "hf = h5py.File('data64.h5','r')\n",
        "\n",
        "# Le imagens do arquivo. As imagens estão em um dicionário, sendo que os dados e entrada e saída estão separados, \n",
        "# assim como os dados de treinamento, validação e teste.\n",
        "x_train0 = np.array(hf.get('x_train'))\n",
        "y_train0 = np.array(hf.get('y_train'))\n",
        "x_val0 = np.array(hf.get('x_val'))\n",
        "y_val0 = np.array(hf.get('y_val'))\n",
        "x_test0 = np.array(hf.get('x_test'))\n",
        "y_test0 = np.array(hf.get('y_test'))\n",
        "\n",
        "x_train = x_train0[:1200]\n",
        "y_train = y_train0[:1200]\n",
        "x_val = x_val0[:300]\n",
        "y_val = y_val0[:300]\n",
        "x_test = x_test0[:300]\n",
        "y_test = y_test0[:300]\n",
        "\n",
        "img_size = x_train.shape[1:4]\n",
        "\n",
        "# Feche arquivo de dados\n",
        "hf.close()\n",
        "\n",
        "# Imprime dimensão dos conjuntos de dados\n",
        "print('Dimensão dos dados de treinamento (entrada/saída) =', x_train.shape, y_train.shape)\n",
        "print('Dimensão dos dados de validação (entrada/saída) =', x_val.shape, y_val.shape)               \n",
        "print('Dimensão dos dados de teste (entrada/saída) =1', x_test.shape, y_test.shape)"
      ],
      "execution_count": 7,
      "outputs": [
        {
          "output_type": "stream",
          "text": [
            "Dimensão dos dados de treinamento (entrada/saída) = (1200, 64, 64, 3) (1200, 64, 64, 3)\n",
            "Dimensão dos dados de validação (entrada/saída) = (300, 64, 64, 3) (300, 64, 64, 3)\n",
            "Dimensão dos dados de teste (entrada/saída) =1 (300, 64, 64, 3) (300, 64, 64, 3)\n"
          ],
          "name": "stdout"
        }
      ]
    },
    {
      "cell_type": "markdown",
      "metadata": {
        "id": "pOzVdHbkXqcw"
      },
      "source": [
        "Pela dimensão dos tensores com os dados de treinamento, validação e teste temos:\n",
        "\n",
        "- 1200 imagens de treinamento com dimensão de 64x64x3 pixels;\n",
        "- 300 imagens de validação com dimensão de 64x64x3 pixels;\n",
        "- 300 imagens de teste com dimensão de 64x64x3 pixels.\n"
      ]
    },
    {
      "cell_type": "markdown",
      "metadata": {
        "id": "gYjJk_oEXqcx"
      },
      "source": [
        "Execute a célula a seguir para visualizar um exemplo do banco de dados. Altere o valor da variável 'index' e execute a célula novamente para visualizar mais exemplos diferentes."
      ]
    },
    {
      "cell_type": "code",
      "metadata": {
        "id": "-9szErBVXqcy",
        "colab": {
          "base_uri": "https://localhost:8080/",
          "height": 267
        },
        "outputId": "7bc6c6f9-06a4-4878-95ed-e4b22e946973"
      },
      "source": [
        "# Mostra exemplo de imagem de entrada e saída\n",
        "\n",
        "# Trocar o valor de index para mostrar outras imagens\n",
        "index = 300\n",
        "f, pos = plt.subplots(1, 2, figsize=(8, 8))\n",
        "pos[0].imshow(x_train[index])\n",
        "pos[0].set_title('Imagem de entrada')\n",
        "pos[1].imshow(y_train[index])\n",
        "pos[1].set_title('Imagem de saída')\n",
        "plt.show()\n"
      ],
      "execution_count": 8,
      "outputs": [
        {
          "output_type": "display_data",
          "data": {
            "image/png": "[encoded data removed]",
            "text/plain": [
              "<Figure size 576x576 with 2 Axes>"
            ]
          },
          "metadata": {
            "tags": [],
            "needs_background": "light"
          }
        }
      ]
    },
    {
      "cell_type": "markdown",
      "metadata": {
        "id": "QV8bEVBkXqc1"
      },
      "source": [
        "## 3 - RNA convolucional\n",
        "\n",
        "Nesse trabalho você irá usar uma RNA convolucional residual conforme visto em aula. Então a primeira etapa é criar um bloco reasidual para depois unir vários blocos em uma RNA.\n",
        "\n",
        "**Importante:** a saída dessa RNA é uma imagem com a mesma dimensão da imagem de entrada, assim, a dimensão da imagem original deve ser preservada em todas as camadas convolucionais."
      ]
    },
    {
      "cell_type": "markdown",
      "metadata": {
        "id": "P_jEFJCDRZKP"
      },
      "source": [
        "### Exercício #1: Criar uma função que define um bloco residual\n",
        "\n",
        "Na célula abaixo crie um bloco residual exatamente igual ao visto em aula. Não se esqueca de incluir a opção `padding='same'` nas camadas convolucionais que as saídas tenham a mesma dimensão."
      ]
    },
    {
      "cell_type": "code",
      "metadata": {
        "id": "Xz5DcDU_M_LV"
      },
      "source": [
        "# PARA VOCÊ FAZER: Função bloco_residual\n",
        "\n",
        "from tensorflow.keras import layers\n",
        "\n",
        "def bloco_residual(X, n, dim):\n",
        "    \"\"\"`\n",
        "    Entradas: \n",
        "        X = tensor de entrada \n",
        "        n = número de filtros\n",
        "        dim = dimensão dos filtros\n",
        "    \n",
        "    Saída:\n",
        "        A2 -> tensor de saída\n",
        "    \"\"\"\n",
        "    \n",
        "    # Configuraçao do bloco\n",
        "    # Inclua o seu código aqui\n",
        "    #\n",
        "    A1 = layers.Conv2D(n, (dim, dim), strides=1, padding='same', activation='relu')(X)\n",
        "    Z2 = layers.Conv2D(n, (dim, dim), strides=1, padding='same', activation='linear')(A1)\n",
        "    \n",
        "    ZX = layers.Add()([Z2, X])\n",
        "    A2 = layers.Activation('relu')(ZX)\n",
        "    \n",
        "    # Retorna saída\n",
        "    return A2"
      ],
      "execution_count": 9,
      "outputs": []
    },
    {
      "cell_type": "markdown",
      "metadata": {
        "id": "ParIi691RZKY"
      },
      "source": [
        "### Exercício #2: Criar uma RNA com blocos residuais\n",
        "\n",
        "Na célula abaixo crie uma RNA com 6 blocos residuais. Use o bloco residual definido na função `bloco_residual` criada no exercício #1. Note que antes de um bloco residual pode ser necessária uma camada convolucional para ajustar a dimensão dos tensores para não ter problema na hora de realizar a soma dentro do bloco residual.\n",
        "\n",
        "As configuração dessa rede é a seguinte:\n",
        "\n",
        "- Camada de entrada que recebe as imagens de dimensão 64x64x3\n",
        "- Camada convolucional: 128 filtros de dimensão 5x5, ativação relu\n",
        "- 1o bloco residual: 128 filtros de dimensão 5x5\n",
        "- Camada convolucional: 256 filtros de dimensão 5x5, ativação relu\n",
        "- 2o e 3o blocos residuais: 256 filtros de dimensão 5x5\n",
        "- Camada convolucional: 128 filtros de dimensão 5x5, ativação relu\n",
        "- 4o e 5o blocos residuais: 128 filtros de dimensão 5x5\n",
        "- Camada convolucional: 64 filtros de dimensão 5x5, ativação relu\n",
        "- 6o bloco residual: 64 filtros de dimensão 5x5\n",
        "- Camada convolucional: 3 filtros de dimensão 5x5, ativação linear\n",
        "\n",
        "Observe que todas as camadas convoluciionais devem ser com `padding='same'`. "
      ]
    },
    {
      "cell_type": "code",
      "metadata": {
        "id": "h0-k5qW7M_LY",
        "colab": {
          "base_uri": "https://localhost:8080/"
        },
        "outputId": "c6fa6a23-2772-487e-d2d8-e27b756e35ff"
      },
      "source": [
        "# PARA VOCÊ FAZER: Rede residual\n",
        "\n",
        "from tensorflow.keras import Input\n",
        "from tensorflow.keras.models import Model\n",
        "from tensorflow.keras.layers import Conv2D\n",
        "from tensorflow.keras.utils import plot_model\n",
        "\n",
        "# Definição da dimensão da entrada e da camada de entrada (use camada tipo Input)\n",
        "# Inclua seu código aqui   \n",
        "#\n",
        "input_shape = (64, 64, 3)\n",
        "X0 = Input(input_shape)\n",
        "# Inclua seu código aqui     \n",
        "# Camada convolucional para ajustar número de canais para poder ser somada dentro do bloco residual\n",
        "#\n",
        "X1 = Conv2D(128, (5, 5), strides=1, activation='relu', padding='same')(X0)\n",
        "# Primeiro bloco residual com 128 filtros\n",
        "# \n",
        "X2 = bloco_residual(X1, 128, 5)\n",
        "# Camada convolucional para ajustar número de canais para poder ser somada dentro do bloco residual\n",
        "# \n",
        "X3 = Conv2D(256, (5,5), strides=1, activation='relu', padding='same')(X2)\n",
        "# Segundo bloco residual com 256 filtros\n",
        "# \n",
        "X4 = bloco_residual(X3, 256, 5)\n",
        "# Terceiro bloco residual com 256 filtros\n",
        "# \n",
        "X5 = bloco_residual(X4, 256, 5)\n",
        "# Camada convolucional para ajustar número de canais para poder ser somada dentro do bloco residual\n",
        "# \n",
        "X6 = Conv2D(128, (5,5), strides=1, activation='relu', padding='same')(X5)\n",
        "# Quarto bloco residual com 128 filtros\n",
        "#\n",
        "X7 = bloco_residual(X6, 128, 5)\n",
        "# Quinto bloco residual com 128 filtros\n",
        "# \n",
        "X8 = bloco_residual(X7, 128, 5)\n",
        "# Camada convolucional para ajustar número de canais para poder ser somada dentro do bloco residual\n",
        "#\n",
        "X9 = Conv2D(64, (5,5), strides=1, activation='relu', padding='same')(X8)\n",
        "# Sexto bloco residual com 64 filtros\n",
        "# \n",
        "X10 = bloco_residual(X9, 64, 5)\n",
        "# Camada convolutional para acertar profundidade da imagem resultante no padrão RGB\n",
        "# \n",
        "X11 = Conv2D(3, (5,5), strides=1, activation='linear', padding='same')(X10)\n",
        "\n",
        "# Criação da RNA\n",
        "# Inclua seu código aqui \n",
        "#\n",
        "rna = Model(X0, X11)\n",
        "# Mostra resumo da RNA\n",
        "rna.summary()\n",
        "\n",
        "# Se quiser visualizar o gráfico da rede criada tire o comentário da linha de baixo. Esse comando cria um gráfico \n",
        "# da rede e salva no arquivo rna.png\n",
        "#plot_model(rna, to_file='rna.png', show_shapes=True)    \n"
      ],
      "execution_count": 10,
      "outputs": [
        {
          "output_type": "stream",
          "text": [
            "Model: \"functional_1\"\n",
            "__________________________________________________________________________________________________\n",
            "Layer (type)                    Output Shape         Param #     Connected to                     \n",
            "==================================================================================================\n",
            "input_1 (InputLayer)            [(None, 64, 64, 3)]  0                                            \n",
            "__________________________________________________________________________________________________\n",
            "conv2d (Conv2D)                 (None, 64, 64, 128)  9728        input_1[0][0]                    \n",
            "__________________________________________________________________________________________________\n",
            "conv2d_1 (Conv2D)               (None, 64, 64, 128)  409728      conv2d[0][0]                     \n",
            "__________________________________________________________________________________________________\n",
            "conv2d_2 (Conv2D)               (None, 64, 64, 128)  409728      conv2d_1[0][0]                   \n",
            "__________________________________________________________________________________________________\n",
            "add (Add)                       (None, 64, 64, 128)  0           conv2d_2[0][0]                   \n",
            "                                                                 conv2d[0][0]                     \n",
            "__________________________________________________________________________________________________\n",
            "activation (Activation)         (None, 64, 64, 128)  0           add[0][0]                        \n",
            "__________________________________________________________________________________________________\n",
            "conv2d_3 (Conv2D)               (None, 64, 64, 256)  819456      activation[0][0]                 \n",
            "__________________________________________________________________________________________________\n",
            "conv2d_4 (Conv2D)               (None, 64, 64, 256)  1638656     conv2d_3[0][0]                   \n",
            "__________________________________________________________________________________________________\n",
            "conv2d_5 (Conv2D)               (None, 64, 64, 256)  1638656     conv2d_4[0][0]                   \n",
            "__________________________________________________________________________________________________\n",
            "add_1 (Add)                     (None, 64, 64, 256)  0           conv2d_5[0][0]                   \n",
            "                                                                 conv2d_3[0][0]                   \n",
            "__________________________________________________________________________________________________\n",
            "activation_1 (Activation)       (None, 64, 64, 256)  0           add_1[0][0]                      \n",
            "__________________________________________________________________________________________________\n",
            "conv2d_6 (Conv2D)               (None, 64, 64, 256)  1638656     activation_1[0][0]               \n",
            "__________________________________________________________________________________________________\n",
            "conv2d_7 (Conv2D)               (None, 64, 64, 256)  1638656     conv2d_6[0][0]                   \n",
            "__________________________________________________________________________________________________\n",
            "add_2 (Add)                     (None, 64, 64, 256)  0           conv2d_7[0][0]                   \n",
            "                                                                 activation_1[0][0]               \n",
            "__________________________________________________________________________________________________\n",
            "activation_2 (Activation)       (None, 64, 64, 256)  0           add_2[0][0]                      \n",
            "__________________________________________________________________________________________________\n",
            "conv2d_8 (Conv2D)               (None, 64, 64, 128)  819328      activation_2[0][0]               \n",
            "__________________________________________________________________________________________________\n",
            "conv2d_9 (Conv2D)               (None, 64, 64, 128)  409728      conv2d_8[0][0]                   \n",
            "__________________________________________________________________________________________________\n",
            "conv2d_10 (Conv2D)              (None, 64, 64, 128)  409728      conv2d_9[0][0]                   \n",
            "__________________________________________________________________________________________________\n",
            "add_3 (Add)                     (None, 64, 64, 128)  0           conv2d_10[0][0]                  \n",
            "                                                                 conv2d_8[0][0]                   \n",
            "__________________________________________________________________________________________________\n",
            "activation_3 (Activation)       (None, 64, 64, 128)  0           add_3[0][0]                      \n",
            "__________________________________________________________________________________________________\n",
            "conv2d_11 (Conv2D)              (None, 64, 64, 128)  409728      activation_3[0][0]               \n",
            "__________________________________________________________________________________________________\n",
            "conv2d_12 (Conv2D)              (None, 64, 64, 128)  409728      conv2d_11[0][0]                  \n",
            "__________________________________________________________________________________________________\n",
            "add_4 (Add)                     (None, 64, 64, 128)  0           conv2d_12[0][0]                  \n",
            "                                                                 activation_3[0][0]               \n",
            "__________________________________________________________________________________________________\n",
            "activation_4 (Activation)       (None, 64, 64, 128)  0           add_4[0][0]                      \n",
            "__________________________________________________________________________________________________\n",
            "conv2d_13 (Conv2D)              (None, 64, 64, 64)   204864      activation_4[0][0]               \n",
            "__________________________________________________________________________________________________\n",
            "conv2d_14 (Conv2D)              (None, 64, 64, 64)   102464      conv2d_13[0][0]                  \n",
            "__________________________________________________________________________________________________\n",
            "conv2d_15 (Conv2D)              (None, 64, 64, 64)   102464      conv2d_14[0][0]                  \n",
            "__________________________________________________________________________________________________\n",
            "add_5 (Add)                     (None, 64, 64, 64)   0           conv2d_15[0][0]                  \n",
            "                                                                 conv2d_13[0][0]                  \n",
            "__________________________________________________________________________________________________\n",
            "activation_5 (Activation)       (None, 64, 64, 64)   0           add_5[0][0]                      \n",
            "__________________________________________________________________________________________________\n",
            "conv2d_16 (Conv2D)              (None, 64, 64, 3)    4803        activation_5[0][0]               \n",
            "==================================================================================================\n",
            "Total params: 11,076,099\n",
            "Trainable params: 11,076,099\n",
            "Non-trainable params: 0\n",
            "__________________________________________________________________________________________________\n"
          ],
          "name": "stdout"
        }
      ]
    },
    {
      "cell_type": "markdown",
      "metadata": {
        "id": "d3Sd0YcnRZKi"
      },
      "source": [
        "**Saída esperada:** \n",
        "\n",
        "    Model: \"model\"\n",
        "    __________________________________________________________________________________________________\n",
        "    Layer (type)                    Output Shape         Param #     Connected to                     \n",
        "    ==================================================================================================\n",
        "    input_1 (InputLayer)            [(None, 64, 64, 3)]  0                                            \n",
        "    __________________________________________________________________________________________________\n",
        "    conv2d (Conv2D)                 (None, 64, 64, 128)  9728        input_1[0][0]                    \n",
        "    __________________________________________________________________________________________________\n",
        "    conv2d_1 (Conv2D)               (None, 64, 64, 128)  409728      conv2d[0][0]                     \n",
        "    __________________________________________________________________________________________________\n",
        "    conv2d_2 (Conv2D)               (None, 64, 64, 128)  409728      conv2d_1[0][0]                   \n",
        "    __________________________________________________________________________________________________\n",
        "    add (Add)                       (None, 64, 64, 128)  0           conv2d_2[0][0]                   \n",
        "                                                                     conv2d[0][0]                     \n",
        "    __________________________________________________________________________________________________\n",
        "    activation (Activation)         (None, 64, 64, 128)  0           add[0][0]                        \n",
        "    __________________________________________________________________________________________________\n",
        "    conv2d_3 (Conv2D)               (None, 64, 64, 256)  819456      activation[0][0]                 \n",
        "    __________________________________________________________________________________________________\n",
        "    conv2d_4 (Conv2D)               (None, 64, 64, 256)  1638656     conv2d_3[0][0]                   \n",
        "    __________________________________________________________________________________________________\n",
        "    conv2d_5 (Conv2D)               (None, 64, 64, 256)  1638656     conv2d_4[0][0]                   \n",
        "    __________________________________________________________________________________________________\n",
        "    add_1 (Add)                     (None, 64, 64, 256)  0           conv2d_5[0][0]                   \n",
        "                                                                 conv2d_3[0][0]                   \n",
        "    __________________________________________________________________________________________________\n",
        "    activation_1 (Activation)       (None, 64, 64, 256)  0           add_1[0][0]                      \n",
        "    __________________________________________________________________________________________________\n",
        "    conv2d_6 (Conv2D)               (None, 64, 64, 256)  1638656     activation_1[0][0]               \n",
        "    __________________________________________________________________________________________________\n",
        "    conv2d_7 (Conv2D)               (None, 64, 64, 256)  1638656     conv2d_6[0][0]                   \n",
        "    __________________________________________________________________________________________________\n",
        "    add_2 (Add)                     (None, 64, 64, 256)  0           conv2d_7[0][0]                   \n",
        "                                                                     activation_1[0][0]               \n",
        "    __________________________________________________________________________________________________\n",
        "    activation_2 (Activation)       (None, 64, 64, 256)  0           add_2[0][0]                      \n",
        "    __________________________________________________________________________________________________\n",
        "    conv2d_8 (Conv2D)               (None, 64, 64, 128)  819328      activation_2[0][0]               \n",
        "    __________________________________________________________________________________________________\n",
        "    conv2d_9 (Conv2D)               (None, 64, 64, 128)  409728      conv2d_8[0][0]                   \n",
        "    __________________________________________________________________________________________________\n",
        "    conv2d_10 (Conv2D)              (None, 64, 64, 128)  409728      conv2d_9[0][0]                   \n",
        "    __________________________________________________________________________________________________\n",
        "    add_3 (Add)                     (None, 64, 64, 128)  0           conv2d_10[0][0]                  \n",
        "                                                                     conv2d_8[0][0]                   \n",
        "    __________________________________________________________________________________________________\n",
        "    activation_3 (Activation)       (None, 64, 64, 128)  0           add_3[0][0]                      \n",
        "    __________________________________________________________________________________________________\n",
        "    conv2d_11 (Conv2D)              (None, 64, 64, 128)  409728      activation_3[0][0]               \n",
        "    __________________________________________________________________________________________________\n",
        "    conv2d_12 (Conv2D)              (None, 64, 64, 128)  409728      conv2d_11[0][0]                  \n",
        "    __________________________________________________________________________________________________\n",
        "    add_4 (Add)                     (None, 64, 64, 128)  0           conv2d_12[0][0]                  \n",
        "                                                                     activation_3[0][0]               \n",
        "    __________________________________________________________________________________________________\n",
        "    activation_4 (Activation)       (None, 64, 64, 128)  0           add_4[0][0]                      \n",
        "    __________________________________________________________________________________________________\n",
        "    conv2d_13 (Conv2D)              (None, 64, 64, 64)   204864      activation_4[0][0]               \n",
        "    __________________________________________________________________________________________________\n",
        "    conv2d_14 (Conv2D)              (None, 64, 64, 64)   102464      conv2d_13[0][0]                  \n",
        "    __________________________________________________________________________________________________\n",
        "    conv2d_15 (Conv2D)              (None, 64, 64, 64)   102464      conv2d_14[0][0]                  \n",
        "    __________________________________________________________________________________________________\n",
        "    add_5 (Add)                     (None, 64, 64, 64)   0           conv2d_15[0][0]                  \n",
        "                                                                     conv2d_13[0][0]                  \n",
        "    __________________________________________________________________________________________________\n",
        "    activation_5 (Activation)       (None, 64, 64, 64)   0           add_5[0][0]                      \n",
        "    __________________________________________________________________________________________________\n",
        "    conv2d_16 (Conv2D)              (None, 64, 64, 3)    4803        activation_5[0][0]               \n",
        "    ==================================================================================================\n",
        "    Total params: 11,076,099\n",
        "    Trainable params: 11,076,099\n",
        "    Non-trainable params: 0\n",
        "    __________________________________________________________________________________________________"
      ]
    },
    {
      "cell_type": "markdown",
      "metadata": {
        "id": "90a_i7NPXqc9"
      },
      "source": [
        "## 4 - Função de custo e métrica\n"
      ]
    },
    {
      "cell_type": "markdown",
      "metadata": {
        "id": "3qYAAhbJRZKk"
      },
      "source": [
        "### Máscara\n",
        "\n",
        "Para implementar essa função de custo é necessário usar uma imagem com a máscara. Essa máscara está no arquivo mask512.h5 e tem dimensão 512x512x3. Execute a célula abaixo para visualizar a máscara utilizada, já redimensionada para 64x64x3 pixels."
      ]
    },
    {
      "cell_type": "code",
      "metadata": {
        "id": "-OIBjgyFXqc-",
        "colab": {
          "base_uri": "https://localhost:8080/",
          "height": 285
        },
        "outputId": "a3c322c3-6905-4f48-def8-bd3f1c591fcc"
      },
      "source": [
        "mask0 = imread('mask512.jpg')\n",
        "mask0 = np.array(mask0)/255.\n",
        "mask = resize(mask0, (64, 64, 3), preserve_range=True)\n",
        "plt.imshow(mask)\n",
        "plt.show()"
      ],
      "execution_count": 23,
      "outputs": [
        {
          "output_type": "stream",
          "text": [
            "Clipping input data to the valid range for imshow with RGB data ([0..1] for floats or [0..255] for integers).\n"
          ],
          "name": "stderr"
        },
        {
          "output_type": "display_data",
          "data": {
            "image/png": "[encoded data removed]",
            "text/plain": [
              "<Figure size 432x288 with 1 Axes>"
            ]
          },
          "metadata": {
            "tags": [],
            "needs_background": "light"
          }
        }
      ]
    },
    {
      "cell_type": "markdown",
      "metadata": {
        "id": "l3dPAXUKRZKq"
      },
      "source": [
        "### Função de custo\n",
        "\n",
        "Como a RNA processa toda a imagem e não somente a região escondida pela máscara que se deseja reconstruir, então, a função de custo deve diferenciar a reconstrução da parte que contém a máscara (o triângulo que omite o nariz) das outras regiões da imagem. Para isso usa-se uma função de custo desenvolvida por Liu et al. (2018) na qual são  atribuídos pesos maiores para os pixels internos à máscara e pesos menores para os pixels fora da máscara. A função de custo $L_{total}$ é definida por:\n",
        "\n",
        "$$L_{total} = L_{valid} + 10L_{hole}$$\n",
        "\n",
        "onde,\n",
        "\n",
        "$$L_{hole} = \\frac {1}{N} \\sum_{i=1}^{N}(1 - m_i)|y_{orig(i)} - y_{prev(i)}|$$\n",
        "\n",
        "$$L_{valid} = \\frac {1}{N} \\sum_{i=1}^{N}(m_i)|y_{orig(i)} - y_{prev(i)}|$$\n",
        " \n",
        "onde $m_i$ é o valor do pixel $i$ da máscara, $y_{orig(i)}$ é o valor do pixel $i$ da imagem original sem a máscara, $y_{prev(i)}$ é o valor do pixel $i$ da imagem reconstruída pela rede e $N$ é o número total de pixels das imagens, que no caso é 64*64*3.\n",
        "\n",
        "Nota-se que na função $L_{hole}$ são considerados somente os pixels que estão dentro da região da máscara e na função $L_{valid}$ são considerados os pixels externos à máscara. Os pesos atribuídos para $L_{valid}$ e $L_{hole}$ na função de custo total $L_{total}$ foram determinados por meio de uma processo de otimização usando 100 imagens.\n",
        "\n",
        "**Referência:**\n",
        "Liu ewt al., Image Inpainting for Irregular Holes Using. Computer Vision Foundation.Liu, et al., 2018. (http://openaccess.thecvf.com/content_ECCV_2018/html/Guilin_Liu_Image_Inpainting_for_ECCV_2018_paper.html)"
      ]
    },
    {
      "cell_type": "markdown",
      "metadata": {
        "id": "iI1PtbQqRZKr"
      },
      "source": [
        "Execute a célula abaixo para definir as funções $L_{hole}$ e $L_{valid}$ para serem usadas na função de custo $L_{total}$.\n"
      ]
    },
    {
      "cell_type": "code",
      "metadata": {
        "id": "NV8mfGkCXqdC"
      },
      "source": [
        "# Função L1, usadas pelas funções L_hole e L_ valid para calcula o erro absoluto médio de dois tensores.\n",
        "\n",
        "import tensorflow.keras.backend as K\n",
        "\n",
        "def l1(y_true, y_pred):\n",
        "    \"\"\"Calculate the L1 loss used in loss calculations\"\"\"\n",
        "    return K.mean(K.abs(y_pred - y_true))\n",
        " \n",
        "# Função L_hole\n",
        "def loss_hole(mask, y_true, y_pred):\n",
        "    \"\"\"Pixel L1 loss within the mask\"\"\"\n",
        "    return l1((1-mask) * y_true, (1-mask) * y_pred)\n",
        "    \n",
        "# Função L_valid    \n",
        "def loss_valid(mask, y_true, y_pred):\n",
        "    \"\"\"Pixel L1 loss outside the mask\"\"\"\n",
        "    return l1(mask * y_true, mask * y_pred)"
      ],
      "execution_count": 24,
      "outputs": []
    },
    {
      "cell_type": "markdown",
      "metadata": {
        "id": "9YCD-AB5RZK0"
      },
      "source": [
        "### Exercício #3: Função de custo \n",
        "\n",
        "Usando as funções $L_{valid}$ e $L_{hole}$ complete a célula abaixo para implementar a função de custo $L{total}$ conforme as equações definidas acima.\n"
      ]
    },
    {
      "cell_type": "code",
      "metadata": {
        "id": "6EDvhncZXqdF"
      },
      "source": [
        "# PARA VOCÊ FAZER: Função de custo L_total\n",
        "\n",
        "def L_total(y_true, y_pred):\n",
        "    \"\"\"\n",
        "    Entradas:\n",
        "        y_true = saída desejada \n",
        "        y_pred = saída calculada pela rede\n",
        "        \n",
        "    Retorna:\n",
        "        Função de custo Ltotal\n",
        "    \"\"\"         \n",
        "    \n",
        "    # ler máscara e redimensiona para 64x64\n",
        "    # Inclua seu código aqui \n",
        "    #\n",
        "    Ltotal = loss_valid(mask, y_true, y_pred) + 10*loss_hole(mask, y_true, y_pred)\n",
        "    # Calcula componentes da função de custo e depois a função de custo total\n",
        "    # (use as funções definidas na célula de código anterior)\n",
        "    #\n",
        "    \n",
        "    # Retorna função de custo\n",
        "    return Ltotal"
      ],
      "execution_count": 27,
      "outputs": []
    },
    {
      "cell_type": "markdown",
      "metadata": {
        "id": "7lkSI0qHRZK6"
      },
      "source": [
        "Execute a célula abaixo para testar a sua função de custo $L_{total}$."
      ]
    },
    {
      "cell_type": "code",
      "metadata": {
        "id": "RrlP5DFhRZK7",
        "colab": {
          "base_uri": "https://localhost:8080/"
        },
        "outputId": "be5181ff-fee4-4211-f4cf-f3d4ea8f234a"
      },
      "source": [
        "# Define imagem de teste\n",
        "index = 0\n",
        "\n",
        "# Expande número de eixos para incluir 1o eixo dos exemplos\n",
        "yorig = np.expand_dims(y_train[index], axis=0)\n",
        "yprev = np.expand_dims(x_train[index], axis=0)\n",
        "\n",
        "# Calcula função de custo\n",
        "loss = L_total(yorig, yprev)\n",
        "\n",
        "# Abre sessão do TensorFlow para excutar a função L_total\n",
        "print('L_total = ', format(loss))"
      ],
      "execution_count": 28,
      "outputs": [
        {
          "output_type": "stream",
          "text": [
            "L_total =  0.2263141871348749\n"
          ],
          "name": "stdout"
        }
      ]
    },
    {
      "cell_type": "markdown",
      "metadata": {
        "id": "OFvPzZk0RZLB"
      },
      "source": [
        "**Saída esperada:**\n",
        "\n",
        "    L_total = 0.22633828"
      ]
    },
    {
      "cell_type": "markdown",
      "metadata": {
        "id": "Rljhwc6dRZLD"
      },
      "source": [
        "### Métrica\n",
        "\n",
        "A métrica adequada para esse problema é a relação sinal ruído, geralmente abreviada por PSNR, ver https://en.wikipedia.org/wiki/Peak_signal-to-noise_ratio. A PSNR define a relação entre o valor máximo de um sinal e o ruído presente no sinal, que afeta a sua fidelidade. \n",
        "\n",
        "PSNR é definida em termos da base logaritmica de decibel, sendo mais fácilmente entendida usando o erro quadrático médio (MSE), dado pela seguinte equação: \n",
        "\n",
        "$$MSE = \\frac {1}{N} \\sum_{i=1}^{N}[y_{orig(i)} - y_{prev(i)}]^{2}$$\n",
        "\n",
        "onde $y_{orig(i)}$ é o valor do pixel $i$ da imagem original, $y_{prev(i)}$ é o valor do pixel $i$ da imagem gerada pela rede e $N$ é o número total de pixels das imagens. Assim, o $MSE$ representa a média do erro quadrático entre os valores dos pixels das imagens original e gerada pela rede.\n",
        "\n",
        "Tendo o $MSE$ a $PSNR$ é definida por:\n",
        "\n",
        "$$PSNR = 10 .log_{10}({\\frac {max^2}{MSE}}) = 20 .log_{10}(max) - 10 .log_{10}(MSE)$$\n",
        "\n",
        "onde $max$ é o valor máximo que um pixel das imagens pode assumir. No caso as imagens estão normalizadas entre 0 e 1, ou seja, $max = 1$, mas como $log_{10}(1) = 0$, então, a equação acima é simplificada para:\n",
        "\n",
        "$$PSNR = -10.log_{10}(MSE)$$\n",
        "\n",
        "Note que se a imagem reconstruída for igual a imagem original, então, $PSNR = \\infty$, ou seja, quanto melhor for a imagem reconstruída maior o valor de PSNR."
      ]
    },
    {
      "cell_type": "markdown",
      "metadata": {
        "id": "5HHAw99uRZLD"
      },
      "source": [
        "### Exercício #4: Métrica PSNR \n",
        "\n",
        "A métrica PSNR não está disponível no Keras então temos que implementá-la. Assim, na célula abaixo crie a função que calcula essa métrica de acordo com a equação definida acima. Observe que uma métrica do Keras deve receber como parâmetros a saída desejada e a saída calculada pela rede. Para implementar facilmente essa métrica você pode usar as funções `square`, `mean` e `log` da classe backend do Keras. \n",
        "\n",
        "Observe que a função `log` do keras calcula o logaritmo na base $e$, assim, para calcular o logaritmo de um número $x$ na base 10, deve-se fazer a mudança de base usando a seguinte equação:\n",
        "\n",
        "$$log_{10}(x) = \\frac {log_e(x)} {log_e(10)}$$\n",
        "\n",
        "**Observação:**\n",
        "\n",
        "Note que o TensorFlow-Keras Backend foi importado como K. Isso significa que para usar as funções do Keras é necessário escrever `K.function(...)`."
      ]
    },
    {
      "cell_type": "code",
      "metadata": {
        "id": "eDUaxNQSXqdH"
      },
      "source": [
        "# PARA VOCÊ FAZER: Função da métrica PSNR\n",
        "\n",
        "def PSNR(y_true, y_pred):\n",
        "    \"\"\"\n",
        "    Entradas:\n",
        "        y_true = saída desejada \n",
        "        y_pred = saída calculada pela rede\n",
        "        \n",
        "    Retorna:\n",
        "        psrn\n",
        "    \"\"\"        \n",
        "    # Define uma constante igual a 10.0 do mesmo tipo dos tensores de entrada para poder calcular log(10)\n",
        "    tipo = y_true.dtype\n",
        "    dez = tf.constant(10.0, dtype=tipo) \n",
        "    # Cálculo de mse e psnr\n",
        "    # Inclua seu código aqui \n",
        "    #\n",
        "    mse = K.mean(K.square(y_pred - y_true))\n",
        "    log_mse = K.log(mse)\n",
        "    psnr = - dez * log_mse/K.log(dez)\n",
        "    return psnr"
      ],
      "execution_count": 29,
      "outputs": []
    },
    {
      "cell_type": "markdown",
      "metadata": {
        "id": "-_lRA56yRZLK"
      },
      "source": [
        "Execute a célula abaixo para testar a sua função PSNR."
      ]
    },
    {
      "cell_type": "code",
      "metadata": {
        "id": "c084v7-MRZLL",
        "colab": {
          "base_uri": "https://localhost:8080/"
        },
        "outputId": "eb837427-4ceb-42f8-e9d1-a3d23f988664"
      },
      "source": [
        "import tensorflow as tf\n",
        "\n",
        "# Define imagens\n",
        "index = 0\n",
        "\n",
        "# Expande eixos (1o eixo dos exemplos)\n",
        "yorig = np.expand_dims(y_train[index], axis=0)\n",
        "yprev = np.expand_dims(x_train[index], axis=0)\n",
        "\n",
        "# Calcula PSNR\n",
        "psnr = PSNR(yorig, yprev)\n",
        "\n",
        "# Abre sessão do TensorFlow para excutar a função PSNR\n",
        "print('PSNR = ', format(psnr))"
      ],
      "execution_count": 30,
      "outputs": [
        {
          "output_type": "stream",
          "text": [
            "PSNR =  18.41677174785432\n"
          ],
          "name": "stdout"
        }
      ]
    },
    {
      "cell_type": "markdown",
      "metadata": {
        "id": "rNY-eVFURZLR"
      },
      "source": [
        "**Saída esperada:**\n",
        "\n",
        "    PSNR = 18.41677\n",
        "    \n",
        "Veja o que acontece com o resultado da métrica PSNR se no lugar de `x_train[index]` você usar `y_train[index]`.    "
      ]
    },
    {
      "cell_type": "markdown",
      "metadata": {
        "id": "LgySUQ3KXqdK"
      },
      "source": [
        "## 5 - Compilação e treinamento da RNA\n",
        "\n",
        "### Exercício #5: Compilação e treinamento da RNA\n",
        "\n",
        "Agora você vai treinar a sua RNA usando o método de otimização ADAM. Assim, na célula abaixo, compile e treine a sua RNA usando os seguinte hiperparâmetros:\n",
        "\n",
        "- taxa de aprendizado = 0,001;\n",
        "- função de custo: L_total\n",
        "- métrica: PSNR\n",
        "- número de épocas = 50\n",
        "\n",
        "Essa operação deve demorar pleo menos 20 minutos."
      ]
    },
    {
      "cell_type": "code",
      "metadata": {
        "id": "O18wQQhDXqdK",
        "colab": {
          "base_uri": "https://localhost:8080/"
        },
        "outputId": "7690788c-d3f9-441f-8350-c8947d814f8b"
      },
      "source": [
        "# PARA VOCÊ FAZER: Compilação e treinamento da RNA\n",
        "\n",
        "# Importa classe dos otimizadores\n",
        "# Inclua seu código aqui \n",
        "#\n",
        "from tensorflow.keras.optimizers import Adam\n",
        "# Compilação da RNA\n",
        "# Inclua seu código aqui \n",
        "#\n",
        "opt = Adam(0.001)\n",
        "rna.compile(opt, loss=L_total, metrics=PSNR)\n",
        "# Treinamento da RNA\n",
        "# Inclua seu código aqui \n",
        "#\n",
        "history = rna.fit(x_train, y_train, epochs=50, batch_size=1, validation_data=(x_val, y_val))"
      ],
      "execution_count": 31,
      "outputs": [
        {
          "output_type": "stream",
          "text": [
            "Epoch 1/50\n",
            "   2/1200 [..............................] - ETA: 2:13 - loss: 0.0917 - PSNR: 27.0954WARNING:tensorflow:Callbacks method `on_train_batch_end` is slow compared to the batch time (batch time: 0.0301s vs `on_train_batch_end` time: 0.0586s). Check your callbacks.\n",
            "1200/1200 [==============================] - ETA: 0s - loss: 0.0471 - PSNR: 31.4463WARNING:tensorflow:Callbacks method `on_test_batch_end` is slow compared to the batch time (batch time: 0.0023s vs `on_test_batch_end` time: 0.0176s). Check your callbacks.\n",
            "1200/1200 [==============================] - 95s 79ms/step - loss: 0.0471 - PSNR: 31.4463 - val_loss: 0.0393 - val_PSNR: 32.7477\n",
            "Epoch 2/50\n",
            "1200/1200 [==============================] - 94s 78ms/step - loss: 0.0425 - PSNR: 32.2338 - val_loss: 0.0576 - val_PSNR: 28.9730\n",
            "Epoch 3/50\n",
            "1200/1200 [==============================] - 95s 79ms/step - loss: 0.0412 - PSNR: 32.3936 - val_loss: 0.0349 - val_PSNR: 33.8411\n",
            "Epoch 4/50\n",
            "1200/1200 [==============================] - 94s 78ms/step - loss: 0.0407 - PSNR: 32.4650 - val_loss: 0.0370 - val_PSNR: 33.3087\n",
            "Epoch 5/50\n",
            "1200/1200 [==============================] - 94s 78ms/step - loss: 0.0399 - PSNR: 32.5924 - val_loss: 0.0370 - val_PSNR: 33.4751\n",
            "Epoch 6/50\n",
            "1200/1200 [==============================] - 94s 78ms/step - loss: 0.0403 - PSNR: 32.4825 - val_loss: 0.0368 - val_PSNR: 33.3442\n",
            "Epoch 7/50\n",
            "1200/1200 [==============================] - 94s 78ms/step - loss: 0.0388 - PSNR: 32.7337 - val_loss: 0.0335 - val_PSNR: 34.1081\n",
            "Epoch 8/50\n",
            "1200/1200 [==============================] - 94s 79ms/step - loss: 0.0376 - PSNR: 33.0631 - val_loss: 0.0364 - val_PSNR: 33.3113\n",
            "Epoch 9/50\n",
            "1200/1200 [==============================] - 94s 78ms/step - loss: 0.0389 - PSNR: 32.6932 - val_loss: 0.0353 - val_PSNR: 33.7809\n",
            "Epoch 10/50\n",
            "1200/1200 [==============================] - 94s 79ms/step - loss: 0.0372 - PSNR: 33.0945 - val_loss: 0.0374 - val_PSNR: 33.1124\n",
            "Epoch 11/50\n",
            "1200/1200 [==============================] - 94s 79ms/step - loss: 0.0380 - PSNR: 32.8913 - val_loss: 0.0377 - val_PSNR: 32.7355\n",
            "Epoch 12/50\n",
            "1200/1200 [==============================] - 94s 78ms/step - loss: 0.0371 - PSNR: 33.1434 - val_loss: 0.0515 - val_PSNR: 29.4006\n",
            "Epoch 13/50\n",
            "1200/1200 [==============================] - 94s 79ms/step - loss: 0.0383 - PSNR: 32.7604 - val_loss: 0.0488 - val_PSNR: 30.4540\n",
            "Epoch 14/50\n",
            "1200/1200 [==============================] - 94s 78ms/step - loss: 0.0370 - PSNR: 33.0627 - val_loss: 0.0463 - val_PSNR: 31.2401\n",
            "Epoch 15/50\n",
            "1200/1200 [==============================] - 94s 78ms/step - loss: 0.0376 - PSNR: 32.8810 - val_loss: 0.0460 - val_PSNR: 30.8271\n",
            "Epoch 16/50\n",
            "1200/1200 [==============================] - 95s 79ms/step - loss: 0.0363 - PSNR: 33.2299 - val_loss: 0.0353 - val_PSNR: 33.8861\n",
            "Epoch 17/50\n",
            "1200/1200 [==============================] - 95s 79ms/step - loss: 0.0360 - PSNR: 33.3313 - val_loss: 0.0323 - val_PSNR: 34.6195\n",
            "Epoch 18/50\n",
            "1200/1200 [==============================] - 94s 79ms/step - loss: 0.0367 - PSNR: 33.1080 - val_loss: 0.0417 - val_PSNR: 31.9395\n",
            "Epoch 19/50\n",
            "1200/1200 [==============================] - 95s 79ms/step - loss: 0.0376 - PSNR: 32.8411 - val_loss: 0.0346 - val_PSNR: 33.9183\n",
            "Epoch 20/50\n",
            "1200/1200 [==============================] - 95s 79ms/step - loss: 0.0362 - PSNR: 33.1870 - val_loss: 0.0386 - val_PSNR: 32.8305\n",
            "Epoch 21/50\n",
            "1200/1200 [==============================] - 95s 79ms/step - loss: 0.0348 - PSNR: 33.5497 - val_loss: 0.0322 - val_PSNR: 34.6011\n",
            "Epoch 22/50\n",
            "1200/1200 [==============================] - 95s 79ms/step - loss: 0.0358 - PSNR: 33.2796 - val_loss: 0.0365 - val_PSNR: 33.4422\n",
            "Epoch 23/50\n",
            "1200/1200 [==============================] - 95s 79ms/step - loss: 0.0349 - PSNR: 33.5169 - val_loss: 0.0348 - val_PSNR: 33.9957\n",
            "Epoch 24/50\n",
            "1200/1200 [==============================] - 94s 78ms/step - loss: 0.0354 - PSNR: 33.4168 - val_loss: 0.0608 - val_PSNR: 28.0754\n",
            "Epoch 25/50\n",
            "1200/1200 [==============================] - 94s 79ms/step - loss: 0.0353 - PSNR: 33.4437 - val_loss: 0.0400 - val_PSNR: 32.2410\n",
            "Epoch 26/50\n",
            "1200/1200 [==============================] - 94s 79ms/step - loss: 0.0350 - PSNR: 33.4432 - val_loss: 0.0372 - val_PSNR: 33.1310\n",
            "Epoch 27/50\n",
            "1200/1200 [==============================] - 94s 79ms/step - loss: 0.0351 - PSNR: 33.4274 - val_loss: 0.0413 - val_PSNR: 32.4486\n",
            "Epoch 28/50\n",
            "1200/1200 [==============================] - 94s 78ms/step - loss: 0.0346 - PSNR: 33.5702 - val_loss: 0.0429 - val_PSNR: 31.6043\n",
            "Epoch 29/50\n",
            "1200/1200 [==============================] - 94s 79ms/step - loss: 0.0347 - PSNR: 33.5541 - val_loss: 0.0378 - val_PSNR: 32.7916\n",
            "Epoch 30/50\n",
            "1200/1200 [==============================] - 94s 79ms/step - loss: 0.0357 - PSNR: 33.2310 - val_loss: 0.0367 - val_PSNR: 33.2147\n",
            "Epoch 31/50\n",
            "1200/1200 [==============================] - 94s 79ms/step - loss: 0.0337 - PSNR: 33.8368 - val_loss: 0.0337 - val_PSNR: 33.9747\n",
            "Epoch 32/50\n",
            "1200/1200 [==============================] - 94s 78ms/step - loss: 0.0338 - PSNR: 33.7925 - val_loss: 0.0378 - val_PSNR: 32.9651\n",
            "Epoch 33/50\n",
            "1200/1200 [==============================] - 94s 79ms/step - loss: 0.0358 - PSNR: 33.1997 - val_loss: 0.0434 - val_PSNR: 31.5528\n",
            "Epoch 34/50\n",
            "1200/1200 [==============================] - 94s 78ms/step - loss: 0.0334 - PSNR: 33.8506 - val_loss: 0.0476 - val_PSNR: 30.5261\n",
            "Epoch 35/50\n",
            "1200/1200 [==============================] - 94s 79ms/step - loss: 0.0345 - PSNR: 33.5331 - val_loss: 0.0333 - val_PSNR: 34.1236\n",
            "Epoch 36/50\n",
            "1200/1200 [==============================] - 94s 79ms/step - loss: 0.0345 - PSNR: 33.5492 - val_loss: 0.0308 - val_PSNR: 35.0449\n",
            "Epoch 37/50\n",
            "1200/1200 [==============================] - 95s 79ms/step - loss: 0.0340 - PSNR: 33.6900 - val_loss: 0.0354 - val_PSNR: 33.3660\n",
            "Epoch 38/50\n",
            "1200/1200 [==============================] - 94s 79ms/step - loss: 0.0327 - PSNR: 34.0450 - val_loss: 0.0351 - val_PSNR: 33.7904\n",
            "Epoch 39/50\n",
            "1200/1200 [==============================] - 94s 79ms/step - loss: 0.0339 - PSNR: 33.6683 - val_loss: 0.0310 - val_PSNR: 34.9440\n",
            "Epoch 40/50\n",
            "1200/1200 [==============================] - 94s 79ms/step - loss: 0.0335 - PSNR: 33.8131 - val_loss: 0.0367 - val_PSNR: 33.3490\n",
            "Epoch 41/50\n",
            "1200/1200 [==============================] - 94s 79ms/step - loss: 0.0338 - PSNR: 33.6796 - val_loss: 0.0316 - val_PSNR: 34.7204\n",
            "Epoch 42/50\n",
            "1200/1200 [==============================] - 94s 79ms/step - loss: 0.0344 - PSNR: 33.5845 - val_loss: 0.0346 - val_PSNR: 33.8374\n",
            "Epoch 43/50\n",
            "1200/1200 [==============================] - 94s 79ms/step - loss: 0.0329 - PSNR: 33.9695 - val_loss: 0.0591 - val_PSNR: 28.0645\n",
            "Epoch 44/50\n",
            "1200/1200 [==============================] - 94s 79ms/step - loss: 0.0337 - PSNR: 33.7510 - val_loss: 0.0450 - val_PSNR: 30.6531\n",
            "Epoch 45/50\n",
            "1200/1200 [==============================] - 94s 79ms/step - loss: 0.0341 - PSNR: 33.6172 - val_loss: 0.0455 - val_PSNR: 31.5434\n",
            "Epoch 46/50\n",
            "1200/1200 [==============================] - 94s 79ms/step - loss: 0.0331 - PSNR: 33.9512 - val_loss: 0.0534 - val_PSNR: 29.5085\n",
            "Epoch 47/50\n",
            "1200/1200 [==============================] - 94s 79ms/step - loss: 0.0335 - PSNR: 33.7311 - val_loss: 0.0470 - val_PSNR: 31.1289\n",
            "Epoch 48/50\n",
            "1200/1200 [==============================] - 95s 79ms/step - loss: 0.0341 - PSNR: 33.5894 - val_loss: 0.0334 - val_PSNR: 34.2327\n",
            "Epoch 49/50\n",
            "1200/1200 [==============================] - 95s 79ms/step - loss: 0.0338 - PSNR: 33.6823 - val_loss: 0.0575 - val_PSNR: 27.9645\n",
            "Epoch 50/50\n",
            "1200/1200 [==============================] - 94s 78ms/step - loss: 0.0347 - PSNR: 33.4256 - val_loss: 0.0424 - val_PSNR: 31.6989\n"
          ],
          "name": "stdout"
        }
      ]
    },
    {
      "cell_type": "markdown",
      "metadata": {
        "id": "8-wIB0-xRZLY"
      },
      "source": [
        "**Saída esperada:**\n",
        "\n",
        "    Train on 1200 samples, validate on 300 samples\n",
        "    Epoch 1/50\n",
        "    1200/1200 [==============================] - 22s 18ms/sample - loss: 363.4275 - PSNR: 6.1513 - val_loss: 0.2705 - val_PSNR: 12.4118\n",
        "    .\n",
        "    .\n",
        "    .\n",
        "    Epoch 50/50\n",
        "    1200/1200 [==============================] - 12s 10ms/sample - loss: 0.0392 - PSNR: 31.4102 - val_loss: 0.0457 - val_PSNR: 30.2404"
      ]
    },
    {
      "cell_type": "markdown",
      "metadata": {
        "id": "Ti3e8GaIXqdN"
      },
      "source": [
        "## 6 - Resultados\n",
        "\n",
        "Execute as células abaixo para visualizar os valores da função de custo e da métrica durante o treinamento."
      ]
    },
    {
      "cell_type": "code",
      "metadata": {
        "id": "6CKdUrjCXqdO",
        "colab": {
          "base_uri": "https://localhost:8080/"
        },
        "outputId": "27e67064-53fd-4c70-ceb9-ed6fc7f97d52"
      },
      "source": [
        "# Verificação das variáveis salvas no processo de treinamento\n",
        "history_dict = history.history\n",
        "history_dict.keys()"
      ],
      "execution_count": 32,
      "outputs": [
        {
          "output_type": "execute_result",
          "data": {
            "text/plain": [
              "dict_keys(['loss', 'PSNR', 'val_loss', 'val_PSNR'])"
            ]
          },
          "metadata": {
            "tags": []
          },
          "execution_count": 32
        }
      ]
    },
    {
      "cell_type": "code",
      "metadata": {
        "id": "9-5q1lYFXqdQ",
        "colab": {
          "base_uri": "https://localhost:8080/",
          "height": 577
        },
        "outputId": "6b249f39-2f1a-4134-9b28-3e97f2c92b7d"
      },
      "source": [
        "# Salva custos, métricas e epocas em vetores \n",
        "custo = history_dict['loss']\n",
        "acc = history_dict['PSNR']\n",
        "val_custo = history_dict['val_loss']\n",
        "val_acc = history_dict['val_PSNR']\n",
        "\n",
        "# Cria vetor de épocas\n",
        "epocas = range(1, len(custo) + 1)\n",
        "\n",
        "# Gráfico dos valores de custo\n",
        "plt.plot(epocas, custo, 'bo', label='Custo - treinamento')\n",
        "plt.plot(epocas, val_custo, 'b', label='Custo - validação')\n",
        "plt.title('Valor da função de custo – treinamento e validação')\n",
        "plt.xlabel('Épocas')\n",
        "plt.ylabel('Custo')\n",
        "plt.legend()\n",
        "plt.show()\n",
        "\n",
        "# Gráfico dos valores da métrica\n",
        "plt.plot(epocas, acc, 'bo', label='PSNR- treinamento')\n",
        "plt.plot(epocas, val_acc, 'b', label='SNR - validação')\n",
        "plt.title('Valor da métrica – treinamento e validação')\n",
        "plt.xlabel('Épocas')\n",
        "plt.ylabel('Exatidao')\n",
        "plt.legend()\n",
        "plt.show()"
      ],
      "execution_count": 33,
      "outputs": [
        {
          "output_type": "display_data",
          "data": {
            "image/png": "[encoded data removed]",
            "text/plain": [
              "<Figure size 432x288 with 1 Axes>"
            ]
          },
          "metadata": {
            "tags": [],
            "needs_background": "light"
          }
        },
        {
          "output_type": "display_data",
          "data": {
            "image/png": "[encoded data removed]",
            "text/plain": [
              "<Figure size 432x288 with 1 Axes>"
            ]
          },
          "metadata": {
            "tags": [],
            "needs_background": "light"
          }
        }
      ]
    },
    {
      "cell_type": "markdown",
      "metadata": {
        "id": "KdSyZFoKRZLi"
      },
      "source": [
        "### Exercício #6: Resumo dos resultados\n",
        "\n",
        "Usando o método evaluate, na célula abaixo calcule o valor da função de custo e da métrica para os dados de treinamento, validação e teste."
      ]
    },
    {
      "cell_type": "code",
      "metadata": {
        "id": "9Jl3I9m_XqdT",
        "colab": {
          "base_uri": "https://localhost:8080/"
        },
        "outputId": "eb41f3a6-3d46-4aa7-cb5d-b4dc4b2981e4"
      },
      "source": [
        "# PARA VOCÊ FAZER: Calcular resultados finais da função de custo e métrica após treinamento\n",
        "\n",
        "# Avaliação do custo e métrica para os dados de treinamento, valdação e teste\n",
        "# Inclua seu código aqui \n",
        "#\n",
        "custo_e_metricas_train = rna.evaluate(x_train, y_train, batch_size=1)\n",
        "custo_e_metricas_val = rna.evaluate(x_val, y_val, batch_size=1)\n",
        "custo_e_metricas_test = rna.evaluate(x_test, y_test, batch_size=1)\n",
        "print('Resultados - dados treinamento:', custo_e_metricas_train)\n",
        "print('Resultados - dados validação:', custo_e_metricas_val)\n",
        "print('Resultados - dados teste:', custo_e_metricas_test)"
      ],
      "execution_count": 34,
      "outputs": [
        {
          "output_type": "stream",
          "text": [
            "   1/1200 [..............................] - ETA: 18s - loss: 0.0292 - PSNR: 33.5461WARNING:tensorflow:Callbacks method `on_test_batch_end` is slow compared to the batch time (batch time: 0.0045s vs `on_test_batch_end` time: 0.0167s). Check your callbacks.\n",
            "1200/1200 [==============================] - 27s 23ms/step - loss: 0.0376 - PSNR: 32.4153\n",
            "  1/300 [..............................] - ETA: 4s - loss: 0.0428 - PSNR: 31.7876WARNING:tensorflow:Callbacks method `on_test_batch_end` is slow compared to the batch time (batch time: 0.0029s vs `on_test_batch_end` time: 0.0162s). Check your callbacks.\n",
            "300/300 [==============================] - 7s 23ms/step - loss: 0.0424 - PSNR: 31.6989\n",
            "  1/300 [..............................] - ETA: 4s - loss: 0.0353 - PSNR: 31.8382WARNING:tensorflow:Callbacks method `on_test_batch_end` is slow compared to the batch time (batch time: 0.0042s vs `on_test_batch_end` time: 0.0161s). Check your callbacks.\n",
            "300/300 [==============================] - 7s 23ms/step - loss: 0.0422 - PSNR: 31.7623\n",
            "Resultados - dados treinamento: [0.03759576007723808, 32.415340423583984]\n",
            "Resultados - dados validação: [0.042420677840709686, 31.698938369750977]\n",
            "Resultados - dados teste: [0.04219052940607071, 31.76229476928711]\n"
          ],
          "name": "stdout"
        }
      ]
    },
    {
      "cell_type": "markdown",
      "metadata": {
        "id": "PP_3Zdo5RZLn"
      },
      "source": [
        "**Saída esperada:**\n",
        "\n",
        "    1200/1200 [==============================] - 4s 3ms/sample - loss: 0.0425 - PSNR: 30.7296\n",
        "    300/300 [==============================] - 1s 3ms/sample - loss: 0.0457 - PSNR: 30.2404\n",
        "    300/300 [==============================] - 1s 3ms/sample - loss: 0.0455 - PSNR: 30.3217\n",
        "    Resultados - dados treinamento: [0.04251373956600825, 30.729645]\n",
        "    Resultados - dados validação: [0.04573282207051913, 30.240355]\n",
        "    Resultados - dados teste: [0.04573282207051913, 30.240355]"
      ]
    },
    {
      "cell_type": "markdown",
      "metadata": {
        "id": "xiLUAtSgXqdX"
      },
      "source": [
        "### Visualização do resultado de um exemplo do conjunto de teste\n",
        "\n",
        "Execute a célula abaixo para visualizar as imagens original e a reconstruída de um exemplo do conjunto de teste. Troque o valor da variável `index` para visualizar vários exemplos."
      ]
    },
    {
      "cell_type": "code",
      "metadata": {
        "id": "QsAxBTe5XqdX",
        "colab": {
          "base_uri": "https://localhost:8080/",
          "height": 343
        },
        "outputId": "7a5774be-c44f-4e87-e397-c0380de392d4"
      },
      "source": [
        "# Mostra o resultado de uma imagem\n",
        "\n",
        "# Escolhe imagem e expande o número de eixos\n",
        "index = 0\n",
        "xindex = np.expand_dims(x_test[index], axis=0)\n",
        "\n",
        "# Calcula imagem reconstruída pela RNA\n",
        "y_pred = rna.predict(xindex)\n",
        "\n",
        "# Mostra imagens \n",
        "f, pos = plt.subplots(1, 3, figsize=(16, 16))\n",
        "pos[0].imshow(x_test[index])\n",
        "pos[0].set_title('Imagem de entrada')\n",
        "pos[1].imshow(y_pred[0])\n",
        "pos[1].set_title('Imagem recostruida')\n",
        "pos[2].imshow(y_test[index])\n",
        "pos[2].set_title('Imagem original')\n",
        "plt.show()"
      ],
      "execution_count": 35,
      "outputs": [
        {
          "output_type": "stream",
          "text": [
            "Clipping input data to the valid range for imshow with RGB data ([0..1] for floats or [0..255] for integers).\n"
          ],
          "name": "stderr"
        },
        {
          "output_type": "display_data",
          "data": {
            "image/png": "[encoded data removed]",
            "text/plain": [
              "<Figure size 1152x1152 with 3 Axes>"
            ]
          },
          "metadata": {
            "tags": [],
            "needs_background": "light"
          }
        }
      ]
    },
    {
      "cell_type": "code",
      "metadata": {
        "id": "ymUwry17eKX9"
      },
      "source": [
        ""
      ],
      "execution_count": null,
      "outputs": []
    }
  ]
}