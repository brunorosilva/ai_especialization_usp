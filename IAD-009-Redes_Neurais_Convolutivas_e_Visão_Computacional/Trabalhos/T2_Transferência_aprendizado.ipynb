{
 "cells": [
  {
   "cell_type": "markdown",
   "metadata": {
    "id": "xuORAAidiBXW"
   },
   "source": [
    "# Trabalho #2 - Transferência de Aprendizado\n",
    "\n",
    "Nesse trabalho você vai utilizar uma RNA pré-treinada para realizar uma tarefa de classificação de múltiplas classes. A tarefa é determinar o tipo de objeto mostrado em imagens dentro de 10 classes possíveis. A rede pré-treinada que iremos utilizar é a VGG16 que está disponível no Keras."
   ]
  },
  {
   "cell_type": "markdown",
   "metadata": {
    "id": "iMr11K4liBXY"
   },
   "source": [
    "## Coloque o seu nome aqui\n",
    "\n",
    "Nome:\n"
   ]
  },
  {
   "cell_type": "markdown",
   "metadata": {
    "id": "o-eTKNG5iBXZ"
   },
   "source": [
    "Em primeiro lugar é necessário importar alguns pacotes do Python que serão usados ao longo nesse trabalho:\n",
    "- numpy pacote de cálculo científico com Python\n",
    "- matplotlib biblioteca para gerar gráficos em Python\n",
    "- TensorFlow"
   ]
  },
  {
   "cell_type": "code",
   "execution_count": 1,
   "metadata": {
    "id": "3lSPnvN0iBXa"
   },
   "outputs": [],
   "source": [
    "import numpy as np\n",
    "import matplotlib.pyplot as plt\n",
    "import tensorflow as tf"
   ]
  },
  {
   "cell_type": "markdown",
   "metadata": {
    "collapsed": true,
    "id": "vfpqy67PiBXf"
   },
   "source": [
    "## 1 - Visão geral do problema ##\n",
    "\n",
    "Nesse trabalho iremos usar o conjunto dados CIFAR-10. Esses dados consistem de um subconjunto de uma coleção de 80 milhões de imagens pequenas obtidas por Alex Krizhevsky, Vinod Nair e Geoffrey Hinton, disponível em https://www.cs.toronto.edu/~kriz/cifar.html.\n",
    "\n",
    "O conjunto de dados CIFAR-10 consiste de 60.000 imagens coloridas com dimensão 32x32 divididas em 10 classes. Existem 50.000 imagens de treinamento e 10.000 imagens de teste.\n",
    "\n",
    "As classes de objetos presentes nas imagens são as seguintes:\n",
    "\n",
    "0. Avião\t\t\t\t\t\t\t\t\t\t\n",
    "1. Automóvel\n",
    "2. Pássaro\n",
    "3. Gato\n",
    "4. Veado\n",
    "5. Cachorro\n",
    "6. Rã\n",
    "7. cavalo\n",
    "8. Navio\n",
    "9. Caminhão\n",
    "\n",
    "Não existe nenhuma imagem que contém objetos de mais de uma classe. Não há sobreposição entre automóveis e caminhões. \"Automóvel\" inclui sedans, SUVs etc. \"Caminhão\" inclui apenas caminhões grandes, não inclui picapes.\n",
    "\n",
    "Assim, o objetivo desse problema é desenvolver um RNA que receba como entrada uma imagem e calcula a probabilidade de mostrar um determinado objeto das 10 classes possíveis. \n",
    "\n",
    "\n",
    "<img src=\"Cifar.png\" style=\"width:600px;height:400px;\">"
   ]
  },
  {
   "cell_type": "markdown",
   "metadata": {
    "id": "W9200vBviBXg"
   },
   "source": [
    "## 2 - Dados de treinamento\n",
    "\n",
    "O conjunto de dados CIFAR1-10 pode ser carregado diretamente do Keras. Os comandos para carregar esse cpnkutno de dadopode ser visto no link https://www.tensorflow.org/api_docs/python/tf/keras/datasets/cifar10/load_data.\n",
    "\n",
    "Características dos dados:\n",
    "\n",
    "- As imagens são coloridas e estão no padrão RGB;\n",
    "- Cada imagem tem dimensão de 32x32x3;\n",
    "- O valor da intensidade luminosa de cada plano de cor é um número inteiro entre 0 e 255;\n",
    "- As saídas representam o rótulo o objaeto mostrado na imagem, sendo um número inteiro de 0 a 9. \n",
    "\n",
    "\n",
    "\n",
    "### 2.1 - Leitura dos dados\n",
    "\n",
    "Para iniciar o trabalho é necessário ler o arquivo de dados. Assim, execute o código da célula abaixo para ler o arquivo de dados."
   ]
  },
  {
   "cell_type": "code",
   "execution_count": 2,
   "metadata": {
    "colab": {
     "base_uri": "https://localhost:8080/"
    },
    "id": "d3lFM4VTiBXg",
    "outputId": "17fedf45-2cd5-4e3d-93f6-461d74094032"
   },
   "outputs": [
    {
     "name": "stdout",
     "output_type": "stream",
     "text": [
      "Dimensão x_train_orig: (50000, 32, 32, 3) Dimensão y_train_orig: (50000, 1)\n",
      "Dimensão x_test_orig: (10000, 32, 32, 3) Dimensão y_test: (10000, 1)\n"
     ]
    }
   ],
   "source": [
    "# Leitura do arquivo de dados\n",
    "(x_train_orig, y_train_orig), (x_test_orig, y_test_orig) = tf.keras.datasets.cifar10.load_data()\n",
    "\n",
    "print(\"Dimensão x_train_orig:\", x_train_orig.shape, \"Dimensão y_train_orig:\", y_train_orig.shape)\n",
    "print(\"Dimensão x_test_orig:\", x_test_orig.shape, \"Dimensão y_test:\", y_test_orig.shape)"
   ]
  },
  {
   "cell_type": "markdown",
   "metadata": {
    "id": "MGlIRrH2iBXk"
   },
   "source": [
    "Pela dimensão dos tensores com os dados de treinamento e teste temos:\n",
    "\n",
    "- 50.000 imagens de treinamento com dimensão de 32x32x3 pixels;\n",
    "- 10.000 imagens de teste com dimensão de 32x32x3 pixels."
   ]
  },
  {
   "cell_type": "markdown",
   "metadata": {
    "id": "dYReUkoTiBXl"
   },
   "source": [
    "Execute a célula a seguir para visualizar um exemplo de uma imagem do banco de dados juntamente com a sua classe. Altere o valor da variável 'index' e execute a célula novamente para visualizar mais exemplos diferentes."
   ]
  },
  {
   "cell_type": "code",
   "execution_count": 3,
   "metadata": {
    "colab": {
     "base_uri": "https://localhost:8080/",
     "height": 283
    },
    "id": "B-m2-DupiBXl",
    "outputId": "ccc37c9b-1f2e-486e-8430-502a70537c85"
   },
   "outputs": [
    {
     "name": "stdout",
     "output_type": "stream",
     "text": [
      "y = 6\n"
     ]
    },
    {
     "data": {
      "image/png": "[encoded data removed]",
      "text/plain": [
       "<Figure size 432x288 with 1 Axes>"
      ]
     },
     "metadata": {
      "needs_background": "light",
      "tags": []
     },
     "output_type": "display_data"
    }
   ],
   "source": [
    "# Examplo de uma imagem\n",
    "index = 0\n",
    "plt.imshow(x_train_orig[index])\n",
    "print (\"y = \" + str(np.squeeze(y_train_orig[index])))"
   ]
  },
  {
   "cell_type": "markdown",
   "metadata": {
    "id": "rlpnucF7iBXq"
   },
   "source": [
    "### 2.2 - Processamento dos dados\n",
    "\n",
    "Para os dados poderem ser usados para o desenvolvimento da RNA devemos primeiramente processá-los.\n",
    "\n",
    "Para isso devemos realizar as seguintes etapas:\n",
    "\n",
    "- Dividir os dados de treinamento nos conjuntos de treinamento e validação;\n",
    "- Os valores dos pixels em uma imagem é um número inteiro que deve ser transformado em número real para ser usado em cálculos;\n",
    "- Normalizar as imagens de forma que os valores dos pixels fique entre 0 e 1."
   ]
  },
  {
   "cell_type": "markdown",
   "metadata": {
    "id": "DtaejkgyiBXq"
   },
   "source": [
    "### Exercício #1: Divisão do conjunto de dados de treinamento\n",
    "\n",
    "Como o conjunto de imagens é muito grande e demoraria muito tempo para treinar com todos esses dados, nesse trabalho usaremos somente metade dos dados. Assim, crie na célula abaixo um código para:\n",
    "\n",
    "1. Dividir o conjunto de dados de treinamento nos conjuntos de treinamento e validação. Nessa divisão pegue os primeiros 30.000 exemplos para o conjunto de treinamento e os próximos 6.000 para o conjunto de validação.\n",
    "\n",
    "2. Selecione os primeiros 6.000 exemplos do conjunto de teste para formar o novo conjunto de teste.\n",
    "\n",
    "3. Não se esqueça de fazer a mesma selação para as saídas."
   ]
  },
  {
   "cell_type": "code",
   "execution_count": 4,
   "metadata": {
    "colab": {
     "base_uri": "https://localhost:8080/"
    },
    "id": "aHhrL1x_iBXr",
    "outputId": "409193f8-eec9-4f06-86af-a2bce5fb5db3"
   },
   "outputs": [
    {
     "name": "stdout",
     "output_type": "stream",
     "text": [
      "Dimensão do tensor de dados de entrada de treinamento = (30000, 32, 32, 3)\n",
      "Dimensão do tensor de dados de entrada de validação = (6000, 32, 32, 3)\n",
      "Dimensão do tensor de dados de entrada de teste = (6000, 32, 32, 3)\n",
      "Dimensão do tensor de dados de saída de treinamento = (30000, 1)\n",
      "Dimensão do tensor de dados de saída de validação = (6000, 1)\n",
      "Dimensão do tensor de dados de saída de teste = (6000, 1)\n"
     ]
    }
   ],
   "source": [
    "# PARA VOCÊ FAZER: divisão do conjunto de dados de treinamento\n",
    "\n",
    "# Dados de entrada\n",
    "# Inclua seu código aqui\n",
    "#\n",
    "\n",
    "# Dados de saída\n",
    "# Inclua seu código aqui\n",
    "#\n",
    "\n",
    "print(\"Dimensão do tensor de dados de entrada de treinamento =\", x_train.shape)\n",
    "print(\"Dimensão do tensor de dados de entrada de validação =\", x_val.shape)\n",
    "print(\"Dimensão do tensor de dados de entrada de teste =\", x_test.shape)\n",
    "print(\"Dimensão do tensor de dados de saída de treinamento =\", y_train.shape)\n",
    "print(\"Dimensão do tensor de dados de saída de validação =\", y_val.shape)\n",
    "print(\"Dimensão do tensor de dados de saída de teste =\", y_test.shape)"
   ]
  },
  {
   "cell_type": "markdown",
   "metadata": {
    "id": "RQUi25Bgc5uI"
   },
   "source": [
    "**Saída desejada:**\n",
    "\n",
    "    Dimensão do tensor de dados de entrada de treinamento = (30000, 32, 32, 3)\n",
    "    Dimensão do tensor de dados de entrada de validação = (6000, 32, 32, 3)\n",
    "    Dimensão do tensor de dados de entrada de teste = (6000, 32, 32, 3)\n",
    "    Dimensão do tensor de dados de saída de treinamento = (30000, 1)\n",
    "    Dimensão do tensor de dados de saída de validação = (6000, 1)\n",
    "    Dimensão do tensor de dados de saída de teste = (6000, 1)"
   ]
  },
  {
   "cell_type": "markdown",
   "metadata": {
    "id": "WhV78rnXiBXt"
   },
   "source": [
    "### Exercício #2: Normalização dos dados de entrada\n",
    "\n",
    "na célula abaixo normalize e transforme as imagens em números reais dividindo por 255."
   ]
  },
  {
   "cell_type": "code",
   "execution_count": 5,
   "metadata": {
    "colab": {
     "base_uri": "https://localhost:8080/"
    },
    "id": "WukA0wO1iBXu",
    "outputId": "23f4a18b-301f-42e2-9e37-927120c0e12b"
   },
   "outputs": [
    {
     "name": "stdout",
     "output_type": "stream",
     "text": [
      "Dimensão das imagens de entrada= (32, 32, 3)\n",
      "Alguns elementos de x_train: [0.23137255 0.24313726 0.24705882]\n",
      "Alguns elementos de y_val: [0.69803923 0.6901961  0.7411765 ]\n",
      "Alguns elementos de x_test: [0.61960787 0.4392157  0.19215687]\n"
     ]
    }
   ],
   "source": [
    "# PARA VOCÊ FAZER: normalização dos dados de entrada\n",
    "\n",
    "# Guarda dimensão das imagens\n",
    "image_dim = x_train.shape[1:4]\n",
    "print(\"Dimensão das imagens de entrada=\", image_dim)\n",
    "\n",
    "# Transformação dos dados em números reais\n",
    "# Inclua seu código aqui\n",
    "#\n",
    "\n",
    "# Apresentação de alguns resultados para verificação\n",
    "print('Alguns elementos de x_train:', x_train[0,0,0,:])\n",
    "print('Alguns elementos de y_val:', x_val[0,0,0,:])\n",
    "print('Alguns elementos de x_test:', x_test[0,0,0,:])"
   ]
  },
  {
   "cell_type": "markdown",
   "metadata": {
    "id": "JC8ddMEPc5uO"
   },
   "source": [
    "**Saída esperada:**\n",
    "\n",
    "    Dimensão das imagens de entrada= (32, 32, 3)\n",
    "    Alguns elementos de x_train: [0.23137255 0.24313726 0.24705882]\n",
    "    Alguns elementos de y_val: [0.69803923 0.6901961  0.7411765 ]\n",
    "    Alguns elementos de x_test: [0.61960787 0.4392157  0.19215687]"
   ]
  },
  {
   "cell_type": "markdown",
   "metadata": {
    "id": "sPahOgXdiBXw"
   },
   "source": [
    "### Exercício #3: Codificação das classes\n",
    "\n",
    "As classes dos sobjetos são identificadas por um número inteiro que varia de 0 a 9. Porém, a saída esperada de uma RNA para um problema de classificação de múltiplas classes é um vetor de dimensão igual ao número de classes, que no caso são 10 classes. Cada elemento desse vetor representa a probabilidade da imagem ser um sinal. Assim, devemos transformar as saídas reais do conjunto de dados em um vetor linha de 10elementos, com todos os elementos iguais a zero a menos do correspondente ao da classe do sinal, que deve ser igual a um.\n",
    "\n",
    "Como já visto, a função que realiza essa transformação é conhecida na literatura de `one-hot-encoding`, que no Keras é chamada de `to_categorical`. Na célula abaixo realize essa transfromação."
   ]
  },
  {
   "cell_type": "code",
   "execution_count": 6,
   "metadata": {
    "colab": {
     "base_uri": "https://localhost:8080/"
    },
    "id": "v352dzMAiBXx",
    "outputId": "c55cbd0f-864d-4ac7-81c6-51be0afcf86a"
   },
   "outputs": [
    {
     "name": "stdout",
     "output_type": "stream",
     "text": [
      "Dimensão dos dados de saída do conjunto de treinamento:  (30000, 10)\n",
      "Dimensão dos dados de saída do conjunto de validação:  (6000, 10)\n",
      "Dimensão dos dados de saída do conjunto de teste:  (6000, 10)\n"
     ]
    }
   ],
   "source": [
    "# PARA VOCÊ FAZER: codificação das classes\n",
    "\n",
    "# Importa classe de utilidades do Keras\n",
    "# Inclua seu código aqui\n",
    "#\n",
    "\n",
    "# Transformação das classes de números reais para vetores\n",
    "# Inclua seu código aqui\n",
    "#\n",
    "\n",
    "print('Dimensão dos dados de saída do conjunto de treinamento: ', y_train_hot.shape)\n",
    "print('Dimensão dos dados de saída do conjunto de validação: ', y_val_hot.shape)\n",
    "print('Dimensão dos dados de saída do conjunto de teste: ', y_test_hot.shape)"
   ]
  },
  {
   "cell_type": "markdown",
   "metadata": {
    "id": "66YdHEgic5uS"
   },
   "source": [
    "**Saída esperada:**\n",
    "\n",
    "    Dimensão dos dados de saída do conjunto de treinamento:  (30000, 10)\n",
    "    Dimensão dos dados de saída do conjunto de validação:  (6000, 10)\n",
    "    Dimensão dos dados de saída do conjunto de teste:  (6000, 10)"
   ]
  },
  {
   "cell_type": "markdown",
   "metadata": {
    "id": "FgA1rDafiBX0"
   },
   "source": [
    "**Visualização da entrada e saída correspondente**\n",
    "\n",
    "Execute a célula abaixo para verificar se o programa realizou de fato o que era esperado. No código abaixo index é o número sequencial da imagem. Tente trocar a imagem, mudando o index, usando valores entre 0 e 959, para visualizar outros exemplos."
   ]
  },
  {
   "cell_type": "code",
   "execution_count": 7,
   "metadata": {
    "colab": {
     "base_uri": "https://localhost:8080/",
     "height": 283
    },
    "id": "_HAajPcAiBX0",
    "outputId": "19504dba-e9ec-470b-d26b-4be8ea98e760"
   },
   "outputs": [
    {
     "name": "stdout",
     "output_type": "stream",
     "text": [
      "Classe numérica:  [7] , Vetor de saída correspondentes:  [0. 0. 0. 0. 0. 0. 0. 1. 0. 0.]\n"
     ]
    },
    {
     "data": {
      "image/png": "[encoded data removed]",
      "text/plain": [
       "<Figure size 432x288 with 1 Axes>"
      ]
     },
     "metadata": {
      "needs_background": "light",
      "tags": []
     },
     "output_type": "display_data"
    }
   ],
   "source": [
    "# Exemplo de saída\n",
    "index = 11\n",
    "print(\"Classe numérica: \", y_train[index], \", Vetor de saída correspondentes: \", y_train_hot[index])\n",
    "plt.imshow(x_train_orig[index])\n",
    "plt.show()"
   ]
  },
  {
   "cell_type": "markdown",
   "metadata": {
    "id": "ZvZXduH0iBX3"
   },
   "source": [
    "## 3 - RNA convolucional base\n",
    "\n",
    "Nesse trabalho você irá usar uma RNA convolucional já treinada como base para criar outra RNA para realizar uma tarefa diferente da que a RNA base foi treinada. A RNA que será usada como base é a VGG16 vista em aula (Simonyan & Zisserman, Very deep convolutional networks for large-scale image recognition, 2015). \n",
    "\n",
    "A VGG16 foi desenvolvida para classificação de múltiplas classes com 1.000 classes. Ela é uitlizada para reconhecimento de objetos em imagens. A arquitetura da VGG é muito simples, sendo composta pela repetição de camadas convolucionais formando blocos. Cada bloco é composto por duas ou três camadas convolucionais, com filtros 3x3, stride = 1 e “same convolution”, seguida por uma camada de max-pooling, com janela 2x2 e stride = 2. A VGG16 mantém o mesmo padrão em todos os blocos dobrando o número de filtros a cada bloco. Apesar da VGG16 possuir muitos parâmetros, cerca de 138 milhões, ela é muito simples.\n",
    "\n",
    "### Exercício #4: Carregar a VGG16\n",
    "\n",
    "O TensorFlow-Keras possui na sua base de dados a RNA VGG16 treinada com o banco de imagens imagenet. Complete a célula abaixo para carregar a VGG16. Não se esqueça de excluir a parte densa e de definir a dimensão das imagens ao salvar a VGG16."
   ]
  },
  {
   "cell_type": "code",
   "execution_count": 8,
   "metadata": {
    "colab": {
     "base_uri": "https://localhost:8080/"
    },
    "id": "dKEheTwfHlVm",
    "outputId": "ec71b51e-ef5e-459e-efa7-856b50b9c7f3"
   },
   "outputs": [
    {
     "name": "stdout",
     "output_type": "stream",
     "text": [
      "Model: \"vgg16\"\n",
      "_________________________________________________________________\n",
      "Layer (type)                 Output Shape              Param #   \n",
      "=================================================================\n",
      "input_1 (InputLayer)         [(None, 32, 32, 3)]       0         \n",
      "_________________________________________________________________\n",
      "block1_conv1 (Conv2D)        (None, 32, 32, 64)        1792      \n",
      "_________________________________________________________________\n",
      "block1_conv2 (Conv2D)        (None, 32, 32, 64)        36928     \n",
      "_________________________________________________________________\n",
      "block1_pool (MaxPooling2D)   (None, 16, 16, 64)        0         \n",
      "_________________________________________________________________\n",
      "block2_conv1 (Conv2D)        (None, 16, 16, 128)       73856     \n",
      "_________________________________________________________________\n",
      "block2_conv2 (Conv2D)        (None, 16, 16, 128)       147584    \n",
      "_________________________________________________________________\n",
      "block2_pool (MaxPooling2D)   (None, 8, 8, 128)         0         \n",
      "_________________________________________________________________\n",
      "block3_conv1 (Conv2D)        (None, 8, 8, 256)         295168    \n",
      "_________________________________________________________________\n",
      "block3_conv2 (Conv2D)        (None, 8, 8, 256)         590080    \n",
      "_________________________________________________________________\n",
      "block3_conv3 (Conv2D)        (None, 8, 8, 256)         590080    \n",
      "_________________________________________________________________\n",
      "block3_pool (MaxPooling2D)   (None, 4, 4, 256)         0         \n",
      "_________________________________________________________________\n",
      "block4_conv1 (Conv2D)        (None, 4, 4, 512)         1180160   \n",
      "_________________________________________________________________\n",
      "block4_conv2 (Conv2D)        (None, 4, 4, 512)         2359808   \n",
      "_________________________________________________________________\n",
      "block4_conv3 (Conv2D)        (None, 4, 4, 512)         2359808   \n",
      "_________________________________________________________________\n",
      "block4_pool (MaxPooling2D)   (None, 2, 2, 512)         0         \n",
      "_________________________________________________________________\n",
      "block5_conv1 (Conv2D)        (None, 2, 2, 512)         2359808   \n",
      "_________________________________________________________________\n",
      "block5_conv2 (Conv2D)        (None, 2, 2, 512)         2359808   \n",
      "_________________________________________________________________\n",
      "block5_conv3 (Conv2D)        (None, 2, 2, 512)         2359808   \n",
      "_________________________________________________________________\n",
      "block5_pool (MaxPooling2D)   (None, 1, 1, 512)         0         \n",
      "=================================================================\n",
      "Total params: 14,714,688\n",
      "Trainable params: 14,714,688\n",
      "Non-trainable params: 0\n",
      "_________________________________________________________________\n"
     ]
    }
   ],
   "source": [
    "# PARA VOCÊ FAZER: carregar e salvar a VGG16 na rna_base\n",
    "\n",
    "# Importa função para fazer gráfico de RNAs\n",
    "# Inclua seu código aqui\n",
    "#\n",
    "\n",
    "# Carrega e salva a VGG16 excluindo suas camadas densas \n",
    "# Inclua seu código aqui\n",
    "#\n",
    "\n",
    "# Mostra a arquitetura da VGG16\n",
    "rna_base.summary()\n",
    "\n",
    "# Cria um arquivo com o esquema da VGG16\n",
    "plot_model(rna_base, to_file='VGG16.png', show_shapes=True)   "
   ]
  },
  {
   "cell_type": "markdown",
   "metadata": {
    "id": "0kTAKLXRiBX7"
   },
   "source": [
    "**Saída esperada:**\n",
    "\n",
    "    Model: \"vgg16\"\n",
    "    _________________________________________________________________\n",
    "    Layer (type)                 Output Shape              Param #   \n",
    "    =================================================================\n",
    "    input_1 (InputLayer)         [(None, 32, 32, 3)]       0         \n",
    "    _________________________________________________________________\n",
    "    block1_conv1 (Conv2D)        (None, 32, 32, 64)        1792      \n",
    "    _________________________________________________________________\n",
    "    block1_conv2 (Conv2D)        (None, 32, 32, 64)        36928     \n",
    "    _________________________________________________________________\n",
    "    block1_pool (MaxPooling2D)   (None, 16, 16, 64)        0         \n",
    "    _________________________________________________________________\n",
    "    block2_conv1 (Conv2D)        (None, 16, 16, 128)       73856     \n",
    "    _________________________________________________________________\n",
    "    block2_conv2 (Conv2D)        (None, 16, 16, 128)       147584    \n",
    "    _________________________________________________________________\n",
    "    block2_pool (MaxPooling2D)   (None, 8, 8, 128)         0         \n",
    "    _________________________________________________________________\n",
    "    block3_conv1 (Conv2D)        (None, 8, 8, 256)         295168    \n",
    "    _________________________________________________________________\n",
    "    block3_conv2 (Conv2D)        (None, 8, 8, 256)         590080    \n",
    "    _________________________________________________________________\n",
    "    block3_conv3 (Conv2D)        (None, 8, 8, 256)         590080    \n",
    "    _________________________________________________________________\n",
    "    block3_pool (MaxPooling2D)   (None, 4, 4, 256)         0         \n",
    "    _________________________________________________________________\n",
    "    block4_conv1 (Conv2D)        (None, 4, 4, 512)         1180160   \n",
    "    _________________________________________________________________\n",
    "    block4_conv2 (Conv2D)        (None, 4, 4, 512)         2359808   \n",
    "    _________________________________________________________________\n",
    "    block4_conv3 (Conv2D)        (None, 4, 4, 512)         2359808   \n",
    "    _________________________________________________________________\n",
    "    block4_pool (MaxPooling2D)   (None, 2, 2, 512)         0         \n",
    "    _________________________________________________________________\n",
    "    block5_conv1 (Conv2D)        (None, 2, 2, 512)         2359808   \n",
    "    _________________________________________________________________\n",
    "    block5_conv2 (Conv2D)        (None, 2, 2, 512)         2359808   \n",
    "    _________________________________________________________________\n",
    "    block5_conv3 (Conv2D)        (None, 2, 2, 512)         2359808   \n",
    "    _________________________________________________________________\n",
    "    block5_pool (MaxPooling2D)   (None, 1, 1, 512)         0         \n",
    "    =================================================================\n",
    "    Total params: 14,714,688\n",
    "    Trainable params: 14,714,688\n",
    "    Non-trainable params: 0\n",
    "    _________________________________________________________________"
   ]
  },
  {
   "cell_type": "markdown",
   "metadata": {
    "id": "ithJMu_jiBX7"
   },
   "source": [
    "**Observações:**\n",
    "\n",
    "- A parte convolucional da VGG16 possui 5 blocos, sendo que cada bloco possui 2 ou 3 camadas convolucionais seguidas por uma camada de max-pooling.\n",
    "- A VGG16 não é uma rede muito profunda, possuindo 13 camadas convolucionais.\n",
    "- Apesar do grande número de parâmetros (138 milhões para a VGG16 completa com as suas camadas densas), a VGG16 é uma rede muito simples e rápida de ser excecutada e treinada, quando comparada com outras RNAs de mesmo desempenho.\n",
    "- O esquema da VGG16 que você carregou foi gerado no arquivo VGG16.png que está no diretório que você está utilizando. Para ver esse esquema basta abrir esse arquivo."
   ]
  },
  {
   "cell_type": "markdown",
   "metadata": {
    "id": "kMpHN3eRiBX8"
   },
   "source": [
    "## 4 - Uso da RNA base para extrair caracteríticas\n",
    "\n",
    "Nessa parte do trabalho você vai usar a RNA base somente para extrair as caracteríticas das imagens de treinamento, validação e teste. Essas caracterísitcas serão usadas como entrada de uma nova RNA densa que será treinada para realizar a tarefa de classificação dos objetos.\n",
    "\n",
    "\n",
    "### Exercício #5: Extração das características das imagens \n",
    "\n",
    "Na célula abaixo crie um código para executar a `rna_base` na forma de previsão para extrair as características das imagens de treinamento, validação e teste."
   ]
  },
  {
   "cell_type": "code",
   "execution_count": 9,
   "metadata": {
    "colab": {
     "base_uri": "https://localhost:8080/"
    },
    "id": "b5Mlycs1iBX9",
    "outputId": "c3e87f4c-26ca-41ce-cebe-9bac353596b2"
   },
   "outputs": [
    {
     "name": "stdout",
     "output_type": "stream",
     "text": [
      "Dimensão do tensor de características das imagens de treinamento =  (30000, 1, 1, 512)\n",
      "Dimensão do tensor de características das imagens de validação =  (6000, 1, 1, 512)\n",
      "Dimensão do tensor de características das imagens de teste =  (6000, 1, 1, 512)\n"
     ]
    }
   ],
   "source": [
    "# PARA VOCÊ FAZER: gerar as características das imagens de treinamento, validação e teste pela rna_base.\n",
    "\n",
    "# Inclua seu código aqui\n",
    "#\n",
    "\n",
    "print(\"Dimensão do tensor de características das imagens de treinamento = \", train_features.shape)\n",
    "print(\"Dimensão do tensor de características das imagens de validação = \", val_features.shape)\n",
    "print(\"Dimensão do tensor de características das imagens de teste = \", test_features.shape)"
   ]
  },
  {
   "cell_type": "markdown",
   "metadata": {
    "id": "TTKzi11AiBYB"
   },
   "source": [
    "**Saída esperada:**\n",
    "\n",
    "    Dimensão do tensor de características das imagens de treinamento =  (30000, 1, 1, 512)\n",
    "    Dimensão do tensor de características das imagens de validação =  (6000, 1, 1, 512)\n",
    "    Dimensão do tensor de características das imagens de teste =  (6000, 1, 1, 512\n",
    "    \n",
    "Observe que as características extraídas de cada imagem tem dimensão (1, 1, 512), que é a dimensão do tensor de saída da `rna_base`."
   ]
  },
  {
   "cell_type": "markdown",
   "metadata": {
    "id": "7KwWNyCEiBYD"
   },
   "source": [
    "### Exercício #6: Redimensionamento dos tensores de características\n",
    "\n",
    "Como a RNA de classificação é composta por camadas densas, então temos que redimensionar os dados de entrada para transformá-los em um vetor. Crie na célula abaixo um código que realiza o redimensionamento das características usando a função `reshape` da biblioteca Numpy."
   ]
  },
  {
   "cell_type": "code",
   "execution_count": 10,
   "metadata": {
    "colab": {
     "base_uri": "https://localhost:8080/"
    },
    "id": "JwEEnh4UiBYE",
    "outputId": "6e59a65f-01a4-4cc2-f026-f7bed7c29c1a"
   },
   "outputs": [
    {
     "name": "stdout",
     "output_type": "stream",
     "text": [
      "Dimensão do tensor de características das imagens de treinamento =  (30000, 512)\n",
      "Dimensão do tensor de características das imagens de validação =  (6000, 512)\n",
      "Dimensão do tensor de características das imagens de teste =  (6000, 512)\n",
      "Cinco primeiros elementos da 1a linha dos dados de treinamento:  [0.10176692 0.         0.8440498  0.5943726  0.01328954]\n",
      "Cinco primeiros elementos da 1a linha dos dados de validação:  [0.         0.         0.         0.47797072 0.        ]\n",
      "Cinco primeiros elementos da 1a linha dos dados de teste:  [0.28653282 0.         1.2196431  0.19872217 0.20980254]\n"
     ]
    }
   ],
   "source": [
    "# PARA VOCÊ FAZER: redimensionamento dos tensores de características\n",
    "\n",
    "# Recupera dimensões dos tensores de características\n",
    "m, nlin, ncol, nfeat = train_features.shape\n",
    "m_val = val_features.shape[0]\n",
    "m_test = test_features.shape[0]\n",
    "\n",
    "# Redimensiona tensores de características\n",
    "# Inclua seu código aqui\n",
    "#\n",
    "\n",
    "print(\"Dimensão do tensor de características das imagens de treinamento = \", train_carac.shape)\n",
    "print(\"Dimensão do tensor de características das imagens de validação = \", val_carac.shape)\n",
    "print(\"Dimensão do tensor de características das imagens de teste = \", test_carac.shape)\n",
    "print(\"Cinco primeiros elementos da 1a linha dos dados de treinamento: \", train_carac[0,0:5])\n",
    "print(\"Cinco primeiros elementos da 1a linha dos dados de validação: \", val_carac[0,0:5])\n",
    "print(\"Cinco primeiros elementos da 1a linha dos dados de teste: \", test_carac[0,0:5])"
   ]
  },
  {
   "cell_type": "markdown",
   "metadata": {
    "id": "txk5eAt5iBYI"
   },
   "source": [
    "**Saída esperada:**\n",
    "\n",
    "    Dimensão do tensor de características das imagens de treinamento =  (30000, 512)\n",
    "    Dimensão do tensor de características das imagens de validação =  (6000, 512)\n",
    "    Dimensão do tensor de características das imagens de teste =  (6000, 512)\n",
    "    Cinco primeiros elementos da 1a linha dos dados de treinamento:  [0.10176882 0.         0.84404963 0.59437424 0.01328897]\n",
    "    Cinco primeiros elementos da 1a linha dos dados de validação:   [0.         0.         0.         0.47797072 0.        ]\n",
    "    Cinco primeiros elementos da 1a linha dos dados de teste:  [0.28653017 0.         1.2196395  0.19872142 0.20980349]"
   ]
  },
  {
   "cell_type": "markdown",
   "metadata": {
    "id": "Y7LF46GPiBYI"
   },
   "source": [
    "### Exercício #7: Configuração da RNA para classificação\n",
    "\n",
    "Para realizar a classificação dos objetos nas imagens, você vai usar uma RNA com 2 camadas densas (uma camada intermediária e uma de saída) com as seguintes características:\n",
    "\n",
    "- Tensor de entrada: tensor com os vetores de características das imagens, criado no exercício #5 anterior; \n",
    "- Camada intermediária: número de neurônios 32, função de ativação ReLu;\n",
    "- Camada de saída: número neurônios 10, função de ativação softmax;\n",
    "- Incluir Dropout após a camada intermediária com limitação da norma dos pesos das ligações igual a 3.0;\n",
    "- Use uma fração de Dropout de 0.2.\n",
    "\n",
    "Na célula abaixo crie a sua RNA."
   ]
  },
  {
   "cell_type": "code",
   "execution_count": 11,
   "metadata": {
    "colab": {
     "base_uri": "https://localhost:8080/"
    },
    "id": "eXHm111PiBYJ",
    "outputId": "9eccb1b9-7325-4545-974c-874c6d08847e"
   },
   "outputs": [
    {
     "name": "stdout",
     "output_type": "stream",
     "text": [
      "Model: \"sequential\"\n",
      "_________________________________________________________________\n",
      "Layer (type)                 Output Shape              Param #   \n",
      "=================================================================\n",
      "dense (Dense)                (None, 32)                16416     \n",
      "_________________________________________________________________\n",
      "dropout (Dropout)            (None, 32)                0         \n",
      "_________________________________________________________________\n",
      "dense_1 (Dense)              (None, 10)                330       \n",
      "=================================================================\n",
      "Total params: 16,746\n",
      "Trainable params: 16,746\n",
      "Non-trainable params: 0\n",
      "_________________________________________________________________\n"
     ]
    }
   ],
   "source": [
    "# PARA VOCÊ FAZER: criação da RNA para classificação\n",
    "\n",
    "# Importa do Keras classes de modelos e de camadas\n",
    "# Inclua seu código aqui\n",
    "\n",
    "\n",
    "# Define dimensão do vetor de entrada\n",
    "# Inclua seu código aqui\n",
    "#\n",
    "\n",
    "# Define fração de Dropout\n",
    "# Inclua seu código aqui\n",
    "#\n",
    "\n",
    "# Configuração da RNA\n",
    "# Inclua seu código aqui\n",
    "#\n",
    "\n",
    "\n",
    "rna_class.summary()"
   ]
  },
  {
   "cell_type": "markdown",
   "metadata": {
    "id": "2IgB4A_miBYM"
   },
   "source": [
    "**Saída esperada:**\n",
    "    \n",
    "    Model: \"sequential\"\n",
    "    _________________________________________________________________\n",
    "    Layer (type)                 Output Shape              Param #   \n",
    "    =================================================================\n",
    "    dense (Dense)                (None, 32)                16416     \n",
    "    _________________________________________________________________\n",
    "    dropout (Dropout)            (None, 32)                0         \n",
    "    _________________________________________________________________\n",
    "    dense_1 (Dense)              (None, 10)                330       \n",
    "    =================================================================\n",
    "    Total params: 16,746\n",
    "    Trainable params: 16,746\n",
    "    Non-trainable params: 0\n",
    "    _________________________________________________________________\n"
   ]
  },
  {
   "cell_type": "markdown",
   "metadata": {
    "id": "EPkC8TB9iBYM"
   },
   "source": [
    "### Exercício #8: Compilação e treinamento da RNA\n",
    "\n",
    "Agora você vai treinar a sua RNA usando o método de otimização Adams. Assim, na célula abaixo, compile e treine a sua RNA usando os seguinte hiperparâmetros:\n",
    "\n",
    "- método Adam;\n",
    "- taxa de aprendizagem = 0.001;\n",
    "- número de épocas = 50;\n",
    "- verbose = 1."
   ]
  },
  {
   "cell_type": "code",
   "execution_count": 12,
   "metadata": {
    "colab": {
     "base_uri": "https://localhost:8080/"
    },
    "id": "fnRtM-yNfef_",
    "outputId": "ee0da562-9dbf-4692-ecc6-3de72efd2b86"
   },
   "outputs": [
    {
     "name": "stdout",
     "output_type": "stream",
     "text": [
      "Epoch 1/50\n",
      "938/938 [==============================] - 3s 3ms/step - loss: 1.7027 - accuracy: 0.4005 - val_loss: 1.4106 - val_accuracy: 0.5158\n",
      "Epoch 2/50\n",
      "938/938 [==============================] - 3s 3ms/step - loss: 1.4280 - accuracy: 0.5030 - val_loss: 1.3224 - val_accuracy: 0.5428\n",
      "Epoch 3/50\n",
      "938/938 [==============================] - 3s 3ms/step - loss: 1.3547 - accuracy: 0.5250 - val_loss: 1.2806 - val_accuracy: 0.5558\n",
      "Epoch 4/50\n",
      "938/938 [==============================] - 3s 3ms/step - loss: 1.3172 - accuracy: 0.5375 - val_loss: 1.2588 - val_accuracy: 0.5610\n",
      "Epoch 5/50\n",
      "938/938 [==============================] - 3s 3ms/step - loss: 1.2912 - accuracy: 0.5515 - val_loss: 1.2411 - val_accuracy: 0.5705\n",
      "Epoch 6/50\n",
      "938/938 [==============================] - 3s 3ms/step - loss: 1.2794 - accuracy: 0.5539 - val_loss: 1.2338 - val_accuracy: 0.5713\n",
      "Epoch 7/50\n",
      "938/938 [==============================] - 3s 3ms/step - loss: 1.2664 - accuracy: 0.5566 - val_loss: 1.2380 - val_accuracy: 0.5668\n",
      "Epoch 8/50\n",
      "938/938 [==============================] - 3s 3ms/step - loss: 1.2597 - accuracy: 0.5604 - val_loss: 1.2330 - val_accuracy: 0.5702\n",
      "Epoch 9/50\n",
      "938/938 [==============================] - 3s 3ms/step - loss: 1.2482 - accuracy: 0.5655 - val_loss: 1.2395 - val_accuracy: 0.5692\n",
      "Epoch 10/50\n",
      "938/938 [==============================] - 3s 3ms/step - loss: 1.2438 - accuracy: 0.5652 - val_loss: 1.2169 - val_accuracy: 0.5787\n",
      "Epoch 11/50\n",
      "938/938 [==============================] - 3s 3ms/step - loss: 1.2381 - accuracy: 0.5672 - val_loss: 1.2273 - val_accuracy: 0.5703\n",
      "Epoch 12/50\n",
      "938/938 [==============================] - 3s 3ms/step - loss: 1.2347 - accuracy: 0.5700 - val_loss: 1.2102 - val_accuracy: 0.5762\n",
      "Epoch 13/50\n",
      "938/938 [==============================] - 3s 3ms/step - loss: 1.2258 - accuracy: 0.5702 - val_loss: 1.2095 - val_accuracy: 0.5783\n",
      "Epoch 14/50\n",
      "938/938 [==============================] - 3s 3ms/step - loss: 1.2261 - accuracy: 0.5725 - val_loss: 1.2094 - val_accuracy: 0.5802\n",
      "Epoch 15/50\n",
      "938/938 [==============================] - 3s 3ms/step - loss: 1.2244 - accuracy: 0.5724 - val_loss: 1.2292 - val_accuracy: 0.5743\n",
      "Epoch 16/50\n",
      "938/938 [==============================] - 3s 3ms/step - loss: 1.2159 - accuracy: 0.5757 - val_loss: 1.2272 - val_accuracy: 0.5717\n",
      "Epoch 17/50\n",
      "938/938 [==============================] - 3s 3ms/step - loss: 1.2145 - accuracy: 0.5736 - val_loss: 1.2274 - val_accuracy: 0.5697\n",
      "Epoch 18/50\n",
      "938/938 [==============================] - 3s 3ms/step - loss: 1.2102 - accuracy: 0.5763 - val_loss: 1.2115 - val_accuracy: 0.5833\n",
      "Epoch 19/50\n",
      "938/938 [==============================] - 3s 3ms/step - loss: 1.2129 - accuracy: 0.5753 - val_loss: 1.2148 - val_accuracy: 0.5735\n",
      "Epoch 20/50\n",
      "938/938 [==============================] - 3s 3ms/step - loss: 1.2153 - accuracy: 0.5734 - val_loss: 1.2214 - val_accuracy: 0.5760\n",
      "Epoch 21/50\n",
      "938/938 [==============================] - 3s 3ms/step - loss: 1.2084 - accuracy: 0.5787 - val_loss: 1.2166 - val_accuracy: 0.5765\n",
      "Epoch 22/50\n",
      "938/938 [==============================] - 3s 3ms/step - loss: 1.2093 - accuracy: 0.5760 - val_loss: 1.2129 - val_accuracy: 0.5790\n",
      "Epoch 23/50\n",
      "938/938 [==============================] - 3s 3ms/step - loss: 1.2053 - accuracy: 0.5782 - val_loss: 1.2113 - val_accuracy: 0.5758\n",
      "Epoch 24/50\n",
      "938/938 [==============================] - 3s 3ms/step - loss: 1.1991 - accuracy: 0.5785 - val_loss: 1.2311 - val_accuracy: 0.5685\n",
      "Epoch 25/50\n",
      "938/938 [==============================] - 3s 3ms/step - loss: 1.2021 - accuracy: 0.5787 - val_loss: 1.2226 - val_accuracy: 0.5688\n",
      "Epoch 26/50\n",
      "938/938 [==============================] - 3s 3ms/step - loss: 1.2006 - accuracy: 0.5800 - val_loss: 1.2038 - val_accuracy: 0.5860\n",
      "Epoch 27/50\n",
      "938/938 [==============================] - 3s 3ms/step - loss: 1.2032 - accuracy: 0.5781 - val_loss: 1.2081 - val_accuracy: 0.5792\n",
      "Epoch 28/50\n",
      "938/938 [==============================] - 3s 3ms/step - loss: 1.2026 - accuracy: 0.5776 - val_loss: 1.2316 - val_accuracy: 0.5712\n",
      "Epoch 29/50\n",
      "938/938 [==============================] - 3s 3ms/step - loss: 1.1996 - accuracy: 0.5792 - val_loss: 1.2250 - val_accuracy: 0.5807\n",
      "Epoch 30/50\n",
      "938/938 [==============================] - 3s 3ms/step - loss: 1.2020 - accuracy: 0.5777 - val_loss: 1.2095 - val_accuracy: 0.5757\n",
      "Epoch 31/50\n",
      "938/938 [==============================] - 3s 3ms/step - loss: 1.1923 - accuracy: 0.5817 - val_loss: 1.2070 - val_accuracy: 0.5765\n",
      "Epoch 32/50\n",
      "938/938 [==============================] - 3s 3ms/step - loss: 1.1965 - accuracy: 0.5799 - val_loss: 1.2301 - val_accuracy: 0.5658\n",
      "Epoch 33/50\n",
      "938/938 [==============================] - 3s 3ms/step - loss: 1.1912 - accuracy: 0.5819 - val_loss: 1.2108 - val_accuracy: 0.5770\n",
      "Epoch 34/50\n",
      "938/938 [==============================] - 3s 3ms/step - loss: 1.1918 - accuracy: 0.5821 - val_loss: 1.2090 - val_accuracy: 0.5790\n",
      "Epoch 35/50\n",
      "938/938 [==============================] - 3s 3ms/step - loss: 1.1938 - accuracy: 0.5795 - val_loss: 1.2180 - val_accuracy: 0.5760\n",
      "Epoch 36/50\n",
      "938/938 [==============================] - 3s 3ms/step - loss: 1.1910 - accuracy: 0.5820 - val_loss: 1.2182 - val_accuracy: 0.5775\n",
      "Epoch 37/50\n",
      "938/938 [==============================] - 3s 3ms/step - loss: 1.1932 - accuracy: 0.5818 - val_loss: 1.2172 - val_accuracy: 0.5702\n",
      "Epoch 38/50\n",
      "938/938 [==============================] - 3s 3ms/step - loss: 1.1870 - accuracy: 0.5776 - val_loss: 1.2345 - val_accuracy: 0.5658\n",
      "Epoch 39/50\n",
      "938/938 [==============================] - 3s 3ms/step - loss: 1.1894 - accuracy: 0.5821 - val_loss: 1.2113 - val_accuracy: 0.5792\n",
      "Epoch 40/50\n",
      "938/938 [==============================] - 3s 3ms/step - loss: 1.1871 - accuracy: 0.5800 - val_loss: 1.2089 - val_accuracy: 0.5822\n",
      "Epoch 41/50\n",
      "938/938 [==============================] - 3s 3ms/step - loss: 1.1958 - accuracy: 0.5806 - val_loss: 1.2290 - val_accuracy: 0.5677\n",
      "Epoch 42/50\n",
      "938/938 [==============================] - 3s 3ms/step - loss: 1.1871 - accuracy: 0.5807 - val_loss: 1.2254 - val_accuracy: 0.5762\n",
      "Epoch 43/50\n",
      "938/938 [==============================] - 3s 3ms/step - loss: 1.1869 - accuracy: 0.5849 - val_loss: 1.2295 - val_accuracy: 0.5767\n",
      "Epoch 44/50\n",
      "938/938 [==============================] - 3s 3ms/step - loss: 1.1878 - accuracy: 0.5814 - val_loss: 1.2039 - val_accuracy: 0.5808\n",
      "Epoch 45/50\n",
      "938/938 [==============================] - 3s 3ms/step - loss: 1.1893 - accuracy: 0.5805 - val_loss: 1.2156 - val_accuracy: 0.5780\n",
      "Epoch 46/50\n",
      "938/938 [==============================] - 3s 3ms/step - loss: 1.1881 - accuracy: 0.5796 - val_loss: 1.2103 - val_accuracy: 0.5763\n",
      "Epoch 47/50\n",
      "938/938 [==============================] - 3s 3ms/step - loss: 1.1906 - accuracy: 0.5777 - val_loss: 1.2312 - val_accuracy: 0.5625\n",
      "Epoch 48/50\n",
      "938/938 [==============================] - 3s 3ms/step - loss: 1.1820 - accuracy: 0.5802 - val_loss: 1.2188 - val_accuracy: 0.5682\n",
      "Epoch 49/50\n",
      "938/938 [==============================] - 3s 3ms/step - loss: 1.1895 - accuracy: 0.5816 - val_loss: 1.2301 - val_accuracy: 0.5705\n",
      "Epoch 50/50\n",
      "938/938 [==============================] - 3s 3ms/step - loss: 1.1811 - accuracy: 0.5827 - val_loss: 1.2135 - val_accuracy: 0.5693\n"
     ]
    }
   ],
   "source": [
    "# PARA VOCÊ FAZER: compilação e treinamento da RNA usando o método Adam\n",
    "\n",
    "# importa do keras a classe dos otimizadores\n",
    "# Inclua seu código aqui\n",
    "#\n",
    "\n",
    "# Configuração do otimizador\n",
    "# Inclua seu código aqui\n",
    "#\n",
    "\n",
    "# Treinamento da RNA (salve o resultado do treinamento no dicionário history)\n",
    "# Inclua seu código aqui\n",
    "#\n"
   ]
  },
  {
   "cell_type": "markdown",
   "metadata": {
    "id": "5fPU5iQdiBYP"
   },
   "source": [
    "**Saída esperada:**\n",
    "\n",
    "    Epoch 1/50\n",
    "    938/938 [==============================] - 3s 3ms/step - loss: 1.6224 - accuracy: 0.4290 - val_loss: 1.3628 - val_accuracy: 0.5310\n",
    "    .\n",
    "    .\n",
    "    .    \n",
    "    Epoch 50/50\n",
    "    938/938 [==============================] - 3s 3ms/step - loss: 1.0894 - accuracy: 0.6143 - val_loss: 1.1828 - val_accuracy: 0.5907"
   ]
  },
  {
   "cell_type": "markdown",
   "metadata": {
    "id": "wzFSuWOuiBYQ"
   },
   "source": [
    "### Visualização dos resultados\n",
    "\n",
    "Execute a célula a seguir para fazer os gráficos da função de custo e da métrica para os dados de treinamento e validação."
   ]
  },
  {
   "cell_type": "code",
   "execution_count": 13,
   "metadata": {
    "colab": {
     "base_uri": "https://localhost:8080/",
     "height": 576
    },
    "id": "us57wtVIiBYR",
    "outputId": "6f82255b-d7c6-464b-99d6-6f4515b54ef7"
   },
   "outputs": [
    {
     "data": {
      "image/png": "[encoded data removed]",
      "text/plain": [
       "<Figure size 432x288 with 1 Axes>"
      ]
     },
     "metadata": {
      "needs_background": "light",
      "tags": []
     },
     "output_type": "display_data"
    },
    {
     "data": {
      "image/png": "[encoded data removed]",
      "text/plain": [
       "<Figure size 432x288 with 1 Axes>"
      ]
     },
     "metadata": {
      "needs_background": "light",
      "tags": []
     },
     "output_type": "display_data"
    }
   ],
   "source": [
    "# Define função para fazer os gráficos do treinamento\n",
    "def plot_results_train(history):\n",
    "    # Salva treinamento na variável history para visualização\n",
    "    history_dict = history.history\n",
    "\n",
    "    # Salva custos, métricas e epocas em vetores \n",
    "    custo = history_dict['loss']\n",
    "    acc = history_dict['accuracy']\n",
    "    val_custo = history_dict['val_loss']\n",
    "    val_acc = history_dict['val_accuracy']\n",
    "\n",
    "    # Cria vetor de épocas\n",
    "    epocas = range(1, len(custo) + 1)\n",
    "\n",
    "    # Gráfico dos valores de custo\n",
    "    plt.plot(epocas, custo, 'bo', label='Custo - treinamento')\n",
    "    plt.plot(epocas, val_custo, 'b', label='Custo - validação')\n",
    "    plt.title('Valor da função de custo – treinamento e validação')\n",
    "    plt.xlabel('Épocas')\n",
    "    plt.ylabel('Custo')\n",
    "    plt.legend()\n",
    "    plt.show()\n",
    "\n",
    "    # Gráfico dos valores da métrica\n",
    "    plt.plot(epocas, acc, 'bo', label='exatidao- treinamento')\n",
    "    plt.plot(epocas, val_acc, 'b', label='exatidao - validação')\n",
    "    plt.title('Valor da métrica – treinamento e validação')\n",
    "    plt.xlabel('Épocas')\n",
    "    plt.ylabel('Exatidao')\n",
    "    plt.legend()\n",
    "    plt.show()\n",
    "    \n",
    "# Realiza os gráficos chamando função plot_results_train\n",
    "plot_results_train(history)"
   ]
  },
  {
   "cell_type": "markdown",
   "metadata": {
    "id": "Np9D9ZHSiBYV"
   },
   "source": [
    "### Exercício #9: Cálculo dos custo e das métricas\n",
    "\n",
    "Na célula abaixo crie um código para calcular os valores do custo e da exatidão para os dados de treinamento, validação e teste."
   ]
  },
  {
   "cell_type": "code",
   "execution_count": 14,
   "metadata": {
    "colab": {
     "base_uri": "https://localhost:8080/"
    },
    "id": "NTqhPI44iBYV",
    "outputId": "01b63eb4-d38c-4fc0-970c-66a6798e1639"
   },
   "outputs": [
    {
     "name": "stdout",
     "output_type": "stream",
     "text": [
      "938/938 [==============================] - 2s 2ms/step - loss: 1.0485 - accuracy: 0.6343\n",
      "188/188 [==============================] - 0s 2ms/step - loss: 1.2135 - accuracy: 0.5693\n",
      "188/188 [==============================] - 0s 2ms/step - loss: 1.2218 - accuracy: 0.5745\n"
     ]
    }
   ],
   "source": [
    "# PARA VOCÊ FAZER: Usando o método evaluate calcule o custo e exatidão resultantes do treinamento\n",
    "\n",
    "#Calculo do custo e exatidão para os dados de treinamento, validação e teste\n",
    "# Inclua seu código aqui\n",
    "#\n"
   ]
  },
  {
   "cell_type": "markdown",
   "metadata": {
    "id": "fYWOHV3CiBYZ"
   },
   "source": [
    "**Saída esperada:**\n",
    "\n",
    "    938/938 [==============================] - 2s 2ms/step - loss: 0.9416 - accuracy: 0.6722\n",
    "    188/188 [==============================] - 0s 2ms/step - loss: 1.1828 - accuracy: 0.5907\n",
    "    188/188 [==============================] - 0s 2ms/step - loss: 1.1713 - accuracy: 0.5853\n"
   ]
  },
  {
   "cell_type": "markdown",
   "metadata": {
    "id": "djXLnR4fiBYa"
   },
   "source": [
    "**Análise dos resultados:**\n",
    "\n",
    "Pelos gráficos da função de custo e da métrica você deve observar o seguinte:\n",
    "\n",
    "- Os resultados obtidos são ruins tanto para os dados de treinamento como para os dados de validação e teste.\n",
    "- Mesmo com essa RNA tão \"pequena\" ocorreu um pouco de overfitting no treinamento.\n",
    "\n",
    "Após entregar o seu trabalho, tente alterar a fração de dropout e treinar por mais épocas para ver o que acontece."
   ]
  },
  {
   "cell_type": "markdown",
   "metadata": {
    "id": "l6D0uW85iBYa"
   },
   "source": [
    "### Verificação dos resultados\n",
    "\n",
    "Execute a célula abaixo para calcular as previsões da sua RNA para as imagens dos dados de teste e depois verificar se algumas dessas previsões estão corretas. Troque a variável index (variando entre 0 e 5.999) para verificar se a sua RNA consegue classificar corretamente o sinal de mão mostrado nas imagens."
   ]
  },
  {
   "cell_type": "code",
   "execution_count": 15,
   "metadata": {
    "colab": {
     "base_uri": "https://localhost:8080/",
     "height": 301
    },
    "id": "g5hILo3tiBYb",
    "outputId": "40dfa797-368f-46c8-dfa8-b8e545bc2ed0"
   },
   "outputs": [
    {
     "name": "stdout",
     "output_type": "stream",
     "text": [
      "classe prevista = 9\n",
      "classe real = 9\n"
     ]
    },
    {
     "data": {
      "image/png": "[encoded data removed]",
      "text/plain": [
       "<Figure size 432x288 with 1 Axes>"
      ]
     },
     "metadata": {
      "needs_background": "light",
      "tags": []
     },
     "output_type": "display_data"
    }
   ],
   "source": [
    "# Cálculo das classes previstas\n",
    "\n",
    "# Calculo das previsões da RNA\n",
    "y_pred = rna_class.predict(test_carac)\n",
    "\n",
    "# Cálculo das classes previstas\n",
    "classe = np.argmax(y_pred, axis=1)\n",
    "\n",
    "# Exemplo de uma imagem dos dados de teste\n",
    "index = 11\n",
    "plt.imshow(x_test_orig[index])\n",
    "print (\"classe prevista = \" + str(np.squeeze(classe[index])))\n",
    "print (\"classe real = \" + str(np.squeeze(y_test[index])))"
   ]
  },
  {
   "cell_type": "markdown",
   "metadata": {
    "id": "aTzE-IaTiBYe"
   },
   "source": [
    "## 5 - RNA completa para processamento das imagens e classificação\n",
    "\n",
    "O segundo método de realizar transferência de treinamento é mais demorado e computacionalmente mais exigente, mas os resultados são melhores. Esse método consiste em estender a `rna_base` adicionando as camadas densas para classificação e treinar parcialmente a RNA resultante. A `rna_base` é adicionada como se fosse uma camada de uma RNA sequencial da mesma forma como adicionamos qualquer tipo de camada. Esse método permite criar uma nova RNA completa e, assim, obter resultados melhores do que somente usar a `rna_base` para extrair características.\n",
    "\n",
    "### Exercício #10: Configuração da RNA completa usando a `rna_base`\n",
    "\n",
    "Na célula abaixo crie um código para configurar uma nova RNA completa tendo como camadas convolucionais iniciais a `rna_base` e uma camada densas na saída. As características dessa RNA são as seguintes:\n",
    "\n",
    "- Tensor de entrada: tensor com as imagens; \n",
    "- Dimensão das imagens de entrada está na variável `image_dim`;\n",
    "- Camadas convolucionais: `rna_base`;\n",
    "- Camada de saída: número neurônios 10, função de ativação softmax;\n",
    "\n",
    "> Bloco com recuo\n",
    "\n"
   ]
  },
  {
   "cell_type": "code",
   "execution_count": 16,
   "metadata": {
    "colab": {
     "base_uri": "https://localhost:8080/"
    },
    "id": "M-avzUacviHl",
    "outputId": "561e3fc7-cc1d-406d-f7f0-474551f5597e"
   },
   "outputs": [
    {
     "name": "stdout",
     "output_type": "stream",
     "text": [
      "Model: \"sequential_1\"\n",
      "_________________________________________________________________\n",
      "Layer (type)                 Output Shape              Param #   \n",
      "=================================================================\n",
      "vgg16 (Functional)           (None, 1, 1, 512)         14714688  \n",
      "_________________________________________________________________\n",
      "flatten (Flatten)            (None, 512)               0         \n",
      "_________________________________________________________________\n",
      "dense_2 (Dense)              (None, 10)                5130      \n",
      "=================================================================\n",
      "Total params: 14,719,818\n",
      "Trainable params: 14,719,818\n",
      "Non-trainable params: 0\n",
      "_________________________________________________________________\n"
     ]
    }
   ],
   "source": [
    "# PARA VOCÊ FAZER: criação da RNA completa\n",
    "\n",
    "# Importa classe dos regularizadores\n",
    "# Inclua seu código aqui\n",
    "#\n",
    "\n",
    "# Inicia RNA sequencial com a rna_base e adiciona as camadas de flattenning e densas\n",
    "# Inclua seu código aqui\n",
    "#\n",
    "\n",
    "# Visualização da arquitetura da rede\n",
    "rna.summary()"
   ]
  },
  {
   "cell_type": "markdown",
   "metadata": {
    "id": "4peoOZAwGQud"
   },
   "source": [
    "**Saída esperada:**\n",
    "\n",
    "    Model: \"sequential_1\"\n",
    "    _________________________________________________________________\n",
    "    Layer (type)                 Output Shape              Param #   \n",
    "    =================================================================\n",
    "    vgg16 (Functional)           (None, 1, 1, 512)         14714688  \n",
    "    _________________________________________________________________\n",
    "    flatten (Flatten)            (None, 512)               0         \n",
    "    _________________________________________________________________\n",
    "    dense_2 (Dense)              (None, 10)                5130      \n",
    "    =================================================================\n",
    "    Total params: 14,719,818\n",
    "    Trainable params: 14,719,818\n",
    "    Non-trainable params: 0\n",
    "    _________________________________________________________________"
   ]
  },
  {
   "cell_type": "markdown",
   "metadata": {
    "id": "7Mowww51iBYk"
   },
   "source": [
    "### Exercício #11: Congelamento dos parâmetros da `rna_base`\n",
    "\n",
    "Antes de compilar e treinar essa nova RNA é muito importante “congelar” os parâmetros da `rna_base` e depois descongelar somente as camadas que queremos retreinar. “Congelar” uma camada, ou um conjunto de camadas significa impedir que os seus parâmetros sejam atualizados durante o treinamento.\n",
    "\n",
    "Na célula abaixo crie um código que congela os parâmetros da `rna_base` definindo o seu atributo trainable igual a False (ver notas de aula)."
   ]
  },
  {
   "cell_type": "code",
   "execution_count": 17,
   "metadata": {
    "colab": {
     "base_uri": "https://localhost:8080/"
    },
    "id": "tY0NGsMQiBYk",
    "outputId": "d3dace68-5f28-4220-83ef-aea9d598e709"
   },
   "outputs": [
    {
     "name": "stdout",
     "output_type": "stream",
     "text": [
      "Número de parâmetros treináveis antes do congelamento = 28\n",
      "Número de parâmetros treináveis após o congelamento = 2\n"
     ]
    }
   ],
   "source": [
    "# PARA VOCÊ FAZER: congelamento dos parâmetros da rna_base\n",
    "\n",
    "# Número de parâmetros a serem treinados antes do congelamento\n",
    "print('Número de parâmetros treináveis antes do congelamento =', len(rna.trainable_weights)) \n",
    "\n",
    "# Congelamento dos parâmetros da rna_base\n",
    "# Inclua seu código aqui\n",
    "#\n",
    "\n",
    "\n",
    "# Número de parâmetros a serem treinados após o congelamento\n",
    "print('Número de parâmetros treináveis após o congelamento =', len(rna.trainable_weights)) "
   ]
  },
  {
   "cell_type": "markdown",
   "metadata": {
    "id": "KBvqFQj7iBYu"
   },
   "source": [
    "**Saída esperada:**\n",
    "\n",
    "    Número de parâmetros treináveis antes do congelamento = 28\n",
    "    Número de parâmetros treináveis após o congelamento = 2"
   ]
  },
  {
   "cell_type": "markdown",
   "metadata": {
    "id": "1_gG56QRA6id"
   },
   "source": [
    "### Exercício #12: Treinamento da parte de classificação da RNA completa\n",
    "\n",
    "Agora você vai treinar a parte de classifcação da sua RNA usando o método de otimização Adams. Assim, na célula abaixo, compile e treine a sua RNA usando os seguinte hiperparâmetros:\n",
    "\n",
    "- método Adam;\n",
    "- taxa de aprendizagem = 0.0005;\n",
    "- número de épocas = 50;\n",
    "- verbose = 1.\n",
    "\n",
    "**Observação:** esse treinamento deve levar vários minutos."
   ]
  },
  {
   "cell_type": "code",
   "execution_count": 18,
   "metadata": {
    "colab": {
     "base_uri": "https://localhost:8080/"
    },
    "id": "F62cImd7A6id",
    "outputId": "29083c28-aed1-4069-bc9e-79e7c4b0772c"
   },
   "outputs": [
    {
     "name": "stdout",
     "output_type": "stream",
     "text": [
      "Epoch 1/30\n",
      "938/938 [==============================] - 10s 11ms/step - loss: 2.1279 - accuracy: 0.2396 - val_loss: 1.9469 - val_accuracy: 0.3395\n",
      "Epoch 2/30\n",
      "938/938 [==============================] - 10s 10ms/step - loss: 1.8338 - accuracy: 0.3909 - val_loss: 1.7678 - val_accuracy: 0.4125\n",
      "Epoch 3/30\n",
      "938/938 [==============================] - 10s 10ms/step - loss: 1.6955 - accuracy: 0.4409 - val_loss: 1.6697 - val_accuracy: 0.4432\n",
      "Epoch 4/30\n",
      "938/938 [==============================] - 10s 10ms/step - loss: 1.6127 - accuracy: 0.4643 - val_loss: 1.6058 - val_accuracy: 0.4597\n",
      "Epoch 5/30\n",
      "938/938 [==============================] - 10s 10ms/step - loss: 1.5561 - accuracy: 0.4811 - val_loss: 1.5602 - val_accuracy: 0.4732\n",
      "Epoch 6/30\n",
      "938/938 [==============================] - 10s 10ms/step - loss: 1.5144 - accuracy: 0.4938 - val_loss: 1.5255 - val_accuracy: 0.4810\n",
      "Epoch 7/30\n",
      "938/938 [==============================] - 9s 10ms/step - loss: 1.4816 - accuracy: 0.5047 - val_loss: 1.4996 - val_accuracy: 0.4903\n",
      "Epoch 8/30\n",
      "938/938 [==============================] - 9s 10ms/step - loss: 1.4554 - accuracy: 0.5117 - val_loss: 1.4755 - val_accuracy: 0.4988\n",
      "Epoch 9/30\n",
      "938/938 [==============================] - 10s 10ms/step - loss: 1.4330 - accuracy: 0.5194 - val_loss: 1.4570 - val_accuracy: 0.5027\n",
      "Epoch 10/30\n",
      "938/938 [==============================] - 10s 10ms/step - loss: 1.4143 - accuracy: 0.5236 - val_loss: 1.4414 - val_accuracy: 0.5097\n",
      "Epoch 11/30\n",
      "938/938 [==============================] - 10s 10ms/step - loss: 1.3978 - accuracy: 0.5289 - val_loss: 1.4267 - val_accuracy: 0.5130\n",
      "Epoch 12/30\n",
      "938/938 [==============================] - 10s 10ms/step - loss: 1.3834 - accuracy: 0.5331 - val_loss: 1.4146 - val_accuracy: 0.5188\n",
      "Epoch 13/30\n",
      "938/938 [==============================] - 10s 10ms/step - loss: 1.3703 - accuracy: 0.5376 - val_loss: 1.4028 - val_accuracy: 0.5208\n",
      "Epoch 14/30\n",
      "938/938 [==============================] - 10s 10ms/step - loss: 1.3590 - accuracy: 0.5420 - val_loss: 1.3930 - val_accuracy: 0.5253\n",
      "Epoch 15/30\n",
      "938/938 [==============================] - 10s 10ms/step - loss: 1.3482 - accuracy: 0.5452 - val_loss: 1.3840 - val_accuracy: 0.5278\n",
      "Epoch 16/30\n",
      "938/938 [==============================] - 10s 10ms/step - loss: 1.3386 - accuracy: 0.5489 - val_loss: 1.3766 - val_accuracy: 0.5315\n",
      "Epoch 17/30\n",
      "938/938 [==============================] - 10s 10ms/step - loss: 1.3299 - accuracy: 0.5504 - val_loss: 1.3697 - val_accuracy: 0.5355\n",
      "Epoch 18/30\n",
      "938/938 [==============================] - 10s 10ms/step - loss: 1.3218 - accuracy: 0.5530 - val_loss: 1.3616 - val_accuracy: 0.5387\n",
      "Epoch 19/30\n",
      "938/938 [==============================] - 10s 10ms/step - loss: 1.3140 - accuracy: 0.5553 - val_loss: 1.3548 - val_accuracy: 0.5395\n",
      "Epoch 20/30\n",
      "938/938 [==============================] - 10s 10ms/step - loss: 1.3068 - accuracy: 0.5579 - val_loss: 1.3490 - val_accuracy: 0.5415\n",
      "Epoch 21/30\n",
      "938/938 [==============================] - 10s 10ms/step - loss: 1.3002 - accuracy: 0.5601 - val_loss: 1.3430 - val_accuracy: 0.5440\n",
      "Epoch 22/30\n",
      "938/938 [==============================] - 10s 10ms/step - loss: 1.2941 - accuracy: 0.5610 - val_loss: 1.3376 - val_accuracy: 0.5453\n",
      "Epoch 23/30\n",
      "938/938 [==============================] - 10s 10ms/step - loss: 1.2883 - accuracy: 0.5647 - val_loss: 1.3321 - val_accuracy: 0.5478\n",
      "Epoch 24/30\n",
      "938/938 [==============================] - 10s 10ms/step - loss: 1.2827 - accuracy: 0.5660 - val_loss: 1.3279 - val_accuracy: 0.5490\n",
      "Epoch 25/30\n",
      "938/938 [==============================] - 10s 10ms/step - loss: 1.2774 - accuracy: 0.5685 - val_loss: 1.3237 - val_accuracy: 0.5505\n",
      "Epoch 26/30\n",
      "938/938 [==============================] - 10s 10ms/step - loss: 1.2725 - accuracy: 0.5688 - val_loss: 1.3204 - val_accuracy: 0.5532\n",
      "Epoch 27/30\n",
      "938/938 [==============================] - 10s 10ms/step - loss: 1.2676 - accuracy: 0.5710 - val_loss: 1.3159 - val_accuracy: 0.5530\n",
      "Epoch 28/30\n",
      "938/938 [==============================] - 10s 10ms/step - loss: 1.2632 - accuracy: 0.5723 - val_loss: 1.3127 - val_accuracy: 0.5562\n",
      "Epoch 29/30\n",
      "938/938 [==============================] - 10s 10ms/step - loss: 1.2589 - accuracy: 0.5740 - val_loss: 1.3077 - val_accuracy: 0.5558\n",
      "Epoch 30/30\n",
      "938/938 [==============================] - 10s 10ms/step - loss: 1.2546 - accuracy: 0.5753 - val_loss: 1.3062 - val_accuracy: 0.5552\n"
     ]
    }
   ],
   "source": [
    "# PARA VOCÊ FAZER: compilação e treinamento da RNA usando o método Adam\n",
    "\n",
    "# Configuração do otimizador\n",
    "# Inclua seu código aqui\n",
    "#\n",
    "\n",
    "# Treinamento da RNA\n",
    "# Inclua seu código aqui\n",
    "#\n"
   ]
  },
  {
   "cell_type": "markdown",
   "metadata": {
    "id": "hB85QbuRHPi0"
   },
   "source": [
    "**Saída esperada:**\n",
    "\n",
    "    Epoch 1/50\n",
    "    938/938 [==============================] - 10s 11ms/step - loss: 1.7721 - accuracy: 0.4693 - val_loss: 1.5760 - val_accuracy: 0.5077\n",
    "    .\n",
    "    .\n",
    "    .\n",
    "    Epoch 50/50\n",
    "    938/938 [==============================] - 10s 10ms/step - loss: 1.3133 - accuracy: 0.5791 - val_loss: 1.3486 - val_accuracy: 0.5675"
   ]
  },
  {
   "cell_type": "markdown",
   "metadata": {
    "id": "ekN_kQiFA6ig"
   },
   "source": [
    "### Visualização dos resultados e cálculo do custo e da métrica\n",
    "\n",
    "Execute a célula abaixo para fazer os gráficos da função de custo e da métrica durante o treinamento e calcular os valores do custo e da exatidão para os dados de treinamento, validação e teste."
   ]
  },
  {
   "cell_type": "code",
   "execution_count": 19,
   "metadata": {
    "colab": {
     "base_uri": "https://localhost:8080/",
     "height": 630
    },
    "id": "kHgi-I7eA6ig",
    "outputId": "a4f8e61b-e7eb-4911-da2c-0d28ca6639c6"
   },
   "outputs": [
    {
     "data": {
      "image/png": "[encoded data removed]",
      "text/plain": [
       "<Figure size 432x288 with 1 Axes>"
      ]
     },
     "metadata": {
      "needs_background": "light",
      "tags": []
     },
     "output_type": "display_data"
    },
    {
     "data": {
      "image/png": "[encoded data removed]",
      "text/plain": [
       "<Figure size 432x288 with 1 Axes>"
      ]
     },
     "metadata": {
      "needs_background": "light",
      "tags": []
     },
     "output_type": "display_data"
    },
    {
     "name": "stdout",
     "output_type": "stream",
     "text": [
      "938/938 [==============================] - 8s 8ms/step - loss: 1.2515 - accuracy: 0.5759\n",
      "188/188 [==============================] - 2s 8ms/step - loss: 1.3062 - accuracy: 0.5552\n",
      "188/188 [==============================] - 2s 8ms/step - loss: 1.3020 - accuracy: 0.5550\n"
     ]
    }
   ],
   "source": [
    "# PARA VOCÊ FAZER: visualização e avaliação dos resultados\n",
    "\n",
    "# Gráfico do processo de treinamento (use a função plot_results_train)\n",
    "# Inclua seu código aqui\n",
    "#\n",
    "\n",
    "#Calculo do custo e exatidão para os dados de treinamento, validação e teste\n",
    "# Inclua seu código aqui\n",
    "#\n"
   ]
  },
  {
   "cell_type": "markdown",
   "metadata": {
    "id": "jBezPo2sHdVZ"
   },
   "source": [
    "**Saída esperada:**\n",
    "\n",
    "    938/938 [==============================] - 8s 8ms/step - loss: 1.2792 - accuracy: 0.5882\n",
    "    188/188 [==============================] - 2s 8ms/step - loss: 1.3486 - accuracy: 0.5675\n",
    "    188/188 [==============================] - 2s 8ms/step - loss: 1.3712 - accuracy: 0.5590"
   ]
  },
  {
   "cell_type": "markdown",
   "metadata": {
    "id": "9HEuR1pzA6ii"
   },
   "source": [
    "### Análise dos resultados\n",
    "\n",
    "Pelos gráficos e valores da função de custo e da métrica para os dados de treinamento, validação e teste você deve observar que o treinamento e os resultados obtidos com essa RNA é praticamente igual ao obtido pelo método de extração de características. Isso era de se esperar porque não alteramos a parte convolucional da `rna_base`, assim, as características extraídas das imagens são exatamente iguais nos dois casos e como a parte densa de classificação dos dois métodos tem as mesmas caraterísticas, o resultado não pode ser diferente nos dois casos.\n",
    "\n",
    "Para que seja possível obter resultados melhores com essa nova RNA temos que fazer a sua sintonia fina, ou seja, temos que retreinar a parte final da `rna_base` para ela se ajustar melhor aos novos dados."
   ]
  },
  {
   "cell_type": "markdown",
   "metadata": {
    "id": "g83jlWv2iBY7"
   },
   "source": [
    "### Exercício #13: Descongelamento dos parâmetros do último bloco da `rna_base`\n",
    "\n",
    "Na célula abaixo crie um código que descongela as camadas convolucionais do último bloco da `rna_base` (`block_5`). Note que para isso você precisa saber os “nomes” das várias camadas da RNA. Verifique o nome da primmeira camada do último bloco da rna_base para incluir como um sinal para iniciar o descongelamento das camadas (ver notas de aula). "
   ]
  },
  {
   "cell_type": "code",
   "execution_count": 20,
   "metadata": {
    "colab": {
     "base_uri": "https://localhost:8080/"
    },
    "id": "CLpcP-wxiBY8",
    "outputId": "a49242f1-7c54-42af-85f8-8880c4b339f5"
   },
   "outputs": [
    {
     "name": "stdout",
     "output_type": "stream",
     "text": [
      "Número de parâmetros treináveis após o descongelamento = 8\n"
     ]
    }
   ],
   "source": [
    "# PARA VOCÊ FAZER: descongelamento das camadas convolucionais do block5.\n",
    "\n",
    "# Descongela todas as camadas da rna_base\n",
    "# Inclua seu código aqui\n",
    "#\n",
    "\n",
    "# Percorre camadas da rna_base procurando pelo 5º bloco\n",
    "# Inclua seu código aqui\n",
    "#\n",
    "\n",
    "# Número de parâmetros a serem treinados após o descongelamento parcial\n",
    "print('Número de parâmetros treináveis após o descongelamento =', len(rna.trainable_weights)) "
   ]
  },
  {
   "cell_type": "markdown",
   "metadata": {
    "id": "b_grJkaiiBY-"
   },
   "source": [
    "**Saída esperada:**\n",
    "\n",
    "    Número de parâmetros treináveis após o descongelamento = 8\n",
    "\n",
    "**Observação:** No treinamento da sua RNA 10 tensores de parâmetros serão treinados. Sendo que 6 pretencem às 3 últimas camadas convolucionais da `rna_base` (3 tensores de pesos dos filtros e 3 tensores de viéses) e 2 pertencem à parte de classificação da rede.\n"
   ]
  },
  {
   "cell_type": "markdown",
   "metadata": {
    "id": "z-n6f7iUiBY-"
   },
   "source": [
    "### Exercício #14: Sintonia fina da RNA completa\n",
    "\n",
    "Agora a RNA está pronta para ser retreinada e sintonizada para o novo problema. Lembre-se de que a sintonia fina deve ser realizada com uma taxa de aprendizado muito pequena, porque se deseja limitar o valor das modificações das camadas convolucionais que estão sendo ajustadas. Atualizações muito grande dos parâmetros podem destruir completamente o treinamento original.\n",
    "\n",
    "Agora você vai compilar e treinar a sua RNA usando os seguinte hiperparâmetros:\n",
    "\n",
    "- método Adam;\n",
    "- taxa de aprendizagem = 1e-05;\n",
    "- número de épocas = 30;\n",
    "- verbose = 1.\n",
    "\n",
    "**Observação:** Esse treinamento deve levar vários minutos."
   ]
  },
  {
   "cell_type": "code",
   "execution_count": 21,
   "metadata": {
    "colab": {
     "base_uri": "https://localhost:8080/"
    },
    "id": "e72Px2F8iBY_",
    "outputId": "83419e44-0ae7-4720-8f8d-163203d26c43"
   },
   "outputs": [
    {
     "name": "stdout",
     "output_type": "stream",
     "text": [
      "Epoch 1/30\n",
      "938/938 [==============================] - 16s 17ms/step - loss: 1.0670 - accuracy: 0.6294 - val_loss: 0.9991 - val_accuracy: 0.6532\n",
      "Epoch 2/30\n",
      "938/938 [==============================] - 16s 17ms/step - loss: 0.8507 - accuracy: 0.7035 - val_loss: 0.9172 - val_accuracy: 0.6817\n",
      "Epoch 3/30\n",
      "938/938 [==============================] - 16s 17ms/step - loss: 0.7332 - accuracy: 0.7461 - val_loss: 0.8799 - val_accuracy: 0.6957\n",
      "Epoch 4/30\n",
      "938/938 [==============================] - 16s 17ms/step - loss: 0.6473 - accuracy: 0.7754 - val_loss: 0.8466 - val_accuracy: 0.7078\n",
      "Epoch 5/30\n",
      "938/938 [==============================] - 16s 17ms/step - loss: 0.5693 - accuracy: 0.8046 - val_loss: 0.8369 - val_accuracy: 0.7093\n",
      "Epoch 6/30\n",
      "938/938 [==============================] - 16s 17ms/step - loss: 0.5075 - accuracy: 0.8285 - val_loss: 0.8184 - val_accuracy: 0.7183\n",
      "Epoch 7/30\n",
      "938/938 [==============================] - 16s 17ms/step - loss: 0.4492 - accuracy: 0.8511 - val_loss: 0.8244 - val_accuracy: 0.7227\n",
      "Epoch 8/30\n",
      "938/938 [==============================] - 16s 17ms/step - loss: 0.3955 - accuracy: 0.8723 - val_loss: 0.8263 - val_accuracy: 0.7257\n",
      "Epoch 9/30\n",
      "938/938 [==============================] - 16s 17ms/step - loss: 0.3498 - accuracy: 0.8905 - val_loss: 0.8212 - val_accuracy: 0.7295\n",
      "Epoch 10/30\n",
      "938/938 [==============================] - 16s 17ms/step - loss: 0.3082 - accuracy: 0.9051 - val_loss: 0.8496 - val_accuracy: 0.7217\n",
      "Epoch 11/30\n",
      "938/938 [==============================] - 16s 17ms/step - loss: 0.2675 - accuracy: 0.9223 - val_loss: 0.8414 - val_accuracy: 0.7318\n",
      "Epoch 12/30\n",
      "938/938 [==============================] - 16s 17ms/step - loss: 0.2312 - accuracy: 0.9357 - val_loss: 0.8478 - val_accuracy: 0.7288\n",
      "Epoch 13/30\n",
      "938/938 [==============================] - 16s 17ms/step - loss: 0.1991 - accuracy: 0.9484 - val_loss: 0.8904 - val_accuracy: 0.7252\n",
      "Epoch 14/30\n",
      "938/938 [==============================] - 16s 17ms/step - loss: 0.1703 - accuracy: 0.9588 - val_loss: 0.8883 - val_accuracy: 0.7258\n",
      "Epoch 15/30\n",
      "938/938 [==============================] - 16s 17ms/step - loss: 0.1436 - accuracy: 0.9680 - val_loss: 0.8974 - val_accuracy: 0.7303\n",
      "Epoch 16/30\n",
      "938/938 [==============================] - 16s 17ms/step - loss: 0.1204 - accuracy: 0.9750 - val_loss: 0.9358 - val_accuracy: 0.7310\n",
      "Epoch 17/30\n",
      "938/938 [==============================] - 16s 17ms/step - loss: 0.0997 - accuracy: 0.9825 - val_loss: 0.9873 - val_accuracy: 0.7247\n",
      "Epoch 18/30\n",
      "938/938 [==============================] - 16s 17ms/step - loss: 0.0846 - accuracy: 0.9863 - val_loss: 0.9714 - val_accuracy: 0.7332\n",
      "Epoch 19/30\n",
      "938/938 [==============================] - 16s 17ms/step - loss: 0.0666 - accuracy: 0.9913 - val_loss: 1.0259 - val_accuracy: 0.7272\n",
      "Epoch 20/30\n",
      "938/938 [==============================] - 16s 17ms/step - loss: 0.0572 - accuracy: 0.9923 - val_loss: 1.0284 - val_accuracy: 0.7342\n",
      "Epoch 21/30\n",
      "938/938 [==============================] - 16s 17ms/step - loss: 0.0440 - accuracy: 0.9964 - val_loss: 1.0632 - val_accuracy: 0.7282\n",
      "Epoch 22/30\n",
      "938/938 [==============================] - 16s 17ms/step - loss: 0.0355 - accuracy: 0.9971 - val_loss: 1.1485 - val_accuracy: 0.7252\n",
      "Epoch 23/30\n",
      "938/938 [==============================] - 16s 17ms/step - loss: 0.0294 - accuracy: 0.9978 - val_loss: 1.1300 - val_accuracy: 0.7305\n",
      "Epoch 24/30\n",
      "938/938 [==============================] - 16s 17ms/step - loss: 0.0229 - accuracy: 0.9988 - val_loss: 1.2578 - val_accuracy: 0.7193\n",
      "Epoch 25/30\n",
      "938/938 [==============================] - 16s 17ms/step - loss: 0.0228 - accuracy: 0.9981 - val_loss: 1.2358 - val_accuracy: 0.7317\n",
      "Epoch 26/30\n",
      "938/938 [==============================] - 16s 17ms/step - loss: 0.0176 - accuracy: 0.9985 - val_loss: 1.2999 - val_accuracy: 0.7290\n",
      "Epoch 27/30\n",
      "938/938 [==============================] - 16s 17ms/step - loss: 0.0124 - accuracy: 0.9996 - val_loss: 1.3406 - val_accuracy: 0.7228\n",
      "Epoch 28/30\n",
      "938/938 [==============================] - 16s 17ms/step - loss: 0.0212 - accuracy: 0.9961 - val_loss: 1.2980 - val_accuracy: 0.7300\n",
      "Epoch 29/30\n",
      "938/938 [==============================] - 16s 17ms/step - loss: 0.0073 - accuracy: 1.0000 - val_loss: 1.3433 - val_accuracy: 0.7363\n",
      "Epoch 30/30\n",
      "938/938 [==============================] - 16s 17ms/step - loss: 0.0043 - accuracy: 1.0000 - val_loss: 1.3876 - val_accuracy: 0.7368\n"
     ]
    }
   ],
   "source": [
    "# PARA VOCÊ FAZER: compilação e treinamento da RNA usando o método Adam\n",
    "\n",
    "# Configuração do otimizador\n",
    "# Inclua seu código aqui\n",
    "#\n",
    "\n",
    "# Treinamento da RNA\n",
    "# Inclua seu código aqui\n",
    "#\n"
   ]
  },
  {
   "cell_type": "markdown",
   "metadata": {
    "id": "kgG20OMXiBZC"
   },
   "source": [
    "**Saída esperada:**\n",
    "\n",
    "    Epoch 1/30\n",
    "    938/938 [==============================] - 16s 17ms/step - loss: 1.1222 - accuracy: 0.6430 - val_loss: 1.0759 - val_accuracy: 0.6593\n",
    "    .\n",
    "    .\n",
    "    .\n",
    "    Epoch 30/30\n",
    "    938/938 [==============================] - 16s 17ms/step - loss: 0.0565 - accuracy: 0.9861 - val_loss: 1.2857 - val_accuracy: 0.7338"
   ]
  },
  {
   "cell_type": "markdown",
   "metadata": {
    "id": "JxDKHZAFiBZC"
   },
   "source": [
    "### Visualização dos resultados\n",
    "\n",
    "Execute a célula a seguir para fazer os gráficos da função de custo e da métrica para os dados de treinamento e validação."
   ]
  },
  {
   "cell_type": "code",
   "execution_count": 22,
   "metadata": {
    "colab": {
     "base_uri": "https://localhost:8080/",
     "height": 576
    },
    "id": "Mcgh5jOCiBZC",
    "outputId": "c2228d19-ab6b-438d-deaf-4880144b397e"
   },
   "outputs": [
    {
     "data": {
      "image/png": "[encoded data removed]",
      "text/plain": [
       "<Figure size 432x288 with 1 Axes>"
      ]
     },
     "metadata": {
      "needs_background": "light",
      "tags": []
     },
     "output_type": "display_data"
    },
    {
     "data": {
      "image/png": "[encoded data removed]",
      "text/plain": [
       "<Figure size 432x288 with 1 Axes>"
      ]
     },
     "metadata": {
      "needs_background": "light",
      "tags": []
     },
     "output_type": "display_data"
    }
   ],
   "source": [
    "# Gráfico do processo de treinamento\n",
    "plot_results_train(history)"
   ]
  },
  {
   "cell_type": "markdown",
   "metadata": {
    "id": "dYnLsrBXiBZF"
   },
   "source": [
    "Execute a célula abaixo para calcular os valores do custo e da exatidão para os dados de treinamento, validação e teste."
   ]
  },
  {
   "cell_type": "code",
   "execution_count": 23,
   "metadata": {
    "colab": {
     "base_uri": "https://localhost:8080/"
    },
    "id": "U47GE5dhiBZF",
    "outputId": "e7bf6c47-dbf8-433b-b7dc-5744982c6467"
   },
   "outputs": [
    {
     "name": "stdout",
     "output_type": "stream",
     "text": [
      "938/938 [==============================] - 8s 8ms/step - loss: 0.0035 - accuracy: 1.0000\n",
      "188/188 [==============================] - 2s 8ms/step - loss: 1.3876 - accuracy: 0.7368\n",
      "188/188 [==============================] - 2s 8ms/step - loss: 1.3889 - accuracy: 0.7442\n"
     ]
    }
   ],
   "source": [
    "#Calculo do custo e exatidão para os dados de treinamento, validação e teste\n",
    "custo_e_metricas_train = rna.evaluate(x_train, y_train_hot)\n",
    "custo_e_metricas_val = rna.evaluate(x_val, y_val_hot)\n",
    "custo_e_metricas_test = rna.evaluate(x_test, y_test_hot)"
   ]
  },
  {
   "cell_type": "markdown",
   "metadata": {
    "id": "WYcwz_F0iBZI"
   },
   "source": [
    "**Saída esperada:**\n",
    "\n",
    "    938/938 [==============================] - 8s 8ms/step - loss: 0.0308 - accuracy: 0.9971\n",
    "    188/188 [==============================] - 2s 8ms/step - loss: 1.5541 - accuracy: 0.7290\n",
    "    188/188 [==============================] - 2s 8ms/step - loss: 1.5556 - accuracy: 0.7380\n",
    "\n"
   ]
  },
  {
   "cell_type": "markdown",
   "metadata": {
    "id": "uNmHaZSliBZI"
   },
   "source": [
    "### Análise dos resultados ###\n",
    "\n",
    "- Pode-se observar que o treinamento não inicia do zero pois as camadas densas da RNA já foram pré-treinadas e agora somente estão sendo ajustados os parâmetros das últimas camadas convolucionais da `rna_base` e retreinando as camadas densas.\n",
    "- Uma exatidão de cerca de 73% para os dados de validação e de teste represetam um resultado não muito bom.\n",
    "- Observa-se que os resultados da exatidão para os dados de teste melhoraram bastante, mas não o suficiente em razão do problema de overfitting.\n",
    "\n",
    "Observa-se que para eliminar esse problema de overfitting teríamos que introduzir regularização L2 e/ou dropout nas camadas convolucionais que retreinamos. Se isso fosse feito certamente conseguiríamos resultados para o conjunto de teste da ordem de 99%, como os obtidos para o conjunto de treinamento."
   ]
  },
  {
   "cell_type": "markdown",
   "metadata": {
    "id": "e50q4MXCiBZI"
   },
   "source": [
    "### Exercício #15: Verificação dos resultados\n",
    "\n",
    "Na célula abaixo calcule a previsões da sua RNA para as imagens dos dados de teste e depois verifique se algumas dessas previsões estão corretas fazendo o gráfico das classes previstas e reais dos primeiros 150 exemplos de teste.\n",
    "\n",
    "Note que a previsão da RNA é um vetor de 10 elementos com as probabilidades da imagem mostrar os seis sinais. Para determinar a classe prevista deve-se transformar esse vetor em um número inteiro de 0 a 9, que representa o sinal sendo mostrado. Para fazer essa transformação use a função numpy `argmax(y_prev, axis=?)`, onde `y_prev` é o tensor com as saídas previstas pela RNA. Em qual eixo você deve calcular o índice da maior probabilidade?"
   ]
  },
  {
   "cell_type": "code",
   "execution_count": 24,
   "metadata": {
    "colab": {
     "base_uri": "https://localhost:8080/",
     "height": 404
    },
    "id": "vqbvcvIYiBZJ",
    "outputId": "b5e7b97a-b1ab-4fad-eb01-a52e575200ee",
    "scrolled": true
   },
   "outputs": [
    {
     "data": {
      "image/png": "[encoded data removed]",
      "text/plain": [
       "<Figure size 1152x432 with 1 Axes>"
      ]
     },
     "metadata": {
      "needs_background": "light",
      "tags": []
     },
     "output_type": "display_data"
    }
   ],
   "source": [
    "# PARA VOCÊ FAZER: cálculo das classes previstas pela RNA com dropout\n",
    "\n",
    "# Calculo das previsões da RNA\n",
    "# Inclua seu código aqui\n",
    "#\n",
    "\n",
    "# Cálculo das classes previstas\n",
    "# Inclua seu código aqui\n",
    "#\n",
    "\n",
    "# Gráfico das classes reais e previstas\n",
    "# Fazer o gráfico das classes reais e previstas dos 150 primeiros exemplos de teste\n",
    "# Inclua seu código aqui\n",
    "#\n"
   ]
  },
  {
   "cell_type": "markdown",
   "metadata": {},
   "source": [
    "**Saída esperada:**\n",
    "\n",
    "<img src=\"Classes_previstas.png\">"
   ]
  },
  {
   "cell_type": "markdown",
   "metadata": {
    "id": "nClzkL5qiBZL"
   },
   "source": [
    "**Comentários:**\n",
    "\n",
    "- Uma previsão errada de classe pode ser dectada pelos círculos vermelhos, pois quando a classe prevista é igual à classe real o círculo azul é colocado em cima do vermelho tapando-o.\n",
    "\n",
    "- No gráfico devem aparecer mais círculos azuis do que vermelhos indicando que existem mais acertos do que erros na previsão das classes.\n",
    "\n",
    "\n",
    "\n",
    "**Visualização de previsões erradas:**\n",
    "\n",
    "Use o gráfico acima e escolha um exemplo onde a previsão da sua RNA está errada. Na célula abaixo troque a variável `index` e execute-a para verificar se o exemplo tem alguma particularidade que dificulta a sua RNA de prever corretamente a classe desse exemplo."
   ]
  },
  {
   "cell_type": "code",
   "execution_count": 25,
   "metadata": {
    "colab": {
     "base_uri": "https://localhost:8080/",
     "height": 301
    },
    "id": "_AcHnxbXiBZM",
    "outputId": "50c5502f-d1d4-4b93-aea2-f99a9cc0d6ae"
   },
   "outputs": [
    {
     "name": "stdout",
     "output_type": "stream",
     "text": [
      "classe prevista = 3\n",
      "classe real = 3\n"
     ]
    },
    {
     "data": {
      "image/png": "[encoded data removed]",
      "text/plain": [
       "<Figure size 432x288 with 1 Axes>"
      ]
     },
     "metadata": {
      "needs_background": "light",
      "tags": []
     },
     "output_type": "display_data"
    }
   ],
   "source": [
    "# Cálculo das classes previstas pela RNA com dropout\n",
    "\n",
    "# Exemplo de uma imagem dos dados de teste\n",
    "index = 103\n",
    "plt.imshow(x_test_orig[index])\n",
    "print (\"classe prevista = \" + str(np.squeeze(classe[index])))\n",
    "print (\"classe real = \" + str(np.squeeze(y_test[index])))\n"
   ]
  },
  {
   "cell_type": "markdown",
   "metadata": {
    "id": "UyDOquPiiBZO"
   },
   "source": [
    "### Conclusões\n",
    "\n",
    "Os resultados obtidos não foram muito bons, por causa de problemas de overfitting. Para melhorar esses resultados teríamos que resolver o problema de overfitting aplicando dropout e/ou regularização nas camadas convolucionais retreinadas.\n",
    "\n",
    "Apesar dos resultados não muito satisfatórios, observa-se o seguinte:\n",
    "\n",
    "- Transferência de aprendizado consiste de uma abordagem fácil e altamente eficiente para desenvolver uma nova aplicação.\n",
    "\n",
    "\n",
    "- Transferência de aprendizado é muito eficiente, principalmente quando o banco de dados disponível é pequeno.\n",
    "\n",
    "\n",
    "- Existem dois métodos para usar uma RNA pré-treinada. Qualquer um dos dois métodos é eficiente para obter sistemas com bom desempenho, mesmo quando o conjunto de dados é pequeno.\n",
    "\n",
    "\n",
    "- A transferência de treinamento realizada com treinamento parcial com a técnica de sintonia fina é muito eficiente para obter sistemas com alto desempenho, mesmo quando o conjunto de dados é pequeno."
   ]
  }
 ],
 "metadata": {
  "accelerator": "GPU",
  "colab": {
   "name": "T2_Transferência_aprendizado_sol2.ipynb",
   "provenance": []
  },
  "coursera": {
   "course_slug": "deep-neural-network",
   "graded_item_id": "SXQaI",
   "launcher_item_id": "UAwhh"
  },
  "kernelspec": {
   "display_name": "Python 3",
   "language": "python",
   "name": "python3"
  },
  "language_info": {
   "codemirror_mode": {
    "name": "ipython",
    "version": 3
   },
   "file_extension": ".py",
   "mimetype": "text/x-python",
   "name": "python",
   "nbconvert_exporter": "python",
   "pygments_lexer": "ipython3",
   "version": "3.7.4"
  }
 },
 "nbformat": 4,
 "nbformat_minor": 1
}
